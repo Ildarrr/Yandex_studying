{
 "cells": [
  {
   "cell_type": "markdown",
   "metadata": {},
   "source": [
    "# Определение перспективного тарифа для телеком-компании"
   ]
  },
  {
   "cell_type": "markdown",
   "metadata": {},
   "source": [
    "<b>Описание проекта</b>\n",
    "<br>\n",
    "<br>\n",
    "Вы аналитик компании «Мегалайн» — федерального оператора сотовой связи. Клиентам предлагают два тарифных плана: «Смарт» и «Ультра». Чтобы скорректировать рекламный бюджет, коммерческий департамент хочет понять, какой тариф приносит больше денег.\n",
    "Вам предстоит сделать предварительный анализ тарифов на небольшой выборке клиентов. В вашем распоряжении данные 500 пользователей «Мегалайна»: кто они, откуда, каким тарифом пользуются, сколько звонков и сообщений каждый отправил за 2018 год. \n",
    "<br>\n",
    "<br>\n",
    "<b>Цель проекта: </b>проанализировать поведение клиентов и сделать вывод — какой тариф лучше.\n",
    "<br>\n",
    "\n",
    "<br>\n",
    "<b>Примечание: </b>\n",
    "<br>\n",
    "\n",
    "«Мегалайн» всегда округляет секунды до минут, а мегабайты — до гигабайт. Каждый звонок округляется отдельно: даже если он длился всего 1 секунду, будет засчитан как 1 минута.\n",
    "Для веб-трафика отдельные сессии не считаются. Вместо этого общая сумма за месяц округляется в бо́льшую сторону. Если абонент использует 1025 мегабайт в этом месяце, с него возьмут плату за 2 гигабайта."
   ]
  },
  {
   "cell_type": "markdown",
   "metadata": {},
   "source": [
    "## Изучение данных из файлов"
   ]
  },
  {
   "cell_type": "code",
   "execution_count": 1,
   "metadata": {},
   "outputs": [],
   "source": [
    "#подключим необходимые для работы библиотеки\n",
    "\n",
    "import pandas as pd\n",
    "import numpy as np\n",
    "import matplotlib.pyplot as plt\n",
    "from math import ceil\n",
    "import warnings\n",
    "warnings.simplefilter(\"ignore\")\n",
    "from scipy import stats as st\n",
    "import seaborn as sns\n",
    "\n",
    "pd.options.display.float_format = '{:,.2f}'.format"
   ]
  },
  {
   "cell_type": "code",
   "execution_count": 2,
   "metadata": {},
   "outputs": [],
   "source": [
    "#прочитаем исходные датафреймы\n",
    "\n",
    "try:\n",
    "    calls = pd.read_csv('C:/Users//datasets/calls.csv', sep=',') \n",
    "    internet = pd.read_csv('C:/Users//datasets/internet.csv', sep=',')\n",
    "    messages = pd.read_csv('C:/Users//datasets/messages.csv', sep=',')\n",
    "    tariffs = pd.read_csv('C:/Users//datasets/tariffs.csv', sep=',')\n",
    "    users = pd.read_csv('C:/Users//datasets/users.csv', sep=',')\n",
    "except:\n",
    "    calls = pd.read_csv('/datasets/calls.csv', sep=',')\n",
    "    internet = pd.read_csv('/datasets/internet.csv', sep=',')\n",
    "    messages = pd.read_csv('/datasets/messages.csv', sep=',')\n",
    "    tariffs = pd.read_csv('/datasets/tariffs.csv', sep=',')\n",
    "    users = pd.read_csv('/datasets/users.csv', sep=',')"
   ]
  },
  {
   "cell_type": "code",
   "execution_count": 3,
   "metadata": {},
   "outputs": [
    {
     "data": {
      "text/plain": [
       "'calls'"
      ]
     },
     "metadata": {},
     "output_type": "display_data"
    },
    {
     "name": "stdout",
     "output_type": "stream",
     "text": [
      "Первые 2 строки датафрейма:\n"
     ]
    },
    {
     "data": {
      "text/html": [
       "<div>\n",
       "<style scoped>\n",
       "    .dataframe tbody tr th:only-of-type {\n",
       "        vertical-align: middle;\n",
       "    }\n",
       "\n",
       "    .dataframe tbody tr th {\n",
       "        vertical-align: top;\n",
       "    }\n",
       "\n",
       "    .dataframe thead th {\n",
       "        text-align: right;\n",
       "    }\n",
       "</style>\n",
       "<table border=\"1\" class=\"dataframe\">\n",
       "  <thead>\n",
       "    <tr style=\"text-align: right;\">\n",
       "      <th></th>\n",
       "      <th>id</th>\n",
       "      <th>call_date</th>\n",
       "      <th>duration</th>\n",
       "      <th>user_id</th>\n",
       "    </tr>\n",
       "  </thead>\n",
       "  <tbody>\n",
       "    <tr>\n",
       "      <td>0</td>\n",
       "      <td>1000_0</td>\n",
       "      <td>2018-07-25</td>\n",
       "      <td>0.00</td>\n",
       "      <td>1000</td>\n",
       "    </tr>\n",
       "    <tr>\n",
       "      <td>1</td>\n",
       "      <td>1000_1</td>\n",
       "      <td>2018-08-17</td>\n",
       "      <td>0.00</td>\n",
       "      <td>1000</td>\n",
       "    </tr>\n",
       "  </tbody>\n",
       "</table>\n",
       "</div>"
      ],
      "text/plain": [
       "       id   call_date  duration  user_id\n",
       "0  1000_0  2018-07-25      0.00     1000\n",
       "1  1000_1  2018-08-17      0.00     1000"
      ]
     },
     "metadata": {},
     "output_type": "display_data"
    },
    {
     "name": "stdout",
     "output_type": "stream",
     "text": [
      "Основная информация о датафрейме:\n",
      "<class 'pandas.core.frame.DataFrame'>\n",
      "RangeIndex: 202607 entries, 0 to 202606\n",
      "Data columns (total 4 columns):\n",
      "id           202607 non-null object\n",
      "call_date    202607 non-null object\n",
      "duration     202607 non-null float64\n",
      "user_id      202607 non-null int64\n",
      "dtypes: float64(1), int64(1), object(2)\n",
      "memory usage: 6.2+ MB\n"
     ]
    },
    {
     "data": {
      "text/plain": [
       "None"
      ]
     },
     "metadata": {},
     "output_type": "display_data"
    },
    {
     "name": "stdout",
     "output_type": "stream",
     "text": [
      "Доля пропущенных данных в датафрейме:\n"
     ]
    },
    {
     "data": {
      "text/plain": [
       "id          0.00\n",
       "call_date   0.00\n",
       "duration    0.00\n",
       "user_id     0.00\n",
       "dtype: float64"
      ]
     },
     "metadata": {},
     "output_type": "display_data"
    },
    {
     "name": "stdout",
     "output_type": "stream",
     "text": [
      "Количество дубликатов: \n"
     ]
    },
    {
     "data": {
      "text/plain": [
       "0"
      ]
     },
     "metadata": {},
     "output_type": "display_data"
    },
    {
     "data": {
      "text/plain": [
       "'internet'"
      ]
     },
     "metadata": {},
     "output_type": "display_data"
    },
    {
     "name": "stdout",
     "output_type": "stream",
     "text": [
      "Первые 2 строки датафрейма:\n"
     ]
    },
    {
     "data": {
      "text/html": [
       "<div>\n",
       "<style scoped>\n",
       "    .dataframe tbody tr th:only-of-type {\n",
       "        vertical-align: middle;\n",
       "    }\n",
       "\n",
       "    .dataframe tbody tr th {\n",
       "        vertical-align: top;\n",
       "    }\n",
       "\n",
       "    .dataframe thead th {\n",
       "        text-align: right;\n",
       "    }\n",
       "</style>\n",
       "<table border=\"1\" class=\"dataframe\">\n",
       "  <thead>\n",
       "    <tr style=\"text-align: right;\">\n",
       "      <th></th>\n",
       "      <th>Unnamed: 0</th>\n",
       "      <th>id</th>\n",
       "      <th>mb_used</th>\n",
       "      <th>session_date</th>\n",
       "      <th>user_id</th>\n",
       "    </tr>\n",
       "  </thead>\n",
       "  <tbody>\n",
       "    <tr>\n",
       "      <td>0</td>\n",
       "      <td>0</td>\n",
       "      <td>1000_0</td>\n",
       "      <td>112.95</td>\n",
       "      <td>2018-11-25</td>\n",
       "      <td>1000</td>\n",
       "    </tr>\n",
       "    <tr>\n",
       "      <td>1</td>\n",
       "      <td>1</td>\n",
       "      <td>1000_1</td>\n",
       "      <td>1,052.81</td>\n",
       "      <td>2018-09-07</td>\n",
       "      <td>1000</td>\n",
       "    </tr>\n",
       "  </tbody>\n",
       "</table>\n",
       "</div>"
      ],
      "text/plain": [
       "   Unnamed: 0      id  mb_used session_date  user_id\n",
       "0           0  1000_0   112.95   2018-11-25     1000\n",
       "1           1  1000_1 1,052.81   2018-09-07     1000"
      ]
     },
     "metadata": {},
     "output_type": "display_data"
    },
    {
     "name": "stdout",
     "output_type": "stream",
     "text": [
      "Основная информация о датафрейме:\n",
      "<class 'pandas.core.frame.DataFrame'>\n",
      "RangeIndex: 149396 entries, 0 to 149395\n",
      "Data columns (total 5 columns):\n",
      "Unnamed: 0      149396 non-null int64\n",
      "id              149396 non-null object\n",
      "mb_used         149396 non-null float64\n",
      "session_date    149396 non-null object\n",
      "user_id         149396 non-null int64\n",
      "dtypes: float64(1), int64(2), object(2)\n",
      "memory usage: 5.7+ MB\n"
     ]
    },
    {
     "data": {
      "text/plain": [
       "None"
      ]
     },
     "metadata": {},
     "output_type": "display_data"
    },
    {
     "name": "stdout",
     "output_type": "stream",
     "text": [
      "Доля пропущенных данных в датафрейме:\n"
     ]
    },
    {
     "data": {
      "text/plain": [
       "Unnamed: 0     0.00\n",
       "id             0.00\n",
       "mb_used        0.00\n",
       "session_date   0.00\n",
       "user_id        0.00\n",
       "dtype: float64"
      ]
     },
     "metadata": {},
     "output_type": "display_data"
    },
    {
     "name": "stdout",
     "output_type": "stream",
     "text": [
      "Количество дубликатов: \n"
     ]
    },
    {
     "data": {
      "text/plain": [
       "0"
      ]
     },
     "metadata": {},
     "output_type": "display_data"
    },
    {
     "data": {
      "text/plain": [
       "'messages'"
      ]
     },
     "metadata": {},
     "output_type": "display_data"
    },
    {
     "name": "stdout",
     "output_type": "stream",
     "text": [
      "Первые 2 строки датафрейма:\n"
     ]
    },
    {
     "data": {
      "text/html": [
       "<div>\n",
       "<style scoped>\n",
       "    .dataframe tbody tr th:only-of-type {\n",
       "        vertical-align: middle;\n",
       "    }\n",
       "\n",
       "    .dataframe tbody tr th {\n",
       "        vertical-align: top;\n",
       "    }\n",
       "\n",
       "    .dataframe thead th {\n",
       "        text-align: right;\n",
       "    }\n",
       "</style>\n",
       "<table border=\"1\" class=\"dataframe\">\n",
       "  <thead>\n",
       "    <tr style=\"text-align: right;\">\n",
       "      <th></th>\n",
       "      <th>id</th>\n",
       "      <th>message_date</th>\n",
       "      <th>user_id</th>\n",
       "    </tr>\n",
       "  </thead>\n",
       "  <tbody>\n",
       "    <tr>\n",
       "      <td>0</td>\n",
       "      <td>1000_0</td>\n",
       "      <td>2018-06-27</td>\n",
       "      <td>1000</td>\n",
       "    </tr>\n",
       "    <tr>\n",
       "      <td>1</td>\n",
       "      <td>1000_1</td>\n",
       "      <td>2018-10-08</td>\n",
       "      <td>1000</td>\n",
       "    </tr>\n",
       "  </tbody>\n",
       "</table>\n",
       "</div>"
      ],
      "text/plain": [
       "       id message_date  user_id\n",
       "0  1000_0   2018-06-27     1000\n",
       "1  1000_1   2018-10-08     1000"
      ]
     },
     "metadata": {},
     "output_type": "display_data"
    },
    {
     "name": "stdout",
     "output_type": "stream",
     "text": [
      "Основная информация о датафрейме:\n",
      "<class 'pandas.core.frame.DataFrame'>\n",
      "RangeIndex: 123036 entries, 0 to 123035\n",
      "Data columns (total 3 columns):\n",
      "id              123036 non-null object\n",
      "message_date    123036 non-null object\n",
      "user_id         123036 non-null int64\n",
      "dtypes: int64(1), object(2)\n",
      "memory usage: 2.8+ MB\n"
     ]
    },
    {
     "data": {
      "text/plain": [
       "None"
      ]
     },
     "metadata": {},
     "output_type": "display_data"
    },
    {
     "name": "stdout",
     "output_type": "stream",
     "text": [
      "Доля пропущенных данных в датафрейме:\n"
     ]
    },
    {
     "data": {
      "text/plain": [
       "id             0.00\n",
       "message_date   0.00\n",
       "user_id        0.00\n",
       "dtype: float64"
      ]
     },
     "metadata": {},
     "output_type": "display_data"
    },
    {
     "name": "stdout",
     "output_type": "stream",
     "text": [
      "Количество дубликатов: \n"
     ]
    },
    {
     "data": {
      "text/plain": [
       "0"
      ]
     },
     "metadata": {},
     "output_type": "display_data"
    },
    {
     "data": {
      "text/plain": [
       "'tariffs'"
      ]
     },
     "metadata": {},
     "output_type": "display_data"
    },
    {
     "name": "stdout",
     "output_type": "stream",
     "text": [
      "Первые 2 строки датафрейма:\n"
     ]
    },
    {
     "data": {
      "text/html": [
       "<div>\n",
       "<style scoped>\n",
       "    .dataframe tbody tr th:only-of-type {\n",
       "        vertical-align: middle;\n",
       "    }\n",
       "\n",
       "    .dataframe tbody tr th {\n",
       "        vertical-align: top;\n",
       "    }\n",
       "\n",
       "    .dataframe thead th {\n",
       "        text-align: right;\n",
       "    }\n",
       "</style>\n",
       "<table border=\"1\" class=\"dataframe\">\n",
       "  <thead>\n",
       "    <tr style=\"text-align: right;\">\n",
       "      <th></th>\n",
       "      <th>messages_included</th>\n",
       "      <th>mb_per_month_included</th>\n",
       "      <th>minutes_included</th>\n",
       "      <th>rub_monthly_fee</th>\n",
       "      <th>rub_per_gb</th>\n",
       "      <th>rub_per_message</th>\n",
       "      <th>rub_per_minute</th>\n",
       "      <th>tariff_name</th>\n",
       "    </tr>\n",
       "  </thead>\n",
       "  <tbody>\n",
       "    <tr>\n",
       "      <td>0</td>\n",
       "      <td>50</td>\n",
       "      <td>15360</td>\n",
       "      <td>500</td>\n",
       "      <td>550</td>\n",
       "      <td>200</td>\n",
       "      <td>3</td>\n",
       "      <td>3</td>\n",
       "      <td>smart</td>\n",
       "    </tr>\n",
       "    <tr>\n",
       "      <td>1</td>\n",
       "      <td>1000</td>\n",
       "      <td>30720</td>\n",
       "      <td>3000</td>\n",
       "      <td>1950</td>\n",
       "      <td>150</td>\n",
       "      <td>1</td>\n",
       "      <td>1</td>\n",
       "      <td>ultra</td>\n",
       "    </tr>\n",
       "  </tbody>\n",
       "</table>\n",
       "</div>"
      ],
      "text/plain": [
       "   messages_included  mb_per_month_included  minutes_included  \\\n",
       "0                 50                  15360               500   \n",
       "1               1000                  30720              3000   \n",
       "\n",
       "   rub_monthly_fee  rub_per_gb  rub_per_message  rub_per_minute tariff_name  \n",
       "0              550         200                3               3       smart  \n",
       "1             1950         150                1               1       ultra  "
      ]
     },
     "metadata": {},
     "output_type": "display_data"
    },
    {
     "name": "stdout",
     "output_type": "stream",
     "text": [
      "Основная информация о датафрейме:\n",
      "<class 'pandas.core.frame.DataFrame'>\n",
      "RangeIndex: 2 entries, 0 to 1\n",
      "Data columns (total 8 columns):\n",
      "messages_included        2 non-null int64\n",
      "mb_per_month_included    2 non-null int64\n",
      "minutes_included         2 non-null int64\n",
      "rub_monthly_fee          2 non-null int64\n",
      "rub_per_gb               2 non-null int64\n",
      "rub_per_message          2 non-null int64\n",
      "rub_per_minute           2 non-null int64\n",
      "tariff_name              2 non-null object\n",
      "dtypes: int64(7), object(1)\n",
      "memory usage: 256.0+ bytes\n"
     ]
    },
    {
     "data": {
      "text/plain": [
       "None"
      ]
     },
     "metadata": {},
     "output_type": "display_data"
    },
    {
     "name": "stdout",
     "output_type": "stream",
     "text": [
      "Доля пропущенных данных в датафрейме:\n"
     ]
    },
    {
     "data": {
      "text/plain": [
       "messages_included       0.00\n",
       "mb_per_month_included   0.00\n",
       "minutes_included        0.00\n",
       "rub_monthly_fee         0.00\n",
       "rub_per_gb              0.00\n",
       "rub_per_message         0.00\n",
       "rub_per_minute          0.00\n",
       "tariff_name             0.00\n",
       "dtype: float64"
      ]
     },
     "metadata": {},
     "output_type": "display_data"
    },
    {
     "name": "stdout",
     "output_type": "stream",
     "text": [
      "Количество дубликатов: \n"
     ]
    },
    {
     "data": {
      "text/plain": [
       "0"
      ]
     },
     "metadata": {},
     "output_type": "display_data"
    },
    {
     "data": {
      "text/plain": [
       "'users'"
      ]
     },
     "metadata": {},
     "output_type": "display_data"
    },
    {
     "name": "stdout",
     "output_type": "stream",
     "text": [
      "Первые 2 строки датафрейма:\n"
     ]
    },
    {
     "data": {
      "text/html": [
       "<div>\n",
       "<style scoped>\n",
       "    .dataframe tbody tr th:only-of-type {\n",
       "        vertical-align: middle;\n",
       "    }\n",
       "\n",
       "    .dataframe tbody tr th {\n",
       "        vertical-align: top;\n",
       "    }\n",
       "\n",
       "    .dataframe thead th {\n",
       "        text-align: right;\n",
       "    }\n",
       "</style>\n",
       "<table border=\"1\" class=\"dataframe\">\n",
       "  <thead>\n",
       "    <tr style=\"text-align: right;\">\n",
       "      <th></th>\n",
       "      <th>user_id</th>\n",
       "      <th>age</th>\n",
       "      <th>churn_date</th>\n",
       "      <th>city</th>\n",
       "      <th>first_name</th>\n",
       "      <th>last_name</th>\n",
       "      <th>reg_date</th>\n",
       "      <th>tariff</th>\n",
       "    </tr>\n",
       "  </thead>\n",
       "  <tbody>\n",
       "    <tr>\n",
       "      <td>0</td>\n",
       "      <td>1000</td>\n",
       "      <td>52</td>\n",
       "      <td>NaN</td>\n",
       "      <td>Краснодар</td>\n",
       "      <td>Рафаил</td>\n",
       "      <td>Верещагин</td>\n",
       "      <td>2018-05-25</td>\n",
       "      <td>ultra</td>\n",
       "    </tr>\n",
       "    <tr>\n",
       "      <td>1</td>\n",
       "      <td>1001</td>\n",
       "      <td>41</td>\n",
       "      <td>NaN</td>\n",
       "      <td>Москва</td>\n",
       "      <td>Иван</td>\n",
       "      <td>Ежов</td>\n",
       "      <td>2018-11-01</td>\n",
       "      <td>smart</td>\n",
       "    </tr>\n",
       "  </tbody>\n",
       "</table>\n",
       "</div>"
      ],
      "text/plain": [
       "   user_id  age churn_date       city first_name  last_name    reg_date tariff\n",
       "0     1000   52        NaN  Краснодар     Рафаил  Верещагин  2018-05-25  ultra\n",
       "1     1001   41        NaN     Москва       Иван       Ежов  2018-11-01  smart"
      ]
     },
     "metadata": {},
     "output_type": "display_data"
    },
    {
     "name": "stdout",
     "output_type": "stream",
     "text": [
      "Основная информация о датафрейме:\n",
      "<class 'pandas.core.frame.DataFrame'>\n",
      "RangeIndex: 500 entries, 0 to 499\n",
      "Data columns (total 8 columns):\n",
      "user_id       500 non-null int64\n",
      "age           500 non-null int64\n",
      "churn_date    38 non-null object\n",
      "city          500 non-null object\n",
      "first_name    500 non-null object\n",
      "last_name     500 non-null object\n",
      "reg_date      500 non-null object\n",
      "tariff        500 non-null object\n",
      "dtypes: int64(2), object(6)\n",
      "memory usage: 31.4+ KB\n"
     ]
    },
    {
     "data": {
      "text/plain": [
       "None"
      ]
     },
     "metadata": {},
     "output_type": "display_data"
    },
    {
     "name": "stdout",
     "output_type": "stream",
     "text": [
      "Доля пропущенных данных в датафрейме:\n"
     ]
    },
    {
     "data": {
      "text/plain": [
       "user_id      0.00\n",
       "age          0.00\n",
       "churn_date   0.92\n",
       "city         0.00\n",
       "first_name   0.00\n",
       "last_name    0.00\n",
       "reg_date     0.00\n",
       "tariff       0.00\n",
       "dtype: float64"
      ]
     },
     "metadata": {},
     "output_type": "display_data"
    },
    {
     "name": "stdout",
     "output_type": "stream",
     "text": [
      "Количество дубликатов: \n"
     ]
    },
    {
     "data": {
      "text/plain": [
       "0"
      ]
     },
     "metadata": {},
     "output_type": "display_data"
    }
   ],
   "source": [
    "#изучим основную информацию об исходных датафреймах\n",
    "\n",
    "dataframes = [calls, internet, messages, tariffs, users]\n",
    "names = ['calls', 'internet', 'messages', 'tariffs', 'users']\n",
    "\n",
    "count = -1\n",
    "for name in names:\n",
    "    count += 1\n",
    "    display(name)\n",
    "    print('Первые 2 строки датафрейма:')\n",
    "    display(dataframes[count].head(2))\n",
    "    print('Основная информация о датафрейме:')\n",
    "    display(dataframes[count].info())\n",
    "    print('Доля пропущенных данных в датафрейме:')\n",
    "    display(dataframes[count].isna().mean())\n",
    "    print('Количество дубликатов: ')\n",
    "    display(dataframes[count].duplicated().sum())"
   ]
  },
  {
   "cell_type": "markdown",
   "metadata": {},
   "source": [
    "<div class=\"alert alert-info\">\n",
    "<b>Комментарий студента:</b>\n",
    "<br>\n",
    "Изучив данные исходных датафреймов, можно заметить, что практически во всех датафреймах полный набор данных, пропуски имеются только в датафрейме 'users' по столбцу 'churn_date', но это связано с тем, что абоненты еще пользуются услугами мобильного оператора, так что пропуски в данном столбце вполне уместны и не случайны. Также в каждом из датафреймов можно заметить, что столбцу с датой присвоен неверный тип данных. Надо исправить данную ситуацию)\n",
    "</div>"
   ]
  },
  {
   "cell_type": "markdown",
   "metadata": {},
   "source": [
    "<div class=\"alert alert-info\">\n",
    "<b>Комментарий студента:</b>\n",
    "<br>\n",
    "Добавил проверку дубликатов, я ее делал, не стал оставлять в итоговом анализе. Столбец \" Unnamed: 0\" в датасете интернет-трафика тоже видел, он дублирует индексы, не стал его убирать, т.к. в явном виде с данным датафреймом не работаю.\n",
    "</div>"
   ]
  },
  {
   "cell_type": "markdown",
   "metadata": {},
   "source": [
    "## Подготовка данных"
   ]
  },
  {
   "cell_type": "markdown",
   "metadata": {},
   "source": [
    "### Замена типа данных"
   ]
  },
  {
   "cell_type": "code",
   "execution_count": 4,
   "metadata": {},
   "outputs": [],
   "source": [
    "#заменим тип данных по столбцам с датами в каждом датафрейме\n",
    "\n",
    "for dataframe in dataframes:\n",
    "    for i in ['call_date', 'session_date', 'message_date', 'churn_date', 'reg_date']:\n",
    "        if i in dataframe.columns:\n",
    "            dataframe[i] = pd.to_datetime(dataframe[i], format='%Y-%m-%d')"
   ]
  },
  {
   "cell_type": "code",
   "execution_count": 5,
   "metadata": {},
   "outputs": [],
   "source": [
    "#выделим значение месяца в необходимых датафреймах\n",
    "\n",
    "for dataframe in dataframes:\n",
    "    for i in ['call_date', 'session_date', 'message_date']:\n",
    "        if i in dataframe.columns:\n",
    "            dataframe['month'] =  pd.DatetimeIndex(dataframe[i]).month"
   ]
  },
  {
   "cell_type": "code",
   "execution_count": 6,
   "metadata": {},
   "outputs": [
    {
     "data": {
      "text/plain": [
       "'calls'"
      ]
     },
     "metadata": {},
     "output_type": "display_data"
    },
    {
     "name": "stdout",
     "output_type": "stream",
     "text": [
      "<class 'pandas.core.frame.DataFrame'>\n",
      "RangeIndex: 202607 entries, 0 to 202606\n",
      "Data columns (total 5 columns):\n",
      "id           202607 non-null object\n",
      "call_date    202607 non-null datetime64[ns]\n",
      "duration     202607 non-null float64\n",
      "user_id      202607 non-null int64\n",
      "month        202607 non-null int64\n",
      "dtypes: datetime64[ns](1), float64(1), int64(2), object(1)\n",
      "memory usage: 7.7+ MB\n"
     ]
    },
    {
     "data": {
      "text/plain": [
       "None"
      ]
     },
     "metadata": {},
     "output_type": "display_data"
    },
    {
     "data": {
      "text/plain": [
       "'internet'"
      ]
     },
     "metadata": {},
     "output_type": "display_data"
    },
    {
     "name": "stdout",
     "output_type": "stream",
     "text": [
      "<class 'pandas.core.frame.DataFrame'>\n",
      "RangeIndex: 149396 entries, 0 to 149395\n",
      "Data columns (total 6 columns):\n",
      "Unnamed: 0      149396 non-null int64\n",
      "id              149396 non-null object\n",
      "mb_used         149396 non-null float64\n",
      "session_date    149396 non-null datetime64[ns]\n",
      "user_id         149396 non-null int64\n",
      "month           149396 non-null int64\n",
      "dtypes: datetime64[ns](1), float64(1), int64(3), object(1)\n",
      "memory usage: 6.8+ MB\n"
     ]
    },
    {
     "data": {
      "text/plain": [
       "None"
      ]
     },
     "metadata": {},
     "output_type": "display_data"
    },
    {
     "data": {
      "text/plain": [
       "'messages'"
      ]
     },
     "metadata": {},
     "output_type": "display_data"
    },
    {
     "name": "stdout",
     "output_type": "stream",
     "text": [
      "<class 'pandas.core.frame.DataFrame'>\n",
      "RangeIndex: 123036 entries, 0 to 123035\n",
      "Data columns (total 4 columns):\n",
      "id              123036 non-null object\n",
      "message_date    123036 non-null datetime64[ns]\n",
      "user_id         123036 non-null int64\n",
      "month           123036 non-null int64\n",
      "dtypes: datetime64[ns](1), int64(2), object(1)\n",
      "memory usage: 3.8+ MB\n"
     ]
    },
    {
     "data": {
      "text/plain": [
       "None"
      ]
     },
     "metadata": {},
     "output_type": "display_data"
    },
    {
     "data": {
      "text/plain": [
       "'tariffs'"
      ]
     },
     "metadata": {},
     "output_type": "display_data"
    },
    {
     "name": "stdout",
     "output_type": "stream",
     "text": [
      "<class 'pandas.core.frame.DataFrame'>\n",
      "RangeIndex: 2 entries, 0 to 1\n",
      "Data columns (total 8 columns):\n",
      "messages_included        2 non-null int64\n",
      "mb_per_month_included    2 non-null int64\n",
      "minutes_included         2 non-null int64\n",
      "rub_monthly_fee          2 non-null int64\n",
      "rub_per_gb               2 non-null int64\n",
      "rub_per_message          2 non-null int64\n",
      "rub_per_minute           2 non-null int64\n",
      "tariff_name              2 non-null object\n",
      "dtypes: int64(7), object(1)\n",
      "memory usage: 256.0+ bytes\n"
     ]
    },
    {
     "data": {
      "text/plain": [
       "None"
      ]
     },
     "metadata": {},
     "output_type": "display_data"
    },
    {
     "data": {
      "text/plain": [
       "'users'"
      ]
     },
     "metadata": {},
     "output_type": "display_data"
    },
    {
     "name": "stdout",
     "output_type": "stream",
     "text": [
      "<class 'pandas.core.frame.DataFrame'>\n",
      "RangeIndex: 500 entries, 0 to 499\n",
      "Data columns (total 8 columns):\n",
      "user_id       500 non-null int64\n",
      "age           500 non-null int64\n",
      "churn_date    38 non-null datetime64[ns]\n",
      "city          500 non-null object\n",
      "first_name    500 non-null object\n",
      "last_name     500 non-null object\n",
      "reg_date      500 non-null datetime64[ns]\n",
      "tariff        500 non-null object\n",
      "dtypes: datetime64[ns](2), int64(2), object(4)\n",
      "memory usage: 31.4+ KB\n"
     ]
    },
    {
     "data": {
      "text/plain": [
       "None"
      ]
     },
     "metadata": {},
     "output_type": "display_data"
    }
   ],
   "source": [
    "#проверим внесенные изменения\n",
    "dataframes = [calls, internet, messages, tariffs, users]\n",
    "names = ['calls', 'internet', 'messages', 'tariffs', 'users']\n",
    "\n",
    "count = -1\n",
    "for name in names:\n",
    "    count += 1\n",
    "    display(name)\n",
    "    display(dataframes[count].info())"
   ]
  },
  {
   "cell_type": "markdown",
   "metadata": {},
   "source": [
    "<div class=\"alert alert-info\">\n",
    "<b>Комментарий студента:</b>\n",
    "<br>\n",
    "Теперь столбцы с датами имеют верный тип данных.\n",
    "</div>"
   ]
  },
  {
   "cell_type": "markdown",
   "metadata": {},
   "source": [
    "### Подсчет количества сделанных звонков и израсходованных минут разговора по месяцам"
   ]
  },
  {
   "cell_type": "code",
   "execution_count": 7,
   "metadata": {},
   "outputs": [
    {
     "data": {
      "text/html": [
       "<div>\n",
       "<style scoped>\n",
       "    .dataframe tbody tr th:only-of-type {\n",
       "        vertical-align: middle;\n",
       "    }\n",
       "\n",
       "    .dataframe tbody tr th {\n",
       "        vertical-align: top;\n",
       "    }\n",
       "\n",
       "    .dataframe thead th {\n",
       "        text-align: right;\n",
       "    }\n",
       "</style>\n",
       "<table border=\"1\" class=\"dataframe\">\n",
       "  <thead>\n",
       "    <tr style=\"text-align: right;\">\n",
       "      <th></th>\n",
       "      <th>id</th>\n",
       "      <th>call_date</th>\n",
       "      <th>duration</th>\n",
       "      <th>user_id</th>\n",
       "      <th>month</th>\n",
       "    </tr>\n",
       "  </thead>\n",
       "  <tbody>\n",
       "    <tr>\n",
       "      <td>0</td>\n",
       "      <td>1000_0</td>\n",
       "      <td>2018-07-25</td>\n",
       "      <td>0.00</td>\n",
       "      <td>1000</td>\n",
       "      <td>7</td>\n",
       "    </tr>\n",
       "    <tr>\n",
       "      <td>1</td>\n",
       "      <td>1000_1</td>\n",
       "      <td>2018-08-17</td>\n",
       "      <td>0.00</td>\n",
       "      <td>1000</td>\n",
       "      <td>8</td>\n",
       "    </tr>\n",
       "    <tr>\n",
       "      <td>2</td>\n",
       "      <td>1000_2</td>\n",
       "      <td>2018-06-11</td>\n",
       "      <td>2.85</td>\n",
       "      <td>1000</td>\n",
       "      <td>6</td>\n",
       "    </tr>\n",
       "    <tr>\n",
       "      <td>3</td>\n",
       "      <td>1000_3</td>\n",
       "      <td>2018-09-21</td>\n",
       "      <td>13.80</td>\n",
       "      <td>1000</td>\n",
       "      <td>9</td>\n",
       "    </tr>\n",
       "    <tr>\n",
       "      <td>4</td>\n",
       "      <td>1000_4</td>\n",
       "      <td>2018-12-15</td>\n",
       "      <td>5.18</td>\n",
       "      <td>1000</td>\n",
       "      <td>12</td>\n",
       "    </tr>\n",
       "    <tr>\n",
       "      <td>5</td>\n",
       "      <td>1000_5</td>\n",
       "      <td>2018-11-02</td>\n",
       "      <td>0.00</td>\n",
       "      <td>1000</td>\n",
       "      <td>11</td>\n",
       "    </tr>\n",
       "    <tr>\n",
       "      <td>6</td>\n",
       "      <td>1000_6</td>\n",
       "      <td>2018-10-18</td>\n",
       "      <td>0.00</td>\n",
       "      <td>1000</td>\n",
       "      <td>10</td>\n",
       "    </tr>\n",
       "    <tr>\n",
       "      <td>7</td>\n",
       "      <td>1000_7</td>\n",
       "      <td>2018-08-22</td>\n",
       "      <td>18.31</td>\n",
       "      <td>1000</td>\n",
       "      <td>8</td>\n",
       "    </tr>\n",
       "    <tr>\n",
       "      <td>8</td>\n",
       "      <td>1000_8</td>\n",
       "      <td>2018-09-15</td>\n",
       "      <td>18.44</td>\n",
       "      <td>1000</td>\n",
       "      <td>9</td>\n",
       "    </tr>\n",
       "    <tr>\n",
       "      <td>9</td>\n",
       "      <td>1000_9</td>\n",
       "      <td>2018-08-15</td>\n",
       "      <td>0.00</td>\n",
       "      <td>1000</td>\n",
       "      <td>8</td>\n",
       "    </tr>\n",
       "  </tbody>\n",
       "</table>\n",
       "</div>"
      ],
      "text/plain": [
       "       id  call_date  duration  user_id  month\n",
       "0  1000_0 2018-07-25      0.00     1000      7\n",
       "1  1000_1 2018-08-17      0.00     1000      8\n",
       "2  1000_2 2018-06-11      2.85     1000      6\n",
       "3  1000_3 2018-09-21     13.80     1000      9\n",
       "4  1000_4 2018-12-15      5.18     1000     12\n",
       "5  1000_5 2018-11-02      0.00     1000     11\n",
       "6  1000_6 2018-10-18      0.00     1000     10\n",
       "7  1000_7 2018-08-22     18.31     1000      8\n",
       "8  1000_8 2018-09-15     18.44     1000      9\n",
       "9  1000_9 2018-08-15      0.00     1000      8"
      ]
     },
     "execution_count": 7,
     "metadata": {},
     "output_type": "execute_result"
    }
   ],
   "source": [
    "#изучим датафрейм со сделанными звонками\n",
    "\n",
    "calls.head(10)"
   ]
  },
  {
   "cell_type": "markdown",
   "metadata": {},
   "source": [
    "<div class=\"alert alert-info\">\n",
    "<b>Комментарий студента:</b>\n",
    "<br>\n",
    "Прежде чем приступать к подсчету количества звонков и израсходованных минут разговора необходимо учесть информацию, указанную в примечании и округлить значение длительности звонка до целой минуты.\n",
    "Примечание:\n",
    "«Мегалайн» всегда округляет секунды до минут. Каждый звонок округляется отдельно: даже если он длился всего 1 секунду, будет засчитан как 1 минута.\n",
    "</div>"
   ]
  },
  {
   "cell_type": "code",
   "execution_count": 8,
   "metadata": {},
   "outputs": [],
   "source": [
    "#округлим значение длительности звонков до целой минуты\n",
    "\n",
    "calls['duration'] = calls['duration'].apply(lambda x: ceil(x))"
   ]
  },
  {
   "cell_type": "code",
   "execution_count": 9,
   "metadata": {},
   "outputs": [
    {
     "data": {
      "text/html": [
       "<div>\n",
       "<style scoped>\n",
       "    .dataframe tbody tr th:only-of-type {\n",
       "        vertical-align: middle;\n",
       "    }\n",
       "\n",
       "    .dataframe tbody tr th {\n",
       "        vertical-align: top;\n",
       "    }\n",
       "\n",
       "    .dataframe thead th {\n",
       "        text-align: right;\n",
       "    }\n",
       "</style>\n",
       "<table border=\"1\" class=\"dataframe\">\n",
       "  <thead>\n",
       "    <tr style=\"text-align: right;\">\n",
       "      <th></th>\n",
       "      <th>id</th>\n",
       "      <th>call_date</th>\n",
       "      <th>duration</th>\n",
       "      <th>user_id</th>\n",
       "      <th>month</th>\n",
       "    </tr>\n",
       "  </thead>\n",
       "  <tbody>\n",
       "    <tr>\n",
       "      <td>0</td>\n",
       "      <td>1000_0</td>\n",
       "      <td>2018-07-25</td>\n",
       "      <td>0</td>\n",
       "      <td>1000</td>\n",
       "      <td>7</td>\n",
       "    </tr>\n",
       "    <tr>\n",
       "      <td>1</td>\n",
       "      <td>1000_1</td>\n",
       "      <td>2018-08-17</td>\n",
       "      <td>0</td>\n",
       "      <td>1000</td>\n",
       "      <td>8</td>\n",
       "    </tr>\n",
       "    <tr>\n",
       "      <td>2</td>\n",
       "      <td>1000_2</td>\n",
       "      <td>2018-06-11</td>\n",
       "      <td>3</td>\n",
       "      <td>1000</td>\n",
       "      <td>6</td>\n",
       "    </tr>\n",
       "    <tr>\n",
       "      <td>3</td>\n",
       "      <td>1000_3</td>\n",
       "      <td>2018-09-21</td>\n",
       "      <td>14</td>\n",
       "      <td>1000</td>\n",
       "      <td>9</td>\n",
       "    </tr>\n",
       "    <tr>\n",
       "      <td>4</td>\n",
       "      <td>1000_4</td>\n",
       "      <td>2018-12-15</td>\n",
       "      <td>6</td>\n",
       "      <td>1000</td>\n",
       "      <td>12</td>\n",
       "    </tr>\n",
       "    <tr>\n",
       "      <td>...</td>\n",
       "      <td>...</td>\n",
       "      <td>...</td>\n",
       "      <td>...</td>\n",
       "      <td>...</td>\n",
       "      <td>...</td>\n",
       "    </tr>\n",
       "    <tr>\n",
       "      <td>202602</td>\n",
       "      <td>1499_215</td>\n",
       "      <td>2018-12-26</td>\n",
       "      <td>1</td>\n",
       "      <td>1499</td>\n",
       "      <td>12</td>\n",
       "    </tr>\n",
       "    <tr>\n",
       "      <td>202603</td>\n",
       "      <td>1499_216</td>\n",
       "      <td>2018-10-18</td>\n",
       "      <td>19</td>\n",
       "      <td>1499</td>\n",
       "      <td>10</td>\n",
       "    </tr>\n",
       "    <tr>\n",
       "      <td>202604</td>\n",
       "      <td>1499_217</td>\n",
       "      <td>2018-11-10</td>\n",
       "      <td>11</td>\n",
       "      <td>1499</td>\n",
       "      <td>11</td>\n",
       "    </tr>\n",
       "    <tr>\n",
       "      <td>202605</td>\n",
       "      <td>1499_218</td>\n",
       "      <td>2018-10-06</td>\n",
       "      <td>5</td>\n",
       "      <td>1499</td>\n",
       "      <td>10</td>\n",
       "    </tr>\n",
       "    <tr>\n",
       "      <td>202606</td>\n",
       "      <td>1499_219</td>\n",
       "      <td>2018-12-14</td>\n",
       "      <td>20</td>\n",
       "      <td>1499</td>\n",
       "      <td>12</td>\n",
       "    </tr>\n",
       "  </tbody>\n",
       "</table>\n",
       "<p>202607 rows × 5 columns</p>\n",
       "</div>"
      ],
      "text/plain": [
       "              id  call_date  duration  user_id  month\n",
       "0         1000_0 2018-07-25         0     1000      7\n",
       "1         1000_1 2018-08-17         0     1000      8\n",
       "2         1000_2 2018-06-11         3     1000      6\n",
       "3         1000_3 2018-09-21        14     1000      9\n",
       "4         1000_4 2018-12-15         6     1000     12\n",
       "...          ...        ...       ...      ...    ...\n",
       "202602  1499_215 2018-12-26         1     1499     12\n",
       "202603  1499_216 2018-10-18        19     1499     10\n",
       "202604  1499_217 2018-11-10        11     1499     11\n",
       "202605  1499_218 2018-10-06         5     1499     10\n",
       "202606  1499_219 2018-12-14        20     1499     12\n",
       "\n",
       "[202607 rows x 5 columns]"
      ]
     },
     "execution_count": 9,
     "metadata": {},
     "output_type": "execute_result"
    }
   ],
   "source": [
    "#проверим внесенные изменения\n",
    "\n",
    "calls"
   ]
  },
  {
   "cell_type": "code",
   "execution_count": 10,
   "metadata": {},
   "outputs": [],
   "source": [
    "# построим сводную таблицу для каждого пользователя для подсчета количества сделанных звонков и израсходованных минут разговора\n",
    "# по месяцам\n",
    "\n",
    "calls_month = calls.pivot_table(index=['user_id','month'], values='duration', aggfunc=['count', 'sum'])\n",
    "\n",
    "calls_month.columns = ['count_calls', 'duration_calls']"
   ]
  },
  {
   "cell_type": "markdown",
   "metadata": {},
   "source": [
    "### Подсчет количества отправленных сообщений по месяцам"
   ]
  },
  {
   "cell_type": "code",
   "execution_count": 11,
   "metadata": {},
   "outputs": [],
   "source": [
    "# построим сводную таблицу для подсчета отправленных сообщений по месяцам\n",
    "\n",
    "messages_month = messages.pivot_table(index=['user_id','month'], values='id', aggfunc='count')\n",
    "\n",
    "messages_month.columns = ['count_messages']"
   ]
  },
  {
   "cell_type": "markdown",
   "metadata": {},
   "source": [
    "### Подсчет объема израсходованного интернет-трафика по месяцам\n",
    "    "
   ]
  },
  {
   "cell_type": "code",
   "execution_count": 12,
   "metadata": {},
   "outputs": [],
   "source": [
    "# построим сводную таблицу для подсчета израсходованного интернет-трафика по месяцам\n",
    "\n",
    "internet_month = internet.pivot_table(index=['user_id','month'], values='mb_used', aggfunc='sum')"
   ]
  },
  {
   "cell_type": "markdown",
   "metadata": {},
   "source": [
    "<div class=\"alert alert-info\">\n",
    "<b>Комментарий студента:</b>\n",
    "<br>\n",
    "Учтем информацию, указанную в примечании и округлим значение мегабайт до целого гигабайта.\n",
    "<br>\n",
    "Примечание:\n",
    "Для веб-трафика отдельные сессии не считаются. Вместо этого общая сумма за месяц округляется в бо́льшую сторону. Если абонент использует 1025 мегабайт в этом месяце, с него возьмут плату за 2 гигабайта.\n",
    "</div>"
   ]
  },
  {
   "cell_type": "code",
   "execution_count": 13,
   "metadata": {},
   "outputs": [],
   "source": [
    "#переведем значения из МБ в ГБ и округлим значение до целого ГБ\n",
    "\n",
    "internet_month['gb_used'] = (internet_month['mb_used']/1024).apply(lambda x: ceil(x))\n",
    "\n",
    "internet_month = internet_month[['gb_used']]"
   ]
  },
  {
   "cell_type": "markdown",
   "metadata": {},
   "source": [
    "### Подсчет помесячной выручки с каждого пользователя"
   ]
  },
  {
   "cell_type": "markdown",
   "metadata": {},
   "source": [
    "<div class=\"alert alert-info\">\n",
    "<b>Комментарий студента:</b>\n",
    "<br>\n",
    "Для подсчета помесячной выручки с каждого пользователя нам необходимо объединить несколько таблиц: 'calls_month', 'messages_month', 'internet_month'. \n",
    "</div>"
   ]
  },
  {
   "cell_type": "code",
   "execution_count": 14,
   "metadata": {},
   "outputs": [],
   "source": [
    "#объединим таблицы с совершенными звонками, отправленными сообщениями и израсходованным трафиком в одну таблицу\n",
    "#объединяем методом merge, тип слияния применяем 'outer', т.к. может быть так, что абонент не совершал звонков, либо \n",
    "#не отправлял сообщений, но при этом пользовался интернетом\n",
    "\n",
    "all_options_month = calls_month.merge(messages_month, on=['user_id','month'], how='outer').merge(internet_month, on=['user_id','month'], how='outer')"
   ]
  },
  {
   "cell_type": "code",
   "execution_count": 15,
   "metadata": {},
   "outputs": [],
   "source": [
    "# замением пропущенные значения на ноль\n",
    "\n",
    "all_options_month = all_options_month.fillna(value=0)"
   ]
  },
  {
   "cell_type": "markdown",
   "metadata": {},
   "source": [
    "<div class=\"alert alert-info\">\n",
    "<b>Комментарий студента:</b>\n",
    "<br>\n",
    "Данные пропуски пояивились в результате объединения таблиц методом \"все со всеми\", т.к. могли бытьп пользователи, которые не звонили, но отправляли сообщения, либо тратили мегабайты)\n",
    "</div>"
   ]
  },
  {
   "cell_type": "code",
   "execution_count": 16,
   "metadata": {},
   "outputs": [],
   "source": [
    "# добавим в таблицу с тарифами значение допустимого интернет-трафика в ГБ в месяц\n",
    "\n",
    "tariffs['gb_per_month_included'] = (tariffs['mb_per_month_included']/1024).apply(lambda x: ceil(x))"
   ]
  },
  {
   "cell_type": "code",
   "execution_count": 17,
   "metadata": {},
   "outputs": [],
   "source": [
    "#добавим данные о пользователях и тарифах в нашу таблицу\n",
    "\n",
    "all_options_month = all_options_month.reset_index()"
   ]
  },
  {
   "cell_type": "code",
   "execution_count": 18,
   "metadata": {},
   "outputs": [
    {
     "data": {
      "text/html": [
       "<div>\n",
       "<style scoped>\n",
       "    .dataframe tbody tr th:only-of-type {\n",
       "        vertical-align: middle;\n",
       "    }\n",
       "\n",
       "    .dataframe tbody tr th {\n",
       "        vertical-align: top;\n",
       "    }\n",
       "\n",
       "    .dataframe thead th {\n",
       "        text-align: right;\n",
       "    }\n",
       "</style>\n",
       "<table border=\"1\" class=\"dataframe\">\n",
       "  <thead>\n",
       "    <tr style=\"text-align: right;\">\n",
       "      <th></th>\n",
       "      <th>user_id</th>\n",
       "      <th>month</th>\n",
       "      <th>count_calls</th>\n",
       "      <th>duration_calls</th>\n",
       "      <th>count_messages</th>\n",
       "      <th>gb_used</th>\n",
       "      <th>city</th>\n",
       "      <th>tariff</th>\n",
       "      <th>messages_included</th>\n",
       "      <th>mb_per_month_included</th>\n",
       "      <th>minutes_included</th>\n",
       "      <th>rub_monthly_fee</th>\n",
       "      <th>rub_per_gb</th>\n",
       "      <th>rub_per_message</th>\n",
       "      <th>rub_per_minute</th>\n",
       "      <th>tariff_name</th>\n",
       "      <th>gb_per_month_included</th>\n",
       "    </tr>\n",
       "  </thead>\n",
       "  <tbody>\n",
       "    <tr>\n",
       "      <td>3211</td>\n",
       "      <td>1489</td>\n",
       "      <td>10.00</td>\n",
       "      <td>0.00</td>\n",
       "      <td>0.00</td>\n",
       "      <td>21.00</td>\n",
       "      <td>20.00</td>\n",
       "      <td>Санкт-Петербург</td>\n",
       "      <td>smart</td>\n",
       "      <td>50</td>\n",
       "      <td>15360</td>\n",
       "      <td>500</td>\n",
       "      <td>550</td>\n",
       "      <td>200</td>\n",
       "      <td>3</td>\n",
       "      <td>3</td>\n",
       "      <td>smart</td>\n",
       "      <td>15</td>\n",
       "    </tr>\n",
       "    <tr>\n",
       "      <td>3212</td>\n",
       "      <td>1489</td>\n",
       "      <td>11.00</td>\n",
       "      <td>0.00</td>\n",
       "      <td>0.00</td>\n",
       "      <td>20.00</td>\n",
       "      <td>18.00</td>\n",
       "      <td>Санкт-Петербург</td>\n",
       "      <td>smart</td>\n",
       "      <td>50</td>\n",
       "      <td>15360</td>\n",
       "      <td>500</td>\n",
       "      <td>550</td>\n",
       "      <td>200</td>\n",
       "      <td>3</td>\n",
       "      <td>3</td>\n",
       "      <td>smart</td>\n",
       "      <td>15</td>\n",
       "    </tr>\n",
       "    <tr>\n",
       "      <td>3213</td>\n",
       "      <td>1489</td>\n",
       "      <td>12.00</td>\n",
       "      <td>0.00</td>\n",
       "      <td>0.00</td>\n",
       "      <td>35.00</td>\n",
       "      <td>17.00</td>\n",
       "      <td>Санкт-Петербург</td>\n",
       "      <td>smart</td>\n",
       "      <td>50</td>\n",
       "      <td>15360</td>\n",
       "      <td>500</td>\n",
       "      <td>550</td>\n",
       "      <td>200</td>\n",
       "      <td>3</td>\n",
       "      <td>3</td>\n",
       "      <td>smart</td>\n",
       "      <td>15</td>\n",
       "    </tr>\n",
       "    <tr>\n",
       "      <td>3214</td>\n",
       "      <td>1128</td>\n",
       "      <td>nan</td>\n",
       "      <td>nan</td>\n",
       "      <td>nan</td>\n",
       "      <td>nan</td>\n",
       "      <td>nan</td>\n",
       "      <td>Волжский</td>\n",
       "      <td>ultra</td>\n",
       "      <td>1000</td>\n",
       "      <td>30720</td>\n",
       "      <td>3000</td>\n",
       "      <td>1950</td>\n",
       "      <td>150</td>\n",
       "      <td>1</td>\n",
       "      <td>1</td>\n",
       "      <td>ultra</td>\n",
       "      <td>30</td>\n",
       "    </tr>\n",
       "    <tr>\n",
       "      <td>3215</td>\n",
       "      <td>1371</td>\n",
       "      <td>nan</td>\n",
       "      <td>nan</td>\n",
       "      <td>nan</td>\n",
       "      <td>nan</td>\n",
       "      <td>nan</td>\n",
       "      <td>Омск</td>\n",
       "      <td>smart</td>\n",
       "      <td>50</td>\n",
       "      <td>15360</td>\n",
       "      <td>500</td>\n",
       "      <td>550</td>\n",
       "      <td>200</td>\n",
       "      <td>3</td>\n",
       "      <td>3</td>\n",
       "      <td>smart</td>\n",
       "      <td>15</td>\n",
       "    </tr>\n",
       "  </tbody>\n",
       "</table>\n",
       "</div>"
      ],
      "text/plain": [
       "      user_id  month  count_calls  duration_calls  count_messages  gb_used  \\\n",
       "3211     1489  10.00         0.00            0.00           21.00    20.00   \n",
       "3212     1489  11.00         0.00            0.00           20.00    18.00   \n",
       "3213     1489  12.00         0.00            0.00           35.00    17.00   \n",
       "3214     1128    nan          nan             nan             nan      nan   \n",
       "3215     1371    nan          nan             nan             nan      nan   \n",
       "\n",
       "                 city tariff  messages_included  mb_per_month_included  \\\n",
       "3211  Санкт-Петербург  smart                 50                  15360   \n",
       "3212  Санкт-Петербург  smart                 50                  15360   \n",
       "3213  Санкт-Петербург  smart                 50                  15360   \n",
       "3214         Волжский  ultra               1000                  30720   \n",
       "3215             Омск  smart                 50                  15360   \n",
       "\n",
       "      minutes_included  rub_monthly_fee  rub_per_gb  rub_per_message  \\\n",
       "3211               500              550         200                3   \n",
       "3212               500              550         200                3   \n",
       "3213               500              550         200                3   \n",
       "3214              3000             1950         150                1   \n",
       "3215               500              550         200                3   \n",
       "\n",
       "      rub_per_minute tariff_name  gb_per_month_included  \n",
       "3211               3       smart                     15  \n",
       "3212               3       smart                     15  \n",
       "3213               3       smart                     15  \n",
       "3214               1       ultra                     30  \n",
       "3215               3       smart                     15  "
      ]
     },
     "execution_count": 18,
     "metadata": {},
     "output_type": "execute_result"
    }
   ],
   "source": [
    "#проверим количество пользователей при объединении методом 'outer'\n",
    "\n",
    "all_options_month_5555 = all_options_month.merge(users[['user_id', 'city', 'tariff']], on='user_id', how='outer').merge(tariffs, left_on='tariff', right_on='tariff_name', how='left')\n",
    "\n",
    "all_options_month_5555.tail()"
   ]
  },
  {
   "cell_type": "code",
   "execution_count": 19,
   "metadata": {},
   "outputs": [
    {
     "data": {
      "text/html": [
       "<div>\n",
       "<style scoped>\n",
       "    .dataframe tbody tr th:only-of-type {\n",
       "        vertical-align: middle;\n",
       "    }\n",
       "\n",
       "    .dataframe tbody tr th {\n",
       "        vertical-align: top;\n",
       "    }\n",
       "\n",
       "    .dataframe thead th {\n",
       "        text-align: right;\n",
       "    }\n",
       "</style>\n",
       "<table border=\"1\" class=\"dataframe\">\n",
       "  <thead>\n",
       "    <tr style=\"text-align: right;\">\n",
       "      <th></th>\n",
       "      <th>user_id</th>\n",
       "      <th>month</th>\n",
       "      <th>count_calls</th>\n",
       "      <th>duration_calls</th>\n",
       "      <th>count_messages</th>\n",
       "      <th>gb_used</th>\n",
       "      <th>city</th>\n",
       "      <th>tariff</th>\n",
       "      <th>messages_included</th>\n",
       "      <th>mb_per_month_included</th>\n",
       "      <th>minutes_included</th>\n",
       "      <th>rub_monthly_fee</th>\n",
       "      <th>rub_per_gb</th>\n",
       "      <th>rub_per_message</th>\n",
       "      <th>rub_per_minute</th>\n",
       "      <th>tariff_name</th>\n",
       "      <th>gb_per_month_included</th>\n",
       "    </tr>\n",
       "  </thead>\n",
       "  <tbody>\n",
       "    <tr>\n",
       "      <td>0</td>\n",
       "      <td>1000</td>\n",
       "      <td>5</td>\n",
       "      <td>22.00</td>\n",
       "      <td>159.00</td>\n",
       "      <td>22.00</td>\n",
       "      <td>3.00</td>\n",
       "      <td>Краснодар</td>\n",
       "      <td>ultra</td>\n",
       "      <td>1000</td>\n",
       "      <td>30720</td>\n",
       "      <td>3000</td>\n",
       "      <td>1950</td>\n",
       "      <td>150</td>\n",
       "      <td>1</td>\n",
       "      <td>1</td>\n",
       "      <td>ultra</td>\n",
       "      <td>30</td>\n",
       "    </tr>\n",
       "    <tr>\n",
       "      <td>1</td>\n",
       "      <td>1000</td>\n",
       "      <td>6</td>\n",
       "      <td>43.00</td>\n",
       "      <td>172.00</td>\n",
       "      <td>60.00</td>\n",
       "      <td>23.00</td>\n",
       "      <td>Краснодар</td>\n",
       "      <td>ultra</td>\n",
       "      <td>1000</td>\n",
       "      <td>30720</td>\n",
       "      <td>3000</td>\n",
       "      <td>1950</td>\n",
       "      <td>150</td>\n",
       "      <td>1</td>\n",
       "      <td>1</td>\n",
       "      <td>ultra</td>\n",
       "      <td>30</td>\n",
       "    </tr>\n",
       "    <tr>\n",
       "      <td>2</td>\n",
       "      <td>1000</td>\n",
       "      <td>7</td>\n",
       "      <td>47.00</td>\n",
       "      <td>340.00</td>\n",
       "      <td>75.00</td>\n",
       "      <td>14.00</td>\n",
       "      <td>Краснодар</td>\n",
       "      <td>ultra</td>\n",
       "      <td>1000</td>\n",
       "      <td>30720</td>\n",
       "      <td>3000</td>\n",
       "      <td>1950</td>\n",
       "      <td>150</td>\n",
       "      <td>1</td>\n",
       "      <td>1</td>\n",
       "      <td>ultra</td>\n",
       "      <td>30</td>\n",
       "    </tr>\n",
       "    <tr>\n",
       "      <td>3</td>\n",
       "      <td>1000</td>\n",
       "      <td>8</td>\n",
       "      <td>52.00</td>\n",
       "      <td>408.00</td>\n",
       "      <td>81.00</td>\n",
       "      <td>14.00</td>\n",
       "      <td>Краснодар</td>\n",
       "      <td>ultra</td>\n",
       "      <td>1000</td>\n",
       "      <td>30720</td>\n",
       "      <td>3000</td>\n",
       "      <td>1950</td>\n",
       "      <td>150</td>\n",
       "      <td>1</td>\n",
       "      <td>1</td>\n",
       "      <td>ultra</td>\n",
       "      <td>30</td>\n",
       "    </tr>\n",
       "    <tr>\n",
       "      <td>4</td>\n",
       "      <td>1000</td>\n",
       "      <td>9</td>\n",
       "      <td>58.00</td>\n",
       "      <td>466.00</td>\n",
       "      <td>57.00</td>\n",
       "      <td>15.00</td>\n",
       "      <td>Краснодар</td>\n",
       "      <td>ultra</td>\n",
       "      <td>1000</td>\n",
       "      <td>30720</td>\n",
       "      <td>3000</td>\n",
       "      <td>1950</td>\n",
       "      <td>150</td>\n",
       "      <td>1</td>\n",
       "      <td>1</td>\n",
       "      <td>ultra</td>\n",
       "      <td>30</td>\n",
       "    </tr>\n",
       "  </tbody>\n",
       "</table>\n",
       "</div>"
      ],
      "text/plain": [
       "   user_id  month  count_calls  duration_calls  count_messages  gb_used  \\\n",
       "0     1000      5        22.00          159.00           22.00     3.00   \n",
       "1     1000      6        43.00          172.00           60.00    23.00   \n",
       "2     1000      7        47.00          340.00           75.00    14.00   \n",
       "3     1000      8        52.00          408.00           81.00    14.00   \n",
       "4     1000      9        58.00          466.00           57.00    15.00   \n",
       "\n",
       "        city tariff  messages_included  mb_per_month_included  \\\n",
       "0  Краснодар  ultra               1000                  30720   \n",
       "1  Краснодар  ultra               1000                  30720   \n",
       "2  Краснодар  ultra               1000                  30720   \n",
       "3  Краснодар  ultra               1000                  30720   \n",
       "4  Краснодар  ultra               1000                  30720   \n",
       "\n",
       "   minutes_included  rub_monthly_fee  rub_per_gb  rub_per_message  \\\n",
       "0              3000             1950         150                1   \n",
       "1              3000             1950         150                1   \n",
       "2              3000             1950         150                1   \n",
       "3              3000             1950         150                1   \n",
       "4              3000             1950         150                1   \n",
       "\n",
       "   rub_per_minute tariff_name  gb_per_month_included  \n",
       "0               1       ultra                     30  \n",
       "1               1       ultra                     30  \n",
       "2               1       ultra                     30  \n",
       "3               1       ultra                     30  \n",
       "4               1       ultra                     30  "
      ]
     },
     "execution_count": 19,
     "metadata": {},
     "output_type": "execute_result"
    }
   ],
   "source": [
    "all_options_month = all_options_month.merge(users[['user_id', 'city', 'tariff']], on='user_id', how='left').merge(tariffs, left_on='tariff', right_on='tariff_name', how='left')\n",
    "\n",
    "all_options_month.head()"
   ]
  },
  {
   "cell_type": "markdown",
   "metadata": {},
   "source": [
    "<div class=\"alert alert-info\">\n",
    "<b>Комментарий студента:</b>\n",
    "<br>\n",
    "Ушли пользователи из-за того, что не совершали звонки, не писали смс-сообщения и не тратили интернет-трафик. То есть я присоединял к таблице 'all_options_month' таблицу 'users', включая только тех пользователей, которые пользовались услугами оператора за 2018 год.  Не стал данную процедуру оставлять в конечной работе, т.к. посчитал промежуточным шагом.\n",
    "<br>\n",
    "<br>    \n",
    "Добавил проверку на 3 ячейки выше (датафрейм 'all_options_month_5555'), также ниже данного комментария имеется проверка размера датафрейма 'all_options_month_5555'\n",
    "</div>"
   ]
  },
  {
   "cell_type": "code",
   "execution_count": 20,
   "metadata": {},
   "outputs": [
    {
     "data": {
      "text/plain": [
       "(498,)"
      ]
     },
     "execution_count": 20,
     "metadata": {},
     "output_type": "execute_result"
    }
   ],
   "source": [
    "# Комментарий ревьюера\n",
    "all_options_month.user_id.unique().shape "
   ]
  },
  {
   "cell_type": "code",
   "execution_count": 21,
   "metadata": {},
   "outputs": [
    {
     "data": {
      "text/plain": [
       "(500,)"
      ]
     },
     "execution_count": 21,
     "metadata": {},
     "output_type": "execute_result"
    }
   ],
   "source": [
    "# Проверка пользователей датафрейма 'all_options_month_5555'\n",
    "all_options_month_5555.user_id.unique().shape "
   ]
  },
  {
   "cell_type": "code",
   "execution_count": 22,
   "metadata": {},
   "outputs": [],
   "source": [
    "#напишем функцию для подсчета выручки с каждого абонента в месяц\n",
    "\n",
    "def revenue(row):\n",
    "             \n",
    "    calls_over_lim = np.where(row.duration_calls > row.minutes_included, row.duration_calls-row.minutes_included, 0)*row.rub_per_minute\n",
    "    \n",
    "    messages_over_lim = np.where(row.count_messages > row.messages_included, row.count_messages-row.messages_included, 0)*row.rub_per_message\n",
    "    \n",
    "    gb_used_over_lim = np.where(row.gb_used > row.gb_per_month_included, row.gb_used-row.gb_per_month_included, 0)*row.rub_per_gb\n",
    "    \n",
    "    return row.rub_monthly_fee + calls_over_lim + messages_over_lim + gb_used_over_lim\n",
    "    \n",
    "all_options_month['revenue'] = all_options_month.apply(revenue, axis=1)"
   ]
  },
  {
   "cell_type": "code",
   "execution_count": 23,
   "metadata": {},
   "outputs": [
    {
     "data": {
      "text/html": [
       "<div>\n",
       "<style scoped>\n",
       "    .dataframe tbody tr th:only-of-type {\n",
       "        vertical-align: middle;\n",
       "    }\n",
       "\n",
       "    .dataframe tbody tr th {\n",
       "        vertical-align: top;\n",
       "    }\n",
       "\n",
       "    .dataframe thead th {\n",
       "        text-align: right;\n",
       "    }\n",
       "</style>\n",
       "<table border=\"1\" class=\"dataframe\">\n",
       "  <thead>\n",
       "    <tr style=\"text-align: right;\">\n",
       "      <th></th>\n",
       "      <th>user_id</th>\n",
       "      <th>month</th>\n",
       "      <th>city</th>\n",
       "      <th>tariff</th>\n",
       "      <th>revenue</th>\n",
       "      <th>duration_calls</th>\n",
       "      <th>count_messages</th>\n",
       "      <th>gb_used</th>\n",
       "    </tr>\n",
       "  </thead>\n",
       "  <tbody>\n",
       "    <tr>\n",
       "      <td>0</td>\n",
       "      <td>1000</td>\n",
       "      <td>5</td>\n",
       "      <td>Краснодар</td>\n",
       "      <td>ultra</td>\n",
       "      <td>1,950.00</td>\n",
       "      <td>159.00</td>\n",
       "      <td>22.00</td>\n",
       "      <td>3.00</td>\n",
       "    </tr>\n",
       "    <tr>\n",
       "      <td>1</td>\n",
       "      <td>1000</td>\n",
       "      <td>6</td>\n",
       "      <td>Краснодар</td>\n",
       "      <td>ultra</td>\n",
       "      <td>1,950.00</td>\n",
       "      <td>172.00</td>\n",
       "      <td>60.00</td>\n",
       "      <td>23.00</td>\n",
       "    </tr>\n",
       "    <tr>\n",
       "      <td>2</td>\n",
       "      <td>1000</td>\n",
       "      <td>7</td>\n",
       "      <td>Краснодар</td>\n",
       "      <td>ultra</td>\n",
       "      <td>1,950.00</td>\n",
       "      <td>340.00</td>\n",
       "      <td>75.00</td>\n",
       "      <td>14.00</td>\n",
       "    </tr>\n",
       "    <tr>\n",
       "      <td>3</td>\n",
       "      <td>1000</td>\n",
       "      <td>8</td>\n",
       "      <td>Краснодар</td>\n",
       "      <td>ultra</td>\n",
       "      <td>1,950.00</td>\n",
       "      <td>408.00</td>\n",
       "      <td>81.00</td>\n",
       "      <td>14.00</td>\n",
       "    </tr>\n",
       "    <tr>\n",
       "      <td>4</td>\n",
       "      <td>1000</td>\n",
       "      <td>9</td>\n",
       "      <td>Краснодар</td>\n",
       "      <td>ultra</td>\n",
       "      <td>1,950.00</td>\n",
       "      <td>466.00</td>\n",
       "      <td>57.00</td>\n",
       "      <td>15.00</td>\n",
       "    </tr>\n",
       "    <tr>\n",
       "      <td>...</td>\n",
       "      <td>...</td>\n",
       "      <td>...</td>\n",
       "      <td>...</td>\n",
       "      <td>...</td>\n",
       "      <td>...</td>\n",
       "      <td>...</td>\n",
       "      <td>...</td>\n",
       "      <td>...</td>\n",
       "    </tr>\n",
       "    <tr>\n",
       "      <td>3209</td>\n",
       "      <td>1489</td>\n",
       "      <td>9</td>\n",
       "      <td>Санкт-Петербург</td>\n",
       "      <td>smart</td>\n",
       "      <td>950.00</td>\n",
       "      <td>0.00</td>\n",
       "      <td>32.00</td>\n",
       "      <td>17.00</td>\n",
       "    </tr>\n",
       "    <tr>\n",
       "      <td>3210</td>\n",
       "      <td>1489</td>\n",
       "      <td>10</td>\n",
       "      <td>Санкт-Петербург</td>\n",
       "      <td>smart</td>\n",
       "      <td>1,550.00</td>\n",
       "      <td>0.00</td>\n",
       "      <td>21.00</td>\n",
       "      <td>20.00</td>\n",
       "    </tr>\n",
       "    <tr>\n",
       "      <td>3211</td>\n",
       "      <td>1489</td>\n",
       "      <td>11</td>\n",
       "      <td>Санкт-Петербург</td>\n",
       "      <td>smart</td>\n",
       "      <td>1,150.00</td>\n",
       "      <td>0.00</td>\n",
       "      <td>20.00</td>\n",
       "      <td>18.00</td>\n",
       "    </tr>\n",
       "    <tr>\n",
       "      <td>3212</td>\n",
       "      <td>1489</td>\n",
       "      <td>12</td>\n",
       "      <td>Санкт-Петербург</td>\n",
       "      <td>smart</td>\n",
       "      <td>950.00</td>\n",
       "      <td>0.00</td>\n",
       "      <td>35.00</td>\n",
       "      <td>17.00</td>\n",
       "    </tr>\n",
       "    <tr>\n",
       "      <td>3213</td>\n",
       "      <td>1476</td>\n",
       "      <td>4</td>\n",
       "      <td>Москва</td>\n",
       "      <td>ultra</td>\n",
       "      <td>1,950.00</td>\n",
       "      <td>0.00</td>\n",
       "      <td>0.00</td>\n",
       "      <td>1.00</td>\n",
       "    </tr>\n",
       "  </tbody>\n",
       "</table>\n",
       "<p>3214 rows × 8 columns</p>\n",
       "</div>"
      ],
      "text/plain": [
       "      user_id  month             city tariff  revenue  duration_calls  \\\n",
       "0        1000      5        Краснодар  ultra 1,950.00          159.00   \n",
       "1        1000      6        Краснодар  ultra 1,950.00          172.00   \n",
       "2        1000      7        Краснодар  ultra 1,950.00          340.00   \n",
       "3        1000      8        Краснодар  ultra 1,950.00          408.00   \n",
       "4        1000      9        Краснодар  ultra 1,950.00          466.00   \n",
       "...       ...    ...              ...    ...      ...             ...   \n",
       "3209     1489      9  Санкт-Петербург  smart   950.00            0.00   \n",
       "3210     1489     10  Санкт-Петербург  smart 1,550.00            0.00   \n",
       "3211     1489     11  Санкт-Петербург  smart 1,150.00            0.00   \n",
       "3212     1489     12  Санкт-Петербург  smart   950.00            0.00   \n",
       "3213     1476      4           Москва  ultra 1,950.00            0.00   \n",
       "\n",
       "      count_messages  gb_used  \n",
       "0              22.00     3.00  \n",
       "1              60.00    23.00  \n",
       "2              75.00    14.00  \n",
       "3              81.00    14.00  \n",
       "4              57.00    15.00  \n",
       "...              ...      ...  \n",
       "3209           32.00    17.00  \n",
       "3210           21.00    20.00  \n",
       "3211           20.00    18.00  \n",
       "3212           35.00    17.00  \n",
       "3213            0.00     1.00  \n",
       "\n",
       "[3214 rows x 8 columns]"
      ]
     },
     "execution_count": 23,
     "metadata": {},
     "output_type": "execute_result"
    }
   ],
   "source": [
    "#оставим в нашей таблице только те данные, котоорые будут необходимы в дальнейшем\n",
    "\n",
    "all_options_month = all_options_month[['user_id', 'month', 'city', 'tariff', 'revenue', 'duration_calls', 'count_messages', 'gb_used']]\n",
    "\n",
    "all_options_month"
   ]
  },
  {
   "cell_type": "markdown",
   "metadata": {},
   "source": [
    "## Анализ данных"
   ]
  },
  {
   "cell_type": "markdown",
   "metadata": {},
   "source": [
    "### Описание поведения пользователей"
   ]
  },
  {
   "cell_type": "code",
   "execution_count": 24,
   "metadata": {},
   "outputs": [
    {
     "data": {
      "text/html": [
       "<div>\n",
       "<style scoped>\n",
       "    .dataframe tbody tr th:only-of-type {\n",
       "        vertical-align: middle;\n",
       "    }\n",
       "\n",
       "    .dataframe tbody tr th {\n",
       "        vertical-align: top;\n",
       "    }\n",
       "\n",
       "    .dataframe thead tr th {\n",
       "        text-align: left;\n",
       "    }\n",
       "\n",
       "    .dataframe thead tr:last-of-type th {\n",
       "        text-align: right;\n",
       "    }\n",
       "</style>\n",
       "<table border=\"1\" class=\"dataframe\">\n",
       "  <thead>\n",
       "    <tr>\n",
       "      <th></th>\n",
       "      <th></th>\n",
       "      <th colspan=\"3\" halign=\"left\">count_messages</th>\n",
       "      <th colspan=\"3\" halign=\"left\">duration_calls</th>\n",
       "      <th colspan=\"3\" halign=\"left\">gb_used</th>\n",
       "    </tr>\n",
       "    <tr>\n",
       "      <th></th>\n",
       "      <th></th>\n",
       "      <th>mean</th>\n",
       "      <th>std</th>\n",
       "      <th>var</th>\n",
       "      <th>mean</th>\n",
       "      <th>std</th>\n",
       "      <th>var</th>\n",
       "      <th>mean</th>\n",
       "      <th>std</th>\n",
       "      <th>var</th>\n",
       "    </tr>\n",
       "    <tr>\n",
       "      <th>tariff</th>\n",
       "      <th>month</th>\n",
       "      <th></th>\n",
       "      <th></th>\n",
       "      <th></th>\n",
       "      <th></th>\n",
       "      <th></th>\n",
       "      <th></th>\n",
       "      <th></th>\n",
       "      <th></th>\n",
       "      <th></th>\n",
       "    </tr>\n",
       "  </thead>\n",
       "  <tbody>\n",
       "    <tr>\n",
       "      <td rowspan=\"12\" valign=\"top\">smart</td>\n",
       "      <td>1</td>\n",
       "      <td>18.24</td>\n",
       "      <td>16.20</td>\n",
       "      <td>262.37</td>\n",
       "      <td>203.85</td>\n",
       "      <td>154.23</td>\n",
       "      <td>23,787.34</td>\n",
       "      <td>8.74</td>\n",
       "      <td>6.28</td>\n",
       "      <td>39.41</td>\n",
       "    </tr>\n",
       "    <tr>\n",
       "      <td>2</td>\n",
       "      <td>24.09</td>\n",
       "      <td>21.75</td>\n",
       "      <td>473.10</td>\n",
       "      <td>298.69</td>\n",
       "      <td>190.82</td>\n",
       "      <td>36,412.29</td>\n",
       "      <td>11.84</td>\n",
       "      <td>6.10</td>\n",
       "      <td>37.15</td>\n",
       "    </tr>\n",
       "    <tr>\n",
       "      <td>3</td>\n",
       "      <td>31.86</td>\n",
       "      <td>26.80</td>\n",
       "      <td>718.49</td>\n",
       "      <td>390.05</td>\n",
       "      <td>191.89</td>\n",
       "      <td>36,823.16</td>\n",
       "      <td>15.23</td>\n",
       "      <td>5.71</td>\n",
       "      <td>32.55</td>\n",
       "    </tr>\n",
       "    <tr>\n",
       "      <td>4</td>\n",
       "      <td>30.74</td>\n",
       "      <td>24.54</td>\n",
       "      <td>602.14</td>\n",
       "      <td>367.13</td>\n",
       "      <td>186.49</td>\n",
       "      <td>34,778.21</td>\n",
       "      <td>13.62</td>\n",
       "      <td>5.59</td>\n",
       "      <td>31.30</td>\n",
       "    </tr>\n",
       "    <tr>\n",
       "      <td>5</td>\n",
       "      <td>33.77</td>\n",
       "      <td>27.04</td>\n",
       "      <td>730.99</td>\n",
       "      <td>387.36</td>\n",
       "      <td>186.60</td>\n",
       "      <td>34,820.06</td>\n",
       "      <td>15.91</td>\n",
       "      <td>5.86</td>\n",
       "      <td>34.37</td>\n",
       "    </tr>\n",
       "    <tr>\n",
       "      <td>6</td>\n",
       "      <td>33.40</td>\n",
       "      <td>28.40</td>\n",
       "      <td>806.81</td>\n",
       "      <td>395.64</td>\n",
       "      <td>175.34</td>\n",
       "      <td>30,742.92</td>\n",
       "      <td>15.95</td>\n",
       "      <td>5.65</td>\n",
       "      <td>31.91</td>\n",
       "    </tr>\n",
       "    <tr>\n",
       "      <td>7</td>\n",
       "      <td>33.75</td>\n",
       "      <td>28.28</td>\n",
       "      <td>799.89</td>\n",
       "      <td>408.35</td>\n",
       "      <td>179.58</td>\n",
       "      <td>32,250.27</td>\n",
       "      <td>15.88</td>\n",
       "      <td>5.78</td>\n",
       "      <td>33.42</td>\n",
       "    </tr>\n",
       "    <tr>\n",
       "      <td>8</td>\n",
       "      <td>33.64</td>\n",
       "      <td>28.95</td>\n",
       "      <td>838.26</td>\n",
       "      <td>421.47</td>\n",
       "      <td>186.53</td>\n",
       "      <td>34,793.58</td>\n",
       "      <td>16.74</td>\n",
       "      <td>5.48</td>\n",
       "      <td>30.04</td>\n",
       "    </tr>\n",
       "    <tr>\n",
       "      <td>9</td>\n",
       "      <td>33.64</td>\n",
       "      <td>28.12</td>\n",
       "      <td>790.62</td>\n",
       "      <td>428.61</td>\n",
       "      <td>183.13</td>\n",
       "      <td>33,535.34</td>\n",
       "      <td>16.39</td>\n",
       "      <td>5.09</td>\n",
       "      <td>25.88</td>\n",
       "    </tr>\n",
       "    <tr>\n",
       "      <td>10</td>\n",
       "      <td>33.77</td>\n",
       "      <td>28.57</td>\n",
       "      <td>816.11</td>\n",
       "      <td>426.14</td>\n",
       "      <td>188.13</td>\n",
       "      <td>35,392.34</td>\n",
       "      <td>16.88</td>\n",
       "      <td>5.74</td>\n",
       "      <td>32.90</td>\n",
       "    </tr>\n",
       "    <tr>\n",
       "      <td>11</td>\n",
       "      <td>34.08</td>\n",
       "      <td>28.39</td>\n",
       "      <td>805.94</td>\n",
       "      <td>435.27</td>\n",
       "      <td>177.78</td>\n",
       "      <td>31,605.24</td>\n",
       "      <td>17.00</td>\n",
       "      <td>5.21</td>\n",
       "      <td>27.18</td>\n",
       "    </tr>\n",
       "    <tr>\n",
       "      <td>12</td>\n",
       "      <td>35.99</td>\n",
       "      <td>30.58</td>\n",
       "      <td>934.95</td>\n",
       "      <td>478.56</td>\n",
       "      <td>199.25</td>\n",
       "      <td>39,698.62</td>\n",
       "      <td>18.20</td>\n",
       "      <td>5.46</td>\n",
       "      <td>29.79</td>\n",
       "    </tr>\n",
       "    <tr>\n",
       "      <td rowspan=\"12\" valign=\"top\">ultra</td>\n",
       "      <td>1</td>\n",
       "      <td>33.78</td>\n",
       "      <td>30.67</td>\n",
       "      <td>940.69</td>\n",
       "      <td>428.11</td>\n",
       "      <td>269.76</td>\n",
       "      <td>72,769.36</td>\n",
       "      <td>13.22</td>\n",
       "      <td>6.67</td>\n",
       "      <td>44.44</td>\n",
       "    </tr>\n",
       "    <tr>\n",
       "      <td>2</td>\n",
       "      <td>21.96</td>\n",
       "      <td>26.77</td>\n",
       "      <td>716.82</td>\n",
       "      <td>297.12</td>\n",
       "      <td>296.51</td>\n",
       "      <td>87,919.68</td>\n",
       "      <td>12.00</td>\n",
       "      <td>10.45</td>\n",
       "      <td>109.13</td>\n",
       "    </tr>\n",
       "    <tr>\n",
       "      <td>3</td>\n",
       "      <td>32.30</td>\n",
       "      <td>41.62</td>\n",
       "      <td>1,732.38</td>\n",
       "      <td>489.65</td>\n",
       "      <td>333.74</td>\n",
       "      <td>111,384.90</td>\n",
       "      <td>17.65</td>\n",
       "      <td>10.69</td>\n",
       "      <td>114.35</td>\n",
       "    </tr>\n",
       "    <tr>\n",
       "      <td>4</td>\n",
       "      <td>31.56</td>\n",
       "      <td>37.51</td>\n",
       "      <td>1,407.29</td>\n",
       "      <td>458.02</td>\n",
       "      <td>267.68</td>\n",
       "      <td>71,653.87</td>\n",
       "      <td>16.96</td>\n",
       "      <td>9.46</td>\n",
       "      <td>89.44</td>\n",
       "    </tr>\n",
       "    <tr>\n",
       "      <td>5</td>\n",
       "      <td>37.85</td>\n",
       "      <td>40.31</td>\n",
       "      <td>1,624.64</td>\n",
       "      <td>510.33</td>\n",
       "      <td>289.60</td>\n",
       "      <td>83,870.19</td>\n",
       "      <td>19.37</td>\n",
       "      <td>9.78</td>\n",
       "      <td>95.63</td>\n",
       "    </tr>\n",
       "    <tr>\n",
       "      <td>6</td>\n",
       "      <td>41.73</td>\n",
       "      <td>44.57</td>\n",
       "      <td>1,986.30</td>\n",
       "      <td>479.70</td>\n",
       "      <td>302.55</td>\n",
       "      <td>91,535.95</td>\n",
       "      <td>18.94</td>\n",
       "      <td>9.08</td>\n",
       "      <td>82.39</td>\n",
       "    </tr>\n",
       "    <tr>\n",
       "      <td>7</td>\n",
       "      <td>49.85</td>\n",
       "      <td>48.70</td>\n",
       "      <td>2,372.04</td>\n",
       "      <td>545.79</td>\n",
       "      <td>307.12</td>\n",
       "      <td>94,322.28</td>\n",
       "      <td>20.51</td>\n",
       "      <td>9.82</td>\n",
       "      <td>96.43</td>\n",
       "    </tr>\n",
       "    <tr>\n",
       "      <td>8</td>\n",
       "      <td>48.44</td>\n",
       "      <td>46.60</td>\n",
       "      <td>2,171.74</td>\n",
       "      <td>510.78</td>\n",
       "      <td>312.98</td>\n",
       "      <td>97,956.50</td>\n",
       "      <td>19.60</td>\n",
       "      <td>10.25</td>\n",
       "      <td>105.15</td>\n",
       "    </tr>\n",
       "    <tr>\n",
       "      <td>9</td>\n",
       "      <td>52.29</td>\n",
       "      <td>46.40</td>\n",
       "      <td>2,152.86</td>\n",
       "      <td>539.44</td>\n",
       "      <td>325.14</td>\n",
       "      <td>105,716.78</td>\n",
       "      <td>19.24</td>\n",
       "      <td>9.29</td>\n",
       "      <td>86.26</td>\n",
       "    </tr>\n",
       "    <tr>\n",
       "      <td>10</td>\n",
       "      <td>58.43</td>\n",
       "      <td>51.93</td>\n",
       "      <td>2,697.18</td>\n",
       "      <td>558.08</td>\n",
       "      <td>326.29</td>\n",
       "      <td>106,464.58</td>\n",
       "      <td>20.07</td>\n",
       "      <td>9.55</td>\n",
       "      <td>91.26</td>\n",
       "    </tr>\n",
       "    <tr>\n",
       "      <td>11</td>\n",
       "      <td>55.79</td>\n",
       "      <td>49.77</td>\n",
       "      <td>2,476.95</td>\n",
       "      <td>541.38</td>\n",
       "      <td>310.76</td>\n",
       "      <td>96,570.06</td>\n",
       "      <td>19.81</td>\n",
       "      <td>9.68</td>\n",
       "      <td>93.80</td>\n",
       "    </tr>\n",
       "    <tr>\n",
       "      <td>12</td>\n",
       "      <td>60.61</td>\n",
       "      <td>51.79</td>\n",
       "      <td>2,681.98</td>\n",
       "      <td>592.81</td>\n",
       "      <td>342.46</td>\n",
       "      <td>117,276.33</td>\n",
       "      <td>21.74</td>\n",
       "      <td>10.16</td>\n",
       "      <td>103.24</td>\n",
       "    </tr>\n",
       "  </tbody>\n",
       "</table>\n",
       "</div>"
      ],
      "text/plain": [
       "             count_messages                duration_calls                    \\\n",
       "                       mean   std      var           mean    std        var   \n",
       "tariff month                                                                  \n",
       "smart  1              18.24 16.20   262.37         203.85 154.23  23,787.34   \n",
       "       2              24.09 21.75   473.10         298.69 190.82  36,412.29   \n",
       "       3              31.86 26.80   718.49         390.05 191.89  36,823.16   \n",
       "       4              30.74 24.54   602.14         367.13 186.49  34,778.21   \n",
       "       5              33.77 27.04   730.99         387.36 186.60  34,820.06   \n",
       "       6              33.40 28.40   806.81         395.64 175.34  30,742.92   \n",
       "       7              33.75 28.28   799.89         408.35 179.58  32,250.27   \n",
       "       8              33.64 28.95   838.26         421.47 186.53  34,793.58   \n",
       "       9              33.64 28.12   790.62         428.61 183.13  33,535.34   \n",
       "       10             33.77 28.57   816.11         426.14 188.13  35,392.34   \n",
       "       11             34.08 28.39   805.94         435.27 177.78  31,605.24   \n",
       "       12             35.99 30.58   934.95         478.56 199.25  39,698.62   \n",
       "ultra  1              33.78 30.67   940.69         428.11 269.76  72,769.36   \n",
       "       2              21.96 26.77   716.82         297.12 296.51  87,919.68   \n",
       "       3              32.30 41.62 1,732.38         489.65 333.74 111,384.90   \n",
       "       4              31.56 37.51 1,407.29         458.02 267.68  71,653.87   \n",
       "       5              37.85 40.31 1,624.64         510.33 289.60  83,870.19   \n",
       "       6              41.73 44.57 1,986.30         479.70 302.55  91,535.95   \n",
       "       7              49.85 48.70 2,372.04         545.79 307.12  94,322.28   \n",
       "       8              48.44 46.60 2,171.74         510.78 312.98  97,956.50   \n",
       "       9              52.29 46.40 2,152.86         539.44 325.14 105,716.78   \n",
       "       10             58.43 51.93 2,697.18         558.08 326.29 106,464.58   \n",
       "       11             55.79 49.77 2,476.95         541.38 310.76  96,570.06   \n",
       "       12             60.61 51.79 2,681.98         592.81 342.46 117,276.33   \n",
       "\n",
       "             gb_used               \n",
       "                mean   std    var  \n",
       "tariff month                       \n",
       "smart  1        8.74  6.28  39.41  \n",
       "       2       11.84  6.10  37.15  \n",
       "       3       15.23  5.71  32.55  \n",
       "       4       13.62  5.59  31.30  \n",
       "       5       15.91  5.86  34.37  \n",
       "       6       15.95  5.65  31.91  \n",
       "       7       15.88  5.78  33.42  \n",
       "       8       16.74  5.48  30.04  \n",
       "       9       16.39  5.09  25.88  \n",
       "       10      16.88  5.74  32.90  \n",
       "       11      17.00  5.21  27.18  \n",
       "       12      18.20  5.46  29.79  \n",
       "ultra  1       13.22  6.67  44.44  \n",
       "       2       12.00 10.45 109.13  \n",
       "       3       17.65 10.69 114.35  \n",
       "       4       16.96  9.46  89.44  \n",
       "       5       19.37  9.78  95.63  \n",
       "       6       18.94  9.08  82.39  \n",
       "       7       20.51  9.82  96.43  \n",
       "       8       19.60 10.25 105.15  \n",
       "       9       19.24  9.29  86.26  \n",
       "       10      20.07  9.55  91.26  \n",
       "       11      19.81  9.68  93.80  \n",
       "       12      21.74 10.16 103.24  "
      ]
     },
     "execution_count": 24,
     "metadata": {},
     "output_type": "execute_result"
    }
   ],
   "source": [
    "#построим сводную таблицу для определения основных статистических параметров по месяцам\n",
    "\n",
    "client_tariff = all_options_month.pivot_table(index=['tariff', 'month'], values=['duration_calls', 'count_messages', 'gb_used'], aggfunc={'duration_calls':['mean', 'var', 'std'], 'count_messages':['mean', 'var', 'std'], 'gb_used':['mean', 'var', 'std']})\n",
    "\n",
    "client_tariff"
   ]
  },
  {
   "cell_type": "code",
   "execution_count": 25,
   "metadata": {},
   "outputs": [
    {
     "data": {
      "image/png": "[encoded data removed]",
      "text/plain": [
       "<Figure size 864x504 with 1 Axes>"
      ]
     },
     "metadata": {
      "needs_background": "light"
     },
     "output_type": "display_data"
    }
   ],
   "source": [
    "#заберем из сводной таблицы информацию о среднем количестве отправленных сообщений в месяц по разным тарифам и построим гистрограмму\n",
    "\n",
    "mess_smart = client_tariff.xs('count_messages', level=0, axis=1)['mean'].xs('smart', level=0)\n",
    "mess_ultra = client_tariff.xs('count_messages', level=0, axis=1)['mean'].xs('ultra', level=0)\n",
    "\n",
    "mess_ultra.plot(kind='bar', alpha=0.7, label='ultra')\n",
    "mess_smart.plot(kind='bar', alpha=0.7, label='smart', figsize=(12,7), color='orange')\n",
    "\n",
    "plt.legend(loc='upper left')\n",
    "plt.title('Сравнение количества отправленных сообщений пользователями разных тарифов в месяц')\n",
    "plt.xlabel('Месяцы')\n",
    "plt.ylabel('Среднее кол-во сообщений')\n",
    "plt.show()"
   ]
  },
  {
   "cell_type": "code",
   "execution_count": 26,
   "metadata": {},
   "outputs": [
    {
     "data": {
      "image/png": "[encoded data removed]",
      "text/plain": [
       "<Figure size 864x504 with 1 Axes>"
      ]
     },
     "metadata": {
      "needs_background": "light"
     },
     "output_type": "display_data"
    }
   ],
   "source": [
    "#заберем из сводной таблицы информацию о среднем количестве израсходованных минут в месяц по разным тарифам и построим гистрограмму\n",
    "\n",
    "calls_smart = client_tariff.xs('duration_calls', level=0, axis=1)['mean'].xs('smart', level=0)\n",
    "calls_ultra = client_tariff.xs('duration_calls', level=0, axis=1)['mean'].xs('ultra', level=0)\n",
    "\n",
    "calls_ultra.plot(kind='bar', alpha=0.7, label='ultra')\n",
    "calls_smart.plot(kind='bar', alpha=0.7, label='smart', figsize=(12,7), color='orange')\n",
    "\n",
    "\n",
    "plt.legend(loc='upper left')\n",
    "plt.title('Сравнение среднего количества израсходованных минут пользователями разных тарифов в месяц')\n",
    "plt.xlabel('Месяцы')\n",
    "plt.ylabel('Среднее количество израсходованных минут')\n",
    "plt.show()"
   ]
  },
  {
   "cell_type": "code",
   "execution_count": 27,
   "metadata": {},
   "outputs": [
    {
     "data": {
      "image/png": "[encoded data removed]",
      "text/plain": [
       "<Figure size 864x504 with 1 Axes>"
      ]
     },
     "metadata": {
      "needs_background": "light"
     },
     "output_type": "display_data"
    }
   ],
   "source": [
    "#заберем из сводной таблицы информацию о среднем значении израсходованного интернет-трафика в месяц по разным тарифам и построим гистрограмму\n",
    "\n",
    "gb_used_smart = client_tariff.xs('gb_used', level=0, axis=1)['mean'].xs('smart', level=0)\n",
    "gb_used_ultra = client_tariff.xs('gb_used', level=0, axis=1)['mean'].xs('ultra', level=0)\n",
    "\n",
    "gb_used_ultra.plot(kind='bar', alpha=0.7, label='ultra')\n",
    "gb_used_smart.plot(kind='bar', alpha=0.7, label='smart', figsize=(12,7), color='orange')\n",
    "\n",
    "plt.legend(loc='upper left')\n",
    "plt.title('Сравнение среднего израсходованного интернет-трафика пользователями разных тарифов в месяц')\n",
    "plt.xlabel('Месяцы')\n",
    "plt.ylabel('Среднее значение израсходованного трафика')\n",
    "plt.show()"
   ]
  },
  {
   "cell_type": "code",
   "execution_count": 28,
   "metadata": {},
   "outputs": [
    {
     "data": {
      "text/html": [
       "<div>\n",
       "<style scoped>\n",
       "    .dataframe tbody tr th:only-of-type {\n",
       "        vertical-align: middle;\n",
       "    }\n",
       "\n",
       "    .dataframe tbody tr th {\n",
       "        vertical-align: top;\n",
       "    }\n",
       "\n",
       "    .dataframe thead tr th {\n",
       "        text-align: left;\n",
       "    }\n",
       "\n",
       "    .dataframe thead tr:last-of-type th {\n",
       "        text-align: right;\n",
       "    }\n",
       "</style>\n",
       "<table border=\"1\" class=\"dataframe\">\n",
       "  <thead>\n",
       "    <tr>\n",
       "      <th></th>\n",
       "      <th colspan=\"3\" halign=\"left\">count_messages</th>\n",
       "      <th colspan=\"3\" halign=\"left\">duration_calls</th>\n",
       "      <th colspan=\"3\" halign=\"left\">gb_used</th>\n",
       "    </tr>\n",
       "    <tr>\n",
       "      <th></th>\n",
       "      <th>mean</th>\n",
       "      <th>std</th>\n",
       "      <th>var</th>\n",
       "      <th>mean</th>\n",
       "      <th>std</th>\n",
       "      <th>var</th>\n",
       "      <th>mean</th>\n",
       "      <th>std</th>\n",
       "      <th>var</th>\n",
       "    </tr>\n",
       "    <tr>\n",
       "      <th>tariff</th>\n",
       "      <th></th>\n",
       "      <th></th>\n",
       "      <th></th>\n",
       "      <th></th>\n",
       "      <th></th>\n",
       "      <th></th>\n",
       "      <th></th>\n",
       "      <th></th>\n",
       "      <th></th>\n",
       "    </tr>\n",
       "  </thead>\n",
       "  <tbody>\n",
       "    <tr>\n",
       "      <td>smart</td>\n",
       "      <td>33.38</td>\n",
       "      <td>28.23</td>\n",
       "      <td>796.81</td>\n",
       "      <td>417.93</td>\n",
       "      <td>190.31</td>\n",
       "      <td>36,219.32</td>\n",
       "      <td>16.33</td>\n",
       "      <td>5.75</td>\n",
       "      <td>33.03</td>\n",
       "    </tr>\n",
       "    <tr>\n",
       "      <td>ultra</td>\n",
       "      <td>49.36</td>\n",
       "      <td>47.80</td>\n",
       "      <td>2,285.27</td>\n",
       "      <td>526.62</td>\n",
       "      <td>317.61</td>\n",
       "      <td>100,873.63</td>\n",
       "      <td>19.49</td>\n",
       "      <td>9.85</td>\n",
       "      <td>97.09</td>\n",
       "    </tr>\n",
       "  </tbody>\n",
       "</table>\n",
       "</div>"
      ],
      "text/plain": [
       "       count_messages                duration_calls                   gb_used  \\\n",
       "                 mean   std      var           mean    std        var    mean   \n",
       "tariff                                                                          \n",
       "smart           33.38 28.23   796.81         417.93 190.31  36,219.32   16.33   \n",
       "ultra           49.36 47.80 2,285.27         526.62 317.61 100,873.63   19.49   \n",
       "\n",
       "                   \n",
       "        std   var  \n",
       "tariff             \n",
       "smart  5.75 33.03  \n",
       "ultra  9.85 97.09  "
      ]
     },
     "execution_count": 28,
     "metadata": {},
     "output_type": "execute_result"
    }
   ],
   "source": [
    "#построим сводную таблицу для определения основных статистических параметров в целом по тарифам\n",
    "\n",
    "client_tariff_hab = all_options_month.pivot_table(index='tariff', values=['duration_calls', 'count_messages', 'gb_used'], aggfunc={'duration_calls':['mean', 'var', 'std'], 'count_messages':['mean', 'var', 'std'], 'gb_used':['mean', 'var', 'std']})\n",
    "\n",
    "client_tariff_hab"
   ]
  },
  {
   "cell_type": "markdown",
   "metadata": {},
   "source": [
    "<div class=\"alert alert-info\">\n",
    "<b>Комментарий студента:</b>\n",
    "<br>\n",
    "<b>Для начала опишем поведение пользователей тарифа 'Smart':</b>\n",
    "<br>\n",
    "    \n",
    "Пользователи в среднем в месяц отправляют около 34 сообщений, тратят около 418 минут на разговоры и 16.33 ГБ интернет-трафика. Мы можем наблюдать достаточно большое стандартное отклонение по количеству отправленных сообщений, данный факт говорит о том, что в выборке есть как те, кто активно отправляет сообщения, так и те, кто вообще ими не пользуется. Также интересен тот факт, что пользователи данного тарифа в среднем не укладываются в выделенный лимит интернет-трафика - 15 ГБ, тратя 16.33 ГБ, при этом количества минут и сообщений достаточно.\n",
    "    \n",
    "<br>\n",
    "<b>Далее опишем поведение пользователей тарифа 'Ultra':</b>   \n",
    "<br>\n",
    "    \n",
    "Пользователи в среднем в месяц отправляют около 50 сообщений, тратят около 527 минут на разговоры и 19.5 ГБ интернет-трафика.\n",
    "По пользователям данного тарифа мы тоже можем наблюдать достаточно большое стандартное отклонение, что говорит о разнородности выборки по использованию смс-сообщений. Что еще интересно, так это то, что клиенты данного тарифа не расходуют даже пятой части отведенного лимита минут в месяц, при этом пользователи тарифа 'Smart' используют практически весь лимит минут по своему тарифу. В целом можно сказать, что в среднем пользователи тарифа 'Ultra' укладываются в месячные лимиты минут, сообщений и интернет-трафика.         \n",
    "<br>\n",
    "<b>Проведем помесячный анализ использования пользователями различных услгу по тарифам.</b>\n",
    "<br>\n",
    "Начнем с смс-сообщений: пользователи тарифа 'Smart' практически каждый месяц в среднем отправляют одинаковое количество сообщений, тогда как у пользователей тарифа 'Ultra' наблюдается рост отправляемых сообщений с февраля по декабрь.\n",
    "<br>\n",
    "Что касается среднего количества израсходованных минут в месяц, то у пользователей тарифа 'Ultra' нельзя выделить какую-либо динамику, тогда как у пользователей тарифа 'Smart' наблюдается ежемесячный рост расходуемых минут с апреля по декабрь.\n",
    "<br>\n",
    "По количеству израсходованного интернет-трафика нельзя выделить какую-либо динамику у пользователей обоих тарифов, есть как рост, так и снижение используемого трафика по месяцам.        \n",
    "</div>"
   ]
  },
  {
   "cell_type": "markdown",
   "metadata": {},
   "source": [
    "### Построение гистограмм частот"
   ]
  },
  {
   "cell_type": "code",
   "execution_count": 29,
   "metadata": {},
   "outputs": [],
   "source": [
    "#теперь подготовим данные для построения гистограмм частот\n",
    "duration_calls_smart = all_options_month.query('tariff == \"smart\"')['duration_calls']\n",
    "count_messages_smart = all_options_month.query('tariff == \"smart\"')['count_messages']\n",
    "internet_smart = all_options_month.query('tariff == \"smart\"')['gb_used']\n",
    "\n",
    "duration_calls_ultra = all_options_month.query('tariff == \"ultra\"')['duration_calls']\n",
    "count_messages_ultra = all_options_month.query('tariff == \"ultra\"')['count_messages']\n",
    "internet_ultra = all_options_month.query('tariff == \"ultra\"')['gb_used']"
   ]
  },
  {
   "cell_type": "code",
   "execution_count": 30,
   "metadata": {},
   "outputs": [
    {
     "data": {
      "image/png": "[encoded data removed]",
      "text/plain": [
       "<Figure size 864x504 with 1 Axes>"
      ]
     },
     "metadata": {
      "needs_background": "light"
     },
     "output_type": "display_data"
    }
   ],
   "source": [
    "# строим гистограмму распределения количества минут\n",
    "plt.figure(figsize=(12, 7))\n",
    "\n",
    "duration_calls_ultra.hist(bins=70, alpha=0.5, label='ultra')\n",
    "duration_calls_smart.hist(bins=70, alpha=0.5, label='smart')\n",
    "\n",
    "plt.legend(loc='upper right')\n",
    "plt.title('Количество израсходованных минут пользователями разных тарифов в месяц')\n",
    "plt.xlabel('Количество израсходованных минут')\n",
    "plt.ylabel('Частота')\n",
    "plt.show()"
   ]
  },
  {
   "cell_type": "markdown",
   "metadata": {},
   "source": [
    "<div class=\"alert alert-info\">\n",
    "<b>Комментарий студента:</b>\n",
    "<br>\n",
    "По приведенной выше гистограмме можно говорить о том, что наши выборки имеют близкое к нормальному распределение по количеству израсходованных минут. Для тарифа 'smart' это выражено более ярко, у тарифа 'ultra' - менее.\n",
    "</div>"
   ]
  },
  {
   "cell_type": "code",
   "execution_count": 31,
   "metadata": {},
   "outputs": [
    {
     "data": {
      "image/png": "[encoded data removed]",
      "text/plain": [
       "<Figure size 864x504 with 1 Axes>"
      ]
     },
     "metadata": {
      "needs_background": "light"
     },
     "output_type": "display_data"
    }
   ],
   "source": [
    "# строим гистограмму распределения израсходованных сообщений\n",
    "plt.figure(figsize=(12, 7))\n",
    "\n",
    "count_messages_ultra.hist(bins=70, alpha=0.5, label='ultra')\n",
    "count_messages_smart.hist(bins=70, alpha=0.5, label='smart')\n",
    "\n",
    "plt.legend(loc='upper right')\n",
    "plt.title('Количество израсходованных сообщений пользователями разных тарифов в месяц')\n",
    "plt.xlabel('Количество израсходованных сообщений')\n",
    "plt.ylabel('Частота')\n",
    "plt.ylim(0,100)\n",
    "plt.show()"
   ]
  },
  {
   "cell_type": "markdown",
   "metadata": {},
   "source": [
    "<div class=\"alert alert-info\">\n",
    "<b>Комментарий студента:</b>\n",
    "<br>\n",
    "На приведенной выше гистограмме выделяется столбец со значениями в ноль сообщений, это те пользователи, которые не отправляли сообщения. Тут мы уже наблюдаем распределение близкое к распределению Пуассона. \n",
    "</div>"
   ]
  },
  {
   "cell_type": "code",
   "execution_count": 32,
   "metadata": {},
   "outputs": [
    {
     "data": {
      "image/png": "[encoded data removed]",
      "text/plain": [
       "<Figure size 864x504 with 1 Axes>"
      ]
     },
     "metadata": {
      "needs_background": "light"
     },
     "output_type": "display_data"
    }
   ],
   "source": [
    "# строим гистограмму распределения израсходованного интернет-трафика\n",
    "plt.figure(figsize=(12, 7))\n",
    "\n",
    "internet_ultra.hist(bins=30, alpha=0.5, label='ultra')\n",
    "internet_smart.hist(bins=30, alpha=0.5, label='smart')\n",
    "\n",
    "plt.legend(loc='upper right')\n",
    "plt.title('Количество израсходованного интернет-трафика пользователями разных тарифов в месяц')\n",
    "plt.xlabel('Количество израсходованного интернет-трафика')\n",
    "plt.ylabel('Частота')\n",
    "plt.show()"
   ]
  },
  {
   "cell_type": "markdown",
   "metadata": {},
   "source": [
    "<div class=\"alert alert-info\">\n",
    "<b>Комментарий студента:</b>\n",
    "<br>\n",
    "На гистограмме по распределению израсходованного интернет-трафика мы тоже видим распределение близкое к нормальному распределению.\n",
    "</div>"
   ]
  },
  {
   "cell_type": "markdown",
   "metadata": {},
   "source": [
    "## Проверка гипотез"
   ]
  },
  {
   "cell_type": "markdown",
   "metadata": {},
   "source": [
    "### Анализ выручки"
   ]
  },
  {
   "cell_type": "code",
   "execution_count": 33,
   "metadata": {},
   "outputs": [
    {
     "data": {
      "text/html": [
       "<div>\n",
       "<style scoped>\n",
       "    .dataframe tbody tr th:only-of-type {\n",
       "        vertical-align: middle;\n",
       "    }\n",
       "\n",
       "    .dataframe tbody tr th {\n",
       "        vertical-align: top;\n",
       "    }\n",
       "\n",
       "    .dataframe thead th {\n",
       "        text-align: right;\n",
       "    }\n",
       "</style>\n",
       "<table border=\"1\" class=\"dataframe\">\n",
       "  <thead>\n",
       "    <tr style=\"text-align: right;\">\n",
       "      <th></th>\n",
       "      <th></th>\n",
       "      <th>mean</th>\n",
       "      <th>std</th>\n",
       "      <th>var</th>\n",
       "    </tr>\n",
       "    <tr>\n",
       "      <th>tariff</th>\n",
       "      <th>month</th>\n",
       "      <th></th>\n",
       "      <th></th>\n",
       "      <th></th>\n",
       "    </tr>\n",
       "  </thead>\n",
       "  <tbody>\n",
       "    <tr>\n",
       "      <td rowspan=\"12\" valign=\"top\">smart</td>\n",
       "      <td>1</td>\n",
       "      <td>721.32</td>\n",
       "      <td>438.77</td>\n",
       "      <td>192,516.16</td>\n",
       "    </tr>\n",
       "    <tr>\n",
       "      <td>2</td>\n",
       "      <td>827.60</td>\n",
       "      <td>540.70</td>\n",
       "      <td>292,358.66</td>\n",
       "    </tr>\n",
       "    <tr>\n",
       "      <td>3</td>\n",
       "      <td>1,164.62</td>\n",
       "      <td>698.03</td>\n",
       "      <td>487,239.03</td>\n",
       "    </tr>\n",
       "    <tr>\n",
       "      <td>4</td>\n",
       "      <td>963.09</td>\n",
       "      <td>562.06</td>\n",
       "      <td>315,916.55</td>\n",
       "    </tr>\n",
       "    <tr>\n",
       "      <td>5</td>\n",
       "      <td>1,197.51</td>\n",
       "      <td>722.97</td>\n",
       "      <td>522,690.18</td>\n",
       "    </tr>\n",
       "    <tr>\n",
       "      <td>6</td>\n",
       "      <td>1,204.02</td>\n",
       "      <td>745.74</td>\n",
       "      <td>556,125.17</td>\n",
       "    </tr>\n",
       "    <tr>\n",
       "      <td>7</td>\n",
       "      <td>1,223.95</td>\n",
       "      <td>738.47</td>\n",
       "      <td>545,338.25</td>\n",
       "    </tr>\n",
       "    <tr>\n",
       "      <td>8</td>\n",
       "      <td>1,320.60</td>\n",
       "      <td>792.22</td>\n",
       "      <td>627,619.37</td>\n",
       "    </tr>\n",
       "    <tr>\n",
       "      <td>9</td>\n",
       "      <td>1,249.95</td>\n",
       "      <td>732.59</td>\n",
       "      <td>536,688.49</td>\n",
       "    </tr>\n",
       "    <tr>\n",
       "      <td>10</td>\n",
       "      <td>1,364.85</td>\n",
       "      <td>842.77</td>\n",
       "      <td>710,266.39</td>\n",
       "    </tr>\n",
       "    <tr>\n",
       "      <td>11</td>\n",
       "      <td>1,343.05</td>\n",
       "      <td>795.73</td>\n",
       "      <td>633,185.80</td>\n",
       "    </tr>\n",
       "    <tr>\n",
       "      <td>12</td>\n",
       "      <td>1,578.53</td>\n",
       "      <td>1,034.74</td>\n",
       "      <td>1,070,678.49</td>\n",
       "    </tr>\n",
       "    <tr>\n",
       "      <td rowspan=\"12\" valign=\"top\">ultra</td>\n",
       "      <td>1</td>\n",
       "      <td>1,950.00</td>\n",
       "      <td>0.00</td>\n",
       "      <td>0.00</td>\n",
       "    </tr>\n",
       "    <tr>\n",
       "      <td>2</td>\n",
       "      <td>1,975.00</td>\n",
       "      <td>84.70</td>\n",
       "      <td>7,173.91</td>\n",
       "    </tr>\n",
       "    <tr>\n",
       "      <td>3</td>\n",
       "      <td>2,014.86</td>\n",
       "      <td>207.79</td>\n",
       "      <td>43,175.68</td>\n",
       "    </tr>\n",
       "    <tr>\n",
       "      <td>4</td>\n",
       "      <td>2,001.82</td>\n",
       "      <td>196.25</td>\n",
       "      <td>38,515.15</td>\n",
       "    </tr>\n",
       "    <tr>\n",
       "      <td>5</td>\n",
       "      <td>2,059.70</td>\n",
       "      <td>403.32</td>\n",
       "      <td>162,669.61</td>\n",
       "    </tr>\n",
       "    <tr>\n",
       "      <td>6</td>\n",
       "      <td>2,039.29</td>\n",
       "      <td>315.95</td>\n",
       "      <td>99,823.58</td>\n",
       "    </tr>\n",
       "    <tr>\n",
       "      <td>7</td>\n",
       "      <td>2,118.13</td>\n",
       "      <td>446.00</td>\n",
       "      <td>198,917.58</td>\n",
       "    </tr>\n",
       "    <tr>\n",
       "      <td>8</td>\n",
       "      <td>2,083.18</td>\n",
       "      <td>399.70</td>\n",
       "      <td>159,761.51</td>\n",
       "    </tr>\n",
       "    <tr>\n",
       "      <td>9</td>\n",
       "      <td>2,024.35</td>\n",
       "      <td>246.85</td>\n",
       "      <td>60,937.07</td>\n",
       "    </tr>\n",
       "    <tr>\n",
       "      <td>10</td>\n",
       "      <td>2,065.85</td>\n",
       "      <td>386.89</td>\n",
       "      <td>149,685.13</td>\n",
       "    </tr>\n",
       "    <tr>\n",
       "      <td>11</td>\n",
       "      <td>2,092.16</td>\n",
       "      <td>409.38</td>\n",
       "      <td>167,588.51</td>\n",
       "    </tr>\n",
       "    <tr>\n",
       "      <td>12</td>\n",
       "      <td>2,138.85</td>\n",
       "      <td>482.30</td>\n",
       "      <td>232,610.26</td>\n",
       "    </tr>\n",
       "  </tbody>\n",
       "</table>\n",
       "</div>"
      ],
      "text/plain": [
       "                 mean      std          var\n",
       "tariff month                               \n",
       "smart  1       721.32   438.77   192,516.16\n",
       "       2       827.60   540.70   292,358.66\n",
       "       3     1,164.62   698.03   487,239.03\n",
       "       4       963.09   562.06   315,916.55\n",
       "       5     1,197.51   722.97   522,690.18\n",
       "       6     1,204.02   745.74   556,125.17\n",
       "       7     1,223.95   738.47   545,338.25\n",
       "       8     1,320.60   792.22   627,619.37\n",
       "       9     1,249.95   732.59   536,688.49\n",
       "       10    1,364.85   842.77   710,266.39\n",
       "       11    1,343.05   795.73   633,185.80\n",
       "       12    1,578.53 1,034.74 1,070,678.49\n",
       "ultra  1     1,950.00     0.00         0.00\n",
       "       2     1,975.00    84.70     7,173.91\n",
       "       3     2,014.86   207.79    43,175.68\n",
       "       4     2,001.82   196.25    38,515.15\n",
       "       5     2,059.70   403.32   162,669.61\n",
       "       6     2,039.29   315.95    99,823.58\n",
       "       7     2,118.13   446.00   198,917.58\n",
       "       8     2,083.18   399.70   159,761.51\n",
       "       9     2,024.35   246.85    60,937.07\n",
       "       10    2,065.85   386.89   149,685.13\n",
       "       11    2,092.16   409.38   167,588.51\n",
       "       12    2,138.85   482.30   232,610.26"
      ]
     },
     "execution_count": 33,
     "metadata": {},
     "output_type": "execute_result"
    }
   ],
   "source": [
    "#построим сводную таблицу для определения основных статистических параметров выручки по месяцам\n",
    "\n",
    "client_revenue = all_options_month.pivot_table(index=['tariff', 'month'], values='revenue', aggfunc={'revenue':['mean', 'var', 'std']})\n",
    "\n",
    "client_revenue"
   ]
  },
  {
   "cell_type": "code",
   "execution_count": 34,
   "metadata": {},
   "outputs": [
    {
     "data": {
      "image/png": "[encoded data removed]",
      "text/plain": [
       "<Figure size 864x504 with 1 Axes>"
      ]
     },
     "metadata": {
      "needs_background": "light"
     },
     "output_type": "display_data"
    }
   ],
   "source": [
    "#построим гистрограмму для сравнения средней выручки от разных тарифов в месяц\n",
    "\n",
    "revenue_smart = client_revenue['mean'].xs('smart', level=0)\n",
    "revenue_ultra = client_revenue['mean'].xs('ultra', level=0)\n",
    "\n",
    "revenue_ultra.plot(kind='bar', alpha=0.7, label='ultra')\n",
    "revenue_smart.plot(kind='bar', alpha=0.7, label='smart', figsize=(12,7), color='orange')\n",
    "\n",
    "plt.legend(loc='upper left')\n",
    "plt.title('Сравнение выручки от разных тарифов в месяц')\n",
    "plt.xlabel('Месяцы')\n",
    "plt.ylabel('Средняя выручка')\n",
    "plt.show()"
   ]
  },
  {
   "cell_type": "code",
   "execution_count": 35,
   "metadata": {},
   "outputs": [
    {
     "data": {
      "text/html": [
       "<div>\n",
       "<style scoped>\n",
       "    .dataframe tbody tr th:only-of-type {\n",
       "        vertical-align: middle;\n",
       "    }\n",
       "\n",
       "    .dataframe tbody tr th {\n",
       "        vertical-align: top;\n",
       "    }\n",
       "\n",
       "    .dataframe thead th {\n",
       "        text-align: right;\n",
       "    }\n",
       "</style>\n",
       "<table border=\"1\" class=\"dataframe\">\n",
       "  <thead>\n",
       "    <tr style=\"text-align: right;\">\n",
       "      <th></th>\n",
       "      <th>mean</th>\n",
       "      <th>std</th>\n",
       "      <th>var</th>\n",
       "    </tr>\n",
       "    <tr>\n",
       "      <th>tariff</th>\n",
       "      <th></th>\n",
       "      <th></th>\n",
       "      <th></th>\n",
       "    </tr>\n",
       "  </thead>\n",
       "  <tbody>\n",
       "    <tr>\n",
       "      <td>smart</td>\n",
       "      <td>1,289.97</td>\n",
       "      <td>818.40</td>\n",
       "      <td>669,785.71</td>\n",
       "    </tr>\n",
       "    <tr>\n",
       "      <td>ultra</td>\n",
       "      <td>2,070.15</td>\n",
       "      <td>376.19</td>\n",
       "      <td>141,516.75</td>\n",
       "    </tr>\n",
       "  </tbody>\n",
       "</table>\n",
       "</div>"
      ],
      "text/plain": [
       "           mean    std        var\n",
       "tariff                           \n",
       "smart  1,289.97 818.40 669,785.71\n",
       "ultra  2,070.15 376.19 141,516.75"
      ]
     },
     "execution_count": 35,
     "metadata": {},
     "output_type": "execute_result"
    }
   ],
   "source": [
    "# также узнаем средние статистические параметры для выручки от использования разных тарифов\n",
    "\n",
    "client_revenue_mean = all_options_month.pivot_table(index='tariff', values='revenue', aggfunc={'revenue':['mean', 'var', 'std']})\n",
    "\n",
    "client_revenue_mean"
   ]
  },
  {
   "cell_type": "code",
   "execution_count": 36,
   "metadata": {
    "scrolled": true
   },
   "outputs": [
    {
     "data": {
      "image/png": "[encoded data removed]",
      "text/plain": [
       "<Figure size 864x504 with 1 Axes>"
      ]
     },
     "metadata": {
      "needs_background": "light"
     },
     "output_type": "display_data"
    }
   ],
   "source": [
    "# построим гистограмму распределения выручки по месяцам\n",
    "\n",
    "revenue_dens_smart = all_options_month.query('tariff == \"smart\"')['revenue']\n",
    "revenue_dens_ultra = all_options_month.query('tariff == \"ultra\"')['revenue']\n",
    "\n",
    "plt.figure(figsize=(12, 7))\n",
    "\n",
    "revenue_dens_ultra.hist(bins=30, alpha=0.5, label='ultra')\n",
    "revenue_dens_smart.hist(bins=30, alpha=0.5, label='smart')\n",
    "\n",
    "plt.legend(loc='upper right')\n",
    "plt.title('Выручка от разных тарифов в месяц')\n",
    "plt.xlabel('Выручка от разных тарифов в месяц')\n",
    "plt.ylabel('Частота')\n",
    "plt.show()"
   ]
  },
  {
   "cell_type": "markdown",
   "metadata": {},
   "source": [
    "<div class=\"alert alert-info\">\n",
    "<b>Комментарий студента:</b>\n",
    "<br>\n",
    "Как мы можем заметить по гистограмме распределения пользователи тарифа 'smart' чаще переплачивают за использование услуг оператора. \n",
    "</div>"
   ]
  },
  {
   "cell_type": "markdown",
   "metadata": {},
   "source": [
    "### Проверка гипотез"
   ]
  },
  {
   "cell_type": "markdown",
   "metadata": {},
   "source": [
    "<b>1 гипотеза:</b>\n",
    "средняя выручка пользователей тарифов «Ультра» и «Смарт» различаются\n",
    "\n",
    "\n",
    "<b>Сформулируем нулевую гипотезу:</b>\n",
    "<br>\n",
    "среднее месячной выручки пользователей тарифов «Ультра» и «Смарт» равны.\n",
    "\n",
    "Далее сформулируем противоположную по смыслу нулевой гипотезе - <b>альтернативную</b>:\n",
    "<br>\n",
    "среднее месячной выручки пользователей тарифов «Ультра» и «Смарт» различаются.\n",
    "<br>\n",
    "Пороговое значение alpha примем 0.05.\n",
    "\n",
    "Чтобы проверить гипотезу о равенстве среднего двух генеральных совокупностей по взятым из них выборкам применим метод 'ttest_ind'. Значение параметра equal_var поставим False, т.к. дисперсия между тарифами различна(таблица п.4.1)."
   ]
  },
  {
   "cell_type": "code",
   "execution_count": 37,
   "metadata": {},
   "outputs": [
    {
     "name": "stdout",
     "output_type": "stream",
     "text": [
      "p-значение:  4.2606313931076085e-250\n",
      "Отвергаем нулевую гипотезу\n"
     ]
    }
   ],
   "source": [
    "alpha = .05 # критический уровень статистической значимости\n",
    "# если p-value окажется меньше него - отвегнем гипотезу\n",
    "\n",
    "results = st.ttest_ind(\n",
    "    revenue_dens_smart, \n",
    "    revenue_dens_ultra, equal_var=False)\n",
    "\n",
    "print('p-значение: ', results.pvalue)\n",
    "\n",
    "if results.pvalue < alpha:\n",
    "    print(\"Отвергаем нулевую гипотезу\")\n",
    "else:\n",
    "    print(\"Не получилось отвергнуть нулевую гипотезу\") "
   ]
  },
  {
   "cell_type": "markdown",
   "metadata": {},
   "source": [
    "<div class=\"alert alert-info\">\n",
    "<b>Комментарий студента:</b>\n",
    "<br>\n",
    "В ходе проверки гипотез мы отвергли нулевую гипотезу и можем говорить о том, что средняя выручка пользователей тарифов «Ультра» и «Смарт» различается.\n",
    "</div>"
   ]
  },
  {
   "cell_type": "markdown",
   "metadata": {},
   "source": [
    "<b>2 гипотеза:</b>\n",
    "средняя выручка пользователей из Москвы отличается от выручки пользователей из других регионов.\n",
    "\n",
    "<b>Сформулируем нулевую гипотезу:</b>\n",
    "<br>\n",
    "средняя выручка пользователей из Москвы равна выручке пользователей из других регионов.\n",
    "\n",
    "Далее сформулируем противоположную по смыслу нулевой гипотезе - <b>альтернативную</b>:\n",
    "<br>\n",
    "средняя выручка пользователей из Москвы отличается от выручки пользователей из других регионов.\n",
    "<br>\n",
    "Пороговое значение alpha примем 0.05.\n",
    "\n",
    "Чтобы проверить гипотезу о равенстве среднего двух генеральных совокупностей по взятым из них выборкам применим метод 'ttest_ind'. Значение параметра equal_var поставим False, т.к. дисперсия между тарифами различна."
   ]
  },
  {
   "cell_type": "code",
   "execution_count": 38,
   "metadata": {},
   "outputs": [
    {
     "name": "stdout",
     "output_type": "stream",
     "text": [
      "p-значение:  0.5257376663729298\n",
      "Не получилось отвергнуть нулевую гипотезу\n"
     ]
    }
   ],
   "source": [
    "alpha = .05 # критический уровень статистической значимости\n",
    "# если p-value окажется меньше него - отвегнем гипотезу\n",
    "\n",
    "results = st.ttest_ind(\n",
    "    all_options_month.query('city == \"Москва\"')['revenue'], \n",
    "    all_options_month.query('city != \"Москва\"')['revenue'], equal_var=False)\n",
    "\n",
    "print('p-значение: ', results.pvalue)\n",
    "\n",
    "if results.pvalue < alpha:\n",
    "    print(\"Отвергаем нулевую гипотезу\")\n",
    "else:\n",
    "    print(\"Не получилось отвергнуть нулевую гипотезу\") "
   ]
  },
  {
   "cell_type": "markdown",
   "metadata": {},
   "source": [
    "<div class=\"alert alert-info\">\n",
    "<b>Комментарий студента:</b>\n",
    "<br>\n",
    "В ходе проверки гипотез не смогли отвергнуть нулевую гипотезу и можем говорить о том, что средняя выручка пользователей из Москвы равна выручке пользователей из других регионов.\n",
    "</div>"
   ]
  },
  {
   "cell_type": "markdown",
   "metadata": {},
   "source": [
    "## Выводы"
   ]
  },
  {
   "cell_type": "markdown",
   "metadata": {},
   "source": [
    "- Нами были изучены и подготовлены данные для статистического анализа поведения пользователей раличных тарифов\n",
    "- Был проведен анализ поведения пользователей\n",
    "- Были проведены проверки гипотез: гипотеза о том, что средняя выручка пользователей тарифов «Ультра» и «Смарт» различаются подтвердилась, и не подтвердилась гипотеза о том, что средняя выручка пользователей из Москвы отличается от выручки пользователей из других регионов.\n",
    "- Как мы выяснили из исследования, пользователи тарифа «Смарт» чаще переплачивают за использование услуг по своему тарифу, однако, тариф «Ультра» приносит больше выручки оператору и именно на него коммерческий департамент должен направить свои средства.\n",
    "- Также интересно то, что пользователи тарифа \"Ультра\" тратят в среднем каждый месяц одинаково, редко превышая лимит по тарифу, а вот у пользователей тарифа \"Смарт\" есть интересная динамика: с начала года и до его конца пользователи в среднем переплачивают все больше и больше, за исключением некоторых месяцев, но в целом имеется положительная динамика по переплате за услуги оператора."
   ]
  },
  {
   "cell_type": "code",
   "execution_count": 39,
   "metadata": {},
   "outputs": [
    {
     "data": {
      "image/png": "[encoded data removed]",
      "text/plain": [
       "<Figure size 864x504 with 1 Axes>"
      ]
     },
     "metadata": {
      "needs_background": "light"
     },
     "output_type": "display_data"
    }
   ],
   "source": [
    "#построим гистрограмму для сравнения средней выручки от разных тарифов в месяц\n",
    "\n",
    "revenue_smart = client_revenue['mean'].xs('smart', level=0)\n",
    "revenue_ultra = client_revenue['mean'].xs('ultra', level=0)\n",
    "\n",
    "revenue_ultra.plot(kind='bar', alpha=0.7, label='ultra')\n",
    "revenue_smart.plot(kind='bar', alpha=0.7, label='smart', figsize=(12,7), color='orange')\n",
    "\n",
    "plt.legend(loc='upper left')\n",
    "plt.title('Сравнение выручки от разных тарифов в месяц')\n",
    "plt.xlabel('Месяцы')\n",
    "plt.ylabel('Средняя выручка')\n",
    "plt.show()"
   ]
  }
 ],
 "metadata": {
  "ExecuteTimeLog": [
   {
    "duration": 1063,
    "start_time": "2022-02-15T15:30:24.599Z"
   },
   {
    "duration": 306,
    "start_time": "2022-02-15T15:31:58.742Z"
   },
   {
    "duration": 12,
    "start_time": "2022-02-15T15:32:04.711Z"
   },
   {
    "duration": 290,
    "start_time": "2022-02-15T15:32:28.990Z"
   },
   {
    "duration": 11,
    "start_time": "2022-02-15T15:32:29.822Z"
   },
   {
    "duration": 558,
    "start_time": "2022-02-15T15:35:19.315Z"
   },
   {
    "duration": 571,
    "start_time": "2022-02-15T15:35:40.823Z"
   },
   {
    "duration": 3311,
    "start_time": "2022-02-15T15:36:01.988Z"
   },
   {
    "duration": 3235,
    "start_time": "2022-02-15T15:36:06.808Z"
   },
   {
    "duration": 13,
    "start_time": "2022-02-15T15:36:10.046Z"
   },
   {
    "duration": 614,
    "start_time": "2022-02-16T04:27:21.109Z"
   },
   {
    "duration": 601,
    "start_time": "2022-02-16T04:27:52.999Z"
   },
   {
    "duration": 1238,
    "start_time": "2022-02-16T04:29:52.689Z"
   },
   {
    "duration": 7885,
    "start_time": "2022-02-16T04:30:04.997Z"
   },
   {
    "duration": -252,
    "start_time": "2022-02-16T04:30:13.136Z"
   },
   {
    "duration": 1104,
    "start_time": "2022-02-16T04:30:24.207Z"
   },
   {
    "duration": 1114,
    "start_time": "2022-02-16T04:30:47.824Z"
   },
   {
    "duration": 242,
    "start_time": "2022-02-16T04:30:54.828Z"
   },
   {
    "duration": 14,
    "start_time": "2022-02-16T04:31:01.043Z"
   },
   {
    "duration": 489,
    "start_time": "2022-02-16T04:34:47.711Z"
   },
   {
    "duration": 544,
    "start_time": "2022-02-16T04:34:59.437Z"
   },
   {
    "duration": 12778,
    "start_time": "2022-02-16T04:35:05.597Z"
   },
   {
    "duration": 2079,
    "start_time": "2022-02-16T04:53:55.430Z"
   },
   {
    "duration": 1998,
    "start_time": "2022-02-16T04:54:10.648Z"
   },
   {
    "duration": 1142,
    "start_time": "2022-02-16T04:54:35.427Z"
   },
   {
    "duration": 4,
    "start_time": "2022-02-16T04:54:37.795Z"
   },
   {
    "duration": 12,
    "start_time": "2022-02-16T04:54:50.119Z"
   },
   {
    "duration": 3,
    "start_time": "2022-02-16T04:54:55.248Z"
   },
   {
    "duration": 4,
    "start_time": "2022-02-16T04:55:00.285Z"
   },
   {
    "duration": 4,
    "start_time": "2022-02-16T04:55:08.054Z"
   },
   {
    "duration": 602,
    "start_time": "2022-02-16T04:55:35.360Z"
   },
   {
    "duration": 551,
    "start_time": "2022-02-16T04:55:56.175Z"
   },
   {
    "duration": 604,
    "start_time": "2022-02-16T04:56:09.611Z"
   },
   {
    "duration": 609,
    "start_time": "2022-02-16T04:56:35.402Z"
   },
   {
    "duration": 652,
    "start_time": "2022-02-16T04:56:46.179Z"
   },
   {
    "duration": 1187,
    "start_time": "2022-02-16T05:01:33.659Z"
   },
   {
    "duration": 4,
    "start_time": "2022-02-16T05:01:37.055Z"
   },
   {
    "duration": 13,
    "start_time": "2022-02-16T05:03:04.747Z"
   },
   {
    "duration": 361,
    "start_time": "2022-02-16T05:03:14.827Z"
   },
   {
    "duration": 350,
    "start_time": "2022-02-16T05:03:53.334Z"
   },
   {
    "duration": 1448,
    "start_time": "2022-02-16T05:03:58.159Z"
   },
   {
    "duration": 80,
    "start_time": "2022-02-16T05:04:14.079Z"
   },
   {
    "duration": 1151,
    "start_time": "2022-02-16T05:04:26.613Z"
   },
   {
    "duration": 1185,
    "start_time": "2022-02-16T05:05:54.120Z"
   },
   {
    "duration": 366,
    "start_time": "2022-02-16T05:05:55.866Z"
   },
   {
    "duration": 4,
    "start_time": "2022-02-16T05:06:00.340Z"
   },
   {
    "duration": 2060,
    "start_time": "2022-02-16T05:06:37.548Z"
   },
   {
    "duration": -314,
    "start_time": "2022-02-16T05:06:39.924Z"
   },
   {
    "duration": 11,
    "start_time": "2022-02-16T05:06:59.363Z"
   },
   {
    "duration": 634,
    "start_time": "2022-02-16T05:08:13.400Z"
   },
   {
    "duration": 558,
    "start_time": "2022-02-16T05:08:18.534Z"
   },
   {
    "duration": 1131,
    "start_time": "2022-02-16T05:08:22.950Z"
   },
   {
    "duration": 12,
    "start_time": "2022-02-16T05:08:24.468Z"
   },
   {
    "duration": 72,
    "start_time": "2022-02-16T06:56:35.240Z"
   },
   {
    "duration": 1154,
    "start_time": "2022-02-16T06:56:44.764Z"
   },
   {
    "duration": 1151,
    "start_time": "2022-02-16T06:57:02.010Z"
   },
   {
    "duration": 1109,
    "start_time": "2022-02-16T06:57:35.774Z"
   },
   {
    "duration": 218,
    "start_time": "2022-02-16T06:57:55.539Z"
   },
   {
    "duration": 1112,
    "start_time": "2022-02-16T07:23:24.147Z"
   },
   {
    "duration": 1181,
    "start_time": "2022-02-16T07:23:25.261Z"
   },
   {
    "duration": 322,
    "start_time": "2022-02-16T07:23:26.444Z"
   },
   {
    "duration": 1099,
    "start_time": "2022-02-16T08:39:33.761Z"
   },
   {
    "duration": 1192,
    "start_time": "2022-02-16T08:39:34.862Z"
   },
   {
    "duration": 282,
    "start_time": "2022-02-16T08:39:36.057Z"
   },
   {
    "duration": 310,
    "start_time": "2022-02-16T09:16:30.655Z"
   },
   {
    "duration": 567,
    "start_time": "2022-02-16T09:23:07.401Z"
   },
   {
    "duration": 14,
    "start_time": "2022-02-16T09:24:34.046Z"
   },
   {
    "duration": 14,
    "start_time": "2022-02-16T09:24:40.130Z"
   },
   {
    "duration": 10,
    "start_time": "2022-02-16T09:24:54.721Z"
   },
   {
    "duration": 8,
    "start_time": "2022-02-16T09:25:02.650Z"
   },
   {
    "duration": 14,
    "start_time": "2022-02-16T09:25:10.065Z"
   },
   {
    "duration": 12,
    "start_time": "2022-02-16T09:26:34.224Z"
   },
   {
    "duration": 12,
    "start_time": "2022-02-16T09:26:38.973Z"
   },
   {
    "duration": 1124,
    "start_time": "2022-02-16T10:19:48.097Z"
   },
   {
    "duration": 628,
    "start_time": "2022-02-16T10:19:49.223Z"
   },
   {
    "duration": 15,
    "start_time": "2022-02-16T10:19:49.854Z"
   },
   {
    "duration": 16,
    "start_time": "2022-02-16T10:19:49.871Z"
   },
   {
    "duration": 10,
    "start_time": "2022-02-16T10:19:49.889Z"
   },
   {
    "duration": 13,
    "start_time": "2022-02-16T10:19:49.901Z"
   },
   {
    "duration": 22,
    "start_time": "2022-02-16T10:19:49.916Z"
   },
   {
    "duration": 23,
    "start_time": "2022-02-16T18:03:37.789Z"
   },
   {
    "duration": 9,
    "start_time": "2022-02-16T18:05:52.073Z"
   },
   {
    "duration": 34,
    "start_time": "2022-02-16T18:06:11.612Z"
   },
   {
    "duration": 22,
    "start_time": "2022-02-16T18:06:45.456Z"
   },
   {
    "duration": 21,
    "start_time": "2022-02-16T18:07:03.365Z"
   },
   {
    "duration": 559,
    "start_time": "2022-02-16T18:09:23.622Z"
   },
   {
    "duration": 9,
    "start_time": "2022-02-16T18:09:27.832Z"
   },
   {
    "duration": 22,
    "start_time": "2022-02-16T18:09:31.892Z"
   },
   {
    "duration": 31,
    "start_time": "2022-02-16T18:09:40.158Z"
   },
   {
    "duration": 22,
    "start_time": "2022-02-16T18:10:00.946Z"
   },
   {
    "duration": 9,
    "start_time": "2022-02-16T18:10:14.238Z"
   },
   {
    "duration": 18,
    "start_time": "2022-02-16T18:10:35.950Z"
   },
   {
    "duration": 11,
    "start_time": "2022-02-16T18:11:04.026Z"
   },
   {
    "duration": 9,
    "start_time": "2022-02-16T18:17:34.399Z"
   },
   {
    "duration": 18,
    "start_time": "2022-02-16T18:17:58.375Z"
   },
   {
    "duration": 18,
    "start_time": "2022-02-16T18:18:56.578Z"
   },
   {
    "duration": 78,
    "start_time": "2022-02-16T18:19:26.554Z"
   },
   {
    "duration": 23,
    "start_time": "2022-02-16T18:19:30.028Z"
   },
   {
    "duration": 27,
    "start_time": "2022-02-16T18:19:37.562Z"
   },
   {
    "duration": 28,
    "start_time": "2022-02-16T18:19:48.599Z"
   },
   {
    "duration": 29,
    "start_time": "2022-02-16T18:20:06.764Z"
   },
   {
    "duration": 61,
    "start_time": "2022-02-16T18:20:32.657Z"
   },
   {
    "duration": 59,
    "start_time": "2022-02-16T18:20:45.696Z"
   },
   {
    "duration": 87,
    "start_time": "2022-02-16T18:21:05.991Z"
   },
   {
    "duration": 84,
    "start_time": "2022-02-16T18:21:20.363Z"
   },
   {
    "duration": 301,
    "start_time": "2022-02-16T18:22:56.675Z"
   },
   {
    "duration": 298,
    "start_time": "2022-02-16T18:23:31.704Z"
   },
   {
    "duration": 373,
    "start_time": "2022-02-16T18:25:02.652Z"
   },
   {
    "duration": 227,
    "start_time": "2022-02-16T18:25:28.206Z"
   },
   {
    "duration": 357,
    "start_time": "2022-02-16T18:25:43.826Z"
   },
   {
    "duration": 69,
    "start_time": "2022-02-16T18:27:13.523Z"
   },
   {
    "duration": 223,
    "start_time": "2022-02-16T18:27:19.805Z"
   },
   {
    "duration": 538,
    "start_time": "2022-02-16T18:29:47.787Z"
   },
   {
    "duration": 567,
    "start_time": "2022-02-16T18:30:05.645Z"
   },
   {
    "duration": 213,
    "start_time": "2022-02-16T18:30:13.443Z"
   },
   {
    "duration": 581,
    "start_time": "2022-02-16T18:30:23.661Z"
   },
   {
    "duration": 209,
    "start_time": "2022-02-16T18:36:33.497Z"
   },
   {
    "duration": 217,
    "start_time": "2022-02-16T18:38:58.836Z"
   },
   {
    "duration": 315,
    "start_time": "2022-02-16T18:39:13.490Z"
   },
   {
    "duration": 1081,
    "start_time": "2022-02-16T18:39:35.740Z"
   },
   {
    "duration": 203,
    "start_time": "2022-02-16T18:39:55.032Z"
   },
   {
    "duration": 1695,
    "start_time": "2022-02-16T18:42:08.012Z"
   },
   {
    "duration": 1633,
    "start_time": "2022-02-16T18:42:48.467Z"
   },
   {
    "duration": 1615,
    "start_time": "2022-02-16T18:43:06.017Z"
   },
   {
    "duration": 63,
    "start_time": "2022-02-16T18:44:28.183Z"
   },
   {
    "duration": 1727,
    "start_time": "2022-02-16T18:44:39.161Z"
   },
   {
    "duration": 1669,
    "start_time": "2022-02-16T18:44:59.820Z"
   },
   {
    "duration": 1747,
    "start_time": "2022-02-16T18:47:25.736Z"
   },
   {
    "duration": 955,
    "start_time": "2022-02-16T18:48:42.058Z"
   },
   {
    "duration": 256,
    "start_time": "2022-02-16T18:48:52.525Z"
   },
   {
    "duration": 255,
    "start_time": "2022-02-16T18:49:44.732Z"
   },
   {
    "duration": 50,
    "start_time": "2022-02-16T18:50:14.121Z"
   },
   {
    "duration": 233,
    "start_time": "2022-02-16T18:59:35.230Z"
   },
   {
    "duration": 289,
    "start_time": "2022-02-16T19:00:03.576Z"
   },
   {
    "duration": 234,
    "start_time": "2022-02-16T19:00:37.257Z"
   },
   {
    "duration": 245,
    "start_time": "2022-02-16T19:01:35.554Z"
   },
   {
    "duration": 255,
    "start_time": "2022-02-16T19:02:03.367Z"
   },
   {
    "duration": 183,
    "start_time": "2022-02-16T19:02:15.619Z"
   },
   {
    "duration": 33,
    "start_time": "2022-02-16T19:02:40.706Z"
   },
   {
    "duration": 38,
    "start_time": "2022-02-16T19:03:02.079Z"
   },
   {
    "duration": 66,
    "start_time": "2022-02-16T19:03:14.097Z"
   },
   {
    "duration": 220,
    "start_time": "2022-02-16T19:03:27.959Z"
   },
   {
    "duration": 50,
    "start_time": "2022-02-16T19:04:37.716Z"
   },
   {
    "duration": 17,
    "start_time": "2022-02-16T19:07:15.151Z"
   },
   {
    "duration": 178,
    "start_time": "2022-02-16T19:07:33.030Z"
   },
   {
    "duration": 232,
    "start_time": "2022-02-16T19:08:23.812Z"
   },
   {
    "duration": 69,
    "start_time": "2022-02-16T19:08:37.892Z"
   },
   {
    "duration": 230,
    "start_time": "2022-02-16T19:08:43.908Z"
   },
   {
    "duration": 229,
    "start_time": "2022-02-16T19:09:06.540Z"
   },
   {
    "duration": 9,
    "start_time": "2022-02-16T19:09:35.695Z"
   },
   {
    "duration": 8,
    "start_time": "2022-02-16T19:09:50.231Z"
   },
   {
    "duration": 9,
    "start_time": "2022-02-16T19:09:55.524Z"
   },
   {
    "duration": 9,
    "start_time": "2022-02-16T19:09:59.377Z"
   },
   {
    "duration": 3,
    "start_time": "2022-02-17T04:19:41.923Z"
   },
   {
    "duration": 564,
    "start_time": "2022-02-17T04:19:42.226Z"
   },
   {
    "duration": 544,
    "start_time": "2022-02-17T04:24:39.681Z"
   },
   {
    "duration": 1091,
    "start_time": "2022-02-17T04:25:07.118Z"
   },
   {
    "duration": 14,
    "start_time": "2022-02-17T04:25:15.752Z"
   },
   {
    "duration": 1988,
    "start_time": "2022-02-17T04:30:48.521Z"
   },
   {
    "duration": 561,
    "start_time": "2022-02-17T04:31:05.658Z"
   },
   {
    "duration": 230,
    "start_time": "2022-02-17T04:36:43.056Z"
   },
   {
    "duration": 208,
    "start_time": "2022-02-17T04:36:52.151Z"
   },
   {
    "duration": 161,
    "start_time": "2022-02-17T04:36:57.852Z"
   },
   {
    "duration": 31,
    "start_time": "2022-02-17T04:37:10.061Z"
   },
   {
    "duration": 32,
    "start_time": "2022-02-17T04:37:39.356Z"
   },
   {
    "duration": 207,
    "start_time": "2022-02-17T04:38:12.777Z"
   },
   {
    "duration": 227,
    "start_time": "2022-02-17T04:39:15.075Z"
   },
   {
    "duration": 165,
    "start_time": "2022-02-17T04:39:51.604Z"
   },
   {
    "duration": 124,
    "start_time": "2022-02-17T04:39:57.796Z"
   },
   {
    "duration": 39,
    "start_time": "2022-02-17T04:40:38.853Z"
   },
   {
    "duration": 218,
    "start_time": "2022-02-17T04:40:50.173Z"
   },
   {
    "duration": 131,
    "start_time": "2022-02-17T04:40:58.193Z"
   },
   {
    "duration": 9,
    "start_time": "2022-02-17T04:44:00.510Z"
   },
   {
    "duration": 83,
    "start_time": "2022-02-17T04:44:12.633Z"
   },
   {
    "duration": 159,
    "start_time": "2022-02-17T04:44:21.511Z"
   },
   {
    "duration": 39,
    "start_time": "2022-02-17T04:45:28.758Z"
   },
   {
    "duration": 3876,
    "start_time": "2022-02-17T04:46:14.343Z"
   },
   {
    "duration": 217,
    "start_time": "2022-02-17T04:46:46.462Z"
   },
   {
    "duration": 57,
    "start_time": "2022-02-17T04:46:54.062Z"
   },
   {
    "duration": 263,
    "start_time": "2022-02-17T04:48:15.344Z"
   },
   {
    "duration": 47,
    "start_time": "2022-02-17T04:49:38.305Z"
   },
   {
    "duration": 47,
    "start_time": "2022-02-17T04:49:55.490Z"
   },
   {
    "duration": 102,
    "start_time": "2022-02-17T04:50:11.015Z"
   },
   {
    "duration": 59,
    "start_time": "2022-02-17T04:50:32.703Z"
   },
   {
    "duration": 32,
    "start_time": "2022-02-17T04:50:49.665Z"
   },
   {
    "duration": 33,
    "start_time": "2022-02-17T04:51:25.742Z"
   },
   {
    "duration": 66,
    "start_time": "2022-02-17T04:51:35.787Z"
   },
   {
    "duration": 6,
    "start_time": "2022-02-17T04:51:35.849Z"
   },
   {
    "duration": 62,
    "start_time": "2022-02-17T04:51:39.249Z"
   },
   {
    "duration": 59,
    "start_time": "2022-02-17T04:52:02.447Z"
   },
   {
    "duration": 34,
    "start_time": "2022-02-17T04:52:25.251Z"
   },
   {
    "duration": 98,
    "start_time": "2022-02-17T04:52:58.487Z"
   },
   {
    "duration": 241,
    "start_time": "2022-02-17T04:53:21.084Z"
   },
   {
    "duration": 77,
    "start_time": "2022-02-17T04:54:11.804Z"
   },
   {
    "duration": 297,
    "start_time": "2022-02-17T04:54:14.525Z"
   },
   {
    "duration": 174,
    "start_time": "2022-02-17T04:54:47.699Z"
   },
   {
    "duration": 568,
    "start_time": "2022-02-17T04:58:38.844Z"
   },
   {
    "duration": 538,
    "start_time": "2022-02-17T04:59:37.138Z"
   },
   {
    "duration": 561,
    "start_time": "2022-02-17T06:50:42.968Z"
   },
   {
    "duration": 570,
    "start_time": "2022-02-17T06:51:19.346Z"
   },
   {
    "duration": 469,
    "start_time": "2022-02-17T06:51:40.510Z"
   },
   {
    "duration": 1335,
    "start_time": "2022-02-17T06:51:57.139Z"
   },
   {
    "duration": 12,
    "start_time": "2022-02-17T06:52:15.269Z"
   },
   {
    "duration": 1143,
    "start_time": "2022-02-17T06:52:31.759Z"
   },
   {
    "duration": 1431,
    "start_time": "2022-02-17T06:52:32.904Z"
   },
   {
    "duration": -28,
    "start_time": "2022-02-17T06:52:34.365Z"
   },
   {
    "duration": -30,
    "start_time": "2022-02-17T06:52:34.368Z"
   },
   {
    "duration": -36,
    "start_time": "2022-02-17T06:52:34.375Z"
   },
   {
    "duration": -42,
    "start_time": "2022-02-17T06:52:34.382Z"
   },
   {
    "duration": 237,
    "start_time": "2022-02-17T06:52:40.756Z"
   },
   {
    "duration": 1288,
    "start_time": "2022-02-17T06:53:08.302Z"
   },
   {
    "duration": 218,
    "start_time": "2022-02-17T06:53:18.945Z"
   },
   {
    "duration": 219,
    "start_time": "2022-02-17T06:53:22.174Z"
   },
   {
    "duration": 223,
    "start_time": "2022-02-17T06:53:41.638Z"
   },
   {
    "duration": 225,
    "start_time": "2022-02-17T06:53:42.361Z"
   },
   {
    "duration": 337,
    "start_time": "2022-02-17T06:53:54.000Z"
   },
   {
    "duration": 220,
    "start_time": "2022-02-17T06:53:59.066Z"
   },
   {
    "duration": 212,
    "start_time": "2022-02-17T06:54:04.674Z"
   },
   {
    "duration": 1170,
    "start_time": "2022-02-17T06:54:14.779Z"
   },
   {
    "duration": 500,
    "start_time": "2022-02-17T06:54:17.009Z"
   },
   {
    "duration": 25,
    "start_time": "2022-02-17T06:54:24.753Z"
   },
   {
    "duration": 19,
    "start_time": "2022-02-17T06:54:39.883Z"
   },
   {
    "duration": 218,
    "start_time": "2022-02-17T06:54:41.454Z"
   },
   {
    "duration": 654,
    "start_time": "2022-02-17T06:54:50.534Z"
   },
   {
    "duration": 148,
    "start_time": "2022-02-17T06:54:51.190Z"
   },
   {
    "duration": 164,
    "start_time": "2022-02-18T04:34:35.016Z"
   },
   {
    "duration": 1124,
    "start_time": "2022-02-19T08:46:25.137Z"
   },
   {
    "duration": 620,
    "start_time": "2022-02-19T08:46:26.263Z"
   },
   {
    "duration": 193,
    "start_time": "2022-02-19T08:46:26.886Z"
   },
   {
    "duration": 73,
    "start_time": "2022-02-19T09:03:09.297Z"
   },
   {
    "duration": 305,
    "start_time": "2022-02-19T09:14:57.031Z"
   },
   {
    "duration": 221,
    "start_time": "2022-02-19T09:15:08.056Z"
   },
   {
    "duration": 84,
    "start_time": "2022-02-19T09:15:15.868Z"
   },
   {
    "duration": 134,
    "start_time": "2022-02-19T09:19:20.982Z"
   },
   {
    "duration": 53,
    "start_time": "2022-02-19T09:19:38.464Z"
   },
   {
    "duration": 21,
    "start_time": "2022-02-19T09:27:50.785Z"
   },
   {
    "duration": 69,
    "start_time": "2022-02-19T09:27:50.905Z"
   },
   {
    "duration": 225,
    "start_time": "2022-02-19T10:01:41.371Z"
   },
   {
    "duration": 221,
    "start_time": "2022-02-19T10:01:50.068Z"
   },
   {
    "duration": 73,
    "start_time": "2022-02-19T10:02:02.024Z"
   },
   {
    "duration": 53,
    "start_time": "2022-02-19T10:02:07.629Z"
   },
   {
    "duration": 74,
    "start_time": "2022-02-19T10:02:48.087Z"
   },
   {
    "duration": 81,
    "start_time": "2022-02-19T10:08:20.888Z"
   },
   {
    "duration": 76,
    "start_time": "2022-02-19T10:08:35.369Z"
   },
   {
    "duration": 15,
    "start_time": "2022-02-19T10:10:12.961Z"
   },
   {
    "duration": 75,
    "start_time": "2022-02-19T10:15:44.360Z"
   },
   {
    "duration": 5,
    "start_time": "2022-02-19T10:17:17.349Z"
   },
   {
    "duration": 13,
    "start_time": "2022-02-19T10:17:30.358Z"
   },
   {
    "duration": 4,
    "start_time": "2022-02-19T10:17:54.533Z"
   },
   {
    "duration": 5,
    "start_time": "2022-02-19T10:18:11.007Z"
   },
   {
    "duration": 11,
    "start_time": "2022-02-19T10:19:43.717Z"
   },
   {
    "duration": 19,
    "start_time": "2022-02-19T10:19:54.266Z"
   },
   {
    "duration": 1398,
    "start_time": "2022-02-19T10:20:03.853Z"
   },
   {
    "duration": 20,
    "start_time": "2022-02-19T10:20:07.790Z"
   },
   {
    "duration": 16,
    "start_time": "2022-02-19T10:20:15.075Z"
   },
   {
    "duration": 19,
    "start_time": "2022-02-19T10:20:20.292Z"
   },
   {
    "duration": 24,
    "start_time": "2022-02-19T10:21:31.093Z"
   },
   {
    "duration": 11,
    "start_time": "2022-02-19T10:22:27.487Z"
   },
   {
    "duration": 10,
    "start_time": "2022-02-19T10:22:54.894Z"
   },
   {
    "duration": 4,
    "start_time": "2022-02-19T14:22:26.846Z"
   },
   {
    "duration": 571,
    "start_time": "2022-02-19T14:22:28.141Z"
   },
   {
    "duration": 164,
    "start_time": "2022-02-19T14:22:28.761Z"
   },
   {
    "duration": 70,
    "start_time": "2022-02-19T14:22:31.974Z"
   },
   {
    "duration": 58,
    "start_time": "2022-02-19T14:22:32.472Z"
   },
   {
    "duration": 10,
    "start_time": "2022-02-19T14:22:36.199Z"
   },
   {
    "duration": 236,
    "start_time": "2022-02-19T14:23:04.648Z"
   },
   {
    "duration": 218,
    "start_time": "2022-02-19T14:23:11.741Z"
   },
   {
    "duration": 1064,
    "start_time": "2022-02-20T06:47:19.603Z"
   },
   {
    "duration": 94,
    "start_time": "2022-02-20T06:47:33.855Z"
   },
   {
    "duration": 10,
    "start_time": "2022-02-20T06:47:48.827Z"
   },
   {
    "duration": 95,
    "start_time": "2022-02-20T06:48:07.255Z"
   },
   {
    "duration": 10,
    "start_time": "2022-02-20T06:48:08.445Z"
   },
   {
    "duration": 10,
    "start_time": "2022-02-20T06:51:13.405Z"
   },
   {
    "duration": 10,
    "start_time": "2022-02-20T06:51:21.807Z"
   },
   {
    "duration": 1053,
    "start_time": "2022-02-20T06:51:33.723Z"
   },
   {
    "duration": 580,
    "start_time": "2022-02-20T06:51:34.778Z"
   },
   {
    "duration": 162,
    "start_time": "2022-02-20T06:51:35.360Z"
   },
   {
    "duration": 106,
    "start_time": "2022-02-20T06:51:35.524Z"
   },
   {
    "duration": 60,
    "start_time": "2022-02-20T06:51:35.632Z"
   },
   {
    "duration": 10,
    "start_time": "2022-02-20T06:51:35.694Z"
   },
   {
    "duration": 123,
    "start_time": "2022-02-20T06:51:35.705Z"
   },
   {
    "duration": 9,
    "start_time": "2022-02-20T06:51:35.831Z"
   },
   {
    "duration": 35,
    "start_time": "2022-02-20T07:01:26.982Z"
   },
   {
    "duration": 337,
    "start_time": "2022-02-20T07:03:25.942Z"
   },
   {
    "duration": 5,
    "start_time": "2022-02-20T07:05:30.066Z"
   },
   {
    "duration": 24,
    "start_time": "2022-02-20T07:05:44.433Z"
   },
   {
    "duration": 15,
    "start_time": "2022-02-20T07:05:49.161Z"
   },
   {
    "duration": 25,
    "start_time": "2022-02-20T07:06:13.551Z"
   },
   {
    "duration": 14,
    "start_time": "2022-02-20T07:06:14.585Z"
   },
   {
    "duration": 50,
    "start_time": "2022-02-20T07:06:23.988Z"
   },
   {
    "duration": 71,
    "start_time": "2022-02-20T07:07:26.825Z"
   },
   {
    "duration": 10,
    "start_time": "2022-02-20T07:08:08.927Z"
   },
   {
    "duration": 23,
    "start_time": "2022-02-20T07:08:50.160Z"
   },
   {
    "duration": 13,
    "start_time": "2022-02-20T07:09:07.009Z"
   },
   {
    "duration": 7,
    "start_time": "2022-02-20T07:09:30.213Z"
   },
   {
    "duration": 7,
    "start_time": "2022-02-20T07:09:38.575Z"
   },
   {
    "duration": 1128,
    "start_time": "2022-02-20T07:23:34.453Z"
   },
   {
    "duration": 609,
    "start_time": "2022-02-20T07:23:35.583Z"
   },
   {
    "duration": 175,
    "start_time": "2022-02-20T07:23:36.194Z"
   },
   {
    "duration": 75,
    "start_time": "2022-02-20T07:23:36.371Z"
   },
   {
    "duration": 65,
    "start_time": "2022-02-20T07:23:36.448Z"
   },
   {
    "duration": 9,
    "start_time": "2022-02-20T07:23:36.515Z"
   },
   {
    "duration": 125,
    "start_time": "2022-02-20T07:23:36.526Z"
   },
   {
    "duration": 8,
    "start_time": "2022-02-20T07:23:36.654Z"
   },
   {
    "duration": 35,
    "start_time": "2022-02-20T07:23:36.664Z"
   },
   {
    "duration": 2,
    "start_time": "2022-02-20T07:23:36.701Z"
   },
   {
    "duration": 15,
    "start_time": "2022-02-20T07:23:53.599Z"
   },
   {
    "duration": 299,
    "start_time": "2022-02-20T07:25:45.220Z"
   },
   {
    "duration": 34,
    "start_time": "2022-02-20T07:25:55.149Z"
   },
   {
    "duration": 10,
    "start_time": "2022-02-20T07:26:01.126Z"
   },
   {
    "duration": 1103,
    "start_time": "2022-02-20T07:32:12.007Z"
   },
   {
    "duration": 607,
    "start_time": "2022-02-20T07:32:13.112Z"
   },
   {
    "duration": 172,
    "start_time": "2022-02-20T07:32:13.725Z"
   },
   {
    "duration": 105,
    "start_time": "2022-02-20T07:32:13.898Z"
   },
   {
    "duration": 76,
    "start_time": "2022-02-20T07:32:14.006Z"
   },
   {
    "duration": 9,
    "start_time": "2022-02-20T07:32:14.084Z"
   },
   {
    "duration": 122,
    "start_time": "2022-02-20T07:32:14.095Z"
   },
   {
    "duration": 10,
    "start_time": "2022-02-20T07:32:14.220Z"
   },
   {
    "duration": 38,
    "start_time": "2022-02-20T07:32:14.232Z"
   },
   {
    "duration": 13,
    "start_time": "2022-02-20T07:32:14.272Z"
   },
   {
    "duration": 36,
    "start_time": "2022-02-20T07:32:14.287Z"
   },
   {
    "duration": 45,
    "start_time": "2022-02-20T07:33:15.265Z"
   },
   {
    "duration": 44,
    "start_time": "2022-02-20T07:33:37.937Z"
   },
   {
    "duration": 42,
    "start_time": "2022-02-20T07:34:51.574Z"
   },
   {
    "duration": 40,
    "start_time": "2022-02-20T07:34:54.429Z"
   },
   {
    "duration": 1032,
    "start_time": "2022-02-20T07:35:11.057Z"
   },
   {
    "duration": 62,
    "start_time": "2022-02-20T07:35:16.347Z"
   },
   {
    "duration": 44,
    "start_time": "2022-02-20T07:35:42.223Z"
   },
   {
    "duration": 355,
    "start_time": "2022-02-20T07:36:30.603Z"
   },
   {
    "duration": 41,
    "start_time": "2022-02-20T07:36:35.383Z"
   },
   {
    "duration": 59,
    "start_time": "2022-02-20T07:37:54.450Z"
   },
   {
    "duration": 56,
    "start_time": "2022-02-20T07:44:35.743Z"
   },
   {
    "duration": 13,
    "start_time": "2022-02-20T07:44:39.773Z"
   },
   {
    "duration": 56,
    "start_time": "2022-02-20T07:46:16.428Z"
   },
   {
    "duration": 1130,
    "start_time": "2022-02-20T07:46:49.548Z"
   },
   {
    "duration": 617,
    "start_time": "2022-02-20T07:46:50.680Z"
   },
   {
    "duration": 171,
    "start_time": "2022-02-20T07:46:51.300Z"
   },
   {
    "duration": 75,
    "start_time": "2022-02-20T07:46:51.473Z"
   },
   {
    "duration": 69,
    "start_time": "2022-02-20T07:46:51.550Z"
   },
   {
    "duration": 84,
    "start_time": "2022-02-20T07:46:51.621Z"
   },
   {
    "duration": 10,
    "start_time": "2022-02-20T07:46:51.707Z"
   },
   {
    "duration": 120,
    "start_time": "2022-02-20T07:46:51.720Z"
   },
   {
    "duration": 10,
    "start_time": "2022-02-20T07:46:51.842Z"
   },
   {
    "duration": 24,
    "start_time": "2022-02-20T07:46:51.854Z"
   },
   {
    "duration": 58,
    "start_time": "2022-02-20T07:46:51.880Z"
   },
   {
    "duration": 327,
    "start_time": "2022-02-20T08:03:35.993Z"
   },
   {
    "duration": 219,
    "start_time": "2022-02-20T08:05:14.455Z"
   },
   {
    "duration": 12,
    "start_time": "2022-02-20T08:06:21.871Z"
   },
   {
    "duration": 32,
    "start_time": "2022-02-20T08:07:12.516Z"
   },
   {
    "duration": 349,
    "start_time": "2022-02-20T08:10:18.578Z"
   },
   {
    "duration": 31,
    "start_time": "2022-02-20T08:10:39.755Z"
   },
   {
    "duration": 56,
    "start_time": "2022-02-20T08:11:14.384Z"
   },
   {
    "duration": 11,
    "start_time": "2022-02-20T08:13:20.460Z"
   },
   {
    "duration": 39,
    "start_time": "2022-02-20T08:13:40.290Z"
   },
   {
    "duration": 4443,
    "start_time": "2022-02-20T08:22:03.583Z"
   },
   {
    "duration": 47,
    "start_time": "2022-02-20T08:22:17.216Z"
   },
   {
    "duration": 52,
    "start_time": "2022-02-20T08:25:14.318Z"
   },
   {
    "duration": 63,
    "start_time": "2022-02-20T08:25:57.141Z"
   },
   {
    "duration": 59,
    "start_time": "2022-02-20T08:26:24.061Z"
   },
   {
    "duration": 4,
    "start_time": "2022-02-20T08:30:15.354Z"
   },
   {
    "duration": 5,
    "start_time": "2022-02-20T08:30:20.980Z"
   },
   {
    "duration": 30,
    "start_time": "2022-02-20T08:30:32.793Z"
   },
   {
    "duration": 86,
    "start_time": "2022-02-20T08:53:35.678Z"
   },
   {
    "duration": 1191,
    "start_time": "2022-02-20T08:53:43.781Z"
   },
   {
    "duration": 603,
    "start_time": "2022-02-20T08:53:44.974Z"
   },
   {
    "duration": 162,
    "start_time": "2022-02-20T08:53:45.579Z"
   },
   {
    "duration": 79,
    "start_time": "2022-02-20T08:53:45.770Z"
   },
   {
    "duration": 70,
    "start_time": "2022-02-20T08:53:45.851Z"
   },
   {
    "duration": 85,
    "start_time": "2022-02-20T08:53:45.923Z"
   },
   {
    "duration": 10,
    "start_time": "2022-02-20T08:53:46.009Z"
   },
   {
    "duration": 111,
    "start_time": "2022-02-20T08:53:46.021Z"
   },
   {
    "duration": 13,
    "start_time": "2022-02-20T08:53:46.135Z"
   },
   {
    "duration": 69,
    "start_time": "2022-02-20T08:53:46.150Z"
   },
   {
    "duration": 51,
    "start_time": "2022-02-20T08:53:46.221Z"
   },
   {
    "duration": 69,
    "start_time": "2022-02-20T08:53:46.273Z"
   },
   {
    "duration": 69,
    "start_time": "2022-02-20T11:00:37.430Z"
   },
   {
    "duration": 16,
    "start_time": "2022-02-20T11:01:32.383Z"
   },
   {
    "duration": 80,
    "start_time": "2022-02-20T11:03:01.286Z"
   },
   {
    "duration": 21,
    "start_time": "2022-02-20T11:05:13.351Z"
   },
   {
    "duration": 30,
    "start_time": "2022-02-20T11:05:19.186Z"
   },
   {
    "duration": 76,
    "start_time": "2022-02-20T11:07:41.857Z"
   },
   {
    "duration": 17,
    "start_time": "2022-02-20T11:12:55.343Z"
   },
   {
    "duration": 7,
    "start_time": "2022-02-20T11:18:36.282Z"
   },
   {
    "duration": 5340,
    "start_time": "2022-02-20T11:18:40.983Z"
   },
   {
    "duration": 5220,
    "start_time": "2022-02-20T11:18:50.959Z"
   },
   {
    "duration": 5483,
    "start_time": "2022-02-20T11:19:10.808Z"
   },
   {
    "duration": 5868,
    "start_time": "2022-02-20T11:19:23.568Z"
   },
   {
    "duration": 6572,
    "start_time": "2022-02-20T11:19:35.164Z"
   },
   {
    "duration": 5579,
    "start_time": "2022-02-20T11:19:48.607Z"
   },
   {
    "duration": 5541,
    "start_time": "2022-02-20T11:20:57.616Z"
   },
   {
    "duration": 1231,
    "start_time": "2022-02-20T11:21:12.441Z"
   },
   {
    "duration": 603,
    "start_time": "2022-02-20T11:21:13.674Z"
   },
   {
    "duration": 243,
    "start_time": "2022-02-20T11:21:14.280Z"
   },
   {
    "duration": 107,
    "start_time": "2022-02-20T11:21:14.526Z"
   },
   {
    "duration": 66,
    "start_time": "2022-02-20T11:21:14.635Z"
   },
   {
    "duration": 85,
    "start_time": "2022-02-20T11:21:14.703Z"
   },
   {
    "duration": 10,
    "start_time": "2022-02-20T11:21:14.790Z"
   },
   {
    "duration": 114,
    "start_time": "2022-02-20T11:21:14.803Z"
   },
   {
    "duration": 15,
    "start_time": "2022-02-20T11:21:14.918Z"
   },
   {
    "duration": 80,
    "start_time": "2022-02-20T11:21:14.934Z"
   },
   {
    "duration": 37,
    "start_time": "2022-02-20T11:21:15.016Z"
   },
   {
    "duration": 30,
    "start_time": "2022-02-20T11:21:15.069Z"
   },
   {
    "duration": 18,
    "start_time": "2022-02-20T11:21:15.101Z"
   },
   {
    "duration": 318,
    "start_time": "2022-02-20T11:21:15.121Z"
   },
   {
    "duration": 1171,
    "start_time": "2022-02-20T11:22:29.596Z"
   },
   {
    "duration": 592,
    "start_time": "2022-02-20T11:22:30.769Z"
   },
   {
    "duration": 165,
    "start_time": "2022-02-20T11:22:31.363Z"
   },
   {
    "duration": 110,
    "start_time": "2022-02-20T11:22:31.530Z"
   },
   {
    "duration": 63,
    "start_time": "2022-02-20T11:22:31.642Z"
   },
   {
    "duration": 79,
    "start_time": "2022-02-20T11:22:31.707Z"
   },
   {
    "duration": 11,
    "start_time": "2022-02-20T11:22:31.788Z"
   },
   {
    "duration": 127,
    "start_time": "2022-02-20T11:22:31.802Z"
   },
   {
    "duration": 13,
    "start_time": "2022-02-20T11:22:31.931Z"
   },
   {
    "duration": 75,
    "start_time": "2022-02-20T11:22:31.946Z"
   },
   {
    "duration": 32,
    "start_time": "2022-02-20T11:22:32.023Z"
   },
   {
    "duration": 38,
    "start_time": "2022-02-20T11:22:32.056Z"
   },
   {
    "duration": 17,
    "start_time": "2022-02-20T11:22:32.096Z"
   },
   {
    "duration": 307,
    "start_time": "2022-02-20T11:22:32.114Z"
   },
   {
    "duration": 1197,
    "start_time": "2022-02-20T11:22:50.481Z"
   },
   {
    "duration": 569,
    "start_time": "2022-02-20T11:22:51.680Z"
   },
   {
    "duration": 160,
    "start_time": "2022-02-20T11:22:52.251Z"
   },
   {
    "duration": 105,
    "start_time": "2022-02-20T11:22:52.413Z"
   },
   {
    "duration": 64,
    "start_time": "2022-02-20T11:22:52.521Z"
   },
   {
    "duration": 89,
    "start_time": "2022-02-20T11:22:52.587Z"
   },
   {
    "duration": 9,
    "start_time": "2022-02-20T11:22:52.678Z"
   },
   {
    "duration": 111,
    "start_time": "2022-02-20T11:22:52.691Z"
   },
   {
    "duration": 16,
    "start_time": "2022-02-20T11:22:52.804Z"
   },
   {
    "duration": 81,
    "start_time": "2022-02-20T11:22:52.822Z"
   },
   {
    "duration": 32,
    "start_time": "2022-02-20T11:22:52.905Z"
   },
   {
    "duration": 48,
    "start_time": "2022-02-20T11:22:52.939Z"
   },
   {
    "duration": 11,
    "start_time": "2022-02-20T11:22:52.989Z"
   },
   {
    "duration": 328,
    "start_time": "2022-02-20T11:22:53.002Z"
   },
   {
    "duration": 1136,
    "start_time": "2022-02-20T11:23:06.833Z"
   },
   {
    "duration": 581,
    "start_time": "2022-02-20T11:23:07.971Z"
   },
   {
    "duration": 218,
    "start_time": "2022-02-20T11:23:08.554Z"
   },
   {
    "duration": 78,
    "start_time": "2022-02-20T11:23:08.774Z"
   },
   {
    "duration": 68,
    "start_time": "2022-02-20T11:23:08.854Z"
   },
   {
    "duration": 85,
    "start_time": "2022-02-20T11:23:08.924Z"
   },
   {
    "duration": 9,
    "start_time": "2022-02-20T11:23:09.011Z"
   },
   {
    "duration": 120,
    "start_time": "2022-02-20T11:23:09.022Z"
   },
   {
    "duration": 25,
    "start_time": "2022-02-20T11:23:09.145Z"
   },
   {
    "duration": 63,
    "start_time": "2022-02-20T11:23:09.172Z"
   },
   {
    "duration": 46,
    "start_time": "2022-02-20T11:23:09.237Z"
   },
   {
    "duration": 32,
    "start_time": "2022-02-20T11:23:09.285Z"
   },
   {
    "duration": 20,
    "start_time": "2022-02-20T11:23:09.319Z"
   },
   {
    "duration": 313,
    "start_time": "2022-02-20T11:23:09.341Z"
   },
   {
    "duration": 114,
    "start_time": "2022-02-20T11:24:13.769Z"
   },
   {
    "duration": 5515,
    "start_time": "2022-02-20T11:24:25.956Z"
   },
   {
    "duration": 54,
    "start_time": "2022-02-20T11:25:38.036Z"
   },
   {
    "duration": 60,
    "start_time": "2022-02-20T11:25:43.744Z"
   },
   {
    "duration": 28,
    "start_time": "2022-02-20T11:26:22.585Z"
   },
   {
    "duration": 35,
    "start_time": "2022-02-20T11:26:27.419Z"
   },
   {
    "duration": 31,
    "start_time": "2022-02-20T11:26:36.618Z"
   },
   {
    "duration": 1128,
    "start_time": "2022-02-20T11:26:47.828Z"
   },
   {
    "duration": 585,
    "start_time": "2022-02-20T11:26:48.958Z"
   },
   {
    "duration": 162,
    "start_time": "2022-02-20T11:26:49.546Z"
   },
   {
    "duration": 105,
    "start_time": "2022-02-20T11:26:49.711Z"
   },
   {
    "duration": 65,
    "start_time": "2022-02-20T11:26:49.818Z"
   },
   {
    "duration": 90,
    "start_time": "2022-02-20T11:26:49.885Z"
   },
   {
    "duration": 9,
    "start_time": "2022-02-20T11:26:49.977Z"
   },
   {
    "duration": 111,
    "start_time": "2022-02-20T11:26:49.989Z"
   },
   {
    "duration": 14,
    "start_time": "2022-02-20T11:26:50.102Z"
   },
   {
    "duration": 78,
    "start_time": "2022-02-20T11:26:50.118Z"
   },
   {
    "duration": 35,
    "start_time": "2022-02-20T11:26:50.198Z"
   },
   {
    "duration": 49,
    "start_time": "2022-02-20T11:26:50.234Z"
   },
   {
    "duration": 18,
    "start_time": "2022-02-20T11:26:50.285Z"
   },
   {
    "duration": 346,
    "start_time": "2022-02-20T11:26:50.304Z"
   },
   {
    "duration": 8,
    "start_time": "2022-02-20T11:28:33.759Z"
   },
   {
    "duration": 72,
    "start_time": "2022-02-20T11:30:28.059Z"
   },
   {
    "duration": 1290,
    "start_time": "2022-02-20T11:30:35.980Z"
   },
   {
    "duration": 26,
    "start_time": "2022-02-20T11:31:03.007Z"
   },
   {
    "duration": 53,
    "start_time": "2022-02-20T11:31:37.184Z"
   },
   {
    "duration": 1176,
    "start_time": "2022-02-20T11:31:47.808Z"
   },
   {
    "duration": 597,
    "start_time": "2022-02-20T11:31:48.986Z"
   },
   {
    "duration": 204,
    "start_time": "2022-02-20T11:31:49.585Z"
   },
   {
    "duration": 100,
    "start_time": "2022-02-20T11:31:49.791Z"
   },
   {
    "duration": 55,
    "start_time": "2022-02-20T11:31:49.893Z"
   },
   {
    "duration": 77,
    "start_time": "2022-02-20T11:31:49.949Z"
   },
   {
    "duration": 45,
    "start_time": "2022-02-20T11:31:50.028Z"
   },
   {
    "duration": 105,
    "start_time": "2022-02-20T11:31:50.075Z"
   },
   {
    "duration": 12,
    "start_time": "2022-02-20T11:31:50.183Z"
   },
   {
    "duration": 76,
    "start_time": "2022-02-20T11:31:50.197Z"
   },
   {
    "duration": 36,
    "start_time": "2022-02-20T11:31:50.274Z"
   },
   {
    "duration": 32,
    "start_time": "2022-02-20T11:31:50.311Z"
   },
   {
    "duration": 38,
    "start_time": "2022-02-20T11:31:50.345Z"
   },
   {
    "duration": 8,
    "start_time": "2022-02-20T11:31:50.385Z"
   },
   {
    "duration": 29,
    "start_time": "2022-02-20T11:31:50.394Z"
   },
   {
    "duration": 298,
    "start_time": "2022-02-20T11:31:50.424Z"
   },
   {
    "duration": 23,
    "start_time": "2022-02-20T11:32:16.408Z"
   },
   {
    "duration": 21,
    "start_time": "2022-02-20T11:32:26.445Z"
   },
   {
    "duration": 237,
    "start_time": "2022-02-20T11:36:22.804Z"
   },
   {
    "duration": 23,
    "start_time": "2022-02-20T11:36:36.205Z"
   },
   {
    "duration": 18,
    "start_time": "2022-02-20T11:47:27.963Z"
   },
   {
    "duration": 16,
    "start_time": "2022-02-20T11:47:42.853Z"
   },
   {
    "duration": 12,
    "start_time": "2022-02-20T11:50:19.767Z"
   },
   {
    "duration": 23,
    "start_time": "2022-02-20T11:50:27.335Z"
   },
   {
    "duration": 23,
    "start_time": "2022-02-20T11:50:39.805Z"
   },
   {
    "duration": 28,
    "start_time": "2022-02-20T11:50:50.083Z"
   },
   {
    "duration": 34,
    "start_time": "2022-02-20T11:51:24.606Z"
   },
   {
    "duration": 382,
    "start_time": "2022-02-20T11:52:11.641Z"
   },
   {
    "duration": 207,
    "start_time": "2022-02-20T11:52:29.221Z"
   },
   {
    "duration": 212,
    "start_time": "2022-02-20T11:52:52.669Z"
   },
   {
    "duration": 212,
    "start_time": "2022-02-20T11:52:55.282Z"
   },
   {
    "duration": 12,
    "start_time": "2022-02-20T11:53:14.822Z"
   },
   {
    "duration": 1210,
    "start_time": "2022-02-20T12:03:41.154Z"
   },
   {
    "duration": 601,
    "start_time": "2022-02-20T12:03:42.366Z"
   },
   {
    "duration": 205,
    "start_time": "2022-02-20T12:03:42.970Z"
   },
   {
    "duration": 78,
    "start_time": "2022-02-20T12:03:43.177Z"
   },
   {
    "duration": 55,
    "start_time": "2022-02-20T12:03:43.270Z"
   },
   {
    "duration": 87,
    "start_time": "2022-02-20T12:03:43.327Z"
   },
   {
    "duration": 12,
    "start_time": "2022-02-20T12:03:43.416Z"
   },
   {
    "duration": 128,
    "start_time": "2022-02-20T12:03:43.430Z"
   },
   {
    "duration": 19,
    "start_time": "2022-02-20T12:03:43.561Z"
   },
   {
    "duration": 86,
    "start_time": "2022-02-20T12:03:43.583Z"
   },
   {
    "duration": 36,
    "start_time": "2022-02-20T12:03:43.672Z"
   },
   {
    "duration": 30,
    "start_time": "2022-02-20T12:03:43.710Z"
   },
   {
    "duration": 43,
    "start_time": "2022-02-20T12:03:43.742Z"
   },
   {
    "duration": 9,
    "start_time": "2022-02-20T12:03:43.787Z"
   },
   {
    "duration": 17,
    "start_time": "2022-02-20T12:03:43.798Z"
   },
   {
    "duration": 58,
    "start_time": "2022-02-20T12:03:43.818Z"
   },
   {
    "duration": 367,
    "start_time": "2022-02-20T12:03:43.877Z"
   },
   {
    "duration": 32,
    "start_time": "2022-02-20T12:09:24.083Z"
   },
   {
    "duration": 10,
    "start_time": "2022-02-20T12:14:31.585Z"
   },
   {
    "duration": 37,
    "start_time": "2022-02-20T12:14:35.457Z"
   },
   {
    "duration": 48,
    "start_time": "2022-02-20T12:14:55.635Z"
   },
   {
    "duration": 226,
    "start_time": "2022-02-20T12:28:04.506Z"
   },
   {
    "duration": 47,
    "start_time": "2022-02-20T12:28:08.196Z"
   },
   {
    "duration": 55,
    "start_time": "2022-02-20T12:28:23.903Z"
   },
   {
    "duration": 67,
    "start_time": "2022-02-20T12:28:46.786Z"
   },
   {
    "duration": 1156,
    "start_time": "2022-02-20T12:28:55.616Z"
   },
   {
    "duration": 596,
    "start_time": "2022-02-20T12:28:56.775Z"
   },
   {
    "duration": 201,
    "start_time": "2022-02-20T12:28:57.373Z"
   },
   {
    "duration": 93,
    "start_time": "2022-02-20T12:28:57.576Z"
   },
   {
    "duration": 57,
    "start_time": "2022-02-20T12:28:57.672Z"
   },
   {
    "duration": 81,
    "start_time": "2022-02-20T12:28:57.731Z"
   },
   {
    "duration": 9,
    "start_time": "2022-02-20T12:28:57.814Z"
   },
   {
    "duration": 128,
    "start_time": "2022-02-20T12:28:57.826Z"
   },
   {
    "duration": 19,
    "start_time": "2022-02-20T12:28:57.956Z"
   },
   {
    "duration": 64,
    "start_time": "2022-02-20T12:28:57.977Z"
   },
   {
    "duration": 52,
    "start_time": "2022-02-20T12:28:58.042Z"
   },
   {
    "duration": 30,
    "start_time": "2022-02-20T12:28:58.096Z"
   },
   {
    "duration": 17,
    "start_time": "2022-02-20T12:28:58.128Z"
   },
   {
    "duration": 28,
    "start_time": "2022-02-20T12:28:58.147Z"
   },
   {
    "duration": 22,
    "start_time": "2022-02-20T12:28:58.177Z"
   },
   {
    "duration": 33,
    "start_time": "2022-02-20T12:28:58.201Z"
   },
   {
    "duration": 57,
    "start_time": "2022-02-20T12:28:58.235Z"
   },
   {
    "duration": 303,
    "start_time": "2022-02-20T12:28:58.294Z"
   },
   {
    "duration": 1163,
    "start_time": "2022-02-20T12:38:12.205Z"
   },
   {
    "duration": 601,
    "start_time": "2022-02-20T12:38:13.370Z"
   },
   {
    "duration": 209,
    "start_time": "2022-02-20T12:38:13.973Z"
   },
   {
    "duration": 93,
    "start_time": "2022-02-20T12:38:14.184Z"
   },
   {
    "duration": 56,
    "start_time": "2022-02-20T12:38:14.278Z"
   },
   {
    "duration": 81,
    "start_time": "2022-02-20T12:38:14.337Z"
   },
   {
    "duration": 10,
    "start_time": "2022-02-20T12:38:14.420Z"
   },
   {
    "duration": 122,
    "start_time": "2022-02-20T12:38:14.432Z"
   },
   {
    "duration": 22,
    "start_time": "2022-02-20T12:38:14.557Z"
   },
   {
    "duration": 69,
    "start_time": "2022-02-20T12:38:14.581Z"
   },
   {
    "duration": 51,
    "start_time": "2022-02-20T12:38:14.652Z"
   },
   {
    "duration": 33,
    "start_time": "2022-02-20T12:38:14.705Z"
   },
   {
    "duration": 45,
    "start_time": "2022-02-20T12:38:14.740Z"
   },
   {
    "duration": 9,
    "start_time": "2022-02-20T12:38:14.788Z"
   },
   {
    "duration": 20,
    "start_time": "2022-02-20T12:38:14.798Z"
   },
   {
    "duration": 60,
    "start_time": "2022-02-20T12:38:14.821Z"
   },
   {
    "duration": 33,
    "start_time": "2022-02-20T12:38:14.884Z"
   },
   {
    "duration": 317,
    "start_time": "2022-02-20T12:38:14.922Z"
   },
   {
    "duration": 1210,
    "start_time": "2022-02-20T12:38:38.453Z"
   },
   {
    "duration": 594,
    "start_time": "2022-02-20T12:38:39.665Z"
   },
   {
    "duration": 172,
    "start_time": "2022-02-20T12:38:40.261Z"
   },
   {
    "duration": 108,
    "start_time": "2022-02-20T12:38:40.436Z"
   },
   {
    "duration": 69,
    "start_time": "2022-02-20T12:38:40.546Z"
   },
   {
    "duration": 80,
    "start_time": "2022-02-20T12:38:40.617Z"
   },
   {
    "duration": 10,
    "start_time": "2022-02-20T12:38:40.699Z"
   },
   {
    "duration": 121,
    "start_time": "2022-02-20T12:38:40.713Z"
   },
   {
    "duration": 12,
    "start_time": "2022-02-20T12:38:40.836Z"
   },
   {
    "duration": 75,
    "start_time": "2022-02-20T12:38:40.850Z"
   },
   {
    "duration": 53,
    "start_time": "2022-02-20T12:38:40.927Z"
   },
   {
    "duration": 32,
    "start_time": "2022-02-20T12:38:40.981Z"
   },
   {
    "duration": 18,
    "start_time": "2022-02-20T12:38:41.015Z"
   },
   {
    "duration": 9,
    "start_time": "2022-02-20T12:38:41.034Z"
   },
   {
    "duration": 40,
    "start_time": "2022-02-20T12:38:41.045Z"
   },
   {
    "duration": 32,
    "start_time": "2022-02-20T12:38:41.087Z"
   },
   {
    "duration": 55,
    "start_time": "2022-02-20T12:38:41.121Z"
   },
   {
    "duration": 300,
    "start_time": "2022-02-20T12:38:41.177Z"
   },
   {
    "duration": 1304,
    "start_time": "2022-02-20T12:38:57.532Z"
   },
   {
    "duration": 703,
    "start_time": "2022-02-20T12:38:58.838Z"
   },
   {
    "duration": 164,
    "start_time": "2022-02-20T12:38:59.543Z"
   },
   {
    "duration": 99,
    "start_time": "2022-02-20T12:38:59.709Z"
   },
   {
    "duration": 63,
    "start_time": "2022-02-20T12:38:59.810Z"
   },
   {
    "duration": 64,
    "start_time": "2022-02-20T12:38:59.875Z"
   },
   {
    "duration": 10,
    "start_time": "2022-02-20T12:38:59.969Z"
   },
   {
    "duration": 113,
    "start_time": "2022-02-20T12:38:59.981Z"
   },
   {
    "duration": 13,
    "start_time": "2022-02-20T12:39:00.097Z"
   },
   {
    "duration": 79,
    "start_time": "2022-02-20T12:39:00.112Z"
   },
   {
    "duration": 37,
    "start_time": "2022-02-20T12:39:00.193Z"
   },
   {
    "duration": 52,
    "start_time": "2022-02-20T12:39:00.233Z"
   },
   {
    "duration": 23,
    "start_time": "2022-02-20T12:39:00.287Z"
   },
   {
    "duration": 8,
    "start_time": "2022-02-20T12:39:00.312Z"
   },
   {
    "duration": 32,
    "start_time": "2022-02-20T12:39:00.321Z"
   },
   {
    "duration": 45,
    "start_time": "2022-02-20T12:39:00.355Z"
   },
   {
    "duration": 28,
    "start_time": "2022-02-20T12:39:00.402Z"
   },
   {
    "duration": 317,
    "start_time": "2022-02-20T12:39:00.433Z"
   },
   {
    "duration": 1195,
    "start_time": "2022-02-20T12:55:52.080Z"
   },
   {
    "duration": 599,
    "start_time": "2022-02-20T12:55:53.277Z"
   },
   {
    "duration": 191,
    "start_time": "2022-02-20T12:55:53.879Z"
   },
   {
    "duration": 76,
    "start_time": "2022-02-20T12:55:54.072Z"
   },
   {
    "duration": 62,
    "start_time": "2022-02-20T12:55:54.151Z"
   },
   {
    "duration": 92,
    "start_time": "2022-02-20T12:55:54.215Z"
   },
   {
    "duration": 11,
    "start_time": "2022-02-20T12:55:54.309Z"
   },
   {
    "duration": 130,
    "start_time": "2022-02-20T12:55:54.322Z"
   },
   {
    "duration": 18,
    "start_time": "2022-02-20T12:55:54.456Z"
   },
   {
    "duration": 62,
    "start_time": "2022-02-20T12:55:54.476Z"
   },
   {
    "duration": 58,
    "start_time": "2022-02-20T12:55:54.540Z"
   },
   {
    "duration": 31,
    "start_time": "2022-02-20T12:55:54.600Z"
   },
   {
    "duration": 41,
    "start_time": "2022-02-20T12:55:54.633Z"
   },
   {
    "duration": 8,
    "start_time": "2022-02-20T12:55:54.676Z"
   },
   {
    "duration": 17,
    "start_time": "2022-02-20T12:55:54.686Z"
   },
   {
    "duration": 30,
    "start_time": "2022-02-20T12:55:54.705Z"
   },
   {
    "duration": 339,
    "start_time": "2022-02-20T12:55:54.737Z"
   },
   {
    "duration": 5923,
    "start_time": "2022-02-20T13:00:45.778Z"
   },
   {
    "duration": 8884,
    "start_time": "2022-02-20T13:01:27.789Z"
   },
   {
    "duration": 8926,
    "start_time": "2022-02-20T13:01:38.893Z"
   },
   {
    "duration": 557,
    "start_time": "2022-02-20T13:01:50.765Z"
   },
   {
    "duration": 6032,
    "start_time": "2022-02-20T13:02:12.723Z"
   },
   {
    "duration": 220,
    "start_time": "2022-02-20T13:02:50.191Z"
   },
   {
    "duration": 219,
    "start_time": "2022-02-20T13:02:54.368Z"
   },
   {
    "duration": 487,
    "start_time": "2022-02-21T04:24:00.906Z"
   },
   {
    "duration": 1642,
    "start_time": "2022-02-21T04:24:08.599Z"
   },
   {
    "duration": 1179,
    "start_time": "2022-02-21T04:24:10.244Z"
   },
   {
    "duration": 241,
    "start_time": "2022-02-21T04:24:11.426Z"
   },
   {
    "duration": 140,
    "start_time": "2022-02-21T04:24:11.670Z"
   },
   {
    "duration": 77,
    "start_time": "2022-02-21T04:24:11.812Z"
   },
   {
    "duration": 136,
    "start_time": "2022-02-21T04:24:11.892Z"
   },
   {
    "duration": 16,
    "start_time": "2022-02-21T04:24:12.031Z"
   },
   {
    "duration": 161,
    "start_time": "2022-02-21T04:24:12.054Z"
   },
   {
    "duration": 23,
    "start_time": "2022-02-21T04:24:12.218Z"
   },
   {
    "duration": 121,
    "start_time": "2022-02-21T04:24:12.245Z"
   },
   {
    "duration": 61,
    "start_time": "2022-02-21T04:24:12.369Z"
   },
   {
    "duration": 44,
    "start_time": "2022-02-21T04:24:12.433Z"
   },
   {
    "duration": 56,
    "start_time": "2022-02-21T04:24:12.479Z"
   },
   {
    "duration": 12,
    "start_time": "2022-02-21T04:24:12.538Z"
   },
   {
    "duration": 27,
    "start_time": "2022-02-21T04:24:12.553Z"
   },
   {
    "duration": 78,
    "start_time": "2022-02-21T04:24:12.584Z"
   },
   {
    "duration": 67,
    "start_time": "2022-02-21T04:24:12.665Z"
   },
   {
    "duration": 438,
    "start_time": "2022-02-21T04:24:12.736Z"
   },
   {
    "duration": 56,
    "start_time": "2022-02-21T04:28:31.015Z"
   },
   {
    "duration": 1602,
    "start_time": "2022-02-21T04:28:45.519Z"
   },
   {
    "duration": 735,
    "start_time": "2022-02-21T04:28:47.123Z"
   },
   {
    "duration": 267,
    "start_time": "2022-02-21T04:28:47.861Z"
   },
   {
    "duration": 127,
    "start_time": "2022-02-21T04:28:48.132Z"
   },
   {
    "duration": 81,
    "start_time": "2022-02-21T04:28:48.262Z"
   },
   {
    "duration": 106,
    "start_time": "2022-02-21T04:28:48.345Z"
   },
   {
    "duration": 14,
    "start_time": "2022-02-21T04:28:48.454Z"
   },
   {
    "duration": 175,
    "start_time": "2022-02-21T04:28:48.473Z"
   },
   {
    "duration": 19,
    "start_time": "2022-02-21T04:28:48.650Z"
   },
   {
    "duration": 111,
    "start_time": "2022-02-21T04:28:48.672Z"
   },
   {
    "duration": 65,
    "start_time": "2022-02-21T04:28:48.786Z"
   },
   {
    "duration": 44,
    "start_time": "2022-02-21T04:28:48.854Z"
   },
   {
    "duration": 48,
    "start_time": "2022-02-21T04:28:48.901Z"
   },
   {
    "duration": 11,
    "start_time": "2022-02-21T04:28:48.952Z"
   },
   {
    "duration": 26,
    "start_time": "2022-02-21T04:28:48.966Z"
   },
   {
    "duration": 75,
    "start_time": "2022-02-21T04:28:48.994Z"
   },
   {
    "duration": 60,
    "start_time": "2022-02-21T04:28:49.072Z"
   },
   {
    "duration": 437,
    "start_time": "2022-02-21T04:28:49.135Z"
   },
   {
    "duration": 15,
    "start_time": "2022-02-21T04:31:41.830Z"
   },
   {
    "duration": 298,
    "start_time": "2022-02-21T04:31:47.334Z"
   },
   {
    "duration": 1480,
    "start_time": "2022-02-21T04:31:59.178Z"
   },
   {
    "duration": 752,
    "start_time": "2022-02-21T04:32:00.661Z"
   },
   {
    "duration": 243,
    "start_time": "2022-02-21T04:32:01.416Z"
   },
   {
    "duration": 134,
    "start_time": "2022-02-21T04:32:01.662Z"
   },
   {
    "duration": 75,
    "start_time": "2022-02-21T04:32:01.799Z"
   },
   {
    "duration": 102,
    "start_time": "2022-02-21T04:32:01.876Z"
   },
   {
    "duration": 46,
    "start_time": "2022-02-21T04:32:01.980Z"
   },
   {
    "duration": 142,
    "start_time": "2022-02-21T04:32:02.030Z"
   },
   {
    "duration": 17,
    "start_time": "2022-02-21T04:32:02.175Z"
   },
   {
    "duration": 101,
    "start_time": "2022-02-21T04:32:02.195Z"
   },
   {
    "duration": 54,
    "start_time": "2022-02-21T04:32:02.298Z"
   },
   {
    "duration": 42,
    "start_time": "2022-02-21T04:32:02.354Z"
   },
   {
    "duration": 51,
    "start_time": "2022-02-21T04:32:02.399Z"
   },
   {
    "duration": 11,
    "start_time": "2022-02-21T04:32:02.452Z"
   },
   {
    "duration": 24,
    "start_time": "2022-02-21T04:32:02.466Z"
   },
   {
    "duration": 72,
    "start_time": "2022-02-21T04:32:02.493Z"
   },
   {
    "duration": 19,
    "start_time": "2022-02-21T04:32:02.569Z"
   },
   {
    "duration": 458,
    "start_time": "2022-02-21T04:32:02.591Z"
   },
   {
    "duration": 317,
    "start_time": "2022-02-21T04:32:19.797Z"
   },
   {
    "duration": 1540,
    "start_time": "2022-02-21T04:32:25.806Z"
   },
   {
    "duration": 759,
    "start_time": "2022-02-21T04:32:27.349Z"
   },
   {
    "duration": 245,
    "start_time": "2022-02-21T04:32:28.111Z"
   },
   {
    "duration": 138,
    "start_time": "2022-02-21T04:32:28.359Z"
   },
   {
    "duration": 81,
    "start_time": "2022-02-21T04:32:28.499Z"
   },
   {
    "duration": 102,
    "start_time": "2022-02-21T04:32:28.583Z"
   },
   {
    "duration": 51,
    "start_time": "2022-02-21T04:32:28.688Z"
   },
   {
    "duration": 156,
    "start_time": "2022-02-21T04:32:28.743Z"
   },
   {
    "duration": 28,
    "start_time": "2022-02-21T04:32:28.902Z"
   },
   {
    "duration": 97,
    "start_time": "2022-02-21T04:32:28.933Z"
   },
   {
    "duration": 49,
    "start_time": "2022-02-21T04:32:29.032Z"
   },
   {
    "duration": 68,
    "start_time": "2022-02-21T04:32:29.083Z"
   },
   {
    "duration": 28,
    "start_time": "2022-02-21T04:32:29.153Z"
   },
   {
    "duration": 12,
    "start_time": "2022-02-21T04:32:29.183Z"
   },
   {
    "duration": 52,
    "start_time": "2022-02-21T04:32:29.198Z"
   },
   {
    "duration": 47,
    "start_time": "2022-02-21T04:32:29.252Z"
   },
   {
    "duration": 51,
    "start_time": "2022-02-21T04:32:29.302Z"
   },
   {
    "duration": 452,
    "start_time": "2022-02-21T04:32:29.356Z"
   },
   {
    "duration": 1547,
    "start_time": "2022-02-21T04:33:39.106Z"
   },
   {
    "duration": 760,
    "start_time": "2022-02-21T04:33:40.656Z"
   },
   {
    "duration": 243,
    "start_time": "2022-02-21T04:33:41.420Z"
   },
   {
    "duration": 140,
    "start_time": "2022-02-21T04:33:41.667Z"
   },
   {
    "duration": 81,
    "start_time": "2022-02-21T04:33:41.810Z"
   },
   {
    "duration": 99,
    "start_time": "2022-02-21T04:33:41.893Z"
   },
   {
    "duration": 14,
    "start_time": "2022-02-21T04:33:42.026Z"
   },
   {
    "duration": 153,
    "start_time": "2022-02-21T04:33:42.046Z"
   },
   {
    "duration": 25,
    "start_time": "2022-02-21T04:33:42.202Z"
   },
   {
    "duration": 96,
    "start_time": "2022-02-21T04:33:42.230Z"
   },
   {
    "duration": 48,
    "start_time": "2022-02-21T04:33:42.329Z"
   },
   {
    "duration": 68,
    "start_time": "2022-02-21T04:33:42.380Z"
   },
   {
    "duration": 29,
    "start_time": "2022-02-21T04:33:42.452Z"
   },
   {
    "duration": 15,
    "start_time": "2022-02-21T04:33:42.484Z"
   },
   {
    "duration": 25,
    "start_time": "2022-02-21T04:33:42.526Z"
   },
   {
    "duration": 72,
    "start_time": "2022-02-21T04:33:42.554Z"
   },
   {
    "duration": 465,
    "start_time": "2022-02-21T04:33:42.628Z"
   },
   {
    "duration": -137,
    "start_time": "2022-02-21T04:33:43.232Z"
   },
   {
    "duration": -137,
    "start_time": "2022-02-21T04:33:43.234Z"
   },
   {
    "duration": 1465,
    "start_time": "2022-02-21T04:34:17.956Z"
   },
   {
    "duration": 721,
    "start_time": "2022-02-21T04:34:19.424Z"
   },
   {
    "duration": 246,
    "start_time": "2022-02-21T04:34:20.149Z"
   },
   {
    "duration": 117,
    "start_time": "2022-02-21T04:34:20.427Z"
   },
   {
    "duration": 83,
    "start_time": "2022-02-21T04:34:20.547Z"
   },
   {
    "duration": 112,
    "start_time": "2022-02-21T04:34:20.633Z"
   },
   {
    "duration": 13,
    "start_time": "2022-02-21T04:34:20.748Z"
   },
   {
    "duration": 163,
    "start_time": "2022-02-21T04:34:20.764Z"
   },
   {
    "duration": 25,
    "start_time": "2022-02-21T04:34:20.931Z"
   },
   {
    "duration": 239,
    "start_time": "2022-02-21T04:34:20.959Z"
   },
   {
    "duration": 70,
    "start_time": "2022-02-21T04:34:21.201Z"
   },
   {
    "duration": 62,
    "start_time": "2022-02-21T04:34:21.273Z"
   },
   {
    "duration": 30,
    "start_time": "2022-02-21T04:34:21.339Z"
   },
   {
    "duration": 11,
    "start_time": "2022-02-21T04:34:21.372Z"
   },
   {
    "duration": 54,
    "start_time": "2022-02-21T04:34:21.385Z"
   },
   {
    "duration": 57,
    "start_time": "2022-02-21T04:34:21.442Z"
   },
   {
    "duration": 428,
    "start_time": "2022-02-21T04:34:21.502Z"
   },
   {
    "duration": 292,
    "start_time": "2022-02-21T04:34:36.720Z"
   },
   {
    "duration": 11,
    "start_time": "2022-02-21T04:34:39.329Z"
   },
   {
    "duration": 2049,
    "start_time": "2022-02-21T04:35:07.722Z"
   },
   {
    "duration": 336,
    "start_time": "2022-02-21T04:35:16.542Z"
   },
   {
    "duration": 1551,
    "start_time": "2022-02-21T04:35:28.686Z"
   },
   {
    "duration": 720,
    "start_time": "2022-02-21T04:35:30.241Z"
   },
   {
    "duration": 263,
    "start_time": "2022-02-21T04:35:30.964Z"
   },
   {
    "duration": 119,
    "start_time": "2022-02-21T04:35:31.230Z"
   },
   {
    "duration": 86,
    "start_time": "2022-02-21T04:35:31.351Z"
   },
   {
    "duration": 120,
    "start_time": "2022-02-21T04:35:31.439Z"
   },
   {
    "duration": 14,
    "start_time": "2022-02-21T04:35:31.562Z"
   },
   {
    "duration": 179,
    "start_time": "2022-02-21T04:35:31.581Z"
   },
   {
    "duration": 19,
    "start_time": "2022-02-21T04:35:31.764Z"
   },
   {
    "duration": 121,
    "start_time": "2022-02-21T04:35:31.786Z"
   },
   {
    "duration": 62,
    "start_time": "2022-02-21T04:35:31.910Z"
   },
   {
    "duration": 66,
    "start_time": "2022-02-21T04:35:31.975Z"
   },
   {
    "duration": 30,
    "start_time": "2022-02-21T04:35:32.044Z"
   },
   {
    "duration": 13,
    "start_time": "2022-02-21T04:35:32.077Z"
   },
   {
    "duration": 54,
    "start_time": "2022-02-21T04:35:32.092Z"
   },
   {
    "duration": 53,
    "start_time": "2022-02-21T04:35:32.149Z"
   },
   {
    "duration": 25,
    "start_time": "2022-02-21T04:35:32.205Z"
   },
   {
    "duration": 485,
    "start_time": "2022-02-21T04:35:32.233Z"
   },
   {
    "duration": -109,
    "start_time": "2022-02-21T04:35:32.830Z"
   },
   {
    "duration": 301,
    "start_time": "2022-02-21T04:36:05.045Z"
   },
   {
    "duration": 1582,
    "start_time": "2022-02-21T04:36:16.944Z"
   },
   {
    "duration": 738,
    "start_time": "2022-02-21T04:36:18.529Z"
   },
   {
    "duration": 256,
    "start_time": "2022-02-21T04:36:19.270Z"
   },
   {
    "duration": 124,
    "start_time": "2022-02-21T04:36:19.529Z"
   },
   {
    "duration": 84,
    "start_time": "2022-02-21T04:36:19.656Z"
   },
   {
    "duration": 117,
    "start_time": "2022-02-21T04:36:19.742Z"
   },
   {
    "duration": 14,
    "start_time": "2022-02-21T04:36:19.863Z"
   },
   {
    "duration": 144,
    "start_time": "2022-02-21T04:36:19.925Z"
   },
   {
    "duration": 18,
    "start_time": "2022-02-21T04:36:20.073Z"
   },
   {
    "duration": 113,
    "start_time": "2022-02-21T04:36:20.093Z"
   },
   {
    "duration": 57,
    "start_time": "2022-02-21T04:36:20.209Z"
   },
   {
    "duration": 59,
    "start_time": "2022-02-21T04:36:20.269Z"
   },
   {
    "duration": 29,
    "start_time": "2022-02-21T04:36:20.331Z"
   },
   {
    "duration": 13,
    "start_time": "2022-02-21T04:36:20.362Z"
   },
   {
    "duration": 55,
    "start_time": "2022-02-21T04:36:20.377Z"
   },
   {
    "duration": 46,
    "start_time": "2022-02-21T04:36:20.435Z"
   },
   {
    "duration": 8,
    "start_time": "2022-02-21T04:36:20.485Z"
   },
   {
    "duration": 61,
    "start_time": "2022-02-21T04:36:20.495Z"
   },
   {
    "duration": 447,
    "start_time": "2022-02-21T04:36:20.559Z"
   },
   {
    "duration": 1495,
    "start_time": "2022-02-21T04:40:52.249Z"
   },
   {
    "duration": 782,
    "start_time": "2022-02-21T04:40:53.747Z"
   },
   {
    "duration": 295,
    "start_time": "2022-02-21T04:40:54.533Z"
   },
   {
    "duration": 123,
    "start_time": "2022-02-21T04:40:54.831Z"
   },
   {
    "duration": 82,
    "start_time": "2022-02-21T04:40:54.956Z"
   },
   {
    "duration": 114,
    "start_time": "2022-02-21T04:40:55.041Z"
   },
   {
    "duration": 14,
    "start_time": "2022-02-21T04:40:55.157Z"
   },
   {
    "duration": 182,
    "start_time": "2022-02-21T04:40:55.175Z"
   },
   {
    "duration": 19,
    "start_time": "2022-02-21T04:40:55.360Z"
   },
   {
    "duration": 106,
    "start_time": "2022-02-21T04:40:55.381Z"
   },
   {
    "duration": 61,
    "start_time": "2022-02-21T04:40:55.489Z"
   },
   {
    "duration": 43,
    "start_time": "2022-02-21T04:40:55.553Z"
   },
   {
    "duration": 45,
    "start_time": "2022-02-21T04:40:55.598Z"
   },
   {
    "duration": 13,
    "start_time": "2022-02-21T04:40:55.646Z"
   },
   {
    "duration": 27,
    "start_time": "2022-02-21T04:40:55.662Z"
   },
   {
    "duration": 73,
    "start_time": "2022-02-21T04:40:55.692Z"
   },
   {
    "duration": 9,
    "start_time": "2022-02-21T04:40:55.767Z"
   },
   {
    "duration": 64,
    "start_time": "2022-02-21T04:40:55.778Z"
   },
   {
    "duration": 430,
    "start_time": "2022-02-21T04:40:55.844Z"
   },
   {
    "duration": 1531,
    "start_time": "2022-02-21T04:41:17.191Z"
   },
   {
    "duration": 718,
    "start_time": "2022-02-21T04:41:18.727Z"
   },
   {
    "duration": 280,
    "start_time": "2022-02-21T04:41:19.448Z"
   },
   {
    "duration": 122,
    "start_time": "2022-02-21T04:41:19.730Z"
   },
   {
    "duration": 81,
    "start_time": "2022-02-21T04:41:19.855Z"
   },
   {
    "duration": 119,
    "start_time": "2022-02-21T04:41:19.939Z"
   },
   {
    "duration": 14,
    "start_time": "2022-02-21T04:41:20.061Z"
   },
   {
    "duration": 177,
    "start_time": "2022-02-21T04:41:20.079Z"
   },
   {
    "duration": 20,
    "start_time": "2022-02-21T04:41:20.260Z"
   },
   {
    "duration": 112,
    "start_time": "2022-02-21T04:41:20.283Z"
   },
   {
    "duration": 60,
    "start_time": "2022-02-21T04:41:20.398Z"
   },
   {
    "duration": 44,
    "start_time": "2022-02-21T04:41:20.462Z"
   },
   {
    "duration": 41,
    "start_time": "2022-02-21T04:41:20.509Z"
   },
   {
    "duration": 12,
    "start_time": "2022-02-21T04:41:20.552Z"
   },
   {
    "duration": 33,
    "start_time": "2022-02-21T04:41:20.566Z"
   },
   {
    "duration": 68,
    "start_time": "2022-02-21T04:41:20.601Z"
   },
   {
    "duration": 8,
    "start_time": "2022-02-21T04:41:20.672Z"
   },
   {
    "duration": 79,
    "start_time": "2022-02-21T04:41:20.683Z"
   },
   {
    "duration": 478,
    "start_time": "2022-02-21T04:41:20.764Z"
   },
   {
    "duration": 1547,
    "start_time": "2022-02-21T04:42:50.086Z"
   },
   {
    "duration": 729,
    "start_time": "2022-02-21T04:42:51.635Z"
   },
   {
    "duration": 225,
    "start_time": "2022-02-21T04:42:52.367Z"
   },
   {
    "duration": 111,
    "start_time": "2022-02-21T04:42:52.628Z"
   },
   {
    "duration": 85,
    "start_time": "2022-02-21T04:42:52.742Z"
   },
   {
    "duration": 117,
    "start_time": "2022-02-21T04:42:52.830Z"
   },
   {
    "duration": 15,
    "start_time": "2022-02-21T04:42:52.950Z"
   },
   {
    "duration": 172,
    "start_time": "2022-02-21T04:42:52.969Z"
   },
   {
    "duration": 18,
    "start_time": "2022-02-21T04:42:53.144Z"
   },
   {
    "duration": 108,
    "start_time": "2022-02-21T04:42:53.164Z"
   },
   {
    "duration": 63,
    "start_time": "2022-02-21T04:42:53.275Z"
   },
   {
    "duration": 42,
    "start_time": "2022-02-21T04:42:53.341Z"
   },
   {
    "duration": 50,
    "start_time": "2022-02-21T04:42:53.387Z"
   },
   {
    "duration": 11,
    "start_time": "2022-02-21T04:42:53.440Z"
   },
   {
    "duration": 25,
    "start_time": "2022-02-21T04:42:53.453Z"
   },
   {
    "duration": 83,
    "start_time": "2022-02-21T04:42:53.481Z"
   },
   {
    "duration": 46,
    "start_time": "2022-02-21T04:42:53.566Z"
   },
   {
    "duration": 447,
    "start_time": "2022-02-21T04:42:53.626Z"
   },
   {
    "duration": 1523,
    "start_time": "2022-02-21T04:43:43.803Z"
   },
   {
    "duration": 697,
    "start_time": "2022-02-21T04:43:45.328Z"
   },
   {
    "duration": 248,
    "start_time": "2022-02-21T04:43:46.029Z"
   },
   {
    "duration": 136,
    "start_time": "2022-02-21T04:43:46.280Z"
   },
   {
    "duration": 75,
    "start_time": "2022-02-21T04:43:46.418Z"
   },
   {
    "duration": 100,
    "start_time": "2022-02-21T04:43:46.495Z"
   },
   {
    "duration": 40,
    "start_time": "2022-02-21T04:43:46.598Z"
   },
   {
    "duration": 151,
    "start_time": "2022-02-21T04:43:46.644Z"
   },
   {
    "duration": 32,
    "start_time": "2022-02-21T04:43:46.798Z"
   },
   {
    "duration": 101,
    "start_time": "2022-02-21T04:43:46.833Z"
   },
   {
    "duration": 47,
    "start_time": "2022-02-21T04:43:46.936Z"
   },
   {
    "duration": 63,
    "start_time": "2022-02-21T04:43:46.985Z"
   },
   {
    "duration": 26,
    "start_time": "2022-02-21T04:43:47.051Z"
   },
   {
    "duration": 11,
    "start_time": "2022-02-21T04:43:47.079Z"
   },
   {
    "duration": 52,
    "start_time": "2022-02-21T04:43:47.093Z"
   },
   {
    "duration": 44,
    "start_time": "2022-02-21T04:43:47.148Z"
   },
   {
    "duration": 55,
    "start_time": "2022-02-21T04:43:47.194Z"
   },
   {
    "duration": 437,
    "start_time": "2022-02-21T04:43:47.251Z"
   },
   {
    "duration": 111,
    "start_time": "2022-02-21T05:03:18.324Z"
   },
   {
    "duration": 333,
    "start_time": "2022-02-21T05:05:44.912Z"
   },
   {
    "duration": 1566,
    "start_time": "2022-02-21T05:05:53.978Z"
   },
   {
    "duration": 757,
    "start_time": "2022-02-21T05:05:55.547Z"
   },
   {
    "duration": 237,
    "start_time": "2022-02-21T05:05:56.308Z"
   },
   {
    "duration": 132,
    "start_time": "2022-02-21T05:05:56.548Z"
   },
   {
    "duration": 82,
    "start_time": "2022-02-21T05:05:56.683Z"
   },
   {
    "duration": 109,
    "start_time": "2022-02-21T05:05:56.767Z"
   },
   {
    "duration": 49,
    "start_time": "2022-02-21T05:05:56.878Z"
   },
   {
    "duration": 145,
    "start_time": "2022-02-21T05:05:56.931Z"
   },
   {
    "duration": 19,
    "start_time": "2022-02-21T05:05:57.079Z"
   },
   {
    "duration": 110,
    "start_time": "2022-02-21T05:05:57.101Z"
   },
   {
    "duration": 56,
    "start_time": "2022-02-21T05:05:57.214Z"
   },
   {
    "duration": 59,
    "start_time": "2022-02-21T05:05:57.272Z"
   },
   {
    "duration": 29,
    "start_time": "2022-02-21T05:05:57.334Z"
   },
   {
    "duration": 12,
    "start_time": "2022-02-21T05:05:57.366Z"
   },
   {
    "duration": 57,
    "start_time": "2022-02-21T05:05:57.381Z"
   },
   {
    "duration": 46,
    "start_time": "2022-02-21T05:05:57.440Z"
   },
   {
    "duration": 493,
    "start_time": "2022-02-21T05:05:57.489Z"
   },
   {
    "duration": -214,
    "start_time": "2022-02-21T05:05:58.199Z"
   },
   {
    "duration": 332,
    "start_time": "2022-02-21T05:08:59.528Z"
   },
   {
    "duration": 1551,
    "start_time": "2022-02-21T05:09:28.165Z"
   },
   {
    "duration": 742,
    "start_time": "2022-02-21T05:09:29.719Z"
   },
   {
    "duration": 223,
    "start_time": "2022-02-21T05:09:30.464Z"
   },
   {
    "duration": 140,
    "start_time": "2022-02-21T05:09:30.690Z"
   },
   {
    "duration": 72,
    "start_time": "2022-02-21T05:09:30.833Z"
   },
   {
    "duration": 129,
    "start_time": "2022-02-21T05:09:30.907Z"
   },
   {
    "duration": 13,
    "start_time": "2022-02-21T05:09:31.038Z"
   },
   {
    "duration": 153,
    "start_time": "2022-02-21T05:09:31.053Z"
   },
   {
    "duration": 27,
    "start_time": "2022-02-21T05:09:31.209Z"
   },
   {
    "duration": 100,
    "start_time": "2022-02-21T05:09:31.239Z"
   },
   {
    "duration": 46,
    "start_time": "2022-02-21T05:09:31.341Z"
   },
   {
    "duration": 63,
    "start_time": "2022-02-21T05:09:31.389Z"
   },
   {
    "duration": 47,
    "start_time": "2022-02-21T05:09:31.454Z"
   },
   {
    "duration": 11,
    "start_time": "2022-02-21T05:09:31.503Z"
   },
   {
    "duration": 25,
    "start_time": "2022-02-21T05:09:31.517Z"
   },
   {
    "duration": 45,
    "start_time": "2022-02-21T05:09:31.544Z"
   },
   {
    "duration": 69,
    "start_time": "2022-02-21T05:09:31.592Z"
   },
   {
    "duration": 477,
    "start_time": "2022-02-21T05:09:31.664Z"
   },
   {
    "duration": 338,
    "start_time": "2022-02-21T05:10:08.335Z"
   },
   {
    "duration": 1499,
    "start_time": "2022-02-21T05:10:18.933Z"
   },
   {
    "duration": 733,
    "start_time": "2022-02-21T05:10:20.435Z"
   },
   {
    "duration": 257,
    "start_time": "2022-02-21T05:10:21.172Z"
   },
   {
    "duration": 118,
    "start_time": "2022-02-21T05:10:21.432Z"
   },
   {
    "duration": 84,
    "start_time": "2022-02-21T05:10:21.553Z"
   },
   {
    "duration": 114,
    "start_time": "2022-02-21T05:10:21.640Z"
   },
   {
    "duration": 13,
    "start_time": "2022-02-21T05:10:21.757Z"
   },
   {
    "duration": 177,
    "start_time": "2022-02-21T05:10:21.775Z"
   },
   {
    "duration": 18,
    "start_time": "2022-02-21T05:10:21.955Z"
   },
   {
    "duration": 105,
    "start_time": "2022-02-21T05:10:21.975Z"
   },
   {
    "duration": 65,
    "start_time": "2022-02-21T05:10:22.082Z"
   },
   {
    "duration": 41,
    "start_time": "2022-02-21T05:10:22.149Z"
   },
   {
    "duration": 46,
    "start_time": "2022-02-21T05:10:22.192Z"
   },
   {
    "duration": 18,
    "start_time": "2022-02-21T05:10:22.242Z"
   },
   {
    "duration": 64,
    "start_time": "2022-02-21T05:10:22.263Z"
   },
   {
    "duration": 44,
    "start_time": "2022-02-21T05:10:22.330Z"
   },
   {
    "duration": 58,
    "start_time": "2022-02-21T05:10:22.377Z"
   },
   {
    "duration": 529,
    "start_time": "2022-02-21T05:10:22.438Z"
   },
   {
    "duration": 327,
    "start_time": "2022-02-21T05:10:39.314Z"
   },
   {
    "duration": 1485,
    "start_time": "2022-02-21T05:10:44.947Z"
   },
   {
    "duration": 736,
    "start_time": "2022-02-21T05:10:46.435Z"
   },
   {
    "duration": 261,
    "start_time": "2022-02-21T05:10:47.175Z"
   },
   {
    "duration": 127,
    "start_time": "2022-02-21T05:10:47.439Z"
   },
   {
    "duration": 82,
    "start_time": "2022-02-21T05:10:47.568Z"
   },
   {
    "duration": 106,
    "start_time": "2022-02-21T05:10:47.653Z"
   },
   {
    "duration": 13,
    "start_time": "2022-02-21T05:10:47.762Z"
   },
   {
    "duration": 179,
    "start_time": "2022-02-21T05:10:47.778Z"
   },
   {
    "duration": 19,
    "start_time": "2022-02-21T05:10:47.960Z"
   },
   {
    "duration": 111,
    "start_time": "2022-02-21T05:10:47.981Z"
   },
   {
    "duration": 54,
    "start_time": "2022-02-21T05:10:48.094Z"
   },
   {
    "duration": 43,
    "start_time": "2022-02-21T05:10:48.150Z"
   },
   {
    "duration": 49,
    "start_time": "2022-02-21T05:10:48.195Z"
   },
   {
    "duration": 12,
    "start_time": "2022-02-21T05:10:48.246Z"
   },
   {
    "duration": 26,
    "start_time": "2022-02-21T05:10:48.261Z"
   },
   {
    "duration": 80,
    "start_time": "2022-02-21T05:10:48.290Z"
   },
   {
    "duration": 65,
    "start_time": "2022-02-21T05:10:48.373Z"
   },
   {
    "duration": 446,
    "start_time": "2022-02-21T05:10:48.441Z"
   },
   {
    "duration": 330,
    "start_time": "2022-02-21T05:11:11.974Z"
   },
   {
    "duration": 1552,
    "start_time": "2022-02-21T05:11:17.897Z"
   },
   {
    "duration": 756,
    "start_time": "2022-02-21T05:11:19.452Z"
   },
   {
    "duration": 246,
    "start_time": "2022-02-21T05:11:20.212Z"
   },
   {
    "duration": 135,
    "start_time": "2022-02-21T05:11:20.461Z"
   },
   {
    "duration": 81,
    "start_time": "2022-02-21T05:11:20.599Z"
   },
   {
    "duration": 104,
    "start_time": "2022-02-21T05:11:20.683Z"
   },
   {
    "duration": 47,
    "start_time": "2022-02-21T05:11:20.789Z"
   },
   {
    "duration": 147,
    "start_time": "2022-02-21T05:11:20.840Z"
   },
   {
    "duration": 19,
    "start_time": "2022-02-21T05:11:20.990Z"
   },
   {
    "duration": 87,
    "start_time": "2022-02-21T05:11:21.027Z"
   },
   {
    "duration": 59,
    "start_time": "2022-02-21T05:11:21.125Z"
   },
   {
    "duration": 68,
    "start_time": "2022-02-21T05:11:21.187Z"
   },
   {
    "duration": 28,
    "start_time": "2022-02-21T05:11:21.257Z"
   },
   {
    "duration": 11,
    "start_time": "2022-02-21T05:11:21.287Z"
   },
   {
    "duration": 25,
    "start_time": "2022-02-21T05:11:21.326Z"
   },
   {
    "duration": 45,
    "start_time": "2022-02-21T05:11:21.353Z"
   },
   {
    "duration": 59,
    "start_time": "2022-02-21T05:11:21.401Z"
   },
   {
    "duration": 465,
    "start_time": "2022-02-21T05:11:21.463Z"
   },
   {
    "duration": 327,
    "start_time": "2022-02-21T05:13:16.356Z"
   },
   {
    "duration": 1532,
    "start_time": "2022-02-21T05:13:21.903Z"
   },
   {
    "duration": 735,
    "start_time": "2022-02-21T05:13:23.438Z"
   },
   {
    "duration": 256,
    "start_time": "2022-02-21T05:13:24.177Z"
   },
   {
    "duration": 125,
    "start_time": "2022-02-21T05:13:24.436Z"
   },
   {
    "duration": 82,
    "start_time": "2022-02-21T05:13:24.564Z"
   },
   {
    "duration": 111,
    "start_time": "2022-02-21T05:13:24.649Z"
   },
   {
    "duration": 14,
    "start_time": "2022-02-21T05:13:24.762Z"
   },
   {
    "duration": 175,
    "start_time": "2022-02-21T05:13:24.780Z"
   },
   {
    "duration": 20,
    "start_time": "2022-02-21T05:13:24.958Z"
   },
   {
    "duration": 108,
    "start_time": "2022-02-21T05:13:24.981Z"
   },
   {
    "duration": 60,
    "start_time": "2022-02-21T05:13:25.091Z"
   },
   {
    "duration": 43,
    "start_time": "2022-02-21T05:13:25.153Z"
   },
   {
    "duration": 46,
    "start_time": "2022-02-21T05:13:25.198Z"
   },
   {
    "duration": 12,
    "start_time": "2022-02-21T05:13:25.247Z"
   },
   {
    "duration": 29,
    "start_time": "2022-02-21T05:13:25.262Z"
   },
   {
    "duration": 72,
    "start_time": "2022-02-21T05:13:25.293Z"
   },
   {
    "duration": 60,
    "start_time": "2022-02-21T05:13:25.367Z"
   },
   {
    "duration": 446,
    "start_time": "2022-02-21T05:13:25.430Z"
   },
   {
    "duration": 1527,
    "start_time": "2022-02-21T05:13:36.902Z"
   },
   {
    "duration": 745,
    "start_time": "2022-02-21T05:13:38.432Z"
   },
   {
    "duration": 269,
    "start_time": "2022-02-21T05:13:39.180Z"
   },
   {
    "duration": 134,
    "start_time": "2022-02-21T05:13:39.452Z"
   },
   {
    "duration": 82,
    "start_time": "2022-02-21T05:13:39.588Z"
   },
   {
    "duration": 95,
    "start_time": "2022-02-21T05:13:39.673Z"
   },
   {
    "duration": 13,
    "start_time": "2022-02-21T05:13:39.770Z"
   },
   {
    "duration": 167,
    "start_time": "2022-02-21T05:13:39.787Z"
   },
   {
    "duration": 19,
    "start_time": "2022-02-21T05:13:39.957Z"
   },
   {
    "duration": 720,
    "start_time": "2022-02-21T05:13:39.978Z"
   },
   {
    "duration": 64,
    "start_time": "2022-02-21T05:13:40.700Z"
   },
   {
    "duration": 62,
    "start_time": "2022-02-21T05:13:40.767Z"
   },
   {
    "duration": 29,
    "start_time": "2022-02-21T05:13:40.832Z"
   },
   {
    "duration": 14,
    "start_time": "2022-02-21T05:13:40.863Z"
   },
   {
    "duration": 59,
    "start_time": "2022-02-21T05:13:40.881Z"
   },
   {
    "duration": 47,
    "start_time": "2022-02-21T05:13:40.943Z"
   },
   {
    "duration": 60,
    "start_time": "2022-02-21T05:13:40.993Z"
   },
   {
    "duration": 647,
    "start_time": "2022-02-21T05:13:41.056Z"
   },
   {
    "duration": 319,
    "start_time": "2022-02-21T05:17:25.180Z"
   },
   {
    "duration": 1540,
    "start_time": "2022-02-21T05:17:34.779Z"
   },
   {
    "duration": 729,
    "start_time": "2022-02-21T05:17:36.321Z"
   },
   {
    "duration": 236,
    "start_time": "2022-02-21T05:17:37.053Z"
   },
   {
    "duration": 123,
    "start_time": "2022-02-21T05:17:37.327Z"
   },
   {
    "duration": 86,
    "start_time": "2022-02-21T05:17:37.453Z"
   },
   {
    "duration": 123,
    "start_time": "2022-02-21T05:17:37.542Z"
   },
   {
    "duration": 14,
    "start_time": "2022-02-21T05:17:37.668Z"
   },
   {
    "duration": 188,
    "start_time": "2022-02-21T05:17:37.686Z"
   },
   {
    "duration": 20,
    "start_time": "2022-02-21T05:17:37.878Z"
   },
   {
    "duration": 107,
    "start_time": "2022-02-21T05:17:37.901Z"
   },
   {
    "duration": 55,
    "start_time": "2022-02-21T05:17:38.011Z"
   },
   {
    "duration": 68,
    "start_time": "2022-02-21T05:17:38.069Z"
   },
   {
    "duration": 27,
    "start_time": "2022-02-21T05:17:38.140Z"
   },
   {
    "duration": 16,
    "start_time": "2022-02-21T05:17:38.170Z"
   },
   {
    "duration": 49,
    "start_time": "2022-02-21T05:17:38.189Z"
   },
   {
    "duration": 60,
    "start_time": "2022-02-21T05:17:38.241Z"
   },
   {
    "duration": 481,
    "start_time": "2022-02-21T05:17:38.304Z"
   },
   {
    "duration": -147,
    "start_time": "2022-02-21T05:17:38.935Z"
   },
   {
    "duration": 1530,
    "start_time": "2022-02-21T05:18:49.099Z"
   },
   {
    "duration": 719,
    "start_time": "2022-02-21T05:18:50.631Z"
   },
   {
    "duration": 212,
    "start_time": "2022-02-21T05:18:51.353Z"
   },
   {
    "duration": 135,
    "start_time": "2022-02-21T05:18:51.568Z"
   },
   {
    "duration": 80,
    "start_time": "2022-02-21T05:18:51.705Z"
   },
   {
    "duration": 98,
    "start_time": "2022-02-21T05:18:51.788Z"
   },
   {
    "duration": 50,
    "start_time": "2022-02-21T05:18:51.888Z"
   },
   {
    "duration": 149,
    "start_time": "2022-02-21T05:18:51.942Z"
   },
   {
    "duration": 19,
    "start_time": "2022-02-21T05:18:52.093Z"
   },
   {
    "duration": 99,
    "start_time": "2022-02-21T05:18:52.127Z"
   },
   {
    "duration": 52,
    "start_time": "2022-02-21T05:18:52.229Z"
   },
   {
    "duration": 70,
    "start_time": "2022-02-21T05:18:52.284Z"
   },
   {
    "duration": 31,
    "start_time": "2022-02-21T05:18:52.357Z"
   },
   {
    "duration": 41,
    "start_time": "2022-02-21T05:18:52.391Z"
   },
   {
    "duration": 26,
    "start_time": "2022-02-21T05:18:52.435Z"
   },
   {
    "duration": 74,
    "start_time": "2022-02-21T05:18:52.463Z"
   },
   {
    "duration": 1048,
    "start_time": "2022-02-21T05:18:52.540Z"
   },
   {
    "duration": -154,
    "start_time": "2022-02-21T05:18:53.745Z"
   },
   {
    "duration": 1710,
    "start_time": "2022-02-21T05:19:05.532Z"
   },
   {
    "duration": 833,
    "start_time": "2022-02-21T05:19:07.244Z"
   },
   {
    "duration": 251,
    "start_time": "2022-02-21T05:19:08.080Z"
   },
   {
    "duration": 120,
    "start_time": "2022-02-21T05:19:08.335Z"
   },
   {
    "duration": 81,
    "start_time": "2022-02-21T05:19:08.458Z"
   },
   {
    "duration": 113,
    "start_time": "2022-02-21T05:19:08.542Z"
   },
   {
    "duration": 13,
    "start_time": "2022-02-21T05:19:08.657Z"
   },
   {
    "duration": 171,
    "start_time": "2022-02-21T05:19:08.674Z"
   },
   {
    "duration": 18,
    "start_time": "2022-02-21T05:19:08.847Z"
   },
   {
    "duration": 113,
    "start_time": "2022-02-21T05:19:08.867Z"
   },
   {
    "duration": 56,
    "start_time": "2022-02-21T05:19:08.983Z"
   },
   {
    "duration": 44,
    "start_time": "2022-02-21T05:19:09.041Z"
   },
   {
    "duration": 54,
    "start_time": "2022-02-21T05:19:09.088Z"
   },
   {
    "duration": 13,
    "start_time": "2022-02-21T05:19:09.145Z"
   },
   {
    "duration": 53,
    "start_time": "2022-02-21T05:19:09.161Z"
   },
   {
    "duration": 62,
    "start_time": "2022-02-21T05:19:09.218Z"
   },
   {
    "duration": 56,
    "start_time": "2022-02-21T05:19:09.283Z"
   },
   {
    "duration": 501,
    "start_time": "2022-02-21T05:19:09.342Z"
   },
   {
    "duration": 1580,
    "start_time": "2022-02-21T05:20:21.050Z"
   },
   {
    "duration": 736,
    "start_time": "2022-02-21T05:20:22.633Z"
   },
   {
    "duration": 257,
    "start_time": "2022-02-21T05:20:23.372Z"
   },
   {
    "duration": 123,
    "start_time": "2022-02-21T05:20:23.632Z"
   },
   {
    "duration": 86,
    "start_time": "2022-02-21T05:20:23.758Z"
   },
   {
    "duration": 110,
    "start_time": "2022-02-21T05:20:23.847Z"
   },
   {
    "duration": 14,
    "start_time": "2022-02-21T05:20:23.959Z"
   },
   {
    "duration": 174,
    "start_time": "2022-02-21T05:20:23.976Z"
   },
   {
    "duration": 19,
    "start_time": "2022-02-21T05:20:24.153Z"
   },
   {
    "duration": 113,
    "start_time": "2022-02-21T05:20:24.174Z"
   },
   {
    "duration": 67,
    "start_time": "2022-02-21T05:20:24.290Z"
   },
   {
    "duration": 74,
    "start_time": "2022-02-21T05:20:24.360Z"
   },
   {
    "duration": 38,
    "start_time": "2022-02-21T05:20:24.437Z"
   },
   {
    "duration": 12,
    "start_time": "2022-02-21T05:20:24.477Z"
   },
   {
    "duration": 54,
    "start_time": "2022-02-21T05:20:24.491Z"
   },
   {
    "duration": 48,
    "start_time": "2022-02-21T05:20:24.548Z"
   },
   {
    "duration": 60,
    "start_time": "2022-02-21T05:20:24.599Z"
   },
   {
    "duration": 426,
    "start_time": "2022-02-21T05:20:24.661Z"
   },
   {
    "duration": 1573,
    "start_time": "2022-02-21T05:22:30.049Z"
   },
   {
    "duration": 750,
    "start_time": "2022-02-21T05:22:31.627Z"
   },
   {
    "duration": 248,
    "start_time": "2022-02-21T05:22:32.383Z"
   },
   {
    "duration": 125,
    "start_time": "2022-02-21T05:22:32.634Z"
   },
   {
    "duration": 80,
    "start_time": "2022-02-21T05:22:32.762Z"
   },
   {
    "duration": 121,
    "start_time": "2022-02-21T05:22:32.845Z"
   },
   {
    "duration": 56,
    "start_time": "2022-02-21T05:22:32.972Z"
   },
   {
    "duration": 144,
    "start_time": "2022-02-21T05:22:33.031Z"
   },
   {
    "duration": 19,
    "start_time": "2022-02-21T05:22:33.178Z"
   },
   {
    "duration": 109,
    "start_time": "2022-02-21T05:22:33.200Z"
   },
   {
    "duration": 56,
    "start_time": "2022-02-21T05:22:33.312Z"
   },
   {
    "duration": 61,
    "start_time": "2022-02-21T05:22:33.370Z"
   },
   {
    "duration": 27,
    "start_time": "2022-02-21T05:22:33.433Z"
   },
   {
    "duration": 11,
    "start_time": "2022-02-21T05:22:33.462Z"
   },
   {
    "duration": 56,
    "start_time": "2022-02-21T05:22:33.476Z"
   },
   {
    "duration": 51,
    "start_time": "2022-02-21T05:22:33.535Z"
   },
   {
    "duration": 478,
    "start_time": "2022-02-21T05:22:33.588Z"
   },
   {
    "duration": -72,
    "start_time": "2022-02-21T05:22:34.140Z"
   },
   {
    "duration": 1586,
    "start_time": "2022-02-21T05:22:57.103Z"
   },
   {
    "duration": 737,
    "start_time": "2022-02-21T05:22:58.691Z"
   },
   {
    "duration": 247,
    "start_time": "2022-02-21T05:22:59.432Z"
   },
   {
    "duration": 151,
    "start_time": "2022-02-21T05:22:59.682Z"
   },
   {
    "duration": 74,
    "start_time": "2022-02-21T05:22:59.836Z"
   },
   {
    "duration": 119,
    "start_time": "2022-02-21T05:22:59.925Z"
   },
   {
    "duration": 16,
    "start_time": "2022-02-21T05:23:00.047Z"
   },
   {
    "duration": 166,
    "start_time": "2022-02-21T05:23:00.066Z"
   },
   {
    "duration": 20,
    "start_time": "2022-02-21T05:23:00.234Z"
   },
   {
    "duration": 118,
    "start_time": "2022-02-21T05:23:00.256Z"
   },
   {
    "duration": 62,
    "start_time": "2022-02-21T05:23:00.377Z"
   },
   {
    "duration": 43,
    "start_time": "2022-02-21T05:23:00.442Z"
   },
   {
    "duration": 51,
    "start_time": "2022-02-21T05:23:00.488Z"
   },
   {
    "duration": 13,
    "start_time": "2022-02-21T05:23:00.541Z"
   },
   {
    "duration": 26,
    "start_time": "2022-02-21T05:23:00.557Z"
   },
   {
    "duration": 76,
    "start_time": "2022-02-21T05:23:00.585Z"
   },
   {
    "duration": 41,
    "start_time": "2022-02-21T05:23:00.663Z"
   },
   {
    "duration": 630,
    "start_time": "2022-02-21T05:23:00.727Z"
   },
   {
    "duration": 1505,
    "start_time": "2022-02-21T05:32:01.378Z"
   },
   {
    "duration": 778,
    "start_time": "2022-02-21T05:32:02.886Z"
   },
   {
    "duration": 262,
    "start_time": "2022-02-21T05:32:03.667Z"
   },
   {
    "duration": 131,
    "start_time": "2022-02-21T05:32:03.932Z"
   },
   {
    "duration": 82,
    "start_time": "2022-02-21T05:32:04.066Z"
   },
   {
    "duration": 108,
    "start_time": "2022-02-21T05:32:04.150Z"
   },
   {
    "duration": 13,
    "start_time": "2022-02-21T05:32:04.260Z"
   },
   {
    "duration": 177,
    "start_time": "2022-02-21T05:32:04.276Z"
   },
   {
    "duration": 18,
    "start_time": "2022-02-21T05:32:04.458Z"
   },
   {
    "duration": 111,
    "start_time": "2022-02-21T05:32:04.479Z"
   },
   {
    "duration": 58,
    "start_time": "2022-02-21T05:32:04.593Z"
   },
   {
    "duration": 40,
    "start_time": "2022-02-21T05:32:04.653Z"
   },
   {
    "duration": 48,
    "start_time": "2022-02-21T05:32:04.696Z"
   },
   {
    "duration": 12,
    "start_time": "2022-02-21T05:32:04.747Z"
   },
   {
    "duration": 29,
    "start_time": "2022-02-21T05:32:04.761Z"
   },
   {
    "duration": 73,
    "start_time": "2022-02-21T05:32:04.792Z"
   },
   {
    "duration": 444,
    "start_time": "2022-02-21T05:32:04.868Z"
   },
   {
    "duration": -170,
    "start_time": "2022-02-21T05:32:05.485Z"
   },
   {
    "duration": 1566,
    "start_time": "2022-02-21T05:33:17.743Z"
   },
   {
    "duration": 731,
    "start_time": "2022-02-21T05:33:19.311Z"
   },
   {
    "duration": 232,
    "start_time": "2022-02-21T05:33:20.045Z"
   },
   {
    "duration": 146,
    "start_time": "2022-02-21T05:33:20.280Z"
   },
   {
    "duration": 75,
    "start_time": "2022-02-21T05:33:20.428Z"
   },
   {
    "duration": 142,
    "start_time": "2022-02-21T05:33:20.506Z"
   },
   {
    "duration": 15,
    "start_time": "2022-02-21T05:33:20.651Z"
   },
   {
    "duration": 179,
    "start_time": "2022-02-21T05:33:20.672Z"
   },
   {
    "duration": 17,
    "start_time": "2022-02-21T05:33:20.854Z"
   },
   {
    "duration": 103,
    "start_time": "2022-02-21T05:33:20.874Z"
   },
   {
    "duration": 60,
    "start_time": "2022-02-21T05:33:20.979Z"
   },
   {
    "duration": 41,
    "start_time": "2022-02-21T05:33:21.042Z"
   },
   {
    "duration": 48,
    "start_time": "2022-02-21T05:33:21.086Z"
   },
   {
    "duration": 11,
    "start_time": "2022-02-21T05:33:21.137Z"
   },
   {
    "duration": 33,
    "start_time": "2022-02-21T05:33:21.150Z"
   },
   {
    "duration": 65,
    "start_time": "2022-02-21T05:33:21.185Z"
   },
   {
    "duration": 472,
    "start_time": "2022-02-21T05:33:21.252Z"
   },
   {
    "duration": -107,
    "start_time": "2022-02-21T05:33:21.834Z"
   },
   {
    "duration": 1625,
    "start_time": "2022-02-21T05:33:45.727Z"
   },
   {
    "duration": 737,
    "start_time": "2022-02-21T05:33:47.356Z"
   },
   {
    "duration": 242,
    "start_time": "2022-02-21T05:33:48.097Z"
   },
   {
    "duration": 132,
    "start_time": "2022-02-21T05:33:48.342Z"
   },
   {
    "duration": 87,
    "start_time": "2022-02-21T05:33:48.477Z"
   },
   {
    "duration": 117,
    "start_time": "2022-02-21T05:33:48.566Z"
   },
   {
    "duration": 43,
    "start_time": "2022-02-21T05:33:48.686Z"
   },
   {
    "duration": 146,
    "start_time": "2022-02-21T05:33:48.733Z"
   },
   {
    "duration": 22,
    "start_time": "2022-02-21T05:33:48.882Z"
   },
   {
    "duration": 86,
    "start_time": "2022-02-21T05:33:48.926Z"
   },
   {
    "duration": 57,
    "start_time": "2022-02-21T05:33:49.014Z"
   },
   {
    "duration": 64,
    "start_time": "2022-02-21T05:33:49.074Z"
   },
   {
    "duration": 29,
    "start_time": "2022-02-21T05:33:49.140Z"
   },
   {
    "duration": 12,
    "start_time": "2022-02-21T05:33:49.172Z"
   },
   {
    "duration": 56,
    "start_time": "2022-02-21T05:33:49.187Z"
   },
   {
    "duration": 48,
    "start_time": "2022-02-21T05:33:49.246Z"
   },
   {
    "duration": 60,
    "start_time": "2022-02-21T05:33:49.296Z"
   },
   {
    "duration": 440,
    "start_time": "2022-02-21T05:33:49.358Z"
   },
   {
    "duration": 1507,
    "start_time": "2022-02-21T05:51:45.434Z"
   },
   {
    "duration": 843,
    "start_time": "2022-02-21T05:51:46.945Z"
   },
   {
    "duration": 261,
    "start_time": "2022-02-21T05:51:47.794Z"
   },
   {
    "duration": 136,
    "start_time": "2022-02-21T05:51:48.058Z"
   },
   {
    "duration": 83,
    "start_time": "2022-02-21T05:51:48.196Z"
   },
   {
    "duration": 106,
    "start_time": "2022-02-21T05:51:48.282Z"
   },
   {
    "duration": 49,
    "start_time": "2022-02-21T05:51:48.391Z"
   },
   {
    "duration": 157,
    "start_time": "2022-02-21T05:51:48.443Z"
   },
   {
    "duration": 32,
    "start_time": "2022-02-21T05:51:48.603Z"
   },
   {
    "duration": 105,
    "start_time": "2022-02-21T05:51:48.637Z"
   },
   {
    "duration": 47,
    "start_time": "2022-02-21T05:51:48.745Z"
   },
   {
    "duration": 63,
    "start_time": "2022-02-21T05:51:48.795Z"
   },
   {
    "duration": 27,
    "start_time": "2022-02-21T05:51:48.861Z"
   },
   {
    "duration": 12,
    "start_time": "2022-02-21T05:51:48.890Z"
   },
   {
    "duration": 24,
    "start_time": "2022-02-21T05:51:48.927Z"
   },
   {
    "duration": 72,
    "start_time": "2022-02-21T05:51:48.954Z"
   },
   {
    "duration": 35,
    "start_time": "2022-02-21T05:51:49.029Z"
   },
   {
    "duration": 444,
    "start_time": "2022-02-21T05:51:49.066Z"
   },
   {
    "duration": 8,
    "start_time": "2022-02-21T06:02:21.449Z"
   },
   {
    "duration": 1649,
    "start_time": "2022-02-21T06:03:12.321Z"
   },
   {
    "duration": 712,
    "start_time": "2022-02-21T06:03:13.973Z"
   },
   {
    "duration": 248,
    "start_time": "2022-02-21T06:03:14.688Z"
   },
   {
    "duration": 120,
    "start_time": "2022-02-21T06:03:14.938Z"
   },
   {
    "duration": 80,
    "start_time": "2022-02-21T06:03:15.060Z"
   },
   {
    "duration": 111,
    "start_time": "2022-02-21T06:03:15.143Z"
   },
   {
    "duration": 13,
    "start_time": "2022-02-21T06:03:15.256Z"
   },
   {
    "duration": 157,
    "start_time": "2022-02-21T06:03:15.272Z"
   },
   {
    "duration": 18,
    "start_time": "2022-02-21T06:03:15.432Z"
   },
   {
    "duration": 115,
    "start_time": "2022-02-21T06:03:15.452Z"
   },
   {
    "duration": 58,
    "start_time": "2022-02-21T06:03:15.569Z"
   },
   {
    "duration": 44,
    "start_time": "2022-02-21T06:03:15.630Z"
   },
   {
    "duration": 26,
    "start_time": "2022-02-21T06:03:15.676Z"
   },
   {
    "duration": 11,
    "start_time": "2022-02-21T06:03:15.726Z"
   },
   {
    "duration": 40,
    "start_time": "2022-02-21T06:03:15.740Z"
   },
   {
    "duration": 62,
    "start_time": "2022-02-21T06:03:15.782Z"
   },
   {
    "duration": 4,
    "start_time": "2022-02-21T06:03:15.846Z"
   },
   {
    "duration": 34,
    "start_time": "2022-02-21T06:03:15.853Z"
   },
   {
    "duration": 433,
    "start_time": "2022-02-21T06:03:15.889Z"
   },
   {
    "duration": 1516,
    "start_time": "2022-02-21T06:04:06.022Z"
   },
   {
    "duration": 743,
    "start_time": "2022-02-21T06:04:07.542Z"
   },
   {
    "duration": 260,
    "start_time": "2022-02-21T06:04:08.288Z"
   },
   {
    "duration": 126,
    "start_time": "2022-02-21T06:04:08.550Z"
   },
   {
    "duration": 85,
    "start_time": "2022-02-21T06:04:08.679Z"
   },
   {
    "duration": 111,
    "start_time": "2022-02-21T06:04:08.767Z"
   },
   {
    "duration": 47,
    "start_time": "2022-02-21T06:04:08.881Z"
   },
   {
    "duration": 151,
    "start_time": "2022-02-21T06:04:08.932Z"
   },
   {
    "duration": 19,
    "start_time": "2022-02-21T06:04:09.085Z"
   },
   {
    "duration": 104,
    "start_time": "2022-02-21T06:04:09.107Z"
   },
   {
    "duration": 49,
    "start_time": "2022-02-21T06:04:09.226Z"
   },
   {
    "duration": 63,
    "start_time": "2022-02-21T06:04:09.278Z"
   },
   {
    "duration": 41,
    "start_time": "2022-02-21T06:04:09.344Z"
   },
   {
    "duration": 40,
    "start_time": "2022-02-21T06:04:09.388Z"
   },
   {
    "duration": 39,
    "start_time": "2022-02-21T06:04:09.431Z"
   },
   {
    "duration": 85,
    "start_time": "2022-02-21T06:04:09.474Z"
   },
   {
    "duration": 6,
    "start_time": "2022-02-21T06:04:09.561Z"
   },
   {
    "duration": 40,
    "start_time": "2022-02-21T06:04:09.570Z"
   },
   {
    "duration": 466,
    "start_time": "2022-02-21T06:04:09.612Z"
   },
   {
    "duration": 1499,
    "start_time": "2022-02-21T06:04:26.426Z"
   },
   {
    "duration": 753,
    "start_time": "2022-02-21T06:04:27.927Z"
   },
   {
    "duration": 285,
    "start_time": "2022-02-21T06:04:28.683Z"
   },
   {
    "duration": 137,
    "start_time": "2022-02-21T06:04:28.971Z"
   },
   {
    "duration": 76,
    "start_time": "2022-02-21T06:04:29.110Z"
   },
   {
    "duration": 150,
    "start_time": "2022-02-21T06:04:29.189Z"
   },
   {
    "duration": 14,
    "start_time": "2022-02-21T06:04:29.341Z"
   },
   {
    "duration": 155,
    "start_time": "2022-02-21T06:04:29.359Z"
   },
   {
    "duration": 24,
    "start_time": "2022-02-21T06:04:29.517Z"
   },
   {
    "duration": 106,
    "start_time": "2022-02-21T06:04:29.544Z"
   },
   {
    "duration": 53,
    "start_time": "2022-02-21T06:04:29.652Z"
   },
   {
    "duration": 57,
    "start_time": "2022-02-21T06:04:29.708Z"
   },
   {
    "duration": 27,
    "start_time": "2022-02-21T06:04:29.768Z"
   },
   {
    "duration": 37,
    "start_time": "2022-02-21T06:04:29.797Z"
   },
   {
    "duration": 27,
    "start_time": "2022-02-21T06:04:29.837Z"
   },
   {
    "duration": 82,
    "start_time": "2022-02-21T06:04:29.867Z"
   },
   {
    "duration": 6,
    "start_time": "2022-02-21T06:04:29.951Z"
   },
   {
    "duration": 33,
    "start_time": "2022-02-21T06:04:29.960Z"
   },
   {
    "duration": 539,
    "start_time": "2022-02-21T06:04:29.996Z"
   },
   {
    "duration": 1564,
    "start_time": "2022-02-21T06:04:53.944Z"
   },
   {
    "duration": 724,
    "start_time": "2022-02-21T06:04:55.511Z"
   },
   {
    "duration": 244,
    "start_time": "2022-02-21T06:04:56.238Z"
   },
   {
    "duration": 146,
    "start_time": "2022-02-21T06:04:56.486Z"
   },
   {
    "duration": 74,
    "start_time": "2022-02-21T06:04:56.635Z"
   },
   {
    "duration": 127,
    "start_time": "2022-02-21T06:04:56.712Z"
   },
   {
    "duration": 14,
    "start_time": "2022-02-21T06:04:56.841Z"
   },
   {
    "duration": 169,
    "start_time": "2022-02-21T06:04:56.860Z"
   },
   {
    "duration": 19,
    "start_time": "2022-02-21T06:04:57.032Z"
   },
   {
    "duration": 109,
    "start_time": "2022-02-21T06:04:57.055Z"
   },
   {
    "duration": 65,
    "start_time": "2022-02-21T06:04:57.167Z"
   },
   {
    "duration": 42,
    "start_time": "2022-02-21T06:04:57.235Z"
   },
   {
    "duration": 55,
    "start_time": "2022-02-21T06:04:57.279Z"
   },
   {
    "duration": 12,
    "start_time": "2022-02-21T06:04:57.337Z"
   },
   {
    "duration": 33,
    "start_time": "2022-02-21T06:04:57.351Z"
   },
   {
    "duration": 72,
    "start_time": "2022-02-21T06:04:57.386Z"
   },
   {
    "duration": 5,
    "start_time": "2022-02-21T06:04:57.460Z"
   },
   {
    "duration": 32,
    "start_time": "2022-02-21T06:04:57.468Z"
   },
   {
    "duration": 570,
    "start_time": "2022-02-21T06:04:57.527Z"
   },
   {
    "duration": 323,
    "start_time": "2022-02-21T06:05:51.993Z"
   },
   {
    "duration": 6,
    "start_time": "2022-02-21T06:05:55.529Z"
   },
   {
    "duration": 12,
    "start_time": "2022-02-21T06:06:02.546Z"
   },
   {
    "duration": 1536,
    "start_time": "2022-02-21T06:08:20.490Z"
   },
   {
    "duration": 743,
    "start_time": "2022-02-21T06:08:22.029Z"
   },
   {
    "duration": 253,
    "start_time": "2022-02-21T06:08:22.775Z"
   },
   {
    "duration": 116,
    "start_time": "2022-02-21T06:08:23.030Z"
   },
   {
    "duration": 82,
    "start_time": "2022-02-21T06:08:23.148Z"
   },
   {
    "duration": 124,
    "start_time": "2022-02-21T06:08:23.235Z"
   },
   {
    "duration": 14,
    "start_time": "2022-02-21T06:08:23.362Z"
   },
   {
    "duration": 181,
    "start_time": "2022-02-21T06:08:23.379Z"
   },
   {
    "duration": 20,
    "start_time": "2022-02-21T06:08:23.563Z"
   },
   {
    "duration": 103,
    "start_time": "2022-02-21T06:08:23.585Z"
   },
   {
    "duration": 63,
    "start_time": "2022-02-21T06:08:23.690Z"
   },
   {
    "duration": 41,
    "start_time": "2022-02-21T06:08:23.756Z"
   },
   {
    "duration": 41,
    "start_time": "2022-02-21T06:08:23.800Z"
   },
   {
    "duration": 11,
    "start_time": "2022-02-21T06:08:23.843Z"
   },
   {
    "duration": 47,
    "start_time": "2022-02-21T06:08:23.857Z"
   },
   {
    "duration": 68,
    "start_time": "2022-02-21T06:08:23.907Z"
   },
   {
    "duration": 8,
    "start_time": "2022-02-21T06:08:23.978Z"
   },
   {
    "duration": 132,
    "start_time": "2022-02-21T06:08:23.990Z"
   },
   {
    "duration": -55,
    "start_time": "2022-02-21T06:08:24.180Z"
   },
   {
    "duration": 1506,
    "start_time": "2022-02-21T06:08:38.170Z"
   },
   {
    "duration": 829,
    "start_time": "2022-02-21T06:08:39.680Z"
   },
   {
    "duration": 244,
    "start_time": "2022-02-21T06:08:40.513Z"
   },
   {
    "duration": 135,
    "start_time": "2022-02-21T06:08:40.760Z"
   },
   {
    "duration": 82,
    "start_time": "2022-02-21T06:08:40.898Z"
   },
   {
    "duration": 146,
    "start_time": "2022-02-21T06:08:40.983Z"
   },
   {
    "duration": 15,
    "start_time": "2022-02-21T06:08:41.131Z"
   },
   {
    "duration": 149,
    "start_time": "2022-02-21T06:08:41.150Z"
   },
   {
    "duration": 30,
    "start_time": "2022-02-21T06:08:41.303Z"
   },
   {
    "duration": 111,
    "start_time": "2022-02-21T06:08:41.336Z"
   },
   {
    "duration": 52,
    "start_time": "2022-02-21T06:08:41.450Z"
   },
   {
    "duration": 68,
    "start_time": "2022-02-21T06:08:41.504Z"
   },
   {
    "duration": 35,
    "start_time": "2022-02-21T06:08:41.575Z"
   },
   {
    "duration": 12,
    "start_time": "2022-02-21T06:08:41.626Z"
   },
   {
    "duration": 30,
    "start_time": "2022-02-21T06:08:41.640Z"
   },
   {
    "duration": 79,
    "start_time": "2022-02-21T06:08:41.672Z"
   },
   {
    "duration": 6,
    "start_time": "2022-02-21T06:08:41.754Z"
   },
   {
    "duration": 32,
    "start_time": "2022-02-21T06:08:41.763Z"
   },
   {
    "duration": 519,
    "start_time": "2022-02-21T06:08:41.798Z"
   },
   {
    "duration": 1641,
    "start_time": "2022-02-21T09:13:53.594Z"
   },
   {
    "duration": 787,
    "start_time": "2022-02-21T09:13:55.238Z"
   },
   {
    "duration": 245,
    "start_time": "2022-02-21T09:13:56.028Z"
   },
   {
    "duration": 152,
    "start_time": "2022-02-21T09:13:56.275Z"
   },
   {
    "duration": 73,
    "start_time": "2022-02-21T09:13:56.429Z"
   },
   {
    "duration": 131,
    "start_time": "2022-02-21T09:13:56.505Z"
   },
   {
    "duration": 14,
    "start_time": "2022-02-21T09:13:56.639Z"
   },
   {
    "duration": 163,
    "start_time": "2022-02-21T09:13:56.657Z"
   },
   {
    "duration": 19,
    "start_time": "2022-02-21T09:13:56.823Z"
   },
   {
    "duration": 109,
    "start_time": "2022-02-21T09:13:56.845Z"
   },
   {
    "duration": 49,
    "start_time": "2022-02-21T09:13:56.957Z"
   },
   {
    "duration": 53,
    "start_time": "2022-02-21T09:13:57.008Z"
   },
   {
    "duration": 28,
    "start_time": "2022-02-21T09:13:57.063Z"
   },
   {
    "duration": 36,
    "start_time": "2022-02-21T09:13:57.093Z"
   },
   {
    "duration": 28,
    "start_time": "2022-02-21T09:13:57.132Z"
   },
   {
    "duration": 73,
    "start_time": "2022-02-21T09:13:57.162Z"
   },
   {
    "duration": 5,
    "start_time": "2022-02-21T09:13:57.238Z"
   },
   {
    "duration": 32,
    "start_time": "2022-02-21T09:13:57.246Z"
   },
   {
    "duration": 452,
    "start_time": "2022-02-21T09:13:57.281Z"
   },
   {
    "duration": 8574,
    "start_time": "2022-02-21T09:20:45.807Z"
   },
   {
    "duration": 6,
    "start_time": "2022-02-21T09:21:03.974Z"
   },
   {
    "duration": 12,
    "start_time": "2022-02-21T09:21:14.247Z"
   },
   {
    "duration": 1739,
    "start_time": "2022-02-21T09:39:38.610Z"
   },
   {
    "duration": 769,
    "start_time": "2022-02-21T09:39:40.352Z"
   },
   {
    "duration": 266,
    "start_time": "2022-02-21T09:39:41.125Z"
   },
   {
    "duration": 117,
    "start_time": "2022-02-21T09:39:41.426Z"
   },
   {
    "duration": 85,
    "start_time": "2022-02-21T09:39:41.545Z"
   },
   {
    "duration": 124,
    "start_time": "2022-02-21T09:39:41.633Z"
   },
   {
    "duration": 16,
    "start_time": "2022-02-21T09:39:41.759Z"
   },
   {
    "duration": 170,
    "start_time": "2022-02-21T09:39:41.780Z"
   },
   {
    "duration": 19,
    "start_time": "2022-02-21T09:39:41.953Z"
   },
   {
    "duration": 106,
    "start_time": "2022-02-21T09:39:41.976Z"
   },
   {
    "duration": 64,
    "start_time": "2022-02-21T09:39:42.085Z"
   },
   {
    "duration": 44,
    "start_time": "2022-02-21T09:39:42.151Z"
   },
   {
    "duration": 45,
    "start_time": "2022-02-21T09:39:42.198Z"
   },
   {
    "duration": 44,
    "start_time": "2022-02-21T09:39:42.246Z"
   },
   {
    "duration": 6,
    "start_time": "2022-02-21T09:39:42.294Z"
   },
   {
    "duration": 7,
    "start_time": "2022-02-21T09:39:42.328Z"
   },
   {
    "duration": 43,
    "start_time": "2022-02-21T09:39:42.338Z"
   },
   {
    "duration": 471,
    "start_time": "2022-02-21T09:39:42.383Z"
   },
   {
    "duration": 1603,
    "start_time": "2022-02-21T09:52:38.067Z"
   },
   {
    "duration": 798,
    "start_time": "2022-02-21T09:52:39.673Z"
   },
   {
    "duration": 268,
    "start_time": "2022-02-21T09:52:40.476Z"
   },
   {
    "duration": 126,
    "start_time": "2022-02-21T09:52:40.747Z"
   },
   {
    "duration": 83,
    "start_time": "2022-02-21T09:52:40.876Z"
   },
   {
    "duration": 106,
    "start_time": "2022-02-21T09:52:40.962Z"
   },
   {
    "duration": 14,
    "start_time": "2022-02-21T09:52:41.072Z"
   },
   {
    "duration": 147,
    "start_time": "2022-02-21T09:52:41.128Z"
   },
   {
    "duration": 23,
    "start_time": "2022-02-21T09:52:41.278Z"
   },
   {
    "duration": 107,
    "start_time": "2022-02-21T09:52:41.304Z"
   },
   {
    "duration": 57,
    "start_time": "2022-02-21T09:52:41.414Z"
   },
   {
    "duration": 67,
    "start_time": "2022-02-21T09:52:41.475Z"
   },
   {
    "duration": 30,
    "start_time": "2022-02-21T09:52:41.545Z"
   },
   {
    "duration": 73,
    "start_time": "2022-02-21T09:52:41.577Z"
   },
   {
    "duration": 6,
    "start_time": "2022-02-21T09:52:41.652Z"
   },
   {
    "duration": 24,
    "start_time": "2022-02-21T09:52:41.661Z"
   },
   {
    "duration": 59,
    "start_time": "2022-02-21T09:52:41.688Z"
   },
   {
    "duration": 475,
    "start_time": "2022-02-21T09:52:41.749Z"
   },
   {
    "duration": 1582,
    "start_time": "2022-02-21T09:53:07.802Z"
   },
   {
    "duration": 761,
    "start_time": "2022-02-21T09:53:09.388Z"
   },
   {
    "duration": 232,
    "start_time": "2022-02-21T09:53:10.153Z"
   },
   {
    "duration": 150,
    "start_time": "2022-02-21T09:53:10.387Z"
   },
   {
    "duration": 72,
    "start_time": "2022-02-21T09:53:10.540Z"
   },
   {
    "duration": 129,
    "start_time": "2022-02-21T09:53:10.615Z"
   },
   {
    "duration": 14,
    "start_time": "2022-02-21T09:53:10.746Z"
   },
   {
    "duration": 167,
    "start_time": "2022-02-21T09:53:10.765Z"
   },
   {
    "duration": 20,
    "start_time": "2022-02-21T09:53:10.934Z"
   },
   {
    "duration": 120,
    "start_time": "2022-02-21T09:53:10.957Z"
   },
   {
    "duration": 68,
    "start_time": "2022-02-21T09:53:11.079Z"
   },
   {
    "duration": 58,
    "start_time": "2022-02-21T09:53:11.150Z"
   },
   {
    "duration": 36,
    "start_time": "2022-02-21T09:53:11.211Z"
   },
   {
    "duration": 75,
    "start_time": "2022-02-21T09:53:11.251Z"
   },
   {
    "duration": 5,
    "start_time": "2022-02-21T09:53:11.329Z"
   },
   {
    "duration": 21,
    "start_time": "2022-02-21T09:53:11.337Z"
   },
   {
    "duration": 65,
    "start_time": "2022-02-21T09:53:11.361Z"
   },
   {
    "duration": 465,
    "start_time": "2022-02-21T09:53:11.429Z"
   },
   {
    "duration": 1620,
    "start_time": "2022-02-21T09:55:00.723Z"
   },
   {
    "duration": 874,
    "start_time": "2022-02-21T09:55:02.346Z"
   },
   {
    "duration": 312,
    "start_time": "2022-02-21T09:55:03.223Z"
   },
   {
    "duration": 131,
    "start_time": "2022-02-21T09:55:03.539Z"
   },
   {
    "duration": 82,
    "start_time": "2022-02-21T09:55:03.673Z"
   },
   {
    "duration": 120,
    "start_time": "2022-02-21T09:55:03.758Z"
   },
   {
    "duration": 57,
    "start_time": "2022-02-21T09:55:03.881Z"
   },
   {
    "duration": 149,
    "start_time": "2022-02-21T09:55:03.942Z"
   },
   {
    "duration": 35,
    "start_time": "2022-02-21T09:55:04.094Z"
   },
   {
    "duration": 102,
    "start_time": "2022-02-21T09:55:04.132Z"
   },
   {
    "duration": 51,
    "start_time": "2022-02-21T09:55:04.237Z"
   },
   {
    "duration": 65,
    "start_time": "2022-02-21T09:55:04.291Z"
   },
   {
    "duration": 30,
    "start_time": "2022-02-21T09:55:04.359Z"
   },
   {
    "duration": 75,
    "start_time": "2022-02-21T09:55:04.392Z"
   },
   {
    "duration": 5,
    "start_time": "2022-02-21T09:55:04.469Z"
   },
   {
    "duration": 18,
    "start_time": "2022-02-21T09:55:04.477Z"
   },
   {
    "duration": 462,
    "start_time": "2022-02-21T09:55:04.526Z"
   },
   {
    "duration": -94,
    "start_time": "2022-02-21T09:55:05.085Z"
   },
   {
    "duration": 1849,
    "start_time": "2022-02-21T09:55:31.228Z"
   },
   {
    "duration": 867,
    "start_time": "2022-02-21T09:55:33.080Z"
   },
   {
    "duration": 288,
    "start_time": "2022-02-21T09:55:33.951Z"
   },
   {
    "duration": 181,
    "start_time": "2022-02-21T09:55:34.242Z"
   },
   {
    "duration": 74,
    "start_time": "2022-02-21T09:55:34.427Z"
   },
   {
    "duration": 135,
    "start_time": "2022-02-21T09:55:34.503Z"
   },
   {
    "duration": 14,
    "start_time": "2022-02-21T09:55:34.641Z"
   },
   {
    "duration": 166,
    "start_time": "2022-02-21T09:55:34.659Z"
   },
   {
    "duration": 23,
    "start_time": "2022-02-21T09:55:34.828Z"
   },
   {
    "duration": 106,
    "start_time": "2022-02-21T09:55:34.854Z"
   },
   {
    "duration": 46,
    "start_time": "2022-02-21T09:55:34.962Z"
   },
   {
    "duration": 54,
    "start_time": "2022-02-21T09:55:35.010Z"
   },
   {
    "duration": 29,
    "start_time": "2022-02-21T09:55:35.067Z"
   },
   {
    "duration": 82,
    "start_time": "2022-02-21T09:55:35.099Z"
   },
   {
    "duration": 5,
    "start_time": "2022-02-21T09:55:35.184Z"
   },
   {
    "duration": 43,
    "start_time": "2022-02-21T09:55:35.191Z"
   },
   {
    "duration": 32,
    "start_time": "2022-02-21T09:55:35.236Z"
   },
   {
    "duration": 498,
    "start_time": "2022-02-21T09:55:35.271Z"
   },
   {
    "duration": 1600,
    "start_time": "2022-02-21T09:56:06.829Z"
   },
   {
    "duration": 743,
    "start_time": "2022-02-21T09:56:08.432Z"
   },
   {
    "duration": 277,
    "start_time": "2022-02-21T09:56:09.179Z"
   },
   {
    "duration": 142,
    "start_time": "2022-02-21T09:56:09.460Z"
   },
   {
    "duration": 85,
    "start_time": "2022-02-21T09:56:09.605Z"
   },
   {
    "duration": 133,
    "start_time": "2022-02-21T09:56:09.693Z"
   },
   {
    "duration": 13,
    "start_time": "2022-02-21T09:56:09.829Z"
   },
   {
    "duration": 161,
    "start_time": "2022-02-21T09:56:09.848Z"
   },
   {
    "duration": 29,
    "start_time": "2022-02-21T09:56:10.012Z"
   },
   {
    "duration": 99,
    "start_time": "2022-02-21T09:56:10.044Z"
   },
   {
    "duration": 46,
    "start_time": "2022-02-21T09:56:10.146Z"
   },
   {
    "duration": 66,
    "start_time": "2022-02-21T09:56:10.194Z"
   },
   {
    "duration": 27,
    "start_time": "2022-02-21T09:56:10.262Z"
   },
   {
    "duration": 72,
    "start_time": "2022-02-21T09:56:10.292Z"
   },
   {
    "duration": 5,
    "start_time": "2022-02-21T09:56:10.367Z"
   },
   {
    "duration": 19,
    "start_time": "2022-02-21T09:56:10.375Z"
   },
   {
    "duration": 56,
    "start_time": "2022-02-21T09:56:10.397Z"
   },
   {
    "duration": 444,
    "start_time": "2022-02-21T09:56:10.456Z"
   },
   {
    "duration": 1544,
    "start_time": "2022-02-21T09:57:55.939Z"
   },
   {
    "duration": 745,
    "start_time": "2022-02-21T09:57:57.486Z"
   },
   {
    "duration": 318,
    "start_time": "2022-02-21T09:57:58.235Z"
   },
   {
    "duration": 135,
    "start_time": "2022-02-21T09:57:58.556Z"
   },
   {
    "duration": 81,
    "start_time": "2022-02-21T09:57:58.694Z"
   },
   {
    "duration": 102,
    "start_time": "2022-02-21T09:57:58.778Z"
   },
   {
    "duration": 56,
    "start_time": "2022-02-21T09:57:58.882Z"
   },
   {
    "duration": 169,
    "start_time": "2022-02-21T09:57:58.942Z"
   },
   {
    "duration": 32,
    "start_time": "2022-02-21T09:57:59.115Z"
   },
   {
    "duration": 108,
    "start_time": "2022-02-21T09:57:59.151Z"
   },
   {
    "duration": 67,
    "start_time": "2022-02-21T09:57:59.262Z"
   },
   {
    "duration": 43,
    "start_time": "2022-02-21T09:57:59.332Z"
   },
   {
    "duration": 51,
    "start_time": "2022-02-21T09:57:59.377Z"
   },
   {
    "duration": 48,
    "start_time": "2022-02-21T09:57:59.430Z"
   },
   {
    "duration": 6,
    "start_time": "2022-02-21T09:57:59.481Z"
   },
   {
    "duration": 52,
    "start_time": "2022-02-21T09:57:59.491Z"
   },
   {
    "duration": 34,
    "start_time": "2022-02-21T09:57:59.545Z"
   },
   {
    "duration": 570,
    "start_time": "2022-02-21T09:57:59.581Z"
   },
   {
    "duration": 1627,
    "start_time": "2022-02-21T09:58:17.803Z"
   },
   {
    "duration": 734,
    "start_time": "2022-02-21T09:58:19.434Z"
   },
   {
    "duration": 257,
    "start_time": "2022-02-21T09:58:20.171Z"
   },
   {
    "duration": 172,
    "start_time": "2022-02-21T09:58:20.431Z"
   },
   {
    "duration": 83,
    "start_time": "2022-02-21T09:58:20.606Z"
   },
   {
    "duration": 141,
    "start_time": "2022-02-21T09:58:20.692Z"
   },
   {
    "duration": 13,
    "start_time": "2022-02-21T09:58:20.836Z"
   },
   {
    "duration": 271,
    "start_time": "2022-02-21T09:58:20.854Z"
   },
   {
    "duration": 27,
    "start_time": "2022-02-21T09:58:21.128Z"
   },
   {
    "duration": 109,
    "start_time": "2022-02-21T09:58:21.157Z"
   },
   {
    "duration": 67,
    "start_time": "2022-02-21T09:58:21.269Z"
   },
   {
    "duration": 41,
    "start_time": "2022-02-21T09:58:21.339Z"
   },
   {
    "duration": 49,
    "start_time": "2022-02-21T09:58:21.382Z"
   },
   {
    "duration": 69,
    "start_time": "2022-02-21T09:58:21.434Z"
   },
   {
    "duration": 25,
    "start_time": "2022-02-21T09:58:21.506Z"
   },
   {
    "duration": 18,
    "start_time": "2022-02-21T09:58:21.533Z"
   },
   {
    "duration": 36,
    "start_time": "2022-02-21T09:58:21.554Z"
   },
   {
    "duration": 638,
    "start_time": "2022-02-21T09:58:21.592Z"
   },
   {
    "duration": 1692,
    "start_time": "2022-02-21T09:58:34.262Z"
   },
   {
    "duration": 919,
    "start_time": "2022-02-21T09:58:35.958Z"
   },
   {
    "duration": 283,
    "start_time": "2022-02-21T09:58:36.881Z"
   },
   {
    "duration": 140,
    "start_time": "2022-02-21T09:58:37.167Z"
   },
   {
    "duration": 80,
    "start_time": "2022-02-21T09:58:37.311Z"
   },
   {
    "duration": 135,
    "start_time": "2022-02-21T09:58:37.394Z"
   },
   {
    "duration": 14,
    "start_time": "2022-02-21T09:58:37.531Z"
   },
   {
    "duration": 157,
    "start_time": "2022-02-21T09:58:37.551Z"
   },
   {
    "duration": 28,
    "start_time": "2022-02-21T09:58:37.712Z"
   },
   {
    "duration": 102,
    "start_time": "2022-02-21T09:58:37.743Z"
   },
   {
    "duration": 51,
    "start_time": "2022-02-21T09:58:37.848Z"
   },
   {
    "duration": 67,
    "start_time": "2022-02-21T09:58:37.901Z"
   },
   {
    "duration": 30,
    "start_time": "2022-02-21T09:58:37.971Z"
   },
   {
    "duration": 44,
    "start_time": "2022-02-21T09:58:38.026Z"
   },
   {
    "duration": 5,
    "start_time": "2022-02-21T09:58:38.073Z"
   },
   {
    "duration": 46,
    "start_time": "2022-02-21T09:58:38.080Z"
   },
   {
    "duration": 33,
    "start_time": "2022-02-21T09:58:38.129Z"
   },
   {
    "duration": 1343,
    "start_time": "2022-02-21T09:58:38.165Z"
   },
   {
    "duration": 1698,
    "start_time": "2022-02-21T09:59:21.231Z"
   },
   {
    "duration": 846,
    "start_time": "2022-02-21T09:59:22.932Z"
   },
   {
    "duration": 346,
    "start_time": "2022-02-21T09:59:23.781Z"
   },
   {
    "duration": 113,
    "start_time": "2022-02-21T09:59:24.131Z"
   },
   {
    "duration": 1454,
    "start_time": "2022-02-21T09:59:24.247Z"
   },
   {
    "duration": 723,
    "start_time": "2022-02-21T09:59:25.703Z"
   },
   {
    "duration": 1296,
    "start_time": "2022-02-21T09:59:26.430Z"
   },
   {
    "duration": 561,
    "start_time": "2022-02-21T09:59:27.730Z"
   },
   {
    "duration": 619,
    "start_time": "2022-02-21T09:59:28.294Z"
   },
   {
    "duration": 85,
    "start_time": "2022-02-21T09:59:28.916Z"
   },
   {
    "duration": 57,
    "start_time": "2022-02-21T09:59:29.004Z"
   },
   {
    "duration": 40,
    "start_time": "2022-02-21T09:59:29.064Z"
   },
   {
    "duration": 46,
    "start_time": "2022-02-21T09:59:29.106Z"
   },
   {
    "duration": 48,
    "start_time": "2022-02-21T09:59:29.155Z"
   },
   {
    "duration": 6,
    "start_time": "2022-02-21T09:59:29.225Z"
   },
   {
    "duration": 15,
    "start_time": "2022-02-21T09:59:29.234Z"
   },
   {
    "duration": 80,
    "start_time": "2022-02-21T09:59:29.252Z"
   },
   {
    "duration": 547,
    "start_time": "2022-02-21T09:59:29.336Z"
   },
   {
    "duration": 1677,
    "start_time": "2022-02-21T10:02:37.553Z"
   },
   {
    "duration": 879,
    "start_time": "2022-02-21T10:02:39.234Z"
   },
   {
    "duration": 250,
    "start_time": "2022-02-21T10:02:40.116Z"
   },
   {
    "duration": 158,
    "start_time": "2022-02-21T10:02:40.368Z"
   },
   {
    "duration": 72,
    "start_time": "2022-02-21T10:02:40.528Z"
   },
   {
    "duration": 134,
    "start_time": "2022-02-21T10:02:40.603Z"
   },
   {
    "duration": 13,
    "start_time": "2022-02-21T10:02:40.740Z"
   },
   {
    "duration": 156,
    "start_time": "2022-02-21T10:02:40.758Z"
   },
   {
    "duration": 27,
    "start_time": "2022-02-21T10:02:40.917Z"
   },
   {
    "duration": 134,
    "start_time": "2022-02-21T10:02:40.947Z"
   },
   {
    "duration": 63,
    "start_time": "2022-02-21T10:02:41.084Z"
   },
   {
    "duration": 76,
    "start_time": "2022-02-21T10:02:41.150Z"
   },
   {
    "duration": 201,
    "start_time": "2022-02-21T10:02:41.229Z"
   },
   {
    "duration": 49,
    "start_time": "2022-02-21T10:02:41.433Z"
   },
   {
    "duration": 6,
    "start_time": "2022-02-21T10:02:41.485Z"
   },
   {
    "duration": 44,
    "start_time": "2022-02-21T10:02:41.494Z"
   },
   {
    "duration": 44,
    "start_time": "2022-02-21T10:02:41.542Z"
   },
   {
    "duration": 596,
    "start_time": "2022-02-21T10:02:41.589Z"
   },
   {
    "duration": 542,
    "start_time": "2022-02-21T10:46:53.726Z"
   },
   {
    "duration": 1550,
    "start_time": "2022-02-21T10:48:36.806Z"
   },
   {
    "duration": 814,
    "start_time": "2022-02-21T10:48:38.359Z"
   },
   {
    "duration": 256,
    "start_time": "2022-02-21T10:48:39.176Z"
   },
   {
    "duration": 125,
    "start_time": "2022-02-21T10:48:39.435Z"
   },
   {
    "duration": 80,
    "start_time": "2022-02-21T10:48:39.563Z"
   },
   {
    "duration": 110,
    "start_time": "2022-02-21T10:48:39.646Z"
   },
   {
    "duration": 13,
    "start_time": "2022-02-21T10:48:39.759Z"
   },
   {
    "duration": 178,
    "start_time": "2022-02-21T10:48:39.776Z"
   },
   {
    "duration": 18,
    "start_time": "2022-02-21T10:48:39.956Z"
   },
   {
    "duration": 113,
    "start_time": "2022-02-21T10:48:39.976Z"
   },
   {
    "duration": 61,
    "start_time": "2022-02-21T10:48:40.092Z"
   },
   {
    "duration": 43,
    "start_time": "2022-02-21T10:48:40.156Z"
   },
   {
    "duration": 50,
    "start_time": "2022-02-21T10:48:40.201Z"
   },
   {
    "duration": 45,
    "start_time": "2022-02-21T10:48:40.254Z"
   },
   {
    "duration": 27,
    "start_time": "2022-02-21T10:48:40.302Z"
   },
   {
    "duration": 22,
    "start_time": "2022-02-21T10:48:40.332Z"
   },
   {
    "duration": 38,
    "start_time": "2022-02-21T10:48:40.357Z"
   },
   {
    "duration": 748,
    "start_time": "2022-02-21T10:48:40.397Z"
   },
   {
    "duration": 471,
    "start_time": "2022-02-21T10:48:41.148Z"
   },
   {
    "duration": 39,
    "start_time": "2022-02-21T10:48:47.240Z"
   },
   {
    "duration": 565,
    "start_time": "2022-02-21T10:49:38.671Z"
   },
   {
    "duration": -106,
    "start_time": "2022-02-21T10:49:39.344Z"
   },
   {
    "duration": 1655,
    "start_time": "2022-02-21T10:49:44.688Z"
   },
   {
    "duration": 771,
    "start_time": "2022-02-21T10:49:46.346Z"
   },
   {
    "duration": 257,
    "start_time": "2022-02-21T10:49:47.120Z"
   },
   {
    "duration": 151,
    "start_time": "2022-02-21T10:49:47.380Z"
   },
   {
    "duration": 75,
    "start_time": "2022-02-21T10:49:47.534Z"
   },
   {
    "duration": 129,
    "start_time": "2022-02-21T10:49:47.612Z"
   },
   {
    "duration": 13,
    "start_time": "2022-02-21T10:49:47.744Z"
   },
   {
    "duration": 166,
    "start_time": "2022-02-21T10:49:47.761Z"
   },
   {
    "duration": 19,
    "start_time": "2022-02-21T10:49:47.930Z"
   },
   {
    "duration": 108,
    "start_time": "2022-02-21T10:49:47.952Z"
   },
   {
    "duration": 47,
    "start_time": "2022-02-21T10:49:48.062Z"
   },
   {
    "duration": 45,
    "start_time": "2022-02-21T10:49:48.127Z"
   },
   {
    "duration": 51,
    "start_time": "2022-02-21T10:49:48.175Z"
   },
   {
    "duration": 45,
    "start_time": "2022-02-21T10:49:48.230Z"
   },
   {
    "duration": 6,
    "start_time": "2022-02-21T10:49:48.277Z"
   },
   {
    "duration": 48,
    "start_time": "2022-02-21T10:49:48.285Z"
   },
   {
    "duration": 41,
    "start_time": "2022-02-21T10:49:48.336Z"
   },
   {
    "duration": 770,
    "start_time": "2022-02-21T10:49:48.380Z"
   },
   {
    "duration": -130,
    "start_time": "2022-02-21T10:49:49.282Z"
   },
   {
    "duration": -142,
    "start_time": "2022-02-21T10:49:49.296Z"
   },
   {
    "duration": 1468,
    "start_time": "2022-02-21T10:50:28.065Z"
   },
   {
    "duration": 770,
    "start_time": "2022-02-21T10:50:29.535Z"
   },
   {
    "duration": 249,
    "start_time": "2022-02-21T10:50:30.308Z"
   },
   {
    "duration": 139,
    "start_time": "2022-02-21T10:50:30.561Z"
   },
   {
    "duration": 87,
    "start_time": "2022-02-21T10:50:30.703Z"
   },
   {
    "duration": 143,
    "start_time": "2022-02-21T10:50:30.793Z"
   },
   {
    "duration": 14,
    "start_time": "2022-02-21T10:50:30.939Z"
   },
   {
    "duration": 173,
    "start_time": "2022-02-21T10:50:30.959Z"
   },
   {
    "duration": 22,
    "start_time": "2022-02-21T10:50:31.135Z"
   },
   {
    "duration": 114,
    "start_time": "2022-02-21T10:50:31.160Z"
   },
   {
    "duration": 65,
    "start_time": "2022-02-21T10:50:31.276Z"
   },
   {
    "duration": 43,
    "start_time": "2022-02-21T10:50:31.344Z"
   },
   {
    "duration": 49,
    "start_time": "2022-02-21T10:50:31.390Z"
   },
   {
    "duration": 47,
    "start_time": "2022-02-21T10:50:31.442Z"
   },
   {
    "duration": 6,
    "start_time": "2022-02-21T10:50:31.491Z"
   },
   {
    "duration": 15,
    "start_time": "2022-02-21T10:50:31.527Z"
   },
   {
    "duration": 36,
    "start_time": "2022-02-21T10:50:31.544Z"
   },
   {
    "duration": 910,
    "start_time": "2022-02-21T10:50:31.582Z"
   },
   {
    "duration": 49,
    "start_time": "2022-02-21T10:50:32.495Z"
   },
   {
    "duration": 524,
    "start_time": "2022-02-21T10:50:32.546Z"
   },
   {
    "duration": 1586,
    "start_time": "2022-02-21T10:55:39.910Z"
   },
   {
    "duration": 836,
    "start_time": "2022-02-21T10:55:41.499Z"
   },
   {
    "duration": 232,
    "start_time": "2022-02-21T10:55:42.338Z"
   },
   {
    "duration": 144,
    "start_time": "2022-02-21T10:55:42.573Z"
   },
   {
    "duration": 74,
    "start_time": "2022-02-21T10:55:42.720Z"
   },
   {
    "duration": 132,
    "start_time": "2022-02-21T10:55:42.796Z"
   },
   {
    "duration": 14,
    "start_time": "2022-02-21T10:55:42.930Z"
   },
   {
    "duration": 162,
    "start_time": "2022-02-21T10:55:42.949Z"
   },
   {
    "duration": 24,
    "start_time": "2022-02-21T10:55:43.114Z"
   },
   {
    "duration": 112,
    "start_time": "2022-02-21T10:55:43.140Z"
   },
   {
    "duration": 51,
    "start_time": "2022-02-21T10:55:43.254Z"
   },
   {
    "duration": 61,
    "start_time": "2022-02-21T10:55:43.308Z"
   },
   {
    "duration": 34,
    "start_time": "2022-02-21T10:55:43.371Z"
   },
   {
    "duration": 48,
    "start_time": "2022-02-21T10:55:43.426Z"
   },
   {
    "duration": 4,
    "start_time": "2022-02-21T10:55:43.477Z"
   },
   {
    "duration": 47,
    "start_time": "2022-02-21T10:55:43.484Z"
   },
   {
    "duration": 36,
    "start_time": "2022-02-21T10:55:43.533Z"
   },
   {
    "duration": 1127,
    "start_time": "2022-02-21T10:55:43.572Z"
   },
   {
    "duration": 94,
    "start_time": "2022-02-21T10:55:44.701Z"
   },
   {
    "duration": -71,
    "start_time": "2022-02-21T10:55:44.869Z"
   },
   {
    "duration": 483,
    "start_time": "2022-02-21T10:58:36.814Z"
   },
   {
    "duration": 7,
    "start_time": "2022-02-21T10:58:42.468Z"
   },
   {
    "duration": 20,
    "start_time": "2022-02-21T10:58:46.505Z"
   },
   {
    "duration": 339,
    "start_time": "2022-02-21T11:00:07.132Z"
   },
   {
    "duration": 1582,
    "start_time": "2022-02-21T11:00:17.355Z"
   },
   {
    "duration": 787,
    "start_time": "2022-02-21T11:00:18.943Z"
   },
   {
    "duration": 248,
    "start_time": "2022-02-21T11:00:19.733Z"
   },
   {
    "duration": 147,
    "start_time": "2022-02-21T11:00:19.984Z"
   },
   {
    "duration": 75,
    "start_time": "2022-02-21T11:00:20.133Z"
   },
   {
    "duration": 140,
    "start_time": "2022-02-21T11:00:20.210Z"
   },
   {
    "duration": 16,
    "start_time": "2022-02-21T11:00:20.356Z"
   },
   {
    "duration": 174,
    "start_time": "2022-02-21T11:00:20.375Z"
   },
   {
    "duration": 22,
    "start_time": "2022-02-21T11:00:20.552Z"
   },
   {
    "duration": 116,
    "start_time": "2022-02-21T11:00:20.577Z"
   },
   {
    "duration": 65,
    "start_time": "2022-02-21T11:00:20.697Z"
   },
   {
    "duration": 63,
    "start_time": "2022-02-21T11:00:20.765Z"
   },
   {
    "duration": 29,
    "start_time": "2022-02-21T11:00:20.830Z"
   },
   {
    "duration": 68,
    "start_time": "2022-02-21T11:00:20.861Z"
   },
   {
    "duration": 5,
    "start_time": "2022-02-21T11:00:20.931Z"
   },
   {
    "duration": 28,
    "start_time": "2022-02-21T11:00:20.939Z"
   },
   {
    "duration": 56,
    "start_time": "2022-02-21T11:00:20.970Z"
   },
   {
    "duration": 997,
    "start_time": "2022-02-21T11:00:21.029Z"
   },
   {
    "duration": 26,
    "start_time": "2022-02-21T11:00:22.028Z"
   },
   {
    "duration": 432,
    "start_time": "2022-02-21T11:00:22.056Z"
   },
   {
    "duration": 1581,
    "start_time": "2022-02-21T13:53:44.737Z"
   },
   {
    "duration": 750,
    "start_time": "2022-02-21T13:53:46.320Z"
   },
   {
    "duration": 254,
    "start_time": "2022-02-21T13:53:47.074Z"
   },
   {
    "duration": 126,
    "start_time": "2022-02-21T13:53:47.332Z"
   },
   {
    "duration": 80,
    "start_time": "2022-02-21T13:53:47.460Z"
   },
   {
    "duration": 111,
    "start_time": "2022-02-21T13:53:47.543Z"
   },
   {
    "duration": 14,
    "start_time": "2022-02-21T13:53:47.656Z"
   },
   {
    "duration": 164,
    "start_time": "2022-02-21T13:53:47.674Z"
   },
   {
    "duration": 18,
    "start_time": "2022-02-21T13:53:47.841Z"
   },
   {
    "duration": 105,
    "start_time": "2022-02-21T13:53:47.861Z"
   },
   {
    "duration": 58,
    "start_time": "2022-02-21T13:53:47.969Z"
   },
   {
    "duration": 41,
    "start_time": "2022-02-21T13:53:48.030Z"
   },
   {
    "duration": 26,
    "start_time": "2022-02-21T13:53:48.074Z"
   },
   {
    "duration": 63,
    "start_time": "2022-02-21T13:53:48.102Z"
   },
   {
    "duration": 5,
    "start_time": "2022-02-21T13:53:48.167Z"
   },
   {
    "duration": 21,
    "start_time": "2022-02-21T13:53:48.175Z"
   },
   {
    "duration": 61,
    "start_time": "2022-02-21T13:53:48.198Z"
   },
   {
    "duration": 987,
    "start_time": "2022-02-21T13:53:48.261Z"
   },
   {
    "duration": 25,
    "start_time": "2022-02-21T13:53:49.251Z"
   },
   {
    "duration": 527,
    "start_time": "2022-02-21T13:53:49.278Z"
   },
   {
    "duration": 1630,
    "start_time": "2022-02-21T13:55:06.379Z"
   },
   {
    "duration": 708,
    "start_time": "2022-02-21T13:55:08.011Z"
   },
   {
    "duration": 238,
    "start_time": "2022-02-21T13:55:08.723Z"
   },
   {
    "duration": 153,
    "start_time": "2022-02-21T13:55:08.963Z"
   },
   {
    "duration": 79,
    "start_time": "2022-02-21T13:55:09.119Z"
   },
   {
    "duration": 144,
    "start_time": "2022-02-21T13:55:09.201Z"
   },
   {
    "duration": 13,
    "start_time": "2022-02-21T13:55:09.348Z"
   },
   {
    "duration": 186,
    "start_time": "2022-02-21T13:55:09.365Z"
   },
   {
    "duration": 18,
    "start_time": "2022-02-21T13:55:09.555Z"
   },
   {
    "duration": 92,
    "start_time": "2022-02-21T13:55:09.576Z"
   },
   {
    "duration": 33,
    "start_time": "2022-02-21T13:55:09.671Z"
   },
   {
    "duration": 42,
    "start_time": "2022-02-21T13:55:09.707Z"
   },
   {
    "duration": 14,
    "start_time": "2022-02-21T13:55:09.752Z"
   },
   {
    "duration": 26,
    "start_time": "2022-02-21T13:55:09.769Z"
   },
   {
    "duration": 6,
    "start_time": "2022-02-21T13:55:09.797Z"
   },
   {
    "duration": 6,
    "start_time": "2022-02-21T13:55:09.827Z"
   },
   {
    "duration": 36,
    "start_time": "2022-02-21T13:55:09.835Z"
   },
   {
    "duration": 1082,
    "start_time": "2022-02-21T13:55:09.874Z"
   },
   {
    "duration": 35,
    "start_time": "2022-02-21T13:55:10.960Z"
   },
   {
    "duration": 431,
    "start_time": "2022-02-21T13:55:10.998Z"
   },
   {
    "duration": 373,
    "start_time": "2022-02-21T13:58:29.151Z"
   },
   {
    "duration": 39,
    "start_time": "2022-02-21T13:58:33.878Z"
   },
   {
    "duration": 1472,
    "start_time": "2022-02-21T13:58:47.054Z"
   },
   {
    "duration": 807,
    "start_time": "2022-02-21T13:58:48.529Z"
   },
   {
    "duration": 229,
    "start_time": "2022-02-21T13:58:49.339Z"
   },
   {
    "duration": 139,
    "start_time": "2022-02-21T13:58:49.572Z"
   },
   {
    "duration": 75,
    "start_time": "2022-02-21T13:58:49.713Z"
   },
   {
    "duration": 99,
    "start_time": "2022-02-21T13:58:49.790Z"
   },
   {
    "duration": 46,
    "start_time": "2022-02-21T13:58:49.891Z"
   },
   {
    "duration": 142,
    "start_time": "2022-02-21T13:58:49.944Z"
   },
   {
    "duration": 19,
    "start_time": "2022-02-21T13:58:50.089Z"
   },
   {
    "duration": 79,
    "start_time": "2022-02-21T13:58:50.111Z"
   },
   {
    "duration": 51,
    "start_time": "2022-02-21T13:58:50.193Z"
   },
   {
    "duration": 29,
    "start_time": "2022-02-21T13:58:50.246Z"
   },
   {
    "duration": 14,
    "start_time": "2022-02-21T13:58:50.278Z"
   },
   {
    "duration": 52,
    "start_time": "2022-02-21T13:58:50.295Z"
   },
   {
    "duration": 5,
    "start_time": "2022-02-21T13:58:50.349Z"
   },
   {
    "duration": 34,
    "start_time": "2022-02-21T13:58:50.356Z"
   },
   {
    "duration": 46,
    "start_time": "2022-02-21T13:58:50.392Z"
   },
   {
    "duration": 1002,
    "start_time": "2022-02-21T13:58:50.440Z"
   },
   {
    "duration": 25,
    "start_time": "2022-02-21T13:58:51.445Z"
   },
   {
    "duration": 75,
    "start_time": "2022-02-21T13:58:51.473Z"
   },
   {
    "duration": 442,
    "start_time": "2022-02-21T13:58:51.550Z"
   },
   {
    "duration": 1700,
    "start_time": "2022-02-21T14:02:04.159Z"
   },
   {
    "duration": 2550,
    "start_time": "2022-02-21T14:02:05.863Z"
   },
   {
    "duration": 252,
    "start_time": "2022-02-21T14:02:08.417Z"
   },
   {
    "duration": 153,
    "start_time": "2022-02-21T14:02:08.673Z"
   },
   {
    "duration": 97,
    "start_time": "2022-02-21T14:02:08.829Z"
   },
   {
    "duration": 138,
    "start_time": "2022-02-21T14:02:08.929Z"
   },
   {
    "duration": 56,
    "start_time": "2022-02-21T14:02:09.070Z"
   },
   {
    "duration": 156,
    "start_time": "2022-02-21T14:02:09.130Z"
   },
   {
    "duration": 21,
    "start_time": "2022-02-21T14:02:09.288Z"
   },
   {
    "duration": 75,
    "start_time": "2022-02-21T14:02:09.331Z"
   },
   {
    "duration": 47,
    "start_time": "2022-02-21T14:02:09.409Z"
   },
   {
    "duration": 31,
    "start_time": "2022-02-21T14:02:09.459Z"
   },
   {
    "duration": 46,
    "start_time": "2022-02-21T14:02:09.493Z"
   },
   {
    "duration": 34,
    "start_time": "2022-02-21T14:02:09.543Z"
   },
   {
    "duration": 11,
    "start_time": "2022-02-21T14:02:09.579Z"
   },
   {
    "duration": 9,
    "start_time": "2022-02-21T14:02:09.593Z"
   },
   {
    "duration": 55,
    "start_time": "2022-02-21T14:02:09.604Z"
   },
   {
    "duration": 1015,
    "start_time": "2022-02-21T14:02:09.661Z"
   },
   {
    "duration": 27,
    "start_time": "2022-02-21T14:02:10.679Z"
   },
   {
    "duration": 6589,
    "start_time": "2022-02-21T14:02:10.726Z"
   },
   {
    "duration": 1638,
    "start_time": "2022-02-21T14:02:43.052Z"
   },
   {
    "duration": 710,
    "start_time": "2022-02-21T14:02:44.693Z"
   },
   {
    "duration": 245,
    "start_time": "2022-02-21T14:02:45.407Z"
   },
   {
    "duration": 131,
    "start_time": "2022-02-21T14:02:45.654Z"
   },
   {
    "duration": 84,
    "start_time": "2022-02-21T14:02:45.787Z"
   },
   {
    "duration": 153,
    "start_time": "2022-02-21T14:02:45.873Z"
   },
   {
    "duration": 14,
    "start_time": "2022-02-21T14:02:46.028Z"
   },
   {
    "duration": 159,
    "start_time": "2022-02-21T14:02:46.047Z"
   },
   {
    "duration": 22,
    "start_time": "2022-02-21T14:02:46.208Z"
   },
   {
    "duration": 71,
    "start_time": "2022-02-21T14:02:46.232Z"
   },
   {
    "duration": 51,
    "start_time": "2022-02-21T14:02:46.306Z"
   },
   {
    "duration": 26,
    "start_time": "2022-02-21T14:02:46.359Z"
   },
   {
    "duration": 38,
    "start_time": "2022-02-21T14:02:46.388Z"
   },
   {
    "duration": 26,
    "start_time": "2022-02-21T14:02:46.429Z"
   },
   {
    "duration": 5,
    "start_time": "2022-02-21T14:02:46.458Z"
   },
   {
    "duration": 7,
    "start_time": "2022-02-21T14:02:46.465Z"
   },
   {
    "duration": 64,
    "start_time": "2022-02-21T14:02:46.474Z"
   },
   {
    "duration": 986,
    "start_time": "2022-02-21T14:02:46.540Z"
   },
   {
    "duration": 27,
    "start_time": "2022-02-21T14:02:47.529Z"
   },
   {
    "duration": 70,
    "start_time": "2022-02-21T14:02:47.559Z"
   },
   {
    "duration": 1541,
    "start_time": "2022-02-21T14:03:40.986Z"
   },
   {
    "duration": 734,
    "start_time": "2022-02-21T14:03:42.530Z"
   },
   {
    "duration": 284,
    "start_time": "2022-02-21T14:03:43.267Z"
   },
   {
    "duration": 140,
    "start_time": "2022-02-21T14:03:43.554Z"
   },
   {
    "duration": 88,
    "start_time": "2022-02-21T14:03:43.698Z"
   },
   {
    "duration": 99,
    "start_time": "2022-02-21T14:03:43.788Z"
   },
   {
    "duration": 49,
    "start_time": "2022-02-21T14:03:43.889Z"
   },
   {
    "duration": 154,
    "start_time": "2022-02-21T14:03:43.941Z"
   },
   {
    "duration": 25,
    "start_time": "2022-02-21T14:03:44.100Z"
   },
   {
    "duration": 69,
    "start_time": "2022-02-21T14:03:44.128Z"
   },
   {
    "duration": 51,
    "start_time": "2022-02-21T14:03:44.200Z"
   },
   {
    "duration": 31,
    "start_time": "2022-02-21T14:03:44.254Z"
   },
   {
    "duration": 38,
    "start_time": "2022-02-21T14:03:44.288Z"
   },
   {
    "duration": 26,
    "start_time": "2022-02-21T14:03:44.329Z"
   },
   {
    "duration": 22,
    "start_time": "2022-02-21T14:03:44.357Z"
   },
   {
    "duration": 18,
    "start_time": "2022-02-21T14:03:44.382Z"
   },
   {
    "duration": 39,
    "start_time": "2022-02-21T14:03:44.402Z"
   },
   {
    "duration": 959,
    "start_time": "2022-02-21T14:03:44.443Z"
   },
   {
    "duration": 31,
    "start_time": "2022-02-21T14:03:45.405Z"
   },
   {
    "duration": 53,
    "start_time": "2022-02-21T14:03:45.439Z"
   },
   {
    "duration": 66,
    "start_time": "2022-02-21T14:03:45.495Z"
   },
   {
    "duration": 1616,
    "start_time": "2022-02-21T17:25:39.374Z"
   },
   {
    "duration": 744,
    "start_time": "2022-02-21T17:25:40.993Z"
   },
   {
    "duration": 299,
    "start_time": "2022-02-21T17:25:41.740Z"
   },
   {
    "duration": 137,
    "start_time": "2022-02-21T17:25:42.042Z"
   },
   {
    "duration": 86,
    "start_time": "2022-02-21T17:25:42.181Z"
   },
   {
    "duration": 156,
    "start_time": "2022-02-21T17:25:42.270Z"
   },
   {
    "duration": 14,
    "start_time": "2022-02-21T17:25:42.428Z"
   },
   {
    "duration": 172,
    "start_time": "2022-02-21T17:25:42.446Z"
   },
   {
    "duration": 23,
    "start_time": "2022-02-21T17:25:42.621Z"
   },
   {
    "duration": 101,
    "start_time": "2022-02-21T17:25:42.646Z"
   },
   {
    "duration": 35,
    "start_time": "2022-02-21T17:25:42.750Z"
   },
   {
    "duration": 53,
    "start_time": "2022-02-21T17:25:42.788Z"
   },
   {
    "duration": 20,
    "start_time": "2022-02-21T17:25:42.843Z"
   },
   {
    "duration": 30,
    "start_time": "2022-02-21T17:25:42.866Z"
   },
   {
    "duration": 27,
    "start_time": "2022-02-21T17:25:42.899Z"
   },
   {
    "duration": 15,
    "start_time": "2022-02-21T17:25:42.929Z"
   },
   {
    "duration": 41,
    "start_time": "2022-02-21T17:25:42.947Z"
   },
   {
    "duration": 1164,
    "start_time": "2022-02-21T17:25:42.990Z"
   },
   {
    "duration": 25,
    "start_time": "2022-02-21T17:25:44.157Z"
   },
   {
    "duration": 76,
    "start_time": "2022-02-21T17:25:44.185Z"
   },
   {
    "duration": 12,
    "start_time": "2022-02-21T17:39:43.008Z"
   },
   {
    "duration": 1587,
    "start_time": "2022-02-21T18:06:31.101Z"
   },
   {
    "duration": 741,
    "start_time": "2022-02-21T18:06:32.691Z"
   },
   {
    "duration": 309,
    "start_time": "2022-02-21T18:06:33.436Z"
   },
   {
    "duration": 137,
    "start_time": "2022-02-21T18:06:33.747Z"
   },
   {
    "duration": 81,
    "start_time": "2022-02-21T18:06:33.887Z"
   },
   {
    "duration": 108,
    "start_time": "2022-02-21T18:06:33.970Z"
   },
   {
    "duration": 54,
    "start_time": "2022-02-21T18:06:34.080Z"
   },
   {
    "duration": 157,
    "start_time": "2022-02-21T18:06:34.140Z"
   },
   {
    "duration": 28,
    "start_time": "2022-02-21T18:06:34.299Z"
   },
   {
    "duration": 73,
    "start_time": "2022-02-21T18:06:34.329Z"
   },
   {
    "duration": 56,
    "start_time": "2022-02-21T18:06:34.404Z"
   },
   {
    "duration": 30,
    "start_time": "2022-02-21T18:06:34.462Z"
   },
   {
    "duration": 43,
    "start_time": "2022-02-21T18:06:34.495Z"
   },
   {
    "duration": 28,
    "start_time": "2022-02-21T18:06:34.541Z"
   },
   {
    "duration": 6,
    "start_time": "2022-02-21T18:06:34.571Z"
   },
   {
    "duration": 9,
    "start_time": "2022-02-21T18:06:34.579Z"
   },
   {
    "duration": 69,
    "start_time": "2022-02-21T18:06:34.591Z"
   },
   {
    "duration": 1351,
    "start_time": "2022-02-21T18:06:34.662Z"
   },
   {
    "duration": 36,
    "start_time": "2022-02-21T18:06:36.016Z"
   },
   {
    "duration": 84,
    "start_time": "2022-02-21T18:06:36.054Z"
   },
   {
    "duration": 15,
    "start_time": "2022-02-21T18:06:36.141Z"
   },
   {
    "duration": 1442,
    "start_time": "2022-02-21T18:10:47.679Z"
   },
   {
    "duration": 715,
    "start_time": "2022-02-21T18:10:49.124Z"
   },
   {
    "duration": 241,
    "start_time": "2022-02-21T18:10:49.843Z"
   },
   {
    "duration": 124,
    "start_time": "2022-02-21T18:10:50.126Z"
   },
   {
    "duration": 98,
    "start_time": "2022-02-21T18:10:50.254Z"
   },
   {
    "duration": 109,
    "start_time": "2022-02-21T18:10:50.355Z"
   },
   {
    "duration": 62,
    "start_time": "2022-02-21T18:10:50.467Z"
   },
   {
    "duration": 164,
    "start_time": "2022-02-21T18:10:50.536Z"
   },
   {
    "duration": 30,
    "start_time": "2022-02-21T18:10:50.704Z"
   },
   {
    "duration": 99,
    "start_time": "2022-02-21T18:10:50.737Z"
   },
   {
    "duration": 38,
    "start_time": "2022-02-21T18:10:50.839Z"
   },
   {
    "duration": 65,
    "start_time": "2022-02-21T18:10:50.879Z"
   },
   {
    "duration": 15,
    "start_time": "2022-02-21T18:10:50.947Z"
   },
   {
    "duration": 28,
    "start_time": "2022-02-21T18:10:50.964Z"
   },
   {
    "duration": 36,
    "start_time": "2022-02-21T18:10:50.994Z"
   },
   {
    "duration": 7,
    "start_time": "2022-02-21T18:10:51.033Z"
   },
   {
    "duration": 36,
    "start_time": "2022-02-21T18:10:51.043Z"
   },
   {
    "duration": 1048,
    "start_time": "2022-02-21T18:10:51.082Z"
   },
   {
    "duration": 21,
    "start_time": "2022-02-21T18:10:52.132Z"
   },
   {
    "duration": 79,
    "start_time": "2022-02-21T18:10:52.156Z"
   },
   {
    "duration": 13,
    "start_time": "2022-02-21T18:10:52.237Z"
   },
   {
    "duration": 1574,
    "start_time": "2022-02-21T18:11:24.146Z"
   },
   {
    "duration": 724,
    "start_time": "2022-02-21T18:11:25.726Z"
   },
   {
    "duration": 279,
    "start_time": "2022-02-21T18:11:26.453Z"
   },
   {
    "duration": 127,
    "start_time": "2022-02-21T18:11:26.735Z"
   },
   {
    "duration": 84,
    "start_time": "2022-02-21T18:11:26.865Z"
   },
   {
    "duration": 127,
    "start_time": "2022-02-21T18:11:26.952Z"
   },
   {
    "duration": 55,
    "start_time": "2022-02-21T18:11:27.082Z"
   },
   {
    "duration": 148,
    "start_time": "2022-02-21T18:11:27.140Z"
   },
   {
    "duration": 36,
    "start_time": "2022-02-21T18:11:27.292Z"
   },
   {
    "duration": 75,
    "start_time": "2022-02-21T18:11:27.331Z"
   },
   {
    "duration": 34,
    "start_time": "2022-02-21T18:11:27.426Z"
   },
   {
    "duration": 29,
    "start_time": "2022-02-21T18:11:27.463Z"
   },
   {
    "duration": 47,
    "start_time": "2022-02-21T18:11:27.495Z"
   },
   {
    "duration": 52,
    "start_time": "2022-02-21T18:11:27.545Z"
   },
   {
    "duration": 29,
    "start_time": "2022-02-21T18:11:27.600Z"
   },
   {
    "duration": 45,
    "start_time": "2022-02-21T18:11:27.632Z"
   },
   {
    "duration": 38,
    "start_time": "2022-02-21T18:11:27.679Z"
   },
   {
    "duration": 1124,
    "start_time": "2022-02-21T18:11:27.720Z"
   },
   {
    "duration": 22,
    "start_time": "2022-02-21T18:11:28.846Z"
   },
   {
    "duration": 76,
    "start_time": "2022-02-21T18:11:28.870Z"
   },
   {
    "duration": 14,
    "start_time": "2022-02-21T18:11:28.949Z"
   },
   {
    "duration": 448,
    "start_time": "2022-02-21T18:41:59.201Z"
   },
   {
    "duration": 8068,
    "start_time": "2022-02-21T18:45:04.248Z"
   },
   {
    "duration": 7943,
    "start_time": "2022-02-21T18:45:24.278Z"
   },
   {
    "duration": 8,
    "start_time": "2022-02-21T18:46:01.700Z"
   },
   {
    "duration": 8,
    "start_time": "2022-02-21T18:50:43.439Z"
   },
   {
    "duration": 20,
    "start_time": "2022-02-21T18:55:21.103Z"
   },
   {
    "duration": 7135,
    "start_time": "2022-02-21T18:56:05.254Z"
   },
   {
    "duration": 20,
    "start_time": "2022-02-21T18:56:15.185Z"
   },
   {
    "duration": 15,
    "start_time": "2022-02-21T18:57:16.508Z"
   },
   {
    "duration": 1054,
    "start_time": "2022-02-21T18:57:57.180Z"
   },
   {
    "duration": 7706,
    "start_time": "2022-02-21T18:59:10.546Z"
   },
   {
    "duration": 17,
    "start_time": "2022-02-21T18:59:22.243Z"
   },
   {
    "duration": 293,
    "start_time": "2022-02-21T18:59:43.977Z"
   },
   {
    "duration": 15,
    "start_time": "2022-02-21T19:00:01.090Z"
   },
   {
    "duration": 288,
    "start_time": "2022-02-21T19:00:24.587Z"
   },
   {
    "duration": 7264,
    "start_time": "2022-02-21T19:00:32.884Z"
   },
   {
    "duration": -5908,
    "start_time": "2022-02-21T19:00:46.059Z"
   },
   {
    "duration": 17,
    "start_time": "2022-02-21T19:00:46.124Z"
   },
   {
    "duration": 7497,
    "start_time": "2022-02-21T19:00:51.137Z"
   },
   {
    "duration": 7346,
    "start_time": "2022-02-21T19:01:35.157Z"
   },
   {
    "duration": 16,
    "start_time": "2022-02-21T19:01:50.905Z"
   },
   {
    "duration": 101,
    "start_time": "2022-02-21T19:02:16.396Z"
   },
   {
    "duration": 284,
    "start_time": "2022-02-21T19:02:22.333Z"
   },
   {
    "duration": 16,
    "start_time": "2022-02-21T19:02:31.192Z"
   },
   {
    "duration": 307,
    "start_time": "2022-02-21T19:02:48.811Z"
   },
   {
    "duration": 290,
    "start_time": "2022-02-21T19:02:53.778Z"
   },
   {
    "duration": 15,
    "start_time": "2022-02-21T19:02:58.295Z"
   },
   {
    "duration": 10,
    "start_time": "2022-02-21T19:03:07.981Z"
   },
   {
    "duration": 289,
    "start_time": "2022-02-21T19:03:32.948Z"
   },
   {
    "duration": 5,
    "start_time": "2022-02-21T19:03:36.931Z"
   },
   {
    "duration": 289,
    "start_time": "2022-02-21T19:03:37.080Z"
   },
   {
    "duration": 281,
    "start_time": "2022-02-21T19:05:23.330Z"
   },
   {
    "duration": 10,
    "start_time": "2022-02-21T19:05:33.389Z"
   },
   {
    "duration": 8,
    "start_time": "2022-02-21T19:05:56.338Z"
   },
   {
    "duration": 8,
    "start_time": "2022-02-21T19:06:08.154Z"
   },
   {
    "duration": 7393,
    "start_time": "2022-02-21T19:08:42.889Z"
   },
   {
    "duration": -6032,
    "start_time": "2022-02-21T19:09:13.413Z"
   },
   {
    "duration": 5576,
    "start_time": "2022-02-21T19:10:45.162Z"
   },
   {
    "duration": 7076,
    "start_time": "2022-02-21T19:11:21.897Z"
   },
   {
    "duration": 7985,
    "start_time": "2022-02-21T19:11:42.735Z"
   },
   {
    "duration": 9,
    "start_time": "2022-02-21T19:12:11.148Z"
   },
   {
    "duration": 8,
    "start_time": "2022-02-21T19:12:43.874Z"
   },
   {
    "duration": 8,
    "start_time": "2022-02-21T19:13:55.493Z"
   },
   {
    "duration": 114,
    "start_time": "2022-02-21T19:14:04.828Z"
   },
   {
    "duration": 9,
    "start_time": "2022-02-21T19:14:23.967Z"
   },
   {
    "duration": 183,
    "start_time": "2022-02-21T19:14:26.305Z"
   },
   {
    "duration": 7423,
    "start_time": "2022-02-21T19:15:21.198Z"
   },
   {
    "duration": 7674,
    "start_time": "2022-02-21T19:15:35.871Z"
   },
   {
    "duration": 1507,
    "start_time": "2022-02-22T04:24:30.619Z"
   },
   {
    "duration": 738,
    "start_time": "2022-02-22T04:24:32.129Z"
   },
   {
    "duration": 269,
    "start_time": "2022-02-22T04:24:32.870Z"
   },
   {
    "duration": 126,
    "start_time": "2022-02-22T04:24:33.142Z"
   },
   {
    "duration": 85,
    "start_time": "2022-02-22T04:24:33.271Z"
   },
   {
    "duration": 104,
    "start_time": "2022-02-22T04:24:33.359Z"
   },
   {
    "duration": 13,
    "start_time": "2022-02-22T04:24:33.466Z"
   },
   {
    "duration": 145,
    "start_time": "2022-02-22T04:24:33.525Z"
   },
   {
    "duration": 17,
    "start_time": "2022-02-22T04:24:33.674Z"
   },
   {
    "duration": 88,
    "start_time": "2022-02-22T04:24:33.693Z"
   },
   {
    "duration": 46,
    "start_time": "2022-02-22T04:24:33.783Z"
   },
   {
    "duration": 28,
    "start_time": "2022-02-22T04:24:33.831Z"
   },
   {
    "duration": 13,
    "start_time": "2022-02-22T04:24:33.861Z"
   },
   {
    "duration": 25,
    "start_time": "2022-02-22T04:24:33.876Z"
   },
   {
    "duration": 6,
    "start_time": "2022-02-22T04:24:33.927Z"
   },
   {
    "duration": 8,
    "start_time": "2022-02-22T04:24:33.936Z"
   },
   {
    "duration": 35,
    "start_time": "2022-02-22T04:24:33.946Z"
   },
   {
    "duration": 977,
    "start_time": "2022-02-22T04:24:33.984Z"
   },
   {
    "duration": 22,
    "start_time": "2022-02-22T04:24:34.963Z"
   },
   {
    "duration": 74,
    "start_time": "2022-02-22T04:24:34.987Z"
   },
   {
    "duration": 8,
    "start_time": "2022-02-22T04:24:35.063Z"
   },
   {
    "duration": 11,
    "start_time": "2022-02-22T04:24:35.073Z"
   },
   {
    "duration": 7589,
    "start_time": "2022-02-22T04:24:35.089Z"
   },
   {
    "duration": -148,
    "start_time": "2022-02-22T04:24:42.829Z"
   },
   {
    "duration": -169,
    "start_time": "2022-02-22T04:24:42.851Z"
   },
   {
    "duration": 231,
    "start_time": "2022-02-22T04:25:36.556Z"
   },
   {
    "duration": 10,
    "start_time": "2022-02-22T04:25:59.829Z"
   },
   {
    "duration": 281,
    "start_time": "2022-02-22T04:26:13.800Z"
   },
   {
    "duration": 1582,
    "start_time": "2022-02-22T04:26:50.747Z"
   },
   {
    "duration": 696,
    "start_time": "2022-02-22T04:26:52.332Z"
   },
   {
    "duration": 237,
    "start_time": "2022-02-22T04:26:53.031Z"
   },
   {
    "duration": 136,
    "start_time": "2022-02-22T04:26:53.270Z"
   },
   {
    "duration": 77,
    "start_time": "2022-02-22T04:26:53.409Z"
   },
   {
    "duration": 141,
    "start_time": "2022-02-22T04:26:53.489Z"
   },
   {
    "duration": 14,
    "start_time": "2022-02-22T04:26:53.632Z"
   },
   {
    "duration": 169,
    "start_time": "2022-02-22T04:26:53.650Z"
   },
   {
    "duration": 18,
    "start_time": "2022-02-22T04:26:53.822Z"
   },
   {
    "duration": 91,
    "start_time": "2022-02-22T04:26:53.843Z"
   },
   {
    "duration": 33,
    "start_time": "2022-02-22T04:26:53.937Z"
   },
   {
    "duration": 28,
    "start_time": "2022-02-22T04:26:53.973Z"
   },
   {
    "duration": 35,
    "start_time": "2022-02-22T04:26:54.004Z"
   },
   {
    "duration": 27,
    "start_time": "2022-02-22T04:26:54.042Z"
   },
   {
    "duration": 5,
    "start_time": "2022-02-22T04:26:54.071Z"
   },
   {
    "duration": 7,
    "start_time": "2022-02-22T04:26:54.078Z"
   },
   {
    "duration": 68,
    "start_time": "2022-02-22T04:26:54.087Z"
   },
   {
    "duration": 940,
    "start_time": "2022-02-22T04:26:54.158Z"
   },
   {
    "duration": 28,
    "start_time": "2022-02-22T04:26:55.101Z"
   },
   {
    "duration": 51,
    "start_time": "2022-02-22T04:26:55.132Z"
   },
   {
    "duration": 6,
    "start_time": "2022-02-22T04:26:55.186Z"
   },
   {
    "duration": 454,
    "start_time": "2022-02-22T04:26:55.194Z"
   },
   {
    "duration": -47,
    "start_time": "2022-02-22T04:26:55.698Z"
   },
   {
    "duration": -48,
    "start_time": "2022-02-22T04:26:55.700Z"
   },
   {
    "duration": -50,
    "start_time": "2022-02-22T04:26:55.703Z"
   },
   {
    "duration": 9,
    "start_time": "2022-02-22T04:27:17.205Z"
   },
   {
    "duration": 5318,
    "start_time": "2022-02-22T04:27:26.924Z"
   },
   {
    "duration": 281,
    "start_time": "2022-02-22T04:27:35.024Z"
   },
   {
    "duration": 50,
    "start_time": "2022-02-22T04:27:46.260Z"
   },
   {
    "duration": 7,
    "start_time": "2022-02-22T04:28:29.090Z"
   },
   {
    "duration": 295,
    "start_time": "2022-02-22T04:30:23.590Z"
   },
   {
    "duration": 317,
    "start_time": "2022-02-22T04:30:32.701Z"
   },
   {
    "duration": 4,
    "start_time": "2022-02-22T04:30:36.591Z"
   },
   {
    "duration": 6,
    "start_time": "2022-02-22T04:30:39.648Z"
   },
   {
    "duration": 1552,
    "start_time": "2022-02-22T04:30:45.690Z"
   },
   {
    "duration": 858,
    "start_time": "2022-02-22T04:30:47.245Z"
   },
   {
    "duration": 245,
    "start_time": "2022-02-22T04:30:48.106Z"
   },
   {
    "duration": 131,
    "start_time": "2022-02-22T04:30:48.354Z"
   },
   {
    "duration": 80,
    "start_time": "2022-02-22T04:30:48.488Z"
   },
   {
    "duration": 108,
    "start_time": "2022-02-22T04:30:48.571Z"
   },
   {
    "duration": 14,
    "start_time": "2022-02-22T04:30:48.682Z"
   },
   {
    "duration": 199,
    "start_time": "2022-02-22T04:30:48.730Z"
   },
   {
    "duration": 19,
    "start_time": "2022-02-22T04:30:48.933Z"
   },
   {
    "duration": 95,
    "start_time": "2022-02-22T04:30:48.955Z"
   },
   {
    "duration": 35,
    "start_time": "2022-02-22T04:30:49.053Z"
   },
   {
    "duration": 50,
    "start_time": "2022-02-22T04:30:49.091Z"
   },
   {
    "duration": 14,
    "start_time": "2022-02-22T04:30:49.144Z"
   },
   {
    "duration": 24,
    "start_time": "2022-02-22T04:30:49.160Z"
   },
   {
    "duration": 5,
    "start_time": "2022-02-22T04:30:49.187Z"
   },
   {
    "duration": 33,
    "start_time": "2022-02-22T04:30:49.194Z"
   },
   {
    "duration": 34,
    "start_time": "2022-02-22T04:30:49.229Z"
   },
   {
    "duration": 1054,
    "start_time": "2022-02-22T04:30:49.266Z"
   },
   {
    "duration": 29,
    "start_time": "2022-02-22T04:30:50.326Z"
   },
   {
    "duration": 78,
    "start_time": "2022-02-22T04:30:50.358Z"
   },
   {
    "duration": 7,
    "start_time": "2022-02-22T04:30:50.439Z"
   },
   {
    "duration": 10,
    "start_time": "2022-02-22T04:30:50.448Z"
   },
   {
    "duration": 6,
    "start_time": "2022-02-22T04:30:50.462Z"
   },
   {
    "duration": 7292,
    "start_time": "2022-02-22T04:30:50.471Z"
   },
   {
    "duration": -106,
    "start_time": "2022-02-22T04:30:57.872Z"
   },
   {
    "duration": -107,
    "start_time": "2022-02-22T04:30:57.874Z"
   },
   {
    "duration": 7,
    "start_time": "2022-02-22T04:31:18.199Z"
   },
   {
    "duration": 7,
    "start_time": "2022-02-22T04:31:38.271Z"
   },
   {
    "duration": 302,
    "start_time": "2022-02-22T04:31:51.180Z"
   },
   {
    "duration": 7,
    "start_time": "2022-02-22T04:31:56.223Z"
   },
   {
    "duration": 7426,
    "start_time": "2022-02-22T04:31:58.801Z"
   },
   {
    "duration": -129,
    "start_time": "2022-02-22T04:32:06.359Z"
   },
   {
    "duration": 7227,
    "start_time": "2022-02-22T04:33:20.958Z"
   },
   {
    "duration": 5940,
    "start_time": "2022-02-22T04:33:39.629Z"
   },
   {
    "duration": 6057,
    "start_time": "2022-02-22T04:33:56.520Z"
   },
   {
    "duration": 10,
    "start_time": "2022-02-22T04:34:06.883Z"
   },
   {
    "duration": 310,
    "start_time": "2022-02-22T04:35:01.221Z"
   },
   {
    "duration": 295,
    "start_time": "2022-02-22T04:35:23.988Z"
   },
   {
    "duration": 314,
    "start_time": "2022-02-22T04:39:12.915Z"
   },
   {
    "duration": 307,
    "start_time": "2022-02-22T04:39:28.881Z"
   },
   {
    "duration": 292,
    "start_time": "2022-02-22T04:39:48.781Z"
   },
   {
    "duration": 295,
    "start_time": "2022-02-22T04:43:16.762Z"
   },
   {
    "duration": 322,
    "start_time": "2022-02-22T04:43:37.763Z"
   },
   {
    "duration": 320,
    "start_time": "2022-02-22T04:44:08.271Z"
   },
   {
    "duration": 319,
    "start_time": "2022-02-22T04:44:25.162Z"
   },
   {
    "duration": 321,
    "start_time": "2022-02-22T04:45:27.468Z"
   },
   {
    "duration": 331,
    "start_time": "2022-02-22T04:45:57.658Z"
   },
   {
    "duration": 548,
    "start_time": "2022-02-22T04:47:32.330Z"
   },
   {
    "duration": 587,
    "start_time": "2022-02-22T04:47:38.562Z"
   },
   {
    "duration": 551,
    "start_time": "2022-02-22T04:47:41.449Z"
   },
   {
    "duration": 359,
    "start_time": "2022-02-22T04:48:16.690Z"
   },
   {
    "duration": 365,
    "start_time": "2022-02-22T04:49:15.535Z"
   },
   {
    "duration": 366,
    "start_time": "2022-02-22T04:49:51.045Z"
   },
   {
    "duration": 487,
    "start_time": "2022-02-22T04:50:06.814Z"
   },
   {
    "duration": 375,
    "start_time": "2022-02-22T04:50:11.851Z"
   },
   {
    "duration": 403,
    "start_time": "2022-02-22T04:52:34.927Z"
   },
   {
    "duration": 602,
    "start_time": "2022-02-22T04:54:28.296Z"
   },
   {
    "duration": 393,
    "start_time": "2022-02-22T04:54:35.147Z"
   },
   {
    "duration": 378,
    "start_time": "2022-02-22T04:54:42.162Z"
   },
   {
    "duration": 377,
    "start_time": "2022-02-22T04:54:54.416Z"
   },
   {
    "duration": 7471,
    "start_time": "2022-02-22T04:56:16.260Z"
   },
   {
    "duration": 436,
    "start_time": "2022-02-22T04:56:33.331Z"
   },
   {
    "duration": 394,
    "start_time": "2022-02-22T04:57:13.152Z"
   },
   {
    "duration": 710,
    "start_time": "2022-02-22T04:57:55.175Z"
   },
   {
    "duration": 395,
    "start_time": "2022-02-22T04:58:08.507Z"
   },
   {
    "duration": 544,
    "start_time": "2022-02-22T04:58:15.504Z"
   },
   {
    "duration": 680,
    "start_time": "2022-02-22T04:58:19.151Z"
   },
   {
    "duration": 525,
    "start_time": "2022-02-22T04:59:30.580Z"
   },
   {
    "duration": 585,
    "start_time": "2022-02-22T04:59:42.367Z"
   },
   {
    "duration": 669,
    "start_time": "2022-02-22T04:59:49.949Z"
   },
   {
    "duration": 538,
    "start_time": "2022-02-22T05:00:43.149Z"
   },
   {
    "duration": 530,
    "start_time": "2022-02-22T05:00:47.824Z"
   },
   {
    "duration": 529,
    "start_time": "2022-02-22T05:00:53.580Z"
   },
   {
    "duration": 783,
    "start_time": "2022-02-22T05:00:57.492Z"
   },
   {
    "duration": 9,
    "start_time": "2022-02-22T05:04:32.533Z"
   },
   {
    "duration": 8,
    "start_time": "2022-02-22T05:05:11.754Z"
   },
   {
    "duration": 529,
    "start_time": "2022-02-22T05:06:49.872Z"
   },
   {
    "duration": 505,
    "start_time": "2022-02-22T05:06:57.261Z"
   },
   {
    "duration": 566,
    "start_time": "2022-02-22T05:07:01.939Z"
   },
   {
    "duration": 484,
    "start_time": "2022-02-22T05:07:06.672Z"
   },
   {
    "duration": 484,
    "start_time": "2022-02-22T05:08:13.853Z"
   },
   {
    "duration": 540,
    "start_time": "2022-02-22T05:08:48.611Z"
   },
   {
    "duration": 503,
    "start_time": "2022-02-22T05:09:13.134Z"
   },
   {
    "duration": 497,
    "start_time": "2022-02-22T05:09:19.334Z"
   },
   {
    "duration": 504,
    "start_time": "2022-02-22T05:09:28.521Z"
   },
   {
    "duration": 483,
    "start_time": "2022-02-22T05:09:44.858Z"
   },
   {
    "duration": 495,
    "start_time": "2022-02-22T05:10:55.217Z"
   },
   {
    "duration": 505,
    "start_time": "2022-02-22T05:19:03.549Z"
   },
   {
    "duration": 544,
    "start_time": "2022-02-22T05:20:08.888Z"
   },
   {
    "duration": 603,
    "start_time": "2022-02-22T05:20:32.858Z"
   },
   {
    "duration": 489,
    "start_time": "2022-02-22T05:20:38.974Z"
   },
   {
    "duration": 482,
    "start_time": "2022-02-22T05:20:47.382Z"
   },
   {
    "duration": 596,
    "start_time": "2022-02-22T05:21:08.311Z"
   },
   {
    "duration": 497,
    "start_time": "2022-02-22T05:21:22.607Z"
   },
   {
    "duration": 534,
    "start_time": "2022-02-22T05:21:28.292Z"
   },
   {
    "duration": 511,
    "start_time": "2022-02-22T05:21:47.519Z"
   },
   {
    "duration": 492,
    "start_time": "2022-02-22T05:22:11.963Z"
   },
   {
    "duration": 479,
    "start_time": "2022-02-22T05:22:23.970Z"
   },
   {
    "duration": 491,
    "start_time": "2022-02-22T05:22:31.855Z"
   },
   {
    "duration": 487,
    "start_time": "2022-02-22T05:22:39.155Z"
   },
   {
    "duration": 618,
    "start_time": "2022-02-22T06:04:39.376Z"
   },
   {
    "duration": 488,
    "start_time": "2022-02-22T06:04:47.267Z"
   },
   {
    "duration": 506,
    "start_time": "2022-02-22T06:04:52.765Z"
   },
   {
    "duration": 473,
    "start_time": "2022-02-22T06:04:56.844Z"
   },
   {
    "duration": 511,
    "start_time": "2022-02-22T06:05:19.523Z"
   },
   {
    "duration": 510,
    "start_time": "2022-02-22T07:26:13.903Z"
   },
   {
    "duration": 508,
    "start_time": "2022-02-22T07:28:19.539Z"
   },
   {
    "duration": 489,
    "start_time": "2022-02-22T09:15:27.864Z"
   },
   {
    "duration": 501,
    "start_time": "2022-02-22T09:17:49.360Z"
   },
   {
    "duration": 42,
    "start_time": "2022-02-22T10:40:56.971Z"
   },
   {
    "duration": 9,
    "start_time": "2022-02-22T12:25:20.869Z"
   },
   {
    "duration": 348,
    "start_time": "2022-02-22T12:27:13.007Z"
   },
   {
    "duration": 705,
    "start_time": "2022-02-22T12:28:33.291Z"
   },
   {
    "duration": 27146,
    "start_time": "2022-02-22T12:28:42.197Z"
   },
   {
    "duration": 283,
    "start_time": "2022-02-22T12:29:31.128Z"
   },
   {
    "duration": 306,
    "start_time": "2022-02-22T12:38:20.858Z"
   },
   {
    "duration": 298,
    "start_time": "2022-02-22T12:42:58.915Z"
   },
   {
    "duration": 303,
    "start_time": "2022-02-22T12:43:07.263Z"
   },
   {
    "duration": 112,
    "start_time": "2022-02-22T12:46:51.425Z"
   },
   {
    "duration": 94,
    "start_time": "2022-02-22T12:47:11.127Z"
   },
   {
    "duration": 104,
    "start_time": "2022-02-22T12:49:01.388Z"
   },
   {
    "duration": 293,
    "start_time": "2022-02-22T12:49:07.093Z"
   },
   {
    "duration": 331,
    "start_time": "2022-02-22T12:49:12.352Z"
   },
   {
    "duration": 288,
    "start_time": "2022-02-22T12:49:19.093Z"
   },
   {
    "duration": 324,
    "start_time": "2022-02-22T12:49:24.312Z"
   },
   {
    "duration": 2222,
    "start_time": "2022-02-22T16:34:27.719Z"
   },
   {
    "duration": 320,
    "start_time": "2022-02-22T16:43:27.791Z"
   },
   {
    "duration": 378,
    "start_time": "2022-02-22T16:48:02.274Z"
   },
   {
    "duration": 1785,
    "start_time": "2022-02-22T16:48:17.999Z"
   },
   {
    "duration": 822,
    "start_time": "2022-02-22T16:48:19.787Z"
   },
   {
    "duration": 255,
    "start_time": "2022-02-22T16:48:20.612Z"
   },
   {
    "duration": 156,
    "start_time": "2022-02-22T16:48:20.870Z"
   },
   {
    "duration": 76,
    "start_time": "2022-02-22T16:48:21.028Z"
   },
   {
    "duration": 149,
    "start_time": "2022-02-22T16:48:21.106Z"
   },
   {
    "duration": 67,
    "start_time": "2022-02-22T16:48:21.259Z"
   },
   {
    "duration": 158,
    "start_time": "2022-02-22T16:48:21.332Z"
   },
   {
    "duration": 34,
    "start_time": "2022-02-22T16:48:21.493Z"
   },
   {
    "duration": 69,
    "start_time": "2022-02-22T16:48:21.529Z"
   },
   {
    "duration": 52,
    "start_time": "2022-02-22T16:48:21.601Z"
   },
   {
    "duration": 32,
    "start_time": "2022-02-22T16:48:21.655Z"
   },
   {
    "duration": 42,
    "start_time": "2022-02-22T16:48:21.690Z"
   },
   {
    "duration": 28,
    "start_time": "2022-02-22T16:48:21.735Z"
   },
   {
    "duration": 6,
    "start_time": "2022-02-22T16:48:21.766Z"
   },
   {
    "duration": 8,
    "start_time": "2022-02-22T16:48:21.775Z"
   },
   {
    "duration": 34,
    "start_time": "2022-02-22T16:48:21.827Z"
   },
   {
    "duration": 969,
    "start_time": "2022-02-22T16:48:21.864Z"
   },
   {
    "duration": 21,
    "start_time": "2022-02-22T16:48:22.836Z"
   },
   {
    "duration": 78,
    "start_time": "2022-02-22T16:48:22.859Z"
   },
   {
    "duration": 600,
    "start_time": "2022-02-22T16:48:22.940Z"
   },
   {
    "duration": 549,
    "start_time": "2022-02-22T16:48:23.543Z"
   },
   {
    "duration": 514,
    "start_time": "2022-02-22T16:48:24.097Z"
   },
   {
    "duration": 52,
    "start_time": "2022-02-22T16:48:24.614Z"
   },
   {
    "duration": 475,
    "start_time": "2022-02-22T16:48:24.669Z"
   },
   {
    "duration": -6452,
    "start_time": "2022-02-22T16:48:31.599Z"
   },
   {
    "duration": -6458,
    "start_time": "2022-02-22T16:48:31.606Z"
   },
   {
    "duration": 417,
    "start_time": "2022-02-22T16:48:36.133Z"
   },
   {
    "duration": 8,
    "start_time": "2022-02-22T16:48:55.658Z"
   },
   {
    "duration": 13,
    "start_time": "2022-02-22T16:49:02.274Z"
   },
   {
    "duration": 438,
    "start_time": "2022-02-22T16:49:15.116Z"
   },
   {
    "duration": 17,
    "start_time": "2022-02-22T16:50:54.889Z"
   },
   {
    "duration": 25,
    "start_time": "2022-02-22T16:52:49.049Z"
   },
   {
    "duration": 468,
    "start_time": "2022-02-22T16:55:05.524Z"
   },
   {
    "duration": 496,
    "start_time": "2022-02-22T16:55:11.696Z"
   },
   {
    "duration": 687,
    "start_time": "2022-02-22T16:55:16.114Z"
   },
   {
    "duration": 997,
    "start_time": "2022-02-22T16:55:56.648Z"
   },
   {
    "duration": 990,
    "start_time": "2022-02-22T16:56:14.167Z"
   },
   {
    "duration": 1130,
    "start_time": "2022-02-22T16:56:22.226Z"
   },
   {
    "duration": 1033,
    "start_time": "2022-02-22T16:57:48.848Z"
   },
   {
    "duration": 1069,
    "start_time": "2022-02-22T16:58:50.196Z"
   },
   {
    "duration": 1156,
    "start_time": "2022-02-22T16:58:59.506Z"
   },
   {
    "duration": 1171,
    "start_time": "2022-02-22T17:00:36.887Z"
   },
   {
    "duration": 1023,
    "start_time": "2022-02-22T17:01:45.873Z"
   },
   {
    "duration": 1122,
    "start_time": "2022-02-22T17:02:20.108Z"
   },
   {
    "duration": 1181,
    "start_time": "2022-02-22T17:02:49.449Z"
   },
   {
    "duration": 1220,
    "start_time": "2022-02-22T17:03:20.820Z"
   },
   {
    "duration": 1052,
    "start_time": "2022-02-22T17:04:47.611Z"
   },
   {
    "duration": 1073,
    "start_time": "2022-02-22T17:04:56.105Z"
   },
   {
    "duration": 1154,
    "start_time": "2022-02-22T17:05:13.372Z"
   },
   {
    "duration": 1070,
    "start_time": "2022-02-22T17:05:23.105Z"
   },
   {
    "duration": 1021,
    "start_time": "2022-02-22T17:05:54.561Z"
   },
   {
    "duration": 13,
    "start_time": "2022-02-22T17:06:38.670Z"
   },
   {
    "duration": 1026,
    "start_time": "2022-02-22T17:07:43.541Z"
   },
   {
    "duration": 1237,
    "start_time": "2022-02-22T17:07:52.682Z"
   },
   {
    "duration": 1033,
    "start_time": "2022-02-22T17:10:20.323Z"
   },
   {
    "duration": 1017,
    "start_time": "2022-02-22T17:10:59.889Z"
   },
   {
    "duration": 1109,
    "start_time": "2022-02-22T17:11:56.398Z"
   },
   {
    "duration": 1002,
    "start_time": "2022-02-22T17:12:11.675Z"
   },
   {
    "duration": 831,
    "start_time": "2022-02-22T17:14:15.832Z"
   },
   {
    "duration": 863,
    "start_time": "2022-02-22T17:14:21.894Z"
   },
   {
    "duration": 500,
    "start_time": "2022-02-22T17:14:34.779Z"
   },
   {
    "duration": 710,
    "start_time": "2022-02-22T17:14:42.467Z"
   },
   {
    "duration": 597,
    "start_time": "2022-02-22T17:14:54.485Z"
   },
   {
    "duration": 928,
    "start_time": "2022-02-22T17:15:05.082Z"
   },
   {
    "duration": 691,
    "start_time": "2022-02-22T17:15:49.639Z"
   },
   {
    "duration": 608,
    "start_time": "2022-02-22T17:15:59.268Z"
   },
   {
    "duration": 836,
    "start_time": "2022-02-22T17:17:44.029Z"
   },
   {
    "duration": 743,
    "start_time": "2022-02-22T17:17:56.658Z"
   },
   {
    "duration": 615,
    "start_time": "2022-02-22T17:18:10.644Z"
   },
   {
    "duration": 991,
    "start_time": "2022-02-22T17:18:36.539Z"
   },
   {
    "duration": 556,
    "start_time": "2022-02-22T17:23:43.904Z"
   },
   {
    "duration": 842,
    "start_time": "2022-02-22T17:23:53.735Z"
   },
   {
    "duration": 108,
    "start_time": "2022-02-22T17:28:28.511Z"
   },
   {
    "duration": 784,
    "start_time": "2022-02-22T17:30:00.982Z"
   },
   {
    "duration": 611,
    "start_time": "2022-02-22T17:30:16.510Z"
   },
   {
    "duration": 4,
    "start_time": "2022-02-22T17:33:44.443Z"
   },
   {
    "duration": 65,
    "start_time": "2022-02-22T17:52:20.995Z"
   },
   {
    "duration": 55,
    "start_time": "2022-02-22T17:52:32.039Z"
   },
   {
    "duration": 105,
    "start_time": "2022-02-22T17:53:17.023Z"
   },
   {
    "duration": 33,
    "start_time": "2022-02-22T17:53:23.936Z"
   },
   {
    "duration": 7544,
    "start_time": "2022-02-22T17:56:24.472Z"
   },
   {
    "duration": 3070,
    "start_time": "2022-02-22T17:57:09.703Z"
   },
   {
    "duration": 317,
    "start_time": "2022-02-22T17:57:55.336Z"
   },
   {
    "duration": 336,
    "start_time": "2022-02-22T17:58:01.806Z"
   },
   {
    "duration": 98,
    "start_time": "2022-02-22T17:58:45.359Z"
   },
   {
    "duration": 497,
    "start_time": "2022-02-22T17:58:52.705Z"
   },
   {
    "duration": 36,
    "start_time": "2022-02-22T17:59:49.177Z"
   },
   {
    "duration": 43,
    "start_time": "2022-02-22T18:00:00.826Z"
   },
   {
    "duration": 33,
    "start_time": "2022-02-22T18:00:55.694Z"
   },
   {
    "duration": 496,
    "start_time": "2022-02-22T18:01:41.507Z"
   },
   {
    "duration": 28,
    "start_time": "2022-02-22T18:02:25.850Z"
   },
   {
    "duration": 37,
    "start_time": "2022-02-22T18:05:37.464Z"
   },
   {
    "duration": 777,
    "start_time": "2022-02-22T18:34:17.736Z"
   },
   {
    "duration": 613,
    "start_time": "2022-02-22T18:35:20.381Z"
   },
   {
    "duration": 622,
    "start_time": "2022-02-22T18:35:30.263Z"
   },
   {
    "duration": 641,
    "start_time": "2022-02-22T18:35:44.590Z"
   },
   {
    "duration": 520,
    "start_time": "2022-02-22T18:35:48.871Z"
   },
   {
    "duration": 616,
    "start_time": "2022-02-22T18:36:17.932Z"
   },
   {
    "duration": 974,
    "start_time": "2022-02-22T18:36:28.825Z"
   },
   {
    "duration": 612,
    "start_time": "2022-02-22T18:36:34.636Z"
   },
   {
    "duration": 112,
    "start_time": "2022-02-22T19:10:53.557Z"
   },
   {
    "duration": 9,
    "start_time": "2022-02-22T19:34:44.906Z"
   },
   {
    "duration": 123,
    "start_time": "2022-02-22T19:37:10.588Z"
   },
   {
    "duration": 93,
    "start_time": "2022-02-22T19:38:54.380Z"
   },
   {
    "duration": 15,
    "start_time": "2022-02-22T19:45:11.401Z"
   },
   {
    "duration": 19,
    "start_time": "2022-02-22T19:46:40.815Z"
   },
   {
    "duration": 18,
    "start_time": "2022-02-22T19:47:01.522Z"
   },
   {
    "duration": 91,
    "start_time": "2022-02-22T19:51:29.639Z"
   },
   {
    "duration": 1567,
    "start_time": "2022-02-22T19:58:29.475Z"
   },
   {
    "duration": 770,
    "start_time": "2022-02-22T19:58:31.045Z"
   },
   {
    "duration": 319,
    "start_time": "2022-02-22T19:58:31.819Z"
   },
   {
    "duration": 136,
    "start_time": "2022-02-22T19:58:32.141Z"
   },
   {
    "duration": 90,
    "start_time": "2022-02-22T19:58:32.280Z"
   },
   {
    "duration": 112,
    "start_time": "2022-02-22T19:58:32.372Z"
   },
   {
    "duration": 13,
    "start_time": "2022-02-22T19:58:32.527Z"
   },
   {
    "duration": 164,
    "start_time": "2022-02-22T19:58:32.545Z"
   },
   {
    "duration": 30,
    "start_time": "2022-02-22T19:58:32.712Z"
   },
   {
    "duration": 101,
    "start_time": "2022-02-22T19:58:32.744Z"
   },
   {
    "duration": 36,
    "start_time": "2022-02-22T19:58:32.847Z"
   },
   {
    "duration": 47,
    "start_time": "2022-02-22T19:58:32.886Z"
   },
   {
    "duration": 30,
    "start_time": "2022-02-22T19:58:32.936Z"
   },
   {
    "duration": 29,
    "start_time": "2022-02-22T19:58:32.969Z"
   },
   {
    "duration": 25,
    "start_time": "2022-02-22T19:58:33.001Z"
   },
   {
    "duration": 15,
    "start_time": "2022-02-22T19:58:33.029Z"
   },
   {
    "duration": 38,
    "start_time": "2022-02-22T19:58:33.047Z"
   },
   {
    "duration": 1025,
    "start_time": "2022-02-22T19:58:33.088Z"
   },
   {
    "duration": 27,
    "start_time": "2022-02-22T19:58:34.116Z"
   },
   {
    "duration": 83,
    "start_time": "2022-02-22T19:58:34.147Z"
   },
   {
    "duration": 527,
    "start_time": "2022-02-22T19:58:34.232Z"
   },
   {
    "duration": 520,
    "start_time": "2022-02-22T19:58:34.762Z"
   },
   {
    "duration": 513,
    "start_time": "2022-02-22T19:58:35.290Z"
   },
   {
    "duration": 53,
    "start_time": "2022-02-22T19:58:35.806Z"
   },
   {
    "duration": 24,
    "start_time": "2022-02-22T19:58:35.861Z"
   },
   {
    "duration": 900,
    "start_time": "2022-02-22T19:58:35.888Z"
   },
   {
    "duration": 970,
    "start_time": "2022-02-22T19:58:36.791Z"
   },
   {
    "duration": 649,
    "start_time": "2022-02-22T19:58:37.764Z"
   },
   {
    "duration": 41,
    "start_time": "2022-02-22T19:58:38.416Z"
   },
   {
    "duration": 548,
    "start_time": "2022-02-22T19:58:38.461Z"
   },
   {
    "duration": 35,
    "start_time": "2022-02-22T19:58:39.012Z"
   },
   {
    "duration": 653,
    "start_time": "2022-02-22T19:58:39.050Z"
   },
   {
    "duration": 24,
    "start_time": "2022-02-22T19:58:39.706Z"
   },
   {
    "duration": 20,
    "start_time": "2022-02-22T19:58:39.732Z"
   },
   {
    "duration": 1355,
    "start_time": "2022-03-04T22:30:36.426Z"
   },
   {
    "duration": 460,
    "start_time": "2022-03-04T22:30:37.783Z"
   },
   {
    "duration": 161,
    "start_time": "2022-03-04T22:30:38.245Z"
   },
   {
    "duration": 56,
    "start_time": "2022-03-04T22:30:38.408Z"
   },
   {
    "duration": 51,
    "start_time": "2022-03-04T22:30:38.466Z"
   },
   {
    "duration": 52,
    "start_time": "2022-03-04T22:30:38.518Z"
   },
   {
    "duration": 35,
    "start_time": "2022-03-04T22:30:38.571Z"
   },
   {
    "duration": 77,
    "start_time": "2022-03-04T22:30:38.608Z"
   },
   {
    "duration": 20,
    "start_time": "2022-03-04T22:30:38.688Z"
   },
   {
    "duration": 56,
    "start_time": "2022-03-04T22:30:38.710Z"
   },
   {
    "duration": 39,
    "start_time": "2022-03-04T22:30:38.767Z"
   },
   {
    "duration": 21,
    "start_time": "2022-03-04T22:30:38.807Z"
   },
   {
    "duration": 6,
    "start_time": "2022-03-04T22:30:38.829Z"
   },
   {
    "duration": 15,
    "start_time": "2022-03-04T22:30:38.836Z"
   },
   {
    "duration": 2,
    "start_time": "2022-03-04T22:30:38.853Z"
   },
   {
    "duration": 4,
    "start_time": "2022-03-04T22:30:38.857Z"
   },
   {
    "duration": 18,
    "start_time": "2022-03-04T22:30:38.862Z"
   },
   {
    "duration": 336,
    "start_time": "2022-03-04T22:30:38.882Z"
   },
   {
    "duration": 11,
    "start_time": "2022-03-04T22:30:39.220Z"
   },
   {
    "duration": 21,
    "start_time": "2022-03-04T22:30:39.232Z"
   },
   {
    "duration": 731,
    "start_time": "2022-03-04T22:30:39.255Z"
   },
   {
    "duration": 289,
    "start_time": "2022-03-04T22:30:39.988Z"
   },
   {
    "duration": 306,
    "start_time": "2022-03-04T22:30:40.279Z"
   },
   {
    "duration": 31,
    "start_time": "2022-03-04T22:30:40.587Z"
   },
   {
    "duration": 14,
    "start_time": "2022-03-04T22:30:40.619Z"
   },
   {
    "duration": 400,
    "start_time": "2022-03-04T22:30:40.634Z"
   },
   {
    "duration": 386,
    "start_time": "2022-03-04T22:30:41.037Z"
   },
   {
    "duration": 267,
    "start_time": "2022-03-04T22:30:41.425Z"
   },
   {
    "duration": 24,
    "start_time": "2022-03-04T22:30:41.693Z"
   },
   {
    "duration": 278,
    "start_time": "2022-03-04T22:30:41.719Z"
   },
   {
    "duration": 16,
    "start_time": "2022-03-04T22:30:41.999Z"
   },
   {
    "duration": 294,
    "start_time": "2022-03-04T22:30:42.017Z"
   },
   {
    "duration": 4,
    "start_time": "2022-03-04T22:30:42.312Z"
   },
   {
    "duration": 13,
    "start_time": "2022-03-04T22:30:42.318Z"
   },
   {
    "duration": 1369,
    "start_time": "2022-03-04T22:50:19.214Z"
   },
   {
    "duration": 514,
    "start_time": "2022-03-04T22:50:20.585Z"
   },
   {
    "duration": 143,
    "start_time": "2022-03-04T22:50:21.101Z"
   },
   {
    "duration": 82,
    "start_time": "2022-03-04T22:50:21.246Z"
   },
   {
    "duration": 44,
    "start_time": "2022-03-04T22:50:21.329Z"
   },
   {
    "duration": 66,
    "start_time": "2022-03-04T22:50:21.374Z"
   },
   {
    "duration": 6,
    "start_time": "2022-03-04T22:50:21.442Z"
   },
   {
    "duration": 99,
    "start_time": "2022-03-04T22:50:21.451Z"
   },
   {
    "duration": 11,
    "start_time": "2022-03-04T22:50:21.552Z"
   },
   {
    "duration": 76,
    "start_time": "2022-03-04T22:50:21.564Z"
   },
   {
    "duration": 26,
    "start_time": "2022-03-04T22:50:21.641Z"
   },
   {
    "duration": 19,
    "start_time": "2022-03-04T22:50:21.669Z"
   },
   {
    "duration": 18,
    "start_time": "2022-03-04T22:50:21.690Z"
   },
   {
    "duration": 15,
    "start_time": "2022-03-04T22:50:21.709Z"
   },
   {
    "duration": 3,
    "start_time": "2022-03-04T22:50:21.725Z"
   },
   {
    "duration": 5,
    "start_time": "2022-03-04T22:50:21.730Z"
   },
   {
    "duration": 17,
    "start_time": "2022-03-04T22:50:21.736Z"
   },
   {
    "duration": 328,
    "start_time": "2022-03-04T22:50:21.754Z"
   },
   {
    "duration": 10,
    "start_time": "2022-03-04T22:50:22.084Z"
   },
   {
    "duration": 30,
    "start_time": "2022-03-04T22:50:22.095Z"
   },
   {
    "duration": 749,
    "start_time": "2022-03-04T22:50:22.126Z"
   },
   {
    "duration": 292,
    "start_time": "2022-03-04T22:50:22.876Z"
   },
   {
    "duration": 310,
    "start_time": "2022-03-04T22:50:23.171Z"
   },
   {
    "duration": 26,
    "start_time": "2022-03-04T22:50:23.483Z"
   },
   {
    "duration": 13,
    "start_time": "2022-03-04T22:50:23.510Z"
   },
   {
    "duration": 400,
    "start_time": "2022-03-04T22:50:23.524Z"
   },
   {
    "duration": 398,
    "start_time": "2022-03-04T22:50:23.925Z"
   },
   {
    "duration": 283,
    "start_time": "2022-03-04T22:50:24.324Z"
   },
   {
    "duration": 15,
    "start_time": "2022-03-04T22:50:24.609Z"
   },
   {
    "duration": 262,
    "start_time": "2022-03-04T22:50:24.625Z"
   },
   {
    "duration": 24,
    "start_time": "2022-03-04T22:50:24.888Z"
   },
   {
    "duration": 293,
    "start_time": "2022-03-04T22:50:24.913Z"
   },
   {
    "duration": 4,
    "start_time": "2022-03-04T22:50:25.208Z"
   },
   {
    "duration": 12,
    "start_time": "2022-03-04T22:50:25.214Z"
   },
   {
    "duration": 3,
    "start_time": "2022-03-04T23:31:37.718Z"
   },
   {
    "duration": 105,
    "start_time": "2022-03-04T23:57:56.093Z"
   },
   {
    "duration": 52,
    "start_time": "2022-03-05T09:58:54.709Z"
   },
   {
    "duration": 1087,
    "start_time": "2022-03-05T10:11:29.305Z"
   },
   {
    "duration": 485,
    "start_time": "2022-03-05T10:11:31.316Z"
   },
   {
    "duration": 41,
    "start_time": "2022-03-05T10:11:33.582Z"
   },
   {
    "duration": 353,
    "start_time": "2022-03-05T10:11:37.236Z"
   },
   {
    "duration": 405,
    "start_time": "2022-03-05T10:11:51.572Z"
   },
   {
    "duration": 633,
    "start_time": "2022-03-05T10:13:01.503Z"
   },
   {
    "duration": 370,
    "start_time": "2022-03-05T10:49:25.673Z"
   },
   {
    "duration": 45,
    "start_time": "2022-03-05T11:47:46.334Z"
   },
   {
    "duration": 263,
    "start_time": "2022-03-07T16:20:33.515Z"
   },
   {
    "duration": 1107,
    "start_time": "2022-03-07T16:20:33.924Z"
   },
   {
    "duration": 530,
    "start_time": "2022-03-07T16:20:35.033Z"
   },
   {
    "duration": 417,
    "start_time": "2022-03-07T16:20:35.565Z"
   },
   {
    "duration": 96,
    "start_time": "2022-03-07T16:20:35.984Z"
   },
   {
    "duration": 53,
    "start_time": "2022-03-07T16:20:36.082Z"
   },
   {
    "duration": 84,
    "start_time": "2022-03-07T16:20:36.137Z"
   },
   {
    "duration": 38,
    "start_time": "2022-03-07T16:20:36.223Z"
   },
   {
    "duration": 102,
    "start_time": "2022-03-07T16:20:36.265Z"
   },
   {
    "duration": 13,
    "start_time": "2022-03-07T16:20:36.369Z"
   },
   {
    "duration": 45,
    "start_time": "2022-03-07T16:20:36.383Z"
   },
   {
    "duration": 35,
    "start_time": "2022-03-07T16:20:36.430Z"
   },
   {
    "duration": 17,
    "start_time": "2022-03-07T16:20:36.467Z"
   },
   {
    "duration": 7,
    "start_time": "2022-03-07T16:20:36.486Z"
   },
   {
    "duration": 16,
    "start_time": "2022-03-07T16:20:36.494Z"
   },
   {
    "duration": 3,
    "start_time": "2022-03-07T16:20:36.512Z"
   },
   {
    "duration": 7,
    "start_time": "2022-03-07T16:20:36.516Z"
   },
   {
    "duration": 48,
    "start_time": "2022-03-07T16:20:36.525Z"
   },
   {
    "duration": 305,
    "start_time": "2022-03-07T16:20:36.575Z"
   },
   {
    "duration": -16761,
    "start_time": "2022-03-07T16:20:53.644Z"
   },
   {
    "duration": -16764,
    "start_time": "2022-03-07T16:20:53.648Z"
   },
   {
    "duration": -16771,
    "start_time": "2022-03-07T16:20:53.655Z"
   },
   {
    "duration": -16777,
    "start_time": "2022-03-07T16:20:53.662Z"
   },
   {
    "duration": -16782,
    "start_time": "2022-03-07T16:20:53.668Z"
   },
   {
    "duration": -16787,
    "start_time": "2022-03-07T16:20:53.674Z"
   },
   {
    "duration": -16794,
    "start_time": "2022-03-07T16:20:53.682Z"
   },
   {
    "duration": -16798,
    "start_time": "2022-03-07T16:20:53.687Z"
   },
   {
    "duration": -16802,
    "start_time": "2022-03-07T16:20:53.692Z"
   },
   {
    "duration": -16808,
    "start_time": "2022-03-07T16:20:53.699Z"
   },
   {
    "duration": -16815,
    "start_time": "2022-03-07T16:20:53.707Z"
   },
   {
    "duration": -16905,
    "start_time": "2022-03-07T16:20:53.798Z"
   },
   {
    "duration": -16914,
    "start_time": "2022-03-07T16:20:53.808Z"
   },
   {
    "duration": -16921,
    "start_time": "2022-03-07T16:20:53.816Z"
   },
   {
    "duration": -16929,
    "start_time": "2022-03-07T16:20:53.825Z"
   },
   {
    "duration": -16933,
    "start_time": "2022-03-07T16:20:53.830Z"
   },
   {
    "duration": -16937,
    "start_time": "2022-03-07T16:20:53.835Z"
   },
   {
    "duration": -16941,
    "start_time": "2022-03-07T16:20:53.840Z"
   },
   {
    "duration": -16945,
    "start_time": "2022-03-07T16:20:53.845Z"
   },
   {
    "duration": 1116,
    "start_time": "2022-03-07T16:22:39.905Z"
   },
   {
    "duration": 530,
    "start_time": "2022-03-07T16:22:41.023Z"
   },
   {
    "duration": 419,
    "start_time": "2022-03-07T16:22:41.556Z"
   },
   {
    "duration": 91,
    "start_time": "2022-03-07T16:22:41.976Z"
   },
   {
    "duration": 53,
    "start_time": "2022-03-07T16:22:42.069Z"
   },
   {
    "duration": 85,
    "start_time": "2022-03-07T16:22:42.124Z"
   },
   {
    "duration": 8,
    "start_time": "2022-03-07T16:22:42.211Z"
   },
   {
    "duration": 123,
    "start_time": "2022-03-07T16:22:42.223Z"
   },
   {
    "duration": 20,
    "start_time": "2022-03-07T16:22:42.349Z"
   },
   {
    "duration": 44,
    "start_time": "2022-03-07T16:22:42.370Z"
   },
   {
    "duration": 23,
    "start_time": "2022-03-07T16:22:42.416Z"
   },
   {
    "duration": 31,
    "start_time": "2022-03-07T16:22:42.441Z"
   },
   {
    "duration": 34,
    "start_time": "2022-03-07T16:22:42.473Z"
   },
   {
    "duration": 27,
    "start_time": "2022-03-07T16:22:42.508Z"
   },
   {
    "duration": 3,
    "start_time": "2022-03-07T16:22:42.537Z"
   },
   {
    "duration": 16,
    "start_time": "2022-03-07T16:22:42.542Z"
   },
   {
    "duration": 24,
    "start_time": "2022-03-07T16:22:42.560Z"
   },
   {
    "duration": 29,
    "start_time": "2022-03-07T16:22:42.586Z"
   },
   {
    "duration": 351,
    "start_time": "2022-03-07T16:22:42.617Z"
   },
   {
    "duration": -16567,
    "start_time": "2022-03-07T16:22:59.538Z"
   },
   {
    "duration": -16574,
    "start_time": "2022-03-07T16:22:59.546Z"
   },
   {
    "duration": -16580,
    "start_time": "2022-03-07T16:22:59.553Z"
   },
   {
    "duration": -16586,
    "start_time": "2022-03-07T16:22:59.560Z"
   },
   {
    "duration": -16592,
    "start_time": "2022-03-07T16:22:59.567Z"
   },
   {
    "duration": -16596,
    "start_time": "2022-03-07T16:22:59.572Z"
   },
   {
    "duration": -16599,
    "start_time": "2022-03-07T16:22:59.576Z"
   },
   {
    "duration": -16616,
    "start_time": "2022-03-07T16:22:59.594Z"
   },
   {
    "duration": -16621,
    "start_time": "2022-03-07T16:22:59.600Z"
   },
   {
    "duration": -16628,
    "start_time": "2022-03-07T16:22:59.608Z"
   },
   {
    "duration": -16631,
    "start_time": "2022-03-07T16:22:59.612Z"
   },
   {
    "duration": -16637,
    "start_time": "2022-03-07T16:22:59.619Z"
   },
   {
    "duration": -16642,
    "start_time": "2022-03-07T16:22:59.624Z"
   },
   {
    "duration": -16649,
    "start_time": "2022-03-07T16:22:59.632Z"
   },
   {
    "duration": -16653,
    "start_time": "2022-03-07T16:22:59.637Z"
   },
   {
    "duration": -16658,
    "start_time": "2022-03-07T16:22:59.643Z"
   },
   {
    "duration": -16661,
    "start_time": "2022-03-07T16:22:59.647Z"
   },
   {
    "duration": -16666,
    "start_time": "2022-03-07T16:22:59.653Z"
   },
   {
    "duration": 3,
    "start_time": "2022-03-07T16:23:45.830Z"
   },
   {
    "duration": 5,
    "start_time": "2022-03-07T16:23:47.332Z"
   },
   {
    "duration": 13,
    "start_time": "2022-03-07T16:24:19.199Z"
   },
   {
    "duration": 248,
    "start_time": "2022-03-07T16:32:35.096Z"
   },
   {
    "duration": 1169,
    "start_time": "2022-03-07T16:33:50.055Z"
   },
   {
    "duration": 520,
    "start_time": "2022-03-07T16:33:51.226Z"
   },
   {
    "duration": 424,
    "start_time": "2022-03-07T16:33:51.748Z"
   },
   {
    "duration": 89,
    "start_time": "2022-03-07T16:33:52.174Z"
   },
   {
    "duration": 51,
    "start_time": "2022-03-07T16:33:52.265Z"
   },
   {
    "duration": 78,
    "start_time": "2022-03-07T16:33:52.318Z"
   },
   {
    "duration": 8,
    "start_time": "2022-03-07T16:33:52.397Z"
   },
   {
    "duration": 110,
    "start_time": "2022-03-07T16:33:52.408Z"
   },
   {
    "duration": 19,
    "start_time": "2022-03-07T16:33:52.520Z"
   },
   {
    "duration": 55,
    "start_time": "2022-03-07T16:33:52.541Z"
   },
   {
    "duration": 24,
    "start_time": "2022-03-07T16:33:52.598Z"
   },
   {
    "duration": 16,
    "start_time": "2022-03-07T16:33:52.624Z"
   },
   {
    "duration": 8,
    "start_time": "2022-03-07T16:33:52.659Z"
   },
   {
    "duration": 18,
    "start_time": "2022-03-07T16:33:52.668Z"
   },
   {
    "duration": 4,
    "start_time": "2022-03-07T16:33:52.688Z"
   },
   {
    "duration": 4,
    "start_time": "2022-03-07T16:33:52.694Z"
   },
   {
    "duration": 7,
    "start_time": "2022-03-07T16:33:52.700Z"
   },
   {
    "duration": 51,
    "start_time": "2022-03-07T16:33:52.709Z"
   },
   {
    "duration": 20,
    "start_time": "2022-03-07T16:33:52.762Z"
   },
   {
    "duration": 3,
    "start_time": "2022-03-07T16:33:52.784Z"
   },
   {
    "duration": 6,
    "start_time": "2022-03-07T16:33:52.789Z"
   },
   {
    "duration": 556,
    "start_time": "2022-03-07T16:33:52.796Z"
   },
   {
    "duration": 13,
    "start_time": "2022-03-07T16:33:53.355Z"
   },
   {
    "duration": 29,
    "start_time": "2022-03-07T16:33:53.370Z"
   },
   {
    "duration": 335,
    "start_time": "2022-03-07T16:33:53.401Z"
   },
   {
    "duration": 323,
    "start_time": "2022-03-07T16:33:53.738Z"
   },
   {
    "duration": 321,
    "start_time": "2022-03-07T16:33:54.063Z"
   },
   {
    "duration": 27,
    "start_time": "2022-03-07T16:33:54.385Z"
   },
   {
    "duration": 17,
    "start_time": "2022-03-07T16:33:54.414Z"
   },
   {
    "duration": 564,
    "start_time": "2022-03-07T16:33:54.432Z"
   },
   {
    "duration": 616,
    "start_time": "2022-03-07T16:33:54.999Z"
   },
   {
    "duration": 379,
    "start_time": "2022-03-07T16:33:55.617Z"
   },
   {
    "duration": 19,
    "start_time": "2022-03-07T16:33:55.998Z"
   },
   {
    "duration": 328,
    "start_time": "2022-03-07T16:33:56.019Z"
   },
   {
    "duration": 23,
    "start_time": "2022-03-07T16:33:56.349Z"
   },
   {
    "duration": 396,
    "start_time": "2022-03-07T16:33:56.374Z"
   },
   {
    "duration": 5,
    "start_time": "2022-03-07T16:33:56.772Z"
   },
   {
    "duration": 16,
    "start_time": "2022-03-07T16:33:56.779Z"
   },
   {
    "duration": 324,
    "start_time": "2022-03-07T16:43:39.815Z"
   },
   {
    "duration": 116,
    "start_time": "2022-03-07T16:47:38.904Z"
   },
   {
    "duration": 1140,
    "start_time": "2022-03-07T16:49:51.495Z"
   },
   {
    "duration": 514,
    "start_time": "2022-03-07T16:49:52.636Z"
   },
   {
    "duration": 413,
    "start_time": "2022-03-07T16:49:53.152Z"
   },
   {
    "duration": 65,
    "start_time": "2022-03-07T16:49:53.567Z"
   },
   {
    "duration": 72,
    "start_time": "2022-03-07T16:49:53.634Z"
   },
   {
    "duration": 77,
    "start_time": "2022-03-07T16:49:53.707Z"
   },
   {
    "duration": 9,
    "start_time": "2022-03-07T16:49:53.786Z"
   },
   {
    "duration": 110,
    "start_time": "2022-03-07T16:49:53.799Z"
   },
   {
    "duration": 13,
    "start_time": "2022-03-07T16:49:53.911Z"
   },
   {
    "duration": 57,
    "start_time": "2022-03-07T16:49:53.925Z"
   },
   {
    "duration": 25,
    "start_time": "2022-03-07T16:49:53.984Z"
   },
   {
    "duration": 16,
    "start_time": "2022-03-07T16:49:54.011Z"
   },
   {
    "duration": 30,
    "start_time": "2022-03-07T16:49:54.029Z"
   },
   {
    "duration": 18,
    "start_time": "2022-03-07T16:49:54.061Z"
   },
   {
    "duration": 4,
    "start_time": "2022-03-07T16:49:54.081Z"
   },
   {
    "duration": 12,
    "start_time": "2022-03-07T16:49:54.087Z"
   },
   {
    "duration": 8,
    "start_time": "2022-03-07T16:49:54.101Z"
   },
   {
    "duration": 21,
    "start_time": "2022-03-07T16:49:54.111Z"
   },
   {
    "duration": 39,
    "start_time": "2022-03-07T16:49:54.134Z"
   },
   {
    "duration": 3,
    "start_time": "2022-03-07T16:49:54.175Z"
   },
   {
    "duration": 6,
    "start_time": "2022-03-07T16:49:54.180Z"
   },
   {
    "duration": 559,
    "start_time": "2022-03-07T16:49:54.187Z"
   },
   {
    "duration": 17,
    "start_time": "2022-03-07T16:49:54.749Z"
   },
   {
    "duration": 30,
    "start_time": "2022-03-07T16:49:54.768Z"
   },
   {
    "duration": 341,
    "start_time": "2022-03-07T16:49:54.799Z"
   },
   {
    "duration": 330,
    "start_time": "2022-03-07T16:49:55.142Z"
   },
   {
    "duration": 328,
    "start_time": "2022-03-07T16:49:55.474Z"
   },
   {
    "duration": 26,
    "start_time": "2022-03-07T16:49:55.803Z"
   },
   {
    "duration": 32,
    "start_time": "2022-03-07T16:49:55.831Z"
   },
   {
    "duration": 544,
    "start_time": "2022-03-07T16:49:55.865Z"
   },
   {
    "duration": 605,
    "start_time": "2022-03-07T16:49:56.411Z"
   },
   {
    "duration": 397,
    "start_time": "2022-03-07T16:49:57.018Z"
   },
   {
    "duration": 21,
    "start_time": "2022-03-07T16:49:57.417Z"
   },
   {
    "duration": 350,
    "start_time": "2022-03-07T16:49:57.439Z"
   },
   {
    "duration": 18,
    "start_time": "2022-03-07T16:49:57.790Z"
   },
   {
    "duration": 411,
    "start_time": "2022-03-07T16:49:57.809Z"
   },
   {
    "duration": 6,
    "start_time": "2022-03-07T16:49:58.221Z"
   },
   {
    "duration": 11,
    "start_time": "2022-03-07T16:49:58.228Z"
   },
   {
    "duration": 339,
    "start_time": "2022-03-07T16:49:58.241Z"
   }
  ],
  "kernelspec": {
   "display_name": "Python 3",
   "language": "python",
   "name": "python3"
  },
  "language_info": {
   "codemirror_mode": {
    "name": "ipython",
    "version": 3
   },
   "file_extension": ".py",
   "mimetype": "text/x-python",
   "name": "python",
   "nbconvert_exporter": "python",
   "pygments_lexer": "ipython3",
   "version": "3.8.5"
  },
  "toc": {
   "base_numbering": 1,
   "nav_menu": {},
   "number_sections": true,
   "sideBar": true,
   "skip_h1_title": true,
   "title_cell": "Table of Contents",
   "title_sidebar": "Contents",
   "toc_cell": false,
   "toc_position": {
    "height": "calc(100% - 180px)",
    "left": "10px",
    "top": "150px",
    "width": "204.198px"
   },
   "toc_section_display": true,
   "toc_window_display": true
  }
 },
 "nbformat": 4,
 "nbformat_minor": 2
}
