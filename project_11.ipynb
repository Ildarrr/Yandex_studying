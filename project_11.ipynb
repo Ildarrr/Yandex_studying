{
 "cells": [
  {
   "cell_type": "markdown",
   "metadata": {},
   "source": [
    "# Выбор локации для скважины"
   ]
  },
  {
   "cell_type": "markdown",
   "metadata": {},
   "source": [
    "Допустим, вы работаете в добывающей компании «ГлавРосГосНефть». Нужно решить, где бурить новую скважину.\n",
    "\n",
    "Вам предоставлены пробы нефти в трёх регионах: в каждом 10 000 месторождений, где измерили качество нефти и объём её запасов. Постройте модель машинного обучения, которая поможет определить регион, где добыча принесёт наибольшую прибыль. Проанализируйте возможную прибыль и риски техникой *Bootstrap.*\n",
    "\n",
    "<b>Шаги для выбора локации:</b>\n",
    "\n",
    "- В избранном регионе ищут месторождения, для каждого определяют значения признаков;\n",
    "- Строят модель и оценивают объём запасов;\n",
    "- Выбирают месторождения с самым высокими оценками значений. Количество месторождений зависит от бюджета компании и стоимости разработки одной скважины;\n",
    "- Прибыль равна суммарной прибыли отобранных месторождений."
   ]
  },
  {
   "cell_type": "markdown",
   "metadata": {},
   "source": [
    "<b>Инструкция по выполнению проекта</b>\n",
    "\n",
    "- <b>1. Загрузите и подготовьте данные. Поясните порядок действий.</b>\n",
    "- <b>2. Обучите и проверьте модель для каждого региона:</b>\n",
    "- 2.1. Разбейте данные на обучающую и валидационную выборки в соотношении 75:25.\n",
    "- 2.2. Обучите модель и сделайте предсказания на валидационной выборке.\n",
    "- 2.3. Сохраните предсказания и правильные ответы на валидационной выборке.\n",
    "- 2.4. Напечатайте на экране средний запас предсказанного сырья и RMSE модели.\n",
    "- 2.5. Проанализируйте результаты.\n",
    "<br>\n",
    "<b>3. Подготовьтесь к расчёту прибыли:</b>\n",
    "- 3.1. Все ключевые значения для расчётов сохраните в отдельных переменных.\n",
    "- 3.2. Рассчитайте достаточный объём сырья для безубыточной разработки новой скважины. Сравните полученный объём сырья со средним запасом в каждом регионе.\n",
    "- 3.3. Напишите выводы по этапу подготовки расчёта прибыли.\n",
    "<br>\n",
    "<b>4. Напишите функцию для расчёта прибыли по выбранным скважинам и предсказаниям модели:</b>\n",
    "- 4.1. Выберите скважины с максимальными значениями предсказаний.\n",
    "- 4.2. Просуммируйте целевое значение объёма сырья, соответствующее этим предсказаниям.\n",
    "- 4.3. Рассчитайте прибыль для полученного объёма сырья.\n",
    "<br>\n",
    "<b>5. Посчитайте риски и прибыль для каждого региона:</b>\n",
    "- 5.1. Примените технику Bootstrap с 1000 выборок, чтобы найти распределение прибыли.\n",
    "- 5.2. Найдите среднюю прибыль, 95%-й доверительный интервал и риск убытков. Убыток — это отрицательная прибыль.\n",
    "- 5.3. Напишите выводы: предложите регион для разработки скважин и обоснуйте выбор."
   ]
  },
  {
   "cell_type": "markdown",
   "metadata": {},
   "source": [
    "## Загрузка и подготовка данных"
   ]
  },
  {
   "cell_type": "code",
   "execution_count": 1,
   "metadata": {},
   "outputs": [],
   "source": [
    "#подключим необходимые для работы библиотеки\n",
    "\n",
    "import pandas as pd\n",
    "import numpy as np\n",
    "import warnings\n",
    "warnings.simplefilter(\"ignore\")\n",
    "pd.options.display.float_format = '{:,.3f}'.format\n",
    "\n",
    "from sklearn.linear_model import LinearRegression\n",
    "from sklearn.model_selection import train_test_split \n",
    "from sklearn.metrics import mean_squared_error, r2_score, mean_absolute_error\n",
    "import matplotlib.pyplot as plt\n",
    "from scipy import stats as st\n",
    "from sklearn.preprocessing import StandardScaler"
   ]
  },
  {
   "cell_type": "code",
   "execution_count": 2,
   "metadata": {},
   "outputs": [],
   "source": [
    "#прочитаем исходные датафреймы\n",
    "\n",
    "try:\n",
    "    geo_data_0 = pd.read_csv('C:/Users/jnybfuvybtfgl kfolbl/mypythonworks/yandex/geo_data_0.csv', sep=',') \n",
    "    geo_data_1 = pd.read_csv('C:/Users/jnybfuvybtfgl kfolbl/mypythonworks/yandex/geo_data_1.csv', sep=',') \n",
    "    geo_data_2 = pd.read_csv('C:/Users/jnybfuvybtfgl kfolbl/mypythonworks/yandex/geo_data_2.csv', sep=',') \n",
    "except:\n",
    "    geo_data_0 = pd.read_csv('/datasets/geo_data_0.csv', sep=',')\n",
    "    geo_data_1 = pd.read_csv('/datasets/geo_data_1.csv', sep=',')\n",
    "    geo_data_2 = pd.read_csv('/datasets/geo_data_2.csv', sep=',')"
   ]
  },
  {
   "cell_type": "code",
   "execution_count": 3,
   "metadata": {},
   "outputs": [
    {
     "data": {
      "text/plain": [
       "'geo_data_0'"
      ]
     },
     "metadata": {},
     "output_type": "display_data"
    },
    {
     "name": "stdout",
     "output_type": "stream",
     "text": [
      "Первые 2 строки датафрейма:\n"
     ]
    },
    {
     "data": {
      "text/html": [
       "<div>\n",
       "<style scoped>\n",
       "    .dataframe tbody tr th:only-of-type {\n",
       "        vertical-align: middle;\n",
       "    }\n",
       "\n",
       "    .dataframe tbody tr th {\n",
       "        vertical-align: top;\n",
       "    }\n",
       "\n",
       "    .dataframe thead th {\n",
       "        text-align: right;\n",
       "    }\n",
       "</style>\n",
       "<table border=\"1\" class=\"dataframe\">\n",
       "  <thead>\n",
       "    <tr style=\"text-align: right;\">\n",
       "      <th></th>\n",
       "      <th>id</th>\n",
       "      <th>f0</th>\n",
       "      <th>f1</th>\n",
       "      <th>f2</th>\n",
       "      <th>product</th>\n",
       "    </tr>\n",
       "  </thead>\n",
       "  <tbody>\n",
       "    <tr>\n",
       "      <th>0</th>\n",
       "      <td>txEyH</td>\n",
       "      <td>0.706</td>\n",
       "      <td>-0.498</td>\n",
       "      <td>1.221</td>\n",
       "      <td>105.280</td>\n",
       "    </tr>\n",
       "    <tr>\n",
       "      <th>1</th>\n",
       "      <td>2acmU</td>\n",
       "      <td>1.335</td>\n",
       "      <td>-0.340</td>\n",
       "      <td>4.365</td>\n",
       "      <td>73.038</td>\n",
       "    </tr>\n",
       "  </tbody>\n",
       "</table>\n",
       "</div>"
      ],
      "text/plain": [
       "      id    f0     f1    f2  product\n",
       "0  txEyH 0.706 -0.498 1.221  105.280\n",
       "1  2acmU 1.335 -0.340 4.365   73.038"
      ]
     },
     "metadata": {},
     "output_type": "display_data"
    },
    {
     "name": "stdout",
     "output_type": "stream",
     "text": [
      "Основная информация о датафрейме:\n",
      "<class 'pandas.core.frame.DataFrame'>\n",
      "RangeIndex: 100000 entries, 0 to 99999\n",
      "Data columns (total 5 columns):\n",
      " #   Column   Non-Null Count   Dtype  \n",
      "---  ------   --------------   -----  \n",
      " 0   id       100000 non-null  object \n",
      " 1   f0       100000 non-null  float64\n",
      " 2   f1       100000 non-null  float64\n",
      " 3   f2       100000 non-null  float64\n",
      " 4   product  100000 non-null  float64\n",
      "dtypes: float64(4), object(1)\n",
      "memory usage: 3.8+ MB\n"
     ]
    },
    {
     "data": {
      "text/plain": [
       "None"
      ]
     },
     "metadata": {},
     "output_type": "display_data"
    },
    {
     "name": "stdout",
     "output_type": "stream",
     "text": [
      "Доля пропущенных данных в датафрейме:\n"
     ]
    },
    {
     "data": {
      "text/plain": [
       "id        0.000\n",
       "f0        0.000\n",
       "f1        0.000\n",
       "f2        0.000\n",
       "product   0.000\n",
       "dtype: float64"
      ]
     },
     "metadata": {},
     "output_type": "display_data"
    },
    {
     "name": "stdout",
     "output_type": "stream",
     "text": [
      "Количество дубликатов: \n"
     ]
    },
    {
     "data": {
      "text/plain": [
       "0"
      ]
     },
     "metadata": {},
     "output_type": "display_data"
    },
    {
     "data": {
      "text/plain": [
       "'geo_data_1'"
      ]
     },
     "metadata": {},
     "output_type": "display_data"
    },
    {
     "name": "stdout",
     "output_type": "stream",
     "text": [
      "Первые 2 строки датафрейма:\n"
     ]
    },
    {
     "data": {
      "text/html": [
       "<div>\n",
       "<style scoped>\n",
       "    .dataframe tbody tr th:only-of-type {\n",
       "        vertical-align: middle;\n",
       "    }\n",
       "\n",
       "    .dataframe tbody tr th {\n",
       "        vertical-align: top;\n",
       "    }\n",
       "\n",
       "    .dataframe thead th {\n",
       "        text-align: right;\n",
       "    }\n",
       "</style>\n",
       "<table border=\"1\" class=\"dataframe\">\n",
       "  <thead>\n",
       "    <tr style=\"text-align: right;\">\n",
       "      <th></th>\n",
       "      <th>id</th>\n",
       "      <th>f0</th>\n",
       "      <th>f1</th>\n",
       "      <th>f2</th>\n",
       "      <th>product</th>\n",
       "    </tr>\n",
       "  </thead>\n",
       "  <tbody>\n",
       "    <tr>\n",
       "      <th>0</th>\n",
       "      <td>kBEdx</td>\n",
       "      <td>-15.001</td>\n",
       "      <td>-8.276</td>\n",
       "      <td>-0.006</td>\n",
       "      <td>3.179</td>\n",
       "    </tr>\n",
       "    <tr>\n",
       "      <th>1</th>\n",
       "      <td>62mP7</td>\n",
       "      <td>14.272</td>\n",
       "      <td>-3.475</td>\n",
       "      <td>0.999</td>\n",
       "      <td>26.953</td>\n",
       "    </tr>\n",
       "  </tbody>\n",
       "</table>\n",
       "</div>"
      ],
      "text/plain": [
       "      id      f0     f1     f2  product\n",
       "0  kBEdx -15.001 -8.276 -0.006    3.179\n",
       "1  62mP7  14.272 -3.475  0.999   26.953"
      ]
     },
     "metadata": {},
     "output_type": "display_data"
    },
    {
     "name": "stdout",
     "output_type": "stream",
     "text": [
      "Основная информация о датафрейме:\n",
      "<class 'pandas.core.frame.DataFrame'>\n",
      "RangeIndex: 100000 entries, 0 to 99999\n",
      "Data columns (total 5 columns):\n",
      " #   Column   Non-Null Count   Dtype  \n",
      "---  ------   --------------   -----  \n",
      " 0   id       100000 non-null  object \n",
      " 1   f0       100000 non-null  float64\n",
      " 2   f1       100000 non-null  float64\n",
      " 3   f2       100000 non-null  float64\n",
      " 4   product  100000 non-null  float64\n",
      "dtypes: float64(4), object(1)\n",
      "memory usage: 3.8+ MB\n"
     ]
    },
    {
     "data": {
      "text/plain": [
       "None"
      ]
     },
     "metadata": {},
     "output_type": "display_data"
    },
    {
     "name": "stdout",
     "output_type": "stream",
     "text": [
      "Доля пропущенных данных в датафрейме:\n"
     ]
    },
    {
     "data": {
      "text/plain": [
       "id        0.000\n",
       "f0        0.000\n",
       "f1        0.000\n",
       "f2        0.000\n",
       "product   0.000\n",
       "dtype: float64"
      ]
     },
     "metadata": {},
     "output_type": "display_data"
    },
    {
     "name": "stdout",
     "output_type": "stream",
     "text": [
      "Количество дубликатов: \n"
     ]
    },
    {
     "data": {
      "text/plain": [
       "0"
      ]
     },
     "metadata": {},
     "output_type": "display_data"
    },
    {
     "data": {
      "text/plain": [
       "'geo_data_2'"
      ]
     },
     "metadata": {},
     "output_type": "display_data"
    },
    {
     "name": "stdout",
     "output_type": "stream",
     "text": [
      "Первые 2 строки датафрейма:\n"
     ]
    },
    {
     "data": {
      "text/html": [
       "<div>\n",
       "<style scoped>\n",
       "    .dataframe tbody tr th:only-of-type {\n",
       "        vertical-align: middle;\n",
       "    }\n",
       "\n",
       "    .dataframe tbody tr th {\n",
       "        vertical-align: top;\n",
       "    }\n",
       "\n",
       "    .dataframe thead th {\n",
       "        text-align: right;\n",
       "    }\n",
       "</style>\n",
       "<table border=\"1\" class=\"dataframe\">\n",
       "  <thead>\n",
       "    <tr style=\"text-align: right;\">\n",
       "      <th></th>\n",
       "      <th>id</th>\n",
       "      <th>f0</th>\n",
       "      <th>f1</th>\n",
       "      <th>f2</th>\n",
       "      <th>product</th>\n",
       "    </tr>\n",
       "  </thead>\n",
       "  <tbody>\n",
       "    <tr>\n",
       "      <th>0</th>\n",
       "      <td>fwXo0</td>\n",
       "      <td>-1.147</td>\n",
       "      <td>0.963</td>\n",
       "      <td>-0.829</td>\n",
       "      <td>27.759</td>\n",
       "    </tr>\n",
       "    <tr>\n",
       "      <th>1</th>\n",
       "      <td>WJtFt</td>\n",
       "      <td>0.263</td>\n",
       "      <td>0.270</td>\n",
       "      <td>-2.530</td>\n",
       "      <td>56.070</td>\n",
       "    </tr>\n",
       "  </tbody>\n",
       "</table>\n",
       "</div>"
      ],
      "text/plain": [
       "      id     f0    f1     f2  product\n",
       "0  fwXo0 -1.147 0.963 -0.829   27.759\n",
       "1  WJtFt  0.263 0.270 -2.530   56.070"
      ]
     },
     "metadata": {},
     "output_type": "display_data"
    },
    {
     "name": "stdout",
     "output_type": "stream",
     "text": [
      "Основная информация о датафрейме:\n",
      "<class 'pandas.core.frame.DataFrame'>\n",
      "RangeIndex: 100000 entries, 0 to 99999\n",
      "Data columns (total 5 columns):\n",
      " #   Column   Non-Null Count   Dtype  \n",
      "---  ------   --------------   -----  \n",
      " 0   id       100000 non-null  object \n",
      " 1   f0       100000 non-null  float64\n",
      " 2   f1       100000 non-null  float64\n",
      " 3   f2       100000 non-null  float64\n",
      " 4   product  100000 non-null  float64\n",
      "dtypes: float64(4), object(1)\n",
      "memory usage: 3.8+ MB\n"
     ]
    },
    {
     "data": {
      "text/plain": [
       "None"
      ]
     },
     "metadata": {},
     "output_type": "display_data"
    },
    {
     "name": "stdout",
     "output_type": "stream",
     "text": [
      "Доля пропущенных данных в датафрейме:\n"
     ]
    },
    {
     "data": {
      "text/plain": [
       "id        0.000\n",
       "f0        0.000\n",
       "f1        0.000\n",
       "f2        0.000\n",
       "product   0.000\n",
       "dtype: float64"
      ]
     },
     "metadata": {},
     "output_type": "display_data"
    },
    {
     "name": "stdout",
     "output_type": "stream",
     "text": [
      "Количество дубликатов: \n"
     ]
    },
    {
     "data": {
      "text/plain": [
       "0"
      ]
     },
     "metadata": {},
     "output_type": "display_data"
    }
   ],
   "source": [
    "#изучим основную информацию об исходных датафреймах\n",
    "\n",
    "dataframes = [geo_data_0, geo_data_1, geo_data_2]\n",
    "names = ['geo_data_0', 'geo_data_1', 'geo_data_2']\n",
    "\n",
    "count = -1\n",
    "for name in names:\n",
    "    count += 1\n",
    "    display(name)\n",
    "    print('Первые 2 строки датафрейма:')\n",
    "    display(dataframes[count].head(2))\n",
    "    print('Основная информация о датафрейме:')\n",
    "    display(dataframes[count].info())\n",
    "    print('Доля пропущенных данных в датафрейме:')\n",
    "    display(dataframes[count].isna().mean())\n",
    "    print('Количество дубликатов: ')\n",
    "    display(dataframes[count].duplicated().sum())"
   ]
  },
  {
   "cell_type": "markdown",
   "metadata": {},
   "source": [
    "<div class=\"alert alert-info\">\n",
    "<b>Комментарий студента:</b>\n",
    "<br>\n",
    "Прежде чем перейти к обучению и проверке модели удалим столбец 'id' из каждого датафрейма, т.к. он нам не пригодится в обучении.\n",
    "</div>"
   ]
  },
  {
   "cell_type": "code",
   "execution_count": 4,
   "metadata": {},
   "outputs": [],
   "source": [
    "#удаляем столбец 'id'\n",
    "\n",
    "geo_data_0 = geo_data_0.drop(['id'], axis=1)\n",
    "geo_data_1 = geo_data_1.drop(['id'], axis=1)\n",
    "geo_data_2 = geo_data_2.drop(['id'], axis=1)"
   ]
  },
  {
   "cell_type": "markdown",
   "metadata": {},
   "source": [
    "<div class=\"alert alert-info\">\n",
    "<b>Комментарий студента:</b>\n",
    "<br>\n",
    "Изучив исходные данные трех датафреймов можно сказать, что данные представлены в полном объеме, типы данных корректны. Также в представленных датафреймах уже имеется целевой признак - \"product\". \n",
    "</div>"
   ]
  },
  {
   "cell_type": "markdown",
   "metadata": {},
   "source": [
    "## Обучение и проверка модели"
   ]
  },
  {
   "cell_type": "markdown",
   "metadata": {},
   "source": [
    "<div class=\"alert alert-info\">\n",
    "<b>Комментарий студента:</b>\n",
    "<br>\n",
    "Так как у нас три датафрейма, напишем функцию для разделения датафреймов на обучающую и валидационную выборки.\n",
    "</div>"
   ]
  },
  {
   "cell_type": "code",
   "execution_count": 5,
   "metadata": {},
   "outputs": [],
   "source": [
    "def test_split(data, target):\n",
    "    features = data.drop([target], axis=1)\n",
    "    target = data[target]\n",
    "    \n",
    "    features_train, features_valid, target_train, target_valid = train_test_split(\n",
    "        features, target, test_size=0.25, random_state=12345)\n",
    "    \n",
    "    return features_train, features_valid, target_train, target_valid   "
   ]
  },
  {
   "cell_type": "code",
   "execution_count": 6,
   "metadata": {},
   "outputs": [
    {
     "name": "stdout",
     "output_type": "stream",
     "text": [
      "Размер обучающей выборки равен:  (25000, 3)\n",
      "Размер валидационной выборки равен:  (75000, 3)\n"
     ]
    }
   ],
   "source": [
    "# разделим датафрейм 'geo_data_0' на обучающую и валидационную выборки\n",
    "\n",
    "features_train_0, features_valid_0, target_train_0, target_valid_0 = test_split(geo_data_0, 'product')\n",
    "print('Размер обучающей выборки равен: ', features_valid_0.shape)\n",
    "print('Размер валидационной выборки равен: ', features_train_0.shape)"
   ]
  },
  {
   "cell_type": "code",
   "execution_count": 7,
   "metadata": {},
   "outputs": [
    {
     "name": "stdout",
     "output_type": "stream",
     "text": [
      "Размер обучающей выборки равен:  (25000, 3)\n",
      "Размер валидационной выборки равен:  (75000, 3)\n"
     ]
    }
   ],
   "source": [
    "# разделим датафрейм 'geo_data_1' на обучающую и валидационную выборки\n",
    "\n",
    "features_train_1, features_valid_1, target_train_1, target_valid_1 = test_split(geo_data_1, 'product')\n",
    "print('Размер обучающей выборки равен: ', features_valid_1.shape)\n",
    "print('Размер валидационной выборки равен: ', features_train_1.shape)"
   ]
  },
  {
   "cell_type": "code",
   "execution_count": 8,
   "metadata": {},
   "outputs": [
    {
     "name": "stdout",
     "output_type": "stream",
     "text": [
      "Размер обучающей выборки равен:  (25000, 3)\n",
      "Размер валидационной выборки равен:  (75000, 3)\n"
     ]
    }
   ],
   "source": [
    "# разделим датафрейм 'geo_data_2' на обучающую и валидационную выборки\n",
    "\n",
    "features_train_2, features_valid_2, target_train_2, target_valid_2 = test_split(geo_data_2, 'product')\n",
    "print('Размер обучающей выборки равен: ', features_valid_2.shape)\n",
    "print('Размер валидационной выборки равен: ', features_train_2.shape)"
   ]
  },
  {
   "cell_type": "markdown",
   "metadata": {},
   "source": [
    "<div class=\"alert alert-info\">\n",
    "<b>Комментарий студента:</b>\n",
    "<br>\n",
    "Далее проведем масштабирование признаков с помощью их стандартизации, кроме целевого признака 'product'.\n",
    "</div>"
   ]
  },
  {
   "cell_type": "code",
   "execution_count": 9,
   "metadata": {},
   "outputs": [],
   "source": [
    "#напишем функцию для масштабирования\n",
    "\n",
    "def scale(features_train, features_valid):\n",
    "\n",
    "    numeric = ['f0', 'f1', 'f2']\n",
    "\n",
    "    scaler = StandardScaler()\n",
    "    scaler.fit(features_train[numeric]) \n",
    "\n",
    "    features_train[numeric] = scaler.transform(features_train[numeric])\n",
    "    features_valid[numeric]= scaler.transform(features_valid[numeric]) \n",
    "    \n",
    "    return features_train, features_valid"
   ]
  },
  {
   "cell_type": "code",
   "execution_count": 10,
   "metadata": {},
   "outputs": [],
   "source": [
    "#применим функцию к выборкам с признаками\n",
    "\n",
    "features_train_0_scale, features_valid_0_scale = scale(features_train_0, features_valid_0)\n",
    "\n",
    "features_train_1_scale, features_valid_1_scale = scale(features_train_1, features_valid_1)\n",
    "\n",
    "features_train_2_scale, features_valid_2_scale = scale(features_train_2, features_valid_2)"
   ]
  },
  {
   "cell_type": "markdown",
   "metadata": {},
   "source": [
    "<div class=\"alert alert-info\">\n",
    "<b>Комментарий студента:</b>\n",
    "<br>\n",
    "Теперь можно перейти к обучению модели линейной регрессии.\n",
    "</div>"
   ]
  },
  {
   "cell_type": "code",
   "execution_count": 11,
   "metadata": {},
   "outputs": [],
   "source": [
    "model = LinearRegression()\n",
    "\n",
    "def predict(features_train, target_train, features_valid, target_valid):\n",
    "    \n",
    "    model.fit(features_train, target_train)\n",
    "    \n",
    "    predicted_valid = model.predict(features_valid)\n",
    "    \n",
    "    mse = mean_squared_error(target_valid, predicted_valid)\n",
    "    rmse = mean_squared_error(target_valid, predicted_valid)**0.5\n",
    "    \n",
    "    data = {'init_product': target_valid,\n",
    "            'predicted_product': predicted_valid}\n",
    "    \n",
    "    dataframe = pd.DataFrame(data, columns = ['init_product', 'predicted_product'])\n",
    "    mean_predicted_product = dataframe['predicted_product'].mean()\n",
    "    \n",
    "    return dataframe, rmse, mean_predicted_product"
   ]
  },
  {
   "cell_type": "code",
   "execution_count": 12,
   "metadata": {},
   "outputs": [
    {
     "name": "stdout",
     "output_type": "stream",
     "text": [
      "       init_product  predicted_product\n",
      "71751        10.039             95.895\n",
      "80493       114.551             77.573\n",
      "2655        132.604             77.893\n",
      "53233       169.072             90.175\n",
      "91141       122.325             70.510\n",
      "Средний запас предсказанного сырья в первом регионе, тыс.баррелей: 92.593\n",
      "Средний запас начального сырья в первом регионе, тыс.баррелей: 92.079\n",
      "RMSE модели: 37.579\n"
     ]
    }
   ],
   "source": [
    "#применим функцию к выборкам с признаками и целевым признаком для датафрейма \"geo_data_0\"\n",
    "\n",
    "geo_data_0_predicted, geo_data_0_rmse, geo_data_0_predicted_mean = predict(\n",
    "    features_train_0_scale, target_train_0, features_valid_0_scale, target_valid_0)\n",
    "\n",
    "print(geo_data_0_predicted.head())\n",
    "print(\"Средний запас предсказанного сырья в первом регионе, тыс.баррелей: {:.3f}\".format(geo_data_0_predicted_mean))\n",
    "print(\"Средний запас начального сырья в первом регионе, тыс.баррелей: {:.3f}\".format((geo_data_0_predicted['init_product'].mean())))\n",
    "print(\"RMSE модели: {:.3f}\".format(geo_data_0_rmse))"
   ]
  },
  {
   "cell_type": "code",
   "execution_count": 13,
   "metadata": {},
   "outputs": [
    {
     "name": "stdout",
     "output_type": "stream",
     "text": [
      "       init_product  predicted_product\n",
      "71751        80.860             82.663\n",
      "80493        53.907             54.432\n",
      "2655         30.132             29.749\n",
      "53233        53.907             53.552\n",
      "91141         0.000              1.244\n",
      "Средний запас предсказанного сырья во втором регионе, тыс.баррелей: 68.729\n",
      "Средний запас начального сырья во втором регионе, тыс.баррелей: 68.723\n",
      "RMSE модели: 0.893\n"
     ]
    }
   ],
   "source": [
    "#применим функцию к выборкам с признаками и целевым признаком для датафрейма \"geo_data_1\"\n",
    "\n",
    "geo_data_1_predicted, geo_data_1_rmse, geo_data_1_predicted_mean = predict(\n",
    "    features_train_1_scale, target_train_1, features_valid_1_scale, target_valid_1)\n",
    "\n",
    "print(geo_data_1_predicted.head())\n",
    "print(\"Средний запас предсказанного сырья во втором регионе, тыс.баррелей: {:.3f}\".format(geo_data_1_predicted_mean))\n",
    "print(\"Средний запас начального сырья во втором регионе, тыс.баррелей: {:.3f}\".format((geo_data_1_predicted['init_product'].mean())))\n",
    "print(\"RMSE модели: {:.3f}\".format(geo_data_1_rmse))"
   ]
  },
  {
   "cell_type": "code",
   "execution_count": 14,
   "metadata": {},
   "outputs": [
    {
     "name": "stdout",
     "output_type": "stream",
     "text": [
      "       init_product  predicted_product\n",
      "71751        61.212             93.600\n",
      "80493        41.850             75.105\n",
      "2655         57.777             90.067\n",
      "53233       100.054            105.162\n",
      "91141       109.897            115.303\n",
      "Средний запас предсказанного сырья в третьем регионе, тыс.баррелей: 94.965\n",
      "Средний запас начального сырья в третьем регионе, тыс.баррелей: 94.884\n",
      "RMSE модели: 40.030\n"
     ]
    }
   ],
   "source": [
    "#применим функцию к выборкам с признаками и целевым признаком для датафрейма \"geo_data_2\"\n",
    "\n",
    "geo_data_2_predicted, geo_data_2_rmse, geo_data_2_predicted_mean = predict(\n",
    "    features_train_2_scale, target_train_2, features_valid_2_scale, target_valid_2)\n",
    "\n",
    "print(geo_data_2_predicted.head())\n",
    "print(\"Средний запас предсказанного сырья в третьем регионе, тыс.баррелей: {:.3f}\".format(geo_data_2_predicted_mean))\n",
    "print(\"Средний запас начального сырья в третьем регионе, тыс.баррелей: {:.3f}\".format((geo_data_2_predicted['init_product'].mean())))\n",
    "print(\"RMSE модели: {:.3f}\".format(geo_data_2_rmse))"
   ]
  },
  {
   "cell_type": "code",
   "execution_count": 15,
   "metadata": {},
   "outputs": [
    {
     "name": "stdout",
     "output_type": "stream",
     "text": [
      "Суммарный запас начального сырья в первом регионе, тыс.баррелей: 2301964.919\n",
      "Суммарный запас предсказанного сырья в первом регионе, тыс.баррелей: 2314814.195\n",
      "\n",
      "Суммарный запас начального сырья во втором регионе, тыс.баррелей: 1718078.401\n",
      "Суммарный запас предсказанного сырья во втором регионе, тыс.баррелей: 1718213.672\n",
      "\n",
      "Суммарный запас начального сырья в третьем регионе, тыс.баррелей: 2372105.820\n",
      "Суммарный запас предсказанного сырья в третьем регионе, тыс.баррелей: 2374126.149\n"
     ]
    }
   ],
   "source": [
    "# также сравним суммарные запасы сырья исходные и предсказанные\n",
    "\n",
    "print(\"Суммарный запас начального сырья в первом регионе, тыс.баррелей: {:.3f}\".format(geo_data_0_predicted['init_product'].sum()))\n",
    "print(\"Суммарный запас предсказанного сырья в первом регионе, тыс.баррелей: {:.3f}\\n\".format(geo_data_0_predicted['predicted_product'].sum()))\n",
    "\n",
    "print(\"Суммарный запас начального сырья во втором регионе, тыс.баррелей: {:.3f}\".format(geo_data_1_predicted['init_product'].sum()))\n",
    "print(\"Суммарный запас предсказанного сырья во втором регионе, тыс.баррелей: {:.3f}\\n\".format(geo_data_1_predicted['predicted_product'].sum()))\n",
    "\n",
    "print(\"Суммарный запас начального сырья в третьем регионе, тыс.баррелей: {:.3f}\".format(geo_data_2_predicted['init_product'].sum()))\n",
    "print(\"Суммарный запас предсказанного сырья в третьем регионе, тыс.баррелей: {:.3f}\".format(geo_data_2_predicted['predicted_product'].sum()))"
   ]
  },
  {
   "cell_type": "markdown",
   "metadata": {},
   "source": [
    "<div class=\"alert alert-info\">\n",
    "<b>Комментарий студента:</b>\n",
    "<br>\n",
    "Как можно заметить по данным, приведенным выше, предсказания по регионам получаются достаточно точными. Что касается показателя средний предсказанный запас сырья, то он наибольший в регионе №3, затем идет регион под №1 и №2. А вот показатель RMSE наименьший в регионе №2, причем значение аномально низкое, похоже на то, что данные были выведены исскусственно либо модель переобучилась, затем идет показатель RMSE региона №1 и №3. Далее перейдем к подготовке данных к расчету прибыли.\n",
    "</div>"
   ]
  },
  {
   "cell_type": "markdown",
   "metadata": {},
   "source": [
    "## Подготовка к расчёту прибыли"
   ]
  },
  {
   "cell_type": "markdown",
   "metadata": {},
   "source": [
    "Подготовьтесь к расчёту прибыли:\n",
    "3.1. Все ключевые значения для расчётов сохраните в отдельных переменных.\n",
    "3.2. Рассчитайте достаточный объём сырья для безубыточной разработки новой скважины. Сравните полученный объём сырья со средним запасом в каждом регионе.\n",
    "3.3. Напишите выводы по этапу подготовки расчёта прибыли."
   ]
  },
  {
   "cell_type": "markdown",
   "metadata": {},
   "source": [
    "<div class=\"alert alert-info\">\n",
    "<b>Комментарий студента:</b>\n",
    "<br>\n",
    "Для начала создадим отдельные переменные для ключевых значений экономических показателей. Т.к. у нас по условию доход с каждой единицы продукта составляет 450 тыс. рублей и объём указан в тысячах баррелей, бюджет в 10 млрд рублей представим как 10 млн рублей, таким образом сократив значения на тысячу.\n",
    "</div>"
   ]
  },
  {
   "cell_type": "code",
   "execution_count": 16,
   "metadata": {},
   "outputs": [],
   "source": [
    "# вводим переменные для экономического расчета\n",
    "budget = 1e+07\n",
    "reseacrh_points = 500\n",
    "selection_points = 200\n",
    "price_per_barrel = 450"
   ]
  },
  {
   "cell_type": "markdown",
   "metadata": {},
   "source": [
    "<div class=\"alert alert-info\">\n",
    "<b>Комментарий студента:</b>\n",
    "<br>\n",
    "Перейдем к расчету достаточного объёма сырья для безубыточной разработки новой скважины и сравним полученный объём сырья со средним запасом в каждом регионе.\n",
    "</div>"
   ]
  },
  {
   "cell_type": "code",
   "execution_count": 17,
   "metadata": {},
   "outputs": [
    {
     "name": "stdout",
     "output_type": "stream",
     "text": [
      "Затраты на одну отобранную скважину, тыс.руб.: 50000\n",
      "Объем нефти на новой скважине для безубыточной разработки, тыс.баррелей: 111\n",
      "Объем нефти в регионе для безубыточной разработки, тыс.баррелей: 22222\n"
     ]
    }
   ],
   "source": [
    "#для начала рассчитаем затраты на одну отобранную скважину\n",
    "\n",
    "profit_per_point = budget / selection_points\n",
    "print(\"Затраты на одну отобранную скважину, тыс.руб.: {:.0f}\".format(profit_per_point))\n",
    "\n",
    "#далее рассчитаем объем нефти на новой скважине для безубыточной разработки\n",
    "\n",
    "barrels_per_point = profit_per_point / price_per_barrel\n",
    "print(\"Объем нефти на новой скважине для безубыточной разработки, тыс.баррелей: {:.0f}\".format(barrels_per_point))\n",
    "\n",
    "#также рассчитаем объем нефти в регионе для безубыточной разработки\n",
    "\n",
    "barrels_region = budget / price_per_barrel\n",
    "print(\"Объем нефти в регионе для безубыточной разработки, тыс.баррелей: {:.0f}\".format(barrels_region))"
   ]
  },
  {
   "cell_type": "code",
   "execution_count": 18,
   "metadata": {},
   "outputs": [
    {
     "name": "stdout",
     "output_type": "stream",
     "text": [
      "Средний запас начального сырья в первом регионе на одну скважину, тыс.баррелей: 92.079\n",
      "Средний запас начального сырья во втором регионе на одну скважину, тыс.баррелей: 68.723\n",
      "Средний запас начального сырья в третьем регионе на одну скважину, тыс.баррелей: 94.884\n"
     ]
    }
   ],
   "source": [
    "#далее посмотрим какое количество фактического сырья приходится в среднем на скважину в каждом регионе\n",
    "\n",
    "print(\"Средний запас начального сырья в первом регионе на одну скважину, тыс.баррелей: {:.3f}\".\n",
    "      format(geo_data_0_predicted['init_product'].mean()))\n",
    "\n",
    "print(\"Средний запас начального сырья во втором регионе на одну скважину, тыс.баррелей: {:.3f}\".\n",
    "      format(geo_data_1_predicted['init_product'].mean()))\n",
    "\n",
    "print(\"Средний запас начального сырья в третьем регионе на одну скважину, тыс.баррелей: {:.3f}\".\n",
    "      format(geo_data_2_predicted['init_product'].mean()))"
   ]
  },
  {
   "cell_type": "code",
   "execution_count": 19,
   "metadata": {},
   "outputs": [],
   "source": [
    "#также напишем функцию для расчета прибыли на 500 исследуемых точках\n",
    "\n",
    "def profit_calc(target, probabilities, count):\n",
    "    probs_sorted = probabilities.sort_values(ascending=False)\n",
    "    selected = target[probs_sorted.index][:count]\n",
    "    return price_per_barrel * selected.sum() - budget"
   ]
  },
  {
   "cell_type": "markdown",
   "metadata": {},
   "source": [
    "<div class=\"alert alert-info\">\n",
    "<b>Комментарий студента:</b>\n",
    "<br>\n",
    "Мы получили достаточно высокое значение объема нефти на новой скважине для безубыточной добычи сырья - 111 тыс. баррелей. Однако если смотреть на наши средние значения запасов начального сырья в каждом регионе, то оно меньше полученного значения. Но опять же у нас были получены средние значения, то есть в регионе есть скважины, запасы по которым как больше, так и меньше среднего значения. Больше всего запасов на одну скважину приходится в тртеьем регионе, затем идет первый регион. Во втором регионе запасов на одну скважину явно меньше.\n",
    "</div>"
   ]
  },
  {
   "cell_type": "markdown",
   "metadata": {},
   "source": [
    "## Расчёт прибыли и рисков "
   ]
  },
  {
   "cell_type": "markdown",
   "metadata": {},
   "source": [
    "<div class=\"alert alert-info\">\n",
    "<b>Комментарий студента:</b>\n",
    "<br>\n",
    "Для начала напишем функцию для проведения бутстрепа на 3 регионах.\n",
    "</div>"
   ]
  },
  {
   "cell_type": "code",
   "execution_count": 20,
   "metadata": {},
   "outputs": [],
   "source": [
    "state = np.random.RandomState(12345)\n",
    "\n",
    "def bootstrap(target, probs):\n",
    "    values=[]\n",
    "    lost = 0\n",
    "    for i in range(1000):\n",
    "        target_subsample = target.sample(n=reseacrh_points, replace=True, random_state=state)\n",
    "        probs_subsample = probs[target_subsample.index]\n",
    "        profit = profit_calc(target, probs_subsample, selection_points)\n",
    "        if profit < 0:\n",
    "            lost +=1\n",
    "        values.append(profit)\n",
    "    \n",
    "    values = pd.Series(values)\n",
    "    lower = values.quantile(0.025)\n",
    "    upper = values.quantile(0.975)\n",
    "    mean = values.mean()\n",
    "    risk = lost / 1000\n",
    "    return mean, lower, upper, risk"
   ]
  },
  {
   "cell_type": "code",
   "execution_count": 21,
   "metadata": {},
   "outputs": [
    {
     "name": "stdout",
     "output_type": "stream",
     "text": [
      "Средняя прибыль по первому региону, тыс.руб.: 396164.98\n",
      "95% доверительный интервал от -111215.55 до 909766.94 тыс.руб.\n",
      "Процент риска: 6.90%\n"
     ]
    }
   ],
   "source": [
    "#рассчитаем прибыль и риски по первому региону\n",
    "\n",
    "mean_0, lower_0, upper_0, risk_0 = bootstrap(\n",
    "                                                geo_data_0_predicted['init_product'], \n",
    "                                                geo_data_0_predicted['predicted_product'])\n",
    "\n",
    "print('Средняя прибыль по первому региону, тыс.руб.: {:.2f}'.format(mean_0))\n",
    "print('95% доверительный интервал от {:.2f} до {:.2f} тыс.руб.'.format(lower_0, upper_0))\n",
    "print('Процент риска: {:.2%}'.format(risk_0))"
   ]
  },
  {
   "cell_type": "code",
   "execution_count": 22,
   "metadata": {},
   "outputs": [
    {
     "name": "stdout",
     "output_type": "stream",
     "text": [
      "Средняя прибыль по второму региону, тыс.руб.: 461155.82\n",
      "95% доверительный интервал от 78050.81 до 862952.06 тыс.руб.\n",
      "Процент риска: 0.70%\n"
     ]
    }
   ],
   "source": [
    "#рассчитаем прибыль и риски по второму региону\n",
    "\n",
    "mean_1, lower_1, upper_1, risk_1 = bootstrap(\n",
    "                                                geo_data_1_predicted['init_product'], \n",
    "                                                geo_data_1_predicted['predicted_product'])\n",
    "\n",
    "print('Средняя прибыль по второму региону, тыс.руб.: {:.2f}'.format(mean_1))\n",
    "print('95% доверительный интервал от {:.2f} до {:.2f} тыс.руб.'.format(lower_1, upper_1))\n",
    "print('Процент риска: {:.2%}'.format(risk_1))"
   ]
  },
  {
   "cell_type": "code",
   "execution_count": 23,
   "metadata": {},
   "outputs": [
    {
     "name": "stdout",
     "output_type": "stream",
     "text": [
      "Средняя прибыль по третьему региону, тыс.руб.: 392950.48\n",
      "95% доверительный интервал от -112227.63 до 934562.91 тыс.руб.\n",
      "Процент риска: 6.50%\n"
     ]
    }
   ],
   "source": [
    "#рассчитаем прибыль и риски по третьему региону\n",
    "\n",
    "mean_2, lower_2, upper_2, risk_2 = bootstrap(\n",
    "                                                geo_data_2_predicted['init_product'], \n",
    "                                                geo_data_2_predicted['predicted_product'])\n",
    "\n",
    "print('Средняя прибыль по третьему региону, тыс.руб.: {:.2f}'.format(mean_2))\n",
    "print('95% доверительный интервал от {:.2f} до {:.2f} тыс.руб.'.format(lower_2, upper_2))\n",
    "print('Процент риска: {:.2%}'.format(risk_2))"
   ]
  },
  {
   "cell_type": "markdown",
   "metadata": {},
   "source": [
    "<div class=\"alert alert-info\">\n",
    "<b>Комментарий студента:</b>\n",
    "<br>\n",
    "После проведения всех расчетов нам удалось выяснить, что по вероятности убытков для дальнейшей разработки подходит только регион под номером 2. Вероятность убытков от неудачной разработки регионов 1 и 3 достаточно велика. Также 95%-ный доверительный интервал дает нам понять, что в любом случае при разработке скважин второго региона мы получаем прибыль.\n",
    "</div>"
   ]
  }
 ],
 "metadata": {
  "ExecuteTimeLog": [
   {
    "duration": 1745,
    "start_time": "2022-04-26T08:23:13.120Z"
   },
   {
    "duration": 1176,
    "start_time": "2022-04-28T08:29:13.965Z"
   },
   {
    "duration": 295,
    "start_time": "2022-04-28T08:46:24.606Z"
   },
   {
    "duration": 1554,
    "start_time": "2022-04-28T09:09:06.322Z"
   },
   {
    "duration": 224,
    "start_time": "2022-04-28T09:09:07.878Z"
   },
   {
    "duration": 10,
    "start_time": "2022-04-28T14:02:24.023Z"
   },
   {
    "duration": 14,
    "start_time": "2022-04-28T14:02:36.446Z"
   },
   {
    "duration": 16,
    "start_time": "2022-04-28T14:03:31.817Z"
   },
   {
    "duration": 7,
    "start_time": "2022-04-28T14:03:39.086Z"
   },
   {
    "duration": 13,
    "start_time": "2022-04-28T14:03:39.295Z"
   },
   {
    "duration": 4,
    "start_time": "2022-04-28T14:03:43.785Z"
   },
   {
    "duration": 390,
    "start_time": "2022-04-28T14:03:44.066Z"
   },
   {
    "duration": 251,
    "start_time": "2022-04-28T14:03:44.458Z"
   },
   {
    "duration": 9,
    "start_time": "2022-04-28T14:03:45.000Z"
   },
   {
    "duration": 15,
    "start_time": "2022-04-28T14:03:45.335Z"
   },
   {
    "duration": 124,
    "start_time": "2022-04-28T14:03:59.188Z"
   },
   {
    "duration": 11,
    "start_time": "2022-04-28T14:04:04.144Z"
   },
   {
    "duration": 1577,
    "start_time": "2022-04-29T06:47:09.249Z"
   },
   {
    "duration": 400,
    "start_time": "2022-04-29T06:47:10.828Z"
   },
   {
    "duration": 263,
    "start_time": "2022-04-29T06:47:11.230Z"
   },
   {
    "duration": 10,
    "start_time": "2022-04-29T06:47:11.495Z"
   },
   {
    "duration": 15,
    "start_time": "2022-04-29T06:47:11.507Z"
   },
   {
    "duration": 13,
    "start_time": "2022-04-29T06:47:45.236Z"
   },
   {
    "duration": 9,
    "start_time": "2022-04-29T06:48:02.906Z"
   },
   {
    "duration": 13,
    "start_time": "2022-04-29T06:48:03.295Z"
   },
   {
    "duration": 16,
    "start_time": "2022-04-29T06:48:03.592Z"
   },
   {
    "duration": 15,
    "start_time": "2022-04-29T06:48:25.338Z"
   },
   {
    "duration": 8,
    "start_time": "2022-04-29T06:48:32.203Z"
   },
   {
    "duration": 15,
    "start_time": "2022-04-29T06:48:32.420Z"
   },
   {
    "duration": 389,
    "start_time": "2022-04-29T06:48:40.125Z"
   },
   {
    "duration": 14,
    "start_time": "2022-04-29T06:48:42.561Z"
   },
   {
    "duration": 14,
    "start_time": "2022-04-29T06:48:43.751Z"
   },
   {
    "duration": 11,
    "start_time": "2022-04-29T06:49:20.795Z"
   },
   {
    "duration": 11,
    "start_time": "2022-04-29T06:49:21.015Z"
   },
   {
    "duration": 117,
    "start_time": "2022-04-29T06:56:22.585Z"
   },
   {
    "duration": 1454,
    "start_time": "2022-04-29T06:56:30.652Z"
   },
   {
    "duration": 402,
    "start_time": "2022-04-29T06:56:32.108Z"
   },
   {
    "duration": 284,
    "start_time": "2022-04-29T06:56:32.512Z"
   },
   {
    "duration": 13,
    "start_time": "2022-04-29T06:56:32.798Z"
   },
   {
    "duration": 43,
    "start_time": "2022-04-29T06:58:42.348Z"
   },
   {
    "duration": 37,
    "start_time": "2022-04-29T07:02:55.000Z"
   },
   {
    "duration": 33,
    "start_time": "2022-04-29T07:03:15.301Z"
   },
   {
    "duration": 86,
    "start_time": "2022-04-29T07:11:25.644Z"
   },
   {
    "duration": 4,
    "start_time": "2022-04-29T07:11:31.694Z"
   },
   {
    "duration": 4,
    "start_time": "2022-04-29T07:12:06.566Z"
   },
   {
    "duration": 106,
    "start_time": "2022-04-29T07:12:24.508Z"
   },
   {
    "duration": 205,
    "start_time": "2022-04-29T07:12:30.936Z"
   },
   {
    "duration": 4,
    "start_time": "2022-04-29T07:13:39.273Z"
   },
   {
    "duration": 162,
    "start_time": "2022-04-29T07:13:39.870Z"
   },
   {
    "duration": 4,
    "start_time": "2022-04-29T07:14:27.006Z"
   },
   {
    "duration": 10,
    "start_time": "2022-04-29T07:14:27.889Z"
   },
   {
    "duration": 9,
    "start_time": "2022-04-29T07:14:49.994Z"
   },
   {
    "duration": 4,
    "start_time": "2022-04-29T07:15:17.634Z"
   },
   {
    "duration": 17,
    "start_time": "2022-04-29T07:15:18.199Z"
   },
   {
    "duration": 4,
    "start_time": "2022-04-29T07:15:58.952Z"
   },
   {
    "duration": 9,
    "start_time": "2022-04-29T07:15:59.169Z"
   },
   {
    "duration": 4,
    "start_time": "2022-04-29T07:16:10.678Z"
   },
   {
    "duration": 166,
    "start_time": "2022-04-29T07:16:11.088Z"
   },
   {
    "duration": 4,
    "start_time": "2022-04-29T07:16:33.112Z"
   },
   {
    "duration": 162,
    "start_time": "2022-04-29T07:16:33.383Z"
   },
   {
    "duration": 4,
    "start_time": "2022-04-29T07:17:06.777Z"
   },
   {
    "duration": 162,
    "start_time": "2022-04-29T07:17:07.808Z"
   },
   {
    "duration": 4,
    "start_time": "2022-04-29T07:18:06.936Z"
   },
   {
    "duration": 12,
    "start_time": "2022-04-29T07:18:07.355Z"
   },
   {
    "duration": 3,
    "start_time": "2022-04-29T07:18:21.674Z"
   },
   {
    "duration": 12,
    "start_time": "2022-04-29T07:18:21.946Z"
   },
   {
    "duration": 4,
    "start_time": "2022-04-29T07:18:40.807Z"
   },
   {
    "duration": 13,
    "start_time": "2022-04-29T07:18:40.962Z"
   },
   {
    "duration": 4,
    "start_time": "2022-04-29T07:18:49.377Z"
   },
   {
    "duration": 12,
    "start_time": "2022-04-29T07:18:49.860Z"
   },
   {
    "duration": 25,
    "start_time": "2022-04-29T07:19:19.307Z"
   },
   {
    "duration": 26,
    "start_time": "2022-04-29T07:19:45.361Z"
   },
   {
    "duration": 14,
    "start_time": "2022-04-29T07:19:52.954Z"
   },
   {
    "duration": 15,
    "start_time": "2022-04-29T07:20:14.709Z"
   },
   {
    "duration": 19,
    "start_time": "2022-04-29T07:20:33.995Z"
   },
   {
    "duration": 14,
    "start_time": "2022-04-29T07:20:42.361Z"
   },
   {
    "duration": 13,
    "start_time": "2022-04-29T07:22:45.735Z"
   },
   {
    "duration": 14,
    "start_time": "2022-04-29T07:22:45.939Z"
   },
   {
    "duration": 183,
    "start_time": "2022-04-29T07:23:23.450Z"
   },
   {
    "duration": 6,
    "start_time": "2022-04-29T07:23:53.714Z"
   },
   {
    "duration": 182,
    "start_time": "2022-04-29T07:23:53.928Z"
   },
   {
    "duration": 1421,
    "start_time": "2022-04-29T07:24:05.212Z"
   },
   {
    "duration": 484,
    "start_time": "2022-04-29T07:24:06.636Z"
   },
   {
    "duration": 287,
    "start_time": "2022-04-29T07:24:07.121Z"
   },
   {
    "duration": 14,
    "start_time": "2022-04-29T07:24:07.410Z"
   },
   {
    "duration": 53,
    "start_time": "2022-04-29T07:24:07.426Z"
   },
   {
    "duration": 34,
    "start_time": "2022-04-29T07:24:07.481Z"
   },
   {
    "duration": 35,
    "start_time": "2022-04-29T07:24:07.517Z"
   },
   {
    "duration": 3,
    "start_time": "2022-04-29T07:24:07.573Z"
   },
   {
    "duration": 113,
    "start_time": "2022-04-29T07:24:07.578Z"
   },
   {
    "duration": 0,
    "start_time": "2022-04-29T07:24:07.693Z"
   },
   {
    "duration": 0,
    "start_time": "2022-04-29T07:24:07.694Z"
   },
   {
    "duration": 10,
    "start_time": "2022-04-29T07:24:15.800Z"
   },
   {
    "duration": 10,
    "start_time": "2022-04-29T07:24:15.993Z"
   },
   {
    "duration": 16,
    "start_time": "2022-04-29T07:24:33.613Z"
   },
   {
    "duration": 17,
    "start_time": "2022-04-29T07:24:33.790Z"
   },
   {
    "duration": 19,
    "start_time": "2022-04-29T07:24:33.947Z"
   },
   {
    "duration": 10,
    "start_time": "2022-04-29T07:58:39.005Z"
   },
   {
    "duration": 4,
    "start_time": "2022-04-29T07:59:35.233Z"
   },
   {
    "duration": 10,
    "start_time": "2022-04-29T07:59:40.089Z"
   },
   {
    "duration": 3,
    "start_time": "2022-04-29T08:00:51.811Z"
   },
   {
    "duration": 17,
    "start_time": "2022-04-29T08:02:00.674Z"
   },
   {
    "duration": 23,
    "start_time": "2022-04-29T08:02:06.149Z"
   },
   {
    "duration": 9,
    "start_time": "2022-04-29T08:02:43.550Z"
   },
   {
    "duration": 1426,
    "start_time": "2022-04-29T08:03:35.656Z"
   },
   {
    "duration": 413,
    "start_time": "2022-04-29T08:03:37.085Z"
   },
   {
    "duration": 281,
    "start_time": "2022-04-29T08:03:37.500Z"
   },
   {
    "duration": 13,
    "start_time": "2022-04-29T08:03:37.784Z"
   },
   {
    "duration": 69,
    "start_time": "2022-04-29T08:03:37.799Z"
   },
   {
    "duration": 34,
    "start_time": "2022-04-29T08:03:37.869Z"
   },
   {
    "duration": 32,
    "start_time": "2022-04-29T08:03:37.905Z"
   },
   {
    "duration": 20,
    "start_time": "2022-04-29T08:03:37.938Z"
   },
   {
    "duration": 35,
    "start_time": "2022-04-29T08:03:37.960Z"
   },
   {
    "duration": 28,
    "start_time": "2022-04-29T08:03:37.997Z"
   },
   {
    "duration": 29,
    "start_time": "2022-04-29T08:03:38.027Z"
   },
   {
    "duration": 13,
    "start_time": "2022-04-29T08:03:38.058Z"
   },
   {
    "duration": 25,
    "start_time": "2022-04-29T08:03:38.072Z"
   },
   {
    "duration": 40,
    "start_time": "2022-04-29T08:03:38.099Z"
   },
   {
    "duration": 9,
    "start_time": "2022-04-29T08:03:38.141Z"
   },
   {
    "duration": 3,
    "start_time": "2022-04-29T08:05:18.477Z"
   },
   {
    "duration": 22,
    "start_time": "2022-04-29T08:05:18.643Z"
   },
   {
    "duration": 41,
    "start_time": "2022-04-29T08:05:47.477Z"
   },
   {
    "duration": 40,
    "start_time": "2022-04-29T08:06:18.136Z"
   },
   {
    "duration": 80,
    "start_time": "2022-04-29T08:07:15.201Z"
   },
   {
    "duration": 102,
    "start_time": "2022-04-29T08:08:54.951Z"
   },
   {
    "duration": 35,
    "start_time": "2022-04-29T08:14:35.669Z"
   },
   {
    "duration": 4,
    "start_time": "2022-04-29T08:36:28.638Z"
   },
   {
    "duration": 57,
    "start_time": "2022-04-29T08:38:46.122Z"
   },
   {
    "duration": 9,
    "start_time": "2022-04-29T08:39:38.810Z"
   },
   {
    "duration": 3,
    "start_time": "2022-04-29T08:39:54.790Z"
   },
   {
    "duration": 18,
    "start_time": "2022-04-29T08:39:54.933Z"
   },
   {
    "duration": 4,
    "start_time": "2022-04-29T08:43:11.609Z"
   },
   {
    "duration": 1503,
    "start_time": "2022-04-29T08:43:11.799Z"
   },
   {
    "duration": 60,
    "start_time": "2022-04-29T08:43:25.114Z"
   },
   {
    "duration": 20,
    "start_time": "2022-04-29T08:43:53.363Z"
   },
   {
    "duration": 75,
    "start_time": "2022-04-29T08:45:03.699Z"
   },
   {
    "duration": 33,
    "start_time": "2022-04-29T08:45:50.642Z"
   },
   {
    "duration": 23,
    "start_time": "2022-04-29T08:47:05.671Z"
   },
   {
    "duration": 77,
    "start_time": "2022-04-29T08:47:06.796Z"
   },
   {
    "duration": 21,
    "start_time": "2022-04-29T08:48:35.051Z"
   },
   {
    "duration": 4,
    "start_time": "2022-04-29T08:55:16.352Z"
   },
   {
    "duration": 22,
    "start_time": "2022-04-29T08:55:16.657Z"
   },
   {
    "duration": 21,
    "start_time": "2022-04-29T08:55:17.692Z"
   },
   {
    "duration": 21,
    "start_time": "2022-04-29T08:55:18.185Z"
   },
   {
    "duration": 76,
    "start_time": "2022-04-29T13:14:22.364Z"
   },
   {
    "duration": 2366,
    "start_time": "2022-04-29T13:14:31.060Z"
   },
   {
    "duration": 545,
    "start_time": "2022-04-29T13:14:33.429Z"
   },
   {
    "duration": 614,
    "start_time": "2022-04-29T13:14:33.976Z"
   },
   {
    "duration": 36,
    "start_time": "2022-04-29T13:14:34.594Z"
   },
   {
    "duration": 15,
    "start_time": "2022-04-29T13:14:34.633Z"
   },
   {
    "duration": 21,
    "start_time": "2022-04-29T13:14:34.650Z"
   },
   {
    "duration": 20,
    "start_time": "2022-04-29T13:14:34.673Z"
   },
   {
    "duration": 50,
    "start_time": "2022-04-29T13:14:34.696Z"
   },
   {
    "duration": 7,
    "start_time": "2022-04-29T13:14:34.749Z"
   },
   {
    "duration": 116,
    "start_time": "2022-04-29T13:14:34.762Z"
   },
   {
    "duration": 8,
    "start_time": "2022-04-29T13:14:34.881Z"
   },
   {
    "duration": 152,
    "start_time": "2022-04-29T13:14:34.892Z"
   },
   {
    "duration": 190,
    "start_time": "2022-04-29T13:14:35.047Z"
   },
   {
    "duration": 203,
    "start_time": "2022-04-29T13:14:35.240Z"
   },
   {
    "duration": 93,
    "start_time": "2022-04-29T13:14:35.447Z"
   },
   {
    "duration": 129,
    "start_time": "2022-04-29T13:14:35.543Z"
   },
   {
    "duration": 7,
    "start_time": "2022-04-29T13:15:00.217Z"
   },
   {
    "duration": 10,
    "start_time": "2022-04-29T13:15:19.427Z"
   },
   {
    "duration": 7,
    "start_time": "2022-04-29T13:15:49.253Z"
   },
   {
    "duration": 10,
    "start_time": "2022-04-29T13:16:55.326Z"
   },
   {
    "duration": 6,
    "start_time": "2022-04-29T13:17:17.941Z"
   },
   {
    "duration": 184,
    "start_time": "2022-04-29T13:18:38.954Z"
   },
   {
    "duration": 164,
    "start_time": "2022-04-29T13:18:42.270Z"
   },
   {
    "duration": 132,
    "start_time": "2022-04-29T13:18:52.817Z"
   },
   {
    "duration": 156,
    "start_time": "2022-04-29T13:18:54.979Z"
   },
   {
    "duration": 218,
    "start_time": "2022-04-29T13:19:13.413Z"
   },
   {
    "duration": 54,
    "start_time": "2022-04-29T13:19:49.684Z"
   },
   {
    "duration": 82,
    "start_time": "2022-04-29T13:20:17.663Z"
   },
   {
    "duration": 11,
    "start_time": "2022-04-29T13:22:02.431Z"
   },
   {
    "duration": 9,
    "start_time": "2022-04-29T13:24:21.809Z"
   },
   {
    "duration": 136,
    "start_time": "2022-04-29T13:24:57.497Z"
   },
   {
    "duration": 223,
    "start_time": "2022-04-29T13:25:04.072Z"
   },
   {
    "duration": 122,
    "start_time": "2022-04-29T13:25:08.839Z"
   },
   {
    "duration": 133,
    "start_time": "2022-04-29T13:25:20.010Z"
   },
   {
    "duration": 9,
    "start_time": "2022-04-29T13:25:30.108Z"
   },
   {
    "duration": 9,
    "start_time": "2022-04-29T13:25:34.247Z"
   },
   {
    "duration": 175,
    "start_time": "2022-04-29T13:26:42.887Z"
   },
   {
    "duration": 130,
    "start_time": "2022-04-29T13:26:57.374Z"
   },
   {
    "duration": 10,
    "start_time": "2022-04-29T13:27:02.230Z"
   },
   {
    "duration": 125,
    "start_time": "2022-04-29T13:27:15.812Z"
   },
   {
    "duration": 10,
    "start_time": "2022-04-29T13:27:25.698Z"
   },
   {
    "duration": 9,
    "start_time": "2022-04-29T13:27:30.759Z"
   },
   {
    "duration": 9,
    "start_time": "2022-04-29T13:27:43.578Z"
   },
   {
    "duration": 14,
    "start_time": "2022-04-30T08:38:20.626Z"
   },
   {
    "duration": 2138,
    "start_time": "2022-04-30T08:39:05.634Z"
   },
   {
    "duration": 463,
    "start_time": "2022-04-30T08:39:07.775Z"
   },
   {
    "duration": 375,
    "start_time": "2022-04-30T08:39:08.240Z"
   },
   {
    "duration": 15,
    "start_time": "2022-04-30T08:39:08.617Z"
   },
   {
    "duration": 21,
    "start_time": "2022-04-30T08:39:08.634Z"
   },
   {
    "duration": 22,
    "start_time": "2022-04-30T08:39:08.657Z"
   },
   {
    "duration": 19,
    "start_time": "2022-04-30T08:39:08.681Z"
   },
   {
    "duration": 52,
    "start_time": "2022-04-30T08:39:08.702Z"
   },
   {
    "duration": 5,
    "start_time": "2022-04-30T08:39:08.756Z"
   },
   {
    "duration": 56,
    "start_time": "2022-04-30T08:39:08.764Z"
   },
   {
    "duration": 6,
    "start_time": "2022-04-30T08:39:08.822Z"
   },
   {
    "duration": 223,
    "start_time": "2022-04-30T08:39:08.830Z"
   },
   {
    "duration": 98,
    "start_time": "2022-04-30T08:39:09.057Z"
   },
   {
    "duration": 193,
    "start_time": "2022-04-30T08:39:09.159Z"
   },
   {
    "duration": 100,
    "start_time": "2022-04-30T08:39:09.356Z"
   },
   {
    "duration": 5,
    "start_time": "2022-04-30T08:39:09.458Z"
   },
   {
    "duration": 6,
    "start_time": "2022-04-30T09:03:21.529Z"
   },
   {
    "duration": 9,
    "start_time": "2022-04-30T09:07:26.950Z"
   },
   {
    "duration": 9,
    "start_time": "2022-04-30T09:07:37.965Z"
   },
   {
    "duration": 2306,
    "start_time": "2022-04-30T16:46:39.525Z"
   },
   {
    "duration": 507,
    "start_time": "2022-04-30T16:46:41.835Z"
   },
   {
    "duration": 443,
    "start_time": "2022-04-30T16:46:42.344Z"
   },
   {
    "duration": 18,
    "start_time": "2022-04-30T16:46:42.790Z"
   },
   {
    "duration": 10,
    "start_time": "2022-04-30T16:46:42.811Z"
   },
   {
    "duration": 41,
    "start_time": "2022-04-30T16:46:42.824Z"
   },
   {
    "duration": 21,
    "start_time": "2022-04-30T16:46:42.868Z"
   },
   {
    "duration": 27,
    "start_time": "2022-04-30T16:46:42.892Z"
   },
   {
    "duration": 30,
    "start_time": "2022-04-30T16:46:42.922Z"
   },
   {
    "duration": 54,
    "start_time": "2022-04-30T16:46:42.962Z"
   },
   {
    "duration": 7,
    "start_time": "2022-04-30T16:46:43.019Z"
   },
   {
    "duration": 218,
    "start_time": "2022-04-30T16:46:43.052Z"
   },
   {
    "duration": 96,
    "start_time": "2022-04-30T16:46:43.273Z"
   },
   {
    "duration": 182,
    "start_time": "2022-04-30T16:46:43.371Z"
   },
   {
    "duration": 20,
    "start_time": "2022-04-30T16:46:43.559Z"
   },
   {
    "duration": 17,
    "start_time": "2022-04-30T16:46:43.655Z"
   },
   {
    "duration": 9,
    "start_time": "2022-04-30T16:46:43.674Z"
   },
   {
    "duration": 5,
    "start_time": "2022-04-30T16:50:36.080Z"
   },
   {
    "duration": 6,
    "start_time": "2022-04-30T16:50:45.342Z"
   },
   {
    "duration": 9,
    "start_time": "2022-04-30T16:53:20.595Z"
   },
   {
    "duration": 2105,
    "start_time": "2022-04-30T16:54:30.598Z"
   },
   {
    "duration": 508,
    "start_time": "2022-04-30T16:54:32.706Z"
   },
   {
    "duration": 391,
    "start_time": "2022-04-30T16:54:33.216Z"
   },
   {
    "duration": 15,
    "start_time": "2022-04-30T16:54:33.610Z"
   },
   {
    "duration": 7,
    "start_time": "2022-04-30T16:54:33.627Z"
   },
   {
    "duration": 22,
    "start_time": "2022-04-30T16:54:33.652Z"
   },
   {
    "duration": 42,
    "start_time": "2022-04-30T16:54:33.677Z"
   },
   {
    "duration": 38,
    "start_time": "2022-04-30T16:54:33.721Z"
   },
   {
    "duration": 6,
    "start_time": "2022-04-30T16:54:33.762Z"
   },
   {
    "duration": 54,
    "start_time": "2022-04-30T16:54:33.773Z"
   },
   {
    "duration": 5,
    "start_time": "2022-04-30T16:54:33.829Z"
   },
   {
    "duration": 115,
    "start_time": "2022-04-30T16:54:33.836Z"
   },
   {
    "duration": 110,
    "start_time": "2022-04-30T16:54:33.960Z"
   },
   {
    "duration": 278,
    "start_time": "2022-04-30T16:54:34.073Z"
   },
   {
    "duration": 109,
    "start_time": "2022-04-30T16:54:34.356Z"
   },
   {
    "duration": 7,
    "start_time": "2022-04-30T16:54:34.467Z"
   },
   {
    "duration": 8,
    "start_time": "2022-04-30T16:54:34.476Z"
   },
   {
    "duration": 10,
    "start_time": "2022-04-30T16:54:34.486Z"
   },
   {
    "duration": 8,
    "start_time": "2022-04-30T16:55:53.221Z"
   },
   {
    "duration": 8,
    "start_time": "2022-04-30T17:02:03.334Z"
   },
   {
    "duration": 15,
    "start_time": "2022-04-30T17:02:40.948Z"
   },
   {
    "duration": 8,
    "start_time": "2022-04-30T17:02:54.568Z"
   },
   {
    "duration": 7,
    "start_time": "2022-04-30T17:03:37.261Z"
   },
   {
    "duration": 7,
    "start_time": "2022-04-30T17:03:39.678Z"
   },
   {
    "duration": 5,
    "start_time": "2022-04-30T17:14:53.576Z"
   },
   {
    "duration": 4,
    "start_time": "2022-04-30T17:15:11.097Z"
   },
   {
    "duration": 4,
    "start_time": "2022-04-30T17:16:10.906Z"
   },
   {
    "duration": 7,
    "start_time": "2022-04-30T17:23:46.220Z"
   },
   {
    "duration": 8,
    "start_time": "2022-04-30T17:28:50.245Z"
   },
   {
    "duration": 163,
    "start_time": "2022-04-30T17:32:59.403Z"
   },
   {
    "duration": 5,
    "start_time": "2022-04-30T17:33:19.115Z"
   },
   {
    "duration": 9,
    "start_time": "2022-04-30T17:33:22.853Z"
   },
   {
    "duration": 1441,
    "start_time": "2022-04-30T17:33:23.177Z"
   },
   {
    "duration": 1273,
    "start_time": "2022-04-30T17:34:08.892Z"
   },
   {
    "duration": 1250,
    "start_time": "2022-04-30T17:34:46.191Z"
   },
   {
    "duration": 1271,
    "start_time": "2022-04-30T17:34:54.143Z"
   },
   {
    "duration": 1261,
    "start_time": "2022-04-30T17:35:01.545Z"
   },
   {
    "duration": 1292,
    "start_time": "2022-04-30T17:35:04.360Z"
   },
   {
    "duration": 1251,
    "start_time": "2022-04-30T17:35:08.003Z"
   },
   {
    "duration": 1262,
    "start_time": "2022-04-30T17:36:35.267Z"
   },
   {
    "duration": 1272,
    "start_time": "2022-04-30T17:36:44.664Z"
   },
   {
    "duration": 1281,
    "start_time": "2022-04-30T17:37:57.829Z"
   },
   {
    "duration": 1296,
    "start_time": "2022-04-30T17:38:35.056Z"
   },
   {
    "duration": 1381,
    "start_time": "2022-04-30T17:38:38.085Z"
   },
   {
    "duration": 1276,
    "start_time": "2022-04-30T17:38:40.650Z"
   },
   {
    "duration": 1278,
    "start_time": "2022-04-30T17:38:43.515Z"
   },
   {
    "duration": 1269,
    "start_time": "2022-04-30T17:39:39.791Z"
   },
   {
    "duration": 1266,
    "start_time": "2022-04-30T17:39:41.096Z"
   },
   {
    "duration": 1836,
    "start_time": "2022-04-30T18:00:47.154Z"
   },
   {
    "duration": 469,
    "start_time": "2022-04-30T18:00:48.992Z"
   },
   {
    "duration": 368,
    "start_time": "2022-04-30T18:00:49.464Z"
   },
   {
    "duration": 27,
    "start_time": "2022-04-30T18:00:49.835Z"
   },
   {
    "duration": 6,
    "start_time": "2022-04-30T18:00:49.864Z"
   },
   {
    "duration": 19,
    "start_time": "2022-04-30T18:00:49.873Z"
   },
   {
    "duration": 18,
    "start_time": "2022-04-30T18:00:49.894Z"
   },
   {
    "duration": 55,
    "start_time": "2022-04-30T18:00:49.914Z"
   },
   {
    "duration": 6,
    "start_time": "2022-04-30T18:00:49.972Z"
   },
   {
    "duration": 81,
    "start_time": "2022-04-30T18:00:49.983Z"
   },
   {
    "duration": 6,
    "start_time": "2022-04-30T18:00:50.067Z"
   },
   {
    "duration": 176,
    "start_time": "2022-04-30T18:00:50.075Z"
   },
   {
    "duration": 103,
    "start_time": "2022-04-30T18:00:50.253Z"
   },
   {
    "duration": 196,
    "start_time": "2022-04-30T18:00:50.360Z"
   },
   {
    "duration": 97,
    "start_time": "2022-04-30T18:00:50.560Z"
   },
   {
    "duration": 7,
    "start_time": "2022-04-30T18:00:50.659Z"
   },
   {
    "duration": 174,
    "start_time": "2022-04-30T18:00:50.668Z"
   },
   {
    "duration": 0,
    "start_time": "2022-04-30T18:00:50.851Z"
   },
   {
    "duration": 0,
    "start_time": "2022-04-30T18:00:50.853Z"
   },
   {
    "duration": 0,
    "start_time": "2022-04-30T18:00:50.854Z"
   },
   {
    "duration": 0,
    "start_time": "2022-04-30T18:00:50.856Z"
   },
   {
    "duration": 0,
    "start_time": "2022-04-30T18:00:50.858Z"
   },
   {
    "duration": 0,
    "start_time": "2022-04-30T18:00:50.859Z"
   },
   {
    "duration": 14,
    "start_time": "2022-04-30T18:01:14.479Z"
   },
   {
    "duration": 6,
    "start_time": "2022-04-30T18:01:21.857Z"
   },
   {
    "duration": 1813,
    "start_time": "2022-04-30T18:01:30.492Z"
   },
   {
    "duration": 495,
    "start_time": "2022-04-30T18:01:32.308Z"
   },
   {
    "duration": 412,
    "start_time": "2022-04-30T18:01:32.805Z"
   },
   {
    "duration": 15,
    "start_time": "2022-04-30T18:01:33.220Z"
   },
   {
    "duration": 5,
    "start_time": "2022-04-30T18:01:33.251Z"
   },
   {
    "duration": 20,
    "start_time": "2022-04-30T18:01:33.258Z"
   },
   {
    "duration": 20,
    "start_time": "2022-04-30T18:01:33.281Z"
   },
   {
    "duration": 56,
    "start_time": "2022-04-30T18:01:33.303Z"
   },
   {
    "duration": 5,
    "start_time": "2022-04-30T18:01:33.362Z"
   },
   {
    "duration": 54,
    "start_time": "2022-04-30T18:01:33.369Z"
   },
   {
    "duration": 26,
    "start_time": "2022-04-30T18:01:33.426Z"
   },
   {
    "duration": 105,
    "start_time": "2022-04-30T18:01:33.454Z"
   },
   {
    "duration": 202,
    "start_time": "2022-04-30T18:01:33.651Z"
   },
   {
    "duration": 100,
    "start_time": "2022-04-30T18:01:33.857Z"
   },
   {
    "duration": 100,
    "start_time": "2022-04-30T18:01:33.961Z"
   },
   {
    "duration": 8,
    "start_time": "2022-04-30T18:01:34.064Z"
   },
   {
    "duration": 14,
    "start_time": "2022-04-30T18:01:34.074Z"
   },
   {
    "duration": 20,
    "start_time": "2022-04-30T18:01:34.090Z"
   },
   {
    "duration": 9,
    "start_time": "2022-04-30T18:01:34.113Z"
   },
   {
    "duration": 32,
    "start_time": "2022-04-30T18:01:34.124Z"
   },
   {
    "duration": 1313,
    "start_time": "2022-04-30T18:01:34.158Z"
   },
   {
    "duration": 1298,
    "start_time": "2022-04-30T18:01:35.474Z"
   },
   {
    "duration": 1251,
    "start_time": "2022-04-30T18:01:36.774Z"
   },
   {
    "duration": 1235,
    "start_time": "2022-04-30T18:02:09.131Z"
   },
   {
    "duration": 174,
    "start_time": "2022-05-01T09:15:59.046Z"
   },
   {
    "duration": 2077,
    "start_time": "2022-05-01T09:16:25.129Z"
   },
   {
    "duration": 522,
    "start_time": "2022-05-01T09:16:27.209Z"
   },
   {
    "duration": 410,
    "start_time": "2022-05-01T09:16:27.733Z"
   },
   {
    "duration": 14,
    "start_time": "2022-05-01T09:16:28.147Z"
   },
   {
    "duration": 9,
    "start_time": "2022-05-01T09:16:28.164Z"
   },
   {
    "duration": 17,
    "start_time": "2022-05-01T09:16:28.194Z"
   },
   {
    "duration": 18,
    "start_time": "2022-05-01T09:16:28.213Z"
   },
   {
    "duration": 19,
    "start_time": "2022-05-01T09:16:28.233Z"
   },
   {
    "duration": 41,
    "start_time": "2022-05-01T09:16:28.254Z"
   },
   {
    "duration": 54,
    "start_time": "2022-05-01T09:16:28.300Z"
   },
   {
    "duration": 6,
    "start_time": "2022-05-01T09:16:28.356Z"
   },
   {
    "duration": 231,
    "start_time": "2022-05-01T09:16:28.364Z"
   },
   {
    "duration": 100,
    "start_time": "2022-05-01T09:16:28.597Z"
   },
   {
    "duration": 196,
    "start_time": "2022-05-01T09:16:28.701Z"
   },
   {
    "duration": 95,
    "start_time": "2022-05-01T09:16:28.901Z"
   },
   {
    "duration": 9,
    "start_time": "2022-05-01T09:16:29.000Z"
   },
   {
    "duration": 9,
    "start_time": "2022-05-01T09:16:29.011Z"
   },
   {
    "duration": 10,
    "start_time": "2022-05-01T09:16:29.022Z"
   },
   {
    "duration": 4,
    "start_time": "2022-05-01T09:16:29.034Z"
   },
   {
    "duration": 14,
    "start_time": "2022-05-01T09:16:29.040Z"
   },
   {
    "duration": 1239,
    "start_time": "2022-05-01T09:16:29.056Z"
   },
   {
    "duration": 1202,
    "start_time": "2022-05-01T09:16:30.297Z"
   },
   {
    "duration": 1173,
    "start_time": "2022-05-01T09:16:31.502Z"
   }
  ],
  "kernelspec": {
   "display_name": "Python 3",
   "language": "python",
   "name": "python3"
  },
  "language_info": {
   "codemirror_mode": {
    "name": "ipython",
    "version": 3
   },
   "file_extension": ".py",
   "mimetype": "text/x-python",
   "name": "python",
   "nbconvert_exporter": "python",
   "pygments_lexer": "ipython3",
   "version": "3.8.5"
  },
  "toc": {
   "base_numbering": 1,
   "nav_menu": {},
   "number_sections": true,
   "sideBar": true,
   "skip_h1_title": true,
   "title_cell": "Table of Contents",
   "title_sidebar": "Contents",
   "toc_cell": false,
   "toc_position": {},
   "toc_section_display": true,
   "toc_window_display": false
  }
 },
 "nbformat": 4,
 "nbformat_minor": 2
}
