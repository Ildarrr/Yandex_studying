{
 "cells": [
  {
   "cell_type": "markdown",
   "metadata": {},
   "source": [
    "# Сборный проект"
   ]
  },
  {
   "cell_type": "markdown",
   "metadata": {},
   "source": [
    "<b>Описание проекта</b>"
   ]
  },
  {
   "cell_type": "markdown",
   "metadata": {},
   "source": [
    "Вы работаете в интернет-магазине «Стримчик», который продаёт по всему миру компьютерные игры. Из открытых источников доступны исторические данные о продажах игр, оценки пользователей и экспертов, жанры и платформы (например, Xbox или PlayStation). Вам нужно выявить определяющие успешность игры закономерности. Это позволит сделать ставку на потенциально популярный продукт и спланировать рекламные кампании."
   ]
  },
  {
   "cell_type": "markdown",
   "metadata": {},
   "source": [
    "## Изучение исходной информации"
   ]
  },
  {
   "cell_type": "code",
   "execution_count": 1,
   "metadata": {},
   "outputs": [],
   "source": [
    "#подключим необходимые для работы библиотеки\n",
    "\n",
    "import pandas as pd\n",
    "import numpy as np\n",
    "import matplotlib.pyplot as plt\n",
    "from math import ceil\n",
    "import warnings\n",
    "warnings.simplefilter(\"ignore\")\n",
    "from scipy import stats as st\n",
    "import seaborn as sns\n",
    "\n",
    "pd.options.display.float_format = '{:,.2f}'.format"
   ]
  },
  {
   "cell_type": "code",
   "execution_count": 2,
   "metadata": {},
   "outputs": [],
   "source": [
    "#прочитаем исходные датафреймы\n",
    "\n",
    "try:\n",
    "    games = pd.read_csv('C:/Users//datasets/games.csv', sep=',') \n",
    "    \n",
    "except:\n",
    "    games = pd.read_csv('/datasets/games.csv', sep=',')"
   ]
  },
  {
   "cell_type": "code",
   "execution_count": 3,
   "metadata": {},
   "outputs": [
    {
     "name": "stdout",
     "output_type": "stream",
     "text": [
      "Первые 10 строк датафрейма:\n"
     ]
    },
    {
     "data": {
      "text/html": [
       "<div>\n",
       "<style scoped>\n",
       "    .dataframe tbody tr th:only-of-type {\n",
       "        vertical-align: middle;\n",
       "    }\n",
       "\n",
       "    .dataframe tbody tr th {\n",
       "        vertical-align: top;\n",
       "    }\n",
       "\n",
       "    .dataframe thead th {\n",
       "        text-align: right;\n",
       "    }\n",
       "</style>\n",
       "<table border=\"1\" class=\"dataframe\">\n",
       "  <thead>\n",
       "    <tr style=\"text-align: right;\">\n",
       "      <th></th>\n",
       "      <th>Name</th>\n",
       "      <th>Platform</th>\n",
       "      <th>Year_of_Release</th>\n",
       "      <th>Genre</th>\n",
       "      <th>NA_sales</th>\n",
       "      <th>EU_sales</th>\n",
       "      <th>JP_sales</th>\n",
       "      <th>Other_sales</th>\n",
       "      <th>Critic_Score</th>\n",
       "      <th>User_Score</th>\n",
       "      <th>Rating</th>\n",
       "    </tr>\n",
       "  </thead>\n",
       "  <tbody>\n",
       "    <tr>\n",
       "      <th>0</th>\n",
       "      <td>Wii Sports</td>\n",
       "      <td>Wii</td>\n",
       "      <td>2,006.00</td>\n",
       "      <td>Sports</td>\n",
       "      <td>41.36</td>\n",
       "      <td>28.96</td>\n",
       "      <td>3.77</td>\n",
       "      <td>8.45</td>\n",
       "      <td>76.00</td>\n",
       "      <td>8</td>\n",
       "      <td>E</td>\n",
       "    </tr>\n",
       "    <tr>\n",
       "      <th>1</th>\n",
       "      <td>Super Mario Bros.</td>\n",
       "      <td>NES</td>\n",
       "      <td>1,985.00</td>\n",
       "      <td>Platform</td>\n",
       "      <td>29.08</td>\n",
       "      <td>3.58</td>\n",
       "      <td>6.81</td>\n",
       "      <td>0.77</td>\n",
       "      <td>NaN</td>\n",
       "      <td>NaN</td>\n",
       "      <td>NaN</td>\n",
       "    </tr>\n",
       "    <tr>\n",
       "      <th>2</th>\n",
       "      <td>Mario Kart Wii</td>\n",
       "      <td>Wii</td>\n",
       "      <td>2,008.00</td>\n",
       "      <td>Racing</td>\n",
       "      <td>15.68</td>\n",
       "      <td>12.76</td>\n",
       "      <td>3.79</td>\n",
       "      <td>3.29</td>\n",
       "      <td>82.00</td>\n",
       "      <td>8.3</td>\n",
       "      <td>E</td>\n",
       "    </tr>\n",
       "    <tr>\n",
       "      <th>3</th>\n",
       "      <td>Wii Sports Resort</td>\n",
       "      <td>Wii</td>\n",
       "      <td>2,009.00</td>\n",
       "      <td>Sports</td>\n",
       "      <td>15.61</td>\n",
       "      <td>10.93</td>\n",
       "      <td>3.28</td>\n",
       "      <td>2.95</td>\n",
       "      <td>80.00</td>\n",
       "      <td>8</td>\n",
       "      <td>E</td>\n",
       "    </tr>\n",
       "    <tr>\n",
       "      <th>4</th>\n",
       "      <td>Pokemon Red/Pokemon Blue</td>\n",
       "      <td>GB</td>\n",
       "      <td>1,996.00</td>\n",
       "      <td>Role-Playing</td>\n",
       "      <td>11.27</td>\n",
       "      <td>8.89</td>\n",
       "      <td>10.22</td>\n",
       "      <td>1.00</td>\n",
       "      <td>NaN</td>\n",
       "      <td>NaN</td>\n",
       "      <td>NaN</td>\n",
       "    </tr>\n",
       "    <tr>\n",
       "      <th>5</th>\n",
       "      <td>Tetris</td>\n",
       "      <td>GB</td>\n",
       "      <td>1,989.00</td>\n",
       "      <td>Puzzle</td>\n",
       "      <td>23.20</td>\n",
       "      <td>2.26</td>\n",
       "      <td>4.22</td>\n",
       "      <td>0.58</td>\n",
       "      <td>NaN</td>\n",
       "      <td>NaN</td>\n",
       "      <td>NaN</td>\n",
       "    </tr>\n",
       "    <tr>\n",
       "      <th>6</th>\n",
       "      <td>New Super Mario Bros.</td>\n",
       "      <td>DS</td>\n",
       "      <td>2,006.00</td>\n",
       "      <td>Platform</td>\n",
       "      <td>11.28</td>\n",
       "      <td>9.14</td>\n",
       "      <td>6.50</td>\n",
       "      <td>2.88</td>\n",
       "      <td>89.00</td>\n",
       "      <td>8.5</td>\n",
       "      <td>E</td>\n",
       "    </tr>\n",
       "    <tr>\n",
       "      <th>7</th>\n",
       "      <td>Wii Play</td>\n",
       "      <td>Wii</td>\n",
       "      <td>2,006.00</td>\n",
       "      <td>Misc</td>\n",
       "      <td>13.96</td>\n",
       "      <td>9.18</td>\n",
       "      <td>2.93</td>\n",
       "      <td>2.84</td>\n",
       "      <td>58.00</td>\n",
       "      <td>6.6</td>\n",
       "      <td>E</td>\n",
       "    </tr>\n",
       "    <tr>\n",
       "      <th>8</th>\n",
       "      <td>New Super Mario Bros. Wii</td>\n",
       "      <td>Wii</td>\n",
       "      <td>2,009.00</td>\n",
       "      <td>Platform</td>\n",
       "      <td>14.44</td>\n",
       "      <td>6.94</td>\n",
       "      <td>4.70</td>\n",
       "      <td>2.24</td>\n",
       "      <td>87.00</td>\n",
       "      <td>8.4</td>\n",
       "      <td>E</td>\n",
       "    </tr>\n",
       "    <tr>\n",
       "      <th>9</th>\n",
       "      <td>Duck Hunt</td>\n",
       "      <td>NES</td>\n",
       "      <td>1,984.00</td>\n",
       "      <td>Shooter</td>\n",
       "      <td>26.93</td>\n",
       "      <td>0.63</td>\n",
       "      <td>0.28</td>\n",
       "      <td>0.47</td>\n",
       "      <td>NaN</td>\n",
       "      <td>NaN</td>\n",
       "      <td>NaN</td>\n",
       "    </tr>\n",
       "  </tbody>\n",
       "</table>\n",
       "</div>"
      ],
      "text/plain": [
       "                        Name Platform  Year_of_Release         Genre  \\\n",
       "0                 Wii Sports      Wii         2,006.00        Sports   \n",
       "1          Super Mario Bros.      NES         1,985.00      Platform   \n",
       "2             Mario Kart Wii      Wii         2,008.00        Racing   \n",
       "3          Wii Sports Resort      Wii         2,009.00        Sports   \n",
       "4   Pokemon Red/Pokemon Blue       GB         1,996.00  Role-Playing   \n",
       "5                     Tetris       GB         1,989.00        Puzzle   \n",
       "6      New Super Mario Bros.       DS         2,006.00      Platform   \n",
       "7                   Wii Play      Wii         2,006.00          Misc   \n",
       "8  New Super Mario Bros. Wii      Wii         2,009.00      Platform   \n",
       "9                  Duck Hunt      NES         1,984.00       Shooter   \n",
       "\n",
       "   NA_sales  EU_sales  JP_sales  Other_sales  Critic_Score User_Score Rating  \n",
       "0     41.36     28.96      3.77         8.45         76.00          8      E  \n",
       "1     29.08      3.58      6.81         0.77           NaN        NaN    NaN  \n",
       "2     15.68     12.76      3.79         3.29         82.00        8.3      E  \n",
       "3     15.61     10.93      3.28         2.95         80.00          8      E  \n",
       "4     11.27      8.89     10.22         1.00           NaN        NaN    NaN  \n",
       "5     23.20      2.26      4.22         0.58           NaN        NaN    NaN  \n",
       "6     11.28      9.14      6.50         2.88         89.00        8.5      E  \n",
       "7     13.96      9.18      2.93         2.84         58.00        6.6      E  \n",
       "8     14.44      6.94      4.70         2.24         87.00        8.4      E  \n",
       "9     26.93      0.63      0.28         0.47           NaN        NaN    NaN  "
      ]
     },
     "metadata": {},
     "output_type": "display_data"
    },
    {
     "name": "stdout",
     "output_type": "stream",
     "text": [
      "Основная информация о датафрейме:\n",
      "<class 'pandas.core.frame.DataFrame'>\n",
      "RangeIndex: 16715 entries, 0 to 16714\n",
      "Data columns (total 11 columns):\n",
      " #   Column           Non-Null Count  Dtype  \n",
      "---  ------           --------------  -----  \n",
      " 0   Name             16713 non-null  object \n",
      " 1   Platform         16715 non-null  object \n",
      " 2   Year_of_Release  16446 non-null  float64\n",
      " 3   Genre            16713 non-null  object \n",
      " 4   NA_sales         16715 non-null  float64\n",
      " 5   EU_sales         16715 non-null  float64\n",
      " 6   JP_sales         16715 non-null  float64\n",
      " 7   Other_sales      16715 non-null  float64\n",
      " 8   Critic_Score     8137 non-null   float64\n",
      " 9   User_Score       10014 non-null  object \n",
      " 10  Rating           9949 non-null   object \n",
      "dtypes: float64(6), object(5)\n",
      "memory usage: 1.4+ MB\n"
     ]
    },
    {
     "data": {
      "text/plain": [
       "None"
      ]
     },
     "metadata": {},
     "output_type": "display_data"
    },
    {
     "name": "stdout",
     "output_type": "stream",
     "text": [
      "Доля пропущенных данных в датафрейме:\n"
     ]
    },
    {
     "data": {
      "text/plain": [
       "Name              0.00\n",
       "Platform          0.00\n",
       "Year_of_Release   0.02\n",
       "Genre             0.00\n",
       "NA_sales          0.00\n",
       "EU_sales          0.00\n",
       "JP_sales          0.00\n",
       "Other_sales       0.00\n",
       "Critic_Score      0.51\n",
       "User_Score        0.40\n",
       "Rating            0.40\n",
       "dtype: float64"
      ]
     },
     "metadata": {},
     "output_type": "display_data"
    },
    {
     "name": "stdout",
     "output_type": "stream",
     "text": [
      "Количество дубликатов: \n"
     ]
    },
    {
     "data": {
      "text/plain": [
       "0"
      ]
     },
     "metadata": {},
     "output_type": "display_data"
    },
    {
     "name": "stdout",
     "output_type": "stream",
     "text": [
      "Размер датасета:\n"
     ]
    },
    {
     "data": {
      "text/plain": [
       "(16715, 11)"
      ]
     },
     "metadata": {},
     "output_type": "display_data"
    }
   ],
   "source": [
    "# изучим основную информацию о датафрейме\n",
    "print('Первые 10 строк датафрейма:')\n",
    "display(games.head(10))\n",
    "print('Основная информация о датафрейме:')\n",
    "display(games.info())\n",
    "print('Доля пропущенных данных в датафрейме:')\n",
    "display(games.isna().mean())\n",
    "print('Количество дубликатов: ')\n",
    "display(games.duplicated().sum())\n",
    "print('Размер датасета:')\n",
    "display(games.shape)"
   ]
  },
  {
   "cell_type": "markdown",
   "metadata": {},
   "source": [
    "<div class=\"alert alert-info\">\n",
    "<b>Комментарий студента:</b>\n",
    "<br>\n",
    "Изучив исходные данные датафрейма, можно сказать следующее: по большей части столбцов данные представлены в полном виде, замечено, что отсутствует практически в половине строк информация по рейтингам от критиков и юзеров, а также рейтинг ESRB. \n",
    "Также в датафрейме имеются столбцы с неверным типом данных. \n",
    "</div>"
   ]
  },
  {
   "cell_type": "markdown",
   "metadata": {},
   "source": [
    "## Предобработка данных\n",
    "\n",
    "\n"
   ]
  },
  {
   "cell_type": "markdown",
   "metadata": {},
   "source": [
    "### Замена названий столбцов"
   ]
  },
  {
   "cell_type": "code",
   "execution_count": 4,
   "metadata": {},
   "outputs": [],
   "source": [
    "#приведем названия столбцов к нижнему регистру\n",
    "\n",
    "games.columns = games.columns.str.lower()"
   ]
  },
  {
   "cell_type": "markdown",
   "metadata": {},
   "source": [
    "### Обработка пропущенных значений"
   ]
  },
  {
   "cell_type": "code",
   "execution_count": 5,
   "metadata": {},
   "outputs": [
    {
     "data": {
      "text/plain": [
       "name                  2\n",
       "platform              0\n",
       "year_of_release     269\n",
       "genre                 2\n",
       "na_sales              0\n",
       "eu_sales              0\n",
       "jp_sales              0\n",
       "other_sales           0\n",
       "critic_score       8578\n",
       "user_score         6701\n",
       "rating             6766\n",
       "dtype: int64"
      ]
     },
     "metadata": {},
     "output_type": "display_data"
    }
   ],
   "source": [
    "#определим количество пропущенных значений в каждом столбце датафрейма\n",
    "\n",
    "display(games.isna().sum())"
   ]
  },
  {
   "cell_type": "code",
   "execution_count": 6,
   "metadata": {},
   "outputs": [
    {
     "data": {
      "text/html": [
       "<div>\n",
       "<style scoped>\n",
       "    .dataframe tbody tr th:only-of-type {\n",
       "        vertical-align: middle;\n",
       "    }\n",
       "\n",
       "    .dataframe tbody tr th {\n",
       "        vertical-align: top;\n",
       "    }\n",
       "\n",
       "    .dataframe thead th {\n",
       "        text-align: right;\n",
       "    }\n",
       "</style>\n",
       "<table border=\"1\" class=\"dataframe\">\n",
       "  <thead>\n",
       "    <tr style=\"text-align: right;\">\n",
       "      <th></th>\n",
       "      <th>name</th>\n",
       "      <th>platform</th>\n",
       "      <th>year_of_release</th>\n",
       "      <th>genre</th>\n",
       "      <th>na_sales</th>\n",
       "      <th>eu_sales</th>\n",
       "      <th>jp_sales</th>\n",
       "      <th>other_sales</th>\n",
       "      <th>critic_score</th>\n",
       "      <th>user_score</th>\n",
       "      <th>rating</th>\n",
       "    </tr>\n",
       "  </thead>\n",
       "  <tbody>\n",
       "    <tr>\n",
       "      <th>659</th>\n",
       "      <td>NaN</td>\n",
       "      <td>GEN</td>\n",
       "      <td>1,993.00</td>\n",
       "      <td>NaN</td>\n",
       "      <td>1.78</td>\n",
       "      <td>0.53</td>\n",
       "      <td>0.00</td>\n",
       "      <td>0.08</td>\n",
       "      <td>NaN</td>\n",
       "      <td>NaN</td>\n",
       "      <td>NaN</td>\n",
       "    </tr>\n",
       "    <tr>\n",
       "      <th>14244</th>\n",
       "      <td>NaN</td>\n",
       "      <td>GEN</td>\n",
       "      <td>1,993.00</td>\n",
       "      <td>NaN</td>\n",
       "      <td>0.00</td>\n",
       "      <td>0.00</td>\n",
       "      <td>0.03</td>\n",
       "      <td>0.00</td>\n",
       "      <td>NaN</td>\n",
       "      <td>NaN</td>\n",
       "      <td>NaN</td>\n",
       "    </tr>\n",
       "  </tbody>\n",
       "</table>\n",
       "</div>"
      ],
      "text/plain": [
       "      name platform  year_of_release genre  na_sales  eu_sales  jp_sales  \\\n",
       "659    NaN      GEN         1,993.00   NaN      1.78      0.53      0.00   \n",
       "14244  NaN      GEN         1,993.00   NaN      0.00      0.00      0.03   \n",
       "\n",
       "       other_sales  critic_score user_score rating  \n",
       "659           0.08           NaN        NaN    NaN  \n",
       "14244         0.00           NaN        NaN    NaN  "
      ]
     },
     "metadata": {},
     "output_type": "display_data"
    }
   ],
   "source": [
    "#посмотрим что это за строки, в которых нет названия игры и жанра\n",
    "\n",
    "display(games[games['genre'].isna()])"
   ]
  },
  {
   "cell_type": "markdown",
   "metadata": {},
   "source": [
    "<div class=\"alert alert-info\">\n",
    "<b>Комментарий студента:</b>\n",
    "<br>\n",
    "Как можно заметить, наибольшее количество пропусков наблюдается в столбцах с оценками и рейтингом игр. Заменить пропуски в столбцах 'year_of_release', 'critic_score', 'user_score', 'rating' каким-либо значением не получится, потому что они появились там не случайным образом, а именно пользователи или критики не поставили оценку. Удалим строки, в которых пропущено значение года выпуска, а также название игры и жанр, т.к. без этих данных сложно будет проводить дальнейший анализ.\n",
    "</div>"
   ]
  },
  {
   "cell_type": "code",
   "execution_count": 7,
   "metadata": {},
   "outputs": [],
   "source": [
    "#удалим строки, в которых пропущено значение года выпуска\n",
    "\n",
    "games = games.dropna(subset=['name', 'year_of_release', 'genre']).reset_index(drop=True)"
   ]
  },
  {
   "cell_type": "code",
   "execution_count": 8,
   "metadata": {},
   "outputs": [
    {
     "data": {
      "text/plain": [
       "tbd    2376\n",
       "7.8     322\n",
       "8       285\n",
       "8.2     276\n",
       "8.3     252\n",
       "       ... \n",
       "9.6       2\n",
       "0.3       2\n",
       "1.3       2\n",
       "0         1\n",
       "9.7       1\n",
       "Name: user_score, Length: 96, dtype: int64"
      ]
     },
     "metadata": {},
     "output_type": "display_data"
    }
   ],
   "source": [
    "#разберемся со значением 'tbd' в столбце с оценкой пользователей\n",
    "\n",
    "display(games['user_score'].value_counts().sort_values(ascending=False))"
   ]
  },
  {
   "cell_type": "markdown",
   "metadata": {},
   "source": [
    "<div class=\"alert alert-info\">\n",
    "<b>Комментарий студента:</b>\n",
    "<br>\n",
    "Значение 'tbd' в столбце с оценкой пользователей означает \"подлежит уточнению\", то есть возможно, на момент выгрузки базы данных, пользователь не поставил оценку игре, либо не было возможности поставтиь оценку и данный функционал появился позднее. Значение 'tbd' присутствует в 24% строк в качестве оценки пользователей. Заменим данное значение на \"nan\" для дальнейшей обработки значений данного столбца.\n",
    "</div>"
   ]
  },
  {
   "cell_type": "code",
   "execution_count": 9,
   "metadata": {},
   "outputs": [],
   "source": [
    "#замена значений 'tbd' на nan\n",
    "\n",
    "games['user_score'] = games['user_score'].replace('tbd', np.nan)"
   ]
  },
  {
   "cell_type": "markdown",
   "metadata": {},
   "source": [
    "### Замена типа данных"
   ]
  },
  {
   "cell_type": "markdown",
   "metadata": {},
   "source": [
    "<div class=\"alert alert-info\">\n",
    "<b>Комментарий студента:</b>\n",
    "<br>\n",
    "Произведем замену типа данных для столбцов 'year_of_release' и 'user_score', год выпуска представлен одним числом, и его будет достаточно привести к целочисленному типу данных. А оценка пользователей предсталена в виде числа с плавающей точкой, так что присвоим данному столбцу вещественный тип данных. \n",
    "</div>"
   ]
  },
  {
   "cell_type": "code",
   "execution_count": 10,
   "metadata": {},
   "outputs": [],
   "source": [
    "#произведем замену типа данных для столбцов 'year_of_release' и 'user_score'\n",
    "\n",
    "games['year_of_release'] = games['year_of_release'].astype(int)\n",
    "games['user_score'] = games['user_score'].astype(float)"
   ]
  },
  {
   "cell_type": "markdown",
   "metadata": {},
   "source": [
    "### Подсчет суммарных продаж во всех регионах"
   ]
  },
  {
   "cell_type": "code",
   "execution_count": 11,
   "metadata": {},
   "outputs": [],
   "source": [
    "games['sum_sales'] = games['na_sales'] + games['eu_sales'] + games['jp_sales'] + games['other_sales']"
   ]
  },
  {
   "cell_type": "markdown",
   "metadata": {},
   "source": [
    "### Вывод"
   ]
  },
  {
   "cell_type": "markdown",
   "metadata": {},
   "source": [
    "В процессе предобработки данных нами была произведена замена названий столбцов, обработка пропущенных значений по ряду столбцов: 'name', 'year_of_release', 'genre', также замена значений 'tbd' на nan по стоблцу 'user_score'. Также была произведена замена типа данных на корректный тип."
   ]
  },
  {
   "cell_type": "markdown",
   "metadata": {},
   "source": [
    "## Исследовательский анализ данных"
   ]
  },
  {
   "cell_type": "markdown",
   "metadata": {},
   "source": [
    "### Сколько игр выпускалось в разные годы. Важны ли данные за все периоды?"
   ]
  },
  {
   "cell_type": "code",
   "execution_count": 12,
   "metadata": {},
   "outputs": [
    {
     "data": {
      "text/html": [
       "<div>\n",
       "<style scoped>\n",
       "    .dataframe tbody tr th:only-of-type {\n",
       "        vertical-align: middle;\n",
       "    }\n",
       "\n",
       "    .dataframe tbody tr th {\n",
       "        vertical-align: top;\n",
       "    }\n",
       "\n",
       "    .dataframe thead th {\n",
       "        text-align: right;\n",
       "    }\n",
       "</style>\n",
       "<table border=\"1\" class=\"dataframe\">\n",
       "  <thead>\n",
       "    <tr style=\"text-align: right;\">\n",
       "      <th></th>\n",
       "      <th>name</th>\n",
       "    </tr>\n",
       "    <tr>\n",
       "      <th>year_of_release</th>\n",
       "      <th></th>\n",
       "    </tr>\n",
       "  </thead>\n",
       "  <tbody>\n",
       "    <tr>\n",
       "      <th>1980</th>\n",
       "      <td>9</td>\n",
       "    </tr>\n",
       "    <tr>\n",
       "      <th>1981</th>\n",
       "      <td>46</td>\n",
       "    </tr>\n",
       "    <tr>\n",
       "      <th>1982</th>\n",
       "      <td>36</td>\n",
       "    </tr>\n",
       "    <tr>\n",
       "      <th>1983</th>\n",
       "      <td>17</td>\n",
       "    </tr>\n",
       "    <tr>\n",
       "      <th>1984</th>\n",
       "      <td>14</td>\n",
       "    </tr>\n",
       "    <tr>\n",
       "      <th>1985</th>\n",
       "      <td>14</td>\n",
       "    </tr>\n",
       "    <tr>\n",
       "      <th>1986</th>\n",
       "      <td>21</td>\n",
       "    </tr>\n",
       "    <tr>\n",
       "      <th>1987</th>\n",
       "      <td>16</td>\n",
       "    </tr>\n",
       "    <tr>\n",
       "      <th>1988</th>\n",
       "      <td>15</td>\n",
       "    </tr>\n",
       "    <tr>\n",
       "      <th>1989</th>\n",
       "      <td>17</td>\n",
       "    </tr>\n",
       "    <tr>\n",
       "      <th>1990</th>\n",
       "      <td>16</td>\n",
       "    </tr>\n",
       "    <tr>\n",
       "      <th>1991</th>\n",
       "      <td>41</td>\n",
       "    </tr>\n",
       "    <tr>\n",
       "      <th>1992</th>\n",
       "      <td>43</td>\n",
       "    </tr>\n",
       "    <tr>\n",
       "      <th>1993</th>\n",
       "      <td>60</td>\n",
       "    </tr>\n",
       "    <tr>\n",
       "      <th>1994</th>\n",
       "      <td>121</td>\n",
       "    </tr>\n",
       "    <tr>\n",
       "      <th>1995</th>\n",
       "      <td>219</td>\n",
       "    </tr>\n",
       "    <tr>\n",
       "      <th>1996</th>\n",
       "      <td>263</td>\n",
       "    </tr>\n",
       "    <tr>\n",
       "      <th>1997</th>\n",
       "      <td>289</td>\n",
       "    </tr>\n",
       "    <tr>\n",
       "      <th>1998</th>\n",
       "      <td>379</td>\n",
       "    </tr>\n",
       "    <tr>\n",
       "      <th>1999</th>\n",
       "      <td>338</td>\n",
       "    </tr>\n",
       "    <tr>\n",
       "      <th>2000</th>\n",
       "      <td>350</td>\n",
       "    </tr>\n",
       "    <tr>\n",
       "      <th>2001</th>\n",
       "      <td>482</td>\n",
       "    </tr>\n",
       "    <tr>\n",
       "      <th>2002</th>\n",
       "      <td>829</td>\n",
       "    </tr>\n",
       "    <tr>\n",
       "      <th>2003</th>\n",
       "      <td>775</td>\n",
       "    </tr>\n",
       "    <tr>\n",
       "      <th>2004</th>\n",
       "      <td>762</td>\n",
       "    </tr>\n",
       "    <tr>\n",
       "      <th>2005</th>\n",
       "      <td>939</td>\n",
       "    </tr>\n",
       "    <tr>\n",
       "      <th>2006</th>\n",
       "      <td>1006</td>\n",
       "    </tr>\n",
       "    <tr>\n",
       "      <th>2007</th>\n",
       "      <td>1197</td>\n",
       "    </tr>\n",
       "    <tr>\n",
       "      <th>2008</th>\n",
       "      <td>1427</td>\n",
       "    </tr>\n",
       "    <tr>\n",
       "      <th>2009</th>\n",
       "      <td>1426</td>\n",
       "    </tr>\n",
       "    <tr>\n",
       "      <th>2010</th>\n",
       "      <td>1255</td>\n",
       "    </tr>\n",
       "    <tr>\n",
       "      <th>2011</th>\n",
       "      <td>1136</td>\n",
       "    </tr>\n",
       "    <tr>\n",
       "      <th>2012</th>\n",
       "      <td>653</td>\n",
       "    </tr>\n",
       "    <tr>\n",
       "      <th>2013</th>\n",
       "      <td>544</td>\n",
       "    </tr>\n",
       "    <tr>\n",
       "      <th>2014</th>\n",
       "      <td>581</td>\n",
       "    </tr>\n",
       "    <tr>\n",
       "      <th>2015</th>\n",
       "      <td>606</td>\n",
       "    </tr>\n",
       "    <tr>\n",
       "      <th>2016</th>\n",
       "      <td>502</td>\n",
       "    </tr>\n",
       "  </tbody>\n",
       "</table>\n",
       "</div>"
      ],
      "text/plain": [
       "                 name\n",
       "year_of_release      \n",
       "1980                9\n",
       "1981               46\n",
       "1982               36\n",
       "1983               17\n",
       "1984               14\n",
       "1985               14\n",
       "1986               21\n",
       "1987               16\n",
       "1988               15\n",
       "1989               17\n",
       "1990               16\n",
       "1991               41\n",
       "1992               43\n",
       "1993               60\n",
       "1994              121\n",
       "1995              219\n",
       "1996              263\n",
       "1997              289\n",
       "1998              379\n",
       "1999              338\n",
       "2000              350\n",
       "2001              482\n",
       "2002              829\n",
       "2003              775\n",
       "2004              762\n",
       "2005              939\n",
       "2006             1006\n",
       "2007             1197\n",
       "2008             1427\n",
       "2009             1426\n",
       "2010             1255\n",
       "2011             1136\n",
       "2012              653\n",
       "2013              544\n",
       "2014              581\n",
       "2015              606\n",
       "2016              502"
      ]
     },
     "execution_count": 12,
     "metadata": {},
     "output_type": "execute_result"
    }
   ],
   "source": [
    "#чтобы ответить на данный вопрос построим сводную таблицу \n",
    "\n",
    "games_year = games.pivot_table(index='year_of_release', values='name', aggfunc='count')\n",
    "games_year"
   ]
  },
  {
   "cell_type": "code",
   "execution_count": 13,
   "metadata": {},
   "outputs": [
    {
     "data": {
      "image/png": "[encoded data removed]",
      "text/plain": [
       "<Figure size 1080x504 with 1 Axes>"
      ]
     },
     "metadata": {
      "needs_background": "light"
     },
     "output_type": "display_data"
    }
   ],
   "source": [
    "#также построим гистограмму для более наглядного распределения\n",
    "\n",
    "games_year.plot(kind='bar', figsize=(15,7))\n",
    "\n",
    "plt.legend(loc='upper left')\n",
    "plt.title('Распределение количества выпускаемых игр по годам')\n",
    "plt.xlabel('Год')\n",
    "plt.ylabel('Количество игр')\n",
    "plt.show()"
   ]
  },
  {
   "cell_type": "code",
   "execution_count": 14,
   "metadata": {},
   "outputs": [
    {
     "data": {
      "image/png": "[encoded data removed]",
      "text/plain": [
       "<Figure size 1440x720 with 1 Axes>"
      ]
     },
     "metadata": {
      "needs_background": "light"
     },
     "output_type": "display_data"
    }
   ],
   "source": [
    "#построим графики распределения суммарных продаж по годам по всем платформам после 2012 года\n",
    "\n",
    "plt.figure(figsize=(20,10))\n",
    "plt.title('Распределение суммарных продаж по всем платформам')\n",
    "\n",
    "sns.lineplot(data=games.query('year_of_release >=2012'), x=\"year_of_release\", y=\"sum_sales\", hue=\"platform\", estimator='sum', ci=None)\n",
    "\n",
    "plt.xlabel('Год')\n",
    "plt.ylabel('Суммарные продажи, млн копий')\n",
    "plt.show()"
   ]
  },
  {
   "cell_type": "code",
   "execution_count": 16,
   "metadata": {},
   "outputs": [
    {
     "data": {
      "text/html": [
       "<div>\n",
       "<style scoped>\n",
       "    .dataframe tbody tr th:only-of-type {\n",
       "        vertical-align: middle;\n",
       "    }\n",
       "\n",
       "    .dataframe tbody tr th {\n",
       "        vertical-align: top;\n",
       "    }\n",
       "\n",
       "    .dataframe thead th {\n",
       "        text-align: right;\n",
       "    }\n",
       "</style>\n",
       "<table border=\"1\" class=\"dataframe\">\n",
       "  <thead>\n",
       "    <tr style=\"text-align: right;\">\n",
       "      <th></th>\n",
       "      <th></th>\n",
       "      <th>sum_sales</th>\n",
       "    </tr>\n",
       "    <tr>\n",
       "      <th>year_of_release</th>\n",
       "      <th>platform</th>\n",
       "      <th></th>\n",
       "    </tr>\n",
       "  </thead>\n",
       "  <tbody>\n",
       "    <tr>\n",
       "      <th rowspan=\"9\" valign=\"top\">2016</th>\n",
       "      <th>PS4</th>\n",
       "      <td>69.25</td>\n",
       "    </tr>\n",
       "    <tr>\n",
       "      <th>XOne</th>\n",
       "      <td>26.15</td>\n",
       "    </tr>\n",
       "    <tr>\n",
       "      <th>3DS</th>\n",
       "      <td>15.14</td>\n",
       "    </tr>\n",
       "    <tr>\n",
       "      <th>PC</th>\n",
       "      <td>5.25</td>\n",
       "    </tr>\n",
       "    <tr>\n",
       "      <th>WiiU</th>\n",
       "      <td>4.60</td>\n",
       "    </tr>\n",
       "    <tr>\n",
       "      <th>PSV</th>\n",
       "      <td>4.25</td>\n",
       "    </tr>\n",
       "    <tr>\n",
       "      <th>PS3</th>\n",
       "      <td>3.60</td>\n",
       "    </tr>\n",
       "    <tr>\n",
       "      <th>X360</th>\n",
       "      <td>1.52</td>\n",
       "    </tr>\n",
       "    <tr>\n",
       "      <th>Wii</th>\n",
       "      <td>0.18</td>\n",
       "    </tr>\n",
       "  </tbody>\n",
       "</table>\n",
       "</div>"
      ],
      "text/plain": [
       "                          sum_sales\n",
       "year_of_release platform           \n",
       "2016            PS4           69.25\n",
       "                XOne          26.15\n",
       "                3DS           15.14\n",
       "                PC             5.25\n",
       "                WiiU           4.60\n",
       "                PSV            4.25\n",
       "                PS3            3.60\n",
       "                X360           1.52\n",
       "                Wii            0.18"
      ]
     },
     "execution_count": 16,
     "metadata": {},
     "output_type": "execute_result"
    }
   ],
   "source": [
    "#определим аналитически какие платформы популярны в последние годы по количеству продаж копий игр\n",
    "\n",
    "platform_sales_all = games.pivot_table(index=['year_of_release','platform'], values='sum_sales', aggfunc='sum')\n",
    "\n",
    "platform_sales_all = platform_sales_all.sort_values(by=['year_of_release', 'sum_sales'], ascending=False).head(9)\n",
    "\n",
    "platform_sales_all"
   ]
  },
  {
   "cell_type": "code",
   "execution_count": 17,
   "metadata": {},
   "outputs": [
    {
     "data": {
      "text/plain": [
       "array(['Wii', 'NES', 'GB', 'DS', 'X360', 'PS3', 'PS2', 'SNES', 'GBA',\n",
       "       'PS4', '3DS', 'N64', 'PS', 'XB', 'PC', '2600', 'PSP', 'XOne',\n",
       "       'WiiU', 'GC', 'GEN', 'DC', 'PSV', 'SAT', 'SCD', 'WS', 'NG', 'TG16',\n",
       "       '3DO', 'GG', 'PCFX'], dtype=object)"
      ]
     },
     "execution_count": 17,
     "metadata": {},
     "output_type": "execute_result"
    }
   ],
   "source": [
    "#определим по каким платформам имеются данные по выпускаемым играм\n",
    "\n",
    "games['platform'].unique()"
   ]
  },
  {
   "cell_type": "markdown",
   "metadata": {},
   "source": [
    "<div class=\"alert alert-info\">\n",
    "<b>Комментарий студента:</b>\n",
    "<br>\n",
    "Как можно заметить по гистограмме, активное развитие игровой индустрии начинается с 1995 года, достигая пика выпускаемых игр в 2008-2009 годах (1427 и 1426 игр в год соответственно). \n",
    "<br>\n",
    "Также после 2011 года наблюдается резкий спад выпускаемых игр. Данное явление может быть связано с тем, что появляются новые платформы, в том числе мобильные операционные системы, разработчики пишут больше игр для iOS и Android. Как мы видим, данных платформ нет в нашем датасете.\n",
    "<br>  \n",
    "Стоит отметить, что продажи по большинству платформ практически сошли на нет к 2016 году. Вторая волна активных продаж началась в 2013 году, когда были созданы такие платформы как PS4 и XOne. Возьмем период с 2013 года как актуальный для дальнейшего анализа.\n",
    "<br>  \n",
    "</div>"
   ]
  },
  {
   "cell_type": "markdown",
   "metadata": {},
   "source": [
    "### Как менялись продажи по платформам. Выберите платформы с наибольшими суммарными продажами и постройте распределение по годам. За какой характерный срок появляются новые и исчезают старые платформы?\n"
   ]
  },
  {
   "cell_type": "code",
   "execution_count": 18,
   "metadata": {},
   "outputs": [],
   "source": [
    "#построим сводную таблицу по распределению продаж в зависимости от платформы за весь период\n",
    "\n",
    "platform_sales = games.pivot_table(index='platform', values='sum_sales', aggfunc='sum').sort_values(by='sum_sales', ascending=False)"
   ]
  },
  {
   "cell_type": "code",
   "execution_count": 19,
   "metadata": {
    "scrolled": false
   },
   "outputs": [
    {
     "data": {
      "image/png": "[encoded data removed]",
      "text/plain": [
       "<Figure size 1080x504 with 1 Axes>"
      ]
     },
     "metadata": {
      "needs_background": "light"
     },
     "output_type": "display_data"
    }
   ],
   "source": [
    "#также построим гистограмму для более наглядного распределения\n",
    "\n",
    "platform_sales.plot(kind='bar', figsize=(15,7))\n",
    "\n",
    "plt.legend(loc='upper right')\n",
    "plt.title('Распределение суммарных продаж по платформам')\n",
    "plt.xlabel('Год')\n",
    "plt.ylabel('Суммарные продажи, млн копий')\n",
    "plt.show()"
   ]
  },
  {
   "cell_type": "code",
   "execution_count": 20,
   "metadata": {},
   "outputs": [],
   "source": [
    "#определим средний период жизни платформ\n",
    "\n",
    "mean_time_life = games.pivot_table(index='platform', values='year_of_release', aggfunc={'min','max'})\n",
    "\n",
    "#считаем период жизни платформы\n",
    "mean_time_life['delta_time'] = mean_time_life['max']-mean_time_life['min']"
   ]
  },
  {
   "cell_type": "code",
   "execution_count": 21,
   "metadata": {},
   "outputs": [
    {
     "data": {
      "text/plain": [
       "7.612903225806452"
      ]
     },
     "execution_count": 21,
     "metadata": {},
     "output_type": "execute_result"
    }
   ],
   "source": [
    "#считаем среднее время жизни платформы\n",
    "mean_time_life['delta_time'].mean()"
   ]
  },
  {
   "cell_type": "markdown",
   "metadata": {},
   "source": [
    "<div class=\"alert alert-info\">\n",
    "<b>Комментарий студента:</b>\n",
    "<br>\n",
    "По гистрограмме можно выделить шесть наиболее популярных платформ: PS2, X360, PS3, Wii, DS, PS.\n",
    "<br>    \n",
    "Среднее время жизни платформы равно 7.6 лет.    \n",
    "<br> \n",
    "</div>"
   ]
  },
  {
   "cell_type": "code",
   "execution_count": 22,
   "metadata": {},
   "outputs": [
    {
     "data": {
      "text/plain": [
       "6.833333333333333"
      ]
     },
     "execution_count": 22,
     "metadata": {},
     "output_type": "execute_result"
    }
   ],
   "source": [
    "#определим средний период жизни платформ без учета ПК\n",
    "\n",
    "mean_time_life_1 = games.query('platform !=\"PC\"').pivot_table(index='platform', values='year_of_release', aggfunc={'min','max'})\n",
    "\n",
    "#считаем период жизни платформы\n",
    "mean_time_life_1['delta_time'] = mean_time_life_1['max']-mean_time_life_1['min']\n",
    "\n",
    "#считаем среднее время жизни платформы\n",
    "mean_time_life_1['delta_time'].mean()"
   ]
  },
  {
   "cell_type": "markdown",
   "metadata": {},
   "source": [
    "<div class=\"alert alert-info\">\n",
    "<b>Комментарий студента:</b>\n",
    "<br>\n",
    "Можно сказать, что ПК играют значительную роль в подсчете времени жизни платформы, потому что если их исключить, то средний период жизни платформы сокращается до 6.8 лет \n",
    "<br> \n",
    "</div"
   ]
  },
  {
   "cell_type": "markdown",
   "metadata": {},
   "source": [
    "### Какие платформы лидируют по продажам, растут или падают? Выберите несколько потенциально прибыльных платформ."
   ]
  },
  {
   "cell_type": "code",
   "execution_count": 23,
   "metadata": {
    "scrolled": false
   },
   "outputs": [
    {
     "data": {
      "text/html": [
       "<div>\n",
       "<style scoped>\n",
       "    .dataframe tbody tr th:only-of-type {\n",
       "        vertical-align: middle;\n",
       "    }\n",
       "\n",
       "    .dataframe tbody tr th {\n",
       "        vertical-align: top;\n",
       "    }\n",
       "\n",
       "    .dataframe thead th {\n",
       "        text-align: right;\n",
       "    }\n",
       "</style>\n",
       "<table border=\"1\" class=\"dataframe\">\n",
       "  <thead>\n",
       "    <tr style=\"text-align: right;\">\n",
       "      <th></th>\n",
       "      <th>name</th>\n",
       "      <th>platform</th>\n",
       "      <th>year_of_release</th>\n",
       "      <th>genre</th>\n",
       "      <th>na_sales</th>\n",
       "      <th>eu_sales</th>\n",
       "      <th>jp_sales</th>\n",
       "      <th>other_sales</th>\n",
       "      <th>critic_score</th>\n",
       "      <th>user_score</th>\n",
       "      <th>rating</th>\n",
       "      <th>sum_sales</th>\n",
       "    </tr>\n",
       "  </thead>\n",
       "  <tbody>\n",
       "    <tr>\n",
       "      <th>16</th>\n",
       "      <td>Grand Theft Auto V</td>\n",
       "      <td>PS3</td>\n",
       "      <td>2013</td>\n",
       "      <td>Action</td>\n",
       "      <td>7.02</td>\n",
       "      <td>9.09</td>\n",
       "      <td>0.98</td>\n",
       "      <td>3.96</td>\n",
       "      <td>97.00</td>\n",
       "      <td>8.20</td>\n",
       "      <td>M</td>\n",
       "      <td>21.05</td>\n",
       "    </tr>\n",
       "    <tr>\n",
       "      <th>23</th>\n",
       "      <td>Grand Theft Auto V</td>\n",
       "      <td>X360</td>\n",
       "      <td>2013</td>\n",
       "      <td>Action</td>\n",
       "      <td>9.66</td>\n",
       "      <td>5.14</td>\n",
       "      <td>0.06</td>\n",
       "      <td>1.41</td>\n",
       "      <td>97.00</td>\n",
       "      <td>8.10</td>\n",
       "      <td>M</td>\n",
       "      <td>16.27</td>\n",
       "    </tr>\n",
       "    <tr>\n",
       "      <th>31</th>\n",
       "      <td>Call of Duty: Black Ops 3</td>\n",
       "      <td>PS4</td>\n",
       "      <td>2015</td>\n",
       "      <td>Shooter</td>\n",
       "      <td>6.03</td>\n",
       "      <td>5.86</td>\n",
       "      <td>0.36</td>\n",
       "      <td>2.38</td>\n",
       "      <td>NaN</td>\n",
       "      <td>NaN</td>\n",
       "      <td>NaN</td>\n",
       "      <td>14.63</td>\n",
       "    </tr>\n",
       "    <tr>\n",
       "      <th>33</th>\n",
       "      <td>Pokemon X/Pokemon Y</td>\n",
       "      <td>3DS</td>\n",
       "      <td>2013</td>\n",
       "      <td>Role-Playing</td>\n",
       "      <td>5.28</td>\n",
       "      <td>4.19</td>\n",
       "      <td>4.35</td>\n",
       "      <td>0.78</td>\n",
       "      <td>NaN</td>\n",
       "      <td>NaN</td>\n",
       "      <td>NaN</td>\n",
       "      <td>14.60</td>\n",
       "    </tr>\n",
       "    <tr>\n",
       "      <th>42</th>\n",
       "      <td>Grand Theft Auto V</td>\n",
       "      <td>PS4</td>\n",
       "      <td>2014</td>\n",
       "      <td>Action</td>\n",
       "      <td>3.96</td>\n",
       "      <td>6.31</td>\n",
       "      <td>0.38</td>\n",
       "      <td>1.97</td>\n",
       "      <td>97.00</td>\n",
       "      <td>8.30</td>\n",
       "      <td>M</td>\n",
       "      <td>12.62</td>\n",
       "    </tr>\n",
       "    <tr>\n",
       "      <th>...</th>\n",
       "      <td>...</td>\n",
       "      <td>...</td>\n",
       "      <td>...</td>\n",
       "      <td>...</td>\n",
       "      <td>...</td>\n",
       "      <td>...</td>\n",
       "      <td>...</td>\n",
       "      <td>...</td>\n",
       "      <td>...</td>\n",
       "      <td>...</td>\n",
       "      <td>...</td>\n",
       "      <td>...</td>\n",
       "    </tr>\n",
       "    <tr>\n",
       "      <th>16432</th>\n",
       "      <td>Strawberry Nauts</td>\n",
       "      <td>PSV</td>\n",
       "      <td>2016</td>\n",
       "      <td>Adventure</td>\n",
       "      <td>0.00</td>\n",
       "      <td>0.00</td>\n",
       "      <td>0.01</td>\n",
       "      <td>0.00</td>\n",
       "      <td>NaN</td>\n",
       "      <td>NaN</td>\n",
       "      <td>NaN</td>\n",
       "      <td>0.01</td>\n",
       "    </tr>\n",
       "    <tr>\n",
       "      <th>16436</th>\n",
       "      <td>Aiyoku no Eustia</td>\n",
       "      <td>PSV</td>\n",
       "      <td>2014</td>\n",
       "      <td>Misc</td>\n",
       "      <td>0.00</td>\n",
       "      <td>0.00</td>\n",
       "      <td>0.01</td>\n",
       "      <td>0.00</td>\n",
       "      <td>NaN</td>\n",
       "      <td>NaN</td>\n",
       "      <td>NaN</td>\n",
       "      <td>0.01</td>\n",
       "    </tr>\n",
       "    <tr>\n",
       "      <th>16439</th>\n",
       "      <td>Samurai Warriors: Sanada Maru</td>\n",
       "      <td>PS3</td>\n",
       "      <td>2016</td>\n",
       "      <td>Action</td>\n",
       "      <td>0.00</td>\n",
       "      <td>0.00</td>\n",
       "      <td>0.01</td>\n",
       "      <td>0.00</td>\n",
       "      <td>NaN</td>\n",
       "      <td>NaN</td>\n",
       "      <td>NaN</td>\n",
       "      <td>0.01</td>\n",
       "    </tr>\n",
       "    <tr>\n",
       "      <th>16441</th>\n",
       "      <td>Haitaka no Psychedelica</td>\n",
       "      <td>PSV</td>\n",
       "      <td>2016</td>\n",
       "      <td>Adventure</td>\n",
       "      <td>0.00</td>\n",
       "      <td>0.00</td>\n",
       "      <td>0.01</td>\n",
       "      <td>0.00</td>\n",
       "      <td>NaN</td>\n",
       "      <td>NaN</td>\n",
       "      <td>NaN</td>\n",
       "      <td>0.01</td>\n",
       "    </tr>\n",
       "    <tr>\n",
       "      <th>16443</th>\n",
       "      <td>Winning Post 8 2016</td>\n",
       "      <td>PSV</td>\n",
       "      <td>2016</td>\n",
       "      <td>Simulation</td>\n",
       "      <td>0.00</td>\n",
       "      <td>0.00</td>\n",
       "      <td>0.01</td>\n",
       "      <td>0.00</td>\n",
       "      <td>NaN</td>\n",
       "      <td>NaN</td>\n",
       "      <td>NaN</td>\n",
       "      <td>0.01</td>\n",
       "    </tr>\n",
       "  </tbody>\n",
       "</table>\n",
       "<p>2233 rows × 12 columns</p>\n",
       "</div>"
      ],
      "text/plain": [
       "                                name platform  year_of_release         genre  \\\n",
       "16                Grand Theft Auto V      PS3             2013        Action   \n",
       "23                Grand Theft Auto V     X360             2013        Action   \n",
       "31         Call of Duty: Black Ops 3      PS4             2015       Shooter   \n",
       "33               Pokemon X/Pokemon Y      3DS             2013  Role-Playing   \n",
       "42                Grand Theft Auto V      PS4             2014        Action   \n",
       "...                              ...      ...              ...           ...   \n",
       "16432               Strawberry Nauts      PSV             2016     Adventure   \n",
       "16436               Aiyoku no Eustia      PSV             2014          Misc   \n",
       "16439  Samurai Warriors: Sanada Maru      PS3             2016        Action   \n",
       "16441        Haitaka no Psychedelica      PSV             2016     Adventure   \n",
       "16443            Winning Post 8 2016      PSV             2016    Simulation   \n",
       "\n",
       "       na_sales  eu_sales  jp_sales  other_sales  critic_score  user_score  \\\n",
       "16         7.02      9.09      0.98         3.96         97.00        8.20   \n",
       "23         9.66      5.14      0.06         1.41         97.00        8.10   \n",
       "31         6.03      5.86      0.36         2.38           NaN         NaN   \n",
       "33         5.28      4.19      4.35         0.78           NaN         NaN   \n",
       "42         3.96      6.31      0.38         1.97         97.00        8.30   \n",
       "...         ...       ...       ...          ...           ...         ...   \n",
       "16432      0.00      0.00      0.01         0.00           NaN         NaN   \n",
       "16436      0.00      0.00      0.01         0.00           NaN         NaN   \n",
       "16439      0.00      0.00      0.01         0.00           NaN         NaN   \n",
       "16441      0.00      0.00      0.01         0.00           NaN         NaN   \n",
       "16443      0.00      0.00      0.01         0.00           NaN         NaN   \n",
       "\n",
       "      rating  sum_sales  \n",
       "16         M      21.05  \n",
       "23         M      16.27  \n",
       "31       NaN      14.63  \n",
       "33       NaN      14.60  \n",
       "42         M      12.62  \n",
       "...      ...        ...  \n",
       "16432    NaN       0.01  \n",
       "16436    NaN       0.01  \n",
       "16439    NaN       0.01  \n",
       "16441    NaN       0.01  \n",
       "16443    NaN       0.01  \n",
       "\n",
       "[2233 rows x 12 columns]"
      ]
     },
     "execution_count": 23,
     "metadata": {},
     "output_type": "execute_result"
    }
   ],
   "source": [
    "#для начала составим датафрейм по продажам игр за актуальный период\n",
    "\n",
    "games_actual_period = games.query('year_of_release >= 2013')\n",
    "\n",
    "games_actual_period"
   ]
  },
  {
   "cell_type": "code",
   "execution_count": 24,
   "metadata": {},
   "outputs": [
    {
     "data": {
      "text/plain": [
       "Index(['PS4', 'XOne', '3DS', 'PC'], dtype='object', name='platform')"
      ]
     },
     "execution_count": 24,
     "metadata": {},
     "output_type": "execute_result"
    }
   ],
   "source": [
    "#определим список потенциально прибыльных платформ\n",
    "pot_platform = platform_sales_all.head(4).index.get_level_values(1)\n",
    "\n",
    "pot_platform"
   ]
  },
  {
   "cell_type": "code",
   "execution_count": 25,
   "metadata": {},
   "outputs": [
    {
     "data": {
      "text/html": [
       "<div>\n",
       "<style scoped>\n",
       "    .dataframe tbody tr th:only-of-type {\n",
       "        vertical-align: middle;\n",
       "    }\n",
       "\n",
       "    .dataframe tbody tr th {\n",
       "        vertical-align: top;\n",
       "    }\n",
       "\n",
       "    .dataframe thead th {\n",
       "        text-align: right;\n",
       "    }\n",
       "</style>\n",
       "<table border=\"1\" class=\"dataframe\">\n",
       "  <thead>\n",
       "    <tr style=\"text-align: right;\">\n",
       "      <th></th>\n",
       "      <th>name</th>\n",
       "      <th>platform</th>\n",
       "      <th>year_of_release</th>\n",
       "      <th>genre</th>\n",
       "      <th>na_sales</th>\n",
       "      <th>eu_sales</th>\n",
       "      <th>jp_sales</th>\n",
       "      <th>other_sales</th>\n",
       "      <th>critic_score</th>\n",
       "      <th>user_score</th>\n",
       "      <th>rating</th>\n",
       "      <th>sum_sales</th>\n",
       "    </tr>\n",
       "  </thead>\n",
       "  <tbody>\n",
       "    <tr>\n",
       "      <th>31</th>\n",
       "      <td>Call of Duty: Black Ops 3</td>\n",
       "      <td>PS4</td>\n",
       "      <td>2015</td>\n",
       "      <td>Shooter</td>\n",
       "      <td>6.03</td>\n",
       "      <td>5.86</td>\n",
       "      <td>0.36</td>\n",
       "      <td>2.38</td>\n",
       "      <td>NaN</td>\n",
       "      <td>NaN</td>\n",
       "      <td>NaN</td>\n",
       "      <td>14.63</td>\n",
       "    </tr>\n",
       "    <tr>\n",
       "      <th>33</th>\n",
       "      <td>Pokemon X/Pokemon Y</td>\n",
       "      <td>3DS</td>\n",
       "      <td>2013</td>\n",
       "      <td>Role-Playing</td>\n",
       "      <td>5.28</td>\n",
       "      <td>4.19</td>\n",
       "      <td>4.35</td>\n",
       "      <td>0.78</td>\n",
       "      <td>NaN</td>\n",
       "      <td>NaN</td>\n",
       "      <td>NaN</td>\n",
       "      <td>14.60</td>\n",
       "    </tr>\n",
       "    <tr>\n",
       "      <th>42</th>\n",
       "      <td>Grand Theft Auto V</td>\n",
       "      <td>PS4</td>\n",
       "      <td>2014</td>\n",
       "      <td>Action</td>\n",
       "      <td>3.96</td>\n",
       "      <td>6.31</td>\n",
       "      <td>0.38</td>\n",
       "      <td>1.97</td>\n",
       "      <td>97.00</td>\n",
       "      <td>8.30</td>\n",
       "      <td>M</td>\n",
       "      <td>12.62</td>\n",
       "    </tr>\n",
       "    <tr>\n",
       "      <th>47</th>\n",
       "      <td>Pokemon Omega Ruby/Pokemon Alpha Sapphire</td>\n",
       "      <td>3DS</td>\n",
       "      <td>2014</td>\n",
       "      <td>Role-Playing</td>\n",
       "      <td>4.35</td>\n",
       "      <td>3.49</td>\n",
       "      <td>3.10</td>\n",
       "      <td>0.74</td>\n",
       "      <td>NaN</td>\n",
       "      <td>NaN</td>\n",
       "      <td>NaN</td>\n",
       "      <td>11.68</td>\n",
       "    </tr>\n",
       "    <tr>\n",
       "      <th>77</th>\n",
       "      <td>FIFA 16</td>\n",
       "      <td>PS4</td>\n",
       "      <td>2015</td>\n",
       "      <td>Sports</td>\n",
       "      <td>1.12</td>\n",
       "      <td>6.12</td>\n",
       "      <td>0.06</td>\n",
       "      <td>1.28</td>\n",
       "      <td>82.00</td>\n",
       "      <td>4.30</td>\n",
       "      <td>E</td>\n",
       "      <td>8.58</td>\n",
       "    </tr>\n",
       "    <tr>\n",
       "      <th>...</th>\n",
       "      <td>...</td>\n",
       "      <td>...</td>\n",
       "      <td>...</td>\n",
       "      <td>...</td>\n",
       "      <td>...</td>\n",
       "      <td>...</td>\n",
       "      <td>...</td>\n",
       "      <td>...</td>\n",
       "      <td>...</td>\n",
       "      <td>...</td>\n",
       "      <td>...</td>\n",
       "      <td>...</td>\n",
       "    </tr>\n",
       "    <tr>\n",
       "      <th>16389</th>\n",
       "      <td>Prison Architect</td>\n",
       "      <td>XOne</td>\n",
       "      <td>2016</td>\n",
       "      <td>Action</td>\n",
       "      <td>0.01</td>\n",
       "      <td>0.00</td>\n",
       "      <td>0.00</td>\n",
       "      <td>0.00</td>\n",
       "      <td>74.00</td>\n",
       "      <td>6.70</td>\n",
       "      <td>NaN</td>\n",
       "      <td>0.01</td>\n",
       "    </tr>\n",
       "    <tr>\n",
       "      <th>16397</th>\n",
       "      <td>Fujiko F. Fujio Characters: Great Assembly! Sl...</td>\n",
       "      <td>3DS</td>\n",
       "      <td>2014</td>\n",
       "      <td>Action</td>\n",
       "      <td>0.00</td>\n",
       "      <td>0.00</td>\n",
       "      <td>0.01</td>\n",
       "      <td>0.00</td>\n",
       "      <td>NaN</td>\n",
       "      <td>NaN</td>\n",
       "      <td>NaN</td>\n",
       "      <td>0.01</td>\n",
       "    </tr>\n",
       "    <tr>\n",
       "      <th>16401</th>\n",
       "      <td>Metal Gear Solid V: The Definitive Experience</td>\n",
       "      <td>XOne</td>\n",
       "      <td>2016</td>\n",
       "      <td>Action</td>\n",
       "      <td>0.01</td>\n",
       "      <td>0.00</td>\n",
       "      <td>0.00</td>\n",
       "      <td>0.00</td>\n",
       "      <td>NaN</td>\n",
       "      <td>NaN</td>\n",
       "      <td>M</td>\n",
       "      <td>0.01</td>\n",
       "    </tr>\n",
       "    <tr>\n",
       "      <th>16406</th>\n",
       "      <td>Aikatsu Stars! My Special Appeal</td>\n",
       "      <td>3DS</td>\n",
       "      <td>2016</td>\n",
       "      <td>Action</td>\n",
       "      <td>0.00</td>\n",
       "      <td>0.00</td>\n",
       "      <td>0.01</td>\n",
       "      <td>0.00</td>\n",
       "      <td>NaN</td>\n",
       "      <td>NaN</td>\n",
       "      <td>NaN</td>\n",
       "      <td>0.01</td>\n",
       "    </tr>\n",
       "    <tr>\n",
       "      <th>16421</th>\n",
       "      <td>Metal Gear Solid V: Ground Zeroes</td>\n",
       "      <td>PC</td>\n",
       "      <td>2014</td>\n",
       "      <td>Action</td>\n",
       "      <td>0.00</td>\n",
       "      <td>0.01</td>\n",
       "      <td>0.00</td>\n",
       "      <td>0.00</td>\n",
       "      <td>80.00</td>\n",
       "      <td>7.60</td>\n",
       "      <td>M</td>\n",
       "      <td>0.01</td>\n",
       "    </tr>\n",
       "  </tbody>\n",
       "</table>\n",
       "<p>1131 rows × 12 columns</p>\n",
       "</div>"
      ],
      "text/plain": [
       "                                                    name platform  \\\n",
       "31                             Call of Duty: Black Ops 3      PS4   \n",
       "33                                   Pokemon X/Pokemon Y      3DS   \n",
       "42                                    Grand Theft Auto V      PS4   \n",
       "47             Pokemon Omega Ruby/Pokemon Alpha Sapphire      3DS   \n",
       "77                                               FIFA 16      PS4   \n",
       "...                                                  ...      ...   \n",
       "16389                                   Prison Architect     XOne   \n",
       "16397  Fujiko F. Fujio Characters: Great Assembly! Sl...      3DS   \n",
       "16401      Metal Gear Solid V: The Definitive Experience     XOne   \n",
       "16406                   Aikatsu Stars! My Special Appeal      3DS   \n",
       "16421                  Metal Gear Solid V: Ground Zeroes       PC   \n",
       "\n",
       "       year_of_release         genre  na_sales  eu_sales  jp_sales  \\\n",
       "31                2015       Shooter      6.03      5.86      0.36   \n",
       "33                2013  Role-Playing      5.28      4.19      4.35   \n",
       "42                2014        Action      3.96      6.31      0.38   \n",
       "47                2014  Role-Playing      4.35      3.49      3.10   \n",
       "77                2015        Sports      1.12      6.12      0.06   \n",
       "...                ...           ...       ...       ...       ...   \n",
       "16389             2016        Action      0.01      0.00      0.00   \n",
       "16397             2014        Action      0.00      0.00      0.01   \n",
       "16401             2016        Action      0.01      0.00      0.00   \n",
       "16406             2016        Action      0.00      0.00      0.01   \n",
       "16421             2014        Action      0.00      0.01      0.00   \n",
       "\n",
       "       other_sales  critic_score  user_score rating  sum_sales  \n",
       "31            2.38           NaN         NaN    NaN      14.63  \n",
       "33            0.78           NaN         NaN    NaN      14.60  \n",
       "42            1.97         97.00        8.30      M      12.62  \n",
       "47            0.74           NaN         NaN    NaN      11.68  \n",
       "77            1.28         82.00        4.30      E       8.58  \n",
       "...            ...           ...         ...    ...        ...  \n",
       "16389         0.00         74.00        6.70    NaN       0.01  \n",
       "16397         0.00           NaN         NaN    NaN       0.01  \n",
       "16401         0.00           NaN         NaN      M       0.01  \n",
       "16406         0.00           NaN         NaN    NaN       0.01  \n",
       "16421         0.00         80.00        7.60      M       0.01  \n",
       "\n",
       "[1131 rows x 12 columns]"
      ]
     },
     "execution_count": 25,
     "metadata": {},
     "output_type": "execute_result"
    }
   ],
   "source": [
    "#теперь построим распределение по популярным платформам по годам\n",
    "\n",
    "platform_sales_top = games_actual_period.query('platform in @pot_platform')\n",
    "                        \n",
    "platform_sales_top"
   ]
  },
  {
   "cell_type": "code",
   "execution_count": 26,
   "metadata": {},
   "outputs": [
    {
     "data": {
      "image/png": "[encoded data removed]",
      "text/plain": [
       "<Figure size 1440x720 with 1 Axes>"
      ]
     },
     "metadata": {
      "needs_background": "light"
     },
     "output_type": "display_data"
    }
   ],
   "source": [
    "#построим графики распределения суммарных продаж по годам \n",
    "\n",
    "plt.figure(figsize=(20,10))\n",
    "plt.title('Распределение суммарных продаж по потенциально прибыльным платформам')\n",
    "\n",
    "sns.lineplot(data=platform_sales_top, x=\"year_of_release\", y=\"sum_sales\", hue=\"platform\", estimator='sum', ci=None)\n",
    "\n",
    "plt.xlabel('Год')\n",
    "plt.ylabel('Суммарные продажи, млн копий')\n",
    "plt.show()"
   ]
  },
  {
   "cell_type": "code",
   "execution_count": 27,
   "metadata": {},
   "outputs": [
    {
     "data": {
      "text/html": [
       "<div>\n",
       "<style scoped>\n",
       "    .dataframe tbody tr th:only-of-type {\n",
       "        vertical-align: middle;\n",
       "    }\n",
       "\n",
       "    .dataframe tbody tr th {\n",
       "        vertical-align: top;\n",
       "    }\n",
       "\n",
       "    .dataframe thead th {\n",
       "        text-align: right;\n",
       "    }\n",
       "</style>\n",
       "<table border=\"1\" class=\"dataframe\">\n",
       "  <thead>\n",
       "    <tr style=\"text-align: right;\">\n",
       "      <th></th>\n",
       "      <th></th>\n",
       "      <th>sum_sales</th>\n",
       "    </tr>\n",
       "    <tr>\n",
       "      <th>year_of_release</th>\n",
       "      <th>platform</th>\n",
       "      <th></th>\n",
       "    </tr>\n",
       "  </thead>\n",
       "  <tbody>\n",
       "    <tr>\n",
       "      <th rowspan=\"4\" valign=\"top\">2016</th>\n",
       "      <th>PS4</th>\n",
       "      <td>69.25</td>\n",
       "    </tr>\n",
       "    <tr>\n",
       "      <th>XOne</th>\n",
       "      <td>26.15</td>\n",
       "    </tr>\n",
       "    <tr>\n",
       "      <th>3DS</th>\n",
       "      <td>15.14</td>\n",
       "    </tr>\n",
       "    <tr>\n",
       "      <th>PC</th>\n",
       "      <td>5.25</td>\n",
       "    </tr>\n",
       "    <tr>\n",
       "      <th rowspan=\"4\" valign=\"top\">2015</th>\n",
       "      <th>PS4</th>\n",
       "      <td>118.90</td>\n",
       "    </tr>\n",
       "    <tr>\n",
       "      <th>XOne</th>\n",
       "      <td>60.14</td>\n",
       "    </tr>\n",
       "    <tr>\n",
       "      <th>3DS</th>\n",
       "      <td>27.78</td>\n",
       "    </tr>\n",
       "    <tr>\n",
       "      <th>PC</th>\n",
       "      <td>8.52</td>\n",
       "    </tr>\n",
       "    <tr>\n",
       "      <th rowspan=\"4\" valign=\"top\">2014</th>\n",
       "      <th>PS4</th>\n",
       "      <td>100.00</td>\n",
       "    </tr>\n",
       "    <tr>\n",
       "      <th>XOne</th>\n",
       "      <td>54.07</td>\n",
       "    </tr>\n",
       "    <tr>\n",
       "      <th>3DS</th>\n",
       "      <td>43.76</td>\n",
       "    </tr>\n",
       "    <tr>\n",
       "      <th>PC</th>\n",
       "      <td>13.28</td>\n",
       "    </tr>\n",
       "    <tr>\n",
       "      <th rowspan=\"4\" valign=\"top\">2013</th>\n",
       "      <th>3DS</th>\n",
       "      <td>56.57</td>\n",
       "    </tr>\n",
       "    <tr>\n",
       "      <th>PS4</th>\n",
       "      <td>25.99</td>\n",
       "    </tr>\n",
       "    <tr>\n",
       "      <th>XOne</th>\n",
       "      <td>18.96</td>\n",
       "    </tr>\n",
       "    <tr>\n",
       "      <th>PC</th>\n",
       "      <td>12.38</td>\n",
       "    </tr>\n",
       "  </tbody>\n",
       "</table>\n",
       "</div>"
      ],
      "text/plain": [
       "                          sum_sales\n",
       "year_of_release platform           \n",
       "2016            PS4           69.25\n",
       "                XOne          26.15\n",
       "                3DS           15.14\n",
       "                PC             5.25\n",
       "2015            PS4          118.90\n",
       "                XOne          60.14\n",
       "                3DS           27.78\n",
       "                PC             8.52\n",
       "2014            PS4          100.00\n",
       "                XOne          54.07\n",
       "                3DS           43.76\n",
       "                PC            13.28\n",
       "2013            3DS           56.57\n",
       "                PS4           25.99\n",
       "                XOne          18.96\n",
       "                PC            12.38"
      ]
     },
     "execution_count": 27,
     "metadata": {},
     "output_type": "execute_result"
    }
   ],
   "source": [
    "#определим аналитически какие платформы популярны в последние годы по количеству продаж копий игр\n",
    "\n",
    "platform_sales_top_act = platform_sales_top.pivot_table(index=['year_of_release','platform'], values='sum_sales', aggfunc='sum')\n",
    "\n",
    "platform_sales_top_act.sort_values(by=['year_of_release', 'sum_sales'], ascending=False).head(17)"
   ]
  },
  {
   "cell_type": "markdown",
   "metadata": {},
   "source": [
    "<div class=\"alert alert-info\">\n",
    "<b>Комментарий студента:</b>\n",
    "<br>\n",
    "Среди всех платформ можно выделить ряд платформ, по которым еще есть значительные продажи игр и на которые можно сделать ставку в дальнейшем: PS4, XOne, 3DS, PC. Ни одна из перспективных платформ не показывает роста, однако продажи игр все еще исчисляются милионными тиражами.\n",
    "<br>     \n",
    "Вплоть до 2014 года на рынке наблюдалось лидерство приставок PS3 и X360, однако с изобретением PS4 и XOne в 2013 году, картина значительно изменилась, данные платформы заняли большой процент рынка и стали лидерам по продаваемым играм вплоть до 2016 года. \n",
    "</div>"
   ]
  },
  {
   "cell_type": "markdown",
   "metadata": {},
   "source": [
    "### Постройте график «ящик с усами» по глобальным продажам игр в разбивке по платформам. Опишите результат."
   ]
  },
  {
   "cell_type": "code",
   "execution_count": 28,
   "metadata": {},
   "outputs": [
    {
     "data": {
      "image/png": "[encoded data removed]",
      "text/plain": [
       "<Figure size 1440x720 with 1 Axes>"
      ]
     },
     "metadata": {
      "needs_background": "light"
     },
     "output_type": "display_data"
    }
   ],
   "source": [
    "#построим график \"ящик с усами\" по глобальным продажам игр в разбивке по платформам c 2013 года\n",
    "\n",
    "plt.figure(figsize=(20,10))\n",
    "plt.grid(True)\n",
    "\n",
    "plt.title('Распределение суммарных продаж игр по платформам')\n",
    "\n",
    "sns.boxplot(data=games_actual_period, x='sum_sales', y='platform')\n",
    "\n",
    "plt.xlabel('Суммарные продажи игр, млн копий')\n",
    "plt.ylabel('Платформа')\n",
    "plt.show()"
   ]
  },
  {
   "cell_type": "markdown",
   "metadata": {},
   "source": [
    "<div class=\"alert alert-info\">\n",
    "<b>Комментарий студента:</b>\n",
    "<br>\n",
    "Как можно заметить по графику выше, есть ряд платформ с играми-бестселлерами, например, такие платформы как PS3, PS4, X360, 3DS. По данным платформам есть игры, которые разошлись тиражом более 10 млн, при том, что, допустим, платформа PS4 относительно молодая.\n",
    "</div>"
   ]
  },
  {
   "cell_type": "code",
   "execution_count": 29,
   "metadata": {},
   "outputs": [
    {
     "data": {
      "image/png": "[encoded data removed]",
      "text/plain": [
       "<Figure size 1440x720 with 1 Axes>"
      ]
     },
     "metadata": {
      "needs_background": "light"
     },
     "output_type": "display_data"
    }
   ],
   "source": [
    "#построим график \"ящик с усами\" по глобальным продажам игр в разбивке по платформам c 2013 года\n",
    "\n",
    "plt.figure(figsize=(20,10))\n",
    "plt.grid(True)\n",
    "\n",
    "plt.title('Распределение суммарных продаж игр по платформам')\n",
    "\n",
    "k = sns.boxplot(data=games_actual_period, x='sum_sales', y='platform')\n",
    "k.set(xlim=(0, 2))\n",
    "\n",
    "plt.xlabel('Суммарные продажи игр, млн копий')\n",
    "plt.ylabel('Платформа')\n",
    "plt.show()"
   ]
  },
  {
   "cell_type": "markdown",
   "metadata": {},
   "source": [
    "<div class=\"alert alert-info\">\n",
    "<b>Комментарий студента:</b>\n",
    "<br>\n",
    "По приведенному выше графику можно выделить несколько лидеров по медианным продажам: X360 - единственная платформа с медианными продажами выше 250 тыс.копий, на втором месте XOne, далее - PS4 и WiiU.\n",
    "</div>"
   ]
  },
  {
   "cell_type": "markdown",
   "metadata": {},
   "source": [
    "### Посмотрите, как влияют на продажи внутри одной популярной платформы отзывы пользователей и критиков. Постройте диаграмму рассеяния и посчитайте корреляцию между отзывами и продажами. Сформулируйте выводы."
   ]
  },
  {
   "cell_type": "markdown",
   "metadata": {},
   "source": [
    "<div class=\"alert alert-info\">\n",
    "<b>Комментарий студента:</b>\n",
    "<br>\n",
    "В качестве популярной платформы возьмем платформу PS4, которая показывает достаточно высокие продажи на протяжении последних лет, вплоть до 2016 года.\n",
    "</div>"
   ]
  },
  {
   "cell_type": "code",
   "execution_count": 30,
   "metadata": {},
   "outputs": [
    {
     "data": {
      "text/plain": [
       "name              0.00\n",
       "platform          0.00\n",
       "year_of_release   0.00\n",
       "genre             0.00\n",
       "na_sales          0.00\n",
       "eu_sales          0.00\n",
       "jp_sales          0.00\n",
       "other_sales       0.00\n",
       "critic_score      0.36\n",
       "user_score        0.34\n",
       "rating            0.35\n",
       "sum_sales         0.00\n",
       "dtype: float64"
      ]
     },
     "execution_count": 30,
     "metadata": {},
     "output_type": "execute_result"
    }
   ],
   "source": [
    "#создадим датафрейм для нашей платформы\n",
    "\n",
    "pop_platform = games_actual_period.query('platform == \"PS4\"')\n",
    "\n",
    "#проверим полноту данных для дальнейшего анализа\n",
    "pop_platform.isna().mean()"
   ]
  },
  {
   "cell_type": "markdown",
   "metadata": {},
   "source": [
    "<div class=\"alert alert-info\">\n",
    "<b>Комментарий студента:</b>\n",
    "<br>\n",
    "Видно, что у трети игр нет оценок пользователей и критиков.\n",
    "</div>"
   ]
  },
  {
   "cell_type": "code",
   "execution_count": 31,
   "metadata": {},
   "outputs": [
    {
     "data": {
      "text/plain": [
       "<Figure size 1440x720 with 0 Axes>"
      ]
     },
     "metadata": {},
     "output_type": "display_data"
    },
    {
     "data": {
      "image/png": "[encoded data removed]",
      "text/plain": [
       "<Figure size 432x288 with 1 Axes>"
      ]
     },
     "metadata": {
      "needs_background": "light"
     },
     "output_type": "display_data"
    }
   ],
   "source": [
    "#для начала оценим зависимость суммарных продаж от оценки критиков\n",
    "\n",
    "plt.figure(figsize=(20,10))\n",
    "\n",
    "pop_platform.plot(x='critic_score', y='sum_sales', kind='scatter', grid=True)\n",
    "plt.title('Зависимость суммарных продаж от оценки критиков')\n",
    "plt.xlabel('Оценка критиков')\n",
    "plt.ylabel('Суммарные продажи')\n",
    "plt.show()"
   ]
  },
  {
   "cell_type": "code",
   "execution_count": 32,
   "metadata": {},
   "outputs": [
    {
     "name": "stdout",
     "output_type": "stream",
     "text": [
      "0.40656790206178095\n"
     ]
    }
   ],
   "source": [
    "#посчитаем коэффициент корреляции Пирсона для определения зависимости суммарных продаж от оценки критиков\n",
    "\n",
    "print(pop_platform['critic_score'].corr(pop_platform['sum_sales']))"
   ]
  },
  {
   "cell_type": "code",
   "execution_count": 33,
   "metadata": {},
   "outputs": [
    {
     "data": {
      "text/plain": [
       "<Figure size 1440x720 with 0 Axes>"
      ]
     },
     "metadata": {},
     "output_type": "display_data"
    },
    {
     "data": {
      "image/png": "[encoded data removed]",
      "text/plain": [
       "<Figure size 432x288 with 1 Axes>"
      ]
     },
     "metadata": {
      "needs_background": "light"
     },
     "output_type": "display_data"
    }
   ],
   "source": [
    "#далее оценим зависимость суммарных продаж от оценки пользователей\n",
    "\n",
    "plt.figure(figsize=(20,10))\n",
    "\n",
    "pop_platform.plot(x='user_score', y='sum_sales', kind='scatter', grid=True)\n",
    "plt.title('Зависимость суммарных продаж от оценки пользователей')\n",
    "plt.xlabel('Оценка пользователей')\n",
    "plt.ylabel('Суммарные продажи')\n",
    "plt.show()"
   ]
  },
  {
   "cell_type": "code",
   "execution_count": 34,
   "metadata": {},
   "outputs": [
    {
     "name": "stdout",
     "output_type": "stream",
     "text": [
      "-0.031957110204556376\n"
     ]
    }
   ],
   "source": [
    "#посчитаем коэффициент корреляции Пирсона для определения зависимости суммарных продаж от оценки пользователей\n",
    "\n",
    "print(pop_platform['user_score'].corr(pop_platform['sum_sales']))"
   ]
  },
  {
   "cell_type": "markdown",
   "metadata": {},
   "source": [
    "<div class=\"alert alert-info\">\n",
    "<b>Комментарий студента:</b>\n",
    "<br>\n",
    "Между суммарными продажами игр на PS4 и оценками критиков есть слабая положительная зависимость, а вот между оценками пользователей и суммарными продажами зависимости нет.\n",
    "</div>"
   ]
  },
  {
   "cell_type": "markdown",
   "metadata": {},
   "source": [
    "### Соотнесите выводы с продажами игр на других платформах."
   ]
  },
  {
   "cell_type": "code",
   "execution_count": 35,
   "metadata": {},
   "outputs": [],
   "source": [
    "#теперь построим распределение по популярным платформам по годам\n",
    "\n",
    "platform_sales_list = games_actual_period.query('platform in @pot_platform')[['name','platform','sum_sales','user_score', 'critic_score']]"
   ]
  },
  {
   "cell_type": "code",
   "execution_count": 36,
   "metadata": {},
   "outputs": [
    {
     "data": {
      "image/png": "[encoded data removed]",
      "text/plain": [
       "<Figure size 1800x1080 with 6 Axes>"
      ]
     },
     "metadata": {
      "needs_background": "light"
     },
     "output_type": "display_data"
    }
   ],
   "source": [
    "#далее построим диаграммы рассеяния для перспективных платформ по зависимости продаж от оценки пользователей\n",
    "\n",
    "fig, axs = plt.subplots(2,3, figsize=(25,15))\n",
    "fig.suptitle('Диаграммы рассеяния для перспективных платформ по зависимости продаж от оценки пользователей и критиков', fontsize=20)\n",
    "\n",
    "games_actual_period.query('platform == \"PC\"').plot(ax=axs[0,0],  x='user_score', y='sum_sales', kind='scatter', grid=True)\n",
    "\n",
    "axs[0,0].set_title('PC', fontsize=15)\n",
    "axs[0,0].set_xlabel('Оценка пользователей', fontsize=15)\n",
    "axs[0,0].set_ylabel('Суммарные продажи', fontsize=15)\n",
    "\n",
    "games_actual_period.query('platform == \"3DS\"').plot(ax=axs[0,1],  x='user_score', y='sum_sales', kind='scatter', grid=True)\n",
    "axs[0,1].set_title('3DS', fontsize=15)\n",
    "axs[0,1].set_xlabel('Оценка пользователей', fontsize=15)\n",
    "axs[0,1].set_ylabel('Суммарные продажи', fontsize=15)\n",
    "\n",
    "games_actual_period.query('platform == \"XOne\"').plot(ax=axs[0,2],  x='user_score', y='sum_sales', kind='scatter', grid=True)\n",
    "axs[0,2].set_title('XOne', fontsize=15)\n",
    "axs[0,2].set_xlabel('Оценка пользователей', fontsize=15)\n",
    "axs[0,2].set_ylabel('Суммарные продажи', fontsize=15)\n",
    "\n",
    "games_actual_period.query('platform == \"PC\"').plot(ax=axs[1,0],  x='critic_score', y='sum_sales', kind='scatter', grid=True)\n",
    "axs[1,0].set_title('PC', fontsize=15)\n",
    "axs[1,0].set_xlabel('Оценка критиков', fontsize=15)\n",
    "axs[1,0].set_ylabel('Суммарные продажи', fontsize=15)\n",
    "\n",
    "games_actual_period.query('platform == \"3DS\"').plot(ax=axs[1,1],  x='critic_score', y='sum_sales', kind='scatter', grid=True)\n",
    "axs[1,1].set_title('3DS', fontsize=15)\n",
    "axs[1,1].set_xlabel('Оценка критиков', fontsize=15)\n",
    "axs[1,1].set_ylabel('Суммарные продажи', fontsize=15)\n",
    "\n",
    "games_actual_period.query('platform == \"XOne\"').plot(ax=axs[1,2],  x='critic_score', y='sum_sales', kind='scatter', grid=True)\n",
    "axs[1,2].set_title('XOne', fontsize=15)\n",
    "axs[1,2].set_xlabel('Оценка критиков', fontsize=15)\n",
    "axs[1,2].set_ylabel('Суммарные продажи', fontsize=15)\n",
    "\n",
    "plt.show()"
   ]
  },
  {
   "cell_type": "markdown",
   "metadata": {},
   "source": [
    "<div class=\"alert alert-info\">\n",
    "<b>Комментарий студента:</b>\n",
    "<br>\n",
    "Спасибо за ссылки на ресурсы. Я задавался этимв вопросом, что, допустим, подписи осей одинаковые, и можно это как-то автоматизировать. Изучу данные материалы для работы в дальнейших проектах.\n",
    "</div>"
   ]
  },
  {
   "cell_type": "code",
   "execution_count": 37,
   "metadata": {},
   "outputs": [
    {
     "name": "stdout",
     "output_type": "stream",
     "text": [
      "Корреляция между суммарными продажами и оценкой критиков для платформы PS4 равна: 0.407\n",
      "Корреляция между суммарными продажами и оценкой пользователей для платформы PS4 равна: -0.032\n",
      "Корреляция между суммарными продажами и оценкой критиков для платформы XOne равна: 0.417\n",
      "Корреляция между суммарными продажами и оценкой пользователей для платформы XOne равна: -0.069\n",
      "Корреляция между суммарными продажами и оценкой критиков для платформы 3DS равна: 0.357\n",
      "Корреляция между суммарными продажами и оценкой пользователей для платформы 3DS равна: 0.242\n",
      "Корреляция между суммарными продажами и оценкой критиков для платформы PC равна: 0.196\n",
      "Корреляция между суммарными продажами и оценкой пользователей для платформы PC равна: -0.094\n"
     ]
    }
   ],
   "source": [
    "#посчитаем коэффициент корреляции Пирсона для определения зависимости суммарных продаж от оценки критиков\n",
    "\n",
    "for platform in pot_platform:\n",
    "    platform_list = games_actual_period.query('platform == @platform')\n",
    "    \n",
    "    print(f'Корреляция между суммарными продажами и оценкой критиков для платформы {platform} равна:',\n",
    "          round(platform_list['critic_score'].corr(platform_list['sum_sales']),3))\n",
    "    print(f'Корреляция между суммарными продажами и оценкой пользователей для платформы {platform} равна:',\n",
    "           round(platform_list['user_score'].corr(platform_list['sum_sales']),3))"
   ]
  },
  {
   "cell_type": "markdown",
   "metadata": {},
   "source": [
    "<div class=\"alert alert-info\">\n",
    "<b>Комментарий студента:</b>\n",
    "<br>\n",
    "По проведенному выше анализу можно сказать, что наибольшая зависимость между оценкой критиков и суммарными продажами наблюдается по платформам XOne и PS4 (0.417 и 0.407 соответсвенно). Также лишь по одной платформе 3DS можно выделить слабовыраженную положительную зависимость между оценками пользователей и суммарными продажами.\n",
    "</div>"
   ]
  },
  {
   "cell_type": "markdown",
   "metadata": {},
   "source": [
    "### Посмотрите на общее распределение игр по жанрам. Что можно сказать о самых прибыльных жанрах? Выделяются ли жанры с высокими и низкими продажами?"
   ]
  },
  {
   "cell_type": "code",
   "execution_count": 38,
   "metadata": {},
   "outputs": [
    {
     "data": {
      "text/html": [
       "<div>\n",
       "<style scoped>\n",
       "    .dataframe tbody tr th:only-of-type {\n",
       "        vertical-align: middle;\n",
       "    }\n",
       "\n",
       "    .dataframe tbody tr th {\n",
       "        vertical-align: top;\n",
       "    }\n",
       "\n",
       "    .dataframe thead th {\n",
       "        text-align: right;\n",
       "    }\n",
       "</style>\n",
       "<table border=\"1\" class=\"dataframe\">\n",
       "  <thead>\n",
       "    <tr style=\"text-align: right;\">\n",
       "      <th></th>\n",
       "      <th>sum_sales</th>\n",
       "    </tr>\n",
       "    <tr>\n",
       "      <th>genre</th>\n",
       "      <th></th>\n",
       "    </tr>\n",
       "  </thead>\n",
       "  <tbody>\n",
       "    <tr>\n",
       "      <th>Action</th>\n",
       "      <td>321.87</td>\n",
       "    </tr>\n",
       "    <tr>\n",
       "      <th>Shooter</th>\n",
       "      <td>232.98</td>\n",
       "    </tr>\n",
       "    <tr>\n",
       "      <th>Sports</th>\n",
       "      <td>150.65</td>\n",
       "    </tr>\n",
       "    <tr>\n",
       "      <th>Role-Playing</th>\n",
       "      <td>145.89</td>\n",
       "    </tr>\n",
       "    <tr>\n",
       "      <th>Misc</th>\n",
       "      <td>62.82</td>\n",
       "    </tr>\n",
       "    <tr>\n",
       "      <th>Platform</th>\n",
       "      <td>42.63</td>\n",
       "    </tr>\n",
       "    <tr>\n",
       "      <th>Racing</th>\n",
       "      <td>39.89</td>\n",
       "    </tr>\n",
       "    <tr>\n",
       "      <th>Fighting</th>\n",
       "      <td>35.31</td>\n",
       "    </tr>\n",
       "    <tr>\n",
       "      <th>Adventure</th>\n",
       "      <td>23.64</td>\n",
       "    </tr>\n",
       "    <tr>\n",
       "      <th>Simulation</th>\n",
       "      <td>21.76</td>\n",
       "    </tr>\n",
       "    <tr>\n",
       "      <th>Strategy</th>\n",
       "      <td>10.08</td>\n",
       "    </tr>\n",
       "    <tr>\n",
       "      <th>Puzzle</th>\n",
       "      <td>3.17</td>\n",
       "    </tr>\n",
       "  </tbody>\n",
       "</table>\n",
       "</div>"
      ],
      "text/plain": [
       "              sum_sales\n",
       "genre                  \n",
       "Action           321.87\n",
       "Shooter          232.98\n",
       "Sports           150.65\n",
       "Role-Playing     145.89\n",
       "Misc              62.82\n",
       "Platform          42.63\n",
       "Racing            39.89\n",
       "Fighting          35.31\n",
       "Adventure         23.64\n",
       "Simulation        21.76\n",
       "Strategy          10.08\n",
       "Puzzle             3.17"
      ]
     },
     "execution_count": 38,
     "metadata": {},
     "output_type": "execute_result"
    }
   ],
   "source": [
    "#составим сводную таблицу по жанрам для дальнейшей работы\n",
    "\n",
    "genre = games_actual_period.pivot_table(index='genre', values='sum_sales', aggfunc='sum').sort_values(by='sum_sales', ascending=False)\n",
    "\n",
    "genre"
   ]
  },
  {
   "cell_type": "code",
   "execution_count": 39,
   "metadata": {},
   "outputs": [
    {
     "data": {
      "text/html": [
       "<div>\n",
       "<style scoped>\n",
       "    .dataframe tbody tr th:only-of-type {\n",
       "        vertical-align: middle;\n",
       "    }\n",
       "\n",
       "    .dataframe tbody tr th {\n",
       "        vertical-align: top;\n",
       "    }\n",
       "\n",
       "    .dataframe thead th {\n",
       "        text-align: right;\n",
       "    }\n",
       "</style>\n",
       "<table border=\"1\" class=\"dataframe\">\n",
       "  <thead>\n",
       "    <tr style=\"text-align: right;\">\n",
       "      <th></th>\n",
       "      <th>name</th>\n",
       "      <th>platform</th>\n",
       "      <th>year_of_release</th>\n",
       "      <th>genre</th>\n",
       "      <th>na_sales</th>\n",
       "      <th>eu_sales</th>\n",
       "      <th>jp_sales</th>\n",
       "      <th>other_sales</th>\n",
       "      <th>critic_score</th>\n",
       "      <th>user_score</th>\n",
       "      <th>rating</th>\n",
       "      <th>sum_sales</th>\n",
       "    </tr>\n",
       "  </thead>\n",
       "  <tbody>\n",
       "    <tr>\n",
       "      <th>16</th>\n",
       "      <td>Grand Theft Auto V</td>\n",
       "      <td>PS3</td>\n",
       "      <td>2013</td>\n",
       "      <td>Action</td>\n",
       "      <td>7.02</td>\n",
       "      <td>9.09</td>\n",
       "      <td>0.98</td>\n",
       "      <td>3.96</td>\n",
       "      <td>97.00</td>\n",
       "      <td>8.20</td>\n",
       "      <td>M</td>\n",
       "      <td>21.05</td>\n",
       "    </tr>\n",
       "    <tr>\n",
       "      <th>23</th>\n",
       "      <td>Grand Theft Auto V</td>\n",
       "      <td>X360</td>\n",
       "      <td>2013</td>\n",
       "      <td>Action</td>\n",
       "      <td>9.66</td>\n",
       "      <td>5.14</td>\n",
       "      <td>0.06</td>\n",
       "      <td>1.41</td>\n",
       "      <td>97.00</td>\n",
       "      <td>8.10</td>\n",
       "      <td>M</td>\n",
       "      <td>16.27</td>\n",
       "    </tr>\n",
       "    <tr>\n",
       "      <th>31</th>\n",
       "      <td>Call of Duty: Black Ops 3</td>\n",
       "      <td>PS4</td>\n",
       "      <td>2015</td>\n",
       "      <td>Shooter</td>\n",
       "      <td>6.03</td>\n",
       "      <td>5.86</td>\n",
       "      <td>0.36</td>\n",
       "      <td>2.38</td>\n",
       "      <td>NaN</td>\n",
       "      <td>NaN</td>\n",
       "      <td>NaN</td>\n",
       "      <td>14.63</td>\n",
       "    </tr>\n",
       "    <tr>\n",
       "      <th>42</th>\n",
       "      <td>Grand Theft Auto V</td>\n",
       "      <td>PS4</td>\n",
       "      <td>2014</td>\n",
       "      <td>Action</td>\n",
       "      <td>3.96</td>\n",
       "      <td>6.31</td>\n",
       "      <td>0.38</td>\n",
       "      <td>1.97</td>\n",
       "      <td>97.00</td>\n",
       "      <td>8.30</td>\n",
       "      <td>M</td>\n",
       "      <td>12.62</td>\n",
       "    </tr>\n",
       "    <tr>\n",
       "      <th>60</th>\n",
       "      <td>Call of Duty: Ghosts</td>\n",
       "      <td>X360</td>\n",
       "      <td>2013</td>\n",
       "      <td>Shooter</td>\n",
       "      <td>6.73</td>\n",
       "      <td>2.56</td>\n",
       "      <td>0.04</td>\n",
       "      <td>0.91</td>\n",
       "      <td>73.00</td>\n",
       "      <td>2.60</td>\n",
       "      <td>M</td>\n",
       "      <td>10.24</td>\n",
       "    </tr>\n",
       "    <tr>\n",
       "      <th>69</th>\n",
       "      <td>Call of Duty: Ghosts</td>\n",
       "      <td>PS3</td>\n",
       "      <td>2013</td>\n",
       "      <td>Shooter</td>\n",
       "      <td>4.10</td>\n",
       "      <td>3.63</td>\n",
       "      <td>0.38</td>\n",
       "      <td>1.25</td>\n",
       "      <td>71.00</td>\n",
       "      <td>2.60</td>\n",
       "      <td>M</td>\n",
       "      <td>9.36</td>\n",
       "    </tr>\n",
       "    <tr>\n",
       "      <th>87</th>\n",
       "      <td>Star Wars Battlefront (2015)</td>\n",
       "      <td>PS4</td>\n",
       "      <td>2015</td>\n",
       "      <td>Shooter</td>\n",
       "      <td>2.99</td>\n",
       "      <td>3.49</td>\n",
       "      <td>0.22</td>\n",
       "      <td>1.28</td>\n",
       "      <td>NaN</td>\n",
       "      <td>NaN</td>\n",
       "      <td>NaN</td>\n",
       "      <td>7.98</td>\n",
       "    </tr>\n",
       "    <tr>\n",
       "      <th>92</th>\n",
       "      <td>Call of Duty: Advanced Warfare</td>\n",
       "      <td>PS4</td>\n",
       "      <td>2014</td>\n",
       "      <td>Shooter</td>\n",
       "      <td>2.81</td>\n",
       "      <td>3.48</td>\n",
       "      <td>0.14</td>\n",
       "      <td>1.23</td>\n",
       "      <td>83.00</td>\n",
       "      <td>5.70</td>\n",
       "      <td>M</td>\n",
       "      <td>7.66</td>\n",
       "    </tr>\n",
       "    <tr>\n",
       "      <th>99</th>\n",
       "      <td>Call of Duty: Black Ops 3</td>\n",
       "      <td>XOne</td>\n",
       "      <td>2015</td>\n",
       "      <td>Shooter</td>\n",
       "      <td>4.59</td>\n",
       "      <td>2.11</td>\n",
       "      <td>0.01</td>\n",
       "      <td>0.68</td>\n",
       "      <td>NaN</td>\n",
       "      <td>NaN</td>\n",
       "      <td>NaN</td>\n",
       "      <td>7.39</td>\n",
       "    </tr>\n",
       "    <tr>\n",
       "      <th>149</th>\n",
       "      <td>The Last of Us</td>\n",
       "      <td>PS3</td>\n",
       "      <td>2013</td>\n",
       "      <td>Action</td>\n",
       "      <td>2.41</td>\n",
       "      <td>2.18</td>\n",
       "      <td>0.28</td>\n",
       "      <td>0.99</td>\n",
       "      <td>95.00</td>\n",
       "      <td>9.10</td>\n",
       "      <td>M</td>\n",
       "      <td>5.86</td>\n",
       "    </tr>\n",
       "    <tr>\n",
       "      <th>154</th>\n",
       "      <td>Destiny</td>\n",
       "      <td>PS4</td>\n",
       "      <td>2014</td>\n",
       "      <td>Shooter</td>\n",
       "      <td>2.49</td>\n",
       "      <td>2.07</td>\n",
       "      <td>0.16</td>\n",
       "      <td>0.92</td>\n",
       "      <td>76.00</td>\n",
       "      <td>6.10</td>\n",
       "      <td>T</td>\n",
       "      <td>5.64</td>\n",
       "    </tr>\n",
       "    <tr>\n",
       "      <th>165</th>\n",
       "      <td>Grand Theft Auto V</td>\n",
       "      <td>XOne</td>\n",
       "      <td>2014</td>\n",
       "      <td>Action</td>\n",
       "      <td>2.81</td>\n",
       "      <td>2.19</td>\n",
       "      <td>0.00</td>\n",
       "      <td>0.47</td>\n",
       "      <td>97.00</td>\n",
       "      <td>7.90</td>\n",
       "      <td>M</td>\n",
       "      <td>5.47</td>\n",
       "    </tr>\n",
       "    <tr>\n",
       "      <th>171</th>\n",
       "      <td>Uncharted 4: A Thief's End</td>\n",
       "      <td>PS4</td>\n",
       "      <td>2016</td>\n",
       "      <td>Shooter</td>\n",
       "      <td>1.85</td>\n",
       "      <td>2.50</td>\n",
       "      <td>0.19</td>\n",
       "      <td>0.85</td>\n",
       "      <td>93.00</td>\n",
       "      <td>7.90</td>\n",
       "      <td>T</td>\n",
       "      <td>5.39</td>\n",
       "    </tr>\n",
       "    <tr>\n",
       "      <th>179</th>\n",
       "      <td>Call of Duty: Advanced Warfare</td>\n",
       "      <td>XOne</td>\n",
       "      <td>2014</td>\n",
       "      <td>Shooter</td>\n",
       "      <td>3.22</td>\n",
       "      <td>1.55</td>\n",
       "      <td>0.01</td>\n",
       "      <td>0.48</td>\n",
       "      <td>81.00</td>\n",
       "      <td>5.40</td>\n",
       "      <td>M</td>\n",
       "      <td>5.26</td>\n",
       "    </tr>\n",
       "    <tr>\n",
       "      <th>224</th>\n",
       "      <td>The Last of Us</td>\n",
       "      <td>PS4</td>\n",
       "      <td>2014</td>\n",
       "      <td>Action</td>\n",
       "      <td>1.88</td>\n",
       "      <td>2.00</td>\n",
       "      <td>0.07</td>\n",
       "      <td>0.77</td>\n",
       "      <td>NaN</td>\n",
       "      <td>NaN</td>\n",
       "      <td>NaN</td>\n",
       "      <td>4.72</td>\n",
       "    </tr>\n",
       "  </tbody>\n",
       "</table>\n",
       "</div>"
      ],
      "text/plain": [
       "                               name platform  year_of_release    genre  \\\n",
       "16               Grand Theft Auto V      PS3             2013   Action   \n",
       "23               Grand Theft Auto V     X360             2013   Action   \n",
       "31        Call of Duty: Black Ops 3      PS4             2015  Shooter   \n",
       "42               Grand Theft Auto V      PS4             2014   Action   \n",
       "60             Call of Duty: Ghosts     X360             2013  Shooter   \n",
       "69             Call of Duty: Ghosts      PS3             2013  Shooter   \n",
       "87     Star Wars Battlefront (2015)      PS4             2015  Shooter   \n",
       "92   Call of Duty: Advanced Warfare      PS4             2014  Shooter   \n",
       "99        Call of Duty: Black Ops 3     XOne             2015  Shooter   \n",
       "149                  The Last of Us      PS3             2013   Action   \n",
       "154                         Destiny      PS4             2014  Shooter   \n",
       "165              Grand Theft Auto V     XOne             2014   Action   \n",
       "171      Uncharted 4: A Thief's End      PS4             2016  Shooter   \n",
       "179  Call of Duty: Advanced Warfare     XOne             2014  Shooter   \n",
       "224                  The Last of Us      PS4             2014   Action   \n",
       "\n",
       "     na_sales  eu_sales  jp_sales  other_sales  critic_score  user_score  \\\n",
       "16       7.02      9.09      0.98         3.96         97.00        8.20   \n",
       "23       9.66      5.14      0.06         1.41         97.00        8.10   \n",
       "31       6.03      5.86      0.36         2.38           NaN         NaN   \n",
       "42       3.96      6.31      0.38         1.97         97.00        8.30   \n",
       "60       6.73      2.56      0.04         0.91         73.00        2.60   \n",
       "69       4.10      3.63      0.38         1.25         71.00        2.60   \n",
       "87       2.99      3.49      0.22         1.28           NaN         NaN   \n",
       "92       2.81      3.48      0.14         1.23         83.00        5.70   \n",
       "99       4.59      2.11      0.01         0.68           NaN         NaN   \n",
       "149      2.41      2.18      0.28         0.99         95.00        9.10   \n",
       "154      2.49      2.07      0.16         0.92         76.00        6.10   \n",
       "165      2.81      2.19      0.00         0.47         97.00        7.90   \n",
       "171      1.85      2.50      0.19         0.85         93.00        7.90   \n",
       "179      3.22      1.55      0.01         0.48         81.00        5.40   \n",
       "224      1.88      2.00      0.07         0.77           NaN         NaN   \n",
       "\n",
       "    rating  sum_sales  \n",
       "16       M      21.05  \n",
       "23       M      16.27  \n",
       "31     NaN      14.63  \n",
       "42       M      12.62  \n",
       "60       M      10.24  \n",
       "69       M       9.36  \n",
       "87     NaN       7.98  \n",
       "92       M       7.66  \n",
       "99     NaN       7.39  \n",
       "149      M       5.86  \n",
       "154      T       5.64  \n",
       "165      M       5.47  \n",
       "171      T       5.39  \n",
       "179      M       5.26  \n",
       "224    NaN       4.72  "
      ]
     },
     "execution_count": 39,
     "metadata": {},
     "output_type": "execute_result"
    }
   ],
   "source": [
    "#определяем наиболее популярные игры в популярных жанрах\n",
    "\n",
    "genre_games = games_actual_period.query('genre == \"Action\" | genre == \"Shooter\"').sort_values(by='sum_sales', ascending=False).head(15)\n",
    "\n",
    "genre_games"
   ]
  },
  {
   "cell_type": "code",
   "execution_count": 40,
   "metadata": {},
   "outputs": [
    {
     "data": {
      "image/png": "[encoded data removed]",
      "text/plain": [
       "<Figure size 1080x504 with 1 Axes>"
      ]
     },
     "metadata": {
      "needs_background": "light"
     },
     "output_type": "display_data"
    }
   ],
   "source": [
    "#также построим гистограмму для более наглядного распределения\n",
    "\n",
    "genre.plot(kind='bar', figsize=(15,7))\n",
    "\n",
    "plt.legend(loc='upper right')\n",
    "plt.title('Распределение суммарных продаж по жанрам за актуальный период')\n",
    "plt.xlabel('Жанр')\n",
    "plt.ylabel('Суммарные продажи, млн копий')\n",
    "plt.show()"
   ]
  },
  {
   "cell_type": "code",
   "execution_count": 41,
   "metadata": {},
   "outputs": [
    {
     "data": {
      "text/html": [
       "<div>\n",
       "<style scoped>\n",
       "    .dataframe tbody tr th:only-of-type {\n",
       "        vertical-align: middle;\n",
       "    }\n",
       "\n",
       "    .dataframe tbody tr th {\n",
       "        vertical-align: top;\n",
       "    }\n",
       "\n",
       "    .dataframe thead th {\n",
       "        text-align: right;\n",
       "    }\n",
       "</style>\n",
       "<table border=\"1\" class=\"dataframe\">\n",
       "  <thead>\n",
       "    <tr style=\"text-align: right;\">\n",
       "      <th></th>\n",
       "      <th>sum_sales</th>\n",
       "    </tr>\n",
       "    <tr>\n",
       "      <th>genre</th>\n",
       "      <th></th>\n",
       "    </tr>\n",
       "  </thead>\n",
       "  <tbody>\n",
       "    <tr>\n",
       "      <th>Shooter</th>\n",
       "      <td>0.45</td>\n",
       "    </tr>\n",
       "    <tr>\n",
       "      <th>Sports</th>\n",
       "      <td>0.24</td>\n",
       "    </tr>\n",
       "    <tr>\n",
       "      <th>Platform</th>\n",
       "      <td>0.22</td>\n",
       "    </tr>\n",
       "    <tr>\n",
       "      <th>Role-Playing</th>\n",
       "      <td>0.12</td>\n",
       "    </tr>\n",
       "    <tr>\n",
       "      <th>Fighting</th>\n",
       "      <td>0.12</td>\n",
       "    </tr>\n",
       "    <tr>\n",
       "      <th>Racing</th>\n",
       "      <td>0.12</td>\n",
       "    </tr>\n",
       "    <tr>\n",
       "      <th>Action</th>\n",
       "      <td>0.11</td>\n",
       "    </tr>\n",
       "    <tr>\n",
       "      <th>Simulation</th>\n",
       "      <td>0.10</td>\n",
       "    </tr>\n",
       "    <tr>\n",
       "      <th>Misc</th>\n",
       "      <td>0.10</td>\n",
       "    </tr>\n",
       "    <tr>\n",
       "      <th>Strategy</th>\n",
       "      <td>0.08</td>\n",
       "    </tr>\n",
       "    <tr>\n",
       "      <th>Puzzle</th>\n",
       "      <td>0.06</td>\n",
       "    </tr>\n",
       "    <tr>\n",
       "      <th>Adventure</th>\n",
       "      <td>0.03</td>\n",
       "    </tr>\n",
       "  </tbody>\n",
       "</table>\n",
       "</div>"
      ],
      "text/plain": [
       "              sum_sales\n",
       "genre                  \n",
       "Shooter            0.45\n",
       "Sports             0.24\n",
       "Platform           0.22\n",
       "Role-Playing       0.12\n",
       "Fighting           0.12\n",
       "Racing             0.12\n",
       "Action             0.11\n",
       "Simulation         0.10\n",
       "Misc               0.10\n",
       "Strategy           0.08\n",
       "Puzzle             0.06\n",
       "Adventure          0.03"
      ]
     },
     "execution_count": 41,
     "metadata": {},
     "output_type": "execute_result"
    }
   ],
   "source": [
    "#составим сводную таблицу по жанрам для дальнейшей работы\n",
    "\n",
    "genre_mean = games_actual_period.pivot_table(index='genre', values='sum_sales', aggfunc='median').sort_values(by='sum_sales', ascending=False)\n",
    "\n",
    "genre_mean"
   ]
  },
  {
   "cell_type": "code",
   "execution_count": 42,
   "metadata": {},
   "outputs": [
    {
     "data": {
      "text/html": [
       "<div>\n",
       "<style scoped>\n",
       "    .dataframe tbody tr th:only-of-type {\n",
       "        vertical-align: middle;\n",
       "    }\n",
       "\n",
       "    .dataframe tbody tr th {\n",
       "        vertical-align: top;\n",
       "    }\n",
       "\n",
       "    .dataframe thead th {\n",
       "        text-align: right;\n",
       "    }\n",
       "</style>\n",
       "<table border=\"1\" class=\"dataframe\">\n",
       "  <thead>\n",
       "    <tr style=\"text-align: right;\">\n",
       "      <th></th>\n",
       "      <th>name</th>\n",
       "      <th>platform</th>\n",
       "      <th>year_of_release</th>\n",
       "      <th>genre</th>\n",
       "      <th>na_sales</th>\n",
       "      <th>eu_sales</th>\n",
       "      <th>jp_sales</th>\n",
       "      <th>other_sales</th>\n",
       "      <th>critic_score</th>\n",
       "      <th>user_score</th>\n",
       "      <th>rating</th>\n",
       "      <th>sum_sales</th>\n",
       "    </tr>\n",
       "  </thead>\n",
       "  <tbody>\n",
       "    <tr>\n",
       "      <th>31</th>\n",
       "      <td>Call of Duty: Black Ops 3</td>\n",
       "      <td>PS4</td>\n",
       "      <td>2015</td>\n",
       "      <td>Shooter</td>\n",
       "      <td>6.03</td>\n",
       "      <td>5.86</td>\n",
       "      <td>0.36</td>\n",
       "      <td>2.38</td>\n",
       "      <td>NaN</td>\n",
       "      <td>NaN</td>\n",
       "      <td>NaN</td>\n",
       "      <td>14.63</td>\n",
       "    </tr>\n",
       "    <tr>\n",
       "      <th>60</th>\n",
       "      <td>Call of Duty: Ghosts</td>\n",
       "      <td>X360</td>\n",
       "      <td>2013</td>\n",
       "      <td>Shooter</td>\n",
       "      <td>6.73</td>\n",
       "      <td>2.56</td>\n",
       "      <td>0.04</td>\n",
       "      <td>0.91</td>\n",
       "      <td>73.00</td>\n",
       "      <td>2.60</td>\n",
       "      <td>M</td>\n",
       "      <td>10.24</td>\n",
       "    </tr>\n",
       "    <tr>\n",
       "      <th>69</th>\n",
       "      <td>Call of Duty: Ghosts</td>\n",
       "      <td>PS3</td>\n",
       "      <td>2013</td>\n",
       "      <td>Shooter</td>\n",
       "      <td>4.10</td>\n",
       "      <td>3.63</td>\n",
       "      <td>0.38</td>\n",
       "      <td>1.25</td>\n",
       "      <td>71.00</td>\n",
       "      <td>2.60</td>\n",
       "      <td>M</td>\n",
       "      <td>9.36</td>\n",
       "    </tr>\n",
       "    <tr>\n",
       "      <th>77</th>\n",
       "      <td>FIFA 16</td>\n",
       "      <td>PS4</td>\n",
       "      <td>2015</td>\n",
       "      <td>Sports</td>\n",
       "      <td>1.12</td>\n",
       "      <td>6.12</td>\n",
       "      <td>0.06</td>\n",
       "      <td>1.28</td>\n",
       "      <td>82.00</td>\n",
       "      <td>4.30</td>\n",
       "      <td>E</td>\n",
       "      <td>8.58</td>\n",
       "    </tr>\n",
       "    <tr>\n",
       "      <th>87</th>\n",
       "      <td>Star Wars Battlefront (2015)</td>\n",
       "      <td>PS4</td>\n",
       "      <td>2015</td>\n",
       "      <td>Shooter</td>\n",
       "      <td>2.99</td>\n",
       "      <td>3.49</td>\n",
       "      <td>0.22</td>\n",
       "      <td>1.28</td>\n",
       "      <td>NaN</td>\n",
       "      <td>NaN</td>\n",
       "      <td>NaN</td>\n",
       "      <td>7.98</td>\n",
       "    </tr>\n",
       "    <tr>\n",
       "      <th>92</th>\n",
       "      <td>Call of Duty: Advanced Warfare</td>\n",
       "      <td>PS4</td>\n",
       "      <td>2014</td>\n",
       "      <td>Shooter</td>\n",
       "      <td>2.81</td>\n",
       "      <td>3.48</td>\n",
       "      <td>0.14</td>\n",
       "      <td>1.23</td>\n",
       "      <td>83.00</td>\n",
       "      <td>5.70</td>\n",
       "      <td>M</td>\n",
       "      <td>7.66</td>\n",
       "    </tr>\n",
       "    <tr>\n",
       "      <th>94</th>\n",
       "      <td>FIFA 17</td>\n",
       "      <td>PS4</td>\n",
       "      <td>2016</td>\n",
       "      <td>Sports</td>\n",
       "      <td>0.66</td>\n",
       "      <td>5.75</td>\n",
       "      <td>0.08</td>\n",
       "      <td>1.11</td>\n",
       "      <td>85.00</td>\n",
       "      <td>5.00</td>\n",
       "      <td>E</td>\n",
       "      <td>7.60</td>\n",
       "    </tr>\n",
       "    <tr>\n",
       "      <th>99</th>\n",
       "      <td>Call of Duty: Black Ops 3</td>\n",
       "      <td>XOne</td>\n",
       "      <td>2015</td>\n",
       "      <td>Shooter</td>\n",
       "      <td>4.59</td>\n",
       "      <td>2.11</td>\n",
       "      <td>0.01</td>\n",
       "      <td>0.68</td>\n",
       "      <td>NaN</td>\n",
       "      <td>NaN</td>\n",
       "      <td>NaN</td>\n",
       "      <td>7.39</td>\n",
       "    </tr>\n",
       "    <tr>\n",
       "      <th>126</th>\n",
       "      <td>FIFA 14</td>\n",
       "      <td>PS3</td>\n",
       "      <td>2013</td>\n",
       "      <td>Sports</td>\n",
       "      <td>0.78</td>\n",
       "      <td>4.24</td>\n",
       "      <td>0.07</td>\n",
       "      <td>1.37</td>\n",
       "      <td>86.00</td>\n",
       "      <td>4.30</td>\n",
       "      <td>E</td>\n",
       "      <td>6.46</td>\n",
       "    </tr>\n",
       "    <tr>\n",
       "      <th>143</th>\n",
       "      <td>FIFA 15</td>\n",
       "      <td>PS4</td>\n",
       "      <td>2014</td>\n",
       "      <td>Sports</td>\n",
       "      <td>0.80</td>\n",
       "      <td>4.33</td>\n",
       "      <td>0.05</td>\n",
       "      <td>0.90</td>\n",
       "      <td>82.00</td>\n",
       "      <td>5.70</td>\n",
       "      <td>E</td>\n",
       "      <td>6.08</td>\n",
       "    </tr>\n",
       "    <tr>\n",
       "      <th>154</th>\n",
       "      <td>Destiny</td>\n",
       "      <td>PS4</td>\n",
       "      <td>2014</td>\n",
       "      <td>Shooter</td>\n",
       "      <td>2.49</td>\n",
       "      <td>2.07</td>\n",
       "      <td>0.16</td>\n",
       "      <td>0.92</td>\n",
       "      <td>76.00</td>\n",
       "      <td>6.10</td>\n",
       "      <td>T</td>\n",
       "      <td>5.64</td>\n",
       "    </tr>\n",
       "    <tr>\n",
       "      <th>171</th>\n",
       "      <td>Uncharted 4: A Thief's End</td>\n",
       "      <td>PS4</td>\n",
       "      <td>2016</td>\n",
       "      <td>Shooter</td>\n",
       "      <td>1.85</td>\n",
       "      <td>2.50</td>\n",
       "      <td>0.19</td>\n",
       "      <td>0.85</td>\n",
       "      <td>93.00</td>\n",
       "      <td>7.90</td>\n",
       "      <td>T</td>\n",
       "      <td>5.39</td>\n",
       "    </tr>\n",
       "    <tr>\n",
       "      <th>179</th>\n",
       "      <td>Call of Duty: Advanced Warfare</td>\n",
       "      <td>XOne</td>\n",
       "      <td>2014</td>\n",
       "      <td>Shooter</td>\n",
       "      <td>3.22</td>\n",
       "      <td>1.55</td>\n",
       "      <td>0.01</td>\n",
       "      <td>0.48</td>\n",
       "      <td>81.00</td>\n",
       "      <td>5.40</td>\n",
       "      <td>M</td>\n",
       "      <td>5.26</td>\n",
       "    </tr>\n",
       "    <tr>\n",
       "      <th>241</th>\n",
       "      <td>Halo 5: Guardians</td>\n",
       "      <td>XOne</td>\n",
       "      <td>2015</td>\n",
       "      <td>Shooter</td>\n",
       "      <td>2.78</td>\n",
       "      <td>1.27</td>\n",
       "      <td>0.03</td>\n",
       "      <td>0.41</td>\n",
       "      <td>84.00</td>\n",
       "      <td>6.40</td>\n",
       "      <td>T</td>\n",
       "      <td>4.49</td>\n",
       "    </tr>\n",
       "    <tr>\n",
       "      <th>244</th>\n",
       "      <td>Call of Duty: Infinite Warfare</td>\n",
       "      <td>PS4</td>\n",
       "      <td>2016</td>\n",
       "      <td>Shooter</td>\n",
       "      <td>1.61</td>\n",
       "      <td>2.00</td>\n",
       "      <td>0.15</td>\n",
       "      <td>0.71</td>\n",
       "      <td>77.00</td>\n",
       "      <td>3.40</td>\n",
       "      <td>M</td>\n",
       "      <td>4.47</td>\n",
       "    </tr>\n",
       "  </tbody>\n",
       "</table>\n",
       "</div>"
      ],
      "text/plain": [
       "                               name platform  year_of_release    genre  \\\n",
       "31        Call of Duty: Black Ops 3      PS4             2015  Shooter   \n",
       "60             Call of Duty: Ghosts     X360             2013  Shooter   \n",
       "69             Call of Duty: Ghosts      PS3             2013  Shooter   \n",
       "77                          FIFA 16      PS4             2015   Sports   \n",
       "87     Star Wars Battlefront (2015)      PS4             2015  Shooter   \n",
       "92   Call of Duty: Advanced Warfare      PS4             2014  Shooter   \n",
       "94                          FIFA 17      PS4             2016   Sports   \n",
       "99        Call of Duty: Black Ops 3     XOne             2015  Shooter   \n",
       "126                         FIFA 14      PS3             2013   Sports   \n",
       "143                         FIFA 15      PS4             2014   Sports   \n",
       "154                         Destiny      PS4             2014  Shooter   \n",
       "171      Uncharted 4: A Thief's End      PS4             2016  Shooter   \n",
       "179  Call of Duty: Advanced Warfare     XOne             2014  Shooter   \n",
       "241               Halo 5: Guardians     XOne             2015  Shooter   \n",
       "244  Call of Duty: Infinite Warfare      PS4             2016  Shooter   \n",
       "\n",
       "     na_sales  eu_sales  jp_sales  other_sales  critic_score  user_score  \\\n",
       "31       6.03      5.86      0.36         2.38           NaN         NaN   \n",
       "60       6.73      2.56      0.04         0.91         73.00        2.60   \n",
       "69       4.10      3.63      0.38         1.25         71.00        2.60   \n",
       "77       1.12      6.12      0.06         1.28         82.00        4.30   \n",
       "87       2.99      3.49      0.22         1.28           NaN         NaN   \n",
       "92       2.81      3.48      0.14         1.23         83.00        5.70   \n",
       "94       0.66      5.75      0.08         1.11         85.00        5.00   \n",
       "99       4.59      2.11      0.01         0.68           NaN         NaN   \n",
       "126      0.78      4.24      0.07         1.37         86.00        4.30   \n",
       "143      0.80      4.33      0.05         0.90         82.00        5.70   \n",
       "154      2.49      2.07      0.16         0.92         76.00        6.10   \n",
       "171      1.85      2.50      0.19         0.85         93.00        7.90   \n",
       "179      3.22      1.55      0.01         0.48         81.00        5.40   \n",
       "241      2.78      1.27      0.03         0.41         84.00        6.40   \n",
       "244      1.61      2.00      0.15         0.71         77.00        3.40   \n",
       "\n",
       "    rating  sum_sales  \n",
       "31     NaN      14.63  \n",
       "60       M      10.24  \n",
       "69       M       9.36  \n",
       "77       E       8.58  \n",
       "87     NaN       7.98  \n",
       "92       M       7.66  \n",
       "94       E       7.60  \n",
       "99     NaN       7.39  \n",
       "126      E       6.46  \n",
       "143      E       6.08  \n",
       "154      T       5.64  \n",
       "171      T       5.39  \n",
       "179      M       5.26  \n",
       "241      T       4.49  \n",
       "244      M       4.47  "
      ]
     },
     "execution_count": 42,
     "metadata": {},
     "output_type": "execute_result"
    }
   ],
   "source": [
    "#определяем наиболее популярные игры в популярных жанрах\n",
    "\n",
    "genre_mean_games = games_actual_period.query('genre == \"Sports\" | genre == \"Shooter\"').sort_values(by='sum_sales', ascending=False).head(15)\n",
    "\n",
    "genre_mean_games"
   ]
  },
  {
   "cell_type": "code",
   "execution_count": 43,
   "metadata": {},
   "outputs": [
    {
     "data": {
      "image/png": "[encoded data removed]",
      "text/plain": [
       "<Figure size 1080x504 with 1 Axes>"
      ]
     },
     "metadata": {
      "needs_background": "light"
     },
     "output_type": "display_data"
    }
   ],
   "source": [
    "#также построим гистограмму для более наглядного распределения\n",
    "\n",
    "genre_mean.plot(kind='bar', figsize=(15,7))\n",
    "\n",
    "plt.legend(loc='upper right')\n",
    "plt.title('Распределение суммарных продаж по жанрам за актуальный период')\n",
    "plt.xlabel('Жанр')\n",
    "plt.ylabel('Суммарные продажи, млн копий')\n",
    "plt.show()"
   ]
  },
  {
   "cell_type": "markdown",
   "metadata": {},
   "source": [
    "<div class=\"alert alert-info\">\n",
    "<b>Комментарий студента обновленный:</b>\n",
    "<br>\n",
    "Можно отметить, что продажи игр по жанрам достаточно неоднородны. Есть лидеры в жанрах, такие как шутеры и спорт, есть и аутсайдеры: стратегии, пазлы и приключения. \n",
    "<br>    \n",
    "Стабильный доход приносят игры жанров \"шутер\" и \"спорт\", в частности можно отметить игры серии Call of Duty и FIFA.  \n",
    "<br>\n",
    "Действительно, это больше похоже на правду, потому что игры, которые выходят сериями и если они популярны у пользователей, то есть шанс, что и в дальнейшем их будут охотно приобретать пользователи.\n",
    "</div>"
   ]
  },
  {
   "cell_type": "markdown",
   "metadata": {},
   "source": [
    "## Составьте портрет пользователя каждого региона\n",
    "Определите для пользователя каждого региона (NA, EU, JP):\n"
   ]
  },
  {
   "cell_type": "markdown",
   "metadata": {},
   "source": [
    "\n",
    "### Самые популярные платформы (топ-5). Опишите различия в долях продаж.\n"
   ]
  },
  {
   "cell_type": "code",
   "execution_count": 44,
   "metadata": {},
   "outputs": [],
   "source": [
    "#для того, чтобы определить популярные платформы и жанры по регионам напишем функцию\n",
    "\n",
    "def pop_reg_platform(type_data, region):\n",
    "    result = games_actual_period.pivot_table(index=type_data, values=region, aggfunc='sum').sort_values(by=region, ascending=False).head()\n",
    "    result['sum_reg_sales'] =  result[region].sum()\n",
    "    result['ratio'] = result[region]/result['sum_reg_sales']\n",
    "    return result.sort_values(by='ratio', ascending=False)"
   ]
  },
  {
   "cell_type": "code",
   "execution_count": 45,
   "metadata": {},
   "outputs": [
    {
     "data": {
      "text/html": [
       "<div>\n",
       "<style scoped>\n",
       "    .dataframe tbody tr th:only-of-type {\n",
       "        vertical-align: middle;\n",
       "    }\n",
       "\n",
       "    .dataframe tbody tr th {\n",
       "        vertical-align: top;\n",
       "    }\n",
       "\n",
       "    .dataframe thead th {\n",
       "        text-align: right;\n",
       "    }\n",
       "</style>\n",
       "<table border=\"1\" class=\"dataframe\">\n",
       "  <thead>\n",
       "    <tr style=\"text-align: right;\">\n",
       "      <th></th>\n",
       "      <th>na_sales</th>\n",
       "      <th>sum_reg_sales</th>\n",
       "      <th>ratio</th>\n",
       "    </tr>\n",
       "    <tr>\n",
       "      <th>platform</th>\n",
       "      <th></th>\n",
       "      <th></th>\n",
       "      <th></th>\n",
       "    </tr>\n",
       "  </thead>\n",
       "  <tbody>\n",
       "    <tr>\n",
       "      <th>PS4</th>\n",
       "      <td>108.74</td>\n",
       "      <td>385.22</td>\n",
       "      <td>0.28</td>\n",
       "    </tr>\n",
       "    <tr>\n",
       "      <th>XOne</th>\n",
       "      <td>93.12</td>\n",
       "      <td>385.22</td>\n",
       "      <td>0.24</td>\n",
       "    </tr>\n",
       "    <tr>\n",
       "      <th>X360</th>\n",
       "      <td>81.66</td>\n",
       "      <td>385.22</td>\n",
       "      <td>0.21</td>\n",
       "    </tr>\n",
       "    <tr>\n",
       "      <th>PS3</th>\n",
       "      <td>63.50</td>\n",
       "      <td>385.22</td>\n",
       "      <td>0.16</td>\n",
       "    </tr>\n",
       "    <tr>\n",
       "      <th>3DS</th>\n",
       "      <td>38.20</td>\n",
       "      <td>385.22</td>\n",
       "      <td>0.10</td>\n",
       "    </tr>\n",
       "  </tbody>\n",
       "</table>\n",
       "</div>"
      ],
      "text/plain": [
       "          na_sales  sum_reg_sales  ratio\n",
       "platform                                \n",
       "PS4         108.74         385.22   0.28\n",
       "XOne         93.12         385.22   0.24\n",
       "X360         81.66         385.22   0.21\n",
       "PS3          63.50         385.22   0.16\n",
       "3DS          38.20         385.22   0.10"
      ]
     },
     "execution_count": 45,
     "metadata": {},
     "output_type": "execute_result"
    }
   ],
   "source": [
    "#посмотрим какие платформы популярны в Северной Америке\n",
    "\n",
    "pop_reg_platform('platform', 'na_sales')"
   ]
  },
  {
   "cell_type": "code",
   "execution_count": 46,
   "metadata": {
    "scrolled": true
   },
   "outputs": [
    {
     "data": {
      "text/html": [
       "<div>\n",
       "<style scoped>\n",
       "    .dataframe tbody tr th:only-of-type {\n",
       "        vertical-align: middle;\n",
       "    }\n",
       "\n",
       "    .dataframe tbody tr th {\n",
       "        vertical-align: top;\n",
       "    }\n",
       "\n",
       "    .dataframe thead th {\n",
       "        text-align: right;\n",
       "    }\n",
       "</style>\n",
       "<table border=\"1\" class=\"dataframe\">\n",
       "  <thead>\n",
       "    <tr style=\"text-align: right;\">\n",
       "      <th></th>\n",
       "      <th>eu_sales</th>\n",
       "      <th>sum_reg_sales</th>\n",
       "      <th>ratio</th>\n",
       "    </tr>\n",
       "    <tr>\n",
       "      <th>platform</th>\n",
       "      <th></th>\n",
       "      <th></th>\n",
       "      <th></th>\n",
       "    </tr>\n",
       "  </thead>\n",
       "  <tbody>\n",
       "    <tr>\n",
       "      <th>PS4</th>\n",
       "      <td>141.09</td>\n",
       "      <td>333.97</td>\n",
       "      <td>0.42</td>\n",
       "    </tr>\n",
       "    <tr>\n",
       "      <th>PS3</th>\n",
       "      <td>67.81</td>\n",
       "      <td>333.97</td>\n",
       "      <td>0.20</td>\n",
       "    </tr>\n",
       "    <tr>\n",
       "      <th>XOne</th>\n",
       "      <td>51.59</td>\n",
       "      <td>333.97</td>\n",
       "      <td>0.15</td>\n",
       "    </tr>\n",
       "    <tr>\n",
       "      <th>X360</th>\n",
       "      <td>42.52</td>\n",
       "      <td>333.97</td>\n",
       "      <td>0.13</td>\n",
       "    </tr>\n",
       "    <tr>\n",
       "      <th>3DS</th>\n",
       "      <td>30.96</td>\n",
       "      <td>333.97</td>\n",
       "      <td>0.09</td>\n",
       "    </tr>\n",
       "  </tbody>\n",
       "</table>\n",
       "</div>"
      ],
      "text/plain": [
       "          eu_sales  sum_reg_sales  ratio\n",
       "platform                                \n",
       "PS4         141.09         333.97   0.42\n",
       "PS3          67.81         333.97   0.20\n",
       "XOne         51.59         333.97   0.15\n",
       "X360         42.52         333.97   0.13\n",
       "3DS          30.96         333.97   0.09"
      ]
     },
     "execution_count": 46,
     "metadata": {},
     "output_type": "execute_result"
    }
   ],
   "source": [
    "#посмотрим какие платформы популярны в Европе\n",
    "\n",
    "pop_reg_platform('platform', 'eu_sales')"
   ]
  },
  {
   "cell_type": "code",
   "execution_count": 47,
   "metadata": {},
   "outputs": [
    {
     "data": {
      "text/html": [
       "<div>\n",
       "<style scoped>\n",
       "    .dataframe tbody tr th:only-of-type {\n",
       "        vertical-align: middle;\n",
       "    }\n",
       "\n",
       "    .dataframe tbody tr th {\n",
       "        vertical-align: top;\n",
       "    }\n",
       "\n",
       "    .dataframe thead th {\n",
       "        text-align: right;\n",
       "    }\n",
       "</style>\n",
       "<table border=\"1\" class=\"dataframe\">\n",
       "  <thead>\n",
       "    <tr style=\"text-align: right;\">\n",
       "      <th></th>\n",
       "      <th>jp_sales</th>\n",
       "      <th>sum_reg_sales</th>\n",
       "      <th>ratio</th>\n",
       "    </tr>\n",
       "    <tr>\n",
       "      <th>platform</th>\n",
       "      <th></th>\n",
       "      <th></th>\n",
       "      <th></th>\n",
       "    </tr>\n",
       "  </thead>\n",
       "  <tbody>\n",
       "    <tr>\n",
       "      <th>3DS</th>\n",
       "      <td>67.81</td>\n",
       "      <td>136.59</td>\n",
       "      <td>0.50</td>\n",
       "    </tr>\n",
       "    <tr>\n",
       "      <th>PS3</th>\n",
       "      <td>23.35</td>\n",
       "      <td>136.59</td>\n",
       "      <td>0.17</td>\n",
       "    </tr>\n",
       "    <tr>\n",
       "      <th>PSV</th>\n",
       "      <td>18.59</td>\n",
       "      <td>136.59</td>\n",
       "      <td>0.14</td>\n",
       "    </tr>\n",
       "    <tr>\n",
       "      <th>PS4</th>\n",
       "      <td>15.96</td>\n",
       "      <td>136.59</td>\n",
       "      <td>0.12</td>\n",
       "    </tr>\n",
       "    <tr>\n",
       "      <th>WiiU</th>\n",
       "      <td>10.88</td>\n",
       "      <td>136.59</td>\n",
       "      <td>0.08</td>\n",
       "    </tr>\n",
       "  </tbody>\n",
       "</table>\n",
       "</div>"
      ],
      "text/plain": [
       "          jp_sales  sum_reg_sales  ratio\n",
       "platform                                \n",
       "3DS          67.81         136.59   0.50\n",
       "PS3          23.35         136.59   0.17\n",
       "PSV          18.59         136.59   0.14\n",
       "PS4          15.96         136.59   0.12\n",
       "WiiU         10.88         136.59   0.08"
      ]
     },
     "execution_count": 47,
     "metadata": {},
     "output_type": "execute_result"
    }
   ],
   "source": [
    "#посмотрим какие платформы популярны в Японии\n",
    "\n",
    "pop_reg_platform('platform', 'jp_sales')"
   ]
  },
  {
   "cell_type": "markdown",
   "metadata": {},
   "source": [
    "<div class=\"alert alert-info\">\n",
    "<b>Комментарий студента обновленный:</b>\n",
    "<br>\n",
    "Спасибо за замечание. Действительно это более знаковый и правильный показатель. При выполнении проекта потерял нить размышлений, куда-то не туда пошел.\n",
    "<br>\n",
    "В лидерах Северной Америки такие платформы как PS4 и XOne. Можно предположить, что последние модели игровых платформ от Sony и Microsoft пришлись по душе пользователям.\n",
    "<br>   \n",
    "По европейской части можно сказать, что большее предпочтение отдается играм на PS4 и PS3 от Sony. \n",
    "<br>\n",
    "В Японии со значительным отрывом лидирует портативная приставка от Nintendo.    \n",
    "</div>"
   ]
  },
  {
   "cell_type": "markdown",
   "metadata": {},
   "source": [
    "### Самые популярные жанры (топ-5). Поясните разницу.\n"
   ]
  },
  {
   "cell_type": "code",
   "execution_count": 48,
   "metadata": {},
   "outputs": [
    {
     "data": {
      "text/html": [
       "<div>\n",
       "<style scoped>\n",
       "    .dataframe tbody tr th:only-of-type {\n",
       "        vertical-align: middle;\n",
       "    }\n",
       "\n",
       "    .dataframe tbody tr th {\n",
       "        vertical-align: top;\n",
       "    }\n",
       "\n",
       "    .dataframe thead th {\n",
       "        text-align: right;\n",
       "    }\n",
       "</style>\n",
       "<table border=\"1\" class=\"dataframe\">\n",
       "  <thead>\n",
       "    <tr style=\"text-align: right;\">\n",
       "      <th></th>\n",
       "      <th>na_sales</th>\n",
       "      <th>sum_reg_sales</th>\n",
       "      <th>ratio</th>\n",
       "    </tr>\n",
       "    <tr>\n",
       "      <th>genre</th>\n",
       "      <th></th>\n",
       "      <th></th>\n",
       "      <th></th>\n",
       "    </tr>\n",
       "  </thead>\n",
       "  <tbody>\n",
       "    <tr>\n",
       "      <th>Action</th>\n",
       "      <td>126.05</td>\n",
       "      <td>374.95</td>\n",
       "      <td>0.34</td>\n",
       "    </tr>\n",
       "    <tr>\n",
       "      <th>Shooter</th>\n",
       "      <td>109.74</td>\n",
       "      <td>374.95</td>\n",
       "      <td>0.29</td>\n",
       "    </tr>\n",
       "    <tr>\n",
       "      <th>Sports</th>\n",
       "      <td>65.27</td>\n",
       "      <td>374.95</td>\n",
       "      <td>0.17</td>\n",
       "    </tr>\n",
       "    <tr>\n",
       "      <th>Role-Playing</th>\n",
       "      <td>46.40</td>\n",
       "      <td>374.95</td>\n",
       "      <td>0.12</td>\n",
       "    </tr>\n",
       "    <tr>\n",
       "      <th>Misc</th>\n",
       "      <td>27.49</td>\n",
       "      <td>374.95</td>\n",
       "      <td>0.07</td>\n",
       "    </tr>\n",
       "  </tbody>\n",
       "</table>\n",
       "</div>"
      ],
      "text/plain": [
       "              na_sales  sum_reg_sales  ratio\n",
       "genre                                       \n",
       "Action          126.05         374.95   0.34\n",
       "Shooter         109.74         374.95   0.29\n",
       "Sports           65.27         374.95   0.17\n",
       "Role-Playing     46.40         374.95   0.12\n",
       "Misc             27.49         374.95   0.07"
      ]
     },
     "execution_count": 48,
     "metadata": {},
     "output_type": "execute_result"
    }
   ],
   "source": [
    "#посмотрим какие жанры популярны в Северной Америке\n",
    "\n",
    "pop_reg_platform('genre', 'na_sales')"
   ]
  },
  {
   "cell_type": "code",
   "execution_count": 49,
   "metadata": {},
   "outputs": [
    {
     "data": {
      "text/html": [
       "<div>\n",
       "<style scoped>\n",
       "    .dataframe tbody tr th:only-of-type {\n",
       "        vertical-align: middle;\n",
       "    }\n",
       "\n",
       "    .dataframe tbody tr th {\n",
       "        vertical-align: top;\n",
       "    }\n",
       "\n",
       "    .dataframe thead th {\n",
       "        text-align: right;\n",
       "    }\n",
       "</style>\n",
       "<table border=\"1\" class=\"dataframe\">\n",
       "  <thead>\n",
       "    <tr style=\"text-align: right;\">\n",
       "      <th></th>\n",
       "      <th>eu_sales</th>\n",
       "      <th>sum_reg_sales</th>\n",
       "      <th>ratio</th>\n",
       "    </tr>\n",
       "    <tr>\n",
       "      <th>genre</th>\n",
       "      <th></th>\n",
       "      <th></th>\n",
       "      <th></th>\n",
       "    </tr>\n",
       "  </thead>\n",
       "  <tbody>\n",
       "    <tr>\n",
       "      <th>Action</th>\n",
       "      <td>118.13</td>\n",
       "      <td>323.67</td>\n",
       "      <td>0.36</td>\n",
       "    </tr>\n",
       "    <tr>\n",
       "      <th>Shooter</th>\n",
       "      <td>87.86</td>\n",
       "      <td>323.67</td>\n",
       "      <td>0.27</td>\n",
       "    </tr>\n",
       "    <tr>\n",
       "      <th>Sports</th>\n",
       "      <td>60.52</td>\n",
       "      <td>323.67</td>\n",
       "      <td>0.19</td>\n",
       "    </tr>\n",
       "    <tr>\n",
       "      <th>Role-Playing</th>\n",
       "      <td>36.97</td>\n",
       "      <td>323.67</td>\n",
       "      <td>0.11</td>\n",
       "    </tr>\n",
       "    <tr>\n",
       "      <th>Racing</th>\n",
       "      <td>20.19</td>\n",
       "      <td>323.67</td>\n",
       "      <td>0.06</td>\n",
       "    </tr>\n",
       "  </tbody>\n",
       "</table>\n",
       "</div>"
      ],
      "text/plain": [
       "              eu_sales  sum_reg_sales  ratio\n",
       "genre                                       \n",
       "Action          118.13         323.67   0.36\n",
       "Shooter          87.86         323.67   0.27\n",
       "Sports           60.52         323.67   0.19\n",
       "Role-Playing     36.97         323.67   0.11\n",
       "Racing           20.19         323.67   0.06"
      ]
     },
     "execution_count": 49,
     "metadata": {},
     "output_type": "execute_result"
    }
   ],
   "source": [
    "#посмотрим какие жанры популярны в Европе\n",
    "\n",
    "pop_reg_platform('genre', 'eu_sales')"
   ]
  },
  {
   "cell_type": "code",
   "execution_count": 50,
   "metadata": {},
   "outputs": [
    {
     "data": {
      "text/html": [
       "<div>\n",
       "<style scoped>\n",
       "    .dataframe tbody tr th:only-of-type {\n",
       "        vertical-align: middle;\n",
       "    }\n",
       "\n",
       "    .dataframe tbody tr th {\n",
       "        vertical-align: top;\n",
       "    }\n",
       "\n",
       "    .dataframe thead th {\n",
       "        text-align: right;\n",
       "    }\n",
       "</style>\n",
       "<table border=\"1\" class=\"dataframe\">\n",
       "  <thead>\n",
       "    <tr style=\"text-align: right;\">\n",
       "      <th></th>\n",
       "      <th>jp_sales</th>\n",
       "      <th>sum_reg_sales</th>\n",
       "      <th>ratio</th>\n",
       "    </tr>\n",
       "    <tr>\n",
       "      <th>genre</th>\n",
       "      <th></th>\n",
       "      <th></th>\n",
       "      <th></th>\n",
       "    </tr>\n",
       "  </thead>\n",
       "  <tbody>\n",
       "    <tr>\n",
       "      <th>Role-Playing</th>\n",
       "      <td>51.04</td>\n",
       "      <td>114.99</td>\n",
       "      <td>0.44</td>\n",
       "    </tr>\n",
       "    <tr>\n",
       "      <th>Action</th>\n",
       "      <td>40.49</td>\n",
       "      <td>114.99</td>\n",
       "      <td>0.35</td>\n",
       "    </tr>\n",
       "    <tr>\n",
       "      <th>Misc</th>\n",
       "      <td>9.20</td>\n",
       "      <td>114.99</td>\n",
       "      <td>0.08</td>\n",
       "    </tr>\n",
       "    <tr>\n",
       "      <th>Fighting</th>\n",
       "      <td>7.65</td>\n",
       "      <td>114.99</td>\n",
       "      <td>0.07</td>\n",
       "    </tr>\n",
       "    <tr>\n",
       "      <th>Shooter</th>\n",
       "      <td>6.61</td>\n",
       "      <td>114.99</td>\n",
       "      <td>0.06</td>\n",
       "    </tr>\n",
       "  </tbody>\n",
       "</table>\n",
       "</div>"
      ],
      "text/plain": [
       "              jp_sales  sum_reg_sales  ratio\n",
       "genre                                       \n",
       "Role-Playing     51.04         114.99   0.44\n",
       "Action           40.49         114.99   0.35\n",
       "Misc              9.20         114.99   0.08\n",
       "Fighting          7.65         114.99   0.07\n",
       "Shooter           6.61         114.99   0.06"
      ]
     },
     "execution_count": 50,
     "metadata": {},
     "output_type": "execute_result"
    }
   ],
   "source": [
    "#посмотрим какие жанры популярны в Японии\n",
    "\n",
    "pop_reg_platform('genre', 'jp_sales')"
   ]
  },
  {
   "cell_type": "markdown",
   "metadata": {},
   "source": [
    "<div class=\"alert alert-info\">\n",
    "<b>Комментарий студента обновленный:</b>\n",
    "<br>\n",
    "Пользователи Северной Америки и Европы отдают  предпочтение таким жанрам как \"экшн\" и \"шутер\".\n",
    "<br>   \n",
    "Жители Японии предпочитают ролевые игры и экшены. На самом деле это не удивительно, ведь такие игры как Pokemon были разработаны именно в Японии и полюбились пользователям портативных приставок.\n",
    "</div>"
   ]
  },
  {
   "cell_type": "markdown",
   "metadata": {},
   "source": [
    "### Влияет ли рейтинг ESRB на продажи в отдельном регионе?"
   ]
  },
  {
   "cell_type": "code",
   "execution_count": 51,
   "metadata": {},
   "outputs": [
    {
     "data": {
      "text/plain": [
       "array(['M', nan, 'E', 'T', 'E10+'], dtype=object)"
      ]
     },
     "execution_count": 51,
     "metadata": {},
     "output_type": "execute_result"
    }
   ],
   "source": [
    "#определим какие значения рейтинга ESRB встречаются в датафрейме\n",
    "\n",
    "esrb_n = games_actual_period['rating'].unique()\n",
    "\n",
    "esrb_n"
   ]
  },
  {
   "cell_type": "code",
   "execution_count": 52,
   "metadata": {},
   "outputs": [],
   "source": [
    "#создадим серию для извлечения индексов в дальнейшем\n",
    "\n",
    "esrb_name = pd.Series(np.arange(len(esrb_n)), index=esrb_n)"
   ]
  },
  {
   "cell_type": "code",
   "execution_count": 53,
   "metadata": {},
   "outputs": [
    {
     "data": {
      "text/html": [
       "<div>\n",
       "<style scoped>\n",
       "    .dataframe tbody tr th:only-of-type {\n",
       "        vertical-align: middle;\n",
       "    }\n",
       "\n",
       "    .dataframe tbody tr th {\n",
       "        vertical-align: top;\n",
       "    }\n",
       "\n",
       "    .dataframe thead th {\n",
       "        text-align: right;\n",
       "    }\n",
       "</style>\n",
       "<table border=\"1\" class=\"dataframe\">\n",
       "  <thead>\n",
       "    <tr style=\"text-align: right;\">\n",
       "      <th></th>\n",
       "      <th>name</th>\n",
       "      <th>platform</th>\n",
       "      <th>year_of_release</th>\n",
       "      <th>genre</th>\n",
       "      <th>na_sales</th>\n",
       "      <th>eu_sales</th>\n",
       "      <th>jp_sales</th>\n",
       "      <th>other_sales</th>\n",
       "      <th>critic_score</th>\n",
       "      <th>user_score</th>\n",
       "      <th>rating</th>\n",
       "      <th>sum_sales</th>\n",
       "    </tr>\n",
       "  </thead>\n",
       "  <tbody>\n",
       "    <tr>\n",
       "      <th>16</th>\n",
       "      <td>Grand Theft Auto V</td>\n",
       "      <td>PS3</td>\n",
       "      <td>2013</td>\n",
       "      <td>Action</td>\n",
       "      <td>7.02</td>\n",
       "      <td>9.09</td>\n",
       "      <td>0.98</td>\n",
       "      <td>3.96</td>\n",
       "      <td>97.00</td>\n",
       "      <td>8.20</td>\n",
       "      <td>M</td>\n",
       "      <td>21.05</td>\n",
       "    </tr>\n",
       "    <tr>\n",
       "      <th>23</th>\n",
       "      <td>Grand Theft Auto V</td>\n",
       "      <td>X360</td>\n",
       "      <td>2013</td>\n",
       "      <td>Action</td>\n",
       "      <td>9.66</td>\n",
       "      <td>5.14</td>\n",
       "      <td>0.06</td>\n",
       "      <td>1.41</td>\n",
       "      <td>97.00</td>\n",
       "      <td>8.10</td>\n",
       "      <td>M</td>\n",
       "      <td>16.27</td>\n",
       "    </tr>\n",
       "    <tr>\n",
       "      <th>31</th>\n",
       "      <td>Call of Duty: Black Ops 3</td>\n",
       "      <td>PS4</td>\n",
       "      <td>2015</td>\n",
       "      <td>Shooter</td>\n",
       "      <td>6.03</td>\n",
       "      <td>5.86</td>\n",
       "      <td>0.36</td>\n",
       "      <td>2.38</td>\n",
       "      <td>NaN</td>\n",
       "      <td>NaN</td>\n",
       "      <td>NaN</td>\n",
       "      <td>14.63</td>\n",
       "    </tr>\n",
       "    <tr>\n",
       "      <th>33</th>\n",
       "      <td>Pokemon X/Pokemon Y</td>\n",
       "      <td>3DS</td>\n",
       "      <td>2013</td>\n",
       "      <td>Role-Playing</td>\n",
       "      <td>5.28</td>\n",
       "      <td>4.19</td>\n",
       "      <td>4.35</td>\n",
       "      <td>0.78</td>\n",
       "      <td>NaN</td>\n",
       "      <td>NaN</td>\n",
       "      <td>NaN</td>\n",
       "      <td>14.60</td>\n",
       "    </tr>\n",
       "    <tr>\n",
       "      <th>42</th>\n",
       "      <td>Grand Theft Auto V</td>\n",
       "      <td>PS4</td>\n",
       "      <td>2014</td>\n",
       "      <td>Action</td>\n",
       "      <td>3.96</td>\n",
       "      <td>6.31</td>\n",
       "      <td>0.38</td>\n",
       "      <td>1.97</td>\n",
       "      <td>97.00</td>\n",
       "      <td>8.30</td>\n",
       "      <td>M</td>\n",
       "      <td>12.62</td>\n",
       "    </tr>\n",
       "    <tr>\n",
       "      <th>...</th>\n",
       "      <td>...</td>\n",
       "      <td>...</td>\n",
       "      <td>...</td>\n",
       "      <td>...</td>\n",
       "      <td>...</td>\n",
       "      <td>...</td>\n",
       "      <td>...</td>\n",
       "      <td>...</td>\n",
       "      <td>...</td>\n",
       "      <td>...</td>\n",
       "      <td>...</td>\n",
       "      <td>...</td>\n",
       "    </tr>\n",
       "    <tr>\n",
       "      <th>16432</th>\n",
       "      <td>Strawberry Nauts</td>\n",
       "      <td>PSV</td>\n",
       "      <td>2016</td>\n",
       "      <td>Adventure</td>\n",
       "      <td>0.00</td>\n",
       "      <td>0.00</td>\n",
       "      <td>0.01</td>\n",
       "      <td>0.00</td>\n",
       "      <td>NaN</td>\n",
       "      <td>NaN</td>\n",
       "      <td>NaN</td>\n",
       "      <td>0.01</td>\n",
       "    </tr>\n",
       "    <tr>\n",
       "      <th>16436</th>\n",
       "      <td>Aiyoku no Eustia</td>\n",
       "      <td>PSV</td>\n",
       "      <td>2014</td>\n",
       "      <td>Misc</td>\n",
       "      <td>0.00</td>\n",
       "      <td>0.00</td>\n",
       "      <td>0.01</td>\n",
       "      <td>0.00</td>\n",
       "      <td>NaN</td>\n",
       "      <td>NaN</td>\n",
       "      <td>NaN</td>\n",
       "      <td>0.01</td>\n",
       "    </tr>\n",
       "    <tr>\n",
       "      <th>16439</th>\n",
       "      <td>Samurai Warriors: Sanada Maru</td>\n",
       "      <td>PS3</td>\n",
       "      <td>2016</td>\n",
       "      <td>Action</td>\n",
       "      <td>0.00</td>\n",
       "      <td>0.00</td>\n",
       "      <td>0.01</td>\n",
       "      <td>0.00</td>\n",
       "      <td>NaN</td>\n",
       "      <td>NaN</td>\n",
       "      <td>NaN</td>\n",
       "      <td>0.01</td>\n",
       "    </tr>\n",
       "    <tr>\n",
       "      <th>16441</th>\n",
       "      <td>Haitaka no Psychedelica</td>\n",
       "      <td>PSV</td>\n",
       "      <td>2016</td>\n",
       "      <td>Adventure</td>\n",
       "      <td>0.00</td>\n",
       "      <td>0.00</td>\n",
       "      <td>0.01</td>\n",
       "      <td>0.00</td>\n",
       "      <td>NaN</td>\n",
       "      <td>NaN</td>\n",
       "      <td>NaN</td>\n",
       "      <td>0.01</td>\n",
       "    </tr>\n",
       "    <tr>\n",
       "      <th>16443</th>\n",
       "      <td>Winning Post 8 2016</td>\n",
       "      <td>PSV</td>\n",
       "      <td>2016</td>\n",
       "      <td>Simulation</td>\n",
       "      <td>0.00</td>\n",
       "      <td>0.00</td>\n",
       "      <td>0.01</td>\n",
       "      <td>0.00</td>\n",
       "      <td>NaN</td>\n",
       "      <td>NaN</td>\n",
       "      <td>NaN</td>\n",
       "      <td>0.01</td>\n",
       "    </tr>\n",
       "  </tbody>\n",
       "</table>\n",
       "<p>2233 rows × 12 columns</p>\n",
       "</div>"
      ],
      "text/plain": [
       "                                name platform  year_of_release         genre  \\\n",
       "16                Grand Theft Auto V      PS3             2013        Action   \n",
       "23                Grand Theft Auto V     X360             2013        Action   \n",
       "31         Call of Duty: Black Ops 3      PS4             2015       Shooter   \n",
       "33               Pokemon X/Pokemon Y      3DS             2013  Role-Playing   \n",
       "42                Grand Theft Auto V      PS4             2014        Action   \n",
       "...                              ...      ...              ...           ...   \n",
       "16432               Strawberry Nauts      PSV             2016     Adventure   \n",
       "16436               Aiyoku no Eustia      PSV             2014          Misc   \n",
       "16439  Samurai Warriors: Sanada Maru      PS3             2016        Action   \n",
       "16441        Haitaka no Psychedelica      PSV             2016     Adventure   \n",
       "16443            Winning Post 8 2016      PSV             2016    Simulation   \n",
       "\n",
       "       na_sales  eu_sales  jp_sales  other_sales  critic_score  user_score  \\\n",
       "16         7.02      9.09      0.98         3.96         97.00        8.20   \n",
       "23         9.66      5.14      0.06         1.41         97.00        8.10   \n",
       "31         6.03      5.86      0.36         2.38           NaN         NaN   \n",
       "33         5.28      4.19      4.35         0.78           NaN         NaN   \n",
       "42         3.96      6.31      0.38         1.97         97.00        8.30   \n",
       "...         ...       ...       ...          ...           ...         ...   \n",
       "16432      0.00      0.00      0.01         0.00           NaN         NaN   \n",
       "16436      0.00      0.00      0.01         0.00           NaN         NaN   \n",
       "16439      0.00      0.00      0.01         0.00           NaN         NaN   \n",
       "16441      0.00      0.00      0.01         0.00           NaN         NaN   \n",
       "16443      0.00      0.00      0.01         0.00           NaN         NaN   \n",
       "\n",
       "      rating  sum_sales  \n",
       "16         M      21.05  \n",
       "23         M      16.27  \n",
       "31       NaN      14.63  \n",
       "33       NaN      14.60  \n",
       "42         M      12.62  \n",
       "...      ...        ...  \n",
       "16432    NaN       0.01  \n",
       "16436    NaN       0.01  \n",
       "16439    NaN       0.01  \n",
       "16441    NaN       0.01  \n",
       "16443    NaN       0.01  \n",
       "\n",
       "[2233 rows x 12 columns]"
      ]
     },
     "execution_count": 53,
     "metadata": {},
     "output_type": "execute_result"
    }
   ],
   "source": [
    "#составим датафрейм по нашим значениям рейтинга\n",
    "\n",
    "esrb = games_actual_period.query('rating in @esrb_name.index')\n",
    "\n",
    "esrb"
   ]
  },
  {
   "cell_type": "code",
   "execution_count": 54,
   "metadata": {},
   "outputs": [],
   "source": [
    "#заменим пропущенные значения рейтинга для дальнейших расчетов\n",
    "\n",
    "esrb['rating'] = esrb['rating'].fillna(value='no_rat')"
   ]
  },
  {
   "cell_type": "code",
   "execution_count": 55,
   "metadata": {},
   "outputs": [],
   "source": [
    "#посмотрим какое количество продаж для игр каждого рейтинга\n",
    "\n",
    "def esrb_sale(type_data, region):\n",
    "    result = esrb.pivot_table(index=type_data, values=[region], aggfunc='sum').sort_values(by=region, ascending=False).head()\n",
    "    result['sum_reg_sales'] =  result[region].sum()\n",
    "    result['ratio'] = result[region]/result['sum_reg_sales']\n",
    "    return result"
   ]
  },
  {
   "cell_type": "code",
   "execution_count": 56,
   "metadata": {},
   "outputs": [
    {
     "data": {
      "text/html": [
       "<div>\n",
       "<style scoped>\n",
       "    .dataframe tbody tr th:only-of-type {\n",
       "        vertical-align: middle;\n",
       "    }\n",
       "\n",
       "    .dataframe tbody tr th {\n",
       "        vertical-align: top;\n",
       "    }\n",
       "\n",
       "    .dataframe thead th {\n",
       "        text-align: right;\n",
       "    }\n",
       "</style>\n",
       "<table border=\"1\" class=\"dataframe\">\n",
       "  <thead>\n",
       "    <tr style=\"text-align: right;\">\n",
       "      <th></th>\n",
       "      <th>na_sales</th>\n",
       "      <th>sum_reg_sales</th>\n",
       "      <th>ratio</th>\n",
       "    </tr>\n",
       "    <tr>\n",
       "      <th>rating</th>\n",
       "      <th></th>\n",
       "      <th></th>\n",
       "      <th></th>\n",
       "    </tr>\n",
       "  </thead>\n",
       "  <tbody>\n",
       "    <tr>\n",
       "      <th>M</th>\n",
       "      <td>165.21</td>\n",
       "      <td>437.71</td>\n",
       "      <td>0.38</td>\n",
       "    </tr>\n",
       "    <tr>\n",
       "      <th>no_rat</th>\n",
       "      <td>89.42</td>\n",
       "      <td>437.71</td>\n",
       "      <td>0.20</td>\n",
       "    </tr>\n",
       "    <tr>\n",
       "      <th>E</th>\n",
       "      <td>79.05</td>\n",
       "      <td>437.71</td>\n",
       "      <td>0.18</td>\n",
       "    </tr>\n",
       "    <tr>\n",
       "      <th>E10+</th>\n",
       "      <td>54.24</td>\n",
       "      <td>437.71</td>\n",
       "      <td>0.12</td>\n",
       "    </tr>\n",
       "    <tr>\n",
       "      <th>T</th>\n",
       "      <td>49.79</td>\n",
       "      <td>437.71</td>\n",
       "      <td>0.11</td>\n",
       "    </tr>\n",
       "  </tbody>\n",
       "</table>\n",
       "</div>"
      ],
      "text/plain": [
       "        na_sales  sum_reg_sales  ratio\n",
       "rating                                \n",
       "M         165.21         437.71   0.38\n",
       "no_rat     89.42         437.71   0.20\n",
       "E          79.05         437.71   0.18\n",
       "E10+       54.24         437.71   0.12\n",
       "T          49.79         437.71   0.11"
      ]
     },
     "execution_count": 56,
     "metadata": {},
     "output_type": "execute_result"
    }
   ],
   "source": [
    "#отношение продаж с определенным рейтингом к суммарным продажам в Северной Америке\n",
    "\n",
    "esrb_sale('rating', 'na_sales')"
   ]
  },
  {
   "cell_type": "code",
   "execution_count": 57,
   "metadata": {},
   "outputs": [
    {
     "data": {
      "text/html": [
       "<div>\n",
       "<style scoped>\n",
       "    .dataframe tbody tr th:only-of-type {\n",
       "        vertical-align: middle;\n",
       "    }\n",
       "\n",
       "    .dataframe tbody tr th {\n",
       "        vertical-align: top;\n",
       "    }\n",
       "\n",
       "    .dataframe thead th {\n",
       "        text-align: right;\n",
       "    }\n",
       "</style>\n",
       "<table border=\"1\" class=\"dataframe\">\n",
       "  <thead>\n",
       "    <tr style=\"text-align: right;\">\n",
       "      <th></th>\n",
       "      <th>eu_sales</th>\n",
       "      <th>sum_reg_sales</th>\n",
       "      <th>ratio</th>\n",
       "    </tr>\n",
       "    <tr>\n",
       "      <th>rating</th>\n",
       "      <th></th>\n",
       "      <th></th>\n",
       "      <th></th>\n",
       "    </tr>\n",
       "  </thead>\n",
       "  <tbody>\n",
       "    <tr>\n",
       "      <th>M</th>\n",
       "      <td>145.32</td>\n",
       "      <td>392.23</td>\n",
       "      <td>0.37</td>\n",
       "    </tr>\n",
       "    <tr>\n",
       "      <th>E</th>\n",
       "      <td>83.36</td>\n",
       "      <td>392.23</td>\n",
       "      <td>0.21</td>\n",
       "    </tr>\n",
       "    <tr>\n",
       "      <th>no_rat</th>\n",
       "      <td>78.91</td>\n",
       "      <td>392.23</td>\n",
       "      <td>0.20</td>\n",
       "    </tr>\n",
       "    <tr>\n",
       "      <th>E10+</th>\n",
       "      <td>42.69</td>\n",
       "      <td>392.23</td>\n",
       "      <td>0.11</td>\n",
       "    </tr>\n",
       "    <tr>\n",
       "      <th>T</th>\n",
       "      <td>41.95</td>\n",
       "      <td>392.23</td>\n",
       "      <td>0.11</td>\n",
       "    </tr>\n",
       "  </tbody>\n",
       "</table>\n",
       "</div>"
      ],
      "text/plain": [
       "        eu_sales  sum_reg_sales  ratio\n",
       "rating                                \n",
       "M         145.32         392.23   0.37\n",
       "E          83.36         392.23   0.21\n",
       "no_rat     78.91         392.23   0.20\n",
       "E10+       42.69         392.23   0.11\n",
       "T          41.95         392.23   0.11"
      ]
     },
     "execution_count": 57,
     "metadata": {},
     "output_type": "execute_result"
    }
   ],
   "source": [
    "##отношение продаж с определенным рейтингом к суммарным продажам в Европе\n",
    "\n",
    "esrb_sale('rating', 'eu_sales')"
   ]
  },
  {
   "cell_type": "code",
   "execution_count": 58,
   "metadata": {},
   "outputs": [
    {
     "data": {
      "text/html": [
       "<div>\n",
       "<style scoped>\n",
       "    .dataframe tbody tr th:only-of-type {\n",
       "        vertical-align: middle;\n",
       "    }\n",
       "\n",
       "    .dataframe tbody tr th {\n",
       "        vertical-align: top;\n",
       "    }\n",
       "\n",
       "    .dataframe thead th {\n",
       "        text-align: right;\n",
       "    }\n",
       "</style>\n",
       "<table border=\"1\" class=\"dataframe\">\n",
       "  <thead>\n",
       "    <tr style=\"text-align: right;\">\n",
       "      <th></th>\n",
       "      <th>jp_sales</th>\n",
       "      <th>sum_reg_sales</th>\n",
       "      <th>ratio</th>\n",
       "    </tr>\n",
       "    <tr>\n",
       "      <th>rating</th>\n",
       "      <th></th>\n",
       "      <th></th>\n",
       "      <th></th>\n",
       "    </tr>\n",
       "  </thead>\n",
       "  <tbody>\n",
       "    <tr>\n",
       "      <th>no_rat</th>\n",
       "      <td>85.05</td>\n",
       "      <td>140.78</td>\n",
       "      <td>0.60</td>\n",
       "    </tr>\n",
       "    <tr>\n",
       "      <th>T</th>\n",
       "      <td>20.59</td>\n",
       "      <td>140.78</td>\n",
       "      <td>0.15</td>\n",
       "    </tr>\n",
       "    <tr>\n",
       "      <th>E</th>\n",
       "      <td>15.14</td>\n",
       "      <td>140.78</td>\n",
       "      <td>0.11</td>\n",
       "    </tr>\n",
       "    <tr>\n",
       "      <th>M</th>\n",
       "      <td>14.11</td>\n",
       "      <td>140.78</td>\n",
       "      <td>0.10</td>\n",
       "    </tr>\n",
       "    <tr>\n",
       "      <th>E10+</th>\n",
       "      <td>5.89</td>\n",
       "      <td>140.78</td>\n",
       "      <td>0.04</td>\n",
       "    </tr>\n",
       "  </tbody>\n",
       "</table>\n",
       "</div>"
      ],
      "text/plain": [
       "        jp_sales  sum_reg_sales  ratio\n",
       "rating                                \n",
       "no_rat     85.05         140.78   0.60\n",
       "T          20.59         140.78   0.15\n",
       "E          15.14         140.78   0.11\n",
       "M          14.11         140.78   0.10\n",
       "E10+        5.89         140.78   0.04"
      ]
     },
     "execution_count": 58,
     "metadata": {},
     "output_type": "execute_result"
    }
   ],
   "source": [
    "##отношение продаж с определенным рейтингом к суммарным продажам в Японии\n",
    "\n",
    "esrb_sale('rating', 'jp_sales')"
   ]
  },
  {
   "cell_type": "markdown",
   "metadata": {},
   "source": [
    "<div class=\"alert alert-info\">\n",
    "<b>Комментарий студента обновленный:</b>\n",
    "<br>\n",
    "По полученным данным можно заметить, что рейтинг ESRB влияет на выбор пользователей игр в Северной Америке и Европе, большинство купленных игр шли в рейтингом \"М\", а затем либо с рейтингом \"Е\", либо вовсе без рейтинга.\n",
    "<br>\n",
    "В Японии картина отличается: большинство игр были проданы вовсе без рейтинга, т.е. можно сказать, что рейтинг ESRB не влияет на продажи игр в Японии.\n",
    "</div>"
   ]
  },
  {
   "cell_type": "markdown",
   "metadata": {},
   "source": [
    "### Вывод"
   ]
  },
  {
   "cell_type": "markdown",
   "metadata": {},
   "source": [
    "- Типичный пользователь Северной Америки предпочитает такие платформы как PS4 и XOne. Можно предположить, что последние модели игровых платформ от Sony и Microsoft пришлись по душе. Он отдает предпочтение таким жанрам как \"экшн\" и \"шутер\". Также данный пользователь учитывает рейтинг ESRB: большинство купленных игр шли в рейтингом \"М\".\n",
    "- Типичный европейский пользователь предпочитает играть на  PS4 и PS3 от Sony. Данный пользователь отдает предпочтение таким жанрам игр как \"экшн\" и \"шутер\". Также данный пользователь учитывает рейтинг ESRB: большинство купленных игр шли в рейтингом \"М\", либо с рейтингом \"Е\".\n",
    "- Типичный пользовтель В Японии предпочитает играть на портативной приставке 3DS от Nintendo. Любимые жанры пользователя - ролевые игры и экшены. На самом деле это не удивительно, ведь такие игры как Pokemon были разработаны именно в Японии и полюбились пользователям портативных приставок. Пользователь в Японии особо не обращает внимания на значение рейтинга ESRB."
   ]
  },
  {
   "cell_type": "markdown",
   "metadata": {},
   "source": [
    "## Проверка гипотез"
   ]
  },
  {
   "cell_type": "markdown",
   "metadata": {},
   "source": [
    "### Средние пользовательские рейтинги платформ Xbox One и PC одинаковые"
   ]
  },
  {
   "cell_type": "markdown",
   "metadata": {},
   "source": [
    "Задайте самостоятельно пороговое значение alpha.\n",
    "Поясните:\n",
    "Как вы сформулировали нулевую и альтернативную гипотезы;\n",
    "Какой критерий применили для проверки гипотез и почему."
   ]
  },
  {
   "cell_type": "markdown",
   "metadata": {},
   "source": [
    "<b>1 гипотеза:</b>\n",
    "Средние пользовательские рейтинги платформ Xbox One и PC одинаковые.\n",
    "\n",
    "\n",
    "<b>Сформулируем нулевую гипотезу:</b>\n",
    "<br>\n",
    "Средние пользовательские рейтинги платформ Xbox One и PC одинаковые.\n",
    "\n",
    "Далее сформулируем противоположную по смыслу нулевой гипотезе - <b>альтернативную</b>:\n",
    "<br>\n",
    "Средние пользовательские рейтинги платформ Xbox One и PC различаются.\n",
    "<br>\n",
    "Пороговое значение alpha примем 0.05.\n",
    "\n",
    "Чтобы проверить гипотезу о равенстве среднего двух генеральных совокупностей по взятым из них выборкам применим метод 'ttest_ind'. Значение параметра equal_var поставим False, т.к. дисперсии выборок не равны."
   ]
  },
  {
   "cell_type": "code",
   "execution_count": 59,
   "metadata": {},
   "outputs": [
    {
     "data": {
      "image/png": "[encoded data removed]",
      "text/plain": [
       "<Figure size 864x504 with 1 Axes>"
      ]
     },
     "metadata": {
      "needs_background": "light"
     },
     "output_type": "display_data"
    }
   ],
   "source": [
    "# построим гистограмму распределения оценок пользователей \n",
    "\n",
    "pc = games_actual_period.query('platform==\"PC\"')['user_score']\n",
    "xone = games_actual_period.query('platform==\"XOne\"')['user_score']\n",
    "\n",
    "plt.figure(figsize=(12, 7))\n",
    "\n",
    "pc.hist(bins=10, alpha=0.5, label='PC')\n",
    "xone.hist(bins=10, alpha=0.5, label='XOne')\n",
    "\n",
    "plt.legend(loc='upper right')\n",
    "plt.title('Распределение оценок пользователей')\n",
    "plt.xlabel('Оценки пользователей')\n",
    "plt.ylabel('Частота')\n",
    "plt.show()"
   ]
  },
  {
   "cell_type": "code",
   "execution_count": 60,
   "metadata": {},
   "outputs": [
    {
     "data": {
      "text/html": [
       "<div>\n",
       "<style scoped>\n",
       "    .dataframe tbody tr th:only-of-type {\n",
       "        vertical-align: middle;\n",
       "    }\n",
       "\n",
       "    .dataframe tbody tr th {\n",
       "        vertical-align: top;\n",
       "    }\n",
       "\n",
       "    .dataframe thead th {\n",
       "        text-align: right;\n",
       "    }\n",
       "</style>\n",
       "<table border=\"1\" class=\"dataframe\">\n",
       "  <thead>\n",
       "    <tr style=\"text-align: right;\">\n",
       "      <th></th>\n",
       "      <th>user_score</th>\n",
       "    </tr>\n",
       "    <tr>\n",
       "      <th>platform</th>\n",
       "      <th></th>\n",
       "    </tr>\n",
       "  </thead>\n",
       "  <tbody>\n",
       "    <tr>\n",
       "      <th>PC</th>\n",
       "      <td>3.04</td>\n",
       "    </tr>\n",
       "    <tr>\n",
       "      <th>XOne</th>\n",
       "      <td>1.91</td>\n",
       "    </tr>\n",
       "  </tbody>\n",
       "</table>\n",
       "</div>"
      ],
      "text/plain": [
       "          user_score\n",
       "platform            \n",
       "PC              3.04\n",
       "XOne            1.91"
      ]
     },
     "execution_count": 60,
     "metadata": {},
     "output_type": "execute_result"
    }
   ],
   "source": [
    "#посчитаем дисперсии выборок\n",
    "\n",
    "platform_user_score = games_actual_period.query('platform==\"XOne\" | platform==\"PC\"').pivot_table(index='platform', values='user_score', aggfunc='var' )\n",
    "\n",
    "platform_user_score"
   ]
  },
  {
   "cell_type": "code",
   "execution_count": 61,
   "metadata": {},
   "outputs": [
    {
     "name": "stdout",
     "output_type": "stream",
     "text": [
      "p-значение:  0.14759594013430463\n",
      "Не получилось отвергнуть нулевую гипотезу\n"
     ]
    }
   ],
   "source": [
    "alpha = .05 # критический уровень статистической значимости\n",
    "# если p-value окажется меньше него - отвегнем гипотезу\n",
    "\n",
    "results = st.ttest_ind(\n",
    "    games_actual_period.query('platform == \"XOne\"')['user_score'].dropna(), \n",
    "    games_actual_period.query('platform == \"PC\"')['user_score'].dropna(),\n",
    "    equal_var=False)\n",
    "\n",
    "print('p-значение: ', results.pvalue)\n",
    "\n",
    "if results.pvalue < alpha:\n",
    "    print(\"Отвергаем нулевую гипотезу\")\n",
    "else:\n",
    "    print(\"Не получилось отвергнуть нулевую гипотезу\") "
   ]
  },
  {
   "cell_type": "markdown",
   "metadata": {},
   "source": [
    "<div class=\"alert alert-info\">\n",
    "<b>Комментарий студента обновленный:</b>\n",
    "<br>\n",
    "Принимаем нулевую гипотезу о сходстве средних пользовательских рейтингов для платформ Xbox One и PC.\n",
    "</div>"
   ]
  },
  {
   "cell_type": "markdown",
   "metadata": {},
   "source": [
    "<b>2 гипотеза:</b>\n",
    "Средние пользовательские рейтинги жанров Action (англ. «действие», экшен-игры) и Sports (англ. «спортивные соревнования») разные\n",
    "\n",
    "<b>Сформулируем нулевую гипотезу:</b>\n",
    "<br>\n",
    "Средние пользовательские рейтинги жанров Action (англ. «действие», экшен-игры) и Sports (англ. «спортивные соревнования») равны.\n",
    "\n",
    "Далее сформулируем противоположную по смыслу нулевой гипотезе - <b>альтернативную</b>:\n",
    "<br>\n",
    "Средние пользовательские рейтинги жанров Action (англ. «действие», экшен-игры) и Sports (англ. «спортивные соревнования») различаются.\n",
    "<br>\n",
    "Пороговое значение alpha примем 0.05.\n",
    "\n",
    "Чтобы проверить гипотезу о равенстве среднего двух генеральных совокупностей по взятым из них выборкам применим метод 'ttest_ind'. Значение параметра equal_var поставим False, т.к. дисперсии выборок не равны."
   ]
  },
  {
   "cell_type": "code",
   "execution_count": 62,
   "metadata": {},
   "outputs": [
    {
     "data": {
      "image/png": "[encoded data removed]",
      "text/plain": [
       "<Figure size 864x504 with 1 Axes>"
      ]
     },
     "metadata": {
      "needs_background": "light"
     },
     "output_type": "display_data"
    }
   ],
   "source": [
    "# построим гистограмму распределения оценок пользователей \n",
    "\n",
    "action = games_actual_period.query('genre==\"Action\"')['user_score']\n",
    "sports = games_actual_period.query('platform==\"Sports\"')['user_score']\n",
    "\n",
    "plt.figure(figsize=(12, 7))\n",
    "\n",
    "pc.hist(bins=10, alpha=0.5, label='PC')\n",
    "xone.hist(bins=10, alpha=0.5, label='XOne')\n",
    "\n",
    "plt.legend(loc='upper right')\n",
    "plt.title('Распределение оценок пользователей')\n",
    "plt.xlabel('Оценки пользователей')\n",
    "plt.ylabel('Частота')\n",
    "plt.show()"
   ]
  },
  {
   "cell_type": "code",
   "execution_count": 63,
   "metadata": {},
   "outputs": [
    {
     "data": {
      "text/html": [
       "<div>\n",
       "<style scoped>\n",
       "    .dataframe tbody tr th:only-of-type {\n",
       "        vertical-align: middle;\n",
       "    }\n",
       "\n",
       "    .dataframe tbody tr th {\n",
       "        vertical-align: top;\n",
       "    }\n",
       "\n",
       "    .dataframe thead th {\n",
       "        text-align: right;\n",
       "    }\n",
       "</style>\n",
       "<table border=\"1\" class=\"dataframe\">\n",
       "  <thead>\n",
       "    <tr style=\"text-align: right;\">\n",
       "      <th></th>\n",
       "      <th>user_score</th>\n",
       "    </tr>\n",
       "    <tr>\n",
       "      <th>genre</th>\n",
       "      <th></th>\n",
       "    </tr>\n",
       "  </thead>\n",
       "  <tbody>\n",
       "    <tr>\n",
       "      <th>Action</th>\n",
       "      <td>1.77</td>\n",
       "    </tr>\n",
       "    <tr>\n",
       "      <th>Sports</th>\n",
       "      <td>3.18</td>\n",
       "    </tr>\n",
       "  </tbody>\n",
       "</table>\n",
       "</div>"
      ],
      "text/plain": [
       "        user_score\n",
       "genre             \n",
       "Action        1.77\n",
       "Sports        3.18"
      ]
     },
     "execution_count": 63,
     "metadata": {},
     "output_type": "execute_result"
    }
   ],
   "source": [
    "#посчитаем дисперсии выборок\n",
    "\n",
    "genre_user_score = games_actual_period.query('genre==\"Action\" | genre==\"Sports\"').pivot_table(index='genre', values='user_score', aggfunc='var' )\n",
    "\n",
    "genre_user_score"
   ]
  },
  {
   "cell_type": "code",
   "execution_count": 64,
   "metadata": {},
   "outputs": [
    {
     "name": "stdout",
     "output_type": "stream",
     "text": [
      "p-значение:  1.4460039700704315e-20\n",
      "Отвергаем нулевую гипотезу\n"
     ]
    }
   ],
   "source": [
    "alpha = .05 # критический уровень статистической значимости\n",
    "# если p-value окажется меньше него - отвегнем гипотезу\n",
    "\n",
    "results = st.ttest_ind(\n",
    "    games_actual_period.query('genre==\"Action\"')['user_score'].dropna(), \n",
    "    games_actual_period.query('genre==\"Sports\"')['user_score'].dropna(),\n",
    "    equal_var=False)\n",
    "\n",
    "print('p-значение: ', results.pvalue)\n",
    "\n",
    "if results.pvalue < alpha:\n",
    "    print(\"Отвергаем нулевую гипотезу\")\n",
    "else:\n",
    "    print(\"Не получилось отвергнуть нулевую гипотезу\") "
   ]
  },
  {
   "cell_type": "markdown",
   "metadata": {},
   "source": [
    "<div class=\"alert alert-info\">\n",
    "<b>Комментарий студента обновленный:</b>\n",
    "<br>\n",
    "В ходе проверки гипотез мы отвергаем нулевую гипотезу и принимаем альтернативную гипотезу о различии средних пользовательских рейтингов жанров Action (англ. «действие», экшен-игры) и Sports (англ. «спортивные соревнования»).\n",
    "</div>"
   ]
  },
  {
   "cell_type": "markdown",
   "metadata": {},
   "source": [
    "## Общий вывод"
   ]
  },
  {
   "cell_type": "markdown",
   "metadata": {},
   "source": [
    "Нами был проведен анализ по определению перспективных платформ и игр на 2017 год, получилось выяснить следующее:\n",
    "- Активное развитие игровой индустрии начинается с 1995 года, достигая пика выпускаемых игр в 2008-2009 годах (1427 и 1426 игр в год соответственно).Также после 2011 года наблюдается резкий спад выпускаемых игр. Данное явление может быть связано с тем, что появляются новые платформы, в том числе мобильные операционные системы, разработчики пишут больше игр для iOS и Android. Как мы видим, данных платформ нет в нашем датасете. Стоит отметить, что продажи по большинству платформ практически сошли на нет к 2016 году. Вторая волна активных продаж началась в 2013 году, когда были созданы такие платформы как PS4 и XOne.\n",
    "- Среднее время жизни платформы равно 7.6 лет. \n",
    "- Среди всех платформ можно выделить ряд платформ, по которым еще есть значительные продажи игр и на которые можно сделать ставку в дальнейшем: PS4, XOne, 3DS, PC. Ни одна из перспективных платформ не показывает роста, однако продажи игр все еще исчисляются милионными тиражами. Вплоть до 2014 года на рынке наблюдалось лидерство приставок PS3 и X360, однако с изобретением PS4 и XOne в 2013 году, картина значительно изменилась, данные платформы заняли большой процент рынка и стали лидерам по продаваемым играм вплоть до 2016 года.\n",
    "- Есть ряд платформ с играми-бестселлерами, например, такие платформы как PS3, PS4, X360, 3DS. По данным платформам есть игры, которые разошлись тиражом более 10 млн, при том, что, допустим, платформа PS4 относительно молодая.\n",
    "- Между суммарными продажами игр на PS4 и оценками критиков есть слабая положительная зависимость, а вот между оценками пользователей и суммарными продажами зависимости нет.\n",
    "- Наибольшая зависимость между оценкой критиков и суммарными продажами наблюдается по платформам XOne и PS4 (0.417 и 0.407 соответсвенно). Также лишь по одной платформе 3DS можно выделить слабовыраженную положительную зависимость между оценками пользователей и суммарными продажами.\n",
    "- Можно отметить, что продажи игр по жанрам достаточно неоднородны. Есть лидеры в жанрах, такие как экшены и шутеры, есть и аутсайдеры: стратегии и пазлы. Лидерство жанров \"экшен\" и \"шутер\" объясняется выпуском таких бестселлеров как Grand Theft Auto V, Call of Duty: Black Ops 3, Call of Duty: Ghosts. Причем сразу на все популярные платформы. То есть пользователям больше интересны подвижные, захватывающие игры с выбором действий.\n",
    "- В Северной Америке большей популярностью пользуются платформы X360 и пришедшая ей на смену XOne от Microsoft, то есть пользователи больше предпочитают отечественное. Далее идут приставки от Sony PS3 и PS4. Что касается европейской части, то тут картина другая, наоборот, явное лидерство за платформами от японского производителя Sony PS3 и PS4. Совсем интересная картина получилась по Японии. Здесь в топе портативные приставки от Sony и Nintendo.\n",
    "- В Северной Америке предпочитают играть в шутеры, спортивные симуляторы и игры, отнесенные к жанру \"Разное\". Достаточно неоднородный выбор у пользователей даннного региона.Что касается европейской части, то пользователи предпочитают играть в гонки, спортивные симуляторы, шутеры и экшены, то есть большее предпочтение отдается активным играм. Жители Японии предпочитают ролевые игры и файтинги. На самом деле это не удивительно, ведь такие игры как Pokemon были разработаны именно в Японии и полюбились пользователям портативных приставок.\n",
    "- Распределения продаж игр по рейтингам схожи в Европе и Северной Америке. Большинство продаж игр с рейтингом М, то есть для взрослых. В Японии картина отличается: большинство игр продано с рейтингом Т, то есть для подростков. Опять же это объясняется популярностью портативных приставок и выпускаемых под них игр.\n",
    "- В ходе проверки гипотез мы не смогли отвергнуть нулевую гипотезу и можем говорить о том, что средние пользовательские рейтинги платформ Xbox One и PC одинаковые. \n",
    "- Также при проверке гипотез можем выяснили, что средние пользовательские рейтинги жанров Action (англ. «действие», экшен-игры) и Sports (англ. «спортивные соревнования») различаются."
   ]
  },
  {
   "cell_type": "markdown",
   "metadata": {},
   "source": [
    "<div class=\"alert alert-info\">\n",
    "<b>Комментарий студента:</b>\n",
    "<br>\n",
    "Добавил новые выводы ниже)\n",
    "</div>"
   ]
  },
  {
   "cell_type": "markdown",
   "metadata": {},
   "source": [
    "- Можно отметить, что продажи игр по жанрам достаточно неоднородны. Есть лидеры в жанрах, такие как шутеры и спорт, есть и аутсайдеры: стратегии, пазлы и приключения. Стабильный доход приносят игры жанров \"шутер\" и \"спорт\", в частности можно отметить игры серии Call of Duty и FIFA. Действительно, это больше похоже на правду, потому что игры, которые выходят сериями и если они популярны у пользователей, то есть шанс, что и в дальнейшем их будут охотно приобретать пользователи.\n",
    "- Типичный пользователь Северной Америки предпочитает такие платформы как PS4 и XOne. Можно предположить, что последние модели игровых платформ от Sony и Microsoft пришлись по душе. Он отдает предпочтение таким жанрам как \"экшн\" и \"шутер\". Также данный пользователь учитывает рейтинг ESRB: большинство купленных игр шли в рейтингом \"М\".\n",
    "- Типичный европейский пользователь предпочитает играть на PS4 и PS3 от Sony. Данный пользователь отдает предпочтение таким жанрам игр как \"экшн\" и \"шутер\". Также данный пользователь учитывает рейтинг ESRB: большинство купленных игр шли в рейтингом \"М\", либо с рейтингом \"Е\".\n",
    "- Типичный пользовтель В Японии предпочитает играть на портативной приставке 3DS от Nintendo. Любимые жанры пользователя - ролевые игры и экшены. На самом деле это не удивительно, ведь такие игры как Pokemon были разработаны именно в Японии и полюбились пользователям портативных приставок. Пользователь в Японии особо не обращает внимания на значение рейтинга ESRB.\n",
    "- Принимаем нулевую гипотезу о сходстве средних пользовательских рейтингов для платформ Xbox One и PC.\n",
    "- В ходе проверки гипотез мы отвергаем нулевую гипотезу и принимаем альтернативную гипотезу о различии средних пользовательских рейтингов жанров Action (англ. «действие», экшен-игры) и Sports (англ. «спортивные соревнования»)."
   ]
  }
 ],
 "metadata": {
  "ExecuteTimeLog": [
   {
    "duration": 164,
    "start_time": "2022-03-08T14:21:12.284Z"
   },
   {
    "duration": 1483,
    "start_time": "2022-03-08T14:21:44.982Z"
   },
   {
    "duration": 297,
    "start_time": "2022-03-08T14:21:53.871Z"
   },
   {
    "duration": 48,
    "start_time": "2022-03-08T14:22:01.418Z"
   },
   {
    "duration": 245,
    "start_time": "2022-03-09T16:38:39.764Z"
   },
   {
    "duration": 1155,
    "start_time": "2022-03-09T16:38:46.900Z"
   },
   {
    "duration": 180,
    "start_time": "2022-03-09T16:38:48.056Z"
   },
   {
    "duration": 33,
    "start_time": "2022-03-09T16:38:48.238Z"
   },
   {
    "duration": 3,
    "start_time": "2022-03-09T16:38:48.273Z"
   },
   {
    "duration": 5,
    "start_time": "2022-03-09T16:38:58.495Z"
   },
   {
    "duration": 4,
    "start_time": "2022-03-09T16:41:49.729Z"
   },
   {
    "duration": 333,
    "start_time": "2022-03-09T16:44:57.750Z"
   },
   {
    "duration": 29,
    "start_time": "2022-03-09T16:50:34.144Z"
   },
   {
    "duration": 276,
    "start_time": "2022-03-09T16:52:17.274Z"
   },
   {
    "duration": 44,
    "start_time": "2022-03-09T16:52:39.593Z"
   },
   {
    "duration": 9,
    "start_time": "2022-03-09T18:37:52.058Z"
   },
   {
    "duration": 12,
    "start_time": "2022-03-09T18:38:25.357Z"
   },
   {
    "duration": 12,
    "start_time": "2022-03-09T18:38:30.792Z"
   },
   {
    "duration": 9,
    "start_time": "2022-03-09T18:39:04.102Z"
   },
   {
    "duration": 5,
    "start_time": "2022-03-09T18:39:32.259Z"
   },
   {
    "duration": 6,
    "start_time": "2022-03-09T18:39:36.253Z"
   },
   {
    "duration": 8,
    "start_time": "2022-03-09T18:39:44.888Z"
   },
   {
    "duration": 81,
    "start_time": "2022-03-09T18:39:56.534Z"
   },
   {
    "duration": 8,
    "start_time": "2022-03-09T18:39:58.919Z"
   },
   {
    "duration": 8,
    "start_time": "2022-03-09T18:40:17.963Z"
   },
   {
    "duration": 8,
    "start_time": "2022-03-09T18:40:31.128Z"
   },
   {
    "duration": 74,
    "start_time": "2022-03-09T18:43:20.944Z"
   },
   {
    "duration": 213,
    "start_time": "2022-03-09T18:53:48.813Z"
   },
   {
    "duration": 11,
    "start_time": "2022-03-09T18:54:11.773Z"
   },
   {
    "duration": 11,
    "start_time": "2022-03-09T18:54:16.855Z"
   },
   {
    "duration": 226,
    "start_time": "2022-03-09T18:54:48.923Z"
   },
   {
    "duration": 228,
    "start_time": "2022-03-09T18:54:56.256Z"
   },
   {
    "duration": 234,
    "start_time": "2022-03-09T18:54:59.867Z"
   },
   {
    "duration": 226,
    "start_time": "2022-03-09T18:55:06.157Z"
   },
   {
    "duration": 224,
    "start_time": "2022-03-09T18:55:25.506Z"
   },
   {
    "duration": 9,
    "start_time": "2022-03-09T18:57:09.849Z"
   },
   {
    "duration": 213,
    "start_time": "2022-03-09T18:57:40.286Z"
   },
   {
    "duration": 231,
    "start_time": "2022-03-09T19:00:58.506Z"
   },
   {
    "duration": 11,
    "start_time": "2022-03-09T19:01:05.984Z"
   },
   {
    "duration": 10,
    "start_time": "2022-03-09T19:01:09.491Z"
   },
   {
    "duration": 4,
    "start_time": "2022-03-09T19:01:14.484Z"
   },
   {
    "duration": 10,
    "start_time": "2022-03-09T19:01:16.950Z"
   },
   {
    "duration": 8,
    "start_time": "2022-03-09T19:01:38.595Z"
   },
   {
    "duration": 10,
    "start_time": "2022-03-09T19:01:50.297Z"
   },
   {
    "duration": 221,
    "start_time": "2022-03-09T19:02:10.011Z"
   },
   {
    "duration": 11,
    "start_time": "2022-03-09T19:02:17.205Z"
   },
   {
    "duration": 28,
    "start_time": "2022-03-09T19:02:24.437Z"
   },
   {
    "duration": 216,
    "start_time": "2022-03-09T19:03:18.023Z"
   },
   {
    "duration": 224,
    "start_time": "2022-03-09T19:03:26.256Z"
   },
   {
    "duration": 73,
    "start_time": "2022-03-09T19:03:41.323Z"
   },
   {
    "duration": 74,
    "start_time": "2022-03-09T19:03:47.614Z"
   },
   {
    "duration": 214,
    "start_time": "2022-03-09T19:03:55.344Z"
   },
   {
    "duration": 232,
    "start_time": "2022-03-09T19:03:59.976Z"
   },
   {
    "duration": 222,
    "start_time": "2022-03-09T19:04:07.471Z"
   },
   {
    "duration": 213,
    "start_time": "2022-03-09T19:04:13.495Z"
   },
   {
    "duration": -17230,
    "start_time": "2022-03-09T19:08:49.945Z"
   },
   {
    "duration": 6,
    "start_time": "2022-03-09T19:08:39.525Z"
   },
   {
    "duration": 65,
    "start_time": "2022-03-09T19:08:43.870Z"
   },
   {
    "duration": 6,
    "start_time": "2022-03-09T19:08:47.724Z"
   },
   {
    "duration": 7,
    "start_time": "2022-03-09T19:09:03.715Z"
   },
   {
    "duration": 225,
    "start_time": "2022-03-09T19:09:25.828Z"
   },
   {
    "duration": 13,
    "start_time": "2022-03-09T19:09:30.456Z"
   },
   {
    "duration": 10,
    "start_time": "2022-03-09T19:10:05.817Z"
   },
   {
    "duration": 1200,
    "start_time": "2022-03-09T19:10:14.054Z"
   },
   {
    "duration": 172,
    "start_time": "2022-03-09T19:10:15.256Z"
   },
   {
    "duration": 55,
    "start_time": "2022-03-09T19:10:15.430Z"
   },
   {
    "duration": 4,
    "start_time": "2022-03-09T19:10:15.487Z"
   },
   {
    "duration": 7,
    "start_time": "2022-03-09T19:10:15.493Z"
   },
   {
    "duration": 10,
    "start_time": "2022-03-09T19:10:15.502Z"
   },
   {
    "duration": 12,
    "start_time": "2022-03-09T19:10:15.514Z"
   },
   {
    "duration": 9,
    "start_time": "2022-03-09T19:10:15.529Z"
   },
   {
    "duration": 44,
    "start_time": "2022-03-09T19:10:15.540Z"
   },
   {
    "duration": 343,
    "start_time": "2022-03-09T19:10:15.586Z"
   },
   {
    "duration": 11,
    "start_time": "2022-03-09T19:14:21.073Z"
   },
   {
    "duration": 8,
    "start_time": "2022-03-09T19:14:24.550Z"
   },
   {
    "duration": 10,
    "start_time": "2022-03-09T19:14:33.049Z"
   },
   {
    "duration": 240,
    "start_time": "2022-03-09T19:18:14.154Z"
   },
   {
    "duration": 5,
    "start_time": "2022-03-09T19:18:19.571Z"
   },
   {
    "duration": 6,
    "start_time": "2022-03-09T19:18:24.337Z"
   },
   {
    "duration": 12,
    "start_time": "2022-03-09T19:18:44.113Z"
   },
   {
    "duration": 264,
    "start_time": "2022-03-09T19:20:51.850Z"
   },
   {
    "duration": 5262,
    "start_time": "2022-03-09T19:21:15.026Z"
   },
   {
    "duration": 7,
    "start_time": "2022-03-09T19:23:06.449Z"
   },
   {
    "duration": 20,
    "start_time": "2022-03-09T19:23:12.484Z"
   },
   {
    "duration": 234,
    "start_time": "2022-03-09T19:24:22.224Z"
   },
   {
    "duration": 208,
    "start_time": "2022-03-09T19:24:29.738Z"
   },
   {
    "duration": 7,
    "start_time": "2022-03-09T19:24:33.732Z"
   },
   {
    "duration": 3,
    "start_time": "2022-03-09T19:26:20.389Z"
   },
   {
    "duration": 1164,
    "start_time": "2022-03-10T09:38:02.406Z"
   },
   {
    "duration": 180,
    "start_time": "2022-03-10T09:38:03.572Z"
   },
   {
    "duration": 51,
    "start_time": "2022-03-10T09:38:03.755Z"
   },
   {
    "duration": 3,
    "start_time": "2022-03-10T09:38:03.808Z"
   },
   {
    "duration": 13,
    "start_time": "2022-03-10T09:38:03.813Z"
   },
   {
    "duration": 12,
    "start_time": "2022-03-10T09:38:03.828Z"
   },
   {
    "duration": 39,
    "start_time": "2022-03-10T09:38:03.842Z"
   },
   {
    "duration": 9,
    "start_time": "2022-03-10T09:38:03.883Z"
   },
   {
    "duration": 9,
    "start_time": "2022-03-10T09:38:03.894Z"
   },
   {
    "duration": 18,
    "start_time": "2022-03-10T09:38:03.905Z"
   },
   {
    "duration": 10,
    "start_time": "2022-03-10T09:38:03.925Z"
   },
   {
    "duration": 76,
    "start_time": "2022-03-10T09:48:13.074Z"
   },
   {
    "duration": 17,
    "start_time": "2022-03-10T10:04:58.664Z"
   },
   {
    "duration": 1410,
    "start_time": "2022-03-12T09:03:28.141Z"
   },
   {
    "duration": 223,
    "start_time": "2022-03-12T09:03:29.554Z"
   },
   {
    "duration": 106,
    "start_time": "2022-03-12T09:03:29.781Z"
   },
   {
    "duration": 5,
    "start_time": "2022-03-12T09:03:29.891Z"
   },
   {
    "duration": 15,
    "start_time": "2022-03-12T09:03:29.899Z"
   },
   {
    "duration": 18,
    "start_time": "2022-03-12T09:03:29.917Z"
   },
   {
    "duration": 57,
    "start_time": "2022-03-12T09:03:29.938Z"
   },
   {
    "duration": 13,
    "start_time": "2022-03-12T09:03:29.999Z"
   },
   {
    "duration": 21,
    "start_time": "2022-03-12T09:03:30.014Z"
   },
   {
    "duration": 11,
    "start_time": "2022-03-12T09:03:30.038Z"
   },
   {
    "duration": 19,
    "start_time": "2022-03-12T09:03:30.051Z"
   },
   {
    "duration": 389,
    "start_time": "2022-03-12T09:04:48.066Z"
   },
   {
    "duration": 280,
    "start_time": "2022-03-12T09:05:02.658Z"
   },
   {
    "duration": 6864,
    "start_time": "2022-03-12T09:06:02.378Z"
   },
   {
    "duration": 1508,
    "start_time": "2022-03-12T09:06:30.954Z"
   },
   {
    "duration": 231,
    "start_time": "2022-03-12T09:06:32.464Z"
   },
   {
    "duration": 93,
    "start_time": "2022-03-12T09:06:32.698Z"
   },
   {
    "duration": 416,
    "start_time": "2022-03-12T09:06:32.794Z"
   },
   {
    "duration": -19088,
    "start_time": "2022-03-12T09:06:52.301Z"
   },
   {
    "duration": -19094,
    "start_time": "2022-03-12T09:06:52.308Z"
   },
   {
    "duration": -19100,
    "start_time": "2022-03-12T09:06:52.316Z"
   },
   {
    "duration": -19127,
    "start_time": "2022-03-12T09:06:52.344Z"
   },
   {
    "duration": -19132,
    "start_time": "2022-03-12T09:06:52.351Z"
   },
   {
    "duration": -19137,
    "start_time": "2022-03-12T09:06:52.357Z"
   },
   {
    "duration": -19141,
    "start_time": "2022-03-12T09:06:52.362Z"
   },
   {
    "duration": -19143,
    "start_time": "2022-03-12T09:06:52.366Z"
   },
   {
    "duration": -19145,
    "start_time": "2022-03-12T09:06:52.370Z"
   },
   {
    "duration": 1456,
    "start_time": "2022-03-12T09:06:48.887Z"
   },
   {
    "duration": 218,
    "start_time": "2022-03-12T09:06:50.346Z"
   },
   {
    "duration": 67,
    "start_time": "2022-03-12T09:06:50.567Z"
   },
   {
    "duration": 10,
    "start_time": "2022-03-12T09:06:50.638Z"
   },
   {
    "duration": 38,
    "start_time": "2022-03-12T09:06:50.651Z"
   },
   {
    "duration": 15,
    "start_time": "2022-03-12T09:06:50.691Z"
   },
   {
    "duration": 16,
    "start_time": "2022-03-12T09:06:50.708Z"
   },
   {
    "duration": 16,
    "start_time": "2022-03-12T09:06:50.727Z"
   },
   {
    "duration": 45,
    "start_time": "2022-03-12T09:06:50.746Z"
   },
   {
    "duration": 8,
    "start_time": "2022-03-12T09:06:50.793Z"
   },
   {
    "duration": 12,
    "start_time": "2022-03-12T09:06:50.803Z"
   },
   {
    "duration": 7,
    "start_time": "2022-03-12T09:06:50.817Z"
   },
   {
    "duration": 49,
    "start_time": "2022-03-12T09:07:37.519Z"
   },
   {
    "duration": 50,
    "start_time": "2022-03-12T09:08:11.876Z"
   },
   {
    "duration": 1427,
    "start_time": "2022-03-12T09:09:28.933Z"
   },
   {
    "duration": 228,
    "start_time": "2022-03-12T09:09:30.363Z"
   },
   {
    "duration": 94,
    "start_time": "2022-03-12T09:09:30.593Z"
   },
   {
    "duration": 6,
    "start_time": "2022-03-12T09:09:30.691Z"
   },
   {
    "duration": 34,
    "start_time": "2022-03-12T09:09:30.700Z"
   },
   {
    "duration": 26,
    "start_time": "2022-03-12T09:09:30.737Z"
   },
   {
    "duration": 36,
    "start_time": "2022-03-12T09:09:30.767Z"
   },
   {
    "duration": 28,
    "start_time": "2022-03-12T09:09:30.806Z"
   },
   {
    "duration": 30,
    "start_time": "2022-03-12T09:09:30.838Z"
   },
   {
    "duration": 36,
    "start_time": "2022-03-12T09:09:30.871Z"
   },
   {
    "duration": 28,
    "start_time": "2022-03-12T09:09:30.909Z"
   },
   {
    "duration": 220,
    "start_time": "2022-03-12T09:18:39.128Z"
   },
   {
    "duration": 29,
    "start_time": "2022-03-12T09:18:54.177Z"
   },
   {
    "duration": 54,
    "start_time": "2022-03-12T09:19:32.621Z"
   },
   {
    "duration": 21,
    "start_time": "2022-03-12T09:19:37.294Z"
   },
   {
    "duration": 22,
    "start_time": "2022-03-12T09:20:19.166Z"
   },
   {
    "duration": 22,
    "start_time": "2022-03-12T09:41:07.311Z"
   },
   {
    "duration": 314,
    "start_time": "2022-03-12T09:41:38.750Z"
   },
   {
    "duration": 529,
    "start_time": "2022-03-12T09:46:13.871Z"
   },
   {
    "duration": 525,
    "start_time": "2022-03-12T09:46:53.248Z"
   },
   {
    "duration": 542,
    "start_time": "2022-03-12T09:47:24.533Z"
   },
   {
    "duration": 622,
    "start_time": "2022-03-12T09:47:31.645Z"
   },
   {
    "duration": 811,
    "start_time": "2022-03-12T09:47:49.603Z"
   },
   {
    "duration": 1458,
    "start_time": "2022-03-12T09:48:47.099Z"
   },
   {
    "duration": 218,
    "start_time": "2022-03-12T09:48:48.560Z"
   },
   {
    "duration": 84,
    "start_time": "2022-03-12T09:48:48.781Z"
   },
   {
    "duration": 21,
    "start_time": "2022-03-12T09:48:48.868Z"
   },
   {
    "duration": 20,
    "start_time": "2022-03-12T09:48:48.892Z"
   },
   {
    "duration": 18,
    "start_time": "2022-03-12T09:48:48.915Z"
   },
   {
    "duration": 51,
    "start_time": "2022-03-12T09:48:48.936Z"
   },
   {
    "duration": 12,
    "start_time": "2022-03-12T09:48:48.991Z"
   },
   {
    "duration": 7,
    "start_time": "2022-03-12T09:48:49.005Z"
   },
   {
    "duration": 10,
    "start_time": "2022-03-12T09:48:49.014Z"
   },
   {
    "duration": 10,
    "start_time": "2022-03-12T09:48:49.026Z"
   },
   {
    "duration": 55,
    "start_time": "2022-03-12T09:48:49.039Z"
   },
   {
    "duration": 552,
    "start_time": "2022-03-12T09:48:49.097Z"
   },
   {
    "duration": 526,
    "start_time": "2022-03-12T09:49:00.598Z"
   },
   {
    "duration": 714,
    "start_time": "2022-03-12T09:49:18.492Z"
   },
   {
    "duration": 785,
    "start_time": "2022-03-12T09:49:31.804Z"
   },
   {
    "duration": 739,
    "start_time": "2022-03-12T09:49:38.757Z"
   },
   {
    "duration": 664,
    "start_time": "2022-03-12T09:49:45.280Z"
   },
   {
    "duration": 16,
    "start_time": "2022-03-12T09:57:07.161Z"
   },
   {
    "duration": 10,
    "start_time": "2022-03-12T09:57:12.317Z"
   },
   {
    "duration": 10,
    "start_time": "2022-03-12T09:57:19.084Z"
   },
   {
    "duration": 7,
    "start_time": "2022-03-12T09:57:35.112Z"
   },
   {
    "duration": 6,
    "start_time": "2022-03-12T09:57:56.388Z"
   },
   {
    "duration": 6,
    "start_time": "2022-03-12T09:58:27.129Z"
   },
   {
    "duration": 10,
    "start_time": "2022-03-12T10:03:29.421Z"
   },
   {
    "duration": 7,
    "start_time": "2022-03-12T10:05:13.251Z"
   },
   {
    "duration": 20,
    "start_time": "2022-03-12T10:10:50.350Z"
   },
   {
    "duration": 22,
    "start_time": "2022-03-12T10:11:20.030Z"
   },
   {
    "duration": 20,
    "start_time": "2022-03-12T10:13:48.227Z"
   },
   {
    "duration": 22,
    "start_time": "2022-03-12T10:14:50.868Z"
   },
   {
    "duration": 545,
    "start_time": "2022-03-12T10:15:06.732Z"
   },
   {
    "duration": 28,
    "start_time": "2022-03-12T10:15:12.448Z"
   },
   {
    "duration": 6,
    "start_time": "2022-03-12T10:15:37.274Z"
   },
   {
    "duration": 20,
    "start_time": "2022-03-12T10:21:07.569Z"
   },
   {
    "duration": 472,
    "start_time": "2022-03-12T10:21:48.323Z"
   },
   {
    "duration": 21,
    "start_time": "2022-03-12T10:22:03.816Z"
   },
   {
    "duration": 600,
    "start_time": "2022-03-12T10:22:04.015Z"
   },
   {
    "duration": 732,
    "start_time": "2022-03-12T10:22:14.633Z"
   },
   {
    "duration": 21,
    "start_time": "2022-03-12T10:22:49.209Z"
   },
   {
    "duration": 727,
    "start_time": "2022-03-12T10:22:49.788Z"
   },
   {
    "duration": 22,
    "start_time": "2022-03-12T10:23:14.795Z"
   },
   {
    "duration": 18,
    "start_time": "2022-03-12T10:26:10.647Z"
   },
   {
    "duration": 761,
    "start_time": "2022-03-12T10:26:12.583Z"
   },
   {
    "duration": 134,
    "start_time": "2022-03-12T10:26:13.571Z"
   },
   {
    "duration": 12,
    "start_time": "2022-03-12T12:24:17.861Z"
   },
   {
    "duration": 46,
    "start_time": "2022-03-12T12:24:29.056Z"
   },
   {
    "duration": 57,
    "start_time": "2022-03-12T12:25:36.925Z"
   },
   {
    "duration": 12,
    "start_time": "2022-03-12T12:34:48.773Z"
   },
   {
    "duration": 10,
    "start_time": "2022-03-12T12:35:07.799Z"
   },
   {
    "duration": 6638,
    "start_time": "2022-03-12T12:35:17.118Z"
   },
   {
    "duration": 295,
    "start_time": "2022-03-12T12:35:31.229Z"
   },
   {
    "duration": 6,
    "start_time": "2022-03-12T12:35:36.507Z"
   },
   {
    "duration": 379,
    "start_time": "2022-03-12T12:37:04.092Z"
   },
   {
    "duration": 14,
    "start_time": "2022-03-12T12:37:11.904Z"
   },
   {
    "duration": 32,
    "start_time": "2022-03-12T12:37:19.595Z"
   },
   {
    "duration": 14,
    "start_time": "2022-03-12T12:37:44.649Z"
   },
   {
    "duration": 18,
    "start_time": "2022-03-12T12:37:52.356Z"
   },
   {
    "duration": 97,
    "start_time": "2022-03-12T12:39:03.740Z"
   },
   {
    "duration": 102,
    "start_time": "2022-03-12T12:39:16.813Z"
   },
   {
    "duration": 20,
    "start_time": "2022-03-12T12:39:29.337Z"
   },
   {
    "duration": 31,
    "start_time": "2022-03-12T12:39:39.529Z"
   },
   {
    "duration": 39,
    "start_time": "2022-03-12T12:44:10.029Z"
   },
   {
    "duration": 32,
    "start_time": "2022-03-12T12:44:36.290Z"
   },
   {
    "duration": 32,
    "start_time": "2022-03-12T12:45:59.723Z"
   },
   {
    "duration": 4,
    "start_time": "2022-03-12T12:46:35.120Z"
   },
   {
    "duration": 1435,
    "start_time": "2022-03-12T12:55:13.215Z"
   },
   {
    "duration": 1547,
    "start_time": "2022-03-12T12:55:30.004Z"
   },
   {
    "duration": 37,
    "start_time": "2022-03-12T12:57:17.685Z"
   },
   {
    "duration": 1637,
    "start_time": "2022-03-12T12:57:22.727Z"
   },
   {
    "duration": 34,
    "start_time": "2022-03-12T13:11:06.854Z"
   },
   {
    "duration": 1712,
    "start_time": "2022-03-12T13:11:08.197Z"
   },
   {
    "duration": 355,
    "start_time": "2022-03-12T13:23:37.301Z"
   },
   {
    "duration": 37,
    "start_time": "2022-03-12T13:23:56.138Z"
   },
   {
    "duration": 1560,
    "start_time": "2022-03-12T13:23:56.560Z"
   },
   {
    "duration": 303,
    "start_time": "2022-03-12T13:23:58.122Z"
   },
   {
    "duration": 295,
    "start_time": "2022-03-12T13:26:20.642Z"
   },
   {
    "duration": 281,
    "start_time": "2022-03-12T13:27:06.632Z"
   },
   {
    "duration": 333,
    "start_time": "2022-03-12T13:32:05.481Z"
   },
   {
    "duration": 10,
    "start_time": "2022-03-12T13:40:28.505Z"
   },
   {
    "duration": 356,
    "start_time": "2022-03-12T13:40:41.218Z"
   },
   {
    "duration": 617,
    "start_time": "2022-03-12T13:40:59.312Z"
   },
   {
    "duration": 2340,
    "start_time": "2022-03-12T13:41:28.857Z"
   },
   {
    "duration": 2086,
    "start_time": "2022-03-12T13:42:26.102Z"
   },
   {
    "duration": 11,
    "start_time": "2022-03-12T13:42:52.843Z"
   },
   {
    "duration": 2071,
    "start_time": "2022-03-12T13:43:00.429Z"
   },
   {
    "duration": 534,
    "start_time": "2022-03-12T13:43:24.993Z"
   },
   {
    "duration": 2100,
    "start_time": "2022-03-12T14:05:05.014Z"
   },
   {
    "duration": 2769,
    "start_time": "2022-03-12T14:05:44.093Z"
   },
   {
    "duration": 2467,
    "start_time": "2022-03-12T14:06:21.234Z"
   },
   {
    "duration": 2363,
    "start_time": "2022-03-12T14:06:30.451Z"
   },
   {
    "duration": 823,
    "start_time": "2022-03-12T14:06:50.985Z"
   },
   {
    "duration": 671,
    "start_time": "2022-03-12T14:06:58.216Z"
   },
   {
    "duration": 816,
    "start_time": "2022-03-12T14:07:04.889Z"
   },
   {
    "duration": 2232,
    "start_time": "2022-03-12T14:07:13.390Z"
   },
   {
    "duration": 650,
    "start_time": "2022-03-12T14:07:41.041Z"
   },
   {
    "duration": 667,
    "start_time": "2022-03-12T14:08:55.084Z"
   },
   {
    "duration": 627,
    "start_time": "2022-03-12T14:09:07.999Z"
   },
   {
    "duration": 683,
    "start_time": "2022-03-12T14:09:17.980Z"
   },
   {
    "duration": 1014,
    "start_time": "2022-03-12T14:09:52.708Z"
   },
   {
    "duration": 1155,
    "start_time": "2022-03-12T14:12:18.514Z"
   },
   {
    "duration": 677,
    "start_time": "2022-03-12T14:12:27.210Z"
   },
   {
    "duration": 1530,
    "start_time": "2022-03-12T14:16:17.035Z"
   },
   {
    "duration": 259,
    "start_time": "2022-03-12T14:16:18.568Z"
   },
   {
    "duration": 88,
    "start_time": "2022-03-12T14:16:18.829Z"
   },
   {
    "duration": 5,
    "start_time": "2022-03-12T14:16:18.920Z"
   },
   {
    "duration": 18,
    "start_time": "2022-03-12T14:16:18.928Z"
   },
   {
    "duration": 50,
    "start_time": "2022-03-12T14:16:18.948Z"
   },
   {
    "duration": 19,
    "start_time": "2022-03-12T14:16:19.001Z"
   },
   {
    "duration": 11,
    "start_time": "2022-03-12T14:16:19.024Z"
   },
   {
    "duration": 8,
    "start_time": "2022-03-12T14:16:19.038Z"
   },
   {
    "duration": 42,
    "start_time": "2022-03-12T14:16:19.049Z"
   },
   {
    "duration": 7,
    "start_time": "2022-03-12T14:16:19.094Z"
   },
   {
    "duration": 38,
    "start_time": "2022-03-12T14:16:19.103Z"
   },
   {
    "duration": 716,
    "start_time": "2022-03-12T14:16:19.144Z"
   },
   {
    "duration": 7,
    "start_time": "2022-03-12T14:16:19.862Z"
   },
   {
    "duration": 33,
    "start_time": "2022-03-12T14:16:19.871Z"
   },
   {
    "duration": 700,
    "start_time": "2022-03-12T14:16:19.907Z"
   },
   {
    "duration": 10,
    "start_time": "2022-03-12T14:16:20.609Z"
   },
   {
    "duration": 13,
    "start_time": "2022-03-12T14:16:20.621Z"
   },
   {
    "duration": 750,
    "start_time": "2022-03-12T14:16:20.637Z"
   },
   {
    "duration": 727,
    "start_time": "2022-03-12T14:16:21.389Z"
   },
   {
    "duration": 685,
    "start_time": "2022-03-12T14:26:08.476Z"
   },
   {
    "duration": 774,
    "start_time": "2022-03-12T14:35:38.713Z"
   },
   {
    "duration": 655,
    "start_time": "2022-03-12T14:35:42.826Z"
   },
   {
    "duration": 732,
    "start_time": "2022-03-12T14:39:25.568Z"
   },
   {
    "duration": 957,
    "start_time": "2022-03-12T14:39:39.843Z"
   },
   {
    "duration": 677,
    "start_time": "2022-03-12T14:39:51.170Z"
   },
   {
    "duration": 682,
    "start_time": "2022-03-12T14:40:05.919Z"
   },
   {
    "duration": 9,
    "start_time": "2022-03-12T14:40:16.870Z"
   },
   {
    "duration": 16,
    "start_time": "2022-03-12T14:40:17.195Z"
   },
   {
    "duration": 677,
    "start_time": "2022-03-12T14:40:19.942Z"
   },
   {
    "duration": 687,
    "start_time": "2022-03-12T14:48:02.139Z"
   },
   {
    "duration": 720,
    "start_time": "2022-03-12T14:56:27.219Z"
   },
   {
    "duration": 647,
    "start_time": "2022-03-12T14:56:45.420Z"
   },
   {
    "duration": 1014,
    "start_time": "2022-03-12T14:56:58.104Z"
   },
   {
    "duration": 700,
    "start_time": "2022-03-12T14:57:06.011Z"
   },
   {
    "duration": 811,
    "start_time": "2022-03-12T14:57:18.388Z"
   },
   {
    "duration": 658,
    "start_time": "2022-03-12T14:58:13.133Z"
   },
   {
    "duration": 793,
    "start_time": "2022-03-12T14:58:18.652Z"
   },
   {
    "duration": 677,
    "start_time": "2022-03-12T14:58:35.710Z"
   },
   {
    "duration": 743,
    "start_time": "2022-03-12T14:59:03.382Z"
   },
   {
    "duration": 116,
    "start_time": "2022-03-12T14:59:42.298Z"
   },
   {
    "duration": 469,
    "start_time": "2022-03-12T15:18:59.856Z"
   },
   {
    "duration": 32,
    "start_time": "2022-03-12T15:19:09.146Z"
   },
   {
    "duration": 27,
    "start_time": "2022-03-12T15:19:32.214Z"
   },
   {
    "duration": 29,
    "start_time": "2022-03-12T15:19:50.992Z"
   },
   {
    "duration": 26,
    "start_time": "2022-03-12T15:19:58.630Z"
   },
   {
    "duration": 31,
    "start_time": "2022-03-12T15:34:59.142Z"
   },
   {
    "duration": 292,
    "start_time": "2022-03-12T15:36:32.085Z"
   },
   {
    "duration": 302,
    "start_time": "2022-03-12T15:36:42.170Z"
   },
   {
    "duration": 35,
    "start_time": "2022-03-12T15:36:52.121Z"
   },
   {
    "duration": 37,
    "start_time": "2022-03-12T15:37:24.293Z"
   },
   {
    "duration": 302,
    "start_time": "2022-03-12T15:37:35.204Z"
   },
   {
    "duration": 39,
    "start_time": "2022-03-12T15:37:38.024Z"
   },
   {
    "duration": 34,
    "start_time": "2022-03-12T15:37:44.873Z"
   },
   {
    "duration": 33,
    "start_time": "2022-03-12T15:37:49.083Z"
   },
   {
    "duration": 31,
    "start_time": "2022-03-12T15:38:07.755Z"
   },
   {
    "duration": 183,
    "start_time": "2022-03-12T15:38:44.572Z"
   },
   {
    "duration": 32,
    "start_time": "2022-03-12T15:38:46.850Z"
   },
   {
    "duration": 45,
    "start_time": "2022-03-12T15:39:53.973Z"
   },
   {
    "duration": 35,
    "start_time": "2022-03-12T15:40:10.288Z"
   },
   {
    "duration": 35,
    "start_time": "2022-03-12T15:41:35.069Z"
   },
   {
    "duration": 39,
    "start_time": "2022-03-12T15:42:52.984Z"
   },
   {
    "duration": 32,
    "start_time": "2022-03-12T15:42:59.650Z"
   },
   {
    "duration": 35,
    "start_time": "2022-03-12T15:43:04.603Z"
   },
   {
    "duration": 90,
    "start_time": "2022-03-12T15:46:30.363Z"
   },
   {
    "duration": 27,
    "start_time": "2022-03-12T15:47:46.694Z"
   },
   {
    "duration": 32,
    "start_time": "2022-03-12T15:47:52.570Z"
   },
   {
    "duration": 418,
    "start_time": "2022-03-12T15:48:20.158Z"
   },
   {
    "duration": 30,
    "start_time": "2022-03-12T15:48:22.979Z"
   },
   {
    "duration": 28,
    "start_time": "2022-03-12T15:48:42.622Z"
   },
   {
    "duration": 24,
    "start_time": "2022-03-12T15:51:09.014Z"
   },
   {
    "duration": 30,
    "start_time": "2022-03-12T15:51:13.927Z"
   },
   {
    "duration": 37,
    "start_time": "2022-03-12T15:51:40.533Z"
   },
   {
    "duration": 35,
    "start_time": "2022-03-12T15:51:55.344Z"
   },
   {
    "duration": 28,
    "start_time": "2022-03-12T15:54:41.930Z"
   },
   {
    "duration": 28,
    "start_time": "2022-03-12T15:55:10.715Z"
   },
   {
    "duration": 7,
    "start_time": "2022-03-12T15:55:12.937Z"
   },
   {
    "duration": 32,
    "start_time": "2022-03-12T16:45:10.650Z"
   },
   {
    "duration": 27,
    "start_time": "2022-03-12T16:45:18.820Z"
   },
   {
    "duration": 7,
    "start_time": "2022-03-12T16:45:37.651Z"
   },
   {
    "duration": 9,
    "start_time": "2022-03-12T16:45:44.300Z"
   },
   {
    "duration": 27,
    "start_time": "2022-03-12T16:50:14.217Z"
   },
   {
    "duration": 6,
    "start_time": "2022-03-12T16:50:14.421Z"
   },
   {
    "duration": 29,
    "start_time": "2022-03-12T16:50:26.169Z"
   },
   {
    "duration": 14,
    "start_time": "2022-03-12T16:50:26.784Z"
   },
   {
    "duration": 25,
    "start_time": "2022-03-12T17:00:55.558Z"
   },
   {
    "duration": 6,
    "start_time": "2022-03-12T17:00:55.808Z"
   },
   {
    "duration": 27,
    "start_time": "2022-03-12T17:01:43.369Z"
   },
   {
    "duration": 8,
    "start_time": "2022-03-12T17:01:44.293Z"
   },
   {
    "duration": 189,
    "start_time": "2022-03-12T20:26:22.376Z"
   },
   {
    "duration": 1112,
    "start_time": "2022-03-12T20:26:30.680Z"
   },
   {
    "duration": 115,
    "start_time": "2022-03-12T20:26:31.793Z"
   },
   {
    "duration": 57,
    "start_time": "2022-03-12T20:26:31.910Z"
   },
   {
    "duration": 3,
    "start_time": "2022-03-12T20:26:31.970Z"
   },
   {
    "duration": 18,
    "start_time": "2022-03-12T20:26:31.975Z"
   },
   {
    "duration": 11,
    "start_time": "2022-03-12T20:26:31.995Z"
   },
   {
    "duration": 43,
    "start_time": "2022-03-12T20:26:32.008Z"
   },
   {
    "duration": 13,
    "start_time": "2022-03-12T20:26:32.053Z"
   },
   {
    "duration": 5,
    "start_time": "2022-03-12T20:26:32.070Z"
   },
   {
    "duration": 15,
    "start_time": "2022-03-12T20:26:32.077Z"
   },
   {
    "duration": 7,
    "start_time": "2022-03-12T20:26:32.094Z"
   },
   {
    "duration": 50,
    "start_time": "2022-03-12T20:26:32.103Z"
   },
   {
    "duration": 432,
    "start_time": "2022-03-12T20:26:32.155Z"
   },
   {
    "duration": 5,
    "start_time": "2022-03-12T20:26:32.590Z"
   },
   {
    "duration": 17,
    "start_time": "2022-03-12T20:26:32.597Z"
   },
   {
    "duration": 448,
    "start_time": "2022-03-12T20:26:32.633Z"
   },
   {
    "duration": 15,
    "start_time": "2022-03-12T20:26:33.083Z"
   },
   {
    "duration": 4,
    "start_time": "2022-03-12T20:26:33.100Z"
   },
   {
    "duration": 34,
    "start_time": "2022-03-12T20:26:33.106Z"
   },
   {
    "duration": 19,
    "start_time": "2022-03-12T20:26:33.142Z"
   },
   {
    "duration": 558,
    "start_time": "2022-03-12T20:26:33.163Z"
   },
   {
    "duration": 32,
    "start_time": "2022-03-12T20:26:33.723Z"
   },
   {
    "duration": 24,
    "start_time": "2022-03-12T20:26:33.757Z"
   },
   {
    "duration": 5,
    "start_time": "2022-03-12T20:26:33.783Z"
   },
   {
    "duration": 948,
    "start_time": "2022-03-12T20:26:51.109Z"
   },
   {
    "duration": 1032,
    "start_time": "2022-03-12T20:27:06.613Z"
   },
   {
    "duration": 680,
    "start_time": "2022-03-12T20:27:50.422Z"
   },
   {
    "duration": 594,
    "start_time": "2022-03-12T20:29:02.782Z"
   },
   {
    "duration": 549,
    "start_time": "2022-03-12T20:29:43.476Z"
   },
   {
    "duration": 30,
    "start_time": "2022-03-12T20:37:05.729Z"
   },
   {
    "duration": 22,
    "start_time": "2022-03-12T20:37:41.516Z"
   },
   {
    "duration": 10,
    "start_time": "2022-03-12T20:42:21.646Z"
   },
   {
    "duration": 400,
    "start_time": "2022-03-12T20:42:22.201Z"
   },
   {
    "duration": 18,
    "start_time": "2022-03-12T20:42:23.529Z"
   },
   {
    "duration": 4,
    "start_time": "2022-03-12T20:42:24.498Z"
   },
   {
    "duration": 6,
    "start_time": "2022-03-12T20:42:33.716Z"
   },
   {
    "duration": 7,
    "start_time": "2022-03-12T20:42:37.168Z"
   },
   {
    "duration": 327,
    "start_time": "2022-03-12T20:42:37.986Z"
   },
   {
    "duration": 278,
    "start_time": "2022-03-13T06:58:31.021Z"
   },
   {
    "duration": 1180,
    "start_time": "2022-03-13T06:58:36.560Z"
   },
   {
    "duration": 185,
    "start_time": "2022-03-13T06:58:37.742Z"
   },
   {
    "duration": 46,
    "start_time": "2022-03-13T06:58:37.930Z"
   },
   {
    "duration": 3,
    "start_time": "2022-03-13T06:58:37.978Z"
   },
   {
    "duration": 21,
    "start_time": "2022-03-13T06:58:37.982Z"
   },
   {
    "duration": 11,
    "start_time": "2022-03-13T06:58:38.005Z"
   },
   {
    "duration": 10,
    "start_time": "2022-03-13T06:58:38.017Z"
   },
   {
    "duration": 11,
    "start_time": "2022-03-13T06:58:38.030Z"
   },
   {
    "duration": 5,
    "start_time": "2022-03-13T06:58:38.060Z"
   },
   {
    "duration": 7,
    "start_time": "2022-03-13T06:58:38.066Z"
   },
   {
    "duration": 5,
    "start_time": "2022-03-13T06:58:38.075Z"
   },
   {
    "duration": 15,
    "start_time": "2022-03-13T06:58:38.082Z"
   },
   {
    "duration": 480,
    "start_time": "2022-03-13T06:58:38.099Z"
   },
   {
    "duration": 584,
    "start_time": "2022-03-13T06:58:38.581Z"
   },
   {
    "duration": 20,
    "start_time": "2022-03-13T06:58:39.167Z"
   },
   {
    "duration": 4,
    "start_time": "2022-03-13T06:58:39.189Z"
   },
   {
    "duration": 10,
    "start_time": "2022-03-13T06:58:39.195Z"
   },
   {
    "duration": 437,
    "start_time": "2022-03-13T06:58:39.207Z"
   },
   {
    "duration": 20,
    "start_time": "2022-03-13T06:58:39.645Z"
   },
   {
    "duration": 3,
    "start_time": "2022-03-13T06:58:39.667Z"
   },
   {
    "duration": 5,
    "start_time": "2022-03-13T06:58:39.672Z"
   },
   {
    "duration": 69,
    "start_time": "2022-03-13T06:58:39.679Z"
   },
   {
    "duration": -19898,
    "start_time": "2022-03-13T06:58:59.648Z"
   },
   {
    "duration": -19904,
    "start_time": "2022-03-13T06:58:59.655Z"
   },
   {
    "duration": -19907,
    "start_time": "2022-03-13T06:58:59.659Z"
   },
   {
    "duration": -19910,
    "start_time": "2022-03-13T06:58:59.663Z"
   },
   {
    "duration": 600,
    "start_time": "2022-03-13T07:01:18.533Z"
   },
   {
    "duration": 1060,
    "start_time": "2022-03-13T07:02:59.566Z"
   },
   {
    "duration": 606,
    "start_time": "2022-03-13T07:03:11.697Z"
   },
   {
    "duration": 23,
    "start_time": "2022-03-13T07:03:34.147Z"
   },
   {
    "duration": 6,
    "start_time": "2022-03-13T07:04:55.863Z"
   },
   {
    "duration": 8,
    "start_time": "2022-03-13T07:06:44.369Z"
   },
   {
    "duration": 598,
    "start_time": "2022-03-13T07:06:46.544Z"
   },
   {
    "duration": 329,
    "start_time": "2022-03-13T07:07:02.017Z"
   },
   {
    "duration": 18,
    "start_time": "2022-03-13T07:07:33.961Z"
   },
   {
    "duration": 593,
    "start_time": "2022-03-13T07:10:36.080Z"
   },
   {
    "duration": 7,
    "start_time": "2022-03-13T07:11:24.576Z"
   },
   {
    "duration": 589,
    "start_time": "2022-03-13T07:11:24.796Z"
   },
   {
    "duration": 75,
    "start_time": "2022-03-13T07:11:58.977Z"
   },
   {
    "duration": 6,
    "start_time": "2022-03-13T07:12:02.248Z"
   },
   {
    "duration": 16,
    "start_time": "2022-03-13T07:12:45.317Z"
   },
   {
    "duration": 5,
    "start_time": "2022-03-13T07:12:52.835Z"
   },
   {
    "duration": 7,
    "start_time": "2022-03-13T07:12:53.189Z"
   },
   {
    "duration": 6,
    "start_time": "2022-03-13T07:12:53.649Z"
   },
   {
    "duration": 569,
    "start_time": "2022-03-13T07:12:55.111Z"
   },
   {
    "duration": 247,
    "start_time": "2022-03-13T07:12:55.682Z"
   },
   {
    "duration": 18,
    "start_time": "2022-03-13T07:13:15.773Z"
   },
   {
    "duration": 7,
    "start_time": "2022-03-13T07:14:46.229Z"
   },
   {
    "duration": 5,
    "start_time": "2022-03-13T07:14:49.861Z"
   },
   {
    "duration": 379,
    "start_time": "2022-03-13T07:15:01.917Z"
   },
   {
    "duration": 13,
    "start_time": "2022-03-13T07:15:18.386Z"
   },
   {
    "duration": 20,
    "start_time": "2022-03-13T07:15:30.940Z"
   },
   {
    "duration": 11,
    "start_time": "2022-03-13T07:15:47.017Z"
   },
   {
    "duration": 1117,
    "start_time": "2022-03-13T07:16:10.912Z"
   },
   {
    "duration": 183,
    "start_time": "2022-03-13T07:16:12.031Z"
   },
   {
    "duration": 45,
    "start_time": "2022-03-13T07:16:12.216Z"
   },
   {
    "duration": 3,
    "start_time": "2022-03-13T07:16:12.263Z"
   },
   {
    "duration": 10,
    "start_time": "2022-03-13T07:16:12.267Z"
   },
   {
    "duration": 10,
    "start_time": "2022-03-13T07:16:12.279Z"
   },
   {
    "duration": 10,
    "start_time": "2022-03-13T07:16:12.291Z"
   },
   {
    "duration": 9,
    "start_time": "2022-03-13T07:16:12.304Z"
   },
   {
    "duration": 4,
    "start_time": "2022-03-13T07:16:12.315Z"
   },
   {
    "duration": 40,
    "start_time": "2022-03-13T07:16:12.321Z"
   },
   {
    "duration": 6,
    "start_time": "2022-03-13T07:16:12.363Z"
   },
   {
    "duration": 15,
    "start_time": "2022-03-13T07:16:12.371Z"
   },
   {
    "duration": 450,
    "start_time": "2022-03-13T07:16:12.387Z"
   },
   {
    "duration": 608,
    "start_time": "2022-03-13T07:16:12.838Z"
   },
   {
    "duration": 27,
    "start_time": "2022-03-13T07:16:13.448Z"
   },
   {
    "duration": 4,
    "start_time": "2022-03-13T07:16:13.477Z"
   },
   {
    "duration": 12,
    "start_time": "2022-03-13T07:16:13.482Z"
   },
   {
    "duration": 430,
    "start_time": "2022-03-13T07:16:13.496Z"
   },
   {
    "duration": 17,
    "start_time": "2022-03-13T07:16:13.927Z"
   },
   {
    "duration": 15,
    "start_time": "2022-03-13T07:16:13.945Z"
   },
   {
    "duration": 19,
    "start_time": "2022-03-13T07:16:13.962Z"
   },
   {
    "duration": 11,
    "start_time": "2022-03-13T07:16:13.982Z"
   },
   {
    "duration": 6,
    "start_time": "2022-03-13T07:16:13.996Z"
   },
   {
    "duration": 411,
    "start_time": "2022-03-13T07:16:14.004Z"
   },
   {
    "duration": 331,
    "start_time": "2022-03-13T07:16:14.418Z"
   },
   {
    "duration": -19872,
    "start_time": "2022-03-13T07:16:34.623Z"
   },
   {
    "duration": -19875,
    "start_time": "2022-03-13T07:16:34.627Z"
   },
   {
    "duration": -19878,
    "start_time": "2022-03-13T07:16:34.631Z"
   },
   {
    "duration": 22,
    "start_time": "2022-03-13T07:17:50.462Z"
   },
   {
    "duration": 17,
    "start_time": "2022-03-13T07:19:57.087Z"
   },
   {
    "duration": 318,
    "start_time": "2022-03-13T07:21:11.318Z"
   },
   {
    "duration": 76,
    "start_time": "2022-03-13T07:23:26.912Z"
   },
   {
    "duration": 66,
    "start_time": "2022-03-13T07:23:31.348Z"
   },
   {
    "duration": 75,
    "start_time": "2022-03-13T07:23:37.071Z"
   },
   {
    "duration": 233,
    "start_time": "2022-03-13T07:23:41.094Z"
   },
   {
    "duration": 73,
    "start_time": "2022-03-13T07:23:55.467Z"
   },
   {
    "duration": 16,
    "start_time": "2022-03-13T07:23:59.568Z"
   },
   {
    "duration": 5,
    "start_time": "2022-03-13T07:24:16.996Z"
   },
   {
    "duration": 1122,
    "start_time": "2022-03-13T07:25:04.824Z"
   },
   {
    "duration": 239,
    "start_time": "2022-03-13T07:25:05.947Z"
   },
   {
    "duration": 47,
    "start_time": "2022-03-13T07:25:06.188Z"
   },
   {
    "duration": 24,
    "start_time": "2022-03-13T07:25:06.236Z"
   },
   {
    "duration": 11,
    "start_time": "2022-03-13T07:25:06.262Z"
   },
   {
    "duration": 12,
    "start_time": "2022-03-13T07:25:06.275Z"
   },
   {
    "duration": 13,
    "start_time": "2022-03-13T07:25:06.288Z"
   },
   {
    "duration": 8,
    "start_time": "2022-03-13T07:25:06.303Z"
   },
   {
    "duration": 5,
    "start_time": "2022-03-13T07:25:06.313Z"
   },
   {
    "duration": 7,
    "start_time": "2022-03-13T07:25:06.319Z"
   },
   {
    "duration": 6,
    "start_time": "2022-03-13T07:25:06.359Z"
   },
   {
    "duration": 16,
    "start_time": "2022-03-13T07:25:06.366Z"
   },
   {
    "duration": 463,
    "start_time": "2022-03-13T07:25:06.384Z"
   },
   {
    "duration": 620,
    "start_time": "2022-03-13T07:25:06.849Z"
   },
   {
    "duration": 20,
    "start_time": "2022-03-13T07:25:07.471Z"
   },
   {
    "duration": 5,
    "start_time": "2022-03-13T07:25:07.492Z"
   },
   {
    "duration": 15,
    "start_time": "2022-03-13T07:25:07.499Z"
   },
   {
    "duration": 449,
    "start_time": "2022-03-13T07:25:07.517Z"
   },
   {
    "duration": 18,
    "start_time": "2022-03-13T07:25:07.968Z"
   },
   {
    "duration": 4,
    "start_time": "2022-03-13T07:25:07.988Z"
   },
   {
    "duration": 18,
    "start_time": "2022-03-13T07:25:07.994Z"
   },
   {
    "duration": 5,
    "start_time": "2022-03-13T07:25:08.014Z"
   },
   {
    "duration": 48,
    "start_time": "2022-03-13T07:25:08.020Z"
   },
   {
    "duration": 9,
    "start_time": "2022-03-13T07:25:08.070Z"
   },
   {
    "duration": 8,
    "start_time": "2022-03-13T07:25:08.081Z"
   },
   {
    "duration": 390,
    "start_time": "2022-03-13T07:25:08.091Z"
   },
   {
    "duration": 339,
    "start_time": "2022-03-13T07:25:08.484Z"
   },
   {
    "duration": -19877,
    "start_time": "2022-03-13T07:25:28.702Z"
   },
   {
    "duration": -19886,
    "start_time": "2022-03-13T07:25:28.712Z"
   },
   {
    "duration": -19893,
    "start_time": "2022-03-13T07:25:28.720Z"
   },
   {
    "duration": 10,
    "start_time": "2022-03-13T07:26:03.416Z"
   },
   {
    "duration": 288,
    "start_time": "2022-03-13T07:26:22.618Z"
   },
   {
    "duration": 73,
    "start_time": "2022-03-13T07:26:32.855Z"
   },
   {
    "duration": 3,
    "start_time": "2022-03-13T07:27:19.061Z"
   },
   {
    "duration": 9,
    "start_time": "2022-03-13T07:27:26.601Z"
   },
   {
    "duration": 18,
    "start_time": "2022-03-13T07:27:42.492Z"
   },
   {
    "duration": 20,
    "start_time": "2022-03-13T07:28:24.694Z"
   },
   {
    "duration": 238,
    "start_time": "2022-03-13T07:28:43.729Z"
   },
   {
    "duration": 9,
    "start_time": "2022-03-13T07:28:48.085Z"
   },
   {
    "duration": 1191,
    "start_time": "2022-03-13T07:28:53.344Z"
   },
   {
    "duration": 173,
    "start_time": "2022-03-13T07:28:54.537Z"
   },
   {
    "duration": 47,
    "start_time": "2022-03-13T07:28:54.713Z"
   },
   {
    "duration": 3,
    "start_time": "2022-03-13T07:28:54.762Z"
   },
   {
    "duration": 12,
    "start_time": "2022-03-13T07:28:54.766Z"
   },
   {
    "duration": 11,
    "start_time": "2022-03-13T07:28:54.779Z"
   },
   {
    "duration": 11,
    "start_time": "2022-03-13T07:28:54.791Z"
   },
   {
    "duration": 11,
    "start_time": "2022-03-13T07:28:54.805Z"
   },
   {
    "duration": 5,
    "start_time": "2022-03-13T07:28:54.819Z"
   },
   {
    "duration": 36,
    "start_time": "2022-03-13T07:28:54.826Z"
   },
   {
    "duration": 11,
    "start_time": "2022-03-13T07:28:54.864Z"
   },
   {
    "duration": 18,
    "start_time": "2022-03-13T07:28:54.876Z"
   },
   {
    "duration": 449,
    "start_time": "2022-03-13T07:28:54.895Z"
   },
   {
    "duration": 601,
    "start_time": "2022-03-13T07:28:55.345Z"
   },
   {
    "duration": 20,
    "start_time": "2022-03-13T07:28:55.947Z"
   },
   {
    "duration": 4,
    "start_time": "2022-03-13T07:28:55.968Z"
   },
   {
    "duration": 9,
    "start_time": "2022-03-13T07:28:55.974Z"
   },
   {
    "duration": 422,
    "start_time": "2022-03-13T07:28:55.985Z"
   },
   {
    "duration": 16,
    "start_time": "2022-03-13T07:28:56.410Z"
   },
   {
    "duration": 4,
    "start_time": "2022-03-13T07:28:56.428Z"
   },
   {
    "duration": 36,
    "start_time": "2022-03-13T07:28:56.434Z"
   },
   {
    "duration": 3,
    "start_time": "2022-03-13T07:28:56.472Z"
   },
   {
    "duration": 9,
    "start_time": "2022-03-13T07:28:56.478Z"
   },
   {
    "duration": 15,
    "start_time": "2022-03-13T07:28:56.488Z"
   },
   {
    "duration": 5,
    "start_time": "2022-03-13T07:28:56.505Z"
   },
   {
    "duration": 409,
    "start_time": "2022-03-13T07:28:56.512Z"
   },
   {
    "duration": 341,
    "start_time": "2022-03-13T07:28:56.922Z"
   },
   {
    "duration": -19893,
    "start_time": "2022-03-13T07:29:17.158Z"
   },
   {
    "duration": -19929,
    "start_time": "2022-03-13T07:29:17.195Z"
   },
   {
    "duration": -19965,
    "start_time": "2022-03-13T07:29:17.232Z"
   },
   {
    "duration": 14,
    "start_time": "2022-03-13T07:31:16.538Z"
   },
   {
    "duration": 17,
    "start_time": "2022-03-13T07:31:22.925Z"
   },
   {
    "duration": 3,
    "start_time": "2022-03-13T07:33:21.018Z"
   },
   {
    "duration": 6,
    "start_time": "2022-03-13T07:33:34.523Z"
   },
   {
    "duration": 9,
    "start_time": "2022-03-13T07:33:48.805Z"
   },
   {
    "duration": 10,
    "start_time": "2022-03-13T07:34:33.158Z"
   },
   {
    "duration": 13,
    "start_time": "2022-03-13T07:34:47.649Z"
   },
   {
    "duration": 75,
    "start_time": "2022-03-13T07:38:25.860Z"
   },
   {
    "duration": 78,
    "start_time": "2022-03-13T07:38:37.112Z"
   },
   {
    "duration": 86,
    "start_time": "2022-03-13T07:39:16.552Z"
   },
   {
    "duration": 1607,
    "start_time": "2022-03-13T07:39:44.691Z"
   },
   {
    "duration": 21,
    "start_time": "2022-03-13T07:40:03.950Z"
   },
   {
    "duration": 228,
    "start_time": "2022-03-13T07:41:05.310Z"
   },
   {
    "duration": 4278,
    "start_time": "2022-03-13T07:41:30.795Z"
   },
   {
    "duration": 4231,
    "start_time": "2022-03-13T07:41:48.798Z"
   },
   {
    "duration": 251,
    "start_time": "2022-03-13T07:42:20.812Z"
   },
   {
    "duration": 8,
    "start_time": "2022-03-13T07:42:47.367Z"
   },
   {
    "duration": 216,
    "start_time": "2022-03-13T07:43:22.726Z"
   },
   {
    "duration": 230,
    "start_time": "2022-03-13T07:43:56.576Z"
   },
   {
    "duration": 7,
    "start_time": "2022-03-13T07:44:06.380Z"
   },
   {
    "duration": 237,
    "start_time": "2022-03-13T07:44:11.596Z"
   },
   {
    "duration": 227,
    "start_time": "2022-03-13T07:44:14.777Z"
   },
   {
    "duration": 215,
    "start_time": "2022-03-13T07:44:18.146Z"
   },
   {
    "duration": 70,
    "start_time": "2022-03-13T07:44:21.430Z"
   },
   {
    "duration": 4314,
    "start_time": "2022-03-13T07:44:24.871Z"
   },
   {
    "duration": 4244,
    "start_time": "2022-03-13T07:44:41.555Z"
   },
   {
    "duration": 3,
    "start_time": "2022-03-13T07:46:40.911Z"
   },
   {
    "duration": 4,
    "start_time": "2022-03-13T07:46:47.942Z"
   },
   {
    "duration": 4,
    "start_time": "2022-03-13T07:48:31.576Z"
   },
   {
    "duration": 4,
    "start_time": "2022-03-13T07:51:00.217Z"
   },
   {
    "duration": 73,
    "start_time": "2022-03-13T07:52:00.200Z"
   },
   {
    "duration": 4464,
    "start_time": "2022-03-13T07:52:03.774Z"
   },
   {
    "duration": 236,
    "start_time": "2022-03-13T07:52:27.723Z"
   },
   {
    "duration": 468,
    "start_time": "2022-03-13T07:53:06.908Z"
   },
   {
    "duration": 245,
    "start_time": "2022-03-13T07:53:15.678Z"
   },
   {
    "duration": 19,
    "start_time": "2022-03-13T07:53:25.805Z"
   },
   {
    "duration": 254,
    "start_time": "2022-03-13T07:53:38.184Z"
   },
   {
    "duration": 224,
    "start_time": "2022-03-13T07:54:51.381Z"
   },
   {
    "duration": 5,
    "start_time": "2022-03-13T07:54:54.837Z"
   },
   {
    "duration": 231,
    "start_time": "2022-03-13T07:55:03.544Z"
   },
   {
    "duration": 5,
    "start_time": "2022-03-13T07:55:14.313Z"
   },
   {
    "duration": 1106,
    "start_time": "2022-03-13T07:55:27.517Z"
   },
   {
    "duration": 166,
    "start_time": "2022-03-13T07:55:28.625Z"
   },
   {
    "duration": 65,
    "start_time": "2022-03-13T07:55:28.794Z"
   },
   {
    "duration": 4,
    "start_time": "2022-03-13T07:55:28.862Z"
   },
   {
    "duration": 29,
    "start_time": "2022-03-13T07:55:28.867Z"
   },
   {
    "duration": 21,
    "start_time": "2022-03-13T07:55:28.898Z"
   },
   {
    "duration": 25,
    "start_time": "2022-03-13T07:55:28.921Z"
   },
   {
    "duration": 12,
    "start_time": "2022-03-13T07:55:28.949Z"
   },
   {
    "duration": 14,
    "start_time": "2022-03-13T07:55:28.963Z"
   },
   {
    "duration": 20,
    "start_time": "2022-03-13T07:55:28.979Z"
   },
   {
    "duration": 16,
    "start_time": "2022-03-13T07:55:29.000Z"
   },
   {
    "duration": 19,
    "start_time": "2022-03-13T07:55:29.018Z"
   },
   {
    "duration": 441,
    "start_time": "2022-03-13T07:55:29.039Z"
   },
   {
    "duration": 632,
    "start_time": "2022-03-13T07:55:29.482Z"
   },
   {
    "duration": 22,
    "start_time": "2022-03-13T07:55:30.116Z"
   },
   {
    "duration": 23,
    "start_time": "2022-03-13T07:55:30.141Z"
   },
   {
    "duration": 24,
    "start_time": "2022-03-13T07:55:30.166Z"
   },
   {
    "duration": 441,
    "start_time": "2022-03-13T07:55:30.192Z"
   },
   {
    "duration": 28,
    "start_time": "2022-03-13T07:55:30.635Z"
   },
   {
    "duration": 5,
    "start_time": "2022-03-13T07:55:30.665Z"
   },
   {
    "duration": 28,
    "start_time": "2022-03-13T07:55:30.672Z"
   },
   {
    "duration": 21,
    "start_time": "2022-03-13T07:55:30.702Z"
   },
   {
    "duration": 34,
    "start_time": "2022-03-13T07:55:30.727Z"
   },
   {
    "duration": 495,
    "start_time": "2022-03-13T07:55:30.763Z"
   },
   {
    "duration": 357,
    "start_time": "2022-03-13T07:55:31.260Z"
   },
   {
    "duration": -19829,
    "start_time": "2022-03-13T07:55:51.448Z"
   },
   {
    "duration": -19834,
    "start_time": "2022-03-13T07:55:51.455Z"
   },
   {
    "duration": -19839,
    "start_time": "2022-03-13T07:55:51.461Z"
   },
   {
    "duration": 13,
    "start_time": "2022-03-13T07:56:15.071Z"
   },
   {
    "duration": 3,
    "start_time": "2022-03-13T07:56:30.108Z"
   },
   {
    "duration": 10,
    "start_time": "2022-03-13T07:56:31.027Z"
   },
   {
    "duration": 231,
    "start_time": "2022-03-13T07:56:50.500Z"
   },
   {
    "duration": 4,
    "start_time": "2022-03-13T07:57:24.999Z"
   },
   {
    "duration": 5,
    "start_time": "2022-03-13T07:57:31.195Z"
   },
   {
    "duration": 34,
    "start_time": "2022-03-13T07:57:36.160Z"
   },
   {
    "duration": 3,
    "start_time": "2022-03-13T08:02:52.972Z"
   },
   {
    "duration": 82,
    "start_time": "2022-03-13T08:04:03.561Z"
   },
   {
    "duration": 213,
    "start_time": "2022-03-13T08:04:21.878Z"
   },
   {
    "duration": 1184,
    "start_time": "2022-03-13T08:04:49.438Z"
   },
   {
    "duration": 187,
    "start_time": "2022-03-13T08:04:50.624Z"
   },
   {
    "duration": 49,
    "start_time": "2022-03-13T08:04:50.813Z"
   },
   {
    "duration": 3,
    "start_time": "2022-03-13T08:04:50.864Z"
   },
   {
    "duration": 13,
    "start_time": "2022-03-13T08:04:50.868Z"
   },
   {
    "duration": 12,
    "start_time": "2022-03-13T08:04:50.882Z"
   },
   {
    "duration": 16,
    "start_time": "2022-03-13T08:04:50.895Z"
   },
   {
    "duration": 7,
    "start_time": "2022-03-13T08:04:50.914Z"
   },
   {
    "duration": 36,
    "start_time": "2022-03-13T08:04:50.923Z"
   },
   {
    "duration": 6,
    "start_time": "2022-03-13T08:04:50.961Z"
   },
   {
    "duration": 5,
    "start_time": "2022-03-13T08:04:50.969Z"
   },
   {
    "duration": 16,
    "start_time": "2022-03-13T08:04:50.976Z"
   },
   {
    "duration": 478,
    "start_time": "2022-03-13T08:04:50.993Z"
   },
   {
    "duration": 616,
    "start_time": "2022-03-13T08:04:51.473Z"
   },
   {
    "duration": 20,
    "start_time": "2022-03-13T08:04:52.091Z"
   },
   {
    "duration": 5,
    "start_time": "2022-03-13T08:04:52.112Z"
   },
   {
    "duration": 22,
    "start_time": "2022-03-13T08:04:52.119Z"
   },
   {
    "duration": 450,
    "start_time": "2022-03-13T08:04:52.143Z"
   },
   {
    "duration": 16,
    "start_time": "2022-03-13T08:04:52.595Z"
   },
   {
    "duration": 7,
    "start_time": "2022-03-13T08:04:52.613Z"
   },
   {
    "duration": 37,
    "start_time": "2022-03-13T08:04:52.622Z"
   },
   {
    "duration": 3,
    "start_time": "2022-03-13T08:04:52.661Z"
   },
   {
    "duration": 34,
    "start_time": "2022-03-13T08:04:52.667Z"
   },
   {
    "duration": 465,
    "start_time": "2022-03-13T08:04:52.703Z"
   },
   {
    "duration": 18,
    "start_time": "2022-03-13T08:04:53.170Z"
   },
   {
    "duration": 345,
    "start_time": "2022-03-13T08:04:53.190Z"
   },
   {
    "duration": -19829,
    "start_time": "2022-03-13T08:05:13.366Z"
   },
   {
    "duration": 17,
    "start_time": "2022-03-13T08:05:08.351Z"
   },
   {
    "duration": 4,
    "start_time": "2022-03-13T08:05:09.863Z"
   },
   {
    "duration": 89,
    "start_time": "2022-03-13T08:07:19.542Z"
   },
   {
    "duration": 22,
    "start_time": "2022-03-13T08:07:44.375Z"
   },
   {
    "duration": 70,
    "start_time": "2022-03-13T08:14:51.009Z"
   },
   {
    "duration": 17,
    "start_time": "2022-03-13T08:14:58.335Z"
   },
   {
    "duration": 19,
    "start_time": "2022-03-13T08:15:02.215Z"
   },
   {
    "duration": 294,
    "start_time": "2022-03-13T08:18:07.494Z"
   },
   {
    "duration": 330,
    "start_time": "2022-03-13T08:18:30.178Z"
   },
   {
    "duration": 2388,
    "start_time": "2022-03-13T08:19:25.640Z"
   },
   {
    "duration": 542,
    "start_time": "2022-03-13T08:21:21.468Z"
   },
   {
    "duration": 476,
    "start_time": "2022-03-13T08:21:31.374Z"
   },
   {
    "duration": 4572,
    "start_time": "2022-03-13T08:22:51.816Z"
   },
   {
    "duration": 352,
    "start_time": "2022-03-13T08:27:48.546Z"
   },
   {
    "duration": 18,
    "start_time": "2022-03-13T08:28:03.855Z"
   },
   {
    "duration": 14,
    "start_time": "2022-03-13T08:28:47.641Z"
   },
   {
    "duration": 13,
    "start_time": "2022-03-13T08:29:37.065Z"
   },
   {
    "duration": 401,
    "start_time": "2022-03-13T08:29:37.355Z"
   },
   {
    "duration": 18,
    "start_time": "2022-03-13T08:32:09.785Z"
   },
   {
    "duration": 383,
    "start_time": "2022-03-13T08:33:29.341Z"
   },
   {
    "duration": 2054,
    "start_time": "2022-03-13T08:33:56.036Z"
   },
   {
    "duration": 1708,
    "start_time": "2022-03-13T08:34:11.596Z"
   },
   {
    "duration": 290,
    "start_time": "2022-03-13T08:35:56.750Z"
   },
   {
    "duration": 616,
    "start_time": "2022-03-13T08:36:08.405Z"
   },
   {
    "duration": 478,
    "start_time": "2022-03-13T08:36:18.671Z"
   },
   {
    "duration": 4952,
    "start_time": "2022-03-13T08:36:48.503Z"
   },
   {
    "duration": 482,
    "start_time": "2022-03-13T08:38:35.687Z"
   },
   {
    "duration": 512,
    "start_time": "2022-03-13T08:39:03.244Z"
   },
   {
    "duration": 525,
    "start_time": "2022-03-13T08:39:45.251Z"
   },
   {
    "duration": 553,
    "start_time": "2022-03-13T08:40:30.643Z"
   },
   {
    "duration": 513,
    "start_time": "2022-03-13T08:40:38.519Z"
   },
   {
    "duration": 519,
    "start_time": "2022-03-13T08:40:46.051Z"
   },
   {
    "duration": 524,
    "start_time": "2022-03-13T08:41:28.837Z"
   },
   {
    "duration": 516,
    "start_time": "2022-03-13T08:42:06.521Z"
   },
   {
    "duration": 563,
    "start_time": "2022-03-13T08:44:39.879Z"
   },
   {
    "duration": 508,
    "start_time": "2022-03-13T08:44:55.879Z"
   },
   {
    "duration": 511,
    "start_time": "2022-03-13T08:45:45.879Z"
   },
   {
    "duration": 569,
    "start_time": "2022-03-13T08:45:57.294Z"
   },
   {
    "duration": 573,
    "start_time": "2022-03-13T08:46:19.990Z"
   },
   {
    "duration": 520,
    "start_time": "2022-03-13T08:46:30.694Z"
   },
   {
    "duration": 717,
    "start_time": "2022-03-13T08:46:35.520Z"
   },
   {
    "duration": 394,
    "start_time": "2022-03-13T09:03:40.177Z"
   },
   {
    "duration": 502,
    "start_time": "2022-03-13T09:04:09.476Z"
   },
   {
    "duration": 496,
    "start_time": "2022-03-13T09:04:43.156Z"
   },
   {
    "duration": 85,
    "start_time": "2022-03-13T09:15:12.643Z"
   },
   {
    "duration": 292,
    "start_time": "2022-03-13T09:21:35.181Z"
   },
   {
    "duration": 5,
    "start_time": "2022-03-13T09:21:41.764Z"
   },
   {
    "duration": 13,
    "start_time": "2022-03-13T09:22:07.527Z"
   },
   {
    "duration": 85,
    "start_time": "2022-03-13T09:25:13.908Z"
   },
   {
    "duration": 311,
    "start_time": "2022-03-13T09:36:01.497Z"
   },
   {
    "duration": 349,
    "start_time": "2022-03-13T09:36:31.173Z"
   },
   {
    "duration": 5,
    "start_time": "2022-03-13T09:37:20.279Z"
   },
   {
    "duration": 5,
    "start_time": "2022-03-13T09:37:21.751Z"
   },
   {
    "duration": 829,
    "start_time": "2022-03-13T09:38:13.081Z"
   },
   {
    "duration": 671,
    "start_time": "2022-03-13T09:38:20.641Z"
   },
   {
    "duration": 656,
    "start_time": "2022-03-13T09:38:28.903Z"
   },
   {
    "duration": 699,
    "start_time": "2022-03-13T09:39:04.532Z"
   },
   {
    "duration": 644,
    "start_time": "2022-03-13T09:39:13.099Z"
   },
   {
    "duration": 644,
    "start_time": "2022-03-13T09:39:32.980Z"
   },
   {
    "duration": 514,
    "start_time": "2022-03-13T09:39:46.735Z"
   },
   {
    "duration": 636,
    "start_time": "2022-03-13T09:39:55.107Z"
   },
   {
    "duration": 503,
    "start_time": "2022-03-13T09:40:03.028Z"
   },
   {
    "duration": 300,
    "start_time": "2022-03-13T09:40:24.715Z"
   },
   {
    "duration": 310,
    "start_time": "2022-03-13T09:40:30.100Z"
   },
   {
    "duration": 336,
    "start_time": "2022-03-13T09:40:36.244Z"
   },
   {
    "duration": 368,
    "start_time": "2022-03-13T10:20:19.368Z"
   },
   {
    "duration": 359,
    "start_time": "2022-03-13T10:20:50.331Z"
   },
   {
    "duration": 353,
    "start_time": "2022-03-13T10:21:07.468Z"
   },
   {
    "duration": 4,
    "start_time": "2022-03-13T10:21:32.588Z"
   },
   {
    "duration": 315,
    "start_time": "2022-03-13T10:40:32.892Z"
   },
   {
    "duration": 343,
    "start_time": "2022-03-13T10:40:46.160Z"
   },
   {
    "duration": 19,
    "start_time": "2022-03-13T12:10:17.612Z"
   },
   {
    "duration": 14,
    "start_time": "2022-03-13T12:12:57.293Z"
   },
   {
    "duration": 8,
    "start_time": "2022-03-13T12:14:15.232Z"
   },
   {
    "duration": 12,
    "start_time": "2022-03-13T12:14:44.168Z"
   },
   {
    "duration": 14,
    "start_time": "2022-03-13T12:15:08.372Z"
   },
   {
    "duration": 14,
    "start_time": "2022-03-13T12:15:19.710Z"
   },
   {
    "duration": 15,
    "start_time": "2022-03-13T12:15:47.401Z"
   },
   {
    "duration": 251,
    "start_time": "2022-03-13T12:18:31.724Z"
   },
   {
    "duration": 1154,
    "start_time": "2022-03-13T12:18:38.785Z"
   },
   {
    "duration": 206,
    "start_time": "2022-03-13T12:18:39.941Z"
   },
   {
    "duration": 60,
    "start_time": "2022-03-13T12:18:40.149Z"
   },
   {
    "duration": 3,
    "start_time": "2022-03-13T12:18:40.211Z"
   },
   {
    "duration": 15,
    "start_time": "2022-03-13T12:18:40.216Z"
   },
   {
    "duration": 16,
    "start_time": "2022-03-13T12:18:40.259Z"
   },
   {
    "duration": 16,
    "start_time": "2022-03-13T12:18:40.278Z"
   },
   {
    "duration": 11,
    "start_time": "2022-03-13T12:18:40.298Z"
   },
   {
    "duration": 6,
    "start_time": "2022-03-13T12:18:40.312Z"
   },
   {
    "duration": 39,
    "start_time": "2022-03-13T12:18:40.320Z"
   },
   {
    "duration": 7,
    "start_time": "2022-03-13T12:18:40.362Z"
   },
   {
    "duration": 25,
    "start_time": "2022-03-13T12:18:40.371Z"
   },
   {
    "duration": 517,
    "start_time": "2022-03-13T12:18:40.398Z"
   },
   {
    "duration": 693,
    "start_time": "2022-03-13T12:18:40.917Z"
   },
   {
    "duration": 23,
    "start_time": "2022-03-13T12:18:41.613Z"
   },
   {
    "duration": 23,
    "start_time": "2022-03-13T12:18:41.638Z"
   },
   {
    "duration": 20,
    "start_time": "2022-03-13T12:18:41.664Z"
   },
   {
    "duration": 497,
    "start_time": "2022-03-13T12:18:41.686Z"
   },
   {
    "duration": 16,
    "start_time": "2022-03-13T12:18:42.185Z"
   },
   {
    "duration": 4,
    "start_time": "2022-03-13T12:18:42.203Z"
   },
   {
    "duration": 21,
    "start_time": "2022-03-13T12:18:42.209Z"
   },
   {
    "duration": 3,
    "start_time": "2022-03-13T12:18:42.232Z"
   },
   {
    "duration": 26,
    "start_time": "2022-03-13T12:18:42.260Z"
   },
   {
    "duration": 568,
    "start_time": "2022-03-13T12:18:42.288Z"
   },
   {
    "duration": 27,
    "start_time": "2022-03-13T12:18:42.859Z"
   },
   {
    "duration": 702,
    "start_time": "2022-03-13T12:18:42.889Z"
   },
   {
    "duration": 9,
    "start_time": "2022-03-13T12:18:43.592Z"
   },
   {
    "duration": 333,
    "start_time": "2022-03-13T12:18:43.603Z"
   },
   {
    "duration": 4,
    "start_time": "2022-03-13T12:18:43.938Z"
   },
   {
    "duration": 377,
    "start_time": "2022-03-13T12:18:43.944Z"
   },
   {
    "duration": 5,
    "start_time": "2022-03-13T12:18:44.324Z"
   },
   {
    "duration": 32,
    "start_time": "2022-03-13T12:18:44.332Z"
   },
   {
    "duration": 135,
    "start_time": "2022-03-13T12:26:36.886Z"
   },
   {
    "duration": 238,
    "start_time": "2022-03-13T12:27:06.709Z"
   },
   {
    "duration": 217,
    "start_time": "2022-03-13T12:27:38.315Z"
   },
   {
    "duration": 210,
    "start_time": "2022-03-13T12:27:50.319Z"
   },
   {
    "duration": 249,
    "start_time": "2022-03-13T12:28:12.776Z"
   },
   {
    "duration": 244,
    "start_time": "2022-03-13T12:28:34.817Z"
   },
   {
    "duration": 488,
    "start_time": "2022-03-13T12:28:48.386Z"
   },
   {
    "duration": 292,
    "start_time": "2022-03-13T12:29:11.816Z"
   },
   {
    "duration": 353,
    "start_time": "2022-03-13T12:29:52.911Z"
   },
   {
    "duration": 351,
    "start_time": "2022-03-13T12:30:01.419Z"
   },
   {
    "duration": 304,
    "start_time": "2022-03-13T12:30:07.822Z"
   },
   {
    "duration": 427,
    "start_time": "2022-03-13T12:31:25.055Z"
   },
   {
    "duration": 484,
    "start_time": "2022-03-13T12:32:40.752Z"
   },
   {
    "duration": 314,
    "start_time": "2022-03-13T12:33:16.247Z"
   },
   {
    "duration": 463,
    "start_time": "2022-03-13T12:33:33.794Z"
   },
   {
    "duration": 678,
    "start_time": "2022-03-13T12:34:46.541Z"
   },
   {
    "duration": 618,
    "start_time": "2022-03-13T12:35:00.355Z"
   },
   {
    "duration": 851,
    "start_time": "2022-03-13T12:38:04.508Z"
   },
   {
    "duration": 930,
    "start_time": "2022-03-13T12:38:13.383Z"
   },
   {
    "duration": 1041,
    "start_time": "2022-03-13T12:38:29.483Z"
   },
   {
    "duration": 1644,
    "start_time": "2022-03-13T12:39:21.204Z"
   },
   {
    "duration": 1931,
    "start_time": "2022-03-13T12:39:36.576Z"
   },
   {
    "duration": 2003,
    "start_time": "2022-03-13T12:39:46.215Z"
   },
   {
    "duration": 1831,
    "start_time": "2022-03-13T12:40:02.699Z"
   },
   {
    "duration": 1945,
    "start_time": "2022-03-13T12:41:04.293Z"
   },
   {
    "duration": 77,
    "start_time": "2022-03-13T12:41:46.034Z"
   },
   {
    "duration": 2029,
    "start_time": "2022-03-13T12:41:50.175Z"
   },
   {
    "duration": 1881,
    "start_time": "2022-03-13T12:41:57.627Z"
   },
   {
    "duration": 1817,
    "start_time": "2022-03-13T12:42:33.092Z"
   },
   {
    "duration": 2281,
    "start_time": "2022-03-13T12:42:44.641Z"
   },
   {
    "duration": 1968,
    "start_time": "2022-03-13T12:43:58.351Z"
   },
   {
    "duration": 1991,
    "start_time": "2022-03-13T12:44:41.812Z"
   },
   {
    "duration": 2022,
    "start_time": "2022-03-13T12:44:55.982Z"
   },
   {
    "duration": 2011,
    "start_time": "2022-03-13T12:46:12.200Z"
   },
   {
    "duration": 1923,
    "start_time": "2022-03-13T12:46:23.861Z"
   },
   {
    "duration": 1989,
    "start_time": "2022-03-13T12:47:38.518Z"
   },
   {
    "duration": 1144,
    "start_time": "2022-03-13T12:47:44.708Z"
   },
   {
    "duration": 197,
    "start_time": "2022-03-13T12:47:45.854Z"
   },
   {
    "duration": 47,
    "start_time": "2022-03-13T12:47:46.055Z"
   },
   {
    "duration": 3,
    "start_time": "2022-03-13T12:47:46.104Z"
   },
   {
    "duration": 11,
    "start_time": "2022-03-13T12:47:46.109Z"
   },
   {
    "duration": 44,
    "start_time": "2022-03-13T12:47:46.122Z"
   },
   {
    "duration": 12,
    "start_time": "2022-03-13T12:47:46.169Z"
   },
   {
    "duration": 8,
    "start_time": "2022-03-13T12:47:46.183Z"
   },
   {
    "duration": 7,
    "start_time": "2022-03-13T12:47:46.193Z"
   },
   {
    "duration": 7,
    "start_time": "2022-03-13T12:47:46.202Z"
   },
   {
    "duration": 5,
    "start_time": "2022-03-13T12:47:46.211Z"
   },
   {
    "duration": 47,
    "start_time": "2022-03-13T12:47:46.218Z"
   },
   {
    "duration": 463,
    "start_time": "2022-03-13T12:47:46.267Z"
   },
   {
    "duration": 631,
    "start_time": "2022-03-13T12:47:46.732Z"
   },
   {
    "duration": 21,
    "start_time": "2022-03-13T12:47:47.364Z"
   },
   {
    "duration": 5,
    "start_time": "2022-03-13T12:47:47.386Z"
   },
   {
    "duration": 10,
    "start_time": "2022-03-13T12:47:47.392Z"
   },
   {
    "duration": 469,
    "start_time": "2022-03-13T12:47:47.404Z"
   },
   {
    "duration": 17,
    "start_time": "2022-03-13T12:47:47.875Z"
   },
   {
    "duration": 4,
    "start_time": "2022-03-13T12:47:47.894Z"
   },
   {
    "duration": 19,
    "start_time": "2022-03-13T12:47:47.899Z"
   },
   {
    "duration": 3,
    "start_time": "2022-03-13T12:47:47.921Z"
   },
   {
    "duration": 46,
    "start_time": "2022-03-13T12:47:47.926Z"
   },
   {
    "duration": 501,
    "start_time": "2022-03-13T12:47:47.974Z"
   },
   {
    "duration": 18,
    "start_time": "2022-03-13T12:47:48.477Z"
   },
   {
    "duration": 604,
    "start_time": "2022-03-13T12:47:48.497Z"
   },
   {
    "duration": 10,
    "start_time": "2022-03-13T12:47:49.103Z"
   },
   {
    "duration": 321,
    "start_time": "2022-03-13T12:47:49.115Z"
   },
   {
    "duration": 5,
    "start_time": "2022-03-13T12:47:49.439Z"
   },
   {
    "duration": 350,
    "start_time": "2022-03-13T12:47:49.446Z"
   },
   {
    "duration": 4,
    "start_time": "2022-03-13T12:47:49.798Z"
   },
   {
    "duration": 15,
    "start_time": "2022-03-13T12:47:49.803Z"
   },
   {
    "duration": 1969,
    "start_time": "2022-03-13T12:47:49.819Z"
   },
   {
    "duration": 1987,
    "start_time": "2022-03-13T12:48:09.483Z"
   },
   {
    "duration": 363,
    "start_time": "2022-03-13T12:48:51.314Z"
   },
   {
    "duration": 233,
    "start_time": "2022-03-13T12:49:09.166Z"
   },
   {
    "duration": 400,
    "start_time": "2022-03-13T12:49:49.199Z"
   },
   {
    "duration": 2168,
    "start_time": "2022-03-13T12:49:59.959Z"
   },
   {
    "duration": 2886,
    "start_time": "2022-03-13T12:51:01.126Z"
   },
   {
    "duration": 2541,
    "start_time": "2022-03-13T12:51:10.281Z"
   },
   {
    "duration": 2095,
    "start_time": "2022-03-13T12:52:14.923Z"
   },
   {
    "duration": 2104,
    "start_time": "2022-03-13T12:52:35.206Z"
   },
   {
    "duration": 1607,
    "start_time": "2022-03-13T12:55:57.671Z"
   },
   {
    "duration": 1833,
    "start_time": "2022-03-13T12:56:04.794Z"
   },
   {
    "duration": 2002,
    "start_time": "2022-03-13T13:01:43.107Z"
   },
   {
    "duration": 1924,
    "start_time": "2022-03-13T13:02:01.866Z"
   },
   {
    "duration": 237,
    "start_time": "2022-03-13T13:02:17.408Z"
   },
   {
    "duration": 2076,
    "start_time": "2022-03-13T13:02:29.897Z"
   },
   {
    "duration": 1968,
    "start_time": "2022-03-13T13:02:35.400Z"
   },
   {
    "duration": 6,
    "start_time": "2022-03-13T13:04:24.662Z"
   },
   {
    "duration": 251,
    "start_time": "2022-03-13T13:06:27.393Z"
   },
   {
    "duration": 14,
    "start_time": "2022-03-13T13:07:24.766Z"
   },
   {
    "duration": 17,
    "start_time": "2022-03-13T13:09:19.216Z"
   },
   {
    "duration": 74,
    "start_time": "2022-03-13T13:09:40.178Z"
   },
   {
    "duration": 105,
    "start_time": "2022-03-13T13:10:00.595Z"
   },
   {
    "duration": 16,
    "start_time": "2022-03-13T13:10:15.128Z"
   },
   {
    "duration": 16,
    "start_time": "2022-03-13T13:10:33.866Z"
   },
   {
    "duration": 80,
    "start_time": "2022-03-13T13:11:18.840Z"
   },
   {
    "duration": 106,
    "start_time": "2022-03-13T13:11:36.390Z"
   },
   {
    "duration": 77,
    "start_time": "2022-03-13T13:11:39.415Z"
   },
   {
    "duration": 85,
    "start_time": "2022-03-13T13:11:48.637Z"
   },
   {
    "duration": 80,
    "start_time": "2022-03-13T13:11:51.514Z"
   },
   {
    "duration": 77,
    "start_time": "2022-03-13T13:11:56.011Z"
   },
   {
    "duration": 113,
    "start_time": "2022-03-13T13:11:59.336Z"
   },
   {
    "duration": 1145,
    "start_time": "2022-03-13T13:12:06.250Z"
   },
   {
    "duration": 19,
    "start_time": "2022-03-13T13:12:12.107Z"
   },
   {
    "duration": 18,
    "start_time": "2022-03-13T13:12:22.889Z"
   },
   {
    "duration": 19,
    "start_time": "2022-03-13T13:12:46.768Z"
   },
   {
    "duration": 16,
    "start_time": "2022-03-13T13:23:32.964Z"
   },
   {
    "duration": 13,
    "start_time": "2022-03-13T13:24:20.434Z"
   },
   {
    "duration": 14,
    "start_time": "2022-03-13T13:25:19.163Z"
   },
   {
    "duration": 323,
    "start_time": "2022-03-13T13:26:38.701Z"
   },
   {
    "duration": 306,
    "start_time": "2022-03-13T13:26:50.089Z"
   },
   {
    "duration": 14,
    "start_time": "2022-03-13T13:28:23.808Z"
   },
   {
    "duration": 331,
    "start_time": "2022-03-13T13:28:27.641Z"
   },
   {
    "duration": 7,
    "start_time": "2022-03-13T13:28:39.363Z"
   },
   {
    "duration": 6,
    "start_time": "2022-03-13T13:32:58.438Z"
   },
   {
    "duration": 10,
    "start_time": "2022-03-13T13:33:04.015Z"
   },
   {
    "duration": 20,
    "start_time": "2022-03-13T13:33:11.889Z"
   },
   {
    "duration": 24,
    "start_time": "2022-03-13T13:33:50.920Z"
   },
   {
    "duration": 17,
    "start_time": "2022-03-13T13:34:31.855Z"
   },
   {
    "duration": 78,
    "start_time": "2022-03-13T13:35:59.417Z"
   },
   {
    "duration": 228,
    "start_time": "2022-03-13T13:43:58.565Z"
   },
   {
    "duration": 223,
    "start_time": "2022-03-13T13:44:07.652Z"
   },
   {
    "duration": 217,
    "start_time": "2022-03-13T13:44:54.519Z"
   },
   {
    "duration": 3,
    "start_time": "2022-03-13T13:48:16.540Z"
   },
   {
    "duration": 464,
    "start_time": "2022-03-13T13:48:34.777Z"
   },
   {
    "duration": 11,
    "start_time": "2022-03-13T13:48:55.260Z"
   },
   {
    "duration": 3,
    "start_time": "2022-03-13T13:49:04.710Z"
   },
   {
    "duration": 14,
    "start_time": "2022-03-13T13:49:04.936Z"
   },
   {
    "duration": 3,
    "start_time": "2022-03-13T13:49:35.683Z"
   },
   {
    "duration": 20,
    "start_time": "2022-03-13T13:49:36.575Z"
   },
   {
    "duration": 3,
    "start_time": "2022-03-13T13:51:19.831Z"
   },
   {
    "duration": 14,
    "start_time": "2022-03-13T13:51:20.640Z"
   },
   {
    "duration": 3,
    "start_time": "2022-03-13T13:52:19.158Z"
   },
   {
    "duration": 15,
    "start_time": "2022-03-13T13:52:19.839Z"
   },
   {
    "duration": 15,
    "start_time": "2022-03-13T13:52:51.906Z"
   },
   {
    "duration": 15,
    "start_time": "2022-03-13T13:53:21.286Z"
   },
   {
    "duration": 14,
    "start_time": "2022-03-13T13:54:32.306Z"
   },
   {
    "duration": 4,
    "start_time": "2022-03-13T14:13:32.686Z"
   },
   {
    "duration": 15,
    "start_time": "2022-03-13T14:13:33.087Z"
   },
   {
    "duration": 14,
    "start_time": "2022-03-13T14:13:33.910Z"
   },
   {
    "duration": 14,
    "start_time": "2022-03-13T14:13:34.187Z"
   },
   {
    "duration": 4,
    "start_time": "2022-03-13T14:15:39.819Z"
   },
   {
    "duration": 13,
    "start_time": "2022-03-13T14:15:40.266Z"
   },
   {
    "duration": 16,
    "start_time": "2022-03-13T14:15:42.722Z"
   },
   {
    "duration": 15,
    "start_time": "2022-03-13T14:15:42.901Z"
   },
   {
    "duration": 16,
    "start_time": "2022-03-13T14:15:43.196Z"
   },
   {
    "duration": 14,
    "start_time": "2022-03-13T14:16:54.378Z"
   },
   {
    "duration": 16,
    "start_time": "2022-03-13T14:23:59.968Z"
   },
   {
    "duration": 19,
    "start_time": "2022-03-13T14:24:00.848Z"
   },
   {
    "duration": 16,
    "start_time": "2022-03-13T14:24:34.441Z"
   },
   {
    "duration": 16,
    "start_time": "2022-03-13T14:24:38.139Z"
   },
   {
    "duration": 15,
    "start_time": "2022-03-13T14:24:38.577Z"
   },
   {
    "duration": 29,
    "start_time": "2022-03-13T14:25:56.854Z"
   },
   {
    "duration": 17,
    "start_time": "2022-03-13T14:34:26.329Z"
   },
   {
    "duration": 17,
    "start_time": "2022-03-13T14:36:07.331Z"
   },
   {
    "duration": 7,
    "start_time": "2022-03-13T14:39:52.514Z"
   },
   {
    "duration": 301,
    "start_time": "2022-03-13T14:41:50.493Z"
   },
   {
    "duration": 6,
    "start_time": "2022-03-13T14:41:53.220Z"
   },
   {
    "duration": 7,
    "start_time": "2022-03-13T14:41:59.091Z"
   },
   {
    "duration": 4,
    "start_time": "2022-03-13T14:42:13.444Z"
   },
   {
    "duration": 7,
    "start_time": "2022-03-13T14:42:19.432Z"
   },
   {
    "duration": 7,
    "start_time": "2022-03-13T14:42:42.161Z"
   },
   {
    "duration": 6,
    "start_time": "2022-03-13T14:43:32.858Z"
   },
   {
    "duration": 20,
    "start_time": "2022-03-13T14:43:39.929Z"
   },
   {
    "duration": 21,
    "start_time": "2022-03-13T14:44:16.498Z"
   },
   {
    "duration": 19,
    "start_time": "2022-03-13T15:07:52.742Z"
   },
   {
    "duration": 6,
    "start_time": "2022-03-13T15:08:13.360Z"
   },
   {
    "duration": 21,
    "start_time": "2022-03-13T15:08:14.642Z"
   },
   {
    "duration": 19,
    "start_time": "2022-03-13T15:08:15.251Z"
   },
   {
    "duration": 16,
    "start_time": "2022-03-13T15:09:10.634Z"
   },
   {
    "duration": 16,
    "start_time": "2022-03-13T15:09:33.655Z"
   },
   {
    "duration": 15,
    "start_time": "2022-03-13T15:10:08.127Z"
   },
   {
    "duration": 4,
    "start_time": "2022-03-13T15:11:38.714Z"
   },
   {
    "duration": 14,
    "start_time": "2022-03-13T15:11:39.660Z"
   },
   {
    "duration": 13,
    "start_time": "2022-03-13T15:11:42.667Z"
   },
   {
    "duration": 15,
    "start_time": "2022-03-13T15:11:45.177Z"
   },
   {
    "duration": 3,
    "start_time": "2022-03-13T15:15:25.810Z"
   },
   {
    "duration": 13,
    "start_time": "2022-03-13T15:15:26.178Z"
   },
   {
    "duration": 14,
    "start_time": "2022-03-13T15:15:28.662Z"
   },
   {
    "duration": 15,
    "start_time": "2022-03-13T15:15:29.681Z"
   },
   {
    "duration": 3,
    "start_time": "2022-03-13T15:15:53.329Z"
   },
   {
    "duration": 13,
    "start_time": "2022-03-13T15:15:53.751Z"
   },
   {
    "duration": 14,
    "start_time": "2022-03-13T15:15:54.631Z"
   },
   {
    "duration": 13,
    "start_time": "2022-03-13T15:15:54.805Z"
   },
   {
    "duration": 14,
    "start_time": "2022-03-13T15:18:16.344Z"
   },
   {
    "duration": 3079,
    "start_time": "2022-03-13T15:23:46.228Z"
   },
   {
    "duration": 1516,
    "start_time": "2022-03-13T15:24:13.981Z"
   },
   {
    "duration": 1324,
    "start_time": "2022-03-13T15:25:23.759Z"
   },
   {
    "duration": 2425,
    "start_time": "2022-03-13T15:25:40.952Z"
   },
   {
    "duration": 2674,
    "start_time": "2022-03-13T15:26:59.425Z"
   },
   {
    "duration": 1412,
    "start_time": "2022-03-13T15:28:00.968Z"
   },
   {
    "duration": 2641,
    "start_time": "2022-03-13T15:28:18.303Z"
   },
   {
    "duration": 1470,
    "start_time": "2022-03-13T15:29:06.065Z"
   },
   {
    "duration": 2658,
    "start_time": "2022-03-13T15:29:14.180Z"
   },
   {
    "duration": 2515,
    "start_time": "2022-03-13T15:29:35.305Z"
   },
   {
    "duration": 2551,
    "start_time": "2022-03-13T15:29:52.265Z"
   },
   {
    "duration": 2606,
    "start_time": "2022-03-13T15:30:19.208Z"
   },
   {
    "duration": 2625,
    "start_time": "2022-03-13T15:30:39.993Z"
   },
   {
    "duration": 2482,
    "start_time": "2022-03-13T15:30:56.848Z"
   },
   {
    "duration": 2478,
    "start_time": "2022-03-13T15:31:49.452Z"
   },
   {
    "duration": 2255,
    "start_time": "2022-03-13T15:31:58.571Z"
   },
   {
    "duration": 2217,
    "start_time": "2022-03-13T15:32:04.502Z"
   },
   {
    "duration": 2357,
    "start_time": "2022-03-13T15:32:17.589Z"
   },
   {
    "duration": 2305,
    "start_time": "2022-03-13T15:32:33.122Z"
   },
   {
    "duration": 1024,
    "start_time": "2022-03-13T15:32:58.476Z"
   },
   {
    "duration": 2312,
    "start_time": "2022-03-13T15:33:05.397Z"
   },
   {
    "duration": 2252,
    "start_time": "2022-03-13T15:33:44.839Z"
   },
   {
    "duration": 1218,
    "start_time": "2022-03-13T15:34:07.541Z"
   },
   {
    "duration": 2317,
    "start_time": "2022-03-13T15:34:14.626Z"
   },
   {
    "duration": 1410,
    "start_time": "2022-03-13T15:34:29.111Z"
   },
   {
    "duration": 232,
    "start_time": "2022-03-13T15:34:44.163Z"
   },
   {
    "duration": 853,
    "start_time": "2022-03-13T15:34:49.894Z"
   },
   {
    "duration": 976,
    "start_time": "2022-03-13T15:35:01.146Z"
   },
   {
    "duration": 2270,
    "start_time": "2022-03-13T15:35:27.659Z"
   },
   {
    "duration": 1556,
    "start_time": "2022-03-13T15:35:49.015Z"
   },
   {
    "duration": 1989,
    "start_time": "2022-03-13T15:36:01.054Z"
   },
   {
    "duration": 1532,
    "start_time": "2022-03-13T15:36:11.483Z"
   },
   {
    "duration": 1650,
    "start_time": "2022-03-13T15:36:17.693Z"
   },
   {
    "duration": 1536,
    "start_time": "2022-03-13T15:37:03.190Z"
   },
   {
    "duration": 1581,
    "start_time": "2022-03-13T15:37:22.980Z"
   },
   {
    "duration": 1790,
    "start_time": "2022-03-13T15:37:38.555Z"
   },
   {
    "duration": 1860,
    "start_time": "2022-03-13T15:38:56.295Z"
   },
   {
    "duration": 1851,
    "start_time": "2022-03-13T15:39:00.981Z"
   },
   {
    "duration": 1760,
    "start_time": "2022-03-13T15:39:07.249Z"
   },
   {
    "duration": 1599,
    "start_time": "2022-03-13T15:40:11.410Z"
   },
   {
    "duration": 1535,
    "start_time": "2022-03-13T15:40:47.640Z"
   },
   {
    "duration": 1601,
    "start_time": "2022-03-13T15:41:13.556Z"
   },
   {
    "duration": 1926,
    "start_time": "2022-03-13T15:41:48.524Z"
   },
   {
    "duration": 1663,
    "start_time": "2022-03-13T15:41:56.713Z"
   },
   {
    "duration": 1677,
    "start_time": "2022-03-13T15:42:18.520Z"
   },
   {
    "duration": 1605,
    "start_time": "2022-03-13T15:42:42.569Z"
   },
   {
    "duration": 1856,
    "start_time": "2022-03-13T15:42:50.944Z"
   },
   {
    "duration": 1748,
    "start_time": "2022-03-13T15:43:03.133Z"
   },
   {
    "duration": 1644,
    "start_time": "2022-03-13T15:43:27.076Z"
   },
   {
    "duration": 1861,
    "start_time": "2022-03-13T15:43:56.309Z"
   },
   {
    "duration": 1644,
    "start_time": "2022-03-13T15:44:06.767Z"
   },
   {
    "duration": 354,
    "start_time": "2022-03-13T15:45:02.142Z"
   },
   {
    "duration": 11,
    "start_time": "2022-03-13T15:51:34.100Z"
   },
   {
    "duration": 11,
    "start_time": "2022-03-13T15:51:54.294Z"
   },
   {
    "duration": 19,
    "start_time": "2022-03-13T15:52:03.056Z"
   },
   {
    "duration": 10,
    "start_time": "2022-03-13T15:52:11.476Z"
   },
   {
    "duration": 8,
    "start_time": "2022-03-13T15:53:47.955Z"
   },
   {
    "duration": 12,
    "start_time": "2022-03-13T15:56:26.357Z"
   },
   {
    "duration": 15,
    "start_time": "2022-03-13T15:56:31.368Z"
   },
   {
    "duration": 240,
    "start_time": "2022-03-13T15:57:12.934Z"
   },
   {
    "duration": 15,
    "start_time": "2022-03-13T15:57:35.851Z"
   },
   {
    "duration": 8,
    "start_time": "2022-03-13T15:57:51.617Z"
   },
   {
    "duration": 8,
    "start_time": "2022-03-13T15:58:04.406Z"
   },
   {
    "duration": 15,
    "start_time": "2022-03-13T15:59:07.103Z"
   },
   {
    "duration": 15,
    "start_time": "2022-03-13T15:59:26.906Z"
   },
   {
    "duration": 16,
    "start_time": "2022-03-13T15:59:33.418Z"
   },
   {
    "duration": 320,
    "start_time": "2022-03-13T16:01:17.321Z"
   },
   {
    "duration": 246,
    "start_time": "2022-03-13T16:04:11.525Z"
   },
   {
    "duration": 398,
    "start_time": "2022-03-13T16:04:25.065Z"
   },
   {
    "duration": 440,
    "start_time": "2022-03-13T16:04:49.499Z"
   },
   {
    "duration": 369,
    "start_time": "2022-03-13T16:05:00.767Z"
   },
   {
    "duration": 326,
    "start_time": "2022-03-13T16:05:49.751Z"
   },
   {
    "duration": 321,
    "start_time": "2022-03-13T16:06:09.270Z"
   },
   {
    "duration": 15,
    "start_time": "2022-03-13T16:06:14.170Z"
   },
   {
    "duration": 11,
    "start_time": "2022-03-13T16:06:15.484Z"
   },
   {
    "duration": 326,
    "start_time": "2022-03-13T16:08:46.241Z"
   },
   {
    "duration": 15,
    "start_time": "2022-03-13T16:08:47.243Z"
   },
   {
    "duration": 11,
    "start_time": "2022-03-13T16:08:52.731Z"
   },
   {
    "duration": 329,
    "start_time": "2022-03-13T16:12:06.603Z"
   },
   {
    "duration": 15,
    "start_time": "2022-03-13T16:12:51.738Z"
   },
   {
    "duration": 16,
    "start_time": "2022-03-13T16:13:02.132Z"
   },
   {
    "duration": 17,
    "start_time": "2022-03-13T16:13:16.994Z"
   },
   {
    "duration": 467,
    "start_time": "2022-03-13T16:13:46.068Z"
   },
   {
    "duration": 18,
    "start_time": "2022-03-13T16:13:46.762Z"
   },
   {
    "duration": 14,
    "start_time": "2022-03-13T16:14:01.445Z"
   },
   {
    "duration": 88,
    "start_time": "2022-03-13T16:15:14.998Z"
   },
   {
    "duration": 1099,
    "start_time": "2022-03-13T16:38:09.900Z"
   },
   {
    "duration": 174,
    "start_time": "2022-03-13T16:38:11.001Z"
   },
   {
    "duration": 44,
    "start_time": "2022-03-13T16:38:11.177Z"
   },
   {
    "duration": 3,
    "start_time": "2022-03-13T16:38:11.223Z"
   },
   {
    "duration": 33,
    "start_time": "2022-03-13T16:38:11.227Z"
   },
   {
    "duration": 11,
    "start_time": "2022-03-13T16:38:11.261Z"
   },
   {
    "duration": 10,
    "start_time": "2022-03-13T16:38:11.274Z"
   },
   {
    "duration": 8,
    "start_time": "2022-03-13T16:38:11.287Z"
   },
   {
    "duration": 5,
    "start_time": "2022-03-13T16:38:11.298Z"
   },
   {
    "duration": 8,
    "start_time": "2022-03-13T16:38:11.304Z"
   },
   {
    "duration": 45,
    "start_time": "2022-03-13T16:38:11.314Z"
   },
   {
    "duration": 17,
    "start_time": "2022-03-13T16:38:11.361Z"
   },
   {
    "duration": 470,
    "start_time": "2022-03-13T16:38:11.380Z"
   },
   {
    "duration": 627,
    "start_time": "2022-03-13T16:38:11.852Z"
   },
   {
    "duration": 19,
    "start_time": "2022-03-13T16:38:12.480Z"
   },
   {
    "duration": 10,
    "start_time": "2022-03-13T16:38:12.501Z"
   },
   {
    "duration": 17,
    "start_time": "2022-03-13T16:38:12.512Z"
   },
   {
    "duration": 422,
    "start_time": "2022-03-13T16:38:12.531Z"
   },
   {
    "duration": 16,
    "start_time": "2022-03-13T16:38:12.955Z"
   },
   {
    "duration": 4,
    "start_time": "2022-03-13T16:38:12.972Z"
   },
   {
    "duration": 34,
    "start_time": "2022-03-13T16:38:12.978Z"
   },
   {
    "duration": 6,
    "start_time": "2022-03-13T16:38:13.014Z"
   },
   {
    "duration": 39,
    "start_time": "2022-03-13T16:38:13.024Z"
   },
   {
    "duration": 470,
    "start_time": "2022-03-13T16:38:13.065Z"
   },
   {
    "duration": 27,
    "start_time": "2022-03-13T16:38:13.537Z"
   },
   {
    "duration": 590,
    "start_time": "2022-03-13T16:38:13.565Z"
   },
   {
    "duration": 9,
    "start_time": "2022-03-13T16:38:14.157Z"
   },
   {
    "duration": 341,
    "start_time": "2022-03-13T16:38:14.168Z"
   },
   {
    "duration": 4,
    "start_time": "2022-03-13T16:38:14.511Z"
   },
   {
    "duration": 353,
    "start_time": "2022-03-13T16:38:14.517Z"
   },
   {
    "duration": 4,
    "start_time": "2022-03-13T16:38:14.872Z"
   },
   {
    "duration": 26,
    "start_time": "2022-03-13T16:38:14.878Z"
   },
   {
    "duration": 1737,
    "start_time": "2022-03-13T16:38:14.906Z"
   },
   {
    "duration": 26,
    "start_time": "2022-03-13T16:38:16.645Z"
   },
   {
    "duration": 26,
    "start_time": "2022-03-13T16:38:16.672Z"
   },
   {
    "duration": 17,
    "start_time": "2022-03-13T16:38:16.700Z"
   },
   {
    "duration": 342,
    "start_time": "2022-03-13T16:38:16.718Z"
   },
   {
    "duration": 4,
    "start_time": "2022-03-13T16:38:17.062Z"
   },
   {
    "duration": 18,
    "start_time": "2022-03-13T16:38:17.067Z"
   },
   {
    "duration": 14,
    "start_time": "2022-03-13T16:38:17.086Z"
   },
   {
    "duration": 13,
    "start_time": "2022-03-13T16:38:17.102Z"
   },
   {
    "duration": 44,
    "start_time": "2022-03-13T16:38:17.117Z"
   },
   {
    "duration": 15,
    "start_time": "2022-03-13T16:38:17.162Z"
   },
   {
    "duration": 13,
    "start_time": "2022-03-13T16:38:17.178Z"
   },
   {
    "duration": 5,
    "start_time": "2022-03-13T16:38:17.193Z"
   },
   {
    "duration": 19,
    "start_time": "2022-03-13T16:38:17.199Z"
   },
   {
    "duration": 39,
    "start_time": "2022-03-13T16:38:17.220Z"
   },
   {
    "duration": 15,
    "start_time": "2022-03-13T16:38:17.261Z"
   },
   {
    "duration": 12,
    "start_time": "2022-03-13T16:38:17.278Z"
   },
   {
    "duration": 12,
    "start_time": "2022-03-13T16:38:17.292Z"
   },
   {
    "duration": 356,
    "start_time": "2022-03-13T16:38:17.306Z"
   },
   {
    "duration": 17,
    "start_time": "2022-03-13T16:38:17.664Z"
   },
   {
    "duration": 11,
    "start_time": "2022-03-13T16:38:17.683Z"
   },
   {
    "duration": 347,
    "start_time": "2022-03-13T16:38:17.695Z"
   },
   {
    "duration": 24,
    "start_time": "2022-03-13T16:38:18.043Z"
   },
   {
    "duration": 12,
    "start_time": "2022-03-13T16:38:18.068Z"
   },
   {
    "duration": 2798,
    "start_time": "2022-03-23T05:44:38.497Z"
   },
   {
    "duration": 3398,
    "start_time": "2022-03-23T05:44:41.297Z"
   },
   {
    "duration": 51,
    "start_time": "2022-03-23T05:44:46.775Z"
   },
   {
    "duration": 3,
    "start_time": "2022-03-23T05:44:50.614Z"
   },
   {
    "duration": 9,
    "start_time": "2022-03-23T05:44:51.768Z"
   },
   {
    "duration": 12,
    "start_time": "2022-03-23T05:44:53.264Z"
   },
   {
    "duration": 11,
    "start_time": "2022-03-23T05:44:55.037Z"
   },
   {
    "duration": 7,
    "start_time": "2022-03-23T05:44:56.864Z"
   },
   {
    "duration": 4,
    "start_time": "2022-03-23T05:44:58.174Z"
   },
   {
    "duration": 7,
    "start_time": "2022-03-23T05:45:00.413Z"
   },
   {
    "duration": 5,
    "start_time": "2022-03-23T05:45:03.416Z"
   },
   {
    "duration": 10,
    "start_time": "2022-03-23T05:45:20.769Z"
   },
   {
    "duration": 16,
    "start_time": "2022-03-23T05:45:42.185Z"
   },
   {
    "duration": 328,
    "start_time": "2022-03-23T05:45:45.022Z"
   },
   {
    "duration": 417,
    "start_time": "2022-03-23T05:45:51.880Z"
   },
   {
    "duration": 20,
    "start_time": "2022-03-23T05:45:57.654Z"
   },
   {
    "duration": 47903,
    "start_time": "2022-03-23T06:01:21.610Z"
   },
   {
    "duration": 191,
    "start_time": "2022-03-23T06:02:15.192Z"
   },
   {
    "duration": 743,
    "start_time": "2022-03-23T06:02:24.288Z"
   },
   {
    "duration": 73054,
    "start_time": "2022-03-23T06:02:32.179Z"
   },
   {
    "duration": 764,
    "start_time": "2022-03-23T06:03:55.634Z"
   },
   {
    "duration": 7,
    "start_time": "2022-03-23T06:04:38.370Z"
   },
   {
    "duration": 11,
    "start_time": "2022-03-23T06:04:53.249Z"
   },
   {
    "duration": 16,
    "start_time": "2022-03-23T06:04:59.117Z"
   },
   {
    "duration": 8,
    "start_time": "2022-03-23T06:05:07.869Z"
   },
   {
    "duration": 12,
    "start_time": "2022-03-23T06:05:13.228Z"
   },
   {
    "duration": 35951,
    "start_time": "2022-03-23T06:05:26.326Z"
   },
   {
    "duration": 18,
    "start_time": "2022-03-23T06:09:22.943Z"
   },
   {
    "duration": 5,
    "start_time": "2022-03-23T06:09:28.704Z"
   },
   {
    "duration": 45,
    "start_time": "2022-03-23T06:12:22.511Z"
   },
   {
    "duration": 16,
    "start_time": "2022-03-23T06:12:29.985Z"
   },
   {
    "duration": 13,
    "start_time": "2022-03-23T06:12:58.367Z"
   },
   {
    "duration": 24,
    "start_time": "2022-03-23T06:13:07.905Z"
   },
   {
    "duration": 15,
    "start_time": "2022-03-23T06:13:15.850Z"
   },
   {
    "duration": 23,
    "start_time": "2022-03-23T06:13:16.758Z"
   },
   {
    "duration": 12,
    "start_time": "2022-03-23T06:13:23.730Z"
   },
   {
    "duration": 55,
    "start_time": "2022-03-23T06:13:34.498Z"
   },
   {
    "duration": 104,
    "start_time": "2022-03-23T06:13:38.906Z"
   },
   {
    "duration": 15,
    "start_time": "2022-03-23T06:14:23.969Z"
   },
   {
    "duration": 10,
    "start_time": "2022-03-23T06:14:24.422Z"
   },
   {
    "duration": 467,
    "start_time": "2022-03-23T06:14:36.880Z"
   },
   {
    "duration": 11876,
    "start_time": "2022-03-23T06:14:45.435Z"
   },
   {
    "duration": 11,
    "start_time": "2022-03-23T06:16:11.925Z"
   },
   {
    "duration": 10,
    "start_time": "2022-03-23T06:16:55.853Z"
   },
   {
    "duration": 573,
    "start_time": "2022-03-23T06:17:01.217Z"
   },
   {
    "duration": 10145,
    "start_time": "2022-03-23T06:17:16.258Z"
   },
   {
    "duration": 12,
    "start_time": "2022-03-23T06:18:09.614Z"
   },
   {
    "duration": 292,
    "start_time": "2022-03-23T06:18:12.750Z"
   },
   {
    "duration": 8,
    "start_time": "2022-03-23T06:18:20.251Z"
   },
   {
    "duration": 11,
    "start_time": "2022-03-23T06:18:23.990Z"
   },
   {
    "duration": 2989,
    "start_time": "2022-03-23T06:18:31.083Z"
   },
   {
    "duration": 19,
    "start_time": "2022-03-23T06:21:15.976Z"
   },
   {
    "duration": 11,
    "start_time": "2022-03-23T06:22:32.892Z"
   },
   {
    "duration": 288,
    "start_time": "2022-03-23T06:22:33.469Z"
   },
   {
    "duration": 11,
    "start_time": "2022-03-23T06:22:35.932Z"
   },
   {
    "duration": 289,
    "start_time": "2022-03-23T06:22:36.565Z"
   },
   {
    "duration": 293,
    "start_time": "2022-03-23T06:22:47.936Z"
   },
   {
    "duration": 15,
    "start_time": "2022-03-23T06:22:54.112Z"
   },
   {
    "duration": 4,
    "start_time": "2022-03-23T06:22:54.904Z"
   },
   {
    "duration": 66,
    "start_time": "2022-03-23T06:24:12.425Z"
   },
   {
    "duration": 19,
    "start_time": "2022-03-23T06:24:26.002Z"
   },
   {
    "duration": 4,
    "start_time": "2022-03-23T06:24:30.458Z"
   },
   {
    "duration": 18,
    "start_time": "2022-03-23T06:24:31.130Z"
   },
   {
    "duration": 277,
    "start_time": "2022-03-23T06:24:35.090Z"
   },
   {
    "duration": 17,
    "start_time": "2022-03-23T06:24:41.042Z"
   },
   {
    "duration": 9,
    "start_time": "2022-03-23T06:28:11.469Z"
   },
   {
    "duration": 323,
    "start_time": "2022-03-23T06:28:14.156Z"
   },
   {
    "duration": 5,
    "start_time": "2022-03-23T06:28:24.284Z"
   },
   {
    "duration": 155,
    "start_time": "2022-03-23T06:28:26.277Z"
   },
   {
    "duration": 4,
    "start_time": "2022-03-23T06:28:29.442Z"
   },
   {
    "duration": 9,
    "start_time": "2022-03-23T06:29:28.405Z"
   },
   {
    "duration": 875,
    "start_time": "2022-03-23T06:29:30.669Z"
   },
   {
    "duration": 19,
    "start_time": "2022-03-23T06:29:42.598Z"
   },
   {
    "duration": 13,
    "start_time": "2022-03-23T06:35:50.003Z"
   },
   {
    "duration": 18,
    "start_time": "2022-03-23T06:35:54.011Z"
   },
   {
    "duration": 203,
    "start_time": "2022-03-23T06:35:57.927Z"
   },
   {
    "duration": 200,
    "start_time": "2022-03-23T06:36:24.365Z"
   },
   {
    "duration": 208,
    "start_time": "2022-03-23T06:36:36.814Z"
   },
   {
    "duration": 1024,
    "start_time": "2022-03-23T06:38:12.635Z"
   },
   {
    "duration": 4,
    "start_time": "2022-03-23T06:38:31.562Z"
   },
   {
    "duration": 216,
    "start_time": "2022-03-23T06:39:59.409Z"
   },
   {
    "duration": 3,
    "start_time": "2022-03-23T06:41:45.315Z"
   },
   {
    "duration": 17,
    "start_time": "2022-03-23T06:41:45.956Z"
   },
   {
    "duration": 14,
    "start_time": "2022-03-23T06:41:56.791Z"
   },
   {
    "duration": 15,
    "start_time": "2022-03-23T06:41:58.479Z"
   },
   {
    "duration": 13,
    "start_time": "2022-03-23T06:44:58.476Z"
   },
   {
    "duration": 15,
    "start_time": "2022-03-23T06:45:04.304Z"
   },
   {
    "duration": 7,
    "start_time": "2022-03-23T06:50:15.985Z"
   },
   {
    "duration": 6,
    "start_time": "2022-03-23T06:50:25.728Z"
   },
   {
    "duration": 19,
    "start_time": "2022-03-23T06:50:26.330Z"
   },
   {
    "duration": 3,
    "start_time": "2022-03-23T06:50:27.400Z"
   },
   {
    "duration": 13,
    "start_time": "2022-03-23T06:50:29.142Z"
   },
   {
    "duration": 13,
    "start_time": "2022-03-23T06:50:30.232Z"
   },
   {
    "duration": 13,
    "start_time": "2022-03-23T06:50:31.262Z"
   },
   {
    "duration": 238,
    "start_time": "2022-03-23T06:51:41.831Z"
   },
   {
    "duration": 15,
    "start_time": "2022-03-23T06:51:46.488Z"
   },
   {
    "duration": 11,
    "start_time": "2022-03-23T06:51:49.922Z"
   },
   {
    "duration": 218,
    "start_time": "2022-03-23T06:53:27.508Z"
   },
   {
    "duration": 16,
    "start_time": "2022-03-23T06:53:29.288Z"
   },
   {
    "duration": 11,
    "start_time": "2022-03-23T06:53:29.785Z"
   },
   {
    "duration": 1194,
    "start_time": "2022-03-23T06:55:29.806Z"
   },
   {
    "duration": 73,
    "start_time": "2022-03-23T06:55:31.002Z"
   },
   {
    "duration": 52,
    "start_time": "2022-03-23T06:55:31.077Z"
   },
   {
    "duration": 3,
    "start_time": "2022-03-23T06:55:31.131Z"
   },
   {
    "duration": 19,
    "start_time": "2022-03-23T06:55:31.135Z"
   },
   {
    "duration": 15,
    "start_time": "2022-03-23T06:55:31.155Z"
   },
   {
    "duration": 18,
    "start_time": "2022-03-23T06:55:31.171Z"
   },
   {
    "duration": 21,
    "start_time": "2022-03-23T06:55:31.191Z"
   },
   {
    "duration": 12,
    "start_time": "2022-03-23T06:55:31.214Z"
   },
   {
    "duration": 11,
    "start_time": "2022-03-23T06:55:31.228Z"
   },
   {
    "duration": 7,
    "start_time": "2022-03-23T06:55:31.240Z"
   },
   {
    "duration": 26,
    "start_time": "2022-03-23T06:55:31.249Z"
   },
   {
    "duration": 358,
    "start_time": "2022-03-23T06:55:31.276Z"
   },
   {
    "duration": 408,
    "start_time": "2022-03-23T06:55:31.636Z"
   },
   {
    "duration": 19,
    "start_time": "2022-03-23T06:55:32.047Z"
   },
   {
    "duration": 5,
    "start_time": "2022-03-23T06:55:32.067Z"
   },
   {
    "duration": 37,
    "start_time": "2022-03-23T06:55:32.073Z"
   },
   {
    "duration": 320,
    "start_time": "2022-03-23T06:55:32.112Z"
   },
   {
    "duration": 14,
    "start_time": "2022-03-23T06:55:32.434Z"
   },
   {
    "duration": 6,
    "start_time": "2022-03-23T06:55:32.450Z"
   },
   {
    "duration": 29,
    "start_time": "2022-03-23T06:55:32.476Z"
   },
   {
    "duration": 6,
    "start_time": "2022-03-23T06:55:32.506Z"
   },
   {
    "duration": 23,
    "start_time": "2022-03-23T06:55:32.513Z"
   },
   {
    "duration": 304,
    "start_time": "2022-03-23T06:55:32.537Z"
   },
   {
    "duration": 18,
    "start_time": "2022-03-23T06:55:32.842Z"
   },
   {
    "duration": 381,
    "start_time": "2022-03-23T06:55:32.861Z"
   },
   {
    "duration": 9,
    "start_time": "2022-03-23T06:55:33.243Z"
   },
   {
    "duration": 169,
    "start_time": "2022-03-23T06:55:33.255Z"
   },
   {
    "duration": 4,
    "start_time": "2022-03-23T06:55:33.426Z"
   },
   {
    "duration": 165,
    "start_time": "2022-03-23T06:55:33.431Z"
   },
   {
    "duration": 4,
    "start_time": "2022-03-23T06:55:33.597Z"
   },
   {
    "duration": 14,
    "start_time": "2022-03-23T06:55:33.609Z"
   },
   {
    "duration": 830,
    "start_time": "2022-03-23T06:55:33.625Z"
   },
   {
    "duration": 18,
    "start_time": "2022-03-23T06:55:34.457Z"
   },
   {
    "duration": 32,
    "start_time": "2022-03-23T06:55:34.477Z"
   },
   {
    "duration": 17,
    "start_time": "2022-03-23T06:55:34.511Z"
   },
   {
    "duration": 331,
    "start_time": "2022-03-23T06:55:34.530Z"
   },
   {
    "duration": 0,
    "start_time": "2022-03-23T06:55:34.863Z"
   },
   {
    "duration": 0,
    "start_time": "2022-03-23T06:55:34.864Z"
   },
   {
    "duration": 0,
    "start_time": "2022-03-23T06:55:34.866Z"
   },
   {
    "duration": 0,
    "start_time": "2022-03-23T06:55:34.867Z"
   },
   {
    "duration": 0,
    "start_time": "2022-03-23T06:55:34.868Z"
   },
   {
    "duration": 0,
    "start_time": "2022-03-23T06:55:34.870Z"
   },
   {
    "duration": 0,
    "start_time": "2022-03-23T06:55:34.871Z"
   },
   {
    "duration": 0,
    "start_time": "2022-03-23T06:55:34.872Z"
   },
   {
    "duration": 0,
    "start_time": "2022-03-23T06:55:34.874Z"
   },
   {
    "duration": 0,
    "start_time": "2022-03-23T06:55:34.876Z"
   },
   {
    "duration": 0,
    "start_time": "2022-03-23T06:55:34.877Z"
   },
   {
    "duration": 0,
    "start_time": "2022-03-23T06:55:34.878Z"
   },
   {
    "duration": 0,
    "start_time": "2022-03-23T06:55:34.879Z"
   },
   {
    "duration": 0,
    "start_time": "2022-03-23T06:55:34.909Z"
   },
   {
    "duration": 0,
    "start_time": "2022-03-23T06:55:34.911Z"
   },
   {
    "duration": 0,
    "start_time": "2022-03-23T06:55:34.913Z"
   },
   {
    "duration": 0,
    "start_time": "2022-03-23T06:55:34.914Z"
   },
   {
    "duration": 0,
    "start_time": "2022-03-23T06:55:34.915Z"
   },
   {
    "duration": 0,
    "start_time": "2022-03-23T06:55:34.917Z"
   },
   {
    "duration": 4,
    "start_time": "2022-03-23T06:55:49.998Z"
   },
   {
    "duration": 16,
    "start_time": "2022-03-23T06:55:50.342Z"
   },
   {
    "duration": 16,
    "start_time": "2022-03-23T06:55:50.509Z"
   },
   {
    "duration": 17,
    "start_time": "2022-03-23T06:55:50.673Z"
   },
   {
    "duration": 16,
    "start_time": "2022-03-23T06:55:51.374Z"
   },
   {
    "duration": 16,
    "start_time": "2022-03-23T06:55:51.564Z"
   },
   {
    "duration": 17,
    "start_time": "2022-03-23T06:55:51.773Z"
   },
   {
    "duration": 6,
    "start_time": "2022-03-23T06:55:52.558Z"
   },
   {
    "duration": 21,
    "start_time": "2022-03-23T06:55:52.774Z"
   },
   {
    "duration": 3,
    "start_time": "2022-03-23T06:55:52.980Z"
   },
   {
    "duration": 13,
    "start_time": "2022-03-23T06:55:53.190Z"
   },
   {
    "duration": 14,
    "start_time": "2022-03-23T06:55:53.374Z"
   },
   {
    "duration": 16,
    "start_time": "2022-03-23T06:55:53.572Z"
   },
   {
    "duration": 215,
    "start_time": "2022-03-23T06:55:55.431Z"
   },
   {
    "duration": 15,
    "start_time": "2022-03-23T06:55:55.648Z"
   },
   {
    "duration": 9,
    "start_time": "2022-03-23T06:55:55.779Z"
   },
   {
    "duration": 208,
    "start_time": "2022-03-23T06:55:56.958Z"
   },
   {
    "duration": 15,
    "start_time": "2022-03-23T06:55:57.270Z"
   },
   {
    "duration": 11,
    "start_time": "2022-03-23T06:55:57.558Z"
   },
   {
    "duration": 310,
    "start_time": "2022-03-23T06:56:14.223Z"
   },
   {
    "duration": 1114,
    "start_time": "2022-03-23T07:33:45.399Z"
   },
   {
    "duration": 68,
    "start_time": "2022-03-23T07:33:46.515Z"
   },
   {
    "duration": 58,
    "start_time": "2022-03-23T07:33:46.585Z"
   },
   {
    "duration": 3,
    "start_time": "2022-03-23T07:33:46.645Z"
   },
   {
    "duration": 11,
    "start_time": "2022-03-23T07:33:46.649Z"
   },
   {
    "duration": 12,
    "start_time": "2022-03-23T07:33:46.661Z"
   },
   {
    "duration": 39,
    "start_time": "2022-03-23T07:33:46.674Z"
   },
   {
    "duration": 7,
    "start_time": "2022-03-23T07:33:46.715Z"
   },
   {
    "duration": 9,
    "start_time": "2022-03-23T07:33:46.724Z"
   },
   {
    "duration": 7,
    "start_time": "2022-03-23T07:33:46.735Z"
   },
   {
    "duration": 4,
    "start_time": "2022-03-23T07:33:46.744Z"
   },
   {
    "duration": 15,
    "start_time": "2022-03-23T07:33:46.749Z"
   },
   {
    "duration": 393,
    "start_time": "2022-03-23T07:33:46.765Z"
   },
   {
    "duration": 352,
    "start_time": "2022-03-23T07:33:48.513Z"
   },
   {
    "duration": 77,
    "start_time": "2022-03-23T07:36:53.004Z"
   },
   {
    "duration": 16,
    "start_time": "2022-03-23T07:37:01.699Z"
   },
   {
    "duration": 8,
    "start_time": "2022-03-23T07:37:17.619Z"
   },
   {
    "duration": 101,
    "start_time": "2022-03-23T07:37:50.798Z"
   },
   {
    "duration": 467,
    "start_time": "2022-03-23T07:37:59.534Z"
   },
   {
    "duration": 492,
    "start_time": "2022-03-23T07:38:31.097Z"
   },
   {
    "duration": 427,
    "start_time": "2022-03-23T07:38:40.007Z"
   },
   {
    "duration": 458,
    "start_time": "2022-03-23T07:38:49.364Z"
   },
   {
    "duration": 214,
    "start_time": "2022-03-23T07:39:04.342Z"
   },
   {
    "duration": 437,
    "start_time": "2022-03-23T07:39:28.448Z"
   },
   {
    "duration": 499,
    "start_time": "2022-03-23T07:39:44.072Z"
   },
   {
    "duration": 227,
    "start_time": "2022-03-23T07:39:58.597Z"
   },
   {
    "duration": 5591,
    "start_time": "2022-03-23T07:40:25.872Z"
   },
   {
    "duration": 118,
    "start_time": "2022-03-23T07:40:55.662Z"
   },
   {
    "duration": 239,
    "start_time": "2022-03-23T07:40:59.136Z"
   },
   {
    "duration": 569,
    "start_time": "2022-03-23T07:41:07.671Z"
   },
   {
    "duration": 550,
    "start_time": "2022-03-23T07:44:41.811Z"
   },
   {
    "duration": 540,
    "start_time": "2022-03-23T07:44:47.147Z"
   },
   {
    "duration": 536,
    "start_time": "2022-03-23T07:44:52.817Z"
   },
   {
    "duration": 641,
    "start_time": "2022-03-23T07:44:58.472Z"
   },
   {
    "duration": 315,
    "start_time": "2022-03-23T07:45:42.155Z"
   },
   {
    "duration": 297,
    "start_time": "2022-03-23T07:45:52.676Z"
   },
   {
    "duration": 551,
    "start_time": "2022-03-23T07:46:09.228Z"
   },
   {
    "duration": 563,
    "start_time": "2022-03-23T07:47:09.702Z"
   },
   {
    "duration": 1184,
    "start_time": "2022-03-23T07:47:17.065Z"
   },
   {
    "duration": 85,
    "start_time": "2022-03-23T07:47:18.251Z"
   },
   {
    "duration": 50,
    "start_time": "2022-03-23T07:47:18.338Z"
   },
   {
    "duration": 21,
    "start_time": "2022-03-23T07:47:18.390Z"
   },
   {
    "duration": 18,
    "start_time": "2022-03-23T07:47:18.413Z"
   },
   {
    "duration": 13,
    "start_time": "2022-03-23T07:47:18.433Z"
   },
   {
    "duration": 14,
    "start_time": "2022-03-23T07:47:18.448Z"
   },
   {
    "duration": 7,
    "start_time": "2022-03-23T07:47:18.464Z"
   },
   {
    "duration": 5,
    "start_time": "2022-03-23T07:47:18.473Z"
   },
   {
    "duration": 38,
    "start_time": "2022-03-23T07:47:18.480Z"
   },
   {
    "duration": 8,
    "start_time": "2022-03-23T07:47:18.521Z"
   },
   {
    "duration": 16,
    "start_time": "2022-03-23T07:47:18.533Z"
   },
   {
    "duration": 416,
    "start_time": "2022-03-23T07:47:18.550Z"
   },
   {
    "duration": 451,
    "start_time": "2022-03-23T07:47:18.968Z"
   },
   {
    "duration": 587,
    "start_time": "2022-03-23T07:47:19.423Z"
   },
   {
    "duration": 537,
    "start_time": "2022-03-23T07:47:25.338Z"
   },
   {
    "duration": 18,
    "start_time": "2022-03-23T07:47:29.683Z"
   },
   {
    "duration": 6,
    "start_time": "2022-03-23T07:47:31.402Z"
   },
   {
    "duration": 9,
    "start_time": "2022-03-23T07:47:35.538Z"
   },
   {
    "duration": 506,
    "start_time": "2022-03-23T07:47:36.901Z"
   },
   {
    "duration": 21,
    "start_time": "2022-03-23T07:48:25.916Z"
   },
   {
    "duration": 4,
    "start_time": "2022-03-23T07:48:26.530Z"
   },
   {
    "duration": 26,
    "start_time": "2022-03-23T07:48:31.401Z"
   },
   {
    "duration": 5,
    "start_time": "2022-03-23T07:48:34.796Z"
   },
   {
    "duration": 21,
    "start_time": "2022-03-23T07:48:35.873Z"
   },
   {
    "duration": 311,
    "start_time": "2022-03-23T07:48:39.363Z"
   },
   {
    "duration": 18,
    "start_time": "2022-03-23T07:48:43.052Z"
   },
   {
    "duration": 18,
    "start_time": "2022-03-23T07:49:34.829Z"
   },
   {
    "duration": 90,
    "start_time": "2022-03-23T07:51:11.850Z"
   },
   {
    "duration": 332,
    "start_time": "2022-03-23T07:54:08.126Z"
   },
   {
    "duration": 1218,
    "start_time": "2022-03-23T07:54:37.426Z"
   },
   {
    "duration": 91,
    "start_time": "2022-03-23T07:54:38.650Z"
   },
   {
    "duration": 90,
    "start_time": "2022-03-23T07:54:38.744Z"
   },
   {
    "duration": 4,
    "start_time": "2022-03-23T07:54:38.837Z"
   },
   {
    "duration": 17,
    "start_time": "2022-03-23T07:54:38.844Z"
   },
   {
    "duration": 26,
    "start_time": "2022-03-23T07:54:38.863Z"
   },
   {
    "duration": 29,
    "start_time": "2022-03-23T07:54:38.891Z"
   },
   {
    "duration": 13,
    "start_time": "2022-03-23T07:54:38.922Z"
   },
   {
    "duration": 5,
    "start_time": "2022-03-23T07:54:38.936Z"
   },
   {
    "duration": 10,
    "start_time": "2022-03-23T07:54:38.943Z"
   },
   {
    "duration": 8,
    "start_time": "2022-03-23T07:54:38.954Z"
   },
   {
    "duration": 23,
    "start_time": "2022-03-23T07:54:38.964Z"
   },
   {
    "duration": 380,
    "start_time": "2022-03-23T07:54:39.008Z"
   },
   {
    "duration": 463,
    "start_time": "2022-03-23T07:54:39.391Z"
   },
   {
    "duration": 550,
    "start_time": "2022-03-23T07:54:39.856Z"
   },
   {
    "duration": 25,
    "start_time": "2022-03-23T07:54:40.409Z"
   },
   {
    "duration": 4,
    "start_time": "2022-03-23T07:54:40.436Z"
   },
   {
    "duration": 13,
    "start_time": "2022-03-23T07:54:40.441Z"
   },
   {
    "duration": 10,
    "start_time": "2022-03-23T07:54:41.347Z"
   },
   {
    "duration": 472,
    "start_time": "2022-03-23T07:54:41.736Z"
   },
   {
    "duration": 21,
    "start_time": "2022-03-23T07:54:43.818Z"
   },
   {
    "duration": 6,
    "start_time": "2022-03-23T07:54:44.319Z"
   },
   {
    "duration": 19,
    "start_time": "2022-03-23T07:54:54.682Z"
   },
   {
    "duration": 6,
    "start_time": "2022-03-23T07:54:55.599Z"
   },
   {
    "duration": 98,
    "start_time": "2022-03-23T07:54:55.896Z"
   },
   {
    "duration": 324,
    "start_time": "2022-03-23T07:54:56.815Z"
   },
   {
    "duration": 16,
    "start_time": "2022-03-23T07:54:58.250Z"
   },
   {
    "duration": 328,
    "start_time": "2022-03-23T07:55:00.186Z"
   },
   {
    "duration": 12,
    "start_time": "2022-03-23T07:55:03.018Z"
   },
   {
    "duration": 177,
    "start_time": "2022-03-23T07:55:04.271Z"
   },
   {
    "duration": 5,
    "start_time": "2022-03-23T07:55:07.544Z"
   },
   {
    "duration": 176,
    "start_time": "2022-03-23T07:55:08.072Z"
   },
   {
    "duration": 5,
    "start_time": "2022-03-23T07:55:09.274Z"
   },
   {
    "duration": 10,
    "start_time": "2022-03-23T07:55:12.410Z"
   },
   {
    "duration": 931,
    "start_time": "2022-03-23T07:55:13.450Z"
   },
   {
    "duration": 25,
    "start_time": "2022-03-23T07:58:41.422Z"
   },
   {
    "duration": 21,
    "start_time": "2022-03-23T07:58:45.612Z"
   },
   {
    "duration": 15,
    "start_time": "2022-03-23T07:59:20.045Z"
   },
   {
    "duration": 22,
    "start_time": "2022-03-23T07:59:20.993Z"
   },
   {
    "duration": 229,
    "start_time": "2022-03-23T07:59:22.149Z"
   },
   {
    "duration": 6,
    "start_time": "2022-03-23T07:59:40.230Z"
   },
   {
    "duration": 17,
    "start_time": "2022-03-23T07:59:41.219Z"
   },
   {
    "duration": 15,
    "start_time": "2022-03-23T07:59:42.165Z"
   },
   {
    "duration": 15,
    "start_time": "2022-03-23T07:59:43.043Z"
   },
   {
    "duration": 99,
    "start_time": "2022-03-23T09:09:32.898Z"
   },
   {
    "duration": 55,
    "start_time": "2022-03-23T09:22:58.021Z"
   },
   {
    "duration": 1384,
    "start_time": "2022-03-23T09:23:04.401Z"
   },
   {
    "duration": 86,
    "start_time": "2022-03-23T09:23:05.787Z"
   },
   {
    "duration": 49,
    "start_time": "2022-03-23T09:23:05.875Z"
   },
   {
    "duration": 4,
    "start_time": "2022-03-23T09:23:05.933Z"
   },
   {
    "duration": 15,
    "start_time": "2022-03-23T09:23:05.938Z"
   },
   {
    "duration": 18,
    "start_time": "2022-03-23T09:23:05.954Z"
   },
   {
    "duration": 22,
    "start_time": "2022-03-23T09:23:05.973Z"
   },
   {
    "duration": 16,
    "start_time": "2022-03-23T09:23:05.997Z"
   },
   {
    "duration": 18,
    "start_time": "2022-03-23T09:23:06.014Z"
   },
   {
    "duration": 15,
    "start_time": "2022-03-23T09:23:06.036Z"
   },
   {
    "duration": 15,
    "start_time": "2022-03-23T09:23:06.053Z"
   },
   {
    "duration": 21,
    "start_time": "2022-03-23T09:23:06.070Z"
   },
   {
    "duration": 332,
    "start_time": "2022-03-23T09:23:06.092Z"
   },
   {
    "duration": 410,
    "start_time": "2022-03-23T09:23:06.432Z"
   },
   {
    "duration": 489,
    "start_time": "2022-03-23T09:23:06.844Z"
   },
   {
    "duration": 23,
    "start_time": "2022-03-23T09:23:07.335Z"
   },
   {
    "duration": 14,
    "start_time": "2022-03-23T09:23:07.360Z"
   },
   {
    "duration": 15,
    "start_time": "2022-03-23T09:23:07.376Z"
   },
   {
    "duration": 443,
    "start_time": "2022-03-23T09:23:07.392Z"
   },
   {
    "duration": 0,
    "start_time": "2022-03-23T09:23:07.839Z"
   },
   {
    "duration": 0,
    "start_time": "2022-03-23T09:23:07.841Z"
   },
   {
    "duration": 0,
    "start_time": "2022-03-23T09:23:07.842Z"
   },
   {
    "duration": 0,
    "start_time": "2022-03-23T09:23:07.844Z"
   },
   {
    "duration": 0,
    "start_time": "2022-03-23T09:23:07.846Z"
   },
   {
    "duration": 0,
    "start_time": "2022-03-23T09:23:07.848Z"
   },
   {
    "duration": 0,
    "start_time": "2022-03-23T09:23:07.849Z"
   },
   {
    "duration": 0,
    "start_time": "2022-03-23T09:23:07.850Z"
   },
   {
    "duration": 0,
    "start_time": "2022-03-23T09:23:07.851Z"
   },
   {
    "duration": 0,
    "start_time": "2022-03-23T09:23:07.852Z"
   },
   {
    "duration": 0,
    "start_time": "2022-03-23T09:23:07.853Z"
   },
   {
    "duration": 0,
    "start_time": "2022-03-23T09:23:07.854Z"
   },
   {
    "duration": 0,
    "start_time": "2022-03-23T09:23:07.855Z"
   },
   {
    "duration": 0,
    "start_time": "2022-03-23T09:23:07.960Z"
   },
   {
    "duration": 0,
    "start_time": "2022-03-23T09:23:07.962Z"
   },
   {
    "duration": 0,
    "start_time": "2022-03-23T09:23:07.963Z"
   },
   {
    "duration": 0,
    "start_time": "2022-03-23T09:23:07.964Z"
   },
   {
    "duration": 0,
    "start_time": "2022-03-23T09:23:07.965Z"
   },
   {
    "duration": 1,
    "start_time": "2022-03-23T09:23:07.966Z"
   },
   {
    "duration": 0,
    "start_time": "2022-03-23T09:23:07.968Z"
   },
   {
    "duration": 0,
    "start_time": "2022-03-23T09:23:07.969Z"
   },
   {
    "duration": 0,
    "start_time": "2022-03-23T09:23:07.970Z"
   },
   {
    "duration": 0,
    "start_time": "2022-03-23T09:23:07.971Z"
   },
   {
    "duration": 0,
    "start_time": "2022-03-23T09:23:07.972Z"
   },
   {
    "duration": 0,
    "start_time": "2022-03-23T09:23:07.973Z"
   },
   {
    "duration": 0,
    "start_time": "2022-03-23T09:23:07.974Z"
   },
   {
    "duration": 0,
    "start_time": "2022-03-23T09:23:07.975Z"
   },
   {
    "duration": 0,
    "start_time": "2022-03-23T09:23:07.977Z"
   },
   {
    "duration": 0,
    "start_time": "2022-03-23T09:23:07.978Z"
   },
   {
    "duration": 0,
    "start_time": "2022-03-23T09:23:07.979Z"
   },
   {
    "duration": 0,
    "start_time": "2022-03-23T09:23:07.980Z"
   },
   {
    "duration": 0,
    "start_time": "2022-03-23T09:23:07.981Z"
   },
   {
    "duration": 0,
    "start_time": "2022-03-23T09:23:07.982Z"
   },
   {
    "duration": 0,
    "start_time": "2022-03-23T09:23:07.984Z"
   },
   {
    "duration": 0,
    "start_time": "2022-03-23T09:23:07.985Z"
   },
   {
    "duration": 0,
    "start_time": "2022-03-23T09:23:07.986Z"
   },
   {
    "duration": 0,
    "start_time": "2022-03-23T09:23:08.033Z"
   },
   {
    "duration": 0,
    "start_time": "2022-03-23T09:23:08.034Z"
   },
   {
    "duration": 274,
    "start_time": "2022-03-23T09:25:33.085Z"
   },
   {
    "duration": 11,
    "start_time": "2022-03-23T09:30:50.432Z"
   },
   {
    "duration": 10,
    "start_time": "2022-03-23T09:30:54.291Z"
   },
   {
    "duration": 15,
    "start_time": "2022-03-23T09:30:57.673Z"
   },
   {
    "duration": 5,
    "start_time": "2022-03-23T09:30:58.776Z"
   },
   {
    "duration": 6,
    "start_time": "2022-03-23T09:31:00.692Z"
   },
   {
    "duration": 1589,
    "start_time": "2022-03-23T09:31:05.917Z"
   },
   {
    "duration": 100,
    "start_time": "2022-03-23T09:31:07.509Z"
   },
   {
    "duration": 72,
    "start_time": "2022-03-23T09:31:07.611Z"
   },
   {
    "duration": 4,
    "start_time": "2022-03-23T09:31:07.686Z"
   },
   {
    "duration": 22,
    "start_time": "2022-03-23T09:31:07.691Z"
   },
   {
    "duration": 22,
    "start_time": "2022-03-23T09:31:07.734Z"
   },
   {
    "duration": 21,
    "start_time": "2022-03-23T09:31:07.759Z"
   },
   {
    "duration": 14,
    "start_time": "2022-03-23T09:31:07.783Z"
   },
   {
    "duration": 34,
    "start_time": "2022-03-23T09:31:07.800Z"
   },
   {
    "duration": 11,
    "start_time": "2022-03-23T09:31:07.840Z"
   },
   {
    "duration": 9,
    "start_time": "2022-03-23T09:31:07.854Z"
   },
   {
    "duration": 31,
    "start_time": "2022-03-23T09:31:07.866Z"
   },
   {
    "duration": 695,
    "start_time": "2022-03-23T09:31:07.900Z"
   },
   {
    "duration": 457,
    "start_time": "2022-03-23T09:31:08.596Z"
   },
   {
    "duration": 796,
    "start_time": "2022-03-23T09:31:09.055Z"
   },
   {
    "duration": 36,
    "start_time": "2022-03-23T09:31:09.854Z"
   },
   {
    "duration": 8,
    "start_time": "2022-03-23T09:31:09.893Z"
   },
   {
    "duration": 43,
    "start_time": "2022-03-23T09:31:09.904Z"
   },
   {
    "duration": 486,
    "start_time": "2022-03-23T09:31:09.950Z"
   },
   {
    "duration": 18,
    "start_time": "2022-03-23T09:31:10.439Z"
   },
   {
    "duration": 4,
    "start_time": "2022-03-23T09:31:10.459Z"
   },
   {
    "duration": 15,
    "start_time": "2022-03-23T09:31:10.464Z"
   },
   {
    "duration": 18,
    "start_time": "2022-03-23T09:31:10.481Z"
   },
   {
    "duration": 4,
    "start_time": "2022-03-23T09:31:10.501Z"
   },
   {
    "duration": 114,
    "start_time": "2022-03-23T09:31:10.507Z"
   },
   {
    "duration": 292,
    "start_time": "2022-03-23T09:31:10.623Z"
   },
   {
    "duration": 26,
    "start_time": "2022-03-23T09:31:10.917Z"
   },
   {
    "duration": 291,
    "start_time": "2022-03-23T09:31:10.948Z"
   },
   {
    "duration": 8,
    "start_time": "2022-03-23T09:31:11.241Z"
   },
   {
    "duration": 160,
    "start_time": "2022-03-23T09:31:11.251Z"
   },
   {
    "duration": 4,
    "start_time": "2022-03-23T09:31:11.413Z"
   },
   {
    "duration": 171,
    "start_time": "2022-03-23T09:31:11.419Z"
   },
   {
    "duration": 4,
    "start_time": "2022-03-23T09:31:11.592Z"
   },
   {
    "duration": 16,
    "start_time": "2022-03-23T09:31:11.598Z"
   },
   {
    "duration": 911,
    "start_time": "2022-03-23T09:31:11.616Z"
   },
   {
    "duration": 19,
    "start_time": "2022-03-23T09:31:12.533Z"
   },
   {
    "duration": 14,
    "start_time": "2022-03-23T09:31:12.554Z"
   },
   {
    "duration": 23,
    "start_time": "2022-03-23T09:31:12.570Z"
   },
   {
    "duration": 401,
    "start_time": "2022-03-23T09:31:12.596Z"
   },
   {
    "duration": 0,
    "start_time": "2022-03-23T09:31:12.998Z"
   },
   {
    "duration": 0,
    "start_time": "2022-03-23T09:31:13.000Z"
   },
   {
    "duration": 0,
    "start_time": "2022-03-23T09:31:13.001Z"
   },
   {
    "duration": 0,
    "start_time": "2022-03-23T09:31:13.002Z"
   },
   {
    "duration": 0,
    "start_time": "2022-03-23T09:31:13.004Z"
   },
   {
    "duration": 0,
    "start_time": "2022-03-23T09:31:13.005Z"
   },
   {
    "duration": 0,
    "start_time": "2022-03-23T09:31:13.006Z"
   },
   {
    "duration": 0,
    "start_time": "2022-03-23T09:31:13.007Z"
   },
   {
    "duration": 0,
    "start_time": "2022-03-23T09:31:13.009Z"
   },
   {
    "duration": 0,
    "start_time": "2022-03-23T09:31:13.010Z"
   },
   {
    "duration": 0,
    "start_time": "2022-03-23T09:31:13.011Z"
   },
   {
    "duration": 0,
    "start_time": "2022-03-23T09:31:13.033Z"
   },
   {
    "duration": 0,
    "start_time": "2022-03-23T09:31:13.034Z"
   },
   {
    "duration": 0,
    "start_time": "2022-03-23T09:31:13.035Z"
   },
   {
    "duration": 0,
    "start_time": "2022-03-23T09:31:13.037Z"
   },
   {
    "duration": 0,
    "start_time": "2022-03-23T09:31:13.038Z"
   },
   {
    "duration": 0,
    "start_time": "2022-03-23T09:31:13.039Z"
   },
   {
    "duration": 0,
    "start_time": "2022-03-23T09:31:13.040Z"
   },
   {
    "duration": 0,
    "start_time": "2022-03-23T09:31:13.041Z"
   },
   {
    "duration": 89,
    "start_time": "2022-03-23T09:33:07.782Z"
   },
   {
    "duration": 22,
    "start_time": "2022-03-23T09:33:12.976Z"
   },
   {
    "duration": 20,
    "start_time": "2022-03-23T09:33:42.789Z"
   },
   {
    "duration": 268,
    "start_time": "2022-03-23T09:41:46.574Z"
   },
   {
    "duration": 359,
    "start_time": "2022-03-23T09:43:36.314Z"
   },
   {
    "duration": 281,
    "start_time": "2022-03-23T09:43:46.657Z"
   },
   {
    "duration": 167,
    "start_time": "2022-03-23T09:44:05.493Z"
   },
   {
    "duration": 12,
    "start_time": "2022-03-23T09:44:22.211Z"
   },
   {
    "duration": 178,
    "start_time": "2022-03-23T09:46:28.172Z"
   },
   {
    "duration": 281,
    "start_time": "2022-03-23T09:46:35.674Z"
   },
   {
    "duration": 290,
    "start_time": "2022-03-23T09:46:42.215Z"
   },
   {
    "duration": 381,
    "start_time": "2022-03-23T09:49:20.329Z"
   },
   {
    "duration": 275,
    "start_time": "2022-03-23T09:56:17.021Z"
   },
   {
    "duration": 286,
    "start_time": "2022-03-23T09:56:37.020Z"
   },
   {
    "duration": 1142,
    "start_time": "2022-03-24T09:03:32.884Z"
   },
   {
    "duration": 78,
    "start_time": "2022-03-24T09:03:34.028Z"
   },
   {
    "duration": 50,
    "start_time": "2022-03-24T09:03:34.108Z"
   },
   {
    "duration": 4,
    "start_time": "2022-03-24T09:03:34.160Z"
   },
   {
    "duration": 21,
    "start_time": "2022-03-24T09:03:34.165Z"
   },
   {
    "duration": 22,
    "start_time": "2022-03-24T09:03:34.187Z"
   },
   {
    "duration": 25,
    "start_time": "2022-03-24T09:03:34.211Z"
   },
   {
    "duration": 8,
    "start_time": "2022-03-24T09:03:34.238Z"
   },
   {
    "duration": 6,
    "start_time": "2022-03-24T09:03:34.248Z"
   },
   {
    "duration": 10,
    "start_time": "2022-03-24T09:03:34.257Z"
   },
   {
    "duration": 4,
    "start_time": "2022-03-24T09:03:34.269Z"
   },
   {
    "duration": 15,
    "start_time": "2022-03-24T09:03:34.275Z"
   },
   {
    "duration": 351,
    "start_time": "2022-03-24T09:03:34.292Z"
   },
   {
    "duration": 416,
    "start_time": "2022-03-24T09:03:34.645Z"
   },
   {
    "duration": 486,
    "start_time": "2022-03-24T09:03:35.063Z"
   },
   {
    "duration": 17,
    "start_time": "2022-03-24T09:03:35.550Z"
   },
   {
    "duration": 5,
    "start_time": "2022-03-24T09:03:35.569Z"
   },
   {
    "duration": 14,
    "start_time": "2022-03-24T09:03:35.576Z"
   },
   {
    "duration": 291,
    "start_time": "2022-03-24T09:03:35.592Z"
   },
   {
    "duration": 16,
    "start_time": "2022-03-24T09:03:35.885Z"
   },
   {
    "duration": 9,
    "start_time": "2022-03-24T09:03:35.903Z"
   },
   {
    "duration": 33,
    "start_time": "2022-03-24T09:03:35.914Z"
   },
   {
    "duration": 101,
    "start_time": "2022-03-24T09:03:35.948Z"
   },
   {
    "duration": 5,
    "start_time": "2022-03-24T09:03:36.052Z"
   },
   {
    "duration": 20,
    "start_time": "2022-03-24T09:03:36.058Z"
   },
   {
    "duration": 271,
    "start_time": "2022-03-24T09:03:36.079Z"
   },
   {
    "duration": 22,
    "start_time": "2022-03-24T09:03:36.352Z"
   },
   {
    "duration": 365,
    "start_time": "2022-03-24T09:03:36.379Z"
   },
   {
    "duration": 288,
    "start_time": "2022-03-24T09:03:36.746Z"
   },
   {
    "duration": 9,
    "start_time": "2022-03-24T09:03:37.036Z"
   },
   {
    "duration": 163,
    "start_time": "2022-03-24T09:03:37.046Z"
   },
   {
    "duration": 4,
    "start_time": "2022-03-24T09:03:37.211Z"
   },
   {
    "duration": 160,
    "start_time": "2022-03-24T09:03:37.218Z"
   },
   {
    "duration": 4,
    "start_time": "2022-03-24T09:03:37.380Z"
   },
   {
    "duration": 11,
    "start_time": "2022-03-24T09:03:37.385Z"
   },
   {
    "duration": 766,
    "start_time": "2022-03-24T09:03:37.398Z"
   },
   {
    "duration": 20,
    "start_time": "2022-03-24T09:03:38.166Z"
   },
   {
    "duration": 13,
    "start_time": "2022-03-24T09:03:38.187Z"
   },
   {
    "duration": 43,
    "start_time": "2022-03-24T09:03:38.202Z"
   },
   {
    "duration": 205,
    "start_time": "2022-03-24T09:03:38.246Z"
   },
   {
    "duration": 4,
    "start_time": "2022-03-24T09:03:38.453Z"
   },
   {
    "duration": 20,
    "start_time": "2022-03-24T09:03:38.459Z"
   },
   {
    "duration": 18,
    "start_time": "2022-03-24T09:03:38.481Z"
   },
   {
    "duration": 42,
    "start_time": "2022-03-24T09:03:38.501Z"
   },
   {
    "duration": 19,
    "start_time": "2022-03-24T09:03:38.545Z"
   },
   {
    "duration": 14,
    "start_time": "2022-03-24T09:03:38.566Z"
   },
   {
    "duration": 134,
    "start_time": "2022-03-24T09:03:38.581Z"
   },
   {
    "duration": 5,
    "start_time": "2022-03-24T09:03:38.717Z"
   },
   {
    "duration": 21,
    "start_time": "2022-03-24T09:03:38.733Z"
   },
   {
    "duration": 3,
    "start_time": "2022-03-24T09:03:38.755Z"
   },
   {
    "duration": 18,
    "start_time": "2022-03-24T09:03:38.760Z"
   },
   {
    "duration": 11,
    "start_time": "2022-03-24T09:03:38.779Z"
   },
   {
    "duration": 42,
    "start_time": "2022-03-24T09:03:38.792Z"
   },
   {
    "duration": 196,
    "start_time": "2022-03-24T09:03:38.836Z"
   },
   {
    "duration": 15,
    "start_time": "2022-03-24T09:03:39.034Z"
   },
   {
    "duration": 32,
    "start_time": "2022-03-24T09:03:39.050Z"
   },
   {
    "duration": 218,
    "start_time": "2022-03-24T09:03:39.084Z"
   },
   {
    "duration": 32,
    "start_time": "2022-03-24T09:03:39.304Z"
   },
   {
    "duration": 12,
    "start_time": "2022-03-24T09:03:39.338Z"
   },
   {
    "duration": 1551,
    "start_time": "2022-03-26T09:44:11.808Z"
   },
   {
    "duration": 110,
    "start_time": "2022-03-26T09:44:13.361Z"
   },
   {
    "duration": 73,
    "start_time": "2022-03-26T09:44:13.473Z"
   },
   {
    "duration": 4,
    "start_time": "2022-03-26T09:44:13.548Z"
   },
   {
    "duration": 17,
    "start_time": "2022-03-26T09:44:13.554Z"
   },
   {
    "duration": 13,
    "start_time": "2022-03-26T09:44:13.573Z"
   },
   {
    "duration": 14,
    "start_time": "2022-03-26T09:44:13.587Z"
   },
   {
    "duration": 9,
    "start_time": "2022-03-26T09:44:13.632Z"
   },
   {
    "duration": 7,
    "start_time": "2022-03-26T09:44:13.643Z"
   },
   {
    "duration": 8,
    "start_time": "2022-03-26T09:44:13.653Z"
   },
   {
    "duration": 6,
    "start_time": "2022-03-26T09:44:13.663Z"
   },
   {
    "duration": 18,
    "start_time": "2022-03-26T09:44:13.671Z"
   },
   {
    "duration": 423,
    "start_time": "2022-03-26T09:44:13.731Z"
   },
   {
    "duration": 505,
    "start_time": "2022-03-26T09:44:14.155Z"
   },
   {
    "duration": 676,
    "start_time": "2022-03-26T09:44:14.663Z"
   },
   {
    "duration": 31,
    "start_time": "2022-03-26T09:44:15.342Z"
   },
   {
    "duration": 17,
    "start_time": "2022-03-26T09:44:15.375Z"
   },
   {
    "duration": 33,
    "start_time": "2022-03-26T09:44:15.394Z"
   },
   {
    "duration": 371,
    "start_time": "2022-03-26T09:44:15.428Z"
   },
   {
    "duration": 19,
    "start_time": "2022-03-26T09:44:15.801Z"
   },
   {
    "duration": 36,
    "start_time": "2022-03-26T09:44:15.832Z"
   },
   {
    "duration": 55,
    "start_time": "2022-03-26T09:44:15.872Z"
   },
   {
    "duration": 138,
    "start_time": "2022-03-26T09:44:15.929Z"
   },
   {
    "duration": 7,
    "start_time": "2022-03-26T09:44:16.068Z"
   },
   {
    "duration": 41,
    "start_time": "2022-03-26T09:44:16.077Z"
   },
   {
    "duration": 403,
    "start_time": "2022-03-26T09:44:16.120Z"
   },
   {
    "duration": 22,
    "start_time": "2022-03-26T09:44:16.526Z"
   },
   {
    "duration": 390,
    "start_time": "2022-03-26T09:44:16.552Z"
   },
   {
    "duration": 379,
    "start_time": "2022-03-26T09:44:16.944Z"
   },
   {
    "duration": 14,
    "start_time": "2022-03-26T09:44:17.325Z"
   },
   {
    "duration": 196,
    "start_time": "2022-03-26T09:44:17.341Z"
   },
   {
    "duration": 13,
    "start_time": "2022-03-26T09:44:17.540Z"
   },
   {
    "duration": 192,
    "start_time": "2022-03-26T09:44:17.556Z"
   },
   {
    "duration": 5,
    "start_time": "2022-03-26T09:44:17.750Z"
   },
   {
    "duration": 19,
    "start_time": "2022-03-26T09:44:17.756Z"
   },
   {
    "duration": 917,
    "start_time": "2022-03-26T09:44:17.777Z"
   },
   {
    "duration": 36,
    "start_time": "2022-03-26T09:44:18.696Z"
   },
   {
    "duration": 19,
    "start_time": "2022-03-26T09:44:18.734Z"
   },
   {
    "duration": 35,
    "start_time": "2022-03-26T09:44:18.755Z"
   },
   {
    "duration": 249,
    "start_time": "2022-03-26T09:44:18.793Z"
   },
   {
    "duration": 5,
    "start_time": "2022-03-26T09:44:19.044Z"
   },
   {
    "duration": 47,
    "start_time": "2022-03-26T09:44:19.051Z"
   },
   {
    "duration": 29,
    "start_time": "2022-03-26T09:44:19.100Z"
   },
   {
    "duration": 30,
    "start_time": "2022-03-26T09:44:19.132Z"
   },
   {
    "duration": 42,
    "start_time": "2022-03-26T09:44:19.164Z"
   },
   {
    "duration": 38,
    "start_time": "2022-03-26T09:44:19.208Z"
   },
   {
    "duration": 124,
    "start_time": "2022-03-26T09:44:19.248Z"
   },
   {
    "duration": 25,
    "start_time": "2022-03-26T09:44:19.374Z"
   },
   {
    "duration": 24,
    "start_time": "2022-03-26T09:44:19.401Z"
   },
   {
    "duration": 21,
    "start_time": "2022-03-26T09:44:19.426Z"
   },
   {
    "duration": 34,
    "start_time": "2022-03-26T09:44:19.448Z"
   },
   {
    "duration": 21,
    "start_time": "2022-03-26T09:44:19.483Z"
   },
   {
    "duration": 22,
    "start_time": "2022-03-26T09:44:19.506Z"
   },
   {
    "duration": 252,
    "start_time": "2022-03-26T09:44:19.530Z"
   },
   {
    "duration": 15,
    "start_time": "2022-03-26T09:44:19.783Z"
   },
   {
    "duration": 26,
    "start_time": "2022-03-26T09:44:19.800Z"
   },
   {
    "duration": 234,
    "start_time": "2022-03-26T09:44:19.831Z"
   },
   {
    "duration": 16,
    "start_time": "2022-03-26T09:44:20.067Z"
   },
   {
    "duration": 23,
    "start_time": "2022-03-26T09:44:20.084Z"
   },
   {
    "duration": 14,
    "start_time": "2022-03-26T09:49:30.779Z"
   },
   {
    "duration": 14,
    "start_time": "2022-03-26T09:49:50.908Z"
   },
   {
    "duration": 14,
    "start_time": "2022-03-26T09:50:00.531Z"
   },
   {
    "duration": 18,
    "start_time": "2022-03-26T09:53:21.232Z"
   },
   {
    "duration": 11,
    "start_time": "2022-03-26T09:53:52.608Z"
   },
   {
    "duration": 16,
    "start_time": "2022-03-26T09:54:00.596Z"
   },
   {
    "duration": 20,
    "start_time": "2022-03-26T09:54:08.044Z"
   },
   {
    "duration": 251,
    "start_time": "2022-03-26T09:56:07.023Z"
   },
   {
    "duration": 9,
    "start_time": "2022-03-26T12:25:59.782Z"
   },
   {
    "duration": 46,
    "start_time": "2022-03-26T12:26:01.762Z"
   },
   {
    "duration": 1449,
    "start_time": "2022-03-26T12:26:09.996Z"
   },
   {
    "duration": 115,
    "start_time": "2022-03-26T12:26:11.447Z"
   },
   {
    "duration": 69,
    "start_time": "2022-03-26T12:26:11.563Z"
   },
   {
    "duration": 3,
    "start_time": "2022-03-26T12:26:11.634Z"
   },
   {
    "duration": 12,
    "start_time": "2022-03-26T12:26:11.639Z"
   },
   {
    "duration": 15,
    "start_time": "2022-03-26T12:26:11.653Z"
   },
   {
    "duration": 15,
    "start_time": "2022-03-26T12:26:11.670Z"
   },
   {
    "duration": 7,
    "start_time": "2022-03-26T12:26:11.687Z"
   },
   {
    "duration": 7,
    "start_time": "2022-03-26T12:26:11.696Z"
   },
   {
    "duration": 26,
    "start_time": "2022-03-26T12:26:11.706Z"
   },
   {
    "duration": 10,
    "start_time": "2022-03-26T12:26:11.734Z"
   },
   {
    "duration": 18,
    "start_time": "2022-03-26T12:26:11.746Z"
   },
   {
    "duration": 382,
    "start_time": "2022-03-26T12:26:11.766Z"
   },
   {
    "duration": 455,
    "start_time": "2022-03-26T12:26:12.149Z"
   },
   {
    "duration": 551,
    "start_time": "2022-03-26T12:26:12.606Z"
   },
   {
    "duration": 21,
    "start_time": "2022-03-26T12:26:13.158Z"
   },
   {
    "duration": 6,
    "start_time": "2022-03-26T12:26:13.180Z"
   },
   {
    "duration": 14,
    "start_time": "2022-03-26T12:26:13.187Z"
   },
   {
    "duration": 346,
    "start_time": "2022-03-26T12:26:13.203Z"
   },
   {
    "duration": 17,
    "start_time": "2022-03-26T12:26:13.551Z"
   },
   {
    "duration": 5,
    "start_time": "2022-03-26T12:26:13.570Z"
   },
   {
    "duration": 22,
    "start_time": "2022-03-26T12:26:13.577Z"
   },
   {
    "duration": 44,
    "start_time": "2022-03-26T12:26:13.601Z"
   },
   {
    "duration": 4,
    "start_time": "2022-03-26T12:26:13.647Z"
   },
   {
    "duration": 109,
    "start_time": "2022-03-26T12:26:13.653Z"
   },
   {
    "duration": 303,
    "start_time": "2022-03-26T12:26:13.764Z"
   },
   {
    "duration": 18,
    "start_time": "2022-03-26T12:26:14.069Z"
   },
   {
    "duration": 335,
    "start_time": "2022-03-26T12:26:14.091Z"
   },
   {
    "duration": 333,
    "start_time": "2022-03-26T12:26:14.431Z"
   },
   {
    "duration": 9,
    "start_time": "2022-03-26T12:26:14.766Z"
   },
   {
    "duration": 174,
    "start_time": "2022-03-26T12:26:14.777Z"
   },
   {
    "duration": 5,
    "start_time": "2022-03-26T12:26:14.954Z"
   },
   {
    "duration": 189,
    "start_time": "2022-03-26T12:26:14.960Z"
   },
   {
    "duration": 4,
    "start_time": "2022-03-26T12:26:15.151Z"
   },
   {
    "duration": 10,
    "start_time": "2022-03-26T12:26:15.157Z"
   },
   {
    "duration": 903,
    "start_time": "2022-03-26T12:26:15.169Z"
   },
   {
    "duration": 19,
    "start_time": "2022-03-26T12:26:16.074Z"
   },
   {
    "duration": 14,
    "start_time": "2022-03-26T12:26:16.095Z"
   },
   {
    "duration": 39,
    "start_time": "2022-03-26T12:26:16.111Z"
   },
   {
    "duration": 256,
    "start_time": "2022-03-26T12:26:16.151Z"
   },
   {
    "duration": 30,
    "start_time": "2022-03-26T12:26:16.409Z"
   },
   {
    "duration": 22,
    "start_time": "2022-03-26T12:26:16.440Z"
   },
   {
    "duration": 316,
    "start_time": "2022-03-26T12:26:16.463Z"
   },
   {
    "duration": 3,
    "start_time": "2022-03-26T12:26:16.781Z"
   },
   {
    "duration": 2306,
    "start_time": "2022-03-26T12:26:16.786Z"
   },
   {
    "duration": 0,
    "start_time": "2022-03-26T12:26:19.094Z"
   },
   {
    "duration": 0,
    "start_time": "2022-03-26T12:26:19.096Z"
   },
   {
    "duration": 0,
    "start_time": "2022-03-26T12:26:19.097Z"
   },
   {
    "duration": 0,
    "start_time": "2022-03-26T12:26:19.098Z"
   },
   {
    "duration": 0,
    "start_time": "2022-03-26T12:26:19.100Z"
   },
   {
    "duration": 0,
    "start_time": "2022-03-26T12:26:19.101Z"
   },
   {
    "duration": 0,
    "start_time": "2022-03-26T12:26:19.101Z"
   },
   {
    "duration": 0,
    "start_time": "2022-03-26T12:26:19.103Z"
   },
   {
    "duration": 0,
    "start_time": "2022-03-26T12:26:19.103Z"
   },
   {
    "duration": 0,
    "start_time": "2022-03-26T12:26:19.104Z"
   },
   {
    "duration": 0,
    "start_time": "2022-03-26T12:26:19.106Z"
   },
   {
    "duration": 0,
    "start_time": "2022-03-26T12:26:19.107Z"
   },
   {
    "duration": 0,
    "start_time": "2022-03-26T12:26:19.108Z"
   },
   {
    "duration": 0,
    "start_time": "2022-03-26T12:26:19.109Z"
   },
   {
    "duration": 0,
    "start_time": "2022-03-26T12:26:19.110Z"
   },
   {
    "duration": 0,
    "start_time": "2022-03-26T12:26:19.112Z"
   },
   {
    "duration": 0,
    "start_time": "2022-03-26T12:26:19.113Z"
   },
   {
    "duration": 14,
    "start_time": "2022-03-26T12:26:59.456Z"
   },
   {
    "duration": 3,
    "start_time": "2022-03-26T12:28:48.415Z"
   },
   {
    "duration": 14,
    "start_time": "2022-03-26T12:28:48.521Z"
   },
   {
    "duration": 16,
    "start_time": "2022-03-26T12:28:51.250Z"
   },
   {
    "duration": 16,
    "start_time": "2022-03-26T12:28:52.072Z"
   },
   {
    "duration": 10,
    "start_time": "2022-03-26T12:34:06.472Z"
   },
   {
    "duration": 11,
    "start_time": "2022-03-26T12:34:29.709Z"
   },
   {
    "duration": 16,
    "start_time": "2022-03-26T12:34:48.760Z"
   },
   {
    "duration": 10,
    "start_time": "2022-03-26T12:34:58.415Z"
   },
   {
    "duration": 14,
    "start_time": "2022-03-26T12:35:10.289Z"
   },
   {
    "duration": 4,
    "start_time": "2022-03-26T12:38:21.540Z"
   },
   {
    "duration": 20,
    "start_time": "2022-03-26T12:38:25.719Z"
   },
   {
    "duration": 4,
    "start_time": "2022-03-26T12:39:11.949Z"
   },
   {
    "duration": 16,
    "start_time": "2022-03-26T12:39:13.106Z"
   },
   {
    "duration": 19,
    "start_time": "2022-03-26T12:39:13.376Z"
   },
   {
    "duration": 4,
    "start_time": "2022-03-26T12:41:44.766Z"
   },
   {
    "duration": 15,
    "start_time": "2022-03-26T12:41:45.655Z"
   },
   {
    "duration": 26,
    "start_time": "2022-03-26T12:41:45.862Z"
   },
   {
    "duration": 4,
    "start_time": "2022-03-26T12:42:02.666Z"
   },
   {
    "duration": 15,
    "start_time": "2022-03-26T12:42:02.884Z"
   },
   {
    "duration": 16,
    "start_time": "2022-03-26T12:42:03.317Z"
   },
   {
    "duration": 16,
    "start_time": "2022-03-26T12:42:14.908Z"
   },
   {
    "duration": 16,
    "start_time": "2022-03-26T12:42:17.833Z"
   },
   {
    "duration": 4,
    "start_time": "2022-03-26T12:52:18.026Z"
   },
   {
    "duration": 23,
    "start_time": "2022-03-26T12:52:18.376Z"
   },
   {
    "duration": 17,
    "start_time": "2022-03-26T12:52:18.598Z"
   },
   {
    "duration": 18,
    "start_time": "2022-03-26T12:52:18.919Z"
   },
   {
    "duration": 4,
    "start_time": "2022-03-26T12:53:48.557Z"
   },
   {
    "duration": 2406,
    "start_time": "2022-03-26T12:53:48.825Z"
   },
   {
    "duration": 0,
    "start_time": "2022-03-26T12:53:51.233Z"
   },
   {
    "duration": 0,
    "start_time": "2022-03-26T12:53:51.235Z"
   },
   {
    "duration": 4,
    "start_time": "2022-03-26T12:53:55.797Z"
   },
   {
    "duration": 17,
    "start_time": "2022-03-26T12:53:55.986Z"
   },
   {
    "duration": 16,
    "start_time": "2022-03-26T12:53:56.092Z"
   },
   {
    "duration": 22,
    "start_time": "2022-03-26T12:53:57.287Z"
   },
   {
    "duration": 21,
    "start_time": "2022-03-26T12:58:29.467Z"
   },
   {
    "duration": 21,
    "start_time": "2022-03-26T12:58:29.772Z"
   },
   {
    "duration": 23,
    "start_time": "2022-03-26T12:58:29.944Z"
   },
   {
    "duration": 6,
    "start_time": "2022-03-26T13:05:23.370Z"
   },
   {
    "duration": 21,
    "start_time": "2022-03-26T13:05:24.227Z"
   },
   {
    "duration": 3,
    "start_time": "2022-03-26T13:05:24.882Z"
   },
   {
    "duration": 14,
    "start_time": "2022-03-26T13:05:25.215Z"
   },
   {
    "duration": 13,
    "start_time": "2022-03-26T13:05:25.529Z"
   },
   {
    "duration": 13,
    "start_time": "2022-03-26T13:05:25.714Z"
   },
   {
    "duration": 234,
    "start_time": "2022-03-26T13:09:35.790Z"
   },
   {
    "duration": 15,
    "start_time": "2022-03-26T13:09:36.299Z"
   },
   {
    "duration": 11,
    "start_time": "2022-03-26T13:09:36.938Z"
   },
   {
    "duration": 245,
    "start_time": "2022-03-26T13:09:37.958Z"
   },
   {
    "duration": 30,
    "start_time": "2022-03-26T13:09:38.205Z"
   },
   {
    "duration": 13,
    "start_time": "2022-03-26T13:09:38.237Z"
   },
   {
    "duration": 6,
    "start_time": "2022-03-26T13:53:32.243Z"
   },
   {
    "duration": 5,
    "start_time": "2022-03-26T13:54:02.145Z"
   },
   {
    "duration": 33,
    "start_time": "2022-03-26T13:54:06.101Z"
   },
   {
    "duration": 34,
    "start_time": "2022-03-26T13:54:41.379Z"
   },
   {
    "duration": 9,
    "start_time": "2022-03-26T13:55:11.846Z"
   },
   {
    "duration": 10,
    "start_time": "2022-03-26T13:55:14.337Z"
   },
   {
    "duration": 9,
    "start_time": "2022-03-26T13:55:23.812Z"
   },
   {
    "duration": 9,
    "start_time": "2022-03-26T13:56:04.705Z"
   },
   {
    "duration": 4,
    "start_time": "2022-03-26T13:56:25.249Z"
   },
   {
    "duration": 11,
    "start_time": "2022-03-26T13:56:37.572Z"
   },
   {
    "duration": 9,
    "start_time": "2022-03-26T13:56:40.989Z"
   },
   {
    "duration": 6,
    "start_time": "2022-03-26T13:57:05.078Z"
   },
   {
    "duration": 5,
    "start_time": "2022-03-26T13:57:16.920Z"
   },
   {
    "duration": 9,
    "start_time": "2022-03-26T13:57:27.816Z"
   },
   {
    "duration": 9,
    "start_time": "2022-03-26T13:58:55.589Z"
   },
   {
    "duration": 150,
    "start_time": "2022-03-26T13:59:55.444Z"
   },
   {
    "duration": 325,
    "start_time": "2022-03-26T14:00:00.155Z"
   },
   {
    "duration": 11,
    "start_time": "2022-03-26T14:00:27.623Z"
   },
   {
    "duration": 19,
    "start_time": "2022-03-26T14:00:37.574Z"
   },
   {
    "duration": 4,
    "start_time": "2022-03-26T14:05:44.885Z"
   },
   {
    "duration": 7,
    "start_time": "2022-03-26T14:05:51.084Z"
   },
   {
    "duration": 26,
    "start_time": "2022-03-26T14:06:20.035Z"
   },
   {
    "duration": 5,
    "start_time": "2022-03-26T14:06:31.901Z"
   },
   {
    "duration": 22,
    "start_time": "2022-03-26T14:06:47.708Z"
   },
   {
    "duration": 4,
    "start_time": "2022-03-26T14:06:55.562Z"
   },
   {
    "duration": 18,
    "start_time": "2022-03-26T14:06:56.339Z"
   },
   {
    "duration": 18,
    "start_time": "2022-03-26T14:06:59.218Z"
   },
   {
    "duration": 19,
    "start_time": "2022-03-26T14:07:02.410Z"
   },
   {
    "duration": 4,
    "start_time": "2022-03-26T14:08:10.851Z"
   },
   {
    "duration": 19,
    "start_time": "2022-03-26T14:08:11.931Z"
   },
   {
    "duration": 18,
    "start_time": "2022-03-26T14:08:14.053Z"
   },
   {
    "duration": 17,
    "start_time": "2022-03-26T14:08:14.600Z"
   },
   {
    "duration": 26,
    "start_time": "2022-03-26T14:08:59.947Z"
   },
   {
    "duration": 6,
    "start_time": "2022-03-26T14:09:23.129Z"
   },
   {
    "duration": 5,
    "start_time": "2022-03-26T14:09:23.319Z"
   },
   {
    "duration": 5,
    "start_time": "2022-03-26T14:09:30.198Z"
   },
   {
    "duration": 5,
    "start_time": "2022-03-26T14:10:01.486Z"
   },
   {
    "duration": 5,
    "start_time": "2022-03-26T14:10:01.703Z"
   },
   {
    "duration": 5,
    "start_time": "2022-03-26T14:10:04.554Z"
   },
   {
    "duration": 17,
    "start_time": "2022-03-26T14:10:04.561Z"
   },
   {
    "duration": 1250,
    "start_time": "2022-03-26T14:10:13.309Z"
   },
   {
    "duration": 122,
    "start_time": "2022-03-26T14:10:14.561Z"
   },
   {
    "duration": 55,
    "start_time": "2022-03-26T14:10:14.685Z"
   },
   {
    "duration": 3,
    "start_time": "2022-03-26T14:10:14.743Z"
   },
   {
    "duration": 13,
    "start_time": "2022-03-26T14:10:14.747Z"
   },
   {
    "duration": 16,
    "start_time": "2022-03-26T14:10:14.762Z"
   },
   {
    "duration": 13,
    "start_time": "2022-03-26T14:10:14.780Z"
   },
   {
    "duration": 9,
    "start_time": "2022-03-26T14:10:14.795Z"
   },
   {
    "duration": 27,
    "start_time": "2022-03-26T14:10:14.806Z"
   },
   {
    "duration": 9,
    "start_time": "2022-03-26T14:10:14.837Z"
   },
   {
    "duration": 6,
    "start_time": "2022-03-26T14:10:14.848Z"
   },
   {
    "duration": 17,
    "start_time": "2022-03-26T14:10:14.856Z"
   },
   {
    "duration": 422,
    "start_time": "2022-03-26T14:10:14.875Z"
   },
   {
    "duration": 469,
    "start_time": "2022-03-26T14:10:15.299Z"
   },
   {
    "duration": 579,
    "start_time": "2022-03-26T14:10:15.770Z"
   },
   {
    "duration": 23,
    "start_time": "2022-03-26T14:10:16.351Z"
   },
   {
    "duration": 6,
    "start_time": "2022-03-26T14:10:16.376Z"
   },
   {
    "duration": 13,
    "start_time": "2022-03-26T14:10:16.384Z"
   },
   {
    "duration": 368,
    "start_time": "2022-03-26T14:10:16.399Z"
   },
   {
    "duration": 17,
    "start_time": "2022-03-26T14:10:16.769Z"
   },
   {
    "duration": 4,
    "start_time": "2022-03-26T14:10:16.788Z"
   },
   {
    "duration": 46,
    "start_time": "2022-03-26T14:10:16.794Z"
   },
   {
    "duration": 102,
    "start_time": "2022-03-26T14:10:16.842Z"
   },
   {
    "duration": 4,
    "start_time": "2022-03-26T14:10:16.946Z"
   },
   {
    "duration": 24,
    "start_time": "2022-03-26T14:10:16.952Z"
   },
   {
    "duration": 325,
    "start_time": "2022-03-26T14:10:16.978Z"
   },
   {
    "duration": 33,
    "start_time": "2022-03-26T14:10:17.305Z"
   },
   {
    "duration": 338,
    "start_time": "2022-03-26T14:10:17.342Z"
   },
   {
    "duration": 346,
    "start_time": "2022-03-26T14:10:17.682Z"
   },
   {
    "duration": 10,
    "start_time": "2022-03-26T14:10:18.031Z"
   },
   {
    "duration": 197,
    "start_time": "2022-03-26T14:10:18.042Z"
   },
   {
    "duration": 5,
    "start_time": "2022-03-26T14:10:18.240Z"
   },
   {
    "duration": 186,
    "start_time": "2022-03-26T14:10:18.247Z"
   },
   {
    "duration": 5,
    "start_time": "2022-03-26T14:10:18.434Z"
   },
   {
    "duration": 13,
    "start_time": "2022-03-26T14:10:18.441Z"
   },
   {
    "duration": 909,
    "start_time": "2022-03-26T14:10:18.456Z"
   },
   {
    "duration": 20,
    "start_time": "2022-03-26T14:10:19.367Z"
   },
   {
    "duration": 14,
    "start_time": "2022-03-26T14:10:19.388Z"
   },
   {
    "duration": 19,
    "start_time": "2022-03-26T14:10:19.431Z"
   },
   {
    "duration": 248,
    "start_time": "2022-03-26T14:10:19.452Z"
   },
   {
    "duration": 14,
    "start_time": "2022-03-26T14:10:19.702Z"
   },
   {
    "duration": 19,
    "start_time": "2022-03-26T14:10:19.731Z"
   },
   {
    "duration": 321,
    "start_time": "2022-03-26T14:10:19.752Z"
   },
   {
    "duration": 4,
    "start_time": "2022-03-26T14:10:20.075Z"
   },
   {
    "duration": 23,
    "start_time": "2022-03-26T14:10:20.081Z"
   },
   {
    "duration": 41,
    "start_time": "2022-03-26T14:10:20.106Z"
   },
   {
    "duration": 16,
    "start_time": "2022-03-26T14:10:20.149Z"
   },
   {
    "duration": 20,
    "start_time": "2022-03-26T14:10:20.167Z"
   },
   {
    "duration": 45,
    "start_time": "2022-03-26T14:10:20.189Z"
   },
   {
    "duration": 25,
    "start_time": "2022-03-26T14:10:20.236Z"
   },
   {
    "duration": 7,
    "start_time": "2022-03-26T14:10:20.263Z"
   },
   {
    "duration": 120,
    "start_time": "2022-03-26T14:10:20.272Z"
   },
   {
    "duration": 0,
    "start_time": "2022-03-26T14:10:20.393Z"
   },
   {
    "duration": 0,
    "start_time": "2022-03-26T14:10:20.395Z"
   },
   {
    "duration": 0,
    "start_time": "2022-03-26T14:10:20.396Z"
   },
   {
    "duration": 0,
    "start_time": "2022-03-26T14:10:20.397Z"
   },
   {
    "duration": 0,
    "start_time": "2022-03-26T14:10:20.398Z"
   },
   {
    "duration": 0,
    "start_time": "2022-03-26T14:10:20.399Z"
   },
   {
    "duration": 0,
    "start_time": "2022-03-26T14:10:20.400Z"
   },
   {
    "duration": 0,
    "start_time": "2022-03-26T14:10:20.401Z"
   },
   {
    "duration": 0,
    "start_time": "2022-03-26T14:10:20.402Z"
   },
   {
    "duration": 0,
    "start_time": "2022-03-26T14:10:20.403Z"
   },
   {
    "duration": 0,
    "start_time": "2022-03-26T14:10:20.404Z"
   },
   {
    "duration": 6,
    "start_time": "2022-03-26T14:10:43.056Z"
   },
   {
    "duration": 22,
    "start_time": "2022-03-26T14:10:44.486Z"
   },
   {
    "duration": 4,
    "start_time": "2022-03-26T14:10:44.687Z"
   },
   {
    "duration": 14,
    "start_time": "2022-03-26T14:10:45.312Z"
   },
   {
    "duration": 15,
    "start_time": "2022-03-26T14:10:45.476Z"
   },
   {
    "duration": 14,
    "start_time": "2022-03-26T14:10:46.213Z"
   },
   {
    "duration": 3,
    "start_time": "2022-03-26T14:34:13.276Z"
   },
   {
    "duration": 3,
    "start_time": "2022-03-26T14:34:22.437Z"
   },
   {
    "duration": 3,
    "start_time": "2022-03-26T14:34:23.066Z"
   },
   {
    "duration": 22,
    "start_time": "2022-03-26T14:34:24.665Z"
   },
   {
    "duration": 17,
    "start_time": "2022-03-26T14:38:12.660Z"
   },
   {
    "duration": 11,
    "start_time": "2022-03-26T14:38:21.052Z"
   },
   {
    "duration": 14,
    "start_time": "2022-03-26T14:38:28.314Z"
   },
   {
    "duration": 14,
    "start_time": "2022-03-26T14:38:43.945Z"
   },
   {
    "duration": 13,
    "start_time": "2022-03-26T14:40:03.258Z"
   },
   {
    "duration": 13,
    "start_time": "2022-03-26T14:40:29.928Z"
   },
   {
    "duration": 14,
    "start_time": "2022-03-26T14:40:34.508Z"
   },
   {
    "duration": 12,
    "start_time": "2022-03-26T14:42:21.001Z"
   },
   {
    "duration": 21,
    "start_time": "2022-03-26T14:43:17.973Z"
   },
   {
    "duration": 19,
    "start_time": "2022-03-26T14:43:32.650Z"
   },
   {
    "duration": 31,
    "start_time": "2022-03-26T14:43:43.696Z"
   },
   {
    "duration": 10,
    "start_time": "2022-03-26T14:43:57.532Z"
   },
   {
    "duration": 21,
    "start_time": "2022-03-26T14:44:02.543Z"
   },
   {
    "duration": 10,
    "start_time": "2022-03-26T14:44:03.723Z"
   },
   {
    "duration": 10,
    "start_time": "2022-03-26T14:44:12.338Z"
   },
   {
    "duration": 30,
    "start_time": "2022-03-26T14:44:21.800Z"
   },
   {
    "duration": 10,
    "start_time": "2022-03-26T14:44:43.673Z"
   },
   {
    "duration": 6,
    "start_time": "2022-03-26T14:45:09.093Z"
   },
   {
    "duration": 9,
    "start_time": "2022-03-26T14:45:16.339Z"
   },
   {
    "duration": 31,
    "start_time": "2022-03-26T14:45:19.844Z"
   },
   {
    "duration": 30,
    "start_time": "2022-03-26T14:46:21.880Z"
   },
   {
    "duration": 29,
    "start_time": "2022-03-26T14:46:30.205Z"
   },
   {
    "duration": 30,
    "start_time": "2022-03-26T14:46:33.057Z"
   },
   {
    "duration": 10,
    "start_time": "2022-03-26T14:46:36.882Z"
   },
   {
    "duration": 10,
    "start_time": "2022-03-26T14:46:54.843Z"
   },
   {
    "duration": 10,
    "start_time": "2022-03-26T14:46:58.476Z"
   },
   {
    "duration": 31,
    "start_time": "2022-03-26T14:47:02.511Z"
   },
   {
    "duration": 30,
    "start_time": "2022-03-26T14:47:08.424Z"
   },
   {
    "duration": 6,
    "start_time": "2022-03-26T14:47:47.053Z"
   },
   {
    "duration": 5,
    "start_time": "2022-03-26T14:47:54.568Z"
   },
   {
    "duration": 28,
    "start_time": "2022-03-26T14:48:06.120Z"
   },
   {
    "duration": 32,
    "start_time": "2022-03-26T14:49:49.021Z"
   },
   {
    "duration": 30,
    "start_time": "2022-03-26T14:50:05.100Z"
   },
   {
    "duration": 30,
    "start_time": "2022-03-26T14:50:16.782Z"
   },
   {
    "duration": 6,
    "start_time": "2022-03-26T14:51:26.012Z"
   },
   {
    "duration": 5,
    "start_time": "2022-03-26T14:51:50.459Z"
   },
   {
    "duration": 5,
    "start_time": "2022-03-26T14:51:51.508Z"
   },
   {
    "duration": 3,
    "start_time": "2022-03-26T14:51:53.172Z"
   },
   {
    "duration": 16,
    "start_time": "2022-03-26T14:51:53.795Z"
   },
   {
    "duration": 16,
    "start_time": "2022-03-26T14:51:55.037Z"
   },
   {
    "duration": 13,
    "start_time": "2022-03-26T14:51:55.251Z"
   },
   {
    "duration": 10,
    "start_time": "2022-03-26T14:52:40.257Z"
   },
   {
    "duration": 16,
    "start_time": "2022-03-26T14:52:45.867Z"
   },
   {
    "duration": 8,
    "start_time": "2022-03-26T14:53:29.799Z"
   },
   {
    "duration": 4,
    "start_time": "2022-03-26T14:53:36.433Z"
   },
   {
    "duration": 4,
    "start_time": "2022-03-26T14:53:53.948Z"
   },
   {
    "duration": 135,
    "start_time": "2022-03-26T14:54:14.500Z"
   },
   {
    "duration": 140,
    "start_time": "2022-03-26T14:54:23.184Z"
   },
   {
    "duration": 10,
    "start_time": "2022-03-26T14:54:31.285Z"
   },
   {
    "duration": 5,
    "start_time": "2022-03-26T14:55:59.784Z"
   },
   {
    "duration": 7,
    "start_time": "2022-03-26T14:56:33.514Z"
   },
   {
    "duration": 9,
    "start_time": "2022-03-26T15:14:41.130Z"
   },
   {
    "duration": 7,
    "start_time": "2022-03-26T15:14:45.521Z"
   },
   {
    "duration": 11,
    "start_time": "2022-03-26T15:15:02.964Z"
   },
   {
    "duration": 4,
    "start_time": "2022-03-26T15:15:14.154Z"
   },
   {
    "duration": 5,
    "start_time": "2022-03-26T15:15:22.648Z"
   },
   {
    "duration": 3,
    "start_time": "2022-03-26T15:15:24.552Z"
   },
   {
    "duration": 14,
    "start_time": "2022-03-26T15:15:24.907Z"
   },
   {
    "duration": 14,
    "start_time": "2022-03-26T15:15:26.004Z"
   },
   {
    "duration": 15,
    "start_time": "2022-03-26T15:15:26.780Z"
   },
   {
    "duration": 4,
    "start_time": "2022-03-26T15:15:43.829Z"
   },
   {
    "duration": 12,
    "start_time": "2022-03-26T15:15:44.583Z"
   },
   {
    "duration": 6,
    "start_time": "2022-03-26T15:15:45.082Z"
   },
   {
    "duration": 5,
    "start_time": "2022-03-26T15:15:45.722Z"
   },
   {
    "duration": 4,
    "start_time": "2022-03-26T15:15:46.057Z"
   },
   {
    "duration": 14,
    "start_time": "2022-03-26T15:15:47.714Z"
   },
   {
    "duration": 14,
    "start_time": "2022-03-26T15:15:49.308Z"
   },
   {
    "duration": 16,
    "start_time": "2022-03-26T15:15:50.437Z"
   },
   {
    "duration": 4,
    "start_time": "2022-03-26T15:16:36.214Z"
   },
   {
    "duration": 20,
    "start_time": "2022-03-26T15:16:40.616Z"
   },
   {
    "duration": 4,
    "start_time": "2022-03-26T15:17:12.444Z"
   },
   {
    "duration": 3,
    "start_time": "2022-03-26T15:18:09.864Z"
   },
   {
    "duration": 22,
    "start_time": "2022-03-26T15:18:11.649Z"
   },
   {
    "duration": 4,
    "start_time": "2022-03-26T15:19:23.137Z"
   },
   {
    "duration": 3,
    "start_time": "2022-03-26T15:19:24.896Z"
   },
   {
    "duration": 11,
    "start_time": "2022-03-26T15:19:30.940Z"
   },
   {
    "duration": 14,
    "start_time": "2022-03-26T15:19:37.369Z"
   },
   {
    "duration": 5,
    "start_time": "2022-03-26T15:20:31.839Z"
   },
   {
    "duration": 4,
    "start_time": "2022-03-26T15:20:38.733Z"
   },
   {
    "duration": 15,
    "start_time": "2022-03-26T15:20:39.023Z"
   },
   {
    "duration": 14,
    "start_time": "2022-03-26T15:20:39.535Z"
   },
   {
    "duration": 15,
    "start_time": "2022-03-26T15:20:40.876Z"
   },
   {
    "duration": 4,
    "start_time": "2022-03-26T15:26:23.689Z"
   },
   {
    "duration": 16,
    "start_time": "2022-03-26T15:26:24.435Z"
   },
   {
    "duration": 23,
    "start_time": "2022-03-26T15:26:29.473Z"
   },
   {
    "duration": 23,
    "start_time": "2022-03-26T15:26:30.074Z"
   },
   {
    "duration": 1377,
    "start_time": "2022-03-26T15:35:20.327Z"
   },
   {
    "duration": 146,
    "start_time": "2022-03-26T15:35:21.707Z"
   },
   {
    "duration": 59,
    "start_time": "2022-03-26T15:35:21.855Z"
   },
   {
    "duration": 5,
    "start_time": "2022-03-26T15:35:21.933Z"
   },
   {
    "duration": 21,
    "start_time": "2022-03-26T15:35:21.941Z"
   },
   {
    "duration": 16,
    "start_time": "2022-03-26T15:35:21.964Z"
   },
   {
    "duration": 12,
    "start_time": "2022-03-26T15:35:21.982Z"
   },
   {
    "duration": 37,
    "start_time": "2022-03-26T15:35:21.996Z"
   },
   {
    "duration": 6,
    "start_time": "2022-03-26T15:35:22.035Z"
   },
   {
    "duration": 14,
    "start_time": "2022-03-26T15:35:22.042Z"
   },
   {
    "duration": 10,
    "start_time": "2022-03-26T15:35:22.058Z"
   },
   {
    "duration": 24,
    "start_time": "2022-03-26T15:35:22.069Z"
   },
   {
    "duration": 417,
    "start_time": "2022-03-26T15:35:22.095Z"
   },
   {
    "duration": 532,
    "start_time": "2022-03-26T15:35:22.517Z"
   },
   {
    "duration": 604,
    "start_time": "2022-03-26T15:35:23.051Z"
   },
   {
    "duration": 21,
    "start_time": "2022-03-26T15:35:23.657Z"
   },
   {
    "duration": 6,
    "start_time": "2022-03-26T15:35:23.680Z"
   },
   {
    "duration": 13,
    "start_time": "2022-03-26T15:35:23.687Z"
   },
   {
    "duration": 367,
    "start_time": "2022-03-26T15:35:23.702Z"
   },
   {
    "duration": 25,
    "start_time": "2022-03-26T15:35:24.071Z"
   },
   {
    "duration": 5,
    "start_time": "2022-03-26T15:35:24.097Z"
   },
   {
    "duration": 52,
    "start_time": "2022-03-26T15:35:24.105Z"
   },
   {
    "duration": 111,
    "start_time": "2022-03-26T15:35:24.160Z"
   },
   {
    "duration": 7,
    "start_time": "2022-03-26T15:35:24.273Z"
   },
   {
    "duration": 25,
    "start_time": "2022-03-26T15:35:24.282Z"
   },
   {
    "duration": 345,
    "start_time": "2022-03-26T15:35:24.309Z"
   },
   {
    "duration": 25,
    "start_time": "2022-03-26T15:35:24.656Z"
   },
   {
    "duration": 350,
    "start_time": "2022-03-26T15:35:24.683Z"
   },
   {
    "duration": 357,
    "start_time": "2022-03-26T15:35:25.036Z"
   },
   {
    "duration": 10,
    "start_time": "2022-03-26T15:35:25.395Z"
   },
   {
    "duration": 196,
    "start_time": "2022-03-26T15:35:25.406Z"
   },
   {
    "duration": 5,
    "start_time": "2022-03-26T15:35:25.604Z"
   },
   {
    "duration": 195,
    "start_time": "2022-03-26T15:35:25.611Z"
   },
   {
    "duration": 5,
    "start_time": "2022-03-26T15:35:25.808Z"
   },
   {
    "duration": 20,
    "start_time": "2022-03-26T15:35:25.815Z"
   },
   {
    "duration": 962,
    "start_time": "2022-03-26T15:35:25.837Z"
   },
   {
    "duration": 35,
    "start_time": "2022-03-26T15:35:26.801Z"
   },
   {
    "duration": 18,
    "start_time": "2022-03-26T15:35:26.838Z"
   },
   {
    "duration": 21,
    "start_time": "2022-03-26T15:35:26.857Z"
   },
   {
    "duration": 274,
    "start_time": "2022-03-26T15:35:26.880Z"
   },
   {
    "duration": 15,
    "start_time": "2022-03-26T15:35:27.158Z"
   },
   {
    "duration": 22,
    "start_time": "2022-03-26T15:35:27.175Z"
   },
   {
    "duration": 341,
    "start_time": "2022-03-26T15:35:27.198Z"
   },
   {
    "duration": 6,
    "start_time": "2022-03-26T15:35:27.541Z"
   },
   {
    "duration": 19,
    "start_time": "2022-03-26T15:35:27.549Z"
   },
   {
    "duration": 17,
    "start_time": "2022-03-26T15:35:27.570Z"
   },
   {
    "duration": 48,
    "start_time": "2022-03-26T15:35:27.589Z"
   },
   {
    "duration": 21,
    "start_time": "2022-03-26T15:35:27.639Z"
   },
   {
    "duration": 18,
    "start_time": "2022-03-26T15:35:27.661Z"
   },
   {
    "duration": 17,
    "start_time": "2022-03-26T15:35:27.680Z"
   },
   {
    "duration": 37,
    "start_time": "2022-03-26T15:35:27.698Z"
   },
   {
    "duration": 6,
    "start_time": "2022-03-26T15:35:27.737Z"
   },
   {
    "duration": 25,
    "start_time": "2022-03-26T15:35:27.744Z"
   },
   {
    "duration": 4,
    "start_time": "2022-03-26T15:35:27.770Z"
   },
   {
    "duration": 10,
    "start_time": "2022-03-26T15:35:27.776Z"
   },
   {
    "duration": 45,
    "start_time": "2022-03-26T15:35:27.788Z"
   },
   {
    "duration": 17,
    "start_time": "2022-03-26T15:35:27.834Z"
   },
   {
    "duration": 18,
    "start_time": "2022-03-26T15:35:27.853Z"
   },
   {
    "duration": 301,
    "start_time": "2022-03-26T15:35:27.873Z"
   },
   {
    "duration": 17,
    "start_time": "2022-03-26T15:35:28.176Z"
   },
   {
    "duration": 27,
    "start_time": "2022-03-26T15:35:28.195Z"
   },
   {
    "duration": 243,
    "start_time": "2022-03-26T15:35:28.232Z"
   },
   {
    "duration": 17,
    "start_time": "2022-03-26T15:35:28.477Z"
   },
   {
    "duration": 22,
    "start_time": "2022-03-26T15:35:28.496Z"
   }
  ],
  "kernelspec": {
   "display_name": "Python 3",
   "language": "python",
   "name": "python3"
  },
  "language_info": {
   "codemirror_mode": {
    "name": "ipython",
    "version": 3
   },
   "file_extension": ".py",
   "mimetype": "text/x-python",
   "name": "python",
   "nbconvert_exporter": "python",
   "pygments_lexer": "ipython3",
   "version": "3.8.5"
  },
  "toc": {
   "base_numbering": 1,
   "nav_menu": {},
   "number_sections": true,
   "sideBar": true,
   "skip_h1_title": true,
   "title_cell": "Table of Contents",
   "title_sidebar": "Contents",
   "toc_cell": false,
   "toc_position": {
    "height": "calc(100% - 180px)",
    "left": "10px",
    "top": "150px",
    "width": "366.391px"
   },
   "toc_section_display": true,
   "toc_window_display": true
  }
 },
 "nbformat": 4,
 "nbformat_minor": 2
}
