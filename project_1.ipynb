{
 "cells": [
  {
   "cell_type": "markdown",
   "metadata": {
    "id": "E0vqbgi9ay0H"
   },
   "source": [
    "# Яндекс.Музыка"
   ]
  },
  {
   "cell_type": "markdown",
   "metadata": {
    "id": "VUC88oWjTJw2"
   },
   "source": [
    "Сравнение Москвы и Петербурга окружено мифами. Например:\n",
    " * Москва — мегаполис, подчинённый жёсткому ритму рабочей недели;\n",
    " * Петербург — культурная столица, со своими вкусами.\n",
    "\n",
    "На данных Яндекс.Музыки вы сравните поведение пользователей двух столиц.\n",
    "\n",
    "**Цель исследования** — проверьте три гипотезы:\n",
    "1. Активность пользователей зависит от дня недели. Причём в Москве и Петербурге это проявляется по-разному.\n",
    "2. В понедельник утром в Москве преобладают одни жанры, а в Петербурге — другие. Так же и вечером пятницы преобладают разные жанры — в зависимости от города. \n",
    "3. Москва и Петербург предпочитают разные жанры музыки. В Москве чаще слушают поп-музыку, в Петербурге — русский рэп.\n",
    "\n",
    "**Ход исследования**\n",
    "\n",
    "Данные о поведении пользователей вы получите из файла `yandex_music_project.csv`. О качестве данных ничего не известно. Поэтому перед проверкой гипотез понадобится обзор данных. \n",
    "\n",
    "Вы проверите данные на ошибки и оцените их влияние на исследование. Затем, на этапе предобработки вы поищете возможность исправить самые критичные ошибки данных.\n",
    " \n",
    "Таким образом, исследование пройдёт в три этапа:\n",
    " 1. Обзор данных.\n",
    " 2. Предобработка данных.\n",
    " 3. Проверка гипотез.\n",
    "\n"
   ]
  },
  {
   "cell_type": "markdown",
   "metadata": {
    "id": "Ml1hmfXC_Zcs"
   },
   "source": [
    "## Обзор данных\n",
    "\n",
    "Составьте первое представление о данных Яндекс.Музыки.\n",
    "\n",
    "\n"
   ]
  },
  {
   "cell_type": "markdown",
   "metadata": {
    "id": "57eAOGIz_Zcs"
   },
   "source": [
    "Основной инструмент аналитика — `pandas`. Импортируйте эту библиотеку."
   ]
  },
  {
   "cell_type": "code",
   "execution_count": 131,
   "metadata": {
    "id": "AXN7PHPN_Zcs"
   },
   "outputs": [],
   "source": [
    "# импорт библиотеки pandas\n",
    "import pandas as pd"
   ]
  },
  {
   "cell_type": "markdown",
   "metadata": {
    "id": "SG23P8tt_Zcs"
   },
   "source": [
    "Прочитайте файл `yandex_music_project.csv` из папки `/datasets` и сохраните его в переменной `df`:"
   ]
  },
  {
   "cell_type": "code",
   "execution_count": 132,
   "metadata": {
    "id": "fFVu7vqh_Zct"
   },
   "outputs": [],
   "source": [
    "# чтение файла с данными и сохранение в df\n",
    "\n",
    "try:\n",
    "    df = pd.read_csv('C:/Users/datasets/yandex_music_project.csv')  # Локальный путь\n",
    "except:\n",
    "    df = pd.read_csv('/datasets/yandex_music_project.csv')  # Серверный путь"
   ]
  },
  {
   "cell_type": "markdown",
   "metadata": {
    "id": "rDoOMd3uTqnZ"
   },
   "source": [
    "Выведите на экран первые десять строк таблицы:"
   ]
  },
  {
   "cell_type": "code",
   "execution_count": 133,
   "metadata": {
    "id": "oWTVX3gW_Zct",
    "scrolled": true
   },
   "outputs": [
    {
     "data": {
      "text/html": [
       "<div>\n",
       "<style scoped>\n",
       "    .dataframe tbody tr th:only-of-type {\n",
       "        vertical-align: middle;\n",
       "    }\n",
       "\n",
       "    .dataframe tbody tr th {\n",
       "        vertical-align: top;\n",
       "    }\n",
       "\n",
       "    .dataframe thead th {\n",
       "        text-align: right;\n",
       "    }\n",
       "</style>\n",
       "<table border=\"1\" class=\"dataframe\">\n",
       "  <thead>\n",
       "    <tr style=\"text-align: right;\">\n",
       "      <th></th>\n",
       "      <th>userID</th>\n",
       "      <th>Track</th>\n",
       "      <th>artist</th>\n",
       "      <th>genre</th>\n",
       "      <th>City</th>\n",
       "      <th>time</th>\n",
       "      <th>Day</th>\n",
       "    </tr>\n",
       "  </thead>\n",
       "  <tbody>\n",
       "    <tr>\n",
       "      <td>0</td>\n",
       "      <td>FFB692EC</td>\n",
       "      <td>Kamigata To Boots</td>\n",
       "      <td>The Mass Missile</td>\n",
       "      <td>rock</td>\n",
       "      <td>Saint-Petersburg</td>\n",
       "      <td>20:28:33</td>\n",
       "      <td>Wednesday</td>\n",
       "    </tr>\n",
       "    <tr>\n",
       "      <td>1</td>\n",
       "      <td>55204538</td>\n",
       "      <td>Delayed Because of Accident</td>\n",
       "      <td>Andreas Rönnberg</td>\n",
       "      <td>rock</td>\n",
       "      <td>Moscow</td>\n",
       "      <td>14:07:09</td>\n",
       "      <td>Friday</td>\n",
       "    </tr>\n",
       "    <tr>\n",
       "      <td>2</td>\n",
       "      <td>20EC38</td>\n",
       "      <td>Funiculì funiculà</td>\n",
       "      <td>Mario Lanza</td>\n",
       "      <td>pop</td>\n",
       "      <td>Saint-Petersburg</td>\n",
       "      <td>20:58:07</td>\n",
       "      <td>Wednesday</td>\n",
       "    </tr>\n",
       "    <tr>\n",
       "      <td>3</td>\n",
       "      <td>A3DD03C9</td>\n",
       "      <td>Dragons in the Sunset</td>\n",
       "      <td>Fire + Ice</td>\n",
       "      <td>folk</td>\n",
       "      <td>Saint-Petersburg</td>\n",
       "      <td>08:37:09</td>\n",
       "      <td>Monday</td>\n",
       "    </tr>\n",
       "    <tr>\n",
       "      <td>4</td>\n",
       "      <td>E2DC1FAE</td>\n",
       "      <td>Soul People</td>\n",
       "      <td>Space Echo</td>\n",
       "      <td>dance</td>\n",
       "      <td>Moscow</td>\n",
       "      <td>08:34:34</td>\n",
       "      <td>Monday</td>\n",
       "    </tr>\n",
       "    <tr>\n",
       "      <td>5</td>\n",
       "      <td>842029A1</td>\n",
       "      <td>Преданная</td>\n",
       "      <td>IMPERVTOR</td>\n",
       "      <td>rusrap</td>\n",
       "      <td>Saint-Petersburg</td>\n",
       "      <td>13:09:41</td>\n",
       "      <td>Friday</td>\n",
       "    </tr>\n",
       "    <tr>\n",
       "      <td>6</td>\n",
       "      <td>4CB90AA5</td>\n",
       "      <td>True</td>\n",
       "      <td>Roman Messer</td>\n",
       "      <td>dance</td>\n",
       "      <td>Moscow</td>\n",
       "      <td>13:00:07</td>\n",
       "      <td>Wednesday</td>\n",
       "    </tr>\n",
       "    <tr>\n",
       "      <td>7</td>\n",
       "      <td>F03E1C1F</td>\n",
       "      <td>Feeling This Way</td>\n",
       "      <td>Polina Griffith</td>\n",
       "      <td>dance</td>\n",
       "      <td>Moscow</td>\n",
       "      <td>20:47:49</td>\n",
       "      <td>Wednesday</td>\n",
       "    </tr>\n",
       "    <tr>\n",
       "      <td>8</td>\n",
       "      <td>8FA1D3BE</td>\n",
       "      <td>И вновь продолжается бой</td>\n",
       "      <td>NaN</td>\n",
       "      <td>ruspop</td>\n",
       "      <td>Moscow</td>\n",
       "      <td>09:17:40</td>\n",
       "      <td>Friday</td>\n",
       "    </tr>\n",
       "    <tr>\n",
       "      <td>9</td>\n",
       "      <td>E772D5C0</td>\n",
       "      <td>Pessimist</td>\n",
       "      <td>NaN</td>\n",
       "      <td>dance</td>\n",
       "      <td>Saint-Petersburg</td>\n",
       "      <td>21:20:49</td>\n",
       "      <td>Wednesday</td>\n",
       "    </tr>\n",
       "  </tbody>\n",
       "</table>\n",
       "</div>"
      ],
      "text/plain": [
       "     userID                        Track            artist   genre  \\\n",
       "0  FFB692EC            Kamigata To Boots  The Mass Missile    rock   \n",
       "1  55204538  Delayed Because of Accident  Andreas Rönnberg    rock   \n",
       "2    20EC38            Funiculì funiculà       Mario Lanza     pop   \n",
       "3  A3DD03C9        Dragons in the Sunset        Fire + Ice    folk   \n",
       "4  E2DC1FAE                  Soul People        Space Echo   dance   \n",
       "5  842029A1                    Преданная         IMPERVTOR  rusrap   \n",
       "6  4CB90AA5                         True      Roman Messer   dance   \n",
       "7  F03E1C1F             Feeling This Way   Polina Griffith   dance   \n",
       "8  8FA1D3BE     И вновь продолжается бой               NaN  ruspop   \n",
       "9  E772D5C0                    Pessimist               NaN   dance   \n",
       "\n",
       "             City        time        Day  \n",
       "0  Saint-Petersburg  20:28:33  Wednesday  \n",
       "1            Moscow  14:07:09     Friday  \n",
       "2  Saint-Petersburg  20:58:07  Wednesday  \n",
       "3  Saint-Petersburg  08:37:09     Monday  \n",
       "4            Moscow  08:34:34     Monday  \n",
       "5  Saint-Petersburg  13:09:41     Friday  \n",
       "6            Moscow  13:00:07  Wednesday  \n",
       "7            Moscow  20:47:49  Wednesday  \n",
       "8            Moscow  09:17:40     Friday  \n",
       "9  Saint-Petersburg  21:20:49  Wednesday  "
      ]
     },
     "execution_count": 133,
     "metadata": {},
     "output_type": "execute_result"
    }
   ],
   "source": [
    "# получение первых 10 строк таблицы df\n",
    "\n",
    "df.head(10)"
   ]
  },
  {
   "cell_type": "markdown",
   "metadata": {
    "id": "EO73Kwic_Zct"
   },
   "source": [
    "Одной командой получить общую информацию о таблице:"
   ]
  },
  {
   "cell_type": "code",
   "execution_count": 134,
   "metadata": {
    "id": "DSf2kIb-_Zct"
   },
   "outputs": [
    {
     "name": "stdout",
     "output_type": "stream",
     "text": [
      "<class 'pandas.core.frame.DataFrame'>\n",
      "RangeIndex: 65079 entries, 0 to 65078\n",
      "Data columns (total 7 columns):\n",
      "  userID    65079 non-null object\n",
      "Track       63848 non-null object\n",
      "artist      57876 non-null object\n",
      "genre       63881 non-null object\n",
      "  City      65079 non-null object\n",
      "time        65079 non-null object\n",
      "Day         65079 non-null object\n",
      "dtypes: object(7)\n",
      "memory usage: 3.5+ MB\n"
     ]
    }
   ],
   "source": [
    "# получение общей информации о данных в таблице df\n",
    "\n",
    "df.info()"
   ]
  },
  {
   "cell_type": "code",
   "execution_count": 135,
   "metadata": {},
   "outputs": [
    {
     "data": {
      "text/plain": [
       "Index(['  userID', 'Track', 'artist', 'genre', '  City  ', 'time', 'Day'], dtype='object')"
      ]
     },
     "execution_count": 135,
     "metadata": {},
     "output_type": "execute_result"
    }
   ],
   "source": [
    "df.columns"
   ]
  },
  {
   "cell_type": "markdown",
   "metadata": {
    "id": "TaQ2Iwbr_Zct"
   },
   "source": [
    "Итак, в таблице семь столбцов. Тип данных во всех столбцах — `object`.\n",
    "\n",
    "Согласно документации к данным:\n",
    "* `userID` — идентификатор пользователя;\n",
    "* `Track` — название трека;  \n",
    "* `artist` — имя исполнителя;\n",
    "* `genre` — название жанра;\n",
    "* `City` — город пользователя;\n",
    "* `time` — время начала прослушивания;\n",
    "* `Day` — день недели.\n",
    "\n",
    "В названиях колонок видны три нарушения стиля:\n",
    "1. Строчные буквы сочетаются с прописными.\n",
    "2. Встречаются пробелы.\n",
    "3. Найдите ещё одну проблему в названии колонок и опишите её в этом пункте.\n",
    "\n",
    "\n",
    "\n",
    "Количество значений в столбцах различается. Значит, в данных есть пропущенные значения.\n"
   ]
  },
  {
   "cell_type": "markdown",
   "metadata": {
    "id": "MCB6-dXG_Zct"
   },
   "source": [
    "**Выводы**\n",
    "\n",
    "В каждой строке таблицы — данные о прослушанном треке. Часть колонок описывает саму композицию: название, исполнителя и жанр. Остальные данные рассказывают о пользователе: из какого он города, когда он слушал музыку. \n",
    "\n",
    "Предварительно можно утверждать, что, данных достаточно для проверки гипотез. Но встречаются пропуски в данных, а в названиях колонок — расхождения с хорошим стилем.\n",
    "\n",
    "Чтобы двигаться дальше, нужно устранить проблемы в данных."
   ]
  },
  {
   "cell_type": "markdown",
   "metadata": {
    "id": "SjYF6Ub9_Zct"
   },
   "source": [
    "## Предобработка данных\n",
    "Исправьте стиль в заголовках столбцов, исключите пропуски. Затем проверьте данные на дубликаты."
   ]
  },
  {
   "cell_type": "markdown",
   "metadata": {
    "id": "dIaKXr29_Zct"
   },
   "source": [
    "### Стиль заголовков\n",
    "Выведите на экран названия столбцов:"
   ]
  },
  {
   "cell_type": "code",
   "execution_count": 136,
   "metadata": {
    "id": "oKOTdF_Q_Zct"
   },
   "outputs": [
    {
     "data": {
      "text/plain": [
       "Index(['  userID', 'Track', 'artist', 'genre', '  City  ', 'time', 'Day'], dtype='object')"
      ]
     },
     "execution_count": 136,
     "metadata": {},
     "output_type": "execute_result"
    }
   ],
   "source": [
    "# перечень названий столбцов таблицы df\n",
    "\n",
    "df.columns"
   ]
  },
  {
   "cell_type": "markdown",
   "metadata": {
    "id": "zj5534cv_Zct"
   },
   "source": [
    "Приведите названия в соответствие с хорошим стилем:\n",
    "* несколько слов в названии запишите в «змеином_регистре»,\n",
    "* все символы сделайте строчными,\n",
    "* устраните пробелы.\n",
    "\n",
    "Для этого переименуйте колонки так:\n",
    "* `'  userID'` → `'user_id'`;\n",
    "* `'Track'` → `'track'`;\n",
    "* `'  City  '` → `'city'`;\n",
    "* `'Day'` → `'day'`."
   ]
  },
  {
   "cell_type": "code",
   "execution_count": 137,
   "metadata": {
    "id": "ISlFqs5y_Zct"
   },
   "outputs": [],
   "source": [
    "# переименование столбцов\n",
    "\n",
    "df = df.rename(columns={'  userID':'user_id', 'Track':'track', '  City  ':'city', 'Day':'day'})"
   ]
  },
  {
   "cell_type": "markdown",
   "metadata": {
    "id": "1dqbh00J_Zct"
   },
   "source": [
    "Проверьте результат. Для этого ещё раз выведите на экран названия столбцов:"
   ]
  },
  {
   "cell_type": "code",
   "execution_count": 138,
   "metadata": {
    "id": "d4NOAmTW_Zct"
   },
   "outputs": [
    {
     "data": {
      "text/plain": [
       "Index(['user_id', 'track', 'artist', 'genre', 'city', 'time', 'day'], dtype='object')"
      ]
     },
     "execution_count": 138,
     "metadata": {},
     "output_type": "execute_result"
    }
   ],
   "source": [
    "# проверка результатов - перечень названий столбцов\n",
    "\n",
    "df.columns"
   ]
  },
  {
   "cell_type": "markdown",
   "metadata": {
    "id": "5ISfbcfY_Zct"
   },
   "source": [
    "### Пропуски значений\n",
    "Сначала посчитайте, сколько в таблице пропущенных значений. Для этого достаточно двух методов `pandas`:"
   ]
  },
  {
   "cell_type": "code",
   "execution_count": 139,
   "metadata": {
    "id": "RskX29qr_Zct"
   },
   "outputs": [
    {
     "data": {
      "text/plain": [
       "user_id       0\n",
       "track      1231\n",
       "artist     7203\n",
       "genre      1198\n",
       "city          0\n",
       "time          0\n",
       "day           0\n",
       "dtype: int64"
      ]
     },
     "execution_count": 139,
     "metadata": {},
     "output_type": "execute_result"
    }
   ],
   "source": [
    "# подсчёт пропусков\n",
    "\n",
    "df.isna().sum()"
   ]
  },
  {
   "cell_type": "markdown",
   "metadata": {
    "id": "qubhgnlO_Zct"
   },
   "source": [
    "Не все пропущенные значения влияют на исследование. Так в `track` и `artist` пропуски не важны для вашей работы. Достаточно заменить их явными обозначениями.\n",
    "\n",
    "Но пропуски в `genre` могут помешать сравнению музыкальных вкусов в Москве и Санкт-Петербурге. На практике было бы правильно установить причину пропусков и восстановить данные. Такой возможности нет в учебном проекте. Придётся:\n",
    "* заполнить и эти пропуски явными обозначениями,\n",
    "* оценить, насколько они повредят расчётам. "
   ]
  },
  {
   "cell_type": "markdown",
   "metadata": {
    "id": "fSv2laPA_Zct"
   },
   "source": [
    "Замените пропущенные значения в столбцах `track`, `artist` и `genre` на строку `'unknown'`. Для этого создайте список `columns_to_replace`, переберите его элементы циклом `for` и для каждого столбца выполните замену пропущенных значений:"
   ]
  },
  {
   "cell_type": "code",
   "execution_count": 140,
   "metadata": {
    "id": "KplB5qWs_Zct"
   },
   "outputs": [],
   "source": [
    "# перебор названий столбцов в цикле и замена пропущенных значений на 'unknown'\n",
    "\n",
    "columns_to_replace = ['track', 'artist', 'genre']\n",
    "\n",
    "for column in columns_to_replace:\n",
    "    df[column] = df[column].fillna('unknown')"
   ]
  },
  {
   "cell_type": "markdown",
   "metadata": {
    "id": "Ilsm-MZo_Zct"
   },
   "source": [
    "Убедитесь, что в таблице не осталось пропусков. Для этого ещё раз посчитайте пропущенные значения."
   ]
  },
  {
   "cell_type": "code",
   "execution_count": 141,
   "metadata": {
    "id": "Tq4nYRX4_Zct"
   },
   "outputs": [
    {
     "data": {
      "text/plain": [
       "user_id    0\n",
       "track      0\n",
       "artist     0\n",
       "genre      0\n",
       "city       0\n",
       "time       0\n",
       "day        0\n",
       "dtype: int64"
      ]
     },
     "execution_count": 141,
     "metadata": {},
     "output_type": "execute_result"
    }
   ],
   "source": [
    "# подсчёт пропусков\n",
    "\n",
    "df.isna().sum()"
   ]
  },
  {
   "cell_type": "markdown",
   "metadata": {
    "id": "BWKRtBJ3_Zct"
   },
   "source": [
    "### Дубликаты\n",
    "Посчитайте явные дубликаты в таблице одной командой:"
   ]
  },
  {
   "cell_type": "code",
   "execution_count": 142,
   "metadata": {
    "id": "36eES_S0_Zct"
   },
   "outputs": [
    {
     "data": {
      "text/plain": [
       "3826"
      ]
     },
     "execution_count": 142,
     "metadata": {},
     "output_type": "execute_result"
    }
   ],
   "source": [
    "# подсчёт явных дубликатов\n",
    "\n",
    "df.duplicated().sum()"
   ]
  },
  {
   "cell_type": "markdown",
   "metadata": {
    "id": "Ot25h6XR_Zct"
   },
   "source": [
    "Вызовите специальный метод `pandas`, чтобы удалить явные дубликаты:"
   ]
  },
  {
   "cell_type": "code",
   "execution_count": 143,
   "metadata": {
    "id": "exFHq6tt_Zct"
   },
   "outputs": [],
   "source": [
    "# удаление явных дубликатов (с удалением старых индексов и формированием новых)\n",
    "\n",
    "df = df.drop_duplicates().reset_index(drop=True)"
   ]
  },
  {
   "cell_type": "markdown",
   "metadata": {
    "id": "Im2YwBEG_Zct"
   },
   "source": [
    "Ещё раз посчитайте явные дубликаты в таблице — убедитесь, что полностью от них избавились:"
   ]
  },
  {
   "cell_type": "code",
   "execution_count": 144,
   "metadata": {
    "id": "-8PuNWQ0_Zct"
   },
   "outputs": [
    {
     "data": {
      "text/plain": [
       "0"
      ]
     },
     "execution_count": 144,
     "metadata": {},
     "output_type": "execute_result"
    }
   ],
   "source": [
    "# проверка на отсутствие дубликатов\n",
    "df.duplicated().sum()"
   ]
  },
  {
   "cell_type": "markdown",
   "metadata": {
    "id": "QlFBsxAr_Zct"
   },
   "source": [
    "Теперь избавьтесь от неявных дубликатов в колонке `genre`. Например, название одного и того же жанра может быть записано немного по-разному. Такие ошибки тоже повлияют на результат исследования."
   ]
  },
  {
   "cell_type": "markdown",
   "metadata": {
    "id": "eSjWwsOh_Zct"
   },
   "source": [
    "Выведите на экран список уникальных названий жанров, отсортированный в алфавитном порядке. Для этого:\n",
    "* извлеките нужный столбец датафрейма, \n",
    "* примените к нему метод сортировки,\n",
    "* для отсортированного столбца вызовите метод, который вернёт уникальные значения из столбца."
   ]
  },
  {
   "cell_type": "code",
   "execution_count": 145,
   "metadata": {
    "id": "JIUcqzZN_Zct"
   },
   "outputs": [
    {
     "name": "stdout",
     "output_type": "stream",
     "text": [
      "['acid', 'acoustic', 'action', 'adult', 'africa', 'afrikaans', 'alternative', 'alternativepunk', 'ambient', 'americana', 'animated', 'anime', 'arabesk', 'arabic', 'arena', 'argentinetango', 'art', 'audiobook', 'author', 'avantgarde', 'axé', 'baile', 'balkan', 'beats', 'bigroom', 'black', 'bluegrass', 'blues', 'bollywood', 'bossa', 'brazilian', 'breakbeat', 'breaks', 'broadway', 'cantautori', 'cantopop', 'canzone', 'caribbean', 'caucasian', 'celtic', 'chamber', 'chanson', 'children', 'chill', 'chinese', 'choral', 'christian', 'christmas', 'classical', 'classicmetal', 'club', 'colombian', 'comedy', 'conjazz', 'contemporary', 'country', 'cuban', 'dance', 'dancehall', 'dancepop', 'dark', 'death', 'deep', 'deutschrock', 'deutschspr', 'dirty', 'disco', 'dnb', 'documentary', 'downbeat', 'downtempo', 'drum', 'dub', 'dubstep', 'eastern', 'easy', 'electronic', 'electropop', 'emo', 'entehno', 'epicmetal', 'estrada', 'ethnic', 'eurofolk', 'european', 'experimental', 'extrememetal', 'fado', 'fairytail', 'film', 'fitness', 'flamenco', 'folk', 'folklore', 'folkmetal', 'folkrock', 'folktronica', 'forró', 'frankreich', 'französisch', 'french', 'funk', 'future', 'gangsta', 'garage', 'german', 'ghazal', 'gitarre', 'glitch', 'gospel', 'gothic', 'grime', 'grunge', 'gypsy', 'handsup', \"hard'n'heavy\", 'hardcore', 'hardstyle', 'hardtechno', 'hip', 'hip-hop', 'hiphop', 'historisch', 'holiday', 'hop', 'horror', 'house', 'hymn', 'idm', 'independent', 'indian', 'indie', 'indipop', 'industrial', 'inspirational', 'instrumental', 'international', 'irish', 'jam', 'japanese', 'jazz', 'jewish', 'jpop', 'jungle', 'k-pop', 'karadeniz', 'karaoke', 'kayokyoku', 'korean', 'laiko', 'latin', 'latino', 'leftfield', 'local', 'lounge', 'loungeelectronic', 'lovers', 'malaysian', 'mandopop', 'marschmusik', 'meditative', 'mediterranean', 'melodic', 'metal', 'metalcore', 'mexican', 'middle', 'minimal', 'miscellaneous', 'modern', 'mood', 'mpb', 'muslim', 'native', 'neoklassik', 'neue', 'new', 'newage', 'newwave', 'nu', 'nujazz', 'numetal', 'oceania', 'old', 'opera', 'orchestral', 'other', 'piano', 'podcasts', 'pop', 'popdance', 'popelectronic', 'popeurodance', 'poprussian', 'post', 'posthardcore', 'postrock', 'power', 'progmetal', 'progressive', 'psychedelic', 'punjabi', 'punk', 'quebecois', 'ragga', 'ram', 'rancheras', 'rap', 'rave', 'reggae', 'reggaeton', 'regional', 'relax', 'religious', 'retro', 'rhythm', 'rnb', 'rnr', 'rock', 'rockabilly', 'rockalternative', 'rockindie', 'rockother', 'romance', 'roots', 'ruspop', 'rusrap', 'rusrock', 'russian', 'salsa', 'samba', 'scenic', 'schlager', 'self', 'sertanejo', 'shanson', 'shoegazing', 'showtunes', 'singer', 'ska', 'skarock', 'slow', 'smooth', 'soft', 'soul', 'soulful', 'sound', 'soundtrack', 'southern', 'specialty', 'speech', 'spiritual', 'sport', 'stonerrock', 'surf', 'swing', 'synthpop', 'synthrock', 'sängerportrait', 'tango', 'tanzorchester', 'taraftar', 'tatar', 'tech', 'techno', 'teen', 'thrash', 'top', 'traditional', 'tradjazz', 'trance', 'tribal', 'trip', 'triphop', 'tropical', 'türk', 'türkçe', 'ukrrock', 'unknown', 'urban', 'uzbek', 'variété', 'vi', 'videogame', 'vocal', 'western', 'world', 'worldbeat', 'ïîï', 'электроника']\n"
     ]
    }
   ],
   "source": [
    "# Просмотр уникальных названий жанров\n",
    "\n",
    "print(sorted(df['genre'].unique()))"
   ]
  },
  {
   "cell_type": "markdown",
   "metadata": {
    "id": "qej-Qmuo_Zct"
   },
   "source": [
    "Просмотрите список и найдите неявные дубликаты названия `hiphop`. Это могут быть названия с ошибками или альтернативные названия того же жанра.\n",
    "\n",
    "Вы увидите следующие неявные дубликаты:\n",
    "* *hip*,\n",
    "* *hop*,\n",
    "* *hip-hop*.\n",
    "\n",
    "Чтобы очистить от них таблицу, напишите функцию `replace_wrong_genres()` с двумя параметрами: \n",
    "* `wrong_genres` — список дубликатов,\n",
    "* `correct_genre` — строка с правильным значением.\n",
    "\n",
    "Функция должна исправить колонку `genre` в таблице `df`: заменить каждое значение из списка `wrong_genres` на значение из `correct_genre`."
   ]
  },
  {
   "cell_type": "code",
   "execution_count": 146,
   "metadata": {
    "id": "ErNDkmns_Zct"
   },
   "outputs": [],
   "source": [
    "# Функция для замены неявных дубликатов\n",
    "def replace_wrong_genres(wrong_genres, correct_genre):\n",
    "    for wrong_genre in wrong_genres:\n",
    "        df['genre'] = df['genre'].replace(wrong_genre, correct_genre)"
   ]
  },
  {
   "cell_type": "markdown",
   "metadata": {
    "id": "aDoBJxbA_Zct"
   },
   "source": [
    "Вызовите `replace_wrong_genres()` и передайте ей такие аргументы, чтобы она устранила неявные дубликаты: вместо `hip`, `hop` и `hip-hop` в таблице должно быть значение `hiphop`:"
   ]
  },
  {
   "cell_type": "code",
   "execution_count": 147,
   "metadata": {
    "id": "YN5i2hpmSo09"
   },
   "outputs": [],
   "source": [
    "# Устранение неявных дубликатов\n",
    "\n",
    "wrong_genres = ['hip', 'hop', 'hip-hop']\n",
    "correct_genre = 'hiphop'\n",
    "\n",
    "replace_wrong_genres(wrong_genres, correct_genre)"
   ]
  },
  {
   "cell_type": "markdown",
   "metadata": {
    "id": "zQKF16_RG15m"
   },
   "source": [
    "Проверьте, что заменили неправильные названия:\n",
    "\n",
    "*   hip\n",
    "*   hop\n",
    "*   hip-hop\n",
    "\n",
    "Выведите отсортированный список уникальных значений столбца `genre`:"
   ]
  },
  {
   "cell_type": "code",
   "execution_count": 148,
   "metadata": {
    "id": "wvixALnFG15m"
   },
   "outputs": [
    {
     "name": "stdout",
     "output_type": "stream",
     "text": [
      "['acid', 'acoustic', 'action', 'adult', 'africa', 'afrikaans', 'alternative', 'alternativepunk', 'ambient', 'americana', 'animated', 'anime', 'arabesk', 'arabic', 'arena', 'argentinetango', 'art', 'audiobook', 'author', 'avantgarde', 'axé', 'baile', 'balkan', 'beats', 'bigroom', 'black', 'bluegrass', 'blues', 'bollywood', 'bossa', 'brazilian', 'breakbeat', 'breaks', 'broadway', 'cantautori', 'cantopop', 'canzone', 'caribbean', 'caucasian', 'celtic', 'chamber', 'chanson', 'children', 'chill', 'chinese', 'choral', 'christian', 'christmas', 'classical', 'classicmetal', 'club', 'colombian', 'comedy', 'conjazz', 'contemporary', 'country', 'cuban', 'dance', 'dancehall', 'dancepop', 'dark', 'death', 'deep', 'deutschrock', 'deutschspr', 'dirty', 'disco', 'dnb', 'documentary', 'downbeat', 'downtempo', 'drum', 'dub', 'dubstep', 'eastern', 'easy', 'electronic', 'electropop', 'emo', 'entehno', 'epicmetal', 'estrada', 'ethnic', 'eurofolk', 'european', 'experimental', 'extrememetal', 'fado', 'fairytail', 'film', 'fitness', 'flamenco', 'folk', 'folklore', 'folkmetal', 'folkrock', 'folktronica', 'forró', 'frankreich', 'französisch', 'french', 'funk', 'future', 'gangsta', 'garage', 'german', 'ghazal', 'gitarre', 'glitch', 'gospel', 'gothic', 'grime', 'grunge', 'gypsy', 'handsup', \"hard'n'heavy\", 'hardcore', 'hardstyle', 'hardtechno', 'hiphop', 'historisch', 'holiday', 'horror', 'house', 'hymn', 'idm', 'independent', 'indian', 'indie', 'indipop', 'industrial', 'inspirational', 'instrumental', 'international', 'irish', 'jam', 'japanese', 'jazz', 'jewish', 'jpop', 'jungle', 'k-pop', 'karadeniz', 'karaoke', 'kayokyoku', 'korean', 'laiko', 'latin', 'latino', 'leftfield', 'local', 'lounge', 'loungeelectronic', 'lovers', 'malaysian', 'mandopop', 'marschmusik', 'meditative', 'mediterranean', 'melodic', 'metal', 'metalcore', 'mexican', 'middle', 'minimal', 'miscellaneous', 'modern', 'mood', 'mpb', 'muslim', 'native', 'neoklassik', 'neue', 'new', 'newage', 'newwave', 'nu', 'nujazz', 'numetal', 'oceania', 'old', 'opera', 'orchestral', 'other', 'piano', 'podcasts', 'pop', 'popdance', 'popelectronic', 'popeurodance', 'poprussian', 'post', 'posthardcore', 'postrock', 'power', 'progmetal', 'progressive', 'psychedelic', 'punjabi', 'punk', 'quebecois', 'ragga', 'ram', 'rancheras', 'rap', 'rave', 'reggae', 'reggaeton', 'regional', 'relax', 'religious', 'retro', 'rhythm', 'rnb', 'rnr', 'rock', 'rockabilly', 'rockalternative', 'rockindie', 'rockother', 'romance', 'roots', 'ruspop', 'rusrap', 'rusrock', 'russian', 'salsa', 'samba', 'scenic', 'schlager', 'self', 'sertanejo', 'shanson', 'shoegazing', 'showtunes', 'singer', 'ska', 'skarock', 'slow', 'smooth', 'soft', 'soul', 'soulful', 'sound', 'soundtrack', 'southern', 'specialty', 'speech', 'spiritual', 'sport', 'stonerrock', 'surf', 'swing', 'synthpop', 'synthrock', 'sängerportrait', 'tango', 'tanzorchester', 'taraftar', 'tatar', 'tech', 'techno', 'teen', 'thrash', 'top', 'traditional', 'tradjazz', 'trance', 'tribal', 'trip', 'triphop', 'tropical', 'türk', 'türkçe', 'ukrrock', 'unknown', 'urban', 'uzbek', 'variété', 'vi', 'videogame', 'vocal', 'western', 'world', 'worldbeat', 'ïîï', 'электроника']\n"
     ]
    }
   ],
   "source": [
    "# Проверка на неявные дубликаты\n",
    "\n",
    "print(sorted(df['genre'].unique()))"
   ]
  },
  {
   "cell_type": "markdown",
   "metadata": {
    "id": "jz6a9-7HQUDd"
   },
   "source": [
    "**Выводы**\n",
    "\n",
    "Предобработка обнаружила три проблемы в данных:\n",
    "\n",
    "- нарушения в стиле заголовков,\n",
    "- пропущенные значения,\n",
    "- дубликаты — явные и неявные.\n",
    "\n",
    "Вы исправили заголовки, чтобы упростить работу с таблицей. Без дубликатов исследование станет более точным.\n",
    "\n",
    "Пропущенные значения вы заменили на `'unknown'`. Ещё предстоит увидеть, не повредят ли исследованию пропуски в колонке `genre`.\n",
    "\n",
    "Теперь можно перейти к проверке гипотез. "
   ]
  },
  {
   "cell_type": "markdown",
   "metadata": {
    "id": "WttZHXH0SqKk"
   },
   "source": [
    "## Проверка гипотез"
   ]
  },
  {
   "cell_type": "markdown",
   "metadata": {
    "id": "Im936VVi_Zcu"
   },
   "source": [
    "### Сравнение поведения пользователей двух столиц"
   ]
  },
  {
   "cell_type": "markdown",
   "metadata": {
    "id": "nwt_MuaL_Zcu"
   },
   "source": [
    "Первая гипотеза утверждает, что пользователи по-разному слушают музыку в Москве и Санкт-Петербурге. Проверьте это предположение по данным о трёх днях недели — понедельнике, среде и пятнице. Для этого:\n",
    "\n",
    "* Разделите пользователей Москвы и Санкт-Петербурга\n",
    "* Сравните, сколько треков послушала каждая группа пользователей в понедельник, среду и пятницу.\n"
   ]
  },
  {
   "cell_type": "markdown",
   "metadata": {
    "id": "8Dw_YMmT_Zcu"
   },
   "source": [
    "Для тренировки сначала выполните каждый из расчётов по отдельности. \n",
    "\n",
    "Оцените активность пользователей в каждом городе. Сгруппируйте данные по городу и посчитайте прослушивания в каждой группе.\n",
    "\n"
   ]
  },
  {
   "cell_type": "code",
   "execution_count": 149,
   "metadata": {
    "id": "0_Qs96oh_Zcu"
   },
   "outputs": [
    {
     "data": {
      "text/plain": [
       "city\n",
       "Moscow              42741\n",
       "Saint-Petersburg    18512\n",
       "Name: track, dtype: int64"
      ]
     },
     "execution_count": 149,
     "metadata": {},
     "output_type": "execute_result"
    }
   ],
   "source": [
    "# Подсчёт прослушиваний в каждом городе\n",
    "\n",
    "df.groupby(by='city')['track'].count()"
   ]
  },
  {
   "cell_type": "markdown",
   "metadata": {
    "id": "dzli3w8o_Zcu"
   },
   "source": [
    "В Москве прослушиваний больше, чем в Петербурге. Из этого не следует, что московские пользователи чаще слушают музыку. Просто самих пользователей в Москве больше.\n",
    "\n",
    "Теперь сгруппируйте данные по дню недели и подсчитайте прослушивания в понедельник, среду и пятницу. Учтите, что в данных есть информация только о прослушиваниях только за эти дни.\n"
   ]
  },
  {
   "cell_type": "code",
   "execution_count": 150,
   "metadata": {
    "id": "uZMKjiJz_Zcu"
   },
   "outputs": [
    {
     "data": {
      "text/plain": [
       "day\n",
       "Friday       21840\n",
       "Monday       21354\n",
       "Wednesday    18059\n",
       "Name: track, dtype: int64"
      ]
     },
     "execution_count": 150,
     "metadata": {},
     "output_type": "execute_result"
    }
   ],
   "source": [
    "# Подсчёт прослушиваний в каждый из трёх дней\n",
    "df.groupby('day')['track'].count()"
   ]
  },
  {
   "cell_type": "markdown",
   "metadata": {
    "id": "cC2tNrlL_Zcu"
   },
   "source": [
    "В среднем пользователи из двух городов менее активны по средам. Но картина может измениться, если рассмотреть каждый город в отдельности."
   ]
  },
  {
   "cell_type": "markdown",
   "metadata": {
    "id": "POzs8bGa_Zcu"
   },
   "source": [
    "Вы видели, как работает группировка по городу и по дням недели. Теперь напишите функцию, которая объединит два эти расчёта.\n",
    "\n",
    "Создайте функцию `number_tracks()`, которая посчитает прослушивания для заданного дня и города. Ей понадобятся два параметра:\n",
    "* день недели,\n",
    "* название города.\n",
    "\n",
    "В функции сохраните в переменную строки исходной таблицы, у которых значение:\n",
    "  * в колонке `day` равно параметру `day`,\n",
    "  * в колонке `city` равно параметру `city`.\n",
    "\n",
    "Для этого примените последовательную фильтрацию с логической индексацией.\n",
    "\n",
    "Затем посчитайте значения в столбце `user_id` получившейся таблицы. Результат сохраните в новую переменную. Верните эту переменную из функции."
   ]
  },
  {
   "cell_type": "code",
   "execution_count": 151,
   "metadata": {
    "id": "Nz3GdQB1_Zcu"
   },
   "outputs": [],
   "source": [
    "# <создание функции number_tracks()>\n",
    "# Объявляется функция с двумя параметрами: day, city.\n",
    "# В переменной track_list сохраняются те строки таблицы df, для которых \n",
    "# значение в столбце 'day' равно параметру day и одновременно значение\n",
    "# в столбце 'city' равно параметру city (используйте последовательную фильтрацию\n",
    "# с помощью логической индексации).\n",
    "# В переменной track_list_count сохраняется число значений столбца 'user_id',\n",
    "# рассчитанное методом count() для таблицы track_list.\n",
    "# Функция возвращает число - значение track_list_count.\n",
    "\n",
    "def number_tracks(day, city):\n",
    "    track_list = df[(df['day'] == day) & (df['city'] == city)]\n",
    "    track_list_count = track_list['user_id'].count()\n",
    "    return track_list_count\n",
    "\n",
    "# Функция для подсчёта прослушиваний для конкретного города и дня.\n",
    "# С помощью последовательной фильтрации с логической индексацией она \n",
    "# сначала получит из исходной таблицы строки с нужным днём,\n",
    "# затем из результата отфильтрует строки с нужным городом,\n",
    "# методом count() посчитает количество значений в колонке user_id. \n",
    "# Это количество функция вернёт в качестве результата\n"
   ]
  },
  {
   "cell_type": "markdown",
   "metadata": {
    "id": "ytf7xFrFJQ2r"
   },
   "source": [
    "Вызовите `number_tracks()` шесть раз, меняя значение параметров — так, чтобы получить данные для каждого города в каждый из трёх дней."
   ]
  },
  {
   "cell_type": "code",
   "execution_count": 152,
   "metadata": {
    "id": "rJcRATNQ_Zcu"
   },
   "outputs": [
    {
     "data": {
      "text/plain": [
       "15740"
      ]
     },
     "execution_count": 152,
     "metadata": {},
     "output_type": "execute_result"
    }
   ],
   "source": [
    "# количество прослушиваний в Москве по понедельникам\n",
    "number_tracks('Monday','Moscow')"
   ]
  },
  {
   "cell_type": "code",
   "execution_count": 153,
   "metadata": {
    "id": "hq_ncZ5T_Zcu"
   },
   "outputs": [
    {
     "data": {
      "text/plain": [
       "5614"
      ]
     },
     "execution_count": 153,
     "metadata": {},
     "output_type": "execute_result"
    }
   ],
   "source": [
    "# количество прослушиваний в Санкт-Петербурге по понедельникам\n",
    "number_tracks('Monday','Saint-Petersburg')"
   ]
  },
  {
   "cell_type": "code",
   "execution_count": 154,
   "metadata": {
    "id": "_NTy2VPU_Zcu"
   },
   "outputs": [
    {
     "data": {
      "text/plain": [
       "11056"
      ]
     },
     "execution_count": 154,
     "metadata": {},
     "output_type": "execute_result"
    }
   ],
   "source": [
    "# количество прослушиваний в Москве по средам\n",
    "number_tracks('Wednesday','Moscow')"
   ]
  },
  {
   "cell_type": "code",
   "execution_count": 155,
   "metadata": {
    "id": "j2y3TAwo_Zcu"
   },
   "outputs": [
    {
     "data": {
      "text/plain": [
       "7003"
      ]
     },
     "execution_count": 155,
     "metadata": {},
     "output_type": "execute_result"
    }
   ],
   "source": [
    "# количество прослушиваний в Санкт-Петербурге по средам\n",
    "number_tracks('Wednesday','Saint-Petersburg')"
   ]
  },
  {
   "cell_type": "code",
   "execution_count": 156,
   "metadata": {
    "id": "vYDw5u_K_Zcu"
   },
   "outputs": [
    {
     "data": {
      "text/plain": [
       "15945"
      ]
     },
     "execution_count": 156,
     "metadata": {},
     "output_type": "execute_result"
    }
   ],
   "source": [
    "# количество прослушиваний в Москве по пятницам\n",
    "number_tracks('Friday','Moscow')"
   ]
  },
  {
   "cell_type": "code",
   "execution_count": 157,
   "metadata": {
    "id": "8_yzFtW3_Zcu"
   },
   "outputs": [
    {
     "data": {
      "text/plain": [
       "5895"
      ]
     },
     "execution_count": 157,
     "metadata": {},
     "output_type": "execute_result"
    }
   ],
   "source": [
    "# количество прослушиваний в Санкт-Петербурге по пятницам\n",
    "number_tracks('Friday','Saint-Petersburg')"
   ]
  },
  {
   "cell_type": "markdown",
   "metadata": {
    "id": "7QXffbO-_Zcu"
   },
   "source": [
    "Создайте c помощью конструктора `pd.DataFrame` таблицу, где\n",
    "* названия колонок — `['city', 'monday', 'wednesday', 'friday']`;\n",
    "* данные — результаты, которые вы получили с помощью `number_tracks`."
   ]
  },
  {
   "cell_type": "code",
   "execution_count": 158,
   "metadata": {
    "id": "APAcLpOr_Zcu"
   },
   "outputs": [
    {
     "data": {
      "text/html": [
       "<div>\n",
       "<style scoped>\n",
       "    .dataframe tbody tr th:only-of-type {\n",
       "        vertical-align: middle;\n",
       "    }\n",
       "\n",
       "    .dataframe tbody tr th {\n",
       "        vertical-align: top;\n",
       "    }\n",
       "\n",
       "    .dataframe thead th {\n",
       "        text-align: right;\n",
       "    }\n",
       "</style>\n",
       "<table border=\"1\" class=\"dataframe\">\n",
       "  <thead>\n",
       "    <tr style=\"text-align: right;\">\n",
       "      <th></th>\n",
       "      <th>city</th>\n",
       "      <th>monday</th>\n",
       "      <th>wednesday</th>\n",
       "      <th>friday</th>\n",
       "    </tr>\n",
       "  </thead>\n",
       "  <tbody>\n",
       "    <tr>\n",
       "      <td>0</td>\n",
       "      <td>Moscow</td>\n",
       "      <td>15740</td>\n",
       "      <td>11056</td>\n",
       "      <td>15945</td>\n",
       "    </tr>\n",
       "    <tr>\n",
       "      <td>1</td>\n",
       "      <td>Saint-Petersburg</td>\n",
       "      <td>5614</td>\n",
       "      <td>7003</td>\n",
       "      <td>5895</td>\n",
       "    </tr>\n",
       "  </tbody>\n",
       "</table>\n",
       "</div>"
      ],
      "text/plain": [
       "               city  monday  wednesday  friday\n",
       "0            Moscow   15740      11056   15945\n",
       "1  Saint-Petersburg    5614       7003    5895"
      ]
     },
     "metadata": {},
     "output_type": "display_data"
    }
   ],
   "source": [
    "# Таблица с результатами\n",
    "columns = ['city', 'monday', 'wednesday', 'friday']\n",
    "\n",
    "data =[['Moscow', 15740, 11056, 15945],\n",
    "       ['Saint-Petersburg', 5614, 7003, 5895]]\n",
    "\n",
    "result = pd.DataFrame(data = data, columns = columns)\n",
    "\n",
    "display(result)"
   ]
  },
  {
   "cell_type": "markdown",
   "metadata": {
    "id": "-EgPIHYu_Zcu"
   },
   "source": [
    "**Выводы**\n",
    "\n",
    "Данные показывают разницу поведения пользователей:\n",
    "\n",
    "- В Москве пик прослушиваний приходится на понедельник и пятницу, а в среду заметен спад.\n",
    "- В Петербурге, наоборот, больше слушают музыку по средам. Активность в понедельник и пятницу здесь почти в равной мере уступает среде.\n",
    "\n",
    "Значит, данные говорят в пользу первой гипотезы."
   ]
  },
  {
   "cell_type": "markdown",
   "metadata": {
    "id": "atZAxtq4_Zcu"
   },
   "source": [
    "### Музыка в начале и в конце недели"
   ]
  },
  {
   "cell_type": "markdown",
   "metadata": {
    "id": "eXrQqXFH_Zcu"
   },
   "source": [
    "Согласно второй гипотезе, утром в понедельник в Москве преобладают одни жанры, а в Петербурге — другие. Так же и вечером пятницы преобладают разные жанры — в зависимости от города."
   ]
  },
  {
   "cell_type": "markdown",
   "metadata": {
    "id": "S8UcW6Hw_Zcu"
   },
   "source": [
    "Сохраните таблицы с данными в две переменные:\n",
    "* по Москве — в `moscow_general`;\n",
    "* по Санкт-Петербургу — в `spb_general`."
   ]
  },
  {
   "cell_type": "code",
   "execution_count": 159,
   "metadata": {
    "id": "qeaFfM_P_Zcu"
   },
   "outputs": [],
   "source": [
    "# получение таблицы moscow_general из тех строк таблицы df, \n",
    "# для которых значение в столбце 'city' равно 'Moscow'\n",
    "\n",
    "moscow_general = df[df['city'] == 'Moscow']"
   ]
  },
  {
   "cell_type": "code",
   "execution_count": 160,
   "metadata": {
    "id": "ORaVRKto_Zcu"
   },
   "outputs": [],
   "source": [
    "# получение таблицы spb_general из тех строк таблицы df,\n",
    "# для которых значение в столбце 'city' равно 'Saint-Petersburg'\n",
    "\n",
    "spb_general = df[df['city'] == 'Saint-Petersburg']"
   ]
  },
  {
   "cell_type": "markdown",
   "metadata": {
    "id": "MEJV-CX2_Zcu"
   },
   "source": [
    "Создайте функцию `genre_weekday()` с четырьмя параметрами:\n",
    "* таблица (датафрейм) с данными,\n",
    "* день недели,\n",
    "* начальная временная метка в формате 'hh:mm', \n",
    "* последняя временная метка в формате 'hh:mm'.\n",
    "\n",
    "Функция должна вернуть информацию о топ-10 жанров тех треков, которые прослушивали в указанный день, в промежутке между двумя отметками времени."
   ]
  },
  {
   "cell_type": "code",
   "execution_count": 161,
   "metadata": {
    "id": "laJT9BYl_Zcu"
   },
   "outputs": [],
   "source": [
    "# Объявление функции genre_weekday() с параметрами table, day, time1, time2,\n",
    "# которая возвращает информацию о самых популярных жанрах в указанный день в\n",
    "# заданное время:\n",
    "# 1) в переменную genre_df сохраняются те строки переданного датафрейма table, для\n",
    "#    которых одновременно:\n",
    "#    - значение в столбце day равно значению аргумента day\n",
    "#    - значение в столбце time больше значения аргумента time1\n",
    "#    - значение в столбце time меньше значения аргумента time2\n",
    "#    Используйте последовательную фильтрацию с помощью логической индексации.\n",
    "# 2) сгруппировать датафрейм genre_df по столбцу genre, взять один из его\n",
    "#    столбцов и посчитать методом count() количество записей для каждого из\n",
    "#    присутствующих жанров, получившийся Series записать в переменную\n",
    "#    genre_df_count\n",
    "# 3) отсортировать genre_df_count по убыванию встречаемости и сохранить\n",
    "#    в переменную genre_df_sorted\n",
    "# 4) вернуть Series из 10 первых значений genre_df_sorted, это будут топ-10\n",
    "#    популярных жанров (в указанный день, в заданное время)\n",
    "\n",
    "def genre_weekday(table, day, time1, time2):\n",
    "    genre_df = table[(table['day'] == day) & (table['time'] > time1) & (table['time'] < time2)]\n",
    "    genre_df_count = genre_df.groupby('genre')['track'].count()\n",
    "    genre_df_sorted = genre_df_count.sort_values(ascending=False)\n",
    "    return genre_df_sorted.head(10)"
   ]
  },
  {
   "cell_type": "markdown",
   "metadata": {
    "id": "la2s2_PF_Zcu"
   },
   "source": [
    "Cравните результаты функции `genre_weekday()` для Москвы и Санкт-Петербурга в понедельник утром (с 7:00 до 11:00) и в пятницу вечером (с 17:00 до 23:00):"
   ]
  },
  {
   "cell_type": "code",
   "execution_count": 162,
   "metadata": {
    "id": "yz7itPUQ_Zcu"
   },
   "outputs": [
    {
     "data": {
      "text/plain": [
       "genre\n",
       "pop            781\n",
       "dance          549\n",
       "electronic     480\n",
       "rock           474\n",
       "hiphop         286\n",
       "ruspop         186\n",
       "world          181\n",
       "rusrap         175\n",
       "alternative    164\n",
       "unknown        161\n",
       "Name: track, dtype: int64"
      ]
     },
     "execution_count": 162,
     "metadata": {},
     "output_type": "execute_result"
    }
   ],
   "source": [
    "# вызов функции для утра понедельника в Москве (вместо df — таблица moscow_general)\n",
    "# объекты, хранящие время, являются строками и сравниваются как строки\n",
    "# пример вызова: genre_weekday(moscow_general, 'Monday', '07:00', '11:00')\n",
    "genre_weekday(moscow_general, 'Monday', '07:00', '11:00')"
   ]
  },
  {
   "cell_type": "code",
   "execution_count": 163,
   "metadata": {
    "id": "kwUcHPdy_Zcu"
   },
   "outputs": [
    {
     "data": {
      "text/plain": [
       "genre\n",
       "pop            218\n",
       "dance          182\n",
       "rock           162\n",
       "electronic     147\n",
       "hiphop          80\n",
       "ruspop          64\n",
       "alternative     58\n",
       "rusrap          55\n",
       "jazz            44\n",
       "classical       40\n",
       "Name: track, dtype: int64"
      ]
     },
     "execution_count": 163,
     "metadata": {},
     "output_type": "execute_result"
    }
   ],
   "source": [
    "# вызов функции для утра понедельника в Петербурге (вместо df — таблица spb_general)\n",
    "genre_weekday(spb_general, 'Monday', '07:00', '11:00')"
   ]
  },
  {
   "cell_type": "code",
   "execution_count": 164,
   "metadata": {
    "id": "EzXVRE1o_Zcu"
   },
   "outputs": [
    {
     "data": {
      "text/plain": [
       "genre\n",
       "pop            713\n",
       "rock           517\n",
       "dance          495\n",
       "electronic     482\n",
       "hiphop         273\n",
       "world          208\n",
       "ruspop         170\n",
       "alternative    163\n",
       "classical      163\n",
       "rusrap         142\n",
       "Name: track, dtype: int64"
      ]
     },
     "execution_count": 164,
     "metadata": {},
     "output_type": "execute_result"
    }
   ],
   "source": [
    "# вызов функции для вечера пятницы в Москве\n",
    "genre_weekday(moscow_general, 'Friday', '17:00', '23:00')"
   ]
  },
  {
   "cell_type": "code",
   "execution_count": 165,
   "metadata": {
    "id": "JZaEKu5v_Zcu"
   },
   "outputs": [
    {
     "data": {
      "text/plain": [
       "genre\n",
       "pop            256\n",
       "rock           216\n",
       "electronic     216\n",
       "dance          210\n",
       "hiphop          97\n",
       "alternative     63\n",
       "jazz            61\n",
       "classical       60\n",
       "rusrap          59\n",
       "world           54\n",
       "Name: track, dtype: int64"
      ]
     },
     "execution_count": 165,
     "metadata": {},
     "output_type": "execute_result"
    }
   ],
   "source": [
    "# вызов функции для вечера пятницы в Петербурге\n",
    "genre_weekday(spb_general, 'Friday', '17:00', '23:00')"
   ]
  },
  {
   "cell_type": "markdown",
   "metadata": {
    "id": "wrCe4MNX_Zcu"
   },
   "source": [
    "**Выводы**\n",
    "\n",
    "Если сравнить топ-10 жанров в понедельник утром, можно сделать такие выводы:\n",
    "\n",
    "1. В Москве и Петербурге слушают похожую музыку. Единственное отличие — в московский рейтинг вошёл жанр “world”, а в петербургский — джаз и классика.\n",
    "\n",
    "2. В Москве пропущенных значений оказалось так много, что значение `'unknown'` заняло десятое место среди самых популярных жанров. Значит, пропущенные значения занимают существенную долю в данных и угрожают достоверности исследования.\n",
    "\n",
    "Вечер пятницы не меняет эту картину. Некоторые жанры поднимаются немного выше, другие спускаются, но в целом топ-10 остаётся тем же самым.\n",
    "\n",
    "Таким образом, вторая гипотеза подтвердилась лишь частично:\n",
    "* Пользователи слушают похожую музыку в начале недели и в конце.\n",
    "* Разница между Москвой и Петербургом не слишком выражена. В Москве чаще слушают русскую популярную музыку, в Петербурге — джаз.\n",
    "\n",
    "Однако пропуски в данных ставят под сомнение этот результат. В Москве их так много, что рейтинг топ-10 мог бы выглядеть иначе, если бы не утерянные  данные о жанрах."
   ]
  },
  {
   "cell_type": "markdown",
   "metadata": {
    "id": "JolODAqr_Zcu"
   },
   "source": [
    "### Жанровые предпочтения в Москве и Петербурге\n",
    "\n",
    "Гипотеза: Петербург — столица рэпа, музыку этого жанра там слушают чаще, чем в Москве.  А Москва — город контрастов, в котором, тем не менее, преобладает поп-музыка."
   ]
  },
  {
   "cell_type": "markdown",
   "metadata": {
    "id": "DlegSvaT_Zcu"
   },
   "source": [
    "Сгруппируйте таблицу `moscow_general` по жанру и посчитайте прослушивания треков каждого жанра методом `count()`. Затем отсортируйте результат в порядке убывания и сохраните его в таблице `moscow_genres`."
   ]
  },
  {
   "cell_type": "code",
   "execution_count": 166,
   "metadata": {
    "id": "r19lIPke_Zcu"
   },
   "outputs": [],
   "source": [
    "# одной строкой: группировка таблицы moscow_general по столбцу 'genre', \n",
    "# подсчёт числа значений 'genre' в этой группировке методом count(), \n",
    "# сортировка получившегося Series в порядке убывания и сохранение в moscow_genres\n",
    "\n",
    "moscow_genres = moscow_general.groupby('genre')['genre'].count().sort_values(ascending=False)"
   ]
  },
  {
   "cell_type": "markdown",
   "metadata": {
    "id": "6kMuomxTiIr8"
   },
   "source": [
    "Выведите на экран первые десять строк `moscow_genres`:"
   ]
  },
  {
   "cell_type": "code",
   "execution_count": 167,
   "metadata": {
    "id": "WhCSooF8_Zcv"
   },
   "outputs": [
    {
     "data": {
      "text/plain": [
       "genre\n",
       "pop            5892\n",
       "dance          4435\n",
       "rock           3965\n",
       "electronic     3786\n",
       "hiphop         2096\n",
       "classical      1616\n",
       "world          1432\n",
       "alternative    1379\n",
       "ruspop         1372\n",
       "rusrap         1161\n",
       "Name: genre, dtype: int64"
      ]
     },
     "execution_count": 167,
     "metadata": {},
     "output_type": "execute_result"
    }
   ],
   "source": [
    "# просмотр первых 10 строк moscow_genres\n",
    "\n",
    "moscow_genres.head(10)"
   ]
  },
  {
   "cell_type": "markdown",
   "metadata": {
    "id": "cnPG2vnN_Zcv"
   },
   "source": [
    "Теперь повторите то же и для Петербурга.\n",
    "\n",
    "Сгруппируйте таблицу `spb_general` по жанру. Посчитайте прослушивания треков каждого жанра. Результат отсортируйте в порядке убывания и сохраните в таблице `spb_genres`:\n"
   ]
  },
  {
   "cell_type": "code",
   "execution_count": 168,
   "metadata": {
    "id": "gluLIpE7_Zcv"
   },
   "outputs": [],
   "source": [
    "# одной строкой: группировка таблицы spb_general по столбцу 'genre', \n",
    "# подсчёт числа значений 'genre' в этой группировке методом count(), \n",
    "# сортировка получившегося Series в порядке убывания и сохранение в spb_genres\n",
    "\n",
    "spb_genres = spb_general.groupby('genre')['genre'].count().sort_values(ascending=False)"
   ]
  },
  {
   "cell_type": "markdown",
   "metadata": {
    "id": "5Doha_ODgyQ8"
   },
   "source": [
    "Выведите на экран первые десять строк `spb_genres`:"
   ]
  },
  {
   "cell_type": "code",
   "execution_count": 169,
   "metadata": {
    "id": "uaGJHjVU_Zcv"
   },
   "outputs": [
    {
     "data": {
      "text/plain": [
       "genre\n",
       "pop            2431\n",
       "dance          1932\n",
       "rock           1879\n",
       "electronic     1736\n",
       "hiphop          960\n",
       "alternative     649\n",
       "classical       646\n",
       "rusrap          564\n",
       "ruspop          538\n",
       "world           515\n",
       "Name: genre, dtype: int64"
      ]
     },
     "execution_count": 169,
     "metadata": {},
     "output_type": "execute_result"
    }
   ],
   "source": [
    "# просмотр первых 10 строк spb_genres\n",
    "\n",
    "spb_genres.head(10)"
   ]
  },
  {
   "cell_type": "markdown",
   "metadata": {
    "id": "RY51YJYu_Zcv"
   },
   "source": [
    "**Выводы**"
   ]
  },
  {
   "cell_type": "markdown",
   "metadata": {
    "id": "nVhnJEm__Zcv"
   },
   "source": [
    "Гипотеза частично подтвердилась:\n",
    "* Поп-музыка — самый популярный жанр в Москве, как и предполагала гипотеза. Более того, в топ-10 жанров встречается близкий жанр — русская популярная музыка.\n",
    "* Вопреки ожиданиям, рэп одинаково популярен в Москве и Петербурге. \n"
   ]
  },
  {
   "cell_type": "markdown",
   "metadata": {
    "id": "ykKQ0N65_Zcv"
   },
   "source": [
    "## Итоги исследования"
   ]
  },
  {
   "cell_type": "markdown",
   "metadata": {
    "id": "tjUwbHb3_Zcv"
   },
   "source": [
    "Вы проверили три гипотезы и установили:\n",
    "\n",
    "1. День недели по-разному влияет на активность пользователей в Москве и Петербурге. \n",
    "\n",
    "Первая гипотеза полностью подтвердилась.\n",
    "\n",
    "2. Музыкальные предпочтения не сильно меняются в течение недели — будь то Москва или Петербург. Небольшие различия заметны в начале недели, по понедельникам:\n",
    "* в Москве слушают музыку жанра “world”,\n",
    "* в Петербурге — джаз и классику.\n",
    "\n",
    "Таким образом, вторая гипотеза подтвердилась лишь отчасти. Этот результат мог оказаться иным, если бы не пропуски в данных.\n",
    "\n",
    "3. Во вкусах пользователей Москвы и Петербурга больше общего чем различий. Вопреки ожиданиям, предпочтения жанров в Петербурге напоминают московские.\n",
    "\n",
    "Третья гипотеза не подтвердилась. Если различия в предпочтениях и существуют, на основной массе пользователей они незаметны.\n",
    "\n",
    "**На практике исследования содержат проверки статистических гипотез.**\n",
    "Из данных одного сервиса не всегда можно сделать вывод о всех жителях города.\n",
    "Проверки статистических гипотез покажут, насколько они достоверны, исходя из имеющихся данных. \n",
    "С методами проверок гипотез вы ещё познакомитесь в следующих темах."
   ]
  }
 ],
 "metadata": {
  "ExecuteTimeLog": [
   {
    "duration": 774,
    "start_time": "2022-01-04T12:53:35.236Z"
   },
   {
    "duration": 4,
    "start_time": "2022-01-04T12:53:42.691Z"
   },
   {
    "duration": 211,
    "start_time": "2022-01-04T12:54:25.132Z"
   },
   {
    "duration": 194,
    "start_time": "2022-01-04T12:54:29.187Z"
   },
   {
    "duration": 26,
    "start_time": "2022-01-04T12:54:43.868Z"
   },
   {
    "duration": 35,
    "start_time": "2022-01-04T12:54:58.695Z"
   },
   {
    "duration": 6,
    "start_time": "2022-01-04T12:55:39.155Z"
   },
   {
    "duration": 27,
    "start_time": "2022-01-04T12:57:18.449Z"
   },
   {
    "duration": 6,
    "start_time": "2022-01-04T12:57:31.565Z"
   },
   {
    "duration": 31,
    "start_time": "2022-01-04T12:58:39.301Z"
   },
   {
    "duration": 22,
    "start_time": "2022-01-04T13:24:05.943Z"
   },
   {
    "duration": 30,
    "start_time": "2022-01-04T13:24:18.359Z"
   },
   {
    "duration": 30,
    "start_time": "2022-01-04T13:26:32.707Z"
   },
   {
    "duration": 3,
    "start_time": "2022-01-04T13:26:34.420Z"
   },
   {
    "duration": 99,
    "start_time": "2022-01-04T13:26:56.368Z"
   },
   {
    "duration": 414,
    "start_time": "2022-01-04T13:28:43.912Z"
   },
   {
    "duration": 315,
    "start_time": "2022-01-04T13:28:51.406Z"
   },
   {
    "duration": 175,
    "start_time": "2022-01-04T13:29:01.057Z"
   },
   {
    "duration": 142,
    "start_time": "2022-01-04T13:29:32.242Z"
   },
   {
    "duration": 106,
    "start_time": "2022-01-04T13:29:37.228Z"
   },
   {
    "duration": 30,
    "start_time": "2022-01-04T13:30:20.105Z"
   },
   {
    "duration": 95,
    "start_time": "2022-01-04T13:30:22.453Z"
   },
   {
    "duration": 4,
    "start_time": "2022-01-04T13:30:29.998Z"
   },
   {
    "duration": 282,
    "start_time": "2022-01-04T13:30:30.005Z"
   },
   {
    "duration": 22,
    "start_time": "2022-01-04T13:30:30.291Z"
   },
   {
    "duration": 67,
    "start_time": "2022-01-04T13:30:30.316Z"
   },
   {
    "duration": 12,
    "start_time": "2022-01-04T13:30:30.386Z"
   },
   {
    "duration": 40,
    "start_time": "2022-01-04T13:30:30.401Z"
   },
   {
    "duration": 6,
    "start_time": "2022-01-04T13:30:30.446Z"
   },
   {
    "duration": 45,
    "start_time": "2022-01-04T13:30:30.469Z"
   },
   {
    "duration": 51,
    "start_time": "2022-01-04T13:30:30.516Z"
   },
   {
    "duration": 31,
    "start_time": "2022-01-04T13:30:30.570Z"
   },
   {
    "duration": 114,
    "start_time": "2022-01-04T13:30:30.604Z"
   },
   {
    "duration": 111,
    "start_time": "2022-01-04T13:30:30.721Z"
   },
   {
    "duration": 3,
    "start_time": "2022-01-04T13:30:30.834Z"
   },
   {
    "duration": 17,
    "start_time": "2022-01-04T13:30:30.840Z"
   },
   {
    "duration": 13,
    "start_time": "2022-01-04T13:30:30.860Z"
   },
   {
    "duration": 15,
    "start_time": "2022-01-04T13:30:30.875Z"
   },
   {
    "duration": 12,
    "start_time": "2022-01-04T13:30:30.893Z"
   },
   {
    "duration": 17,
    "start_time": "2022-01-04T13:30:30.908Z"
   },
   {
    "duration": 12,
    "start_time": "2022-01-04T13:30:30.930Z"
   },
   {
    "duration": 43,
    "start_time": "2022-01-04T13:30:30.945Z"
   },
   {
    "duration": 49,
    "start_time": "2022-01-04T13:30:30.990Z"
   },
   {
    "duration": 14,
    "start_time": "2022-01-04T13:30:31.042Z"
   },
   {
    "duration": 31,
    "start_time": "2022-01-04T13:30:31.059Z"
   },
   {
    "duration": 22,
    "start_time": "2022-01-04T13:30:31.093Z"
   },
   {
    "duration": 14,
    "start_time": "2022-01-04T13:30:31.117Z"
   },
   {
    "duration": 12,
    "start_time": "2022-01-04T13:30:31.134Z"
   },
   {
    "duration": 11,
    "start_time": "2022-01-04T13:30:31.149Z"
   },
   {
    "duration": 10,
    "start_time": "2022-01-04T13:30:31.163Z"
   },
   {
    "duration": 12,
    "start_time": "2022-01-04T13:30:31.175Z"
   },
   {
    "duration": 17,
    "start_time": "2022-01-04T13:30:31.190Z"
   },
   {
    "duration": 36,
    "start_time": "2022-01-04T13:30:31.209Z"
   },
   {
    "duration": 19,
    "start_time": "2022-01-04T13:30:31.248Z"
   },
   {
    "duration": 13,
    "start_time": "2022-01-04T13:30:31.269Z"
   },
   {
    "duration": 9,
    "start_time": "2022-01-04T13:30:31.284Z"
   },
   {
    "duration": 13,
    "start_time": "2022-01-04T13:30:31.296Z"
   },
   {
    "duration": 26,
    "start_time": "2022-01-04T13:30:31.311Z"
   },
   {
    "duration": 10,
    "start_time": "2022-01-04T13:30:31.339Z"
   },
   {
    "duration": 10,
    "start_time": "2022-01-04T13:30:31.352Z"
   },
   {
    "duration": 120,
    "start_time": "2022-01-04T13:31:02.829Z"
   },
   {
    "duration": 11,
    "start_time": "2022-01-04T13:32:05.418Z"
   },
   {
    "duration": 317,
    "start_time": "2022-01-04T13:41:54.719Z"
   },
   {
    "duration": 309,
    "start_time": "2022-01-04T13:42:02.880Z"
   },
   {
    "duration": 315,
    "start_time": "2022-01-04T13:43:11.850Z"
   },
   {
    "duration": 4,
    "start_time": "2022-01-04T13:44:23.717Z"
   },
   {
    "duration": 14,
    "start_time": "2022-01-04T13:44:25.104Z"
   },
   {
    "duration": 8,
    "start_time": "2022-01-04T13:44:41.227Z"
   },
   {
    "duration": 4,
    "start_time": "2022-01-04T13:45:09.865Z"
   },
   {
    "duration": 22,
    "start_time": "2022-01-04T13:45:11.032Z"
   },
   {
    "duration": 8,
    "start_time": "2022-01-04T13:45:12.779Z"
   },
   {
    "duration": 4,
    "start_time": "2022-01-04T13:45:23.561Z"
   },
   {
    "duration": 220,
    "start_time": "2022-01-04T13:45:23.567Z"
   },
   {
    "duration": 15,
    "start_time": "2022-01-04T13:45:23.790Z"
   },
   {
    "duration": 40,
    "start_time": "2022-01-04T13:45:23.807Z"
   },
   {
    "duration": 5,
    "start_time": "2022-01-04T13:45:23.868Z"
   },
   {
    "duration": 29,
    "start_time": "2022-01-04T13:45:23.875Z"
   },
   {
    "duration": 6,
    "start_time": "2022-01-04T13:45:23.907Z"
   },
   {
    "duration": 65,
    "start_time": "2022-01-04T13:45:23.916Z"
   },
   {
    "duration": 23,
    "start_time": "2022-01-04T13:45:23.984Z"
   },
   {
    "duration": 30,
    "start_time": "2022-01-04T13:45:24.009Z"
   },
   {
    "duration": 84,
    "start_time": "2022-01-04T13:45:24.066Z"
   },
   {
    "duration": 104,
    "start_time": "2022-01-04T13:45:24.152Z"
   },
   {
    "duration": 77,
    "start_time": "2022-01-04T13:45:24.267Z"
   },
   {
    "duration": 22,
    "start_time": "2022-01-04T13:45:24.346Z"
   },
   {
    "duration": 9,
    "start_time": "2022-01-04T13:45:24.370Z"
   },
   {
    "duration": 24,
    "start_time": "2022-01-04T13:45:24.382Z"
   },
   {
    "duration": 8,
    "start_time": "2022-01-04T13:45:24.409Z"
   },
   {
    "duration": 6,
    "start_time": "2022-01-04T13:45:24.419Z"
   },
   {
    "duration": 38,
    "start_time": "2022-01-04T13:45:24.430Z"
   },
   {
    "duration": 6,
    "start_time": "2022-01-04T13:45:24.471Z"
   },
   {
    "duration": 21,
    "start_time": "2022-01-04T13:45:24.479Z"
   },
   {
    "duration": 8,
    "start_time": "2022-01-04T13:45:24.502Z"
   },
   {
    "duration": 12,
    "start_time": "2022-01-04T13:45:24.513Z"
   },
   {
    "duration": 6,
    "start_time": "2022-01-04T13:45:24.528Z"
   },
   {
    "duration": 12,
    "start_time": "2022-01-04T13:45:24.537Z"
   },
   {
    "duration": 17,
    "start_time": "2022-01-04T13:45:24.551Z"
   },
   {
    "duration": 8,
    "start_time": "2022-01-04T13:45:24.570Z"
   },
   {
    "duration": 9,
    "start_time": "2022-01-04T13:45:24.581Z"
   },
   {
    "duration": 7,
    "start_time": "2022-01-04T13:45:24.592Z"
   },
   {
    "duration": 7,
    "start_time": "2022-01-04T13:45:24.602Z"
   },
   {
    "duration": 12,
    "start_time": "2022-01-04T13:45:24.612Z"
   },
   {
    "duration": 9,
    "start_time": "2022-01-04T13:45:24.626Z"
   },
   {
    "duration": 11,
    "start_time": "2022-01-04T13:45:24.638Z"
   },
   {
    "duration": 16,
    "start_time": "2022-01-04T13:45:24.651Z"
   },
   {
    "duration": 13,
    "start_time": "2022-01-04T13:45:24.669Z"
   },
   {
    "duration": 8,
    "start_time": "2022-01-04T13:45:24.685Z"
   },
   {
    "duration": 13,
    "start_time": "2022-01-04T13:45:24.696Z"
   },
   {
    "duration": 9,
    "start_time": "2022-01-04T13:45:24.712Z"
   },
   {
    "duration": 5,
    "start_time": "2022-01-04T13:53:15.559Z"
   },
   {
    "duration": 20,
    "start_time": "2022-01-04T13:53:16.363Z"
   },
   {
    "duration": 12,
    "start_time": "2022-01-04T13:53:17.276Z"
   },
   {
    "duration": 3,
    "start_time": "2022-01-04T13:53:25.016Z"
   },
   {
    "duration": 241,
    "start_time": "2022-01-04T13:53:25.026Z"
   },
   {
    "duration": 17,
    "start_time": "2022-01-04T13:53:25.270Z"
   },
   {
    "duration": 34,
    "start_time": "2022-01-04T13:53:25.291Z"
   },
   {
    "duration": 41,
    "start_time": "2022-01-04T13:53:25.328Z"
   },
   {
    "duration": 28,
    "start_time": "2022-01-04T13:53:25.372Z"
   },
   {
    "duration": 9,
    "start_time": "2022-01-04T13:53:25.403Z"
   },
   {
    "duration": 84,
    "start_time": "2022-01-04T13:53:25.416Z"
   },
   {
    "duration": 24,
    "start_time": "2022-01-04T13:53:25.504Z"
   },
   {
    "duration": 48,
    "start_time": "2022-01-04T13:53:25.531Z"
   },
   {
    "duration": 119,
    "start_time": "2022-01-04T13:53:25.581Z"
   },
   {
    "duration": 118,
    "start_time": "2022-01-04T13:53:25.703Z"
   },
   {
    "duration": 95,
    "start_time": "2022-01-04T13:53:25.823Z"
   },
   {
    "duration": 12,
    "start_time": "2022-01-04T13:53:25.921Z"
   },
   {
    "duration": 9,
    "start_time": "2022-01-04T13:53:25.935Z"
   },
   {
    "duration": 36,
    "start_time": "2022-01-04T13:53:25.947Z"
   },
   {
    "duration": 12,
    "start_time": "2022-01-04T13:53:25.986Z"
   },
   {
    "duration": 4,
    "start_time": "2022-01-04T13:53:26.000Z"
   },
   {
    "duration": 6,
    "start_time": "2022-01-04T13:53:26.006Z"
   },
   {
    "duration": 6,
    "start_time": "2022-01-04T13:53:26.014Z"
   },
   {
    "duration": 3,
    "start_time": "2022-01-04T13:53:26.068Z"
   },
   {
    "duration": 7,
    "start_time": "2022-01-04T13:53:26.073Z"
   },
   {
    "duration": 8,
    "start_time": "2022-01-04T13:53:26.083Z"
   },
   {
    "duration": 6,
    "start_time": "2022-01-04T13:53:26.096Z"
   },
   {
    "duration": 7,
    "start_time": "2022-01-04T13:53:26.104Z"
   },
   {
    "duration": 53,
    "start_time": "2022-01-04T13:53:26.114Z"
   },
   {
    "duration": 3,
    "start_time": "2022-01-04T13:53:26.170Z"
   },
   {
    "duration": 7,
    "start_time": "2022-01-04T13:53:26.175Z"
   },
   {
    "duration": 5,
    "start_time": "2022-01-04T13:53:26.186Z"
   },
   {
    "duration": 9,
    "start_time": "2022-01-04T13:53:26.194Z"
   },
   {
    "duration": 7,
    "start_time": "2022-01-04T13:53:26.207Z"
   },
   {
    "duration": 8,
    "start_time": "2022-01-04T13:53:26.217Z"
   },
   {
    "duration": 42,
    "start_time": "2022-01-04T13:53:26.228Z"
   },
   {
    "duration": 4,
    "start_time": "2022-01-04T13:53:26.273Z"
   },
   {
    "duration": 6,
    "start_time": "2022-01-04T13:53:26.280Z"
   },
   {
    "duration": 6,
    "start_time": "2022-01-04T13:53:26.288Z"
   },
   {
    "duration": 9,
    "start_time": "2022-01-04T13:53:26.296Z"
   },
   {
    "duration": 4,
    "start_time": "2022-01-04T13:53:26.308Z"
   },
   {
    "duration": 30,
    "start_time": "2022-01-04T14:15:17.977Z"
   },
   {
    "duration": 38,
    "start_time": "2022-01-04T14:16:06.540Z"
   },
   {
    "duration": 17,
    "start_time": "2022-01-04T14:16:58.556Z"
   },
   {
    "duration": 18,
    "start_time": "2022-01-04T14:17:10.299Z"
   },
   {
    "duration": 338,
    "start_time": "2022-01-04T14:17:19.543Z"
   },
   {
    "duration": 339,
    "start_time": "2022-01-04T14:19:05.262Z"
   },
   {
    "duration": 18,
    "start_time": "2022-01-04T14:19:17.506Z"
   },
   {
    "duration": 16,
    "start_time": "2022-01-04T14:19:22.628Z"
   },
   {
    "duration": 16,
    "start_time": "2022-01-04T14:19:36.580Z"
   },
   {
    "duration": 3,
    "start_time": "2022-01-04T14:20:24.287Z"
   },
   {
    "duration": 257,
    "start_time": "2022-01-04T14:20:24.294Z"
   },
   {
    "duration": 23,
    "start_time": "2022-01-04T14:20:24.553Z"
   },
   {
    "duration": 52,
    "start_time": "2022-01-04T14:20:24.580Z"
   },
   {
    "duration": 5,
    "start_time": "2022-01-04T14:20:24.635Z"
   },
   {
    "duration": 25,
    "start_time": "2022-01-04T14:20:24.667Z"
   },
   {
    "duration": 5,
    "start_time": "2022-01-04T14:20:24.695Z"
   },
   {
    "duration": 66,
    "start_time": "2022-01-04T14:20:24.702Z"
   },
   {
    "duration": 24,
    "start_time": "2022-01-04T14:20:24.772Z"
   },
   {
    "duration": 33,
    "start_time": "2022-01-04T14:20:24.798Z"
   },
   {
    "duration": 109,
    "start_time": "2022-01-04T14:20:24.834Z"
   },
   {
    "duration": 109,
    "start_time": "2022-01-04T14:20:24.945Z"
   },
   {
    "duration": 89,
    "start_time": "2022-01-04T14:20:25.056Z"
   },
   {
    "duration": 23,
    "start_time": "2022-01-04T14:20:25.148Z"
   },
   {
    "duration": 5,
    "start_time": "2022-01-04T14:20:25.174Z"
   },
   {
    "duration": 22,
    "start_time": "2022-01-04T14:20:25.182Z"
   },
   {
    "duration": 12,
    "start_time": "2022-01-04T14:20:25.207Z"
   },
   {
    "duration": 55,
    "start_time": "2022-01-04T14:20:25.224Z"
   },
   {
    "duration": 3,
    "start_time": "2022-01-04T14:20:25.281Z"
   },
   {
    "duration": 5,
    "start_time": "2022-01-04T14:20:25.287Z"
   },
   {
    "duration": 9,
    "start_time": "2022-01-04T14:20:25.295Z"
   },
   {
    "duration": 7,
    "start_time": "2022-01-04T14:20:25.306Z"
   },
   {
    "duration": 7,
    "start_time": "2022-01-04T14:20:25.315Z"
   },
   {
    "duration": 3,
    "start_time": "2022-01-04T14:20:25.367Z"
   },
   {
    "duration": 5,
    "start_time": "2022-01-04T14:20:25.373Z"
   },
   {
    "duration": 11,
    "start_time": "2022-01-04T14:20:25.380Z"
   },
   {
    "duration": 6,
    "start_time": "2022-01-04T14:20:25.393Z"
   },
   {
    "duration": 9,
    "start_time": "2022-01-04T14:20:25.401Z"
   },
   {
    "duration": 6,
    "start_time": "2022-01-04T14:20:25.413Z"
   },
   {
    "duration": 5,
    "start_time": "2022-01-04T14:20:25.422Z"
   },
   {
    "duration": 37,
    "start_time": "2022-01-04T14:20:25.430Z"
   },
   {
    "duration": 7,
    "start_time": "2022-01-04T14:20:25.470Z"
   },
   {
    "duration": 19,
    "start_time": "2022-01-04T14:20:25.480Z"
   },
   {
    "duration": 7,
    "start_time": "2022-01-04T14:20:25.502Z"
   },
   {
    "duration": 10,
    "start_time": "2022-01-04T14:20:25.512Z"
   },
   {
    "duration": 9,
    "start_time": "2022-01-04T14:20:25.524Z"
   },
   {
    "duration": 7,
    "start_time": "2022-01-04T14:20:25.536Z"
   },
   {
    "duration": 5,
    "start_time": "2022-01-04T14:20:25.546Z"
   },
   {
    "duration": 16,
    "start_time": "2022-01-04T14:24:57.610Z"
   },
   {
    "duration": 6,
    "start_time": "2022-01-04T14:25:14.067Z"
   },
   {
    "duration": 5,
    "start_time": "2022-01-04T14:25:28.140Z"
   },
   {
    "duration": 6,
    "start_time": "2022-01-04T14:25:33.083Z"
   },
   {
    "duration": 4,
    "start_time": "2022-01-04T14:25:54.418Z"
   },
   {
    "duration": 7,
    "start_time": "2022-01-04T14:25:59.886Z"
   },
   {
    "duration": 18,
    "start_time": "2022-01-04T14:27:28.639Z"
   },
   {
    "duration": 17,
    "start_time": "2022-01-04T14:27:44.742Z"
   },
   {
    "duration": 131,
    "start_time": "2022-01-04T14:49:53.170Z"
   },
   {
    "duration": 105,
    "start_time": "2022-01-04T14:49:59.756Z"
   },
   {
    "duration": 5,
    "start_time": "2022-01-04T14:50:14.936Z"
   },
   {
    "duration": 21,
    "start_time": "2022-01-04T14:53:16.550Z"
   },
   {
    "duration": 19,
    "start_time": "2022-01-04T14:53:17.627Z"
   },
   {
    "duration": 22,
    "start_time": "2022-01-04T14:53:18.048Z"
   },
   {
    "duration": 18,
    "start_time": "2022-01-04T14:53:18.430Z"
   },
   {
    "duration": 21,
    "start_time": "2022-01-04T14:53:18.834Z"
   },
   {
    "duration": 18,
    "start_time": "2022-01-04T14:53:19.266Z"
   },
   {
    "duration": 93,
    "start_time": "2022-01-04T15:15:21.198Z"
   },
   {
    "duration": 317,
    "start_time": "2022-01-04T15:17:13.750Z"
   },
   {
    "duration": 331,
    "start_time": "2022-01-04T15:45:28.144Z"
   },
   {
    "duration": 338,
    "start_time": "2022-01-04T15:46:03.794Z"
   },
   {
    "duration": 13,
    "start_time": "2022-01-04T15:53:48.570Z"
   },
   {
    "duration": 13,
    "start_time": "2022-01-04T15:54:23.863Z"
   },
   {
    "duration": 13,
    "start_time": "2022-01-04T15:54:37.715Z"
   },
   {
    "duration": 12,
    "start_time": "2022-01-04T15:54:42.924Z"
   },
   {
    "duration": 12,
    "start_time": "2022-01-04T15:54:49.927Z"
   },
   {
    "duration": 808,
    "start_time": "2022-01-08T17:36:04.451Z"
   },
   {
    "duration": 191,
    "start_time": "2022-01-08T17:36:05.261Z"
   },
   {
    "duration": 26,
    "start_time": "2022-01-08T17:36:05.455Z"
   },
   {
    "duration": 32,
    "start_time": "2022-01-08T17:36:05.484Z"
   },
   {
    "duration": 5,
    "start_time": "2022-01-08T17:36:05.519Z"
   },
   {
    "duration": 59,
    "start_time": "2022-01-08T17:36:05.526Z"
   },
   {
    "duration": 8,
    "start_time": "2022-01-08T17:36:05.588Z"
   },
   {
    "duration": 65,
    "start_time": "2022-01-08T17:36:05.600Z"
   },
   {
    "duration": 25,
    "start_time": "2022-01-08T17:36:05.668Z"
   },
   {
    "duration": 30,
    "start_time": "2022-01-08T17:36:05.696Z"
   },
   {
    "duration": 110,
    "start_time": "2022-01-08T17:36:05.729Z"
   },
   {
    "duration": 126,
    "start_time": "2022-01-08T17:36:05.842Z"
   },
   {
    "duration": 89,
    "start_time": "2022-01-08T17:36:05.971Z"
   },
   {
    "duration": 8,
    "start_time": "2022-01-08T17:36:06.062Z"
   },
   {
    "duration": 4,
    "start_time": "2022-01-08T17:36:06.072Z"
   },
   {
    "duration": 19,
    "start_time": "2022-01-08T17:36:06.078Z"
   },
   {
    "duration": 8,
    "start_time": "2022-01-08T17:36:06.099Z"
   },
   {
    "duration": 54,
    "start_time": "2022-01-08T17:36:06.109Z"
   },
   {
    "duration": 15,
    "start_time": "2022-01-08T17:36:06.165Z"
   },
   {
    "duration": 5,
    "start_time": "2022-01-08T17:36:06.182Z"
   },
   {
    "duration": 1662,
    "start_time": "2022-01-08T17:36:06.190Z"
   },
   {
    "duration": -23264,
    "start_time": "2022-01-08T17:36:31.119Z"
   },
   {
    "duration": -23269,
    "start_time": "2022-01-08T17:36:31.126Z"
   },
   {
    "duration": -23275,
    "start_time": "2022-01-08T17:36:31.133Z"
   },
   {
    "duration": -23283,
    "start_time": "2022-01-08T17:36:31.142Z"
   },
   {
    "duration": -23288,
    "start_time": "2022-01-08T17:36:31.149Z"
   },
   {
    "duration": -23295,
    "start_time": "2022-01-08T17:36:31.157Z"
   },
   {
    "duration": -23300,
    "start_time": "2022-01-08T17:36:31.163Z"
   },
   {
    "duration": -23308,
    "start_time": "2022-01-08T17:36:31.172Z"
   },
   {
    "duration": -23312,
    "start_time": "2022-01-08T17:36:31.178Z"
   },
   {
    "duration": -23318,
    "start_time": "2022-01-08T17:36:31.185Z"
   },
   {
    "duration": -23325,
    "start_time": "2022-01-08T17:36:31.193Z"
   },
   {
    "duration": -23346,
    "start_time": "2022-01-08T17:36:31.216Z"
   },
   {
    "duration": -23352,
    "start_time": "2022-01-08T17:36:31.223Z"
   },
   {
    "duration": -23358,
    "start_time": "2022-01-08T17:36:31.231Z"
   },
   {
    "duration": -23363,
    "start_time": "2022-01-08T17:36:31.237Z"
   },
   {
    "duration": -23368,
    "start_time": "2022-01-08T17:36:31.244Z"
   },
   {
    "duration": -23373,
    "start_time": "2022-01-08T17:36:31.250Z"
   },
   {
    "duration": -23325,
    "start_time": "2022-01-08T17:50:49.466Z"
   },
   {
    "duration": 4,
    "start_time": "2022-01-08T17:50:39.008Z"
   },
   {
    "duration": 211,
    "start_time": "2022-01-08T17:50:39.018Z"
   },
   {
    "duration": 32,
    "start_time": "2022-01-08T17:50:39.232Z"
   },
   {
    "duration": 35,
    "start_time": "2022-01-08T17:50:39.268Z"
   },
   {
    "duration": 5,
    "start_time": "2022-01-08T17:50:39.305Z"
   },
   {
    "duration": 51,
    "start_time": "2022-01-08T17:50:39.312Z"
   },
   {
    "duration": 6,
    "start_time": "2022-01-08T17:50:39.366Z"
   },
   {
    "duration": 33,
    "start_time": "2022-01-08T17:50:39.375Z"
   },
   {
    "duration": 53,
    "start_time": "2022-01-08T17:50:39.414Z"
   },
   {
    "duration": 30,
    "start_time": "2022-01-08T17:50:39.471Z"
   },
   {
    "duration": 106,
    "start_time": "2022-01-08T17:50:39.504Z"
   },
   {
    "duration": 98,
    "start_time": "2022-01-08T17:50:39.612Z"
   },
   {
    "duration": 82,
    "start_time": "2022-01-08T17:50:39.713Z"
   },
   {
    "duration": 8,
    "start_time": "2022-01-08T17:50:39.798Z"
   },
   {
    "duration": 3,
    "start_time": "2022-01-08T17:50:39.809Z"
   },
   {
    "duration": 17,
    "start_time": "2022-01-08T17:50:39.815Z"
   },
   {
    "duration": 29,
    "start_time": "2022-01-08T17:50:39.834Z"
   },
   {
    "duration": 16,
    "start_time": "2022-01-08T17:50:39.865Z"
   },
   {
    "duration": 15,
    "start_time": "2022-01-08T17:50:39.883Z"
   },
   {
    "duration": 5,
    "start_time": "2022-01-08T17:50:39.900Z"
   },
   {
    "duration": 876,
    "start_time": "2022-01-08T17:50:39.907Z"
   },
   {
    "duration": -23235,
    "start_time": "2022-01-08T17:51:04.021Z"
   },
   {
    "duration": -23243,
    "start_time": "2022-01-08T17:51:04.031Z"
   },
   {
    "duration": -23247,
    "start_time": "2022-01-08T17:51:04.037Z"
   },
   {
    "duration": -23260,
    "start_time": "2022-01-08T17:51:04.051Z"
   },
   {
    "duration": -23264,
    "start_time": "2022-01-08T17:51:04.057Z"
   },
   {
    "duration": -23268,
    "start_time": "2022-01-08T17:51:04.063Z"
   },
   {
    "duration": -23272,
    "start_time": "2022-01-08T17:51:04.068Z"
   },
   {
    "duration": -23274,
    "start_time": "2022-01-08T17:51:04.072Z"
   },
   {
    "duration": -23277,
    "start_time": "2022-01-08T17:51:04.076Z"
   },
   {
    "duration": -23280,
    "start_time": "2022-01-08T17:51:04.081Z"
   },
   {
    "duration": -23284,
    "start_time": "2022-01-08T17:51:04.086Z"
   },
   {
    "duration": -23288,
    "start_time": "2022-01-08T17:51:04.092Z"
   },
   {
    "duration": -23292,
    "start_time": "2022-01-08T17:51:04.097Z"
   },
   {
    "duration": -23293,
    "start_time": "2022-01-08T17:51:04.100Z"
   },
   {
    "duration": -23295,
    "start_time": "2022-01-08T17:51:04.104Z"
   },
   {
    "duration": -23299,
    "start_time": "2022-01-08T17:51:04.110Z"
   },
   {
    "duration": -23302,
    "start_time": "2022-01-08T17:51:04.114Z"
   },
   {
    "duration": 23,
    "start_time": "2022-01-08T17:53:20.821Z"
   },
   {
    "duration": 30,
    "start_time": "2022-01-08T17:53:20.847Z"
   },
   {
    "duration": 33,
    "start_time": "2022-01-08T17:53:20.880Z"
   },
   {
    "duration": 44,
    "start_time": "2022-01-08T17:53:20.916Z"
   },
   {
    "duration": 21,
    "start_time": "2022-01-08T17:53:20.963Z"
   },
   {
    "duration": 21,
    "start_time": "2022-01-08T17:53:20.987Z"
   },
   {
    "duration": 50,
    "start_time": "2022-01-08T17:53:21.011Z"
   },
   {
    "duration": 8060,
    "start_time": "2022-01-08T17:53:21.065Z"
   },
   {
    "duration": -23275,
    "start_time": "2022-01-08T17:53:52.403Z"
   },
   {
    "duration": -23281,
    "start_time": "2022-01-08T17:53:52.411Z"
   },
   {
    "duration": -23287,
    "start_time": "2022-01-08T17:53:52.419Z"
   },
   {
    "duration": -23291,
    "start_time": "2022-01-08T17:53:52.424Z"
   },
   {
    "duration": -23296,
    "start_time": "2022-01-08T17:53:52.431Z"
   },
   {
    "duration": -23299,
    "start_time": "2022-01-08T17:53:52.435Z"
   },
   {
    "duration": -23305,
    "start_time": "2022-01-08T17:53:52.442Z"
   },
   {
    "duration": -23310,
    "start_time": "2022-01-08T17:53:52.449Z"
   },
   {
    "duration": -23315,
    "start_time": "2022-01-08T17:53:52.455Z"
   },
   {
    "duration": -23320,
    "start_time": "2022-01-08T17:53:52.462Z"
   },
   {
    "duration": 9374,
    "start_time": "2022-01-08T17:53:55.212Z"
   },
   {
    "duration": 22,
    "start_time": "2022-01-08T17:54:23.847Z"
   },
   {
    "duration": 31,
    "start_time": "2022-01-08T17:54:32.971Z"
   },
   {
    "duration": 14,
    "start_time": "2022-01-08T18:14:28.923Z"
   },
   {
    "duration": 138,
    "start_time": "2022-01-08T19:27:19.040Z"
   },
   {
    "duration": 4,
    "start_time": "2022-01-08T19:27:29.353Z"
   },
   {
    "duration": 5,
    "start_time": "2022-01-08T19:59:26.699Z"
   },
   {
    "duration": 975,
    "start_time": "2022-01-08T20:00:05.549Z"
   },
   {
    "duration": 5,
    "start_time": "2022-01-08T20:00:39.030Z"
   },
   {
    "duration": 628,
    "start_time": "2022-01-08T20:00:39.909Z"
   },
   {
    "duration": 339,
    "start_time": "2022-01-08T20:02:26.885Z"
   },
   {
    "duration": 5,
    "start_time": "2022-01-08T20:05:08.050Z"
   },
   {
    "duration": 21,
    "start_time": "2022-01-08T20:05:08.910Z"
   },
   {
    "duration": 448,
    "start_time": "2022-01-08T20:05:11.182Z"
   },
   {
    "duration": 5,
    "start_time": "2022-01-08T20:05:56.680Z"
   },
   {
    "duration": 222,
    "start_time": "2022-01-08T20:05:56.691Z"
   },
   {
    "duration": 14,
    "start_time": "2022-01-08T20:05:56.916Z"
   },
   {
    "duration": 47,
    "start_time": "2022-01-08T20:05:56.933Z"
   },
   {
    "duration": 5,
    "start_time": "2022-01-08T20:05:56.983Z"
   },
   {
    "duration": 24,
    "start_time": "2022-01-08T20:05:56.991Z"
   },
   {
    "duration": 6,
    "start_time": "2022-01-08T20:05:57.017Z"
   },
   {
    "duration": 57,
    "start_time": "2022-01-08T20:05:57.025Z"
   },
   {
    "duration": 22,
    "start_time": "2022-01-08T20:05:57.086Z"
   },
   {
    "duration": 59,
    "start_time": "2022-01-08T20:05:57.111Z"
   },
   {
    "duration": 97,
    "start_time": "2022-01-08T20:05:57.173Z"
   },
   {
    "duration": 104,
    "start_time": "2022-01-08T20:05:57.273Z"
   },
   {
    "duration": 87,
    "start_time": "2022-01-08T20:05:57.379Z"
   },
   {
    "duration": 9,
    "start_time": "2022-01-08T20:05:57.468Z"
   },
   {
    "duration": 5,
    "start_time": "2022-01-08T20:05:57.479Z"
   },
   {
    "duration": 15,
    "start_time": "2022-01-08T20:05:57.486Z"
   },
   {
    "duration": 8,
    "start_time": "2022-01-08T20:05:57.503Z"
   },
   {
    "duration": 60,
    "start_time": "2022-01-08T20:05:57.513Z"
   },
   {
    "duration": 15,
    "start_time": "2022-01-08T20:05:57.575Z"
   },
   {
    "duration": 5,
    "start_time": "2022-01-08T20:05:57.592Z"
   },
   {
    "duration": 26,
    "start_time": "2022-01-08T20:05:57.599Z"
   },
   {
    "duration": 47,
    "start_time": "2022-01-08T20:05:57.627Z"
   },
   {
    "duration": 17,
    "start_time": "2022-01-08T20:05:57.677Z"
   },
   {
    "duration": 20,
    "start_time": "2022-01-08T20:05:57.699Z"
   },
   {
    "duration": 51,
    "start_time": "2022-01-08T20:05:57.721Z"
   },
   {
    "duration": 18,
    "start_time": "2022-01-08T20:05:57.775Z"
   },
   {
    "duration": 12,
    "start_time": "2022-01-08T20:05:57.795Z"
   },
   {
    "duration": 15,
    "start_time": "2022-01-08T20:05:57.809Z"
   },
   {
    "duration": 44,
    "start_time": "2022-01-08T20:05:57.826Z"
   },
   {
    "duration": 7,
    "start_time": "2022-01-08T20:05:57.874Z"
   },
   {
    "duration": 29,
    "start_time": "2022-01-08T20:05:57.884Z"
   },
   {
    "duration": 48,
    "start_time": "2022-01-08T20:05:57.916Z"
   },
   {
    "duration": 3,
    "start_time": "2022-01-08T20:05:57.966Z"
   },
   {
    "duration": 5,
    "start_time": "2022-01-08T20:05:57.971Z"
   },
   {
    "duration": 4,
    "start_time": "2022-01-08T20:05:57.978Z"
   },
   {
    "duration": 5,
    "start_time": "2022-01-08T20:05:57.985Z"
   },
   {
    "duration": 5,
    "start_time": "2022-01-08T20:05:57.992Z"
   },
   {
    "duration": 6,
    "start_time": "2022-01-08T20:05:57.999Z"
   },
   {
    "duration": 24,
    "start_time": "2022-01-08T20:06:48.323Z"
   },
   {
    "duration": 18,
    "start_time": "2022-01-08T20:06:50.590Z"
   },
   {
    "duration": 13,
    "start_time": "2022-01-08T20:13:11.177Z"
   },
   {
    "duration": 16,
    "start_time": "2022-01-08T20:13:16.392Z"
   },
   {
    "duration": 12,
    "start_time": "2022-01-08T20:13:44.927Z"
   },
   {
    "duration": 11,
    "start_time": "2022-01-08T20:13:50.827Z"
   },
   {
    "duration": 6,
    "start_time": "2022-01-08T20:14:05.841Z"
   },
   {
    "duration": 8,
    "start_time": "2022-01-08T20:14:35.640Z"
   },
   {
    "duration": 3,
    "start_time": "2022-01-08T20:14:36.888Z"
   },
   {
    "duration": 7,
    "start_time": "2022-01-08T20:14:55.780Z"
   },
   {
    "duration": 4,
    "start_time": "2022-01-08T20:15:12.737Z"
   },
   {
    "duration": 219,
    "start_time": "2022-01-08T20:15:12.744Z"
   },
   {
    "duration": 16,
    "start_time": "2022-01-08T20:15:12.966Z"
   },
   {
    "duration": 35,
    "start_time": "2022-01-08T20:15:12.985Z"
   },
   {
    "duration": 37,
    "start_time": "2022-01-08T20:15:13.022Z"
   },
   {
    "duration": 20,
    "start_time": "2022-01-08T20:15:13.062Z"
   },
   {
    "duration": 7,
    "start_time": "2022-01-08T20:15:13.086Z"
   },
   {
    "duration": 70,
    "start_time": "2022-01-08T20:15:13.097Z"
   },
   {
    "duration": 24,
    "start_time": "2022-01-08T20:15:13.170Z"
   },
   {
    "duration": 29,
    "start_time": "2022-01-08T20:15:13.196Z"
   },
   {
    "duration": 107,
    "start_time": "2022-01-08T20:15:13.228Z"
   },
   {
    "duration": 102,
    "start_time": "2022-01-08T20:15:13.337Z"
   },
   {
    "duration": 87,
    "start_time": "2022-01-08T20:15:13.441Z"
   },
   {
    "duration": 8,
    "start_time": "2022-01-08T20:15:13.531Z"
   },
   {
    "duration": 21,
    "start_time": "2022-01-08T20:15:13.541Z"
   },
   {
    "duration": 14,
    "start_time": "2022-01-08T20:15:13.565Z"
   },
   {
    "duration": 7,
    "start_time": "2022-01-08T20:15:13.582Z"
   },
   {
    "duration": 16,
    "start_time": "2022-01-08T20:15:13.592Z"
   },
   {
    "duration": 56,
    "start_time": "2022-01-08T20:15:13.612Z"
   },
   {
    "duration": 5,
    "start_time": "2022-01-08T20:15:13.671Z"
   },
   {
    "duration": 25,
    "start_time": "2022-01-08T20:15:13.679Z"
   },
   {
    "duration": 19,
    "start_time": "2022-01-08T20:15:13.707Z"
   },
   {
    "duration": 21,
    "start_time": "2022-01-08T20:15:13.760Z"
   },
   {
    "duration": 20,
    "start_time": "2022-01-08T20:15:13.784Z"
   },
   {
    "duration": 55,
    "start_time": "2022-01-08T20:15:13.807Z"
   },
   {
    "duration": 20,
    "start_time": "2022-01-08T20:15:13.865Z"
   },
   {
    "duration": 13,
    "start_time": "2022-01-08T20:15:13.888Z"
   },
   {
    "duration": 65,
    "start_time": "2022-01-08T20:15:13.905Z"
   },
   {
    "duration": 15,
    "start_time": "2022-01-08T20:15:13.972Z"
   },
   {
    "duration": 5,
    "start_time": "2022-01-08T20:15:13.989Z"
   },
   {
    "duration": 30,
    "start_time": "2022-01-08T20:15:13.996Z"
   },
   {
    "duration": 41,
    "start_time": "2022-01-08T20:15:14.028Z"
   },
   {
    "duration": 23,
    "start_time": "2022-01-08T20:15:14.072Z"
   },
   {
    "duration": 16,
    "start_time": "2022-01-08T20:15:14.097Z"
   },
   {
    "duration": 44,
    "start_time": "2022-01-08T20:15:14.115Z"
   },
   {
    "duration": 6,
    "start_time": "2022-01-08T20:15:14.161Z"
   },
   {
    "duration": 11,
    "start_time": "2022-01-08T20:15:14.169Z"
   },
   {
    "duration": 5,
    "start_time": "2022-01-08T20:15:14.182Z"
   },
   {
    "duration": 15,
    "start_time": "2022-01-08T20:31:42.460Z"
   },
   {
    "duration": 4,
    "start_time": "2022-01-08T20:32:46.708Z"
   },
   {
    "duration": 213,
    "start_time": "2022-01-08T20:32:46.715Z"
   },
   {
    "duration": 29,
    "start_time": "2022-01-08T20:32:46.931Z"
   },
   {
    "duration": 35,
    "start_time": "2022-01-08T20:32:46.963Z"
   },
   {
    "duration": 7,
    "start_time": "2022-01-08T20:32:47.000Z"
   },
   {
    "duration": 49,
    "start_time": "2022-01-08T20:32:47.010Z"
   },
   {
    "duration": 5,
    "start_time": "2022-01-08T20:32:47.063Z"
   },
   {
    "duration": 34,
    "start_time": "2022-01-08T20:32:47.071Z"
   },
   {
    "duration": 22,
    "start_time": "2022-01-08T20:32:47.108Z"
   },
   {
    "duration": 29,
    "start_time": "2022-01-08T20:32:47.160Z"
   },
   {
    "duration": 104,
    "start_time": "2022-01-08T20:32:47.192Z"
   },
   {
    "duration": 97,
    "start_time": "2022-01-08T20:32:47.299Z"
   },
   {
    "duration": 81,
    "start_time": "2022-01-08T20:32:47.399Z"
   },
   {
    "duration": 8,
    "start_time": "2022-01-08T20:32:47.483Z"
   },
   {
    "duration": 5,
    "start_time": "2022-01-08T20:32:47.493Z"
   },
   {
    "duration": 14,
    "start_time": "2022-01-08T20:32:47.500Z"
   },
   {
    "duration": 42,
    "start_time": "2022-01-08T20:32:47.517Z"
   },
   {
    "duration": 16,
    "start_time": "2022-01-08T20:32:47.562Z"
   },
   {
    "duration": 14,
    "start_time": "2022-01-08T20:32:47.583Z"
   },
   {
    "duration": 5,
    "start_time": "2022-01-08T20:32:47.600Z"
   },
   {
    "duration": 55,
    "start_time": "2022-01-08T20:32:47.607Z"
   },
   {
    "duration": 17,
    "start_time": "2022-01-08T20:32:47.665Z"
   },
   {
    "duration": 18,
    "start_time": "2022-01-08T20:32:47.685Z"
   },
   {
    "duration": 16,
    "start_time": "2022-01-08T20:32:47.705Z"
   },
   {
    "duration": 21,
    "start_time": "2022-01-08T20:32:47.760Z"
   },
   {
    "duration": 17,
    "start_time": "2022-01-08T20:32:47.783Z"
   },
   {
    "duration": 12,
    "start_time": "2022-01-08T20:32:47.802Z"
   },
   {
    "duration": 54,
    "start_time": "2022-01-08T20:32:47.816Z"
   },
   {
    "duration": 14,
    "start_time": "2022-01-08T20:32:47.872Z"
   },
   {
    "duration": 5,
    "start_time": "2022-01-08T20:32:47.888Z"
   },
   {
    "duration": 30,
    "start_time": "2022-01-08T20:32:47.896Z"
   },
   {
    "duration": 42,
    "start_time": "2022-01-08T20:32:47.928Z"
   },
   {
    "duration": 23,
    "start_time": "2022-01-08T20:32:47.972Z"
   },
   {
    "duration": 17,
    "start_time": "2022-01-08T20:32:47.997Z"
   },
   {
    "duration": 43,
    "start_time": "2022-01-08T20:32:48.016Z"
   },
   {
    "duration": 12,
    "start_time": "2022-01-08T20:32:48.061Z"
   },
   {
    "duration": 9,
    "start_time": "2022-01-08T20:32:48.075Z"
   },
   {
    "duration": 5,
    "start_time": "2022-01-08T20:32:48.087Z"
   },
   {
    "duration": 185,
    "start_time": "2022-01-10T07:29:01.685Z"
   },
   {
    "duration": 380,
    "start_time": "2022-01-10T10:20:04.541Z"
   },
   {
    "duration": 856,
    "start_time": "2022-01-10T10:20:15.831Z"
   },
   {
    "duration": 192,
    "start_time": "2022-01-10T10:20:16.690Z"
   },
   {
    "duration": 37,
    "start_time": "2022-01-10T10:20:16.886Z"
   },
   {
    "duration": 32,
    "start_time": "2022-01-10T10:20:16.926Z"
   },
   {
    "duration": 5,
    "start_time": "2022-01-10T10:20:16.961Z"
   },
   {
    "duration": 59,
    "start_time": "2022-01-10T10:20:16.969Z"
   },
   {
    "duration": 5,
    "start_time": "2022-01-10T10:20:17.031Z"
   },
   {
    "duration": 34,
    "start_time": "2022-01-10T10:20:17.041Z"
   },
   {
    "duration": 58,
    "start_time": "2022-01-10T10:20:17.080Z"
   },
   {
    "duration": 51,
    "start_time": "2022-01-10T10:20:17.142Z"
   },
   {
    "duration": 111,
    "start_time": "2022-01-10T10:20:17.196Z"
   },
   {
    "duration": 117,
    "start_time": "2022-01-10T10:20:17.310Z"
   },
   {
    "duration": 97,
    "start_time": "2022-01-10T10:20:17.430Z"
   },
   {
    "duration": 11,
    "start_time": "2022-01-10T10:20:17.530Z"
   },
   {
    "duration": 90,
    "start_time": "2022-01-10T10:20:17.544Z"
   },
   {
    "duration": 5,
    "start_time": "2022-01-10T10:20:17.638Z"
   },
   {
    "duration": 18,
    "start_time": "2022-01-10T10:20:17.647Z"
   },
   {
    "duration": 13,
    "start_time": "2022-01-10T10:20:17.668Z"
   },
   {
    "duration": 43,
    "start_time": "2022-01-10T10:20:17.683Z"
   },
   {
    "duration": 18,
    "start_time": "2022-01-10T10:20:17.729Z"
   },
   {
    "duration": 6,
    "start_time": "2022-01-10T10:20:17.765Z"
   },
   {
    "duration": 51,
    "start_time": "2022-01-10T10:20:17.774Z"
   },
   {
    "duration": 23,
    "start_time": "2022-01-10T10:20:17.833Z"
   },
   {
    "duration": 33,
    "start_time": "2022-01-10T10:20:17.860Z"
   },
   {
    "duration": 35,
    "start_time": "2022-01-10T10:20:17.895Z"
   },
   {
    "duration": 28,
    "start_time": "2022-01-10T10:20:17.932Z"
   },
   {
    "duration": 35,
    "start_time": "2022-01-10T10:20:17.963Z"
   },
   {
    "duration": 15,
    "start_time": "2022-01-10T10:20:18.001Z"
   },
   {
    "duration": 22,
    "start_time": "2022-01-10T10:20:18.018Z"
   },
   {
    "duration": 16,
    "start_time": "2022-01-10T10:20:18.043Z"
   },
   {
    "duration": 7,
    "start_time": "2022-01-10T10:20:18.061Z"
   },
   {
    "duration": 42,
    "start_time": "2022-01-10T10:20:18.070Z"
   },
   {
    "duration": 18,
    "start_time": "2022-01-10T10:20:18.123Z"
   },
   {
    "duration": 29,
    "start_time": "2022-01-10T10:20:18.144Z"
   },
   {
    "duration": 52,
    "start_time": "2022-01-10T10:20:18.176Z"
   },
   {
    "duration": 11,
    "start_time": "2022-01-10T10:20:18.230Z"
   },
   {
    "duration": 11,
    "start_time": "2022-01-10T10:20:18.243Z"
   },
   {
    "duration": 12,
    "start_time": "2022-01-10T10:20:18.256Z"
   },
   {
    "duration": 6,
    "start_time": "2022-01-10T10:20:18.270Z"
   },
   {
    "duration": 87,
    "start_time": "2022-01-11T04:20:11.754Z"
   },
   {
    "duration": 92,
    "start_time": "2022-01-11T04:20:33.841Z"
   },
   {
    "duration": 86,
    "start_time": "2022-01-11T04:20:50.448Z"
   },
   {
    "duration": 137,
    "start_time": "2022-01-11T04:21:05.765Z"
   },
   {
    "duration": 89,
    "start_time": "2022-01-11T04:21:11.400Z"
   },
   {
    "duration": 89,
    "start_time": "2022-01-11T04:21:14.761Z"
   },
   {
    "duration": 85,
    "start_time": "2022-01-11T04:21:18.360Z"
   },
   {
    "duration": 92,
    "start_time": "2022-01-11T04:21:29.937Z"
   },
   {
    "duration": 99,
    "start_time": "2022-01-11T04:21:42.909Z"
   },
   {
    "duration": 82,
    "start_time": "2022-01-11T04:21:45.777Z"
   },
   {
    "duration": 97,
    "start_time": "2022-01-11T04:22:19.510Z"
   },
   {
    "duration": 110,
    "start_time": "2022-01-11T04:22:21.900Z"
   },
   {
    "duration": 702,
    "start_time": "2022-01-11T04:25:40.516Z"
   },
   {
    "duration": 897,
    "start_time": "2022-01-11T04:25:46.011Z"
   },
   {
    "duration": 545,
    "start_time": "2022-01-11T04:25:46.911Z"
   },
   {
    "duration": 27,
    "start_time": "2022-01-11T04:25:47.459Z"
   },
   {
    "duration": 34,
    "start_time": "2022-01-11T04:25:47.489Z"
   },
   {
    "duration": 6,
    "start_time": "2022-01-11T04:25:47.526Z"
   },
   {
    "duration": 52,
    "start_time": "2022-01-11T04:25:47.534Z"
   },
   {
    "duration": 8,
    "start_time": "2022-01-11T04:25:47.588Z"
   },
   {
    "duration": 31,
    "start_time": "2022-01-11T04:25:47.601Z"
   },
   {
    "duration": 23,
    "start_time": "2022-01-11T04:25:47.664Z"
   },
   {
    "duration": 30,
    "start_time": "2022-01-11T04:25:47.689Z"
   },
   {
    "duration": 118,
    "start_time": "2022-01-11T04:25:47.721Z"
   },
   {
    "duration": 111,
    "start_time": "2022-01-11T04:25:47.841Z"
   },
   {
    "duration": 80,
    "start_time": "2022-01-11T04:25:47.954Z"
   },
   {
    "duration": 8,
    "start_time": "2022-01-11T04:25:48.036Z"
   },
   {
    "duration": 4,
    "start_time": "2022-01-11T04:25:48.063Z"
   },
   {
    "duration": 16,
    "start_time": "2022-01-11T04:25:48.069Z"
   },
   {
    "duration": 10,
    "start_time": "2022-01-11T04:25:48.087Z"
   },
   {
    "duration": 15,
    "start_time": "2022-01-11T04:25:48.099Z"
   },
   {
    "duration": 51,
    "start_time": "2022-01-11T04:25:48.117Z"
   },
   {
    "duration": 4,
    "start_time": "2022-01-11T04:25:48.171Z"
   },
   {
    "duration": 26,
    "start_time": "2022-01-11T04:25:48.178Z"
   },
   {
    "duration": 19,
    "start_time": "2022-01-11T04:25:48.207Z"
   },
   {
    "duration": 19,
    "start_time": "2022-01-11T04:25:48.263Z"
   },
   {
    "duration": 18,
    "start_time": "2022-01-11T04:25:48.285Z"
   },
   {
    "duration": 19,
    "start_time": "2022-01-11T04:25:48.306Z"
   },
   {
    "duration": 47,
    "start_time": "2022-01-11T04:25:48.328Z"
   },
   {
    "duration": 11,
    "start_time": "2022-01-11T04:25:48.378Z"
   },
   {
    "duration": 14,
    "start_time": "2022-01-11T04:25:48.392Z"
   },
   {
    "duration": 12,
    "start_time": "2022-01-11T04:25:48.408Z"
   },
   {
    "duration": 41,
    "start_time": "2022-01-11T04:25:48.422Z"
   },
   {
    "duration": 28,
    "start_time": "2022-01-11T04:25:48.466Z"
   },
   {
    "duration": 20,
    "start_time": "2022-01-11T04:25:48.497Z"
   },
   {
    "duration": 53,
    "start_time": "2022-01-11T04:25:48.519Z"
   },
   {
    "duration": 18,
    "start_time": "2022-01-11T04:25:48.574Z"
   },
   {
    "duration": 11,
    "start_time": "2022-01-11T04:25:48.594Z"
   },
   {
    "duration": 6,
    "start_time": "2022-01-11T04:25:48.607Z"
   },
   {
    "duration": 10,
    "start_time": "2022-01-11T04:25:48.616Z"
   },
   {
    "duration": 7,
    "start_time": "2022-01-11T04:25:48.663Z"
   },
   {
    "duration": 6,
    "start_time": "2022-01-11T04:35:40.333Z"
   },
   {
    "duration": 3,
    "start_time": "2022-01-11T04:35:46.384Z"
   },
   {
    "duration": 354,
    "start_time": "2022-01-11T04:35:46.390Z"
   },
   {
    "duration": 25,
    "start_time": "2022-01-11T04:35:46.746Z"
   },
   {
    "duration": 34,
    "start_time": "2022-01-11T04:35:46.774Z"
   },
   {
    "duration": 6,
    "start_time": "2022-01-11T04:35:46.811Z"
   },
   {
    "duration": 6,
    "start_time": "2022-01-11T04:35:46.819Z"
   },
   {
    "duration": 54,
    "start_time": "2022-01-11T04:35:46.829Z"
   },
   {
    "duration": 6,
    "start_time": "2022-01-11T04:35:46.886Z"
   },
   {
    "duration": 33,
    "start_time": "2022-01-11T04:35:46.894Z"
   },
   {
    "duration": 52,
    "start_time": "2022-01-11T04:35:46.930Z"
   },
   {
    "duration": 31,
    "start_time": "2022-01-11T04:35:46.984Z"
   },
   {
    "duration": 111,
    "start_time": "2022-01-11T04:35:47.018Z"
   },
   {
    "duration": 101,
    "start_time": "2022-01-11T04:35:47.132Z"
   },
   {
    "duration": 89,
    "start_time": "2022-01-11T04:35:47.236Z"
   },
   {
    "duration": 8,
    "start_time": "2022-01-11T04:35:47.327Z"
   },
   {
    "duration": 4,
    "start_time": "2022-01-11T04:35:47.337Z"
   },
   {
    "duration": 34,
    "start_time": "2022-01-11T04:35:47.343Z"
   },
   {
    "duration": 12,
    "start_time": "2022-01-11T04:35:47.380Z"
   },
   {
    "duration": 17,
    "start_time": "2022-01-11T04:35:47.399Z"
   },
   {
    "duration": 58,
    "start_time": "2022-01-11T04:35:47.420Z"
   },
   {
    "duration": 5,
    "start_time": "2022-01-11T04:35:47.481Z"
   },
   {
    "duration": 26,
    "start_time": "2022-01-11T04:35:47.489Z"
   },
   {
    "duration": 54,
    "start_time": "2022-01-11T04:35:47.518Z"
   },
   {
    "duration": 18,
    "start_time": "2022-01-11T04:35:47.575Z"
   },
   {
    "duration": 23,
    "start_time": "2022-01-11T04:35:47.596Z"
   },
   {
    "duration": 61,
    "start_time": "2022-01-11T04:35:47.621Z"
   },
   {
    "duration": 21,
    "start_time": "2022-01-11T04:35:47.685Z"
   },
   {
    "duration": 13,
    "start_time": "2022-01-11T04:35:47.708Z"
   },
   {
    "duration": 18,
    "start_time": "2022-01-11T04:35:47.762Z"
   },
   {
    "duration": 14,
    "start_time": "2022-01-11T04:35:47.783Z"
   },
   {
    "duration": 6,
    "start_time": "2022-01-11T04:35:47.800Z"
   },
   {
    "duration": 64,
    "start_time": "2022-01-11T04:35:47.809Z"
   },
   {
    "duration": 18,
    "start_time": "2022-01-11T04:35:47.876Z"
   },
   {
    "duration": 24,
    "start_time": "2022-01-11T04:35:47.897Z"
   },
   {
    "duration": 47,
    "start_time": "2022-01-11T04:35:47.924Z"
   },
   {
    "duration": 10,
    "start_time": "2022-01-11T04:35:47.974Z"
   },
   {
    "duration": 6,
    "start_time": "2022-01-11T04:35:47.987Z"
   },
   {
    "duration": 8,
    "start_time": "2022-01-11T04:35:47.995Z"
   },
   {
    "duration": 5,
    "start_time": "2022-01-11T04:35:48.005Z"
   },
   {
    "duration": 3,
    "start_time": "2022-01-11T04:45:44.021Z"
   },
   {
    "duration": 361,
    "start_time": "2022-01-11T04:45:44.027Z"
   },
   {
    "duration": 23,
    "start_time": "2022-01-11T04:45:44.391Z"
   },
   {
    "duration": 50,
    "start_time": "2022-01-11T04:45:44.417Z"
   },
   {
    "duration": 4,
    "start_time": "2022-01-11T04:45:44.470Z"
   },
   {
    "duration": 7,
    "start_time": "2022-01-11T04:45:44.476Z"
   },
   {
    "duration": 15,
    "start_time": "2022-01-11T04:45:44.486Z"
   },
   {
    "duration": 5,
    "start_time": "2022-01-11T04:45:44.504Z"
   },
   {
    "duration": 76,
    "start_time": "2022-01-11T04:45:44.511Z"
   },
   {
    "duration": 23,
    "start_time": "2022-01-11T04:45:44.590Z"
   },
   {
    "duration": 48,
    "start_time": "2022-01-11T04:45:44.615Z"
   },
   {
    "duration": 82,
    "start_time": "2022-01-11T04:45:44.665Z"
   },
   {
    "duration": 103,
    "start_time": "2022-01-11T04:45:44.763Z"
   },
   {
    "duration": 79,
    "start_time": "2022-01-11T04:45:44.869Z"
   },
   {
    "duration": 8,
    "start_time": "2022-01-11T04:45:44.962Z"
   },
   {
    "duration": 4,
    "start_time": "2022-01-11T04:45:44.973Z"
   },
   {
    "duration": 16,
    "start_time": "2022-01-11T04:45:44.979Z"
   },
   {
    "duration": 8,
    "start_time": "2022-01-11T04:45:44.997Z"
   },
   {
    "duration": 58,
    "start_time": "2022-01-11T04:45:45.010Z"
   },
   {
    "duration": 15,
    "start_time": "2022-01-11T04:45:45.070Z"
   },
   {
    "duration": 11,
    "start_time": "2022-01-11T04:45:45.088Z"
   },
   {
    "duration": 31,
    "start_time": "2022-01-11T04:45:45.101Z"
   },
   {
    "duration": 42,
    "start_time": "2022-01-11T04:45:45.134Z"
   },
   {
    "duration": 27,
    "start_time": "2022-01-11T04:45:45.179Z"
   },
   {
    "duration": 29,
    "start_time": "2022-01-11T04:45:45.208Z"
   },
   {
    "duration": 33,
    "start_time": "2022-01-11T04:45:45.239Z"
   },
   {
    "duration": 17,
    "start_time": "2022-01-11T04:45:45.275Z"
   },
   {
    "duration": 12,
    "start_time": "2022-01-11T04:45:45.294Z"
   },
   {
    "duration": 27,
    "start_time": "2022-01-11T04:45:45.308Z"
   },
   {
    "duration": 14,
    "start_time": "2022-01-11T04:45:45.363Z"
   },
   {
    "duration": 8,
    "start_time": "2022-01-11T04:45:45.380Z"
   },
   {
    "duration": 54,
    "start_time": "2022-01-11T04:45:45.390Z"
   },
   {
    "duration": 22,
    "start_time": "2022-01-11T04:45:45.447Z"
   },
   {
    "duration": 25,
    "start_time": "2022-01-11T04:45:45.471Z"
   },
   {
    "duration": 22,
    "start_time": "2022-01-11T04:45:45.499Z"
   },
   {
    "duration": 45,
    "start_time": "2022-01-11T04:45:45.523Z"
   },
   {
    "duration": 6,
    "start_time": "2022-01-11T04:45:45.570Z"
   },
   {
    "duration": 8,
    "start_time": "2022-01-11T04:45:45.579Z"
   },
   {
    "duration": 6,
    "start_time": "2022-01-11T04:45:45.590Z"
   },
   {
    "duration": 3,
    "start_time": "2022-01-11T04:47:09.780Z"
   },
   {
    "duration": 368,
    "start_time": "2022-01-11T04:47:09.786Z"
   },
   {
    "duration": 15,
    "start_time": "2022-01-11T04:47:10.157Z"
   },
   {
    "duration": 39,
    "start_time": "2022-01-11T04:47:10.175Z"
   },
   {
    "duration": 5,
    "start_time": "2022-01-11T04:47:10.217Z"
   },
   {
    "duration": 6,
    "start_time": "2022-01-11T04:47:10.224Z"
   },
   {
    "duration": 23,
    "start_time": "2022-01-11T04:47:10.262Z"
   },
   {
    "duration": 5,
    "start_time": "2022-01-11T04:47:10.288Z"
   },
   {
    "duration": 35,
    "start_time": "2022-01-11T04:47:10.296Z"
   },
   {
    "duration": 49,
    "start_time": "2022-01-11T04:47:10.333Z"
   },
   {
    "duration": 30,
    "start_time": "2022-01-11T04:47:10.384Z"
   },
   {
    "duration": 118,
    "start_time": "2022-01-11T04:47:10.416Z"
   },
   {
    "duration": 108,
    "start_time": "2022-01-11T04:47:10.536Z"
   },
   {
    "duration": 91,
    "start_time": "2022-01-11T04:47:10.646Z"
   },
   {
    "duration": 10,
    "start_time": "2022-01-11T04:47:10.740Z"
   },
   {
    "duration": 5,
    "start_time": "2022-01-11T04:47:10.763Z"
   },
   {
    "duration": 15,
    "start_time": "2022-01-11T04:47:10.770Z"
   },
   {
    "duration": 8,
    "start_time": "2022-01-11T04:47:10.787Z"
   },
   {
    "duration": 15,
    "start_time": "2022-01-11T04:47:10.800Z"
   },
   {
    "duration": 56,
    "start_time": "2022-01-11T04:47:10.817Z"
   },
   {
    "duration": 6,
    "start_time": "2022-01-11T04:47:10.876Z"
   },
   {
    "duration": 24,
    "start_time": "2022-01-11T04:47:10.885Z"
   },
   {
    "duration": 52,
    "start_time": "2022-01-11T04:47:10.912Z"
   },
   {
    "duration": 18,
    "start_time": "2022-01-11T04:47:10.967Z"
   },
   {
    "duration": 19,
    "start_time": "2022-01-11T04:47:10.988Z"
   },
   {
    "duration": 55,
    "start_time": "2022-01-11T04:47:11.009Z"
   },
   {
    "duration": 17,
    "start_time": "2022-01-11T04:47:11.066Z"
   },
   {
    "duration": 11,
    "start_time": "2022-01-11T04:47:11.086Z"
   },
   {
    "duration": 26,
    "start_time": "2022-01-11T04:47:11.100Z"
   },
   {
    "duration": 38,
    "start_time": "2022-01-11T04:47:11.128Z"
   },
   {
    "duration": 5,
    "start_time": "2022-01-11T04:47:11.168Z"
   },
   {
    "duration": 41,
    "start_time": "2022-01-11T04:47:11.175Z"
   },
   {
    "duration": 17,
    "start_time": "2022-01-11T04:47:11.218Z"
   },
   {
    "duration": 44,
    "start_time": "2022-01-11T04:47:11.237Z"
   },
   {
    "duration": 17,
    "start_time": "2022-01-11T04:47:11.283Z"
   },
   {
    "duration": 10,
    "start_time": "2022-01-11T04:47:11.302Z"
   },
   {
    "duration": 5,
    "start_time": "2022-01-11T04:47:11.315Z"
   },
   {
    "duration": 46,
    "start_time": "2022-01-11T04:47:11.322Z"
   },
   {
    "duration": 11,
    "start_time": "2022-01-11T04:47:11.370Z"
   },
   {
    "duration": 156,
    "start_time": "2022-01-11T04:49:12.918Z"
   }
  ],
  "colab": {
   "collapsed_sections": [
    "E0vqbgi9ay0H",
    "VUC88oWjTJw2"
   ],
   "name": "yandex_music_project_2021.2.ipynb",
   "provenance": []
  },
  "kernelspec": {
   "display_name": "Python 3",
   "language": "python",
   "name": "python3"
  },
  "language_info": {
   "codemirror_mode": {
    "name": "ipython",
    "version": 3
   },
   "file_extension": ".py",
   "mimetype": "text/x-python",
   "name": "python",
   "nbconvert_exporter": "python",
   "pygments_lexer": "ipython3",
   "version": "3.8.5"
  },
  "toc": {
   "base_numbering": 1,
   "nav_menu": {},
   "number_sections": true,
   "sideBar": true,
   "skip_h1_title": true,
   "title_cell": "Table of Contents",
   "title_sidebar": "Contents",
   "toc_cell": false,
   "toc_position": {},
   "toc_section_display": true,
   "toc_window_display": true
  }
 },
 "nbformat": 4,
 "nbformat_minor": 1
}
