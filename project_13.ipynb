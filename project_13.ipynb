{
 "cells": [
  {
   "cell_type": "markdown",
   "metadata": {
    "toc": true
   },
   "source": [
    "<h1>Содержание<span class=\"tocSkip\"></span></h1>\n",
    "<div class=\"toc\"><ul class=\"toc-item\"><li><span><a href=\"#Загрузка-данных\" data-toc-modified-id=\"Загрузка-данных-1\"><span class=\"toc-item-num\">1&nbsp;&nbsp;</span>Загрузка данных</a></span></li><li><span><a href=\"#Умножение-матриц\" data-toc-modified-id=\"Умножение-матриц-2\"><span class=\"toc-item-num\">2&nbsp;&nbsp;</span>Умножение матриц</a></span></li><li><span><a href=\"#Алгоритм-преобразования\" data-toc-modified-id=\"Алгоритм-преобразования-3\"><span class=\"toc-item-num\">3&nbsp;&nbsp;</span>Алгоритм преобразования</a></span></li><li><span><a href=\"#Проверка-алгоритма\" data-toc-modified-id=\"Проверка-алгоритма-4\"><span class=\"toc-item-num\">4&nbsp;&nbsp;</span>Проверка алгоритма</a></span></li><li><span><a href=\"#Чек-лист-проверки\" data-toc-modified-id=\"Чек-лист-проверки-5\"><span class=\"toc-item-num\">5&nbsp;&nbsp;</span>Чек-лист проверки</a></span></li></ul></div>"
   ]
  },
  {
   "cell_type": "markdown",
   "metadata": {},
   "source": [
    "# Защита персональных данных клиентов"
   ]
  },
  {
   "cell_type": "markdown",
   "metadata": {},
   "source": [
    "Вам нужно защитить данные клиентов страховой компании «Хоть потоп». Разработайте такой метод преобразования данных, чтобы по ним было сложно восстановить персональную информацию. Обоснуйте корректность его работы.\n",
    "\n",
    "Нужно защитить данные, чтобы при преобразовании качество моделей машинного обучения не ухудшилось. Подбирать наилучшую модель не требуется."
   ]
  },
  {
   "cell_type": "markdown",
   "metadata": {},
   "source": [
    "<b>Инструкция по выполнению проекта:</b>\n",
    "<br>\n",
    "- Загрузите и изучите данные.\n",
    "<br>\n",
    "\n",
    "- Ответьте на вопрос и обоснуйте решение.\n",
    "<br>\n",
    "Признаки умножают на обратимую матрицу. Изменится ли качество линейной регрессии? (Её можно обучить заново.)<br>\n",
    "a. Изменится. Приведите примеры матриц.<br>\n",
    "b. Не изменится. Укажите, как связаны параметры линейной регрессии в исходной задаче и в преобразованной.\n",
    "<br>\n",
    "\n",
    "- Предложите алгоритм преобразования данных для решения задачи. Обоснуйте, почему качество линейной регрессии не поменяется.<br>\n",
    "\n",
    "- Запрограммируйте этот алгоритм, применив матричные операции. Проверьте, что качество линейной регрессии из sklearn не отличается до и после преобразования. Примените метрику R2.\n",
    "<br>"
   ]
  },
  {
   "cell_type": "markdown",
   "metadata": {},
   "source": [
    "<b>Укажем описание признаков:</b>\n",
    "\n",
    "<b>Признаки</b>\n",
    "- пол застрахованного\n",
    "- возраст застрахованного\n",
    "- зарплата застрахованного\n",
    "- количество членов его семьи\n",
    "\n",
    "<b>Целевой признак</b>\n",
    "- количество страховых выплат клиенту за последние 5 лет"
   ]
  },
  {
   "cell_type": "markdown",
   "metadata": {},
   "source": [
    "## Загрузка данных"
   ]
  },
  {
   "cell_type": "code",
   "execution_count": 1,
   "metadata": {},
   "outputs": [],
   "source": [
    "#подключим необходимые для работы библиотеки\n",
    "\n",
    "import pandas as pd\n",
    "import numpy as np\n",
    "import warnings\n",
    "warnings.simplefilter(\"ignore\")\n",
    "pd.options.display.float_format = '{:,.3f}'.format\n",
    "\n",
    "from sklearn.linear_model import LinearRegression \n",
    "from sklearn.model_selection import train_test_split \n",
    "\n",
    "from sklearn.metrics import r2_score"
   ]
  },
  {
   "cell_type": "code",
   "execution_count": 2,
   "metadata": {},
   "outputs": [
    {
     "ename": "FileNotFoundError",
     "evalue": "[Errno 2] No such file or directory: '/datasets/insurance.csv'",
     "output_type": "error",
     "traceback": [
      "\u001b[1;31m---------------------------------------------------------------------------\u001b[0m",
      "\u001b[1;31mFileNotFoundError\u001b[0m                         Traceback (most recent call last)",
      "\u001b[1;32m<ipython-input-2-1f7d07874681>\u001b[0m in \u001b[0;36m<module>\u001b[1;34m\u001b[0m\n\u001b[0;32m      3\u001b[0m \u001b[1;32mtry\u001b[0m\u001b[1;33m:\u001b[0m\u001b[1;33m\u001b[0m\u001b[1;33m\u001b[0m\u001b[0m\n\u001b[1;32m----> 4\u001b[1;33m     \u001b[0mdata\u001b[0m \u001b[1;33m=\u001b[0m \u001b[0mpd\u001b[0m\u001b[1;33m.\u001b[0m\u001b[0mread_csv\u001b[0m\u001b[1;33m(\u001b[0m\u001b[1;34m'C:/Users/jnybfuvybtfgl kfolbl/mypythonworks/yandex/insurance.csv'\u001b[0m\u001b[1;33m,\u001b[0m \u001b[0msep\u001b[0m\u001b[1;33m=\u001b[0m\u001b[1;34m','\u001b[0m\u001b[1;33m)\u001b[0m\u001b[1;33m\u001b[0m\u001b[1;33m\u001b[0m\u001b[0m\n\u001b[0m\u001b[0;32m      5\u001b[0m \u001b[1;33m\u001b[0m\u001b[0m\n",
      "\u001b[1;32m~\\Anaconda3\\lib\\site-packages\\pandas\\io\\parsers.py\u001b[0m in \u001b[0;36mread_csv\u001b[1;34m(filepath_or_buffer, sep, delimiter, header, names, index_col, usecols, squeeze, prefix, mangle_dupe_cols, dtype, engine, converters, true_values, false_values, skipinitialspace, skiprows, skipfooter, nrows, na_values, keep_default_na, na_filter, verbose, skip_blank_lines, parse_dates, infer_datetime_format, keep_date_col, date_parser, dayfirst, cache_dates, iterator, chunksize, compression, thousands, decimal, lineterminator, quotechar, quoting, doublequote, escapechar, comment, encoding, dialect, error_bad_lines, warn_bad_lines, delim_whitespace, low_memory, memory_map, float_precision)\u001b[0m\n\u001b[0;32m    685\u001b[0m \u001b[1;33m\u001b[0m\u001b[0m\n\u001b[1;32m--> 686\u001b[1;33m     \u001b[1;32mreturn\u001b[0m \u001b[0m_read\u001b[0m\u001b[1;33m(\u001b[0m\u001b[0mfilepath_or_buffer\u001b[0m\u001b[1;33m,\u001b[0m \u001b[0mkwds\u001b[0m\u001b[1;33m)\u001b[0m\u001b[1;33m\u001b[0m\u001b[1;33m\u001b[0m\u001b[0m\n\u001b[0m\u001b[0;32m    687\u001b[0m \u001b[1;33m\u001b[0m\u001b[0m\n",
      "\u001b[1;32m~\\Anaconda3\\lib\\site-packages\\pandas\\io\\parsers.py\u001b[0m in \u001b[0;36m_read\u001b[1;34m(filepath_or_buffer, kwds)\u001b[0m\n\u001b[0;32m    451\u001b[0m     \u001b[1;31m# Create the parser.\u001b[0m\u001b[1;33m\u001b[0m\u001b[1;33m\u001b[0m\u001b[1;33m\u001b[0m\u001b[0m\n\u001b[1;32m--> 452\u001b[1;33m     \u001b[0mparser\u001b[0m \u001b[1;33m=\u001b[0m \u001b[0mTextFileReader\u001b[0m\u001b[1;33m(\u001b[0m\u001b[0mfp_or_buf\u001b[0m\u001b[1;33m,\u001b[0m \u001b[1;33m**\u001b[0m\u001b[0mkwds\u001b[0m\u001b[1;33m)\u001b[0m\u001b[1;33m\u001b[0m\u001b[1;33m\u001b[0m\u001b[0m\n\u001b[0m\u001b[0;32m    453\u001b[0m \u001b[1;33m\u001b[0m\u001b[0m\n",
      "\u001b[1;32m~\\Anaconda3\\lib\\site-packages\\pandas\\io\\parsers.py\u001b[0m in \u001b[0;36m__init__\u001b[1;34m(self, f, engine, **kwds)\u001b[0m\n\u001b[0;32m    945\u001b[0m \u001b[1;33m\u001b[0m\u001b[0m\n\u001b[1;32m--> 946\u001b[1;33m         \u001b[0mself\u001b[0m\u001b[1;33m.\u001b[0m\u001b[0m_make_engine\u001b[0m\u001b[1;33m(\u001b[0m\u001b[0mself\u001b[0m\u001b[1;33m.\u001b[0m\u001b[0mengine\u001b[0m\u001b[1;33m)\u001b[0m\u001b[1;33m\u001b[0m\u001b[1;33m\u001b[0m\u001b[0m\n\u001b[0m\u001b[0;32m    947\u001b[0m \u001b[1;33m\u001b[0m\u001b[0m\n",
      "\u001b[1;32m~\\Anaconda3\\lib\\site-packages\\pandas\\io\\parsers.py\u001b[0m in \u001b[0;36m_make_engine\u001b[1;34m(self, engine)\u001b[0m\n\u001b[0;32m   1177\u001b[0m         \u001b[1;32mif\u001b[0m \u001b[0mengine\u001b[0m \u001b[1;33m==\u001b[0m \u001b[1;34m\"c\"\u001b[0m\u001b[1;33m:\u001b[0m\u001b[1;33m\u001b[0m\u001b[1;33m\u001b[0m\u001b[0m\n\u001b[1;32m-> 1178\u001b[1;33m             \u001b[0mself\u001b[0m\u001b[1;33m.\u001b[0m\u001b[0m_engine\u001b[0m \u001b[1;33m=\u001b[0m \u001b[0mCParserWrapper\u001b[0m\u001b[1;33m(\u001b[0m\u001b[0mself\u001b[0m\u001b[1;33m.\u001b[0m\u001b[0mf\u001b[0m\u001b[1;33m,\u001b[0m \u001b[1;33m**\u001b[0m\u001b[0mself\u001b[0m\u001b[1;33m.\u001b[0m\u001b[0moptions\u001b[0m\u001b[1;33m)\u001b[0m\u001b[1;33m\u001b[0m\u001b[1;33m\u001b[0m\u001b[0m\n\u001b[0m\u001b[0;32m   1179\u001b[0m         \u001b[1;32melse\u001b[0m\u001b[1;33m:\u001b[0m\u001b[1;33m\u001b[0m\u001b[1;33m\u001b[0m\u001b[0m\n",
      "\u001b[1;32m~\\Anaconda3\\lib\\site-packages\\pandas\\io\\parsers.py\u001b[0m in \u001b[0;36m__init__\u001b[1;34m(self, src, **kwds)\u001b[0m\n\u001b[0;32m   2007\u001b[0m \u001b[1;33m\u001b[0m\u001b[0m\n\u001b[1;32m-> 2008\u001b[1;33m         \u001b[0mself\u001b[0m\u001b[1;33m.\u001b[0m\u001b[0m_reader\u001b[0m \u001b[1;33m=\u001b[0m \u001b[0mparsers\u001b[0m\u001b[1;33m.\u001b[0m\u001b[0mTextReader\u001b[0m\u001b[1;33m(\u001b[0m\u001b[0msrc\u001b[0m\u001b[1;33m,\u001b[0m \u001b[1;33m**\u001b[0m\u001b[0mkwds\u001b[0m\u001b[1;33m)\u001b[0m\u001b[1;33m\u001b[0m\u001b[1;33m\u001b[0m\u001b[0m\n\u001b[0m\u001b[0;32m   2009\u001b[0m         \u001b[0mself\u001b[0m\u001b[1;33m.\u001b[0m\u001b[0munnamed_cols\u001b[0m \u001b[1;33m=\u001b[0m \u001b[0mself\u001b[0m\u001b[1;33m.\u001b[0m\u001b[0m_reader\u001b[0m\u001b[1;33m.\u001b[0m\u001b[0munnamed_cols\u001b[0m\u001b[1;33m\u001b[0m\u001b[1;33m\u001b[0m\u001b[0m\n",
      "\u001b[1;32mpandas\\_libs\\parsers.pyx\u001b[0m in \u001b[0;36mpandas._libs.parsers.TextReader.__cinit__\u001b[1;34m()\u001b[0m\n",
      "\u001b[1;32mpandas\\_libs\\parsers.pyx\u001b[0m in \u001b[0;36mpandas._libs.parsers.TextReader._setup_parser_source\u001b[1;34m()\u001b[0m\n",
      "\u001b[1;31mFileNotFoundError\u001b[0m: [Errno 2] No such file or directory: 'C:/Users/jnybfuvybtfgl kfolbl/mypythonworks/yandex/insurance.csv'",
      "\nDuring handling of the above exception, another exception occurred:\n",
      "\u001b[1;31mFileNotFoundError\u001b[0m                         Traceback (most recent call last)",
      "\u001b[1;32m<ipython-input-2-1f7d07874681>\u001b[0m in \u001b[0;36m<module>\u001b[1;34m\u001b[0m\n\u001b[0;32m      5\u001b[0m \u001b[1;33m\u001b[0m\u001b[0m\n\u001b[0;32m      6\u001b[0m \u001b[1;32mexcept\u001b[0m\u001b[1;33m:\u001b[0m\u001b[1;33m\u001b[0m\u001b[1;33m\u001b[0m\u001b[0m\n\u001b[1;32m----> 7\u001b[1;33m     \u001b[0mdata\u001b[0m \u001b[1;33m=\u001b[0m \u001b[0mpd\u001b[0m\u001b[1;33m.\u001b[0m\u001b[0mread_csv\u001b[0m\u001b[1;33m(\u001b[0m\u001b[1;34m'/datasets/insurance.csv'\u001b[0m\u001b[1;33m,\u001b[0m \u001b[0msep\u001b[0m\u001b[1;33m=\u001b[0m\u001b[1;34m','\u001b[0m\u001b[1;33m)\u001b[0m\u001b[1;33m\u001b[0m\u001b[1;33m\u001b[0m\u001b[0m\n\u001b[0m",
      "\u001b[1;32m~\\Anaconda3\\lib\\site-packages\\pandas\\io\\parsers.py\u001b[0m in \u001b[0;36mread_csv\u001b[1;34m(filepath_or_buffer, sep, delimiter, header, names, index_col, usecols, squeeze, prefix, mangle_dupe_cols, dtype, engine, converters, true_values, false_values, skipinitialspace, skiprows, skipfooter, nrows, na_values, keep_default_na, na_filter, verbose, skip_blank_lines, parse_dates, infer_datetime_format, keep_date_col, date_parser, dayfirst, cache_dates, iterator, chunksize, compression, thousands, decimal, lineterminator, quotechar, quoting, doublequote, escapechar, comment, encoding, dialect, error_bad_lines, warn_bad_lines, delim_whitespace, low_memory, memory_map, float_precision)\u001b[0m\n\u001b[0;32m    684\u001b[0m     )\n\u001b[0;32m    685\u001b[0m \u001b[1;33m\u001b[0m\u001b[0m\n\u001b[1;32m--> 686\u001b[1;33m     \u001b[1;32mreturn\u001b[0m \u001b[0m_read\u001b[0m\u001b[1;33m(\u001b[0m\u001b[0mfilepath_or_buffer\u001b[0m\u001b[1;33m,\u001b[0m \u001b[0mkwds\u001b[0m\u001b[1;33m)\u001b[0m\u001b[1;33m\u001b[0m\u001b[1;33m\u001b[0m\u001b[0m\n\u001b[0m\u001b[0;32m    687\u001b[0m \u001b[1;33m\u001b[0m\u001b[0m\n\u001b[0;32m    688\u001b[0m \u001b[1;33m\u001b[0m\u001b[0m\n",
      "\u001b[1;32m~\\Anaconda3\\lib\\site-packages\\pandas\\io\\parsers.py\u001b[0m in \u001b[0;36m_read\u001b[1;34m(filepath_or_buffer, kwds)\u001b[0m\n\u001b[0;32m    450\u001b[0m \u001b[1;33m\u001b[0m\u001b[0m\n\u001b[0;32m    451\u001b[0m     \u001b[1;31m# Create the parser.\u001b[0m\u001b[1;33m\u001b[0m\u001b[1;33m\u001b[0m\u001b[1;33m\u001b[0m\u001b[0m\n\u001b[1;32m--> 452\u001b[1;33m     \u001b[0mparser\u001b[0m \u001b[1;33m=\u001b[0m \u001b[0mTextFileReader\u001b[0m\u001b[1;33m(\u001b[0m\u001b[0mfp_or_buf\u001b[0m\u001b[1;33m,\u001b[0m \u001b[1;33m**\u001b[0m\u001b[0mkwds\u001b[0m\u001b[1;33m)\u001b[0m\u001b[1;33m\u001b[0m\u001b[1;33m\u001b[0m\u001b[0m\n\u001b[0m\u001b[0;32m    453\u001b[0m \u001b[1;33m\u001b[0m\u001b[0m\n\u001b[0;32m    454\u001b[0m     \u001b[1;32mif\u001b[0m \u001b[0mchunksize\u001b[0m \u001b[1;32mor\u001b[0m \u001b[0miterator\u001b[0m\u001b[1;33m:\u001b[0m\u001b[1;33m\u001b[0m\u001b[1;33m\u001b[0m\u001b[0m\n",
      "\u001b[1;32m~\\Anaconda3\\lib\\site-packages\\pandas\\io\\parsers.py\u001b[0m in \u001b[0;36m__init__\u001b[1;34m(self, f, engine, **kwds)\u001b[0m\n\u001b[0;32m    944\u001b[0m             \u001b[0mself\u001b[0m\u001b[1;33m.\u001b[0m\u001b[0moptions\u001b[0m\u001b[1;33m[\u001b[0m\u001b[1;34m\"has_index_names\"\u001b[0m\u001b[1;33m]\u001b[0m \u001b[1;33m=\u001b[0m \u001b[0mkwds\u001b[0m\u001b[1;33m[\u001b[0m\u001b[1;34m\"has_index_names\"\u001b[0m\u001b[1;33m]\u001b[0m\u001b[1;33m\u001b[0m\u001b[1;33m\u001b[0m\u001b[0m\n\u001b[0;32m    945\u001b[0m \u001b[1;33m\u001b[0m\u001b[0m\n\u001b[1;32m--> 946\u001b[1;33m         \u001b[0mself\u001b[0m\u001b[1;33m.\u001b[0m\u001b[0m_make_engine\u001b[0m\u001b[1;33m(\u001b[0m\u001b[0mself\u001b[0m\u001b[1;33m.\u001b[0m\u001b[0mengine\u001b[0m\u001b[1;33m)\u001b[0m\u001b[1;33m\u001b[0m\u001b[1;33m\u001b[0m\u001b[0m\n\u001b[0m\u001b[0;32m    947\u001b[0m \u001b[1;33m\u001b[0m\u001b[0m\n\u001b[0;32m    948\u001b[0m     \u001b[1;32mdef\u001b[0m \u001b[0mclose\u001b[0m\u001b[1;33m(\u001b[0m\u001b[0mself\u001b[0m\u001b[1;33m)\u001b[0m\u001b[1;33m:\u001b[0m\u001b[1;33m\u001b[0m\u001b[1;33m\u001b[0m\u001b[0m\n",
      "\u001b[1;32m~\\Anaconda3\\lib\\site-packages\\pandas\\io\\parsers.py\u001b[0m in \u001b[0;36m_make_engine\u001b[1;34m(self, engine)\u001b[0m\n\u001b[0;32m   1176\u001b[0m     \u001b[1;32mdef\u001b[0m \u001b[0m_make_engine\u001b[0m\u001b[1;33m(\u001b[0m\u001b[0mself\u001b[0m\u001b[1;33m,\u001b[0m \u001b[0mengine\u001b[0m\u001b[1;33m=\u001b[0m\u001b[1;34m\"c\"\u001b[0m\u001b[1;33m)\u001b[0m\u001b[1;33m:\u001b[0m\u001b[1;33m\u001b[0m\u001b[1;33m\u001b[0m\u001b[0m\n\u001b[0;32m   1177\u001b[0m         \u001b[1;32mif\u001b[0m \u001b[0mengine\u001b[0m \u001b[1;33m==\u001b[0m \u001b[1;34m\"c\"\u001b[0m\u001b[1;33m:\u001b[0m\u001b[1;33m\u001b[0m\u001b[1;33m\u001b[0m\u001b[0m\n\u001b[1;32m-> 1178\u001b[1;33m             \u001b[0mself\u001b[0m\u001b[1;33m.\u001b[0m\u001b[0m_engine\u001b[0m \u001b[1;33m=\u001b[0m \u001b[0mCParserWrapper\u001b[0m\u001b[1;33m(\u001b[0m\u001b[0mself\u001b[0m\u001b[1;33m.\u001b[0m\u001b[0mf\u001b[0m\u001b[1;33m,\u001b[0m \u001b[1;33m**\u001b[0m\u001b[0mself\u001b[0m\u001b[1;33m.\u001b[0m\u001b[0moptions\u001b[0m\u001b[1;33m)\u001b[0m\u001b[1;33m\u001b[0m\u001b[1;33m\u001b[0m\u001b[0m\n\u001b[0m\u001b[0;32m   1179\u001b[0m         \u001b[1;32melse\u001b[0m\u001b[1;33m:\u001b[0m\u001b[1;33m\u001b[0m\u001b[1;33m\u001b[0m\u001b[0m\n\u001b[0;32m   1180\u001b[0m             \u001b[1;32mif\u001b[0m \u001b[0mengine\u001b[0m \u001b[1;33m==\u001b[0m \u001b[1;34m\"python\"\u001b[0m\u001b[1;33m:\u001b[0m\u001b[1;33m\u001b[0m\u001b[1;33m\u001b[0m\u001b[0m\n",
      "\u001b[1;32m~\\Anaconda3\\lib\\site-packages\\pandas\\io\\parsers.py\u001b[0m in \u001b[0;36m__init__\u001b[1;34m(self, src, **kwds)\u001b[0m\n\u001b[0;32m   2006\u001b[0m         \u001b[0mkwds\u001b[0m\u001b[1;33m[\u001b[0m\u001b[1;34m\"usecols\"\u001b[0m\u001b[1;33m]\u001b[0m \u001b[1;33m=\u001b[0m \u001b[0mself\u001b[0m\u001b[1;33m.\u001b[0m\u001b[0musecols\u001b[0m\u001b[1;33m\u001b[0m\u001b[1;33m\u001b[0m\u001b[0m\n\u001b[0;32m   2007\u001b[0m \u001b[1;33m\u001b[0m\u001b[0m\n\u001b[1;32m-> 2008\u001b[1;33m         \u001b[0mself\u001b[0m\u001b[1;33m.\u001b[0m\u001b[0m_reader\u001b[0m \u001b[1;33m=\u001b[0m \u001b[0mparsers\u001b[0m\u001b[1;33m.\u001b[0m\u001b[0mTextReader\u001b[0m\u001b[1;33m(\u001b[0m\u001b[0msrc\u001b[0m\u001b[1;33m,\u001b[0m \u001b[1;33m**\u001b[0m\u001b[0mkwds\u001b[0m\u001b[1;33m)\u001b[0m\u001b[1;33m\u001b[0m\u001b[1;33m\u001b[0m\u001b[0m\n\u001b[0m\u001b[0;32m   2009\u001b[0m         \u001b[0mself\u001b[0m\u001b[1;33m.\u001b[0m\u001b[0munnamed_cols\u001b[0m \u001b[1;33m=\u001b[0m \u001b[0mself\u001b[0m\u001b[1;33m.\u001b[0m\u001b[0m_reader\u001b[0m\u001b[1;33m.\u001b[0m\u001b[0munnamed_cols\u001b[0m\u001b[1;33m\u001b[0m\u001b[1;33m\u001b[0m\u001b[0m\n\u001b[0;32m   2010\u001b[0m \u001b[1;33m\u001b[0m\u001b[0m\n",
      "\u001b[1;32mpandas\\_libs\\parsers.pyx\u001b[0m in \u001b[0;36mpandas._libs.parsers.TextReader.__cinit__\u001b[1;34m()\u001b[0m\n",
      "\u001b[1;32mpandas\\_libs\\parsers.pyx\u001b[0m in \u001b[0;36mpandas._libs.parsers.TextReader._setup_parser_source\u001b[1;34m()\u001b[0m\n",
      "\u001b[1;31mFileNotFoundError\u001b[0m: [Errno 2] No such file or directory: '/datasets/insurance.csv'"
     ]
    }
   ],
   "source": [
    "#прочитаем исходный датафрейм\n",
    "\n",
    "try:\n",
    "    data = pd.read_csv('C:/Users/jnybfuvybtfgl kfolbl/mypythonworks/yandex/insurance.csv', sep=',') \n",
    "    \n",
    "except:\n",
    "    data = pd.read_csv('/datasets/insurance.csv', sep=',')"
   ]
  },
  {
   "cell_type": "code",
   "execution_count": 3,
   "metadata": {},
   "outputs": [
    {
     "name": "stdout",
     "output_type": "stream",
     "text": [
      "Первые 10 строк датафрейма:\n"
     ]
    },
    {
     "data": {
      "text/html": [
       "<div>\n",
       "<style scoped>\n",
       "    .dataframe tbody tr th:only-of-type {\n",
       "        vertical-align: middle;\n",
       "    }\n",
       "\n",
       "    .dataframe tbody tr th {\n",
       "        vertical-align: top;\n",
       "    }\n",
       "\n",
       "    .dataframe thead th {\n",
       "        text-align: right;\n",
       "    }\n",
       "</style>\n",
       "<table border=\"1\" class=\"dataframe\">\n",
       "  <thead>\n",
       "    <tr style=\"text-align: right;\">\n",
       "      <th></th>\n",
       "      <th>Пол</th>\n",
       "      <th>Возраст</th>\n",
       "      <th>Зарплата</th>\n",
       "      <th>Члены семьи</th>\n",
       "      <th>Страховые выплаты</th>\n",
       "    </tr>\n",
       "  </thead>\n",
       "  <tbody>\n",
       "    <tr>\n",
       "      <th>0</th>\n",
       "      <td>1</td>\n",
       "      <td>41.000</td>\n",
       "      <td>49,600.000</td>\n",
       "      <td>1</td>\n",
       "      <td>0</td>\n",
       "    </tr>\n",
       "    <tr>\n",
       "      <th>1</th>\n",
       "      <td>0</td>\n",
       "      <td>46.000</td>\n",
       "      <td>38,000.000</td>\n",
       "      <td>1</td>\n",
       "      <td>1</td>\n",
       "    </tr>\n",
       "    <tr>\n",
       "      <th>2</th>\n",
       "      <td>0</td>\n",
       "      <td>29.000</td>\n",
       "      <td>21,000.000</td>\n",
       "      <td>0</td>\n",
       "      <td>0</td>\n",
       "    </tr>\n",
       "    <tr>\n",
       "      <th>3</th>\n",
       "      <td>0</td>\n",
       "      <td>21.000</td>\n",
       "      <td>41,700.000</td>\n",
       "      <td>2</td>\n",
       "      <td>0</td>\n",
       "    </tr>\n",
       "    <tr>\n",
       "      <th>4</th>\n",
       "      <td>1</td>\n",
       "      <td>28.000</td>\n",
       "      <td>26,100.000</td>\n",
       "      <td>0</td>\n",
       "      <td>0</td>\n",
       "    </tr>\n",
       "    <tr>\n",
       "      <th>5</th>\n",
       "      <td>1</td>\n",
       "      <td>43.000</td>\n",
       "      <td>41,000.000</td>\n",
       "      <td>2</td>\n",
       "      <td>1</td>\n",
       "    </tr>\n",
       "    <tr>\n",
       "      <th>6</th>\n",
       "      <td>1</td>\n",
       "      <td>39.000</td>\n",
       "      <td>39,700.000</td>\n",
       "      <td>2</td>\n",
       "      <td>0</td>\n",
       "    </tr>\n",
       "    <tr>\n",
       "      <th>7</th>\n",
       "      <td>1</td>\n",
       "      <td>25.000</td>\n",
       "      <td>38,600.000</td>\n",
       "      <td>4</td>\n",
       "      <td>0</td>\n",
       "    </tr>\n",
       "    <tr>\n",
       "      <th>8</th>\n",
       "      <td>1</td>\n",
       "      <td>36.000</td>\n",
       "      <td>49,700.000</td>\n",
       "      <td>1</td>\n",
       "      <td>0</td>\n",
       "    </tr>\n",
       "    <tr>\n",
       "      <th>9</th>\n",
       "      <td>1</td>\n",
       "      <td>32.000</td>\n",
       "      <td>51,700.000</td>\n",
       "      <td>1</td>\n",
       "      <td>0</td>\n",
       "    </tr>\n",
       "  </tbody>\n",
       "</table>\n",
       "</div>"
      ],
      "text/plain": [
       "   Пол  Возраст   Зарплата  Члены семьи  Страховые выплаты\n",
       "0    1   41.000 49,600.000            1                  0\n",
       "1    0   46.000 38,000.000            1                  1\n",
       "2    0   29.000 21,000.000            0                  0\n",
       "3    0   21.000 41,700.000            2                  0\n",
       "4    1   28.000 26,100.000            0                  0\n",
       "5    1   43.000 41,000.000            2                  1\n",
       "6    1   39.000 39,700.000            2                  0\n",
       "7    1   25.000 38,600.000            4                  0\n",
       "8    1   36.000 49,700.000            1                  0\n",
       "9    1   32.000 51,700.000            1                  0"
      ]
     },
     "metadata": {},
     "output_type": "display_data"
    },
    {
     "name": "stdout",
     "output_type": "stream",
     "text": [
      "Основная информация о датафрейме:\n",
      "<class 'pandas.core.frame.DataFrame'>\n",
      "RangeIndex: 5000 entries, 0 to 4999\n",
      "Data columns (total 5 columns):\n",
      " #   Column             Non-Null Count  Dtype  \n",
      "---  ------             --------------  -----  \n",
      " 0   Пол                5000 non-null   int64  \n",
      " 1   Возраст            5000 non-null   float64\n",
      " 2   Зарплата           5000 non-null   float64\n",
      " 3   Члены семьи        5000 non-null   int64  \n",
      " 4   Страховые выплаты  5000 non-null   int64  \n",
      "dtypes: float64(2), int64(3)\n",
      "memory usage: 195.4 KB\n"
     ]
    },
    {
     "data": {
      "text/plain": [
       "None"
      ]
     },
     "metadata": {},
     "output_type": "display_data"
    },
    {
     "name": "stdout",
     "output_type": "stream",
     "text": [
      "Размер датасета:\n"
     ]
    },
    {
     "data": {
      "text/plain": [
       "(5000, 5)"
      ]
     },
     "metadata": {},
     "output_type": "display_data"
    },
    {
     "name": "stdout",
     "output_type": "stream",
     "text": [
      "Доля пропущенных данных в датафрейме:\n"
     ]
    },
    {
     "data": {
      "text/plain": [
       "Пол                 0.000\n",
       "Возраст             0.000\n",
       "Зарплата            0.000\n",
       "Члены семьи         0.000\n",
       "Страховые выплаты   0.000\n",
       "dtype: float64"
      ]
     },
     "metadata": {},
     "output_type": "display_data"
    },
    {
     "name": "stdout",
     "output_type": "stream",
     "text": [
      "Количество дубликатов: \n"
     ]
    },
    {
     "data": {
      "text/plain": [
       "153"
      ]
     },
     "metadata": {},
     "output_type": "display_data"
    }
   ],
   "source": [
    "# изучим основную информацию о датафрейме\n",
    "\n",
    "print('Первые 10 строк датафрейма:')\n",
    "display(data.head(10))\n",
    "print('Основная информация о датафрейме:')\n",
    "display(data.info())\n",
    "print('Размер датасета:')\n",
    "display(data.shape)\n",
    "print('Доля пропущенных данных в датафрейме:')\n",
    "display(data.isna().mean())\n",
    "print('Количество дубликатов: ')\n",
    "display(data.duplicated().sum())"
   ]
  },
  {
   "cell_type": "markdown",
   "metadata": {},
   "source": [
    "<div class=\"alert alert-info\">\n",
    "<b>Комментарий студента:</b>\n",
    "<br>\n",
    "Изучив исходные данные датафрейма можно сказать, что данные представлены в полном объеме. Типы данных корректны, но дополнительно переведем тип данных у столбцов 'Пол' и 'Возраст' в целочисленный, т.к. у них отсутствуют данные после запятой. \n",
    "</div>"
   ]
  },
  {
   "cell_type": "code",
   "execution_count": 4,
   "metadata": {},
   "outputs": [],
   "source": [
    "#преобразуем типы данных\n",
    "\n",
    "data['Пол']=data['Пол'].astype('int')\n",
    "data['Возраст']=data['Возраст'].astype('int')"
   ]
  },
  {
   "cell_type": "markdown",
   "metadata": {},
   "source": [
    "<div class=\"alert alert-info\">\n",
    "<b>Комментарий студента:</b>\n",
    "<br>\n",
    "Также у нас обнаружилось 153 дубликата. Но т.к. у нас нет уникального ID клиента, то вполне вероятно, при большой клиентской базе совпадение определенных признаков. Так что оставляем данные дубликаты в нашем датафрейме.\n",
    "</div>"
   ]
  },
  {
   "cell_type": "markdown",
   "metadata": {},
   "source": [
    "## Умножение матриц"
   ]
  },
  {
   "cell_type": "markdown",
   "metadata": {},
   "source": [
    "В этом задании вы можете записывать формулы в *Jupyter Notebook.*\n",
    "\n",
    "Чтобы записать формулу внутри текста, окружите её символами доллара \\\\$; если снаружи —  двойными символами \\\\$\\\\$. Эти формулы записываются на языке вёрстки *LaTeX.* \n",
    "\n",
    "Для примера мы записали формулы линейной регрессии. Можете их скопировать и отредактировать, чтобы решить задачу.\n",
    "\n",
    "Работать в *LaTeX* необязательно."
   ]
  },
  {
   "cell_type": "markdown",
   "metadata": {},
   "source": [
    "Обозначения:\n",
    "\n",
    "- $X$ — матрица признаков (нулевой столбец состоит из единиц)\n",
    "\n",
    "- $y$ — вектор целевого признака\n",
    "\n",
    "- $P$ — матрица, на которую умножаются признаки\n",
    "\n",
    "- $w$ — вектор весов линейной регрессии (нулевой элемент равен сдвигу)"
   ]
  },
  {
   "cell_type": "markdown",
   "metadata": {},
   "source": [
    "Предсказания:\n",
    "\n",
    "$$\n",
    "a = Xw\n",
    "$$\n",
    "\n",
    "Задача обучения:\n",
    "\n",
    "$$\n",
    "w = \\arg\\min_w MSE(Xw, y)\n",
    "$$\n",
    "\n",
    "Формула обучения:\n",
    "\n",
    "$$\n",
    "w = (X^T X)^{-1} X^T y\n",
    "$$"
   ]
  },
  {
   "cell_type": "markdown",
   "metadata": {},
   "source": [
    "**Вопрос:** Признаки умножают на обратимую матрицу. Изменится ли качество линейной регрессии?\n",
    "\n",
    "**Ответ:** не изменится.<br>\n",
    "\n",
    "Заменим матрицу $X$ на матрицу $Z$:\n",
    "\n",
    "$$\n",
    "Z = XP \\qquad (2.1)\n",
    "$$\n",
    "\n",
    "где $P$ - обратимая матрица с некими значениями, на которую может быть умножена матрица $X$. \n",
    "\n",
    "**Обоснование:** <br>\n",
    "\n",
    "Заменим $X$ на $Z$ и вычислим, чему будет равно предсказание и вектор весов.\n",
    "\n",
    "$$\n",
    "a_1 = Zw_1 \\qquad (2.2)\n",
    "$$\n",
    "$$\n",
    "w_1 = (Z^T Z)^{-1} Z^T y \\qquad (2.3)\n",
    "$$\n",
    "\n",
    "Подставим в уравнение 2.2 правую часть уравнения 2.3 и получим следущее:\n",
    "\n",
    "$$\n",
    "w_1 = Z (Z^T Z)^{-1} Z^T y \\qquad (2.4)\n",
    "$$"
   ]
  },
  {
   "cell_type": "markdown",
   "metadata": {},
   "source": [
    "Преобразуем выражение для $w1$:  \n",
    "$$\n",
    "w_1 = ((XP)^T(XP))^{-1}(XP)^Ty\n",
    "$$\n",
    "\n",
    "$$\n",
    "w_1 = P^{-1}((XP)^{T}X)^{-1}(XP)^Ty\n",
    "$$\n",
    "\n",
    "$$\n",
    "w_1 = P^{-1}((XP)^{T}X)^{-1}P^TX^Ty\n",
    "$$\n",
    "\n",
    "$$\n",
    "w_1 = P^{-1}(P^TX^TX)^{-1}P^TX^Ty\n",
    "$$ \n",
    "\n",
    "$$\n",
    "w_1 = P^{-1}(X^TX)^{-1}(P^T)^{-1}P^TX^Ty\n",
    "$$\n",
    "\n",
    "Сократим\n",
    "\n",
    "$(P^{T})^{-1}$ и $P^T$\n",
    "\n",
    "получается\n",
    "$$\n",
    "w_1 = P^{-1}(X^TX)^{-1}  X^Ty\n",
    "$$\n",
    "Произведем замену:\n",
    "$$\n",
    "w_1 = (X^TX)^{-1}X^Ty = P^{-1}w\n",
    "$$ \n",
    "Тогда:\n",
    "$$\n",
    "w_1 = P^{-1}w \n",
    "$$\n",
    "Подставим для $X$ и $w1$ в формулу для расчета $a1$:\n",
    "$$\n",
    "a_1 =Xw_1 = XPP^{-1}w = Xw = a\n",
    "$$\n",
    "\n",
    "Выражения равны, ч.т.д."
   ]
  },
  {
   "cell_type": "markdown",
   "metadata": {},
   "source": [
    "## Алгоритм преобразования"
   ]
  },
  {
   "cell_type": "markdown",
   "metadata": {},
   "source": [
    "**Алгоритм**\n",
    "\n",
    "Для защиты информации на этапе поиска коэффициентов регрессии и предсказаний регрессии будем умножать матрицу признаков на обратимую матрицу $Y$, которая будет генерироваться случайным образом.\n",
    "\n",
    "Этапы алгоритма:\n",
    "1. Составление матрицы $Y$.\n",
    "2. Проверка матрицы на обратимость. Вычисление детерминанта матрицы $Y$.\n",
    "3. Получение матрицы преобразованных признаков $Z = XY$.\n",
    "4. Применение алгоритма на преобразованных признаках $Z$."
   ]
  },
  {
   "cell_type": "markdown",
   "metadata": {},
   "source": [
    "**Обоснование**\n",
    "\n",
    "Матрица $Y$ должна иметь необходимую размерность $(nxn)$, где n - количество признаков для регрессии.\n",
    "Таким образом матрица $Z$ будет иметь ту же размерность, что и матрица $X$. Обратная матрица $Y$ существует только для квадратных невырожденных матриц (определитель которых не равен нулю).\n",
    "\n",
    "Пример:\n",
    "\n",
    "$\n",
    "X = \\begin{pmatrix}\n",
    "1 & 2 \\\\\n",
    "2 & 3 \\\\\n",
    "4 & 5  \n",
    "\\end{pmatrix}\n",
    "\\qquad \n",
    "Y = \\begin{pmatrix}\n",
    "1 & 0 \\\\\n",
    "2 & 3 \\\\  \n",
    "\\end{pmatrix}\n",
    "\\qquad det  Y = 3 $\n",
    "\n",
    "Найдем значние Z:\n",
    "\n",
    "$\n",
    "Z = \\begin{pmatrix}\n",
    "1 & 2 \\\\\n",
    "2 & 3 \\\\\n",
    "4 & 5  \n",
    "\\end{pmatrix} \\begin{pmatrix}\n",
    "1 & 0 \\\\\n",
    "2 & 3 \\\\  \n",
    "\\end{pmatrix} = \\begin{pmatrix}\n",
    "1*1+2*2 & 1*0+2*3  \\\\\n",
    "2*1+3*2 & 2*0+3*3  \\\\\n",
    "4*1+5*2 & 4*0+5*3   \n",
    "\\end{pmatrix} = \\begin{pmatrix}\n",
    "5 & 6 \\\\\n",
    "8 & 9 \\\\\n",
    "14 & 15  \n",
    "\\end{pmatrix}$\n",
    "\n",
    "После этого добавляем нулевой столбец и вводим данные в линейную регрессию."
   ]
  },
  {
   "cell_type": "markdown",
   "metadata": {},
   "source": [
    "## Проверка алгоритма"
   ]
  },
  {
   "cell_type": "markdown",
   "metadata": {},
   "source": [
    "<div class=\"alert alert-info\">\n",
    "<b>Комментарий студента:</b>\n",
    "<br>\n",
    "Для начала проверим качество модели линейной регрессии на данных без преобразования.\n",
    "</div>"
   ]
  },
  {
   "cell_type": "code",
   "execution_count": 5,
   "metadata": {},
   "outputs": [
    {
     "name": "stdout",
     "output_type": "stream",
     "text": [
      "Размер обучающей выборки равен:  (3750, 4)\n",
      "Размер тестовой выборки равен:  (1250, 4)\n"
     ]
    }
   ],
   "source": [
    "#для начала отделим обучающую выборку от тестовой\n",
    "\n",
    "features = data.drop('Страховые выплаты',axis=1)\n",
    "target = data['Страховые выплаты']\n",
    "\n",
    "features_train, features_test, target_train, target_test = train_test_split(features, target, test_size=0.25, \n",
    "                                                                              random_state=12345)\n",
    "#далее узнаем размеры выборок\n",
    "\n",
    "print('Размер обучающей выборки равен: ', features_train.shape)\n",
    "print('Размер тестовой выборки равен: ', features_test.shape)"
   ]
  },
  {
   "cell_type": "code",
   "execution_count": 6,
   "metadata": {},
   "outputs": [
    {
     "name": "stdout",
     "output_type": "stream",
     "text": [
      "Качество модели на начальных данных: 0.435\n"
     ]
    }
   ],
   "source": [
    "#обучим модель и узнаем качество модели\n",
    "\n",
    "model = LinearRegression()\n",
    "model.fit(features_train, target_train)\n",
    "\n",
    "predictions = model.predict(features_test)\n",
    "\n",
    "r2_score_init = r2_score(target_test, predictions)\n",
    "print(\"Качество модели на начальных данных: {:.3f}\".format(r2_score_init))"
   ]
  },
  {
   "cell_type": "markdown",
   "metadata": {},
   "source": [
    "<div class=\"alert alert-info\">\n",
    "<b>Комментарий студента:</b>\n",
    "<br>\n",
    "Далее произведем преобразование данных и исследуем качество модели линейной регрессии.\n",
    "</div>"
   ]
  },
  {
   "cell_type": "code",
   "execution_count": 7,
   "metadata": {},
   "outputs": [
    {
     "name": "stdout",
     "output_type": "stream",
     "text": [
      "Детерминант случайной матрицы равен: 0.155, значит матрица обратима.\n"
     ]
    }
   ],
   "source": [
    "#cоздадим случайную обратимую матрицу\n",
    "\n",
    "random_matrix = np.random.normal(size=(features_train.shape[1], features_train.shape[1]))\n",
    "\n",
    "det = np.linalg.det(random_matrix)\n",
    "\n",
    "print(\"Детерминант случайной матрицы равен: {:.3f}, значит матрица обратима.\".format(det))"
   ]
  },
  {
   "cell_type": "code",
   "execution_count": 8,
   "metadata": {},
   "outputs": [
    {
     "name": "stdout",
     "output_type": "stream",
     "text": [
      "Качество модели на преобразованных данных: 0.435\n"
     ]
    }
   ],
   "source": [
    "#произведем умножение случайной обратимой матрицы на матрицу признаков\n",
    "\n",
    "features_train_transform = np.dot(features_train, random_matrix)\n",
    "features_test_transform = np.dot(features_test, random_matrix)\n",
    "\n",
    "#матрица для получения исходной матрицы\n",
    "random_matrix_inv = np.linalg.inv(random_matrix)\n",
    " \n",
    "# создадим класс\n",
    "class Regression_transform:\n",
    "    \n",
    "    def fit(self, features_train, target_train):\n",
    "       \n",
    "        X = np.concatenate((np.ones((features_train.shape[0], 1)), features_train), axis=1)\n",
    "        y = target_train\n",
    "        w = np.linalg.inv(np.dot(X.T, X)).dot(X.T).dot(y)\n",
    "        self.w = w[1:]\n",
    "        self.w0 = w[0]   \n",
    "        \n",
    "    def predict(self, features_test):\n",
    "        return features_test.dot(self.w) + self.w0\n",
    "\n",
    "#инициализируем модель  \n",
    "model_transform = Regression_transform()\n",
    "\n",
    "#обучим модель на преобразованных данных\n",
    "model_transform.fit(features_train_transform, target_train)\n",
    "predictions_test = model_transform.predict(features_test_transform)\n",
    "\n",
    "#узнаем качество модели на преобразованных данных\n",
    "r2_transform = r2_score(target_test, predictions_test)\n",
    "\n",
    "print(\"Качество модели на преобразованных данных: {:.3f}\".format(r2_transform))"
   ]
  },
  {
   "cell_type": "code",
   "execution_count": 9,
   "metadata": {},
   "outputs": [
    {
     "data": {
      "text/plain": [
       "array([[-2.35156100e-12,  3.30000000e+01,  3.90000000e+04,\n",
       "         4.00000000e+00],\n",
       "       [-9.66568103e-12,  5.00000000e+01,  4.31000000e+04,\n",
       "         2.00000000e+00],\n",
       "       [ 1.00000000e+00,  3.90000000e+01,  4.21000000e+04,\n",
       "        -2.18651731e-12],\n",
       "       ...,\n",
       "       [ 1.00000000e+00,  3.50000000e+01,  4.23000000e+04,\n",
       "        -6.91044215e-12],\n",
       "       [ 1.00000000e+00,  3.60000000e+01,  4.13000000e+04,\n",
       "        -2.62947020e-12],\n",
       "       [-5.52878594e-12,  4.90000000e+01,  3.11000000e+04,\n",
       "         1.00000000e+00]])"
      ]
     },
     "execution_count": 9,
     "metadata": {},
     "output_type": "execute_result"
    }
   ],
   "source": [
    "#для примера получим исходную тестовую выборку до преобразования\n",
    "\n",
    "init_matrix_test = np.dot(features_test_transform, random_matrix_inv)\n",
    "init_matrix_test"
   ]
  },
  {
   "cell_type": "code",
   "execution_count": 10,
   "metadata": {},
   "outputs": [],
   "source": [
    "#преобразуем целевой признак в датафрейм\n",
    "\n",
    "target_test_init = pd.DataFrame(target_test)"
   ]
  },
  {
   "cell_type": "code",
   "execution_count": 11,
   "metadata": {},
   "outputs": [],
   "source": [
    "#преобразуем признаки в датафрейм\n",
    "\n",
    "features_test_init = pd.DataFrame(init_matrix_test, index=target_test_init.index, columns=features_test.columns).join(target_test_init)"
   ]
  },
  {
   "cell_type": "code",
   "execution_count": 12,
   "metadata": {},
   "outputs": [
    {
     "data": {
      "text/html": [
       "<div>\n",
       "<style scoped>\n",
       "    .dataframe tbody tr th:only-of-type {\n",
       "        vertical-align: middle;\n",
       "    }\n",
       "\n",
       "    .dataframe tbody tr th {\n",
       "        vertical-align: top;\n",
       "    }\n",
       "\n",
       "    .dataframe thead th {\n",
       "        text-align: right;\n",
       "    }\n",
       "</style>\n",
       "<table border=\"1\" class=\"dataframe\">\n",
       "  <thead>\n",
       "    <tr style=\"text-align: right;\">\n",
       "      <th></th>\n",
       "      <th>Пол</th>\n",
       "      <th>Возраст</th>\n",
       "      <th>Зарплата</th>\n",
       "      <th>Члены семьи</th>\n",
       "      <th>Страховые выплаты</th>\n",
       "    </tr>\n",
       "  </thead>\n",
       "  <tbody>\n",
       "    <tr>\n",
       "      <th>3183</th>\n",
       "      <td>-0.000</td>\n",
       "      <td>33.000</td>\n",
       "      <td>39,000.000</td>\n",
       "      <td>4.000</td>\n",
       "      <td>0</td>\n",
       "    </tr>\n",
       "    <tr>\n",
       "      <th>1071</th>\n",
       "      <td>-0.000</td>\n",
       "      <td>50.000</td>\n",
       "      <td>43,100.000</td>\n",
       "      <td>2.000</td>\n",
       "      <td>2</td>\n",
       "    </tr>\n",
       "    <tr>\n",
       "      <th>2640</th>\n",
       "      <td>1.000</td>\n",
       "      <td>39.000</td>\n",
       "      <td>42,100.000</td>\n",
       "      <td>-0.000</td>\n",
       "      <td>0</td>\n",
       "    </tr>\n",
       "    <tr>\n",
       "      <th>2282</th>\n",
       "      <td>0.000</td>\n",
       "      <td>20.000</td>\n",
       "      <td>34,800.000</td>\n",
       "      <td>0.000</td>\n",
       "      <td>0</td>\n",
       "    </tr>\n",
       "    <tr>\n",
       "      <th>1595</th>\n",
       "      <td>0.000</td>\n",
       "      <td>41.000</td>\n",
       "      <td>40,000.000</td>\n",
       "      <td>4.000</td>\n",
       "      <td>0</td>\n",
       "    </tr>\n",
       "    <tr>\n",
       "      <th>...</th>\n",
       "      <td>...</td>\n",
       "      <td>...</td>\n",
       "      <td>...</td>\n",
       "      <td>...</td>\n",
       "      <td>...</td>\n",
       "    </tr>\n",
       "    <tr>\n",
       "      <th>982</th>\n",
       "      <td>1.000</td>\n",
       "      <td>51.000</td>\n",
       "      <td>29,000.000</td>\n",
       "      <td>2.000</td>\n",
       "      <td>2</td>\n",
       "    </tr>\n",
       "    <tr>\n",
       "      <th>3820</th>\n",
       "      <td>1.000</td>\n",
       "      <td>33.000</td>\n",
       "      <td>57,900.000</td>\n",
       "      <td>3.000</td>\n",
       "      <td>0</td>\n",
       "    </tr>\n",
       "    <tr>\n",
       "      <th>3595</th>\n",
       "      <td>1.000</td>\n",
       "      <td>35.000</td>\n",
       "      <td>42,300.000</td>\n",
       "      <td>-0.000</td>\n",
       "      <td>0</td>\n",
       "    </tr>\n",
       "    <tr>\n",
       "      <th>3513</th>\n",
       "      <td>1.000</td>\n",
       "      <td>36.000</td>\n",
       "      <td>41,300.000</td>\n",
       "      <td>-0.000</td>\n",
       "      <td>0</td>\n",
       "    </tr>\n",
       "    <tr>\n",
       "      <th>1205</th>\n",
       "      <td>-0.000</td>\n",
       "      <td>49.000</td>\n",
       "      <td>31,100.000</td>\n",
       "      <td>1.000</td>\n",
       "      <td>2</td>\n",
       "    </tr>\n",
       "  </tbody>\n",
       "</table>\n",
       "<p>1250 rows × 5 columns</p>\n",
       "</div>"
      ],
      "text/plain": [
       "        Пол  Возраст   Зарплата  Члены семьи  Страховые выплаты\n",
       "3183 -0.000   33.000 39,000.000        4.000                  0\n",
       "1071 -0.000   50.000 43,100.000        2.000                  2\n",
       "2640  1.000   39.000 42,100.000       -0.000                  0\n",
       "2282  0.000   20.000 34,800.000        0.000                  0\n",
       "1595  0.000   41.000 40,000.000        4.000                  0\n",
       "...     ...      ...        ...          ...                ...\n",
       "982   1.000   51.000 29,000.000        2.000                  2\n",
       "3820  1.000   33.000 57,900.000        3.000                  0\n",
       "3595  1.000   35.000 42,300.000       -0.000                  0\n",
       "3513  1.000   36.000 41,300.000       -0.000                  0\n",
       "1205 -0.000   49.000 31,100.000        1.000                  2\n",
       "\n",
       "[1250 rows x 5 columns]"
      ]
     },
     "execution_count": 12,
     "metadata": {},
     "output_type": "execute_result"
    }
   ],
   "source": [
    "features_test_init"
   ]
  },
  {
   "cell_type": "markdown",
   "metadata": {},
   "source": [
    "<div class=\"alert alert-info\">\n",
    "<b>ВЫВОД:</b>\n",
    "<br>\n",
    "В данном проекте было проверено и доказано суждение о том, что если признаки умножить на обратимую матрицу, то ее качество не изменится. Также была проведена работа по дешифровке преобразованных данных.\n",
    "</div>"
   ]
  }
 ],
 "metadata": {
  "ExecuteTimeLog": [
   {
    "duration": 1701,
    "start_time": "2022-05-15T14:12:46.777Z"
   },
   {
    "duration": 86,
    "start_time": "2022-05-15T14:13:15.081Z"
   },
   {
    "duration": 26,
    "start_time": "2022-05-15T14:13:20.515Z"
   },
   {
    "duration": 50,
    "start_time": "2022-05-15T14:18:31.273Z"
   },
   {
    "duration": 9,
    "start_time": "2022-05-15T14:24:35.530Z"
   },
   {
    "duration": 17,
    "start_time": "2022-05-15T14:24:51.737Z"
   },
   {
    "duration": 153,
    "start_time": "2022-05-15T14:26:00.826Z"
   },
   {
    "duration": 10,
    "start_time": "2022-05-15T14:26:05.328Z"
   },
   {
    "duration": 20,
    "start_time": "2022-05-15T14:26:27.714Z"
   },
   {
    "duration": 10,
    "start_time": "2022-05-15T14:26:31.836Z"
   },
   {
    "duration": 43,
    "start_time": "2022-05-15T14:31:22.169Z"
   },
   {
    "duration": 43,
    "start_time": "2022-05-15T14:31:32.621Z"
   },
   {
    "duration": 7,
    "start_time": "2022-05-15T14:41:40.526Z"
   },
   {
    "duration": 21,
    "start_time": "2022-05-15T14:49:33.728Z"
   },
   {
    "duration": 6,
    "start_time": "2022-05-15T14:49:51.852Z"
   },
   {
    "duration": 108,
    "start_time": "2022-05-15T14:49:53.962Z"
   },
   {
    "duration": 17,
    "start_time": "2022-05-15T14:49:54.146Z"
   },
   {
    "duration": 39,
    "start_time": "2022-05-15T14:49:54.319Z"
   },
   {
    "duration": 7,
    "start_time": "2022-05-15T14:49:54.838Z"
   },
   {
    "duration": 24,
    "start_time": "2022-05-15T14:49:57.501Z"
   },
   {
    "duration": 19,
    "start_time": "2022-05-15T14:51:23.488Z"
   },
   {
    "duration": 15,
    "start_time": "2022-05-15T14:51:56.977Z"
   },
   {
    "duration": 18,
    "start_time": "2022-05-15T14:52:09.216Z"
   },
   {
    "duration": 22,
    "start_time": "2022-05-15T15:58:49.032Z"
   },
   {
    "duration": 15,
    "start_time": "2022-05-15T15:59:30.644Z"
   },
   {
    "duration": 11,
    "start_time": "2022-05-15T16:01:17.991Z"
   },
   {
    "duration": 10,
    "start_time": "2022-05-15T16:01:40.379Z"
   },
   {
    "duration": 12,
    "start_time": "2022-05-15T16:44:07.270Z"
   },
   {
    "duration": 19,
    "start_time": "2022-05-15T16:47:42.097Z"
   },
   {
    "duration": 11,
    "start_time": "2022-05-15T16:47:50.621Z"
   },
   {
    "duration": 11,
    "start_time": "2022-05-15T16:48:10.224Z"
   },
   {
    "duration": 13,
    "start_time": "2022-05-15T16:48:11.272Z"
   },
   {
    "duration": 158,
    "start_time": "2022-05-15T16:52:39.556Z"
   },
   {
    "duration": 16,
    "start_time": "2022-05-15T16:57:50.600Z"
   },
   {
    "duration": 63,
    "start_time": "2022-05-15T16:58:29.281Z"
   },
   {
    "duration": 23,
    "start_time": "2022-05-15T17:03:38.597Z"
   },
   {
    "duration": 19,
    "start_time": "2022-05-15T17:06:31.638Z"
   },
   {
    "duration": 22,
    "start_time": "2022-05-15T17:06:38.920Z"
   },
   {
    "duration": 14,
    "start_time": "2022-05-15T17:06:52.117Z"
   },
   {
    "duration": 4,
    "start_time": "2022-05-15T17:08:11.946Z"
   },
   {
    "duration": 5,
    "start_time": "2022-05-15T17:08:20.535Z"
   },
   {
    "duration": 1855,
    "start_time": "2022-05-15T17:10:48.029Z"
   },
   {
    "duration": 6,
    "start_time": "2022-05-15T17:10:54.166Z"
   },
   {
    "duration": 6,
    "start_time": "2022-05-15T17:11:05.806Z"
   },
   {
    "duration": 5,
    "start_time": "2022-05-15T17:11:18.692Z"
   },
   {
    "duration": 15,
    "start_time": "2022-05-15T17:11:19.301Z"
   },
   {
    "duration": 15,
    "start_time": "2022-05-15T17:16:30.205Z"
   },
   {
    "duration": 6,
    "start_time": "2022-05-15T17:16:34.899Z"
   },
   {
    "duration": 15,
    "start_time": "2022-05-15T17:16:36.264Z"
   },
   {
    "duration": 18,
    "start_time": "2022-05-15T17:17:00.359Z"
   },
   {
    "duration": 18,
    "start_time": "2022-05-15T17:17:57.545Z"
   },
   {
    "duration": 18,
    "start_time": "2022-05-15T17:18:30.842Z"
   },
   {
    "duration": 6,
    "start_time": "2022-05-15T17:19:38.453Z"
   },
   {
    "duration": 18,
    "start_time": "2022-05-15T17:19:41.192Z"
   },
   {
    "duration": 24,
    "start_time": "2022-05-15T17:20:48.066Z"
   },
   {
    "duration": 19,
    "start_time": "2022-05-15T17:22:08.518Z"
   },
   {
    "duration": 19,
    "start_time": "2022-05-15T17:22:23.490Z"
   },
   {
    "duration": 6,
    "start_time": "2022-05-15T17:24:20.951Z"
   },
   {
    "duration": 8,
    "start_time": "2022-05-15T17:24:21.138Z"
   },
   {
    "duration": 17,
    "start_time": "2022-05-15T17:25:53.375Z"
   },
   {
    "duration": 4,
    "start_time": "2022-05-15T17:30:07.794Z"
   },
   {
    "duration": 7,
    "start_time": "2022-05-15T17:30:12.510Z"
   },
   {
    "duration": 8,
    "start_time": "2022-05-15T17:32:49.564Z"
   },
   {
    "duration": 6,
    "start_time": "2022-05-15T17:35:41.616Z"
   },
   {
    "duration": 15,
    "start_time": "2022-05-15T17:35:42.394Z"
   },
   {
    "duration": 7,
    "start_time": "2022-05-15T17:35:44.938Z"
   },
   {
    "duration": 9,
    "start_time": "2022-05-15T17:36:24.836Z"
   },
   {
    "duration": 10,
    "start_time": "2022-05-15T17:36:48.458Z"
   },
   {
    "duration": 9,
    "start_time": "2022-05-15T17:39:16.146Z"
   },
   {
    "duration": 12,
    "start_time": "2022-05-15T17:39:27.409Z"
   },
   {
    "duration": 9,
    "start_time": "2022-05-15T17:39:34.038Z"
   },
   {
    "duration": 8,
    "start_time": "2022-05-15T17:47:40.770Z"
   },
   {
    "duration": 9,
    "start_time": "2022-05-15T17:47:55.583Z"
   },
   {
    "duration": 8,
    "start_time": "2022-05-15T17:49:44.233Z"
   },
   {
    "duration": 145,
    "start_time": "2022-05-15T17:50:07.085Z"
   },
   {
    "duration": 9,
    "start_time": "2022-05-15T17:50:24.077Z"
   },
   {
    "duration": 14,
    "start_time": "2022-05-15T17:50:40.706Z"
   },
   {
    "duration": 135,
    "start_time": "2022-05-15T17:50:48.697Z"
   },
   {
    "duration": 168,
    "start_time": "2022-05-15T17:51:48.513Z"
   },
   {
    "duration": 7,
    "start_time": "2022-05-15T17:52:04.696Z"
   },
   {
    "duration": 12,
    "start_time": "2022-05-15T17:58:32.324Z"
   },
   {
    "duration": 8,
    "start_time": "2022-05-15T17:58:46.129Z"
   },
   {
    "duration": 8,
    "start_time": "2022-05-15T18:00:30.781Z"
   },
   {
    "duration": 10,
    "start_time": "2022-05-15T18:01:03.792Z"
   },
   {
    "duration": 4,
    "start_time": "2022-05-15T18:04:21.333Z"
   },
   {
    "duration": 7,
    "start_time": "2022-05-15T18:04:32.228Z"
   },
   {
    "duration": 16,
    "start_time": "2022-05-15T18:04:41.924Z"
   },
   {
    "duration": 12,
    "start_time": "2022-05-15T18:06:04.979Z"
   },
   {
    "duration": 5,
    "start_time": "2022-05-15T18:06:12.300Z"
   },
   {
    "duration": 16,
    "start_time": "2022-05-15T18:06:14.113Z"
   },
   {
    "duration": 9,
    "start_time": "2022-05-15T18:06:42.938Z"
   },
   {
    "duration": 5,
    "start_time": "2022-05-15T18:06:43.369Z"
   },
   {
    "duration": 5,
    "start_time": "2022-05-15T18:06:43.720Z"
   },
   {
    "duration": 14,
    "start_time": "2022-05-15T18:06:43.966Z"
   },
   {
    "duration": 9,
    "start_time": "2022-05-15T18:07:55.101Z"
   },
   {
    "duration": 4,
    "start_time": "2022-05-15T18:07:55.536Z"
   },
   {
    "duration": 6,
    "start_time": "2022-05-15T18:07:55.750Z"
   },
   {
    "duration": 15,
    "start_time": "2022-05-15T18:07:56.167Z"
   },
   {
    "duration": 6,
    "start_time": "2022-05-15T18:10:44.610Z"
   },
   {
    "duration": 5,
    "start_time": "2022-05-15T18:10:44.748Z"
   },
   {
    "duration": 6,
    "start_time": "2022-05-15T18:10:44.924Z"
   },
   {
    "duration": 15,
    "start_time": "2022-05-15T18:10:45.340Z"
   },
   {
    "duration": 6,
    "start_time": "2022-05-15T18:11:21.472Z"
   },
   {
    "duration": 17,
    "start_time": "2022-05-15T18:11:21.874Z"
   },
   {
    "duration": 4,
    "start_time": "2022-05-15T18:13:02.756Z"
   },
   {
    "duration": 15,
    "start_time": "2022-05-15T18:13:03.264Z"
   },
   {
    "duration": 4,
    "start_time": "2022-05-15T18:14:50.943Z"
   },
   {
    "duration": 5,
    "start_time": "2022-05-15T18:14:51.082Z"
   },
   {
    "duration": 13,
    "start_time": "2022-05-15T18:14:51.282Z"
   },
   {
    "duration": 6,
    "start_time": "2022-05-15T18:15:04.093Z"
   },
   {
    "duration": 15,
    "start_time": "2022-05-15T18:15:04.286Z"
   },
   {
    "duration": 4,
    "start_time": "2022-05-15T18:15:06.475Z"
   },
   {
    "duration": 5,
    "start_time": "2022-05-15T18:15:06.614Z"
   },
   {
    "duration": 13,
    "start_time": "2022-05-15T18:15:07.230Z"
   },
   {
    "duration": 15,
    "start_time": "2022-05-15T18:15:29.121Z"
   },
   {
    "duration": 1723,
    "start_time": "2022-05-15T18:19:33.096Z"
   },
   {
    "duration": 82,
    "start_time": "2022-05-15T18:19:34.822Z"
   },
   {
    "duration": 51,
    "start_time": "2022-05-15T18:19:34.906Z"
   },
   {
    "duration": 6,
    "start_time": "2022-05-15T18:19:34.960Z"
   },
   {
    "duration": 19,
    "start_time": "2022-05-15T18:19:34.968Z"
   },
   {
    "duration": 45,
    "start_time": "2022-05-15T18:19:34.989Z"
   },
   {
    "duration": 18,
    "start_time": "2022-05-15T18:19:35.036Z"
   },
   {
    "duration": 18,
    "start_time": "2022-05-15T18:19:35.057Z"
   },
   {
    "duration": 11,
    "start_time": "2022-05-15T18:19:35.127Z"
   },
   {
    "duration": 5,
    "start_time": "2022-05-15T18:19:35.226Z"
   },
   {
    "duration": 26,
    "start_time": "2022-05-15T18:19:35.233Z"
   },
   {
    "duration": 26,
    "start_time": "2022-05-15T18:19:35.262Z"
   },
   {
    "duration": 753,
    "start_time": "2022-05-22T15:19:37.951Z"
   },
   {
    "duration": 61,
    "start_time": "2022-05-22T15:19:38.706Z"
   },
   {
    "duration": 76,
    "start_time": "2022-05-22T15:19:38.769Z"
   },
   {
    "duration": 6,
    "start_time": "2022-05-22T15:19:38.847Z"
   },
   {
    "duration": 12,
    "start_time": "2022-05-22T15:19:38.854Z"
   },
   {
    "duration": 41,
    "start_time": "2022-05-22T15:19:38.868Z"
   },
   {
    "duration": 8,
    "start_time": "2022-05-22T15:19:38.911Z"
   },
   {
    "duration": 17,
    "start_time": "2022-05-22T15:19:38.921Z"
   },
   {
    "duration": 56,
    "start_time": "2022-05-22T15:19:38.941Z"
   },
   {
    "duration": 96,
    "start_time": "2022-05-22T15:19:39.000Z"
   },
   {
    "duration": 15,
    "start_time": "2022-05-22T15:19:39.098Z"
   },
   {
    "duration": 16,
    "start_time": "2022-05-22T15:19:39.115Z"
   },
   {
    "duration": 101,
    "start_time": "2022-05-23T19:08:56.194Z"
   },
   {
    "duration": 70,
    "start_time": "2022-05-23T19:21:22.467Z"
   },
   {
    "duration": 52,
    "start_time": "2022-05-23T19:29:17.949Z"
   }
  ],
  "kernelspec": {
   "display_name": "Python 3",
   "language": "python",
   "name": "python3"
  },
  "language_info": {
   "codemirror_mode": {
    "name": "ipython",
    "version": 3
   },
   "file_extension": ".py",
   "mimetype": "text/x-python",
   "name": "python",
   "nbconvert_exporter": "python",
   "pygments_lexer": "ipython3",
   "version": "3.8.5"
  },
  "toc": {
   "base_numbering": 1,
   "nav_menu": {},
   "number_sections": true,
   "sideBar": true,
   "skip_h1_title": true,
   "title_cell": "Содержание",
   "title_sidebar": "Contents",
   "toc_cell": true,
   "toc_position": {
    "height": "calc(100% - 180px)",
    "left": "10px",
    "top": "150px",
    "width": "212.391px"
   },
   "toc_section_display": true,
   "toc_window_display": true
  }
 },
 "nbformat": 4,
 "nbformat_minor": 2
}
