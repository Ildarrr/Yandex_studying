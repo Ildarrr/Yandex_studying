{
 "cells": [
  {
   "cell_type": "markdown",
   "metadata": {
    "toc": true
   },
   "source": [
    "<h1>Содержание<span class=\"tocSkip\"></span></h1>\n",
    "<div class=\"toc\"><ul class=\"toc-item\"><li><span><a href=\"#Подготовка-данных\" data-toc-modified-id=\"Подготовка-данных-1\"><span class=\"toc-item-num\">1&nbsp;&nbsp;</span>Подготовка данных</a></span></li><li><span><a href=\"#Исследование-задачи\" data-toc-modified-id=\"Исследование-задачи-2\"><span class=\"toc-item-num\">2&nbsp;&nbsp;</span>Исследование задачи</a></span></li><li><span><a href=\"#Борьба-с-дисбалансом\" data-toc-modified-id=\"Борьба-с-дисбалансом-3\"><span class=\"toc-item-num\">3&nbsp;&nbsp;</span>Борьба с дисбалансом</a></span><ul class=\"toc-item\"><li><span><a href=\"#Взвешивание-классов\" data-toc-modified-id=\"Взвешивание-классов-3.1\"><span class=\"toc-item-num\">3.1&nbsp;&nbsp;</span>Взвешивание классов</a></span></li><li><span><a href=\"#Увеличение-выборки\" data-toc-modified-id=\"Увеличение-выборки-3.2\"><span class=\"toc-item-num\">3.2&nbsp;&nbsp;</span>Увеличение выборки</a></span></li><li><span><a href=\"#Уменьшение-выборки\" data-toc-modified-id=\"Уменьшение-выборки-3.3\"><span class=\"toc-item-num\">3.3&nbsp;&nbsp;</span>Уменьшение выборки</a></span></li></ul></li><li><span><a href=\"#Тестирование-модели\" data-toc-modified-id=\"Тестирование-модели-4\"><span class=\"toc-item-num\">4&nbsp;&nbsp;</span>Тестирование модели</a></span></li><li><span><a href=\"#Чек-лист-готовности-проекта\" data-toc-modified-id=\"Чек-лист-готовности-проекта-5\"><span class=\"toc-item-num\">5&nbsp;&nbsp;</span>Чек-лист готовности проекта</a></span></li></ul></div>"
   ]
  },
  {
   "cell_type": "markdown",
   "metadata": {},
   "source": [
    "# Отток клиентов"
   ]
  },
  {
   "cell_type": "markdown",
   "metadata": {},
   "source": [
    "Из «Бета-Банка» стали уходить клиенты. Каждый месяц. Немного, но заметно. Банковские маркетологи посчитали: сохранять текущих клиентов дешевле, чем привлекать новых.\n",
    "\n",
    "Нужно спрогнозировать, уйдёт клиент из банка в ближайшее время или нет. Вам предоставлены исторические данные о поведении клиентов и расторжении договоров с банком. \n",
    "\n",
    "Постройте модель с предельно большим значением *F1*-меры. Чтобы сдать проект успешно, нужно довести метрику до 0.59. Проверьте *F1*-меру на тестовой выборке самостоятельно.\n",
    "\n",
    "Дополнительно измеряйте *AUC-ROC*, сравнивайте её значение с *F1*-мерой.\n",
    "\n",
    "Источник данных: [https://www.kaggle.com/barelydedicated/bank-customer-churn-modeling](https://www.kaggle.com/barelydedicated/bank-customer-churn-modeling)"
   ]
  },
  {
   "cell_type": "markdown",
   "metadata": {},
   "source": [
    "<b>Укажем описание признаков:</b>\n",
    "\n",
    "<b>Признаки</b>\n",
    "- RowNumber — индекс строки в данных\n",
    "- CustomerId — уникальный идентификатор клиента\n",
    "- Surname — фамилия\n",
    "- CreditScore — кредитный рейтинг\n",
    "- Geography — страна проживания\n",
    "- Gender — пол\n",
    "- Age — возраст\n",
    "- Tenure — сколько лет человек является клиентом банка\n",
    "- Balance — баланс на счёте\n",
    "- NumOfProducts — количество продуктов банка, используемых клиентом\n",
    "- HasCrCard — наличие кредитной карты\n",
    "- IsActiveMember — активность клиента\n",
    "- EstimatedSalary — предполагаемая зарплата\n",
    "\n",
    "<b>Целевой признак</b>\n",
    "- Exited — факт ухода клиента"
   ]
  },
  {
   "cell_type": "markdown",
   "metadata": {},
   "source": [
    "## Подготовка данных"
   ]
  },
  {
   "cell_type": "code",
   "execution_count": 114,
   "metadata": {},
   "outputs": [],
   "source": [
    "#подключим необходимые для работы библиотеки\n",
    "\n",
    "import pandas as pd\n",
    "import numpy as np\n",
    "import warnings\n",
    "warnings.simplefilter(\"ignore\")\n",
    "pd.options.display.float_format = '{:,.3f}'.format\n",
    "\n",
    "from sklearn.linear_model import LogisticRegression \n",
    "from sklearn.tree import DecisionTreeClassifier\n",
    "from sklearn.ensemble import RandomForestClassifier\n",
    "from sklearn.model_selection import train_test_split \n",
    "from sklearn.preprocessing import StandardScaler \n",
    "from sklearn.metrics import f1_score, precision_score, recall_score, accuracy_score, roc_auc_score, roc_curve\n",
    "from sklearn.utils import shuffle\n",
    "from sklearn.model_selection import GridSearchCV\n",
    "import matplotlib.pyplot as plt"
   ]
  },
  {
   "cell_type": "code",
   "execution_count": 2,
   "metadata": {},
   "outputs": [],
   "source": [
    "#прочитаем исходный датафрейм\n",
    "\n",
    "try:\n",
    "    data = pd.read_csv('C:/Users/jnybfuvybtfgl kfolbl/mypythonworks/yandex/Churn.csv', sep=',') \n",
    "    \n",
    "except:\n",
    "    data = pd.read_csv('/datasets/Churn.csv', sep=',')"
   ]
  },
  {
   "cell_type": "code",
   "execution_count": 3,
   "metadata": {},
   "outputs": [
    {
     "name": "stdout",
     "output_type": "stream",
     "text": [
      "Первые 10 строк датафрейма:\n"
     ]
    },
    {
     "data": {
      "text/html": [
       "<div>\n",
       "<style scoped>\n",
       "    .dataframe tbody tr th:only-of-type {\n",
       "        vertical-align: middle;\n",
       "    }\n",
       "\n",
       "    .dataframe tbody tr th {\n",
       "        vertical-align: top;\n",
       "    }\n",
       "\n",
       "    .dataframe thead th {\n",
       "        text-align: right;\n",
       "    }\n",
       "</style>\n",
       "<table border=\"1\" class=\"dataframe\">\n",
       "  <thead>\n",
       "    <tr style=\"text-align: right;\">\n",
       "      <th></th>\n",
       "      <th>RowNumber</th>\n",
       "      <th>CustomerId</th>\n",
       "      <th>Surname</th>\n",
       "      <th>CreditScore</th>\n",
       "      <th>Geography</th>\n",
       "      <th>Gender</th>\n",
       "      <th>Age</th>\n",
       "      <th>Tenure</th>\n",
       "      <th>Balance</th>\n",
       "      <th>NumOfProducts</th>\n",
       "      <th>HasCrCard</th>\n",
       "      <th>IsActiveMember</th>\n",
       "      <th>EstimatedSalary</th>\n",
       "      <th>Exited</th>\n",
       "    </tr>\n",
       "  </thead>\n",
       "  <tbody>\n",
       "    <tr>\n",
       "      <th>0</th>\n",
       "      <td>1</td>\n",
       "      <td>15634602</td>\n",
       "      <td>Hargrave</td>\n",
       "      <td>619</td>\n",
       "      <td>France</td>\n",
       "      <td>Female</td>\n",
       "      <td>42</td>\n",
       "      <td>2.00</td>\n",
       "      <td>0.00</td>\n",
       "      <td>1</td>\n",
       "      <td>1</td>\n",
       "      <td>1</td>\n",
       "      <td>101,348.88</td>\n",
       "      <td>1</td>\n",
       "    </tr>\n",
       "    <tr>\n",
       "      <th>1</th>\n",
       "      <td>2</td>\n",
       "      <td>15647311</td>\n",
       "      <td>Hill</td>\n",
       "      <td>608</td>\n",
       "      <td>Spain</td>\n",
       "      <td>Female</td>\n",
       "      <td>41</td>\n",
       "      <td>1.00</td>\n",
       "      <td>83,807.86</td>\n",
       "      <td>1</td>\n",
       "      <td>0</td>\n",
       "      <td>1</td>\n",
       "      <td>112,542.58</td>\n",
       "      <td>0</td>\n",
       "    </tr>\n",
       "    <tr>\n",
       "      <th>2</th>\n",
       "      <td>3</td>\n",
       "      <td>15619304</td>\n",
       "      <td>Onio</td>\n",
       "      <td>502</td>\n",
       "      <td>France</td>\n",
       "      <td>Female</td>\n",
       "      <td>42</td>\n",
       "      <td>8.00</td>\n",
       "      <td>159,660.80</td>\n",
       "      <td>3</td>\n",
       "      <td>1</td>\n",
       "      <td>0</td>\n",
       "      <td>113,931.57</td>\n",
       "      <td>1</td>\n",
       "    </tr>\n",
       "    <tr>\n",
       "      <th>3</th>\n",
       "      <td>4</td>\n",
       "      <td>15701354</td>\n",
       "      <td>Boni</td>\n",
       "      <td>699</td>\n",
       "      <td>France</td>\n",
       "      <td>Female</td>\n",
       "      <td>39</td>\n",
       "      <td>1.00</td>\n",
       "      <td>0.00</td>\n",
       "      <td>2</td>\n",
       "      <td>0</td>\n",
       "      <td>0</td>\n",
       "      <td>93,826.63</td>\n",
       "      <td>0</td>\n",
       "    </tr>\n",
       "    <tr>\n",
       "      <th>4</th>\n",
       "      <td>5</td>\n",
       "      <td>15737888</td>\n",
       "      <td>Mitchell</td>\n",
       "      <td>850</td>\n",
       "      <td>Spain</td>\n",
       "      <td>Female</td>\n",
       "      <td>43</td>\n",
       "      <td>2.00</td>\n",
       "      <td>125,510.82</td>\n",
       "      <td>1</td>\n",
       "      <td>1</td>\n",
       "      <td>1</td>\n",
       "      <td>79,084.10</td>\n",
       "      <td>0</td>\n",
       "    </tr>\n",
       "    <tr>\n",
       "      <th>5</th>\n",
       "      <td>6</td>\n",
       "      <td>15574012</td>\n",
       "      <td>Chu</td>\n",
       "      <td>645</td>\n",
       "      <td>Spain</td>\n",
       "      <td>Male</td>\n",
       "      <td>44</td>\n",
       "      <td>8.00</td>\n",
       "      <td>113,755.78</td>\n",
       "      <td>2</td>\n",
       "      <td>1</td>\n",
       "      <td>0</td>\n",
       "      <td>149,756.71</td>\n",
       "      <td>1</td>\n",
       "    </tr>\n",
       "    <tr>\n",
       "      <th>6</th>\n",
       "      <td>7</td>\n",
       "      <td>15592531</td>\n",
       "      <td>Bartlett</td>\n",
       "      <td>822</td>\n",
       "      <td>France</td>\n",
       "      <td>Male</td>\n",
       "      <td>50</td>\n",
       "      <td>7.00</td>\n",
       "      <td>0.00</td>\n",
       "      <td>2</td>\n",
       "      <td>1</td>\n",
       "      <td>1</td>\n",
       "      <td>10,062.80</td>\n",
       "      <td>0</td>\n",
       "    </tr>\n",
       "    <tr>\n",
       "      <th>7</th>\n",
       "      <td>8</td>\n",
       "      <td>15656148</td>\n",
       "      <td>Obinna</td>\n",
       "      <td>376</td>\n",
       "      <td>Germany</td>\n",
       "      <td>Female</td>\n",
       "      <td>29</td>\n",
       "      <td>4.00</td>\n",
       "      <td>115,046.74</td>\n",
       "      <td>4</td>\n",
       "      <td>1</td>\n",
       "      <td>0</td>\n",
       "      <td>119,346.88</td>\n",
       "      <td>1</td>\n",
       "    </tr>\n",
       "    <tr>\n",
       "      <th>8</th>\n",
       "      <td>9</td>\n",
       "      <td>15792365</td>\n",
       "      <td>He</td>\n",
       "      <td>501</td>\n",
       "      <td>France</td>\n",
       "      <td>Male</td>\n",
       "      <td>44</td>\n",
       "      <td>4.00</td>\n",
       "      <td>142,051.07</td>\n",
       "      <td>2</td>\n",
       "      <td>0</td>\n",
       "      <td>1</td>\n",
       "      <td>74,940.50</td>\n",
       "      <td>0</td>\n",
       "    </tr>\n",
       "    <tr>\n",
       "      <th>9</th>\n",
       "      <td>10</td>\n",
       "      <td>15592389</td>\n",
       "      <td>H?</td>\n",
       "      <td>684</td>\n",
       "      <td>France</td>\n",
       "      <td>Male</td>\n",
       "      <td>27</td>\n",
       "      <td>2.00</td>\n",
       "      <td>134,603.88</td>\n",
       "      <td>1</td>\n",
       "      <td>1</td>\n",
       "      <td>1</td>\n",
       "      <td>71,725.73</td>\n",
       "      <td>0</td>\n",
       "    </tr>\n",
       "  </tbody>\n",
       "</table>\n",
       "</div>"
      ],
      "text/plain": [
       "   RowNumber  CustomerId   Surname  CreditScore Geography  Gender  Age  \\\n",
       "0          1    15634602  Hargrave          619    France  Female   42   \n",
       "1          2    15647311      Hill          608     Spain  Female   41   \n",
       "2          3    15619304      Onio          502    France  Female   42   \n",
       "3          4    15701354      Boni          699    France  Female   39   \n",
       "4          5    15737888  Mitchell          850     Spain  Female   43   \n",
       "5          6    15574012       Chu          645     Spain    Male   44   \n",
       "6          7    15592531  Bartlett          822    France    Male   50   \n",
       "7          8    15656148    Obinna          376   Germany  Female   29   \n",
       "8          9    15792365        He          501    France    Male   44   \n",
       "9         10    15592389        H?          684    France    Male   27   \n",
       "\n",
       "   Tenure    Balance  NumOfProducts  HasCrCard  IsActiveMember  \\\n",
       "0    2.00       0.00              1          1               1   \n",
       "1    1.00  83,807.86              1          0               1   \n",
       "2    8.00 159,660.80              3          1               0   \n",
       "3    1.00       0.00              2          0               0   \n",
       "4    2.00 125,510.82              1          1               1   \n",
       "5    8.00 113,755.78              2          1               0   \n",
       "6    7.00       0.00              2          1               1   \n",
       "7    4.00 115,046.74              4          1               0   \n",
       "8    4.00 142,051.07              2          0               1   \n",
       "9    2.00 134,603.88              1          1               1   \n",
       "\n",
       "   EstimatedSalary  Exited  \n",
       "0       101,348.88       1  \n",
       "1       112,542.58       0  \n",
       "2       113,931.57       1  \n",
       "3        93,826.63       0  \n",
       "4        79,084.10       0  \n",
       "5       149,756.71       1  \n",
       "6        10,062.80       0  \n",
       "7       119,346.88       1  \n",
       "8        74,940.50       0  \n",
       "9        71,725.73       0  "
      ]
     },
     "metadata": {},
     "output_type": "display_data"
    },
    {
     "name": "stdout",
     "output_type": "stream",
     "text": [
      "Основная информация о датафрейме:\n",
      "<class 'pandas.core.frame.DataFrame'>\n",
      "RangeIndex: 10000 entries, 0 to 9999\n",
      "Data columns (total 14 columns):\n",
      " #   Column           Non-Null Count  Dtype  \n",
      "---  ------           --------------  -----  \n",
      " 0   RowNumber        10000 non-null  int64  \n",
      " 1   CustomerId       10000 non-null  int64  \n",
      " 2   Surname          10000 non-null  object \n",
      " 3   CreditScore      10000 non-null  int64  \n",
      " 4   Geography        10000 non-null  object \n",
      " 5   Gender           10000 non-null  object \n",
      " 6   Age              10000 non-null  int64  \n",
      " 7   Tenure           9091 non-null   float64\n",
      " 8   Balance          10000 non-null  float64\n",
      " 9   NumOfProducts    10000 non-null  int64  \n",
      " 10  HasCrCard        10000 non-null  int64  \n",
      " 11  IsActiveMember   10000 non-null  int64  \n",
      " 12  EstimatedSalary  10000 non-null  float64\n",
      " 13  Exited           10000 non-null  int64  \n",
      "dtypes: float64(3), int64(8), object(3)\n",
      "memory usage: 1.1+ MB\n"
     ]
    },
    {
     "data": {
      "text/plain": [
       "None"
      ]
     },
     "metadata": {},
     "output_type": "display_data"
    },
    {
     "name": "stdout",
     "output_type": "stream",
     "text": [
      "Размер датасета:\n"
     ]
    },
    {
     "data": {
      "text/plain": [
       "(10000, 14)"
      ]
     },
     "metadata": {},
     "output_type": "display_data"
    },
    {
     "name": "stdout",
     "output_type": "stream",
     "text": [
      "Доля пропущенных данных в датафрейме:\n"
     ]
    },
    {
     "data": {
      "text/plain": [
       "RowNumber         0.00\n",
       "CustomerId        0.00\n",
       "Surname           0.00\n",
       "CreditScore       0.00\n",
       "Geography         0.00\n",
       "Gender            0.00\n",
       "Age               0.00\n",
       "Tenure            0.09\n",
       "Balance           0.00\n",
       "NumOfProducts     0.00\n",
       "HasCrCard         0.00\n",
       "IsActiveMember    0.00\n",
       "EstimatedSalary   0.00\n",
       "Exited            0.00\n",
       "dtype: float64"
      ]
     },
     "metadata": {},
     "output_type": "display_data"
    },
    {
     "name": "stdout",
     "output_type": "stream",
     "text": [
      "Количество дубликатов: \n"
     ]
    },
    {
     "data": {
      "text/plain": [
       "0"
      ]
     },
     "metadata": {},
     "output_type": "display_data"
    }
   ],
   "source": [
    "# изучим основную информацию о датафрейме\n",
    "\n",
    "print('Первые 10 строк датафрейма:')\n",
    "display(data.head(10))\n",
    "print('Основная информация о датафрейме:')\n",
    "display(data.info())\n",
    "print('Размер датасета:')\n",
    "display(data.shape)\n",
    "print('Доля пропущенных данных в датафрейме:')\n",
    "display(data.isna().mean())\n",
    "print('Количество дубликатов: ')\n",
    "display(data.duplicated().sum())"
   ]
  },
  {
   "cell_type": "markdown",
   "metadata": {},
   "source": [
    "<div class=\"alert alert-info\">\n",
    "<b>Комментарий студента:</b>\n",
    "<br>\n",
    "Изучив исходные данные датафрейма можно сказать, что данные представлены практически в полном объеме, за исключением столбца 'Tenure', типы данных корректны, кроме столбца 'Tenure'. Также в представленном датафрейме уже имеется целевой признак - \"Exited\".\n",
    "</div>"
   ]
  },
  {
   "cell_type": "markdown",
   "metadata": {},
   "source": [
    "<div class=\"alert alert-info\">\n",
    "<b>Комментарий студента:</b>\n",
    "<br>\n",
    "Заполним пропущенные значения столбца 'Tenure' медианным зчанением и изменим тип данных по данному столбцу.\n",
    "</div>"
   ]
  },
  {
   "cell_type": "code",
   "execution_count": 4,
   "metadata": {},
   "outputs": [],
   "source": [
    "data['Tenure'] = data['Tenure'].fillna(data['Tenure'].median()).astype(int)"
   ]
  },
  {
   "cell_type": "markdown",
   "metadata": {},
   "source": [
    "<div class=\"alert alert-info\">\n",
    "<b>Комментарий студента:</b>\n",
    "<br>\n",
    "Также из исходного датафрейма удалим ряд стоблцов, которые не нужны при обучении модели. \n",
    "</div>"
   ]
  },
  {
   "cell_type": "code",
   "execution_count": 5,
   "metadata": {},
   "outputs": [],
   "source": [
    "data = data.drop(['RowNumber','CustomerId','Surname'], axis=1)"
   ]
  },
  {
   "cell_type": "markdown",
   "metadata": {},
   "source": [
    "<div class=\"alert alert-info\">\n",
    "<b>Комментарий студента:</b>\n",
    "<br>\n",
    "Перейдем к подготовке признаков. Техникой ОНЕ преобразуем категориальные признаки в численные.\n",
    "</div>"
   ]
  },
  {
   "cell_type": "code",
   "execution_count": 6,
   "metadata": {},
   "outputs": [
    {
     "data": {
      "text/html": [
       "<div>\n",
       "<style scoped>\n",
       "    .dataframe tbody tr th:only-of-type {\n",
       "        vertical-align: middle;\n",
       "    }\n",
       "\n",
       "    .dataframe tbody tr th {\n",
       "        vertical-align: top;\n",
       "    }\n",
       "\n",
       "    .dataframe thead th {\n",
       "        text-align: right;\n",
       "    }\n",
       "</style>\n",
       "<table border=\"1\" class=\"dataframe\">\n",
       "  <thead>\n",
       "    <tr style=\"text-align: right;\">\n",
       "      <th></th>\n",
       "      <th>CreditScore</th>\n",
       "      <th>Age</th>\n",
       "      <th>Tenure</th>\n",
       "      <th>Balance</th>\n",
       "      <th>NumOfProducts</th>\n",
       "      <th>HasCrCard</th>\n",
       "      <th>IsActiveMember</th>\n",
       "      <th>EstimatedSalary</th>\n",
       "      <th>Exited</th>\n",
       "      <th>Geography_Germany</th>\n",
       "      <th>Geography_Spain</th>\n",
       "      <th>Gender_Male</th>\n",
       "    </tr>\n",
       "  </thead>\n",
       "  <tbody>\n",
       "    <tr>\n",
       "      <th>0</th>\n",
       "      <td>619</td>\n",
       "      <td>42</td>\n",
       "      <td>2</td>\n",
       "      <td>0.00</td>\n",
       "      <td>1</td>\n",
       "      <td>1</td>\n",
       "      <td>1</td>\n",
       "      <td>101,348.88</td>\n",
       "      <td>1</td>\n",
       "      <td>0</td>\n",
       "      <td>0</td>\n",
       "      <td>0</td>\n",
       "    </tr>\n",
       "    <tr>\n",
       "      <th>1</th>\n",
       "      <td>608</td>\n",
       "      <td>41</td>\n",
       "      <td>1</td>\n",
       "      <td>83,807.86</td>\n",
       "      <td>1</td>\n",
       "      <td>0</td>\n",
       "      <td>1</td>\n",
       "      <td>112,542.58</td>\n",
       "      <td>0</td>\n",
       "      <td>0</td>\n",
       "      <td>1</td>\n",
       "      <td>0</td>\n",
       "    </tr>\n",
       "    <tr>\n",
       "      <th>2</th>\n",
       "      <td>502</td>\n",
       "      <td>42</td>\n",
       "      <td>8</td>\n",
       "      <td>159,660.80</td>\n",
       "      <td>3</td>\n",
       "      <td>1</td>\n",
       "      <td>0</td>\n",
       "      <td>113,931.57</td>\n",
       "      <td>1</td>\n",
       "      <td>0</td>\n",
       "      <td>0</td>\n",
       "      <td>0</td>\n",
       "    </tr>\n",
       "    <tr>\n",
       "      <th>3</th>\n",
       "      <td>699</td>\n",
       "      <td>39</td>\n",
       "      <td>1</td>\n",
       "      <td>0.00</td>\n",
       "      <td>2</td>\n",
       "      <td>0</td>\n",
       "      <td>0</td>\n",
       "      <td>93,826.63</td>\n",
       "      <td>0</td>\n",
       "      <td>0</td>\n",
       "      <td>0</td>\n",
       "      <td>0</td>\n",
       "    </tr>\n",
       "    <tr>\n",
       "      <th>4</th>\n",
       "      <td>850</td>\n",
       "      <td>43</td>\n",
       "      <td>2</td>\n",
       "      <td>125,510.82</td>\n",
       "      <td>1</td>\n",
       "      <td>1</td>\n",
       "      <td>1</td>\n",
       "      <td>79,084.10</td>\n",
       "      <td>0</td>\n",
       "      <td>0</td>\n",
       "      <td>1</td>\n",
       "      <td>0</td>\n",
       "    </tr>\n",
       "    <tr>\n",
       "      <th>...</th>\n",
       "      <td>...</td>\n",
       "      <td>...</td>\n",
       "      <td>...</td>\n",
       "      <td>...</td>\n",
       "      <td>...</td>\n",
       "      <td>...</td>\n",
       "      <td>...</td>\n",
       "      <td>...</td>\n",
       "      <td>...</td>\n",
       "      <td>...</td>\n",
       "      <td>...</td>\n",
       "      <td>...</td>\n",
       "    </tr>\n",
       "    <tr>\n",
       "      <th>9995</th>\n",
       "      <td>771</td>\n",
       "      <td>39</td>\n",
       "      <td>5</td>\n",
       "      <td>0.00</td>\n",
       "      <td>2</td>\n",
       "      <td>1</td>\n",
       "      <td>0</td>\n",
       "      <td>96,270.64</td>\n",
       "      <td>0</td>\n",
       "      <td>0</td>\n",
       "      <td>0</td>\n",
       "      <td>1</td>\n",
       "    </tr>\n",
       "    <tr>\n",
       "      <th>9996</th>\n",
       "      <td>516</td>\n",
       "      <td>35</td>\n",
       "      <td>10</td>\n",
       "      <td>57,369.61</td>\n",
       "      <td>1</td>\n",
       "      <td>1</td>\n",
       "      <td>1</td>\n",
       "      <td>101,699.77</td>\n",
       "      <td>0</td>\n",
       "      <td>0</td>\n",
       "      <td>0</td>\n",
       "      <td>1</td>\n",
       "    </tr>\n",
       "    <tr>\n",
       "      <th>9997</th>\n",
       "      <td>709</td>\n",
       "      <td>36</td>\n",
       "      <td>7</td>\n",
       "      <td>0.00</td>\n",
       "      <td>1</td>\n",
       "      <td>0</td>\n",
       "      <td>1</td>\n",
       "      <td>42,085.58</td>\n",
       "      <td>1</td>\n",
       "      <td>0</td>\n",
       "      <td>0</td>\n",
       "      <td>0</td>\n",
       "    </tr>\n",
       "    <tr>\n",
       "      <th>9998</th>\n",
       "      <td>772</td>\n",
       "      <td>42</td>\n",
       "      <td>3</td>\n",
       "      <td>75,075.31</td>\n",
       "      <td>2</td>\n",
       "      <td>1</td>\n",
       "      <td>0</td>\n",
       "      <td>92,888.52</td>\n",
       "      <td>1</td>\n",
       "      <td>1</td>\n",
       "      <td>0</td>\n",
       "      <td>1</td>\n",
       "    </tr>\n",
       "    <tr>\n",
       "      <th>9999</th>\n",
       "      <td>792</td>\n",
       "      <td>28</td>\n",
       "      <td>5</td>\n",
       "      <td>130,142.79</td>\n",
       "      <td>1</td>\n",
       "      <td>1</td>\n",
       "      <td>0</td>\n",
       "      <td>38,190.78</td>\n",
       "      <td>0</td>\n",
       "      <td>0</td>\n",
       "      <td>0</td>\n",
       "      <td>0</td>\n",
       "    </tr>\n",
       "  </tbody>\n",
       "</table>\n",
       "<p>10000 rows × 12 columns</p>\n",
       "</div>"
      ],
      "text/plain": [
       "      CreditScore  Age  Tenure    Balance  NumOfProducts  HasCrCard  \\\n",
       "0             619   42       2       0.00              1          1   \n",
       "1             608   41       1  83,807.86              1          0   \n",
       "2             502   42       8 159,660.80              3          1   \n",
       "3             699   39       1       0.00              2          0   \n",
       "4             850   43       2 125,510.82              1          1   \n",
       "...           ...  ...     ...        ...            ...        ...   \n",
       "9995          771   39       5       0.00              2          1   \n",
       "9996          516   35      10  57,369.61              1          1   \n",
       "9997          709   36       7       0.00              1          0   \n",
       "9998          772   42       3  75,075.31              2          1   \n",
       "9999          792   28       5 130,142.79              1          1   \n",
       "\n",
       "      IsActiveMember  EstimatedSalary  Exited  Geography_Germany  \\\n",
       "0                  1       101,348.88       1                  0   \n",
       "1                  1       112,542.58       0                  0   \n",
       "2                  0       113,931.57       1                  0   \n",
       "3                  0        93,826.63       0                  0   \n",
       "4                  1        79,084.10       0                  0   \n",
       "...              ...              ...     ...                ...   \n",
       "9995               0        96,270.64       0                  0   \n",
       "9996               1       101,699.77       0                  0   \n",
       "9997               1        42,085.58       1                  0   \n",
       "9998               0        92,888.52       1                  1   \n",
       "9999               0        38,190.78       0                  0   \n",
       "\n",
       "      Geography_Spain  Gender_Male  \n",
       "0                   0            0  \n",
       "1                   1            0  \n",
       "2                   0            0  \n",
       "3                   0            0  \n",
       "4                   1            0  \n",
       "...               ...          ...  \n",
       "9995                0            1  \n",
       "9996                0            1  \n",
       "9997                0            0  \n",
       "9998                0            1  \n",
       "9999                0            0  \n",
       "\n",
       "[10000 rows x 12 columns]"
      ]
     },
     "execution_count": 6,
     "metadata": {},
     "output_type": "execute_result"
    }
   ],
   "source": [
    "data = pd.get_dummies(data, drop_first=True)\n",
    "\n",
    "data"
   ]
  },
  {
   "cell_type": "markdown",
   "metadata": {},
   "source": [
    "<div class=\"alert alert-info\">\n",
    "<b>Комментарий студента:</b>\n",
    "<br>\n",
    "Далее нам необходимо разделить выборку на обучающую, валидационную и тестовую.\n",
    "Т.к. у нас нет спрятанной тестовой выборки поделим исходные данные на три части. Сделаем размеры валидационного и тестового наборов одинаковыми, а общее соотношение обучающего, валидационного и тестового наборов примем 3:1:1 соответственно, т.е. 60%:20%:20%. \n",
    "</div>\n"
   ]
  },
  {
   "cell_type": "code",
   "execution_count": 7,
   "metadata": {},
   "outputs": [
    {
     "name": "stdout",
     "output_type": "stream",
     "text": [
      "Размер обучающей выборки равен:  (2000, 11)\n",
      "Размер валидационной выборки равен:  (6000, 11)\n",
      "Размер тестовой выборки равен:  (2000, 11)\n"
     ]
    }
   ],
   "source": [
    "#для начала отделим обучающую выборку от валидационной и тестовой\n",
    "\n",
    "target = data['Exited']\n",
    "features = data.drop('Exited', axis=1)\n",
    "\n",
    "features_train, features_valid_test, target_train, target_valid_test = train_test_split(features, target, test_size=0.4, \n",
    "                                                                              random_state=12345)\n",
    "\n",
    "#далее отделим тестовую выборку от валидационной\n",
    "\n",
    "features_valid, features_test, target_valid, target_test = train_test_split(features_valid_test, target_valid_test, test_size=0.5,\n",
    "                                                                              random_state=12345)\n",
    "\n",
    "#далее узнаем размеры выборок\n",
    "\n",
    "print('Размер обучающей выборки равен: ', features_train.shape)\n",
    "print('Размер валидационной выборки равен: ', features_valid.shape)\n",
    "print('Размер тестовой выборки равен: ', features_test.shape)"
   ]
  },
  {
   "cell_type": "markdown",
   "metadata": {},
   "source": [
    "<div class=\"alert alert-info\">\n",
    "<b>Комментарий студента:</b>\n",
    "<br>\n",
    "Теперь проведем масштабирование количественных признаков с помощью их стандартизации.\n",
    "</div>"
   ]
  },
  {
   "cell_type": "code",
   "execution_count": 8,
   "metadata": {
    "scrolled": false
   },
   "outputs": [
    {
     "data": {
      "text/html": [
       "<div>\n",
       "<style scoped>\n",
       "    .dataframe tbody tr th:only-of-type {\n",
       "        vertical-align: middle;\n",
       "    }\n",
       "\n",
       "    .dataframe tbody tr th {\n",
       "        vertical-align: top;\n",
       "    }\n",
       "\n",
       "    .dataframe thead th {\n",
       "        text-align: right;\n",
       "    }\n",
       "</style>\n",
       "<table border=\"1\" class=\"dataframe\">\n",
       "  <thead>\n",
       "    <tr style=\"text-align: right;\">\n",
       "      <th></th>\n",
       "      <th>CreditScore</th>\n",
       "      <th>Age</th>\n",
       "      <th>Tenure</th>\n",
       "      <th>Balance</th>\n",
       "      <th>NumOfProducts</th>\n",
       "      <th>HasCrCard</th>\n",
       "      <th>IsActiveMember</th>\n",
       "      <th>EstimatedSalary</th>\n",
       "      <th>Geography_Germany</th>\n",
       "      <th>Geography_Spain</th>\n",
       "      <th>Gender_Male</th>\n",
       "    </tr>\n",
       "  </thead>\n",
       "  <tbody>\n",
       "    <tr>\n",
       "      <th>7479</th>\n",
       "      <td>-0.89</td>\n",
       "      <td>-0.37</td>\n",
       "      <td>1.08</td>\n",
       "      <td>1.23</td>\n",
       "      <td>-0.89</td>\n",
       "      <td>1</td>\n",
       "      <td>0</td>\n",
       "      <td>-0.19</td>\n",
       "      <td>0</td>\n",
       "      <td>1</td>\n",
       "      <td>1</td>\n",
       "    </tr>\n",
       "    <tr>\n",
       "      <th>3411</th>\n",
       "      <td>0.61</td>\n",
       "      <td>-0.18</td>\n",
       "      <td>1.08</td>\n",
       "      <td>0.60</td>\n",
       "      <td>-0.89</td>\n",
       "      <td>0</td>\n",
       "      <td>0</td>\n",
       "      <td>-0.33</td>\n",
       "      <td>0</td>\n",
       "      <td>0</td>\n",
       "      <td>0</td>\n",
       "    </tr>\n",
       "    <tr>\n",
       "      <th>6027</th>\n",
       "      <td>2.05</td>\n",
       "      <td>0.48</td>\n",
       "      <td>-0.74</td>\n",
       "      <td>1.03</td>\n",
       "      <td>0.83</td>\n",
       "      <td>0</td>\n",
       "      <td>1</td>\n",
       "      <td>1.50</td>\n",
       "      <td>1</td>\n",
       "      <td>0</td>\n",
       "      <td>1</td>\n",
       "    </tr>\n",
       "    <tr>\n",
       "      <th>1247</th>\n",
       "      <td>-1.46</td>\n",
       "      <td>-1.42</td>\n",
       "      <td>0.35</td>\n",
       "      <td>-1.23</td>\n",
       "      <td>0.83</td>\n",
       "      <td>1</td>\n",
       "      <td>0</td>\n",
       "      <td>-1.07</td>\n",
       "      <td>0</td>\n",
       "      <td>0</td>\n",
       "      <td>1</td>\n",
       "    </tr>\n",
       "    <tr>\n",
       "      <th>3716</th>\n",
       "      <td>0.13</td>\n",
       "      <td>-1.13</td>\n",
       "      <td>-1.10</td>\n",
       "      <td>1.14</td>\n",
       "      <td>-0.89</td>\n",
       "      <td>0</td>\n",
       "      <td>0</td>\n",
       "      <td>1.52</td>\n",
       "      <td>1</td>\n",
       "      <td>0</td>\n",
       "      <td>0</td>\n",
       "    </tr>\n",
       "    <tr>\n",
       "      <th>...</th>\n",
       "      <td>...</td>\n",
       "      <td>...</td>\n",
       "      <td>...</td>\n",
       "      <td>...</td>\n",
       "      <td>...</td>\n",
       "      <td>...</td>\n",
       "      <td>...</td>\n",
       "      <td>...</td>\n",
       "      <td>...</td>\n",
       "      <td>...</td>\n",
       "      <td>...</td>\n",
       "    </tr>\n",
       "    <tr>\n",
       "      <th>4478</th>\n",
       "      <td>-1.07</td>\n",
       "      <td>-0.75</td>\n",
       "      <td>-0.37</td>\n",
       "      <td>-1.23</td>\n",
       "      <td>0.83</td>\n",
       "      <td>0</td>\n",
       "      <td>1</td>\n",
       "      <td>-1.28</td>\n",
       "      <td>0</td>\n",
       "      <td>0</td>\n",
       "      <td>1</td>\n",
       "    </tr>\n",
       "    <tr>\n",
       "      <th>4094</th>\n",
       "      <td>-1.45</td>\n",
       "      <td>-0.94</td>\n",
       "      <td>1.81</td>\n",
       "      <td>-1.23</td>\n",
       "      <td>0.83</td>\n",
       "      <td>0</td>\n",
       "      <td>1</td>\n",
       "      <td>-1.28</td>\n",
       "      <td>0</td>\n",
       "      <td>0</td>\n",
       "      <td>1</td>\n",
       "    </tr>\n",
       "    <tr>\n",
       "      <th>3492</th>\n",
       "      <td>0.03</td>\n",
       "      <td>0.58</td>\n",
       "      <td>-0.01</td>\n",
       "      <td>-0.31</td>\n",
       "      <td>-0.89</td>\n",
       "      <td>0</td>\n",
       "      <td>1</td>\n",
       "      <td>-0.90</td>\n",
       "      <td>0</td>\n",
       "      <td>0</td>\n",
       "      <td>0</td>\n",
       "    </tr>\n",
       "    <tr>\n",
       "      <th>2177</th>\n",
       "      <td>0.15</td>\n",
       "      <td>-1.42</td>\n",
       "      <td>-0.37</td>\n",
       "      <td>-1.23</td>\n",
       "      <td>0.83</td>\n",
       "      <td>0</td>\n",
       "      <td>1</td>\n",
       "      <td>-1.13</td>\n",
       "      <td>0</td>\n",
       "      <td>0</td>\n",
       "      <td>0</td>\n",
       "    </tr>\n",
       "    <tr>\n",
       "      <th>4578</th>\n",
       "      <td>0.40</td>\n",
       "      <td>-0.09</td>\n",
       "      <td>-1.47</td>\n",
       "      <td>-1.23</td>\n",
       "      <td>0.83</td>\n",
       "      <td>0</td>\n",
       "      <td>0</td>\n",
       "      <td>-0.95</td>\n",
       "      <td>0</td>\n",
       "      <td>0</td>\n",
       "      <td>1</td>\n",
       "    </tr>\n",
       "  </tbody>\n",
       "</table>\n",
       "<p>6000 rows × 11 columns</p>\n",
       "</div>"
      ],
      "text/plain": [
       "      CreditScore   Age  Tenure  Balance  NumOfProducts  HasCrCard  \\\n",
       "7479        -0.89 -0.37    1.08     1.23          -0.89          1   \n",
       "3411         0.61 -0.18    1.08     0.60          -0.89          0   \n",
       "6027         2.05  0.48   -0.74     1.03           0.83          0   \n",
       "1247        -1.46 -1.42    0.35    -1.23           0.83          1   \n",
       "3716         0.13 -1.13   -1.10     1.14          -0.89          0   \n",
       "...           ...   ...     ...      ...            ...        ...   \n",
       "4478        -1.07 -0.75   -0.37    -1.23           0.83          0   \n",
       "4094        -1.45 -0.94    1.81    -1.23           0.83          0   \n",
       "3492         0.03  0.58   -0.01    -0.31          -0.89          0   \n",
       "2177         0.15 -1.42   -0.37    -1.23           0.83          0   \n",
       "4578         0.40 -0.09   -1.47    -1.23           0.83          0   \n",
       "\n",
       "      IsActiveMember  EstimatedSalary  Geography_Germany  Geography_Spain  \\\n",
       "7479               0            -0.19                  0                1   \n",
       "3411               0            -0.33                  0                0   \n",
       "6027               1             1.50                  1                0   \n",
       "1247               0            -1.07                  0                0   \n",
       "3716               0             1.52                  1                0   \n",
       "...              ...              ...                ...              ...   \n",
       "4478               1            -1.28                  0                0   \n",
       "4094               1            -1.28                  0                0   \n",
       "3492               1            -0.90                  0                0   \n",
       "2177               1            -1.13                  0                0   \n",
       "4578               0            -0.95                  0                0   \n",
       "\n",
       "      Gender_Male  \n",
       "7479            1  \n",
       "3411            0  \n",
       "6027            1  \n",
       "1247            1  \n",
       "3716            0  \n",
       "...           ...  \n",
       "4478            1  \n",
       "4094            1  \n",
       "3492            0  \n",
       "2177            0  \n",
       "4578            1  \n",
       "\n",
       "[6000 rows x 11 columns]"
      ]
     },
     "execution_count": 8,
     "metadata": {},
     "output_type": "execute_result"
    }
   ],
   "source": [
    "numeric = ['CreditScore', 'Age', 'Tenure', 'Balance', 'NumOfProducts', 'EstimatedSalary']\n",
    "\n",
    "scaler = StandardScaler()\n",
    "scaler.fit(features_train[numeric]) \n",
    "\n",
    "features_train[numeric] = scaler.transform(features_train[numeric])\n",
    "features_valid[numeric]= scaler.transform(features_valid[numeric]) \n",
    "features_test[numeric]= scaler.transform(features_test[numeric]) \n",
    "\n",
    "features_train"
   ]
  },
  {
   "cell_type": "markdown",
   "metadata": {},
   "source": [
    "<div class=\"alert alert-info\">\n",
    "<b>Комментарий студента:</b>\n",
    "<br>\n",
    "Данные и признаки подготовлены. Можно переходить к исследованию задачи.\n",
    "</div>"
   ]
  },
  {
   "cell_type": "markdown",
   "metadata": {},
   "source": [
    "## Исследование задачи"
   ]
  },
  {
   "cell_type": "markdown",
   "metadata": {},
   "source": [
    "<div class=\"alert alert-info\">\n",
    "<b>Комментарий студента:</b>\n",
    "<br>\n",
    "Для начала исследуем баланс классов.\n",
    "</div>"
   ]
  },
  {
   "cell_type": "code",
   "execution_count": 9,
   "metadata": {},
   "outputs": [
    {
     "name": "stdout",
     "output_type": "stream",
     "text": [
      "0    7963\n",
      "1    2037\n",
      "Name: Exited, dtype: int64\n"
     ]
    }
   ],
   "source": [
    "#изучим количество значений каждого класса\n",
    "\n",
    "print(data['Exited'].value_counts())"
   ]
  },
  {
   "cell_type": "markdown",
   "metadata": {},
   "source": [
    "<div class=\"alert alert-info\">\n",
    "<b>Комментарий студента:</b>\n",
    "<br>\n",
    "Как можно заметить исходные данные несбалансированы. Значений класса \"0\" практически в четыре раза больше значений класса \"1\". Для начала исследуем модели без работы над дисбалансом классов. Будем исследовать модели \"Дерево решений\", \"Случайный лес\" и \"Логистическая регрессия\".\n",
    "</div>"
   ]
  },
  {
   "cell_type": "markdown",
   "metadata": {},
   "source": [
    "<div class=\"alert alert-info\">\n",
    "<b>Комментарий студента:</b>\n",
    "<br>\n",
    "Сначала происследуем данные на модели \"Дерево решений\". Для подбора оптимальных гиперпараметров используем функцию GridsearchCV. \n",
    "</div>"
   ]
  },
  {
   "cell_type": "code",
   "execution_count": 10,
   "metadata": {},
   "outputs": [
    {
     "data": {
      "text/plain": [
       "GridSearchCV(estimator=DecisionTreeClassifier(),\n",
       "             param_grid={'max_depth': [1, 2, 3, 4, 5, 6, 7, 8, 9, 10],\n",
       "                         'max_features': [1, 3, 5, 7, 9, 11, 13, 15, 17, 20],\n",
       "                         'min_samples_leaf': [1, 2, 4],\n",
       "                         'min_samples_split': [2, 5, 10],\n",
       "                         'random_state': [12345]},\n",
       "             scoring='accuracy')"
      ]
     },
     "execution_count": 10,
     "metadata": {},
     "output_type": "execute_result"
    }
   ],
   "source": [
    "#зададим гиперпараметры дерева решений\n",
    "\n",
    "max_depth = [int(x) for x in np.linspace(1, 10, num = 10)]\n",
    "\n",
    "min_samples_split = [2, 5, 10]\n",
    "\n",
    "min_samples_leaf = [1, 2, 4]\n",
    "\n",
    "max_features = [int(x) for x in np.linspace(1, 20, num = 10)]\n",
    "\n",
    "random_state=[12345]\n",
    "\n",
    "dt_grid = {'max_depth': max_depth,\n",
    "           'min_samples_split': min_samples_split,\n",
    "           'min_samples_leaf': min_samples_leaf,\n",
    "           'max_features': max_features,\n",
    "           'random_state': random_state}\n",
    "\n",
    "model_dt = GridSearchCV(DecisionTreeClassifier(), dt_grid, scoring = 'accuracy')\n",
    "# обучаем модель\n",
    "model_dt.fit(features_train,target_train)"
   ]
  },
  {
   "cell_type": "code",
   "execution_count": 11,
   "metadata": {},
   "outputs": [
    {
     "name": "stdout",
     "output_type": "stream",
     "text": [
      "Наивысшая оценка: 0.8616666666666666\n",
      "Лучшие гиперпараметры: {'max_depth': 6, 'max_features': 9, 'min_samples_leaf': 4, 'min_samples_split': 2, 'random_state': 12345}\n"
     ]
    }
   ],
   "source": [
    "#определяем лучшие гиперпараметры для дерева решений\n",
    "\n",
    "print('Наивысшая оценка: %s' % model_dt.best_score_)\n",
    "print('Лучшие гиперпараметры: %s' % model_dt.best_params_)"
   ]
  },
  {
   "cell_type": "code",
   "execution_count": 12,
   "metadata": {},
   "outputs": [
    {
     "name": "stdout",
     "output_type": "stream",
     "text": [
      "Полнота: 0.39473684210526316\n",
      "Точность: 0.7971014492753623\n",
      "F1-score: 0.5279999999999999\n"
     ]
    }
   ],
   "source": [
    "#получаем предсказания для валидационной выборки\n",
    "\n",
    "predicted_valid_dt = model_dt.predict(features_valid)\n",
    "\n",
    "#определяем значения полноты и точности для валидационной выборки\n",
    "\n",
    "print('Полнота:', recall_score(target_valid, predicted_valid_dt))\n",
    "print('Точность:', precision_score(target_valid, predicted_valid_dt))\n",
    "\n",
    "#также определяем значение f1 меры\n",
    "\n",
    "print('F1-score:', f1_score(target_valid, predicted_valid_dt))"
   ]
  },
  {
   "cell_type": "code",
   "execution_count": 13,
   "metadata": {},
   "outputs": [
    {
     "name": "stdout",
     "output_type": "stream",
     "text": [
      "AUC-ROC на тренировочной выборке: 0.864\n",
      "AUC-ROC на валидационной выборке: 0.838\n"
     ]
    }
   ],
   "source": [
    "#определим AUC-ROC для модели дерева решений\n",
    "\n",
    "print(\"AUC-ROC на валидационной выборке: {:.3f}\".\n",
    "format(roc_auc_score(target_valid, model_dt.predict_proba(features_valid)[:, 1])))"
   ]
  },
  {
   "cell_type": "markdown",
   "metadata": {},
   "source": [
    "<div class=\"alert alert-info\">\n",
    "<b>Комментарий студента:</b>\n",
    "<br>\n",
    "Нами были определены оптимальные гиперпараметры с помощью функцию GridsearchCV. Можно заметить, что такой показатель как \"полнота\" имеет достаточно низкое значение, при этом показатель \"точность\" находится на достаточно высоком уровне. То есть модель не очень хорошо ищет положительные объекты, при этом модель достаточно точно присваивает положительные метки. У данной модели достаточно высокое значение AUC-ROC на валидационной выборке. Также не особо высоокое значение у F1-меры. Модель в данном случае будет успешно предсказывать класса \"1\" лишь в 52% случаев. Мы имеем дело с несбалансированными данными, возможно данный факт вносит свои коррективы.\n",
    "</div>"
   ]
  },
  {
   "cell_type": "markdown",
   "metadata": {},
   "source": [
    "<div class=\"alert alert-info\">\n",
    "<b>Комментарий студента:</b>\n",
    "<br>\n",
    "Перейдем к модели \"Случайный лес\". Для подбора оптимальных гиперпараметров используем функцию GridsearchCV. \n",
    "</div>"
   ]
  },
  {
   "cell_type": "code",
   "execution_count": 14,
   "metadata": {},
   "outputs": [
    {
     "data": {
      "text/plain": [
       "GridSearchCV(estimator=RandomForestClassifier(),\n",
       "             param_grid={'max_depth': [1, 1, 2, 3, 4, 5, 6, 7, 8, 9, 10],\n",
       "                         'max_features': ['auto', 'sqrt'],\n",
       "                         'min_samples_leaf': [1, 2, 4],\n",
       "                         'min_samples_split': [2, 5, 10],\n",
       "                         'n_estimators': [10, 19, 28, 37, 46, 55, 64, 73, 82,\n",
       "                                          91, 100],\n",
       "                         'random_state': [12345]},\n",
       "             scoring='accuracy')"
      ]
     },
     "execution_count": 14,
     "metadata": {},
     "output_type": "execute_result"
    }
   ],
   "source": [
    "n_estimators = [int(x) for x in np.linspace(start = 10, stop = 100, num = 11)]\n",
    "\n",
    "max_depth = [int(x) for x in np.linspace(1, 10, num = 11)]\n",
    "\n",
    "max_features = ['auto', 'sqrt']\n",
    "\n",
    "min_samples_split = [2, 5, 10]\n",
    "\n",
    "min_samples_leaf = [1, 2, 4]\n",
    "\n",
    "random_state=[12345]\n",
    "\n",
    "rf_grid = {'n_estimators': n_estimators,\n",
    "           'max_features': max_features,\n",
    "           'max_depth': max_depth,\n",
    "           'min_samples_split': min_samples_split,\n",
    "           'min_samples_leaf': min_samples_leaf,\n",
    "            'random_state': random_state}\n",
    "\n",
    "\n",
    "model_rf = GridSearchCV(RandomForestClassifier(), rf_grid, scoring = 'accuracy')\n",
    "# обучаем модель\n",
    "model_rf.fit(features_train,target_train)"
   ]
  },
  {
   "cell_type": "code",
   "execution_count": 15,
   "metadata": {},
   "outputs": [
    {
     "name": "stdout",
     "output_type": "stream",
     "text": [
      "Наивысшая оценка: 0.8681666666666666\n",
      "Лучшие гиперпараметры: {'max_depth': 9, 'max_features': 'auto', 'min_samples_leaf': 1, 'min_samples_split': 10, 'n_estimators': 73, 'random_state': 12345}\n"
     ]
    }
   ],
   "source": [
    "print('Наивысшая оценка: %s' % model_rf.best_score_)\n",
    "print('Лучшие гиперпараметры: %s' % model_rf.best_params_)"
   ]
  },
  {
   "cell_type": "code",
   "execution_count": 16,
   "metadata": {},
   "outputs": [
    {
     "name": "stdout",
     "output_type": "stream",
     "text": [
      "Полнота: 0.4473684210526316\n",
      "Точность: 0.8237885462555066\n",
      "F1-score 0.57984496124031\n"
     ]
    }
   ],
   "source": [
    "#получаем предсказания для валидационной выборки\n",
    "\n",
    "predicted_valid_rf = model_rf.predict(features_valid)\n",
    "\n",
    "#определяем значения полноты и точности для валидационной выборки\n",
    "\n",
    "print('Полнота:', recall_score(target_valid, predicted_valid_rf))\n",
    "print('Точность:', precision_score(target_valid, predicted_valid_rf))\n",
    "\n",
    "#также определяем значение f1 меры\n",
    "\n",
    "print('F1-score', f1_score(target_valid, predicted_valid_rf))"
   ]
  },
  {
   "cell_type": "code",
   "execution_count": 17,
   "metadata": {},
   "outputs": [
    {
     "name": "stdout",
     "output_type": "stream",
     "text": [
      "AUC-ROC на тренировочной выборке: 0.935\n",
      "AUC-ROC на валидационной выборке: 0.852\n"
     ]
    }
   ],
   "source": [
    "#определим AUC-ROC для модели случайного леса\n",
    "\n",
    "print(\"AUC-ROC на валидационной выборке: {:.3f}\".\n",
    "format(roc_auc_score(target_valid, model_rf.predict_proba(features_valid)[:, 1])))"
   ]
  },
  {
   "cell_type": "markdown",
   "metadata": {},
   "source": [
    "<div class=\"alert alert-info\">\n",
    "<b>Комментарий студента:</b>\n",
    "<br>\n",
    "Как можно заметить по показателям выше, модель \"Случайного леса\" показывет результаты лушче, чем \"Дерево решений\", F1-мера незначительно, но выше, как и значение AUC-ROC.\n",
    "</div>"
   ]
  },
  {
   "cell_type": "markdown",
   "metadata": {},
   "source": [
    "<div class=\"alert alert-info\">\n",
    "<b>Комментарий студента:</b>\n",
    "<br>\n",
    "Перейдем к модели \"Логистическая регрессия\". Для подбора оптимальных гиперпараметров используем функцию GridsearchCV. \n",
    "</div>"
   ]
  },
  {
   "cell_type": "code",
   "execution_count": 18,
   "metadata": {},
   "outputs": [
    {
     "data": {
      "text/plain": [
       "GridSearchCV(estimator=LogisticRegression(),\n",
       "             param_grid={'C': [1, 1, 2, 3, 4, 5, 6, 7, 8, 9, 10],\n",
       "                         'max_iter': [1, 15, 30, 45, 60, 75, 90, 105, 120, 135,\n",
       "                                      150],\n",
       "                         'penalty': ['l1', 'l2', 'elasticnet', 'none'],\n",
       "                         'random_state': [12345],\n",
       "                         'solver': ['newton-cg', 'lbfgs', 'liblinear', 'sag',\n",
       "                                    'saga']},\n",
       "             scoring='accuracy')"
      ]
     },
     "execution_count": 18,
     "metadata": {},
     "output_type": "execute_result"
    }
   ],
   "source": [
    "C = [int(x) for x in np.linspace(start = 1, stop = 10, num = 11)]\n",
    "\n",
    "max_iter = [int(x) for x in np.linspace(1, 150, num = 11)]\n",
    "\n",
    "penalty = ['l1', 'l2', 'elasticnet', 'none']\n",
    "\n",
    "solver = ['newton-cg', 'lbfgs', 'liblinear', 'sag', 'saga']\n",
    "\n",
    "random_state=[12345]\n",
    "\n",
    "lr_grid = {'C': C,\n",
    "           'max_iter': max_iter,\n",
    "           'penalty': penalty,\n",
    "           'solver': solver,\n",
    "           'random_state': random_state}\n",
    "\n",
    "\n",
    "model_lr = GridSearchCV(LogisticRegression(), lr_grid, scoring = 'accuracy')\n",
    "# обучаем модель\n",
    "model_lr.fit(features_train,target_train)"
   ]
  },
  {
   "cell_type": "code",
   "execution_count": 19,
   "metadata": {},
   "outputs": [
    {
     "name": "stdout",
     "output_type": "stream",
     "text": [
      "Полнота: 0.23205741626794257\n",
      "Точность: 0.563953488372093\n",
      "F1-score 0.3288135593220339\n"
     ]
    }
   ],
   "source": [
    "#получаем предсказания для валидационной выборки\n",
    "\n",
    "predicted_valid_lr = model_lr.predict(features_valid)\n",
    "\n",
    "#определяем значения полноты и точности для валидационной выборки\n",
    "\n",
    "print('Полнота:', recall_score(target_valid, predicted_valid_lr))\n",
    "print('Точность:', precision_score(target_valid, predicted_valid_lr))\n",
    "\n",
    "#также определяем значение f1 меры\n",
    "\n",
    "print('F1-score', f1_score(target_valid, predicted_valid_lr))"
   ]
  },
  {
   "cell_type": "code",
   "execution_count": 20,
   "metadata": {},
   "outputs": [
    {
     "name": "stdout",
     "output_type": "stream",
     "text": [
      "Наивысшая оценка: 0.8173333333333334\n",
      "Лучшие гиперпараметры: {'C': 1, 'max_iter': 15, 'penalty': 'l1', 'random_state': 12345, 'solver': 'saga'}\n"
     ]
    }
   ],
   "source": [
    "print('Наивысшая оценка: %s' % model_lr.best_score_)\n",
    "print('Лучшие гиперпараметры: %s' % model_lr.best_params_)"
   ]
  },
  {
   "cell_type": "code",
   "execution_count": 21,
   "metadata": {},
   "outputs": [
    {
     "name": "stdout",
     "output_type": "stream",
     "text": [
      "AUC-ROC на тренировочной выборке: 0.777\n",
      "AUC-ROC на валидационной выборке: 0.759\n"
     ]
    }
   ],
   "source": [
    "#определим AUC-ROC для модели логистической регрессии\n",
    "\n",
    "print(\"AUC-ROC на валидационной выборке: {:.3f}\".\n",
    "format(roc_auc_score(target_valid, model_lr.predict_proba(features_valid)[:, 1])))"
   ]
  },
  {
   "cell_type": "markdown",
   "metadata": {},
   "source": [
    "<div class=\"alert alert-info\">\n",
    "<b>Комментарий студента:</b>\n",
    "<br>\n",
    "У \"Логистической регрессии\" довольно слабые результаты. Скорее всего данные были больше подготовлены под древовидные алгоритмы.\n",
    "</div>"
   ]
  },
  {
   "cell_type": "markdown",
   "metadata": {},
   "source": [
    "<div class=\"alert alert-info\">\n",
    "<b>Комментарий студента:</b>\n",
    "<br>\n",
    "Визуально отобразим наши ROC-кривые (кривые ошибок) по каждой модели.\n",
    "</div>"
   ]
  },
  {
   "cell_type": "code",
   "execution_count": 22,
   "metadata": {},
   "outputs": [
    {
     "data": {
      "image/png": "[encoded data removed]",
      "text/plain": [
       "<Figure size 864x648 with 1 Axes>"
      ]
     },
     "metadata": {
      "needs_background": "light"
     },
     "output_type": "display_data"
    }
   ],
   "source": [
    "plt.figure(figsize=[12,9])\n",
    "\n",
    "plt.plot([0, 1], [0, 1], linestyle='--', label='RandomModel')\n",
    "\n",
    "fpr, tpr, thresholds = roc_curve(target_valid, model_dt.predict_proba(features_valid)[:, 1])\n",
    "plt.plot(fpr, tpr, label='DecisionTreeClassifier')\n",
    "\n",
    "fpr, tpr, thresholds = roc_curve(target_valid, model_rf.predict_proba(features_valid)[:, 1])\n",
    "plt.plot(fpr, tpr, label='RandomForestClassifier')\n",
    "\n",
    "fpr, tpr, thresholds = roc_curve(target_valid, model_lr.predict_proba(features_valid)[:, 1])\n",
    "plt.plot(fpr, tpr, label='LogisticRegression')\n",
    "\n",
    "plt.legend(loc='lower right', fontsize='x-large')\n",
    "\n",
    "\n",
    "plt.xlim([0.0, 1.0])\n",
    "plt.ylim([0.0, 1.0])\n",
    "\n",
    "plt.xlabel('False Positive Rate')\n",
    "plt.ylabel('True Positive Rate')\n",
    "\n",
    "plt.title('ROC-кривая')\n",
    "plt.show()"
   ]
  },
  {
   "cell_type": "markdown",
   "metadata": {},
   "source": [
    "<div class=\"alert alert-info\">\n",
    "<b>Комментарий студента:</b>\n",
    "<br>\n",
    "В заключение можно сказать, что при дисбалансе классов наибольшие значения метрик F1-меры и AUC-ROC показывает модель случайного леса с F1-мерой равной 0.579 и AUC-ROC равной 0.852. Также неплохие значения метрик имеет модель дерева решений, на последнем месте по данным метрикам идет модель логистической регрессии. Возможно, влияет сильный дисбаланс классов и подготовка данных под древовидные алгоритмы. Далее изучим модели уже с учетом борьбы с дисбалансом классов и проверим так ли это)\n",
    "</div>"
   ]
  },
  {
   "cell_type": "markdown",
   "metadata": {},
   "source": [
    "## Борьба с дисбалансом"
   ]
  },
  {
   "cell_type": "markdown",
   "metadata": {},
   "source": [
    "### Взвешивание классов"
   ]
  },
  {
   "cell_type": "markdown",
   "metadata": {},
   "source": [
    "<div class=\"alert alert-info\">\n",
    "<b>Комментарий студента:</b>\n",
    "<br>\n",
    "Одним из методов борьбы с дисбалансом является взвешивание классов. Происследуем наши модели с учетом весов каждого класса. Начнем с модели \"Дерево решений\".\n",
    "</div>"
   ]
  },
  {
   "cell_type": "code",
   "execution_count": 72,
   "metadata": {},
   "outputs": [
    {
     "name": "stdout",
     "output_type": "stream",
     "text": [
      "0    4804\n",
      "1    1196\n",
      "Name: Exited, dtype: int64\n"
     ]
    }
   ],
   "source": [
    "#изучим соотношение классов в тренировочной выборке\n",
    "\n",
    "print(target_train.value_counts())"
   ]
  },
  {
   "cell_type": "code",
   "execution_count": 27,
   "metadata": {},
   "outputs": [
    {
     "data": {
      "text/plain": [
       "GridSearchCV(estimator=DecisionTreeClassifier(),\n",
       "             param_grid={'class_weight': ['balanced'],\n",
       "                         'max_depth': [1, 2, 3, 4, 5, 6, 7, 8, 9, 10],\n",
       "                         'max_features': [1, 3, 5, 7, 9, 11, 13, 15, 17, 20],\n",
       "                         'min_samples_leaf': [1, 2, 4],\n",
       "                         'min_samples_split': [2, 5, 10],\n",
       "                         'random_state': [12345]},\n",
       "             scoring='accuracy')"
      ]
     },
     "execution_count": 27,
     "metadata": {},
     "output_type": "execute_result"
    }
   ],
   "source": [
    "#зададим гиперпараметры дерева решений\n",
    "\n",
    "max_depth = [int(x) for x in np.linspace(1, 10, num = 10)]\n",
    "\n",
    "min_samples_split = [2, 5, 10]\n",
    "\n",
    "min_samples_leaf = [1, 2, 4]\n",
    "\n",
    "max_features = [int(x) for x in np.linspace(1, 20, num = 10)]\n",
    "\n",
    "random_state=[12345]\n",
    "\n",
    "class_weight = ['balanced']\n",
    "\n",
    "dt_grid = {'max_depth': max_depth,\n",
    "           'min_samples_split': min_samples_split,\n",
    "           'min_samples_leaf': min_samples_leaf,\n",
    "           'max_features': max_features,\n",
    "           'random_state': random_state,\n",
    "           'class_weight': class_weight}\n",
    "\n",
    "model_dt_balance = GridSearchCV(DecisionTreeClassifier(), dt_grid, scoring = 'accuracy')\n",
    "# обучаем модель\n",
    "model_dt_balance.fit(features_train,target_train)"
   ]
  },
  {
   "cell_type": "code",
   "execution_count": 28,
   "metadata": {},
   "outputs": [
    {
     "name": "stdout",
     "output_type": "stream",
     "text": [
      "Наивысшая оценка: 0.8245000000000001\n",
      "Лучшие гиперпараметры: {'class_weight': 'balanced', 'max_depth': 1, 'max_features': 1, 'min_samples_leaf': 1, 'min_samples_split': 2, 'random_state': 12345}\n"
     ]
    }
   ],
   "source": [
    "#определяем лучшие гиперпараметры для дерева решений\n",
    "\n",
    "print('Наивысшая оценка: %s' % model_dt_balance.best_score_)\n",
    "print('Лучшие гиперпараметры: %s' % model_dt_balance.best_params_)"
   ]
  },
  {
   "cell_type": "code",
   "execution_count": 31,
   "metadata": {},
   "outputs": [
    {
     "name": "stdout",
     "output_type": "stream",
     "text": [
      "Полнота: 0.145933014354067\n",
      "Точность: 0.8356164383561644\n",
      "F1-score: 0.2484725050916497\n"
     ]
    }
   ],
   "source": [
    "#получаем предсказания для валидационной выборки\n",
    "\n",
    "predicted_valid_dt_balance = model_dt_balance.predict(features_valid)\n",
    "\n",
    "#определяем значения полноты и точности для валидационной выборки\n",
    "\n",
    "print('Полнота:', recall_score(target_valid, predicted_valid_dt_balance))\n",
    "print('Точность:', precision_score(target_valid, predicted_valid_dt_balance))\n",
    "\n",
    "#также определяем значение f1 меры\n",
    "\n",
    "print('F1-score:', f1_score(target_valid, predicted_valid_dt_balance))"
   ]
  },
  {
   "cell_type": "code",
   "execution_count": 32,
   "metadata": {},
   "outputs": [
    {
     "name": "stdout",
     "output_type": "stream",
     "text": [
      "AUC-ROC на тренировочной выборке: 0.567\n",
      "AUC-ROC на валидационной выборке: 0.569\n"
     ]
    }
   ],
   "source": [
    "#определим AUC-ROC для модели дерева решений\n",
    "\n",
    "print(\"AUC-ROC на валидационной выборке: {:.3f}\".\n",
    "format(roc_auc_score(target_valid, model_dt_balance.predict_proba(features_valid)[:, 1])))"
   ]
  },
  {
   "cell_type": "markdown",
   "metadata": {},
   "source": [
    "<div class=\"alert alert-info\">\n",
    "<b>Комментарий студента:</b>\n",
    "<br>\n",
    "Как можно заметить, результаты модели дерева решений со взвешиванием классов получились хуже, чем без взвешивания. Мертики F1-мера и AUC-ROC значительно снизились. Перейдем к рассмотрению модели \"Случайного леса\".\n",
    "</div>"
   ]
  },
  {
   "cell_type": "code",
   "execution_count": 43,
   "metadata": {},
   "outputs": [
    {
     "data": {
      "text/plain": [
       "GridSearchCV(estimator=RandomForestClassifier(),\n",
       "             param_grid={'class_weight': ['balanced'],\n",
       "                         'max_depth': [1, 1, 2, 3, 4, 5, 6, 7, 8, 9, 10],\n",
       "                         'max_features': ['auto', 'sqrt'],\n",
       "                         'min_samples_leaf': [1, 2, 4],\n",
       "                         'min_samples_split': [2, 5, 10],\n",
       "                         'n_estimators': [10, 29, 48, 67, 86, 105, 124, 143,\n",
       "                                          162, 181, 200],\n",
       "                         'random_state': [12345]},\n",
       "             scoring='accuracy')"
      ]
     },
     "execution_count": 43,
     "metadata": {},
     "output_type": "execute_result"
    }
   ],
   "source": [
    "n_estimators = [int(x) for x in np.linspace(start = 10, stop = 200, num = 11)]\n",
    "\n",
    "max_depth = [int(x) for x in np.linspace(1, 10, num = 11)]\n",
    "\n",
    "max_features = ['auto', 'sqrt']\n",
    "\n",
    "min_samples_split = [2, 5, 10]\n",
    "\n",
    "min_samples_leaf = [1, 2, 4]\n",
    "\n",
    "random_state=[12345]\n",
    "\n",
    "class_weight = ['balanced']\n",
    "\n",
    "rf_grid = {'n_estimators': n_estimators,\n",
    "           'max_features': max_features,\n",
    "           'max_depth': max_depth,\n",
    "           'min_samples_split': min_samples_split,\n",
    "           'min_samples_leaf': min_samples_leaf,\n",
    "            'random_state': random_state,\n",
    "           'class_weight': class_weight}\n",
    "\n",
    "\n",
    "model_rf_balance = GridSearchCV(RandomForestClassifier(), rf_grid, scoring = 'accuracy')\n",
    "# обучаем модель\n",
    "model_rf_balance.fit(features_train,target_train)"
   ]
  },
  {
   "cell_type": "code",
   "execution_count": 44,
   "metadata": {},
   "outputs": [
    {
     "name": "stdout",
     "output_type": "stream",
     "text": [
      "Наивысшая оценка: 0.8535\n",
      "Лучшие гиперпараметры: {'class_weight': 'balanced', 'max_depth': 10, 'max_features': 'auto', 'min_samples_leaf': 1, 'min_samples_split': 2, 'n_estimators': 162, 'random_state': 12345}\n"
     ]
    }
   ],
   "source": [
    "print('Наивысшая оценка: %s' % model_rf_balance.best_score_)\n",
    "print('Лучшие гиперпараметры: %s' % model_rf_balance.best_params_)"
   ]
  },
  {
   "cell_type": "code",
   "execution_count": 45,
   "metadata": {},
   "outputs": [
    {
     "name": "stdout",
     "output_type": "stream",
     "text": [
      "Полнота: 0.6172248803827751\n",
      "Точность: 0.6246973365617433\n",
      "F1-score 0.6209386281588447\n"
     ]
    }
   ],
   "source": [
    "#получаем предсказания для валидационной выборки\n",
    "\n",
    "predicted_valid_rf_balance = model_rf_balance.predict(features_valid)\n",
    "\n",
    "#определяем значения полноты и точности для валидационной выборки\n",
    "\n",
    "print('Полнота:', recall_score(target_valid, predicted_valid_rf_balance))\n",
    "print('Точность:', precision_score(target_valid, predicted_valid_rf_balance))\n",
    "\n",
    "#также определяем значение f1 меры\n",
    "\n",
    "print('F1-score:', f1_score(target_valid, predicted_valid_rf_balance))"
   ]
  },
  {
   "cell_type": "code",
   "execution_count": 46,
   "metadata": {},
   "outputs": [
    {
     "name": "stdout",
     "output_type": "stream",
     "text": [
      "AUC-ROC на тренировочной выборке: 0.974\n",
      "AUC-ROC на валидационной выборке: 0.853\n"
     ]
    }
   ],
   "source": [
    "#определим AUC-ROC для модели случайного леса\n",
    "\n",
    "print(\"AUC-ROC на валидационной выборке: {:.3f}\".\n",
    "format(roc_auc_score(target_valid, model_rf_balance.predict_proba(features_valid)[:, 1])))"
   ]
  },
  {
   "cell_type": "markdown",
   "metadata": {},
   "source": [
    "<div class=\"alert alert-info\">\n",
    "<b>Комментарий студента:</b>\n",
    "<br>\n",
    "Показатели F1-score и AUC-ROC для модели случайного леса выросли по сравнению с моделью без взвешивания классов. Перейдем к анализу модели логистической регрессии.\n",
    "</div>"
   ]
  },
  {
   "cell_type": "code",
   "execution_count": 23,
   "metadata": {},
   "outputs": [
    {
     "data": {
      "text/plain": [
       "GridSearchCV(estimator=LogisticRegression(),\n",
       "             param_grid={'C': [1, 1, 2, 3, 4, 5, 6, 7, 8, 9, 10],\n",
       "                         'class_weight': ['balanced'],\n",
       "                         'max_iter': [1, 15, 30, 45, 60, 75, 90, 105, 120, 135,\n",
       "                                      150],\n",
       "                         'penalty': ['l1', 'l2', 'elasticnet', 'none'],\n",
       "                         'random_state': [12345],\n",
       "                         'solver': ['newton-cg', 'lbfgs', 'liblinear', 'sag',\n",
       "                                    'saga']},\n",
       "             scoring='accuracy')"
      ]
     },
     "execution_count": 23,
     "metadata": {},
     "output_type": "execute_result"
    }
   ],
   "source": [
    "C = [int(x) for x in np.linspace(start = 1, stop = 10, num = 11)]\n",
    "\n",
    "max_iter = [int(x) for x in np.linspace(1, 150, num = 11)]\n",
    "\n",
    "penalty = ['l1', 'l2', 'elasticnet', 'none']\n",
    "\n",
    "solver = ['newton-cg', 'lbfgs', 'liblinear', 'sag', 'saga']\n",
    "\n",
    "random_state = [12345]\n",
    "class_weight = ['balanced']\n",
    "\n",
    "lr_grid = {'C': C,\n",
    "           'max_iter': max_iter,\n",
    "           'penalty': penalty,\n",
    "           'solver': solver,\n",
    "           'random_state': random_state,\n",
    "           'class_weight': class_weight}\n",
    "\n",
    "\n",
    "model_lr_balance = GridSearchCV(LogisticRegression(), lr_grid, scoring = 'accuracy')\n",
    "# обучаем модель\n",
    "model_lr_balance.fit(features_train,target_train)"
   ]
  },
  {
   "cell_type": "code",
   "execution_count": 24,
   "metadata": {},
   "outputs": [
    {
     "name": "stdout",
     "output_type": "stream",
     "text": [
      "Полнота: 0.638755980861244\n",
      "Точность: 0.4377049180327869\n",
      "F1-score 0.519455252918288\n"
     ]
    }
   ],
   "source": [
    "#получаем предсказания для валидационной выборки\n",
    "\n",
    "predicted_valid_lr_balance = model_lr_balance.predict(features_valid)\n",
    "\n",
    "#определяем значения полноты и точности для валидационной выборки\n",
    "\n",
    "print('Полнота:', recall_score(target_valid, predicted_valid_lr_balance))\n",
    "print('Точность:', precision_score(target_valid, predicted_valid_lr_balance))\n",
    "\n",
    "#также определяем значение f1 меры\n",
    "\n",
    "print('F1-score', f1_score(target_valid, predicted_valid_lr_balance))"
   ]
  },
  {
   "cell_type": "code",
   "execution_count": 25,
   "metadata": {},
   "outputs": [
    {
     "name": "stdout",
     "output_type": "stream",
     "text": [
      "Наивысшая оценка: 0.7420000000000001\n",
      "Лучшие гиперпараметры: {'C': 1, 'class_weight': 'balanced', 'max_iter': 1, 'penalty': 'l1', 'random_state': 12345, 'solver': 'liblinear'}\n"
     ]
    }
   ],
   "source": [
    "print('Наивысшая оценка: %s' % model_lr_balance.best_score_)\n",
    "print('Лучшие гиперпараметры: %s' % model_lr_balance.best_params_)"
   ]
  },
  {
   "cell_type": "code",
   "execution_count": 26,
   "metadata": {},
   "outputs": [
    {
     "name": "stdout",
     "output_type": "stream",
     "text": [
      "AUC-ROC на тренировочной выборке: 0.765\n",
      "AUC-ROC на валидационной выборке: 0.766\n"
     ]
    }
   ],
   "source": [
    "#определим AUC-ROC для модели логистической регрессии\n",
    "\n",
    "print(\"AUC-ROC на валидационной выборке: {:.3f}\".\n",
    "format(roc_auc_score(target_valid, model_lr_balance.predict_proba(features_valid)[:, 1])))"
   ]
  },
  {
   "cell_type": "markdown",
   "metadata": {},
   "source": [
    "<div class=\"alert alert-info\">\n",
    "<b>Комментарий студента:</b>\n",
    "<br>\n",
    "Модель логистической регрессии со взвешиванием классов показала значительный прирост по метрике F1-мера. Также наблюадется незначительный рост метрики AUC-ROC. То есть можно сказать, что логистическая регрессия сильно зависима от баланса классов и это влияет на ее предсказательные способности.\n",
    "</div>"
   ]
  },
  {
   "cell_type": "markdown",
   "metadata": {},
   "source": [
    "<div class=\"alert alert-info\">\n",
    "<b>Комментарий студента:</b>\n",
    "<br>\n",
    "Визуально отобразим наши ROC-кривые (кривые ошибок) по каждой модели с учетом взвешивания классов.\n",
    "</div>"
   ]
  },
  {
   "cell_type": "code",
   "execution_count": 38,
   "metadata": {},
   "outputs": [
    {
     "data": {
      "image/png": "[encoded data removed]",
      "text/plain": [
       "<Figure size 864x648 with 1 Axes>"
      ]
     },
     "metadata": {
      "needs_background": "light"
     },
     "output_type": "display_data"
    }
   ],
   "source": [
    "plt.figure(figsize=[12,9])\n",
    "\n",
    "plt.plot([0, 1], [0, 1], linestyle='--', label='RandomModel')\n",
    "\n",
    "fpr, tpr, thresholds = roc_curve(target_valid, model_dt_balance.predict_proba(features_valid)[:, 1])\n",
    "plt.plot(fpr, tpr, label='DecisionTreeClassifier')\n",
    "\n",
    "fpr, tpr, thresholds = roc_curve(target_valid, model_rf_balance.predict_proba(features_valid)[:, 1])\n",
    "plt.plot(fpr, tpr, label='RandomForestClassifier')\n",
    "\n",
    "fpr, tpr, thresholds = roc_curve(target_valid, model_lr_balance.predict_proba(features_valid)[:, 1])\n",
    "plt.plot(fpr, tpr, label='LogisticRegression')\n",
    "\n",
    "plt.legend(loc='lower right', fontsize='x-large')\n",
    "\n",
    "plt.xlim([0.0, 1.0])\n",
    "plt.ylim([0.0, 1.0])\n",
    "\n",
    "plt.xlabel('False Positive Rate')\n",
    "plt.ylabel('True Positive Rate')\n",
    "\n",
    "plt.title('ROC-кривая')\n",
    "plt.show()"
   ]
  },
  {
   "cell_type": "markdown",
   "metadata": {},
   "source": [
    "<div class=\"alert alert-info\">\n",
    "<b>Комментарий студента:</b>\n",
    "<br>\n",
    "В заключение можно сказать, что при использовании взвешивания классов наибольшие значения метрик F1-меры и AUC-ROC показывает модель случайного леса с F1-мерой равной 0.62 и AUC-ROC равной 0.853. Также неплохие значения метрик имеет модель логистической регрессии с F1-мерой равной 0.519 и AUC-ROC равной 0.766, на последнем месте по данным метрикам идет модель дерева решений. То есть мы увидели, что баланс классов сильно влияет на обучение модели логистической регрессии.   \n",
    "</div>"
   ]
  },
  {
   "cell_type": "markdown",
   "metadata": {},
   "source": [
    "### Увеличение выборки"
   ]
  },
  {
   "cell_type": "markdown",
   "metadata": {},
   "source": [
    "<div class=\"alert alert-info\">\n",
    "<b>Комментарий студента:</b>\n",
    "<br>\n",
    "Следующей техникой борьбы с дисбалансом является увеличение выборки. Применим ее для улучшения качества наших моделей. Начнем с модели дерева решений.\n",
    "</div>"
   ]
  },
  {
   "cell_type": "code",
   "execution_count": 73,
   "metadata": {},
   "outputs": [
    {
     "name": "stdout",
     "output_type": "stream",
     "text": [
      "0    4804\n",
      "1    1196\n",
      "Name: Exited, dtype: int64\n"
     ]
    }
   ],
   "source": [
    "#изучим соотношение классов в тренировочной выборке\n",
    "\n",
    "print(target_train.value_counts())"
   ]
  },
  {
   "cell_type": "code",
   "execution_count": 55,
   "metadata": {},
   "outputs": [],
   "source": [
    "#напишем функцию для увеличения выборки с классами \"1\", в качестве параметра 'repeat' используем \"4\" по отношению классов\n",
    "\n",
    "def upsample(features, target, repeat):\n",
    "    features_zeros = features[target == 0]\n",
    "    features_ones = features[target == 1]\n",
    "    target_zeros = target[target == 0]\n",
    "    target_ones = target[target == 1]\n",
    "\n",
    "    features_upsampled = pd.concat(\n",
    "        [features_zeros] + [features_ones] * repeat)\n",
    "    target_upsampled = pd.concat(\n",
    "        [target_zeros] + [target_ones] * repeat)\n",
    "    \n",
    "    features_upsampled, target_upsampled = shuffle(\n",
    "        features_upsampled, target_upsampled, random_state=12345)\n",
    "    \n",
    "    return features_upsampled, target_upsampled\n",
    "\n",
    "features_upsampled, target_upsampled = upsample(features_train, target_train, 4)             "
   ]
  },
  {
   "cell_type": "code",
   "execution_count": 57,
   "metadata": {},
   "outputs": [
    {
     "data": {
      "text/plain": [
       "GridSearchCV(estimator=DecisionTreeClassifier(),\n",
       "             param_grid={'max_depth': [1, 2, 3, 4, 5, 6, 7, 8, 9, 10],\n",
       "                         'max_features': [1, 3, 5, 7, 9, 11, 13, 15, 17, 20],\n",
       "                         'min_samples_leaf': [1, 2, 4],\n",
       "                         'min_samples_split': [2, 5, 10],\n",
       "                         'random_state': [12345]},\n",
       "             scoring='accuracy')"
      ]
     },
     "execution_count": 57,
     "metadata": {},
     "output_type": "execute_result"
    }
   ],
   "source": [
    "#зададим гиперпараметры дерева решений\n",
    "\n",
    "max_depth = [int(x) for x in np.linspace(1, 10, num = 10)]\n",
    "\n",
    "min_samples_split = [2, 5, 10]\n",
    "\n",
    "min_samples_leaf = [1, 2, 4]\n",
    "\n",
    "max_features = [int(x) for x in np.linspace(1, 20, num = 10)]\n",
    "\n",
    "random_state=[12345]\n",
    "\n",
    "dt_grid = {'max_depth': max_depth,\n",
    "           'min_samples_split': min_samples_split,\n",
    "           'min_samples_leaf': min_samples_leaf,\n",
    "           'max_features': max_features,\n",
    "           'random_state': random_state}\n",
    "\n",
    "model_dt_upsampled = GridSearchCV(DecisionTreeClassifier(), dt_grid, scoring = 'accuracy')\n",
    "# обучаем модель\n",
    "model_dt_upsampled.fit(features_upsampled,target_upsampled)"
   ]
  },
  {
   "cell_type": "code",
   "execution_count": 58,
   "metadata": {},
   "outputs": [
    {
     "name": "stdout",
     "output_type": "stream",
     "text": [
      "Наивысшая оценка: 0.8351084609848876\n",
      "Лучшие гиперпараметры: {'max_depth': 10, 'max_features': 9, 'min_samples_leaf': 1, 'min_samples_split': 2, 'random_state': 12345}\n"
     ]
    }
   ],
   "source": [
    "#определяем лучшие гиперпараметры для дерева решений\n",
    "\n",
    "print('Наивысшая оценка: %s' % model_dt_upsampled.best_score_)\n",
    "print('Лучшие гиперпараметры: %s' % model_dt_upsampled.best_params_)"
   ]
  },
  {
   "cell_type": "code",
   "execution_count": 59,
   "metadata": {},
   "outputs": [
    {
     "name": "stdout",
     "output_type": "stream",
     "text": [
      "Полнота: 0.6555023923444976\n",
      "Точность: 0.45896147403685095\n",
      "F1-score: 0.5399014778325123\n"
     ]
    }
   ],
   "source": [
    "#получаем предсказания для валидационной выборки\n",
    "\n",
    "predicted_valid_dt_upsampled = model_dt_upsampled.predict(features_valid)\n",
    "\n",
    "#определяем значения полноты и точности для валидационной выборки\n",
    "\n",
    "print('Полнота:', recall_score(target_valid, predicted_valid_dt_upsampled))\n",
    "print('Точность:', precision_score(target_valid, predicted_valid_dt_upsampled))\n",
    "\n",
    "#также определяем значение f1 меры\n",
    "\n",
    "print('F1-score:', f1_score(target_valid, predicted_valid_dt_upsampled))"
   ]
  },
  {
   "cell_type": "code",
   "execution_count": 60,
   "metadata": {},
   "outputs": [
    {
     "name": "stdout",
     "output_type": "stream",
     "text": [
      "AUC-ROC на тренировочной выборке: 0.949\n",
      "AUC-ROC на валидационной выборке: 0.758\n"
     ]
    }
   ],
   "source": [
    "#определим AUC-ROC для модели дерева решений\n",
    "\n",
    "print(\"AUC-ROC на валидационной выборке: {:.3f}\".\n",
    "format(roc_auc_score(target_valid, model_dt_upsampled.predict_proba(features_valid)[:, 1])))"
   ]
  },
  {
   "cell_type": "markdown",
   "metadata": {},
   "source": [
    "<div class=\"alert alert-info\">\n",
    "<b>Комментарий студента:</b>\n",
    "<br>\n",
    "В данном эксперименте метрики F1-меры и AUC-ROC оказались лучше, чем это было во взвешивании классов. Перейдем к модели случайного леса.\n",
    "</div>"
   ]
  },
  {
   "cell_type": "code",
   "execution_count": 61,
   "metadata": {},
   "outputs": [
    {
     "data": {
      "text/plain": [
       "GridSearchCV(estimator=RandomForestClassifier(),\n",
       "             param_grid={'max_depth': [1, 1, 2, 3, 4, 5, 6, 7, 8, 9, 10],\n",
       "                         'max_features': ['auto', 'sqrt'],\n",
       "                         'min_samples_leaf': [1, 2, 4],\n",
       "                         'min_samples_split': [2, 5, 10],\n",
       "                         'n_estimators': [10, 19, 28, 37, 46, 55, 64, 73, 82,\n",
       "                                          91, 100],\n",
       "                         'random_state': [12345]},\n",
       "             scoring='accuracy')"
      ]
     },
     "execution_count": 61,
     "metadata": {},
     "output_type": "execute_result"
    }
   ],
   "source": [
    "n_estimators = [int(x) for x in np.linspace(start = 10, stop = 100, num = 11)]\n",
    "\n",
    "max_depth = [int(x) for x in np.linspace(1, 10, num = 11)]\n",
    "\n",
    "max_features = ['auto', 'sqrt']\n",
    "\n",
    "min_samples_split = [2, 5, 10]\n",
    "\n",
    "min_samples_leaf = [1, 2, 4]\n",
    "\n",
    "random_state=[12345]\n",
    "\n",
    "rf_grid = {'n_estimators': n_estimators,\n",
    "           'max_features': max_features,\n",
    "           'max_depth': max_depth,\n",
    "           'min_samples_split': min_samples_split,\n",
    "           'min_samples_leaf': min_samples_leaf,\n",
    "            'random_state': random_state}\n",
    "\n",
    "model_rf_upsampled = GridSearchCV(RandomForestClassifier(), rf_grid, scoring = 'accuracy')\n",
    "# обучаем модель\n",
    "model_rf_upsampled.fit(features_upsampled,target_upsampled)"
   ]
  },
  {
   "cell_type": "code",
   "execution_count": 62,
   "metadata": {},
   "outputs": [
    {
     "name": "stdout",
     "output_type": "stream",
     "text": [
      "Наивысшая оценка: 0.8683777713591635\n",
      "Лучшие гиперпараметры: {'max_depth': 10, 'max_features': 'auto', 'min_samples_leaf': 1, 'min_samples_split': 2, 'n_estimators': 64, 'random_state': 12345}\n"
     ]
    }
   ],
   "source": [
    "#определяем лучшие гиперпараметры для модели случайного леса\n",
    "\n",
    "print('Наивысшая оценка: %s' % model_rf_upsampled.best_score_)\n",
    "print('Лучшие гиперпараметры: %s' % model_rf_upsampled.best_params_)"
   ]
  },
  {
   "cell_type": "code",
   "execution_count": 63,
   "metadata": {},
   "outputs": [
    {
     "name": "stdout",
     "output_type": "stream",
     "text": [
      "Полнота: 0.6794258373205742\n",
      "Точность: 0.5737373737373738\n",
      "F1-score: 0.6221248630887185\n"
     ]
    }
   ],
   "source": [
    "#получаем предсказания для валидационной выборки\n",
    "\n",
    "predicted_valid_rf_upsampled = model_rf_upsampled.predict(features_valid)\n",
    "\n",
    "#определяем значения полноты и точности для валидационной выборки\n",
    "\n",
    "print('Полнота:', recall_score(target_valid, predicted_valid_rf_upsampled))\n",
    "print('Точность:', precision_score(target_valid, predicted_valid_rf_upsampled))\n",
    "\n",
    "#также определяем значение f1 меры\n",
    "\n",
    "print('F1-score:', f1_score(target_valid, predicted_valid_rf_upsampled))"
   ]
  },
  {
   "cell_type": "code",
   "execution_count": 64,
   "metadata": {},
   "outputs": [
    {
     "name": "stdout",
     "output_type": "stream",
     "text": [
      "AUC-ROC на тренировочной выборке: 0.974\n",
      "AUC-ROC на валидационной выборке: 0.853\n"
     ]
    }
   ],
   "source": [
    "#определим AUC-ROC для модели случайного леса\n",
    "\n",
    "print(\"AUC-ROC на валидационной выборке: {:.3f}\".\n",
    "format(roc_auc_score(target_valid, model_rf_upsampled.predict_proba(features_valid)[:, 1])))"
   ]
  },
  {
   "cell_type": "markdown",
   "metadata": {},
   "source": [
    "<div class=\"alert alert-info\">\n",
    "<b>Комментарий студента:</b>\n",
    "<br>\n",
    "Показатель F1-мера незначительно, но вырос по сравнению с моделью со взвешивания классов. Показатель AUC-ROC остался на прежнем уровне. Перейдем к анализу модели логистической регрессии.\n",
    "</div>"
   ]
  },
  {
   "cell_type": "code",
   "execution_count": 66,
   "metadata": {},
   "outputs": [
    {
     "data": {
      "text/plain": [
       "GridSearchCV(estimator=LogisticRegression(),\n",
       "             param_grid={'C': [1, 1, 2, 3, 4, 5, 6, 7, 8, 9, 10],\n",
       "                         'max_iter': [1, 15, 30, 45, 60, 75, 90, 105, 120, 135,\n",
       "                                      150],\n",
       "                         'penalty': ['l1', 'l2', 'elasticnet', 'none'],\n",
       "                         'random_state': [12345],\n",
       "                         'solver': ['newton-cg', 'lbfgs', 'liblinear', 'sag',\n",
       "                                    'saga']},\n",
       "             scoring='accuracy')"
      ]
     },
     "execution_count": 66,
     "metadata": {},
     "output_type": "execute_result"
    }
   ],
   "source": [
    "C = [int(x) for x in np.linspace(start = 1, stop = 10, num = 11)]\n",
    "\n",
    "max_iter = [int(x) for x in np.linspace(1, 150, num = 11)]\n",
    "\n",
    "penalty = ['l1', 'l2', 'elasticnet', 'none']\n",
    "\n",
    "solver = ['newton-cg', 'lbfgs', 'liblinear', 'sag', 'saga']\n",
    "\n",
    "random_state = [12345]\n",
    "\n",
    "lr_grid = {'C': C,\n",
    "           'max_iter': max_iter,\n",
    "           'penalty': penalty,\n",
    "           'solver': solver,\n",
    "           'random_state': random_state}\n",
    "\n",
    "model_lr_upsampled = GridSearchCV(LogisticRegression(), lr_grid, scoring = 'accuracy')\n",
    "# обучаем модель\n",
    "model_lr_upsampled.fit(features_upsampled,target_upsampled)"
   ]
  },
  {
   "cell_type": "code",
   "execution_count": 67,
   "metadata": {},
   "outputs": [
    {
     "name": "stdout",
     "output_type": "stream",
     "text": [
      "Наивысшая оценка: 0.71255867184725\n",
      "Лучшие гиперпараметры: {'C': 1, 'max_iter': 15, 'penalty': 'none', 'random_state': 12345, 'solver': 'newton-cg'}\n"
     ]
    }
   ],
   "source": [
    "#определяем лучшие гиперпараметры для логистической регрессии\n",
    "\n",
    "print('Наивысшая оценка: %s' % model_lr_upsampled.best_score_)\n",
    "print('Лучшие гиперпараметры: %s' % model_lr_upsampled.best_params_)"
   ]
  },
  {
   "cell_type": "code",
   "execution_count": 68,
   "metadata": {},
   "outputs": [
    {
     "name": "stdout",
     "output_type": "stream",
     "text": [
      "Полнота: 0.6818181818181818\n",
      "Точность: 0.3810160427807487\n",
      "F1-score: 0.4888507718696398\n"
     ]
    }
   ],
   "source": [
    "#получаем предсказания для валидационной выборки\n",
    "\n",
    "predicted_valid_lr_upsampled = model_lr_upsampled.predict(features_valid)\n",
    "\n",
    "#определяем значения полноты и точности для валидационной выборки\n",
    "\n",
    "print('Полнота:', recall_score(target_valid, predicted_valid_lr_upsampled))\n",
    "print('Точность:', precision_score(target_valid, predicted_valid_lr_upsampled))\n",
    "\n",
    "#также определяем значение f1 меры\n",
    "\n",
    "print('F1-score:', f1_score(target_valid, predicted_valid_lr_upsampled))"
   ]
  },
  {
   "cell_type": "code",
   "execution_count": 69,
   "metadata": {},
   "outputs": [
    {
     "name": "stdout",
     "output_type": "stream",
     "text": [
      "AUC-ROC на тренировочной выборке: 0.780\n",
      "AUC-ROC на валидационной выборке: 0.764\n"
     ]
    }
   ],
   "source": [
    "#определим AUC-ROC для модели случайного леса\n",
    "\n",
    "print(\"AUC-ROC на валидационной выборке: {:.3f}\".\n",
    "format(roc_auc_score(target_valid, model_lr_upsampled.predict_proba(features_valid)[:, 1])))"
   ]
  },
  {
   "cell_type": "markdown",
   "metadata": {},
   "source": [
    "<div class=\"alert alert-info\">\n",
    "<b>Комментарий студента:</b>\n",
    "<br>\n",
    "Метрика F1-мера логистической регрессии с увеличением выборки оказалась ниже, чем при взвешивании классов. \n",
    "</div>"
   ]
  },
  {
   "cell_type": "markdown",
   "metadata": {},
   "source": [
    "<div class=\"alert alert-info\">\n",
    "<b>Комментарий студента:</b>\n",
    "<br>\n",
    "Визуально отобразим наши ROC-кривые (кривые ошибок) по каждой модели с учетом увеличения выборки.\n",
    "</div>"
   ]
  },
  {
   "cell_type": "code",
   "execution_count": 70,
   "metadata": {},
   "outputs": [
    {
     "data": {
      "image/png": "[encoded data removed]",
      "text/plain": [
       "<Figure size 864x648 with 1 Axes>"
      ]
     },
     "metadata": {
      "needs_background": "light"
     },
     "output_type": "display_data"
    }
   ],
   "source": [
    "plt.figure(figsize=[12,9])\n",
    "\n",
    "plt.plot([0, 1], [0, 1], linestyle='--', label='RandomModel')\n",
    "\n",
    "fpr, tpr, thresholds = roc_curve(target_valid, model_dt_upsampled.predict_proba(features_valid)[:, 1])\n",
    "plt.plot(fpr, tpr, label='DecisionTreeClassifier')\n",
    "\n",
    "fpr, tpr, thresholds = roc_curve(target_valid, model_rf_upsampled.predict_proba(features_valid)[:, 1])\n",
    "plt.plot(fpr, tpr, label='RandomForestClassifier')\n",
    "\n",
    "fpr, tpr, thresholds = roc_curve(target_valid, model_lr_upsampled.predict_proba(features_valid)[:, 1])\n",
    "plt.plot(fpr, tpr, label='LogisticRegression')\n",
    "\n",
    "plt.legend(loc='lower right', fontsize='x-large')\n",
    "\n",
    "plt.xlim([0.0, 1.0])\n",
    "plt.ylim([0.0, 1.0])\n",
    "\n",
    "plt.xlabel('False Positive Rate')\n",
    "plt.ylabel('True Positive Rate')\n",
    "\n",
    "plt.title('ROC-кривая')\n",
    "plt.show()"
   ]
  },
  {
   "cell_type": "markdown",
   "metadata": {},
   "source": [
    "<div class=\"alert alert-info\">\n",
    "<b>Комментарий студента:</b>\n",
    "<br>\n",
    "Также как и в эксперименте со взвешиванием классов наибольшие значения метрик F1-меры и AUC-ROC показывает модель случайного леса с F1-мерой равной 0.622 и AUC-ROC равной 0.853. Далее по показателю F1-мера идет модель дерева решений со значением 0.539, затем модель логистической регрессии. По показателю AUC-ROC логистическая регрессия опережает модель девева решений - 0.764 против 0.758.\n",
    "</div>"
   ]
  },
  {
   "cell_type": "markdown",
   "metadata": {},
   "source": [
    "### Уменьшение выборки"
   ]
  },
  {
   "cell_type": "code",
   "execution_count": 78,
   "metadata": {},
   "outputs": [],
   "source": [
    "#напишем функцию для уменьшения выборки с классами \"0\", в качестве параметра 'fraction' используем \"0.25\" по отношению классов\n",
    "\n",
    "def downsample(features, target, fraction):\n",
    "    features_zeros = features[target == 0]\n",
    "    features_ones = features[target == 1]\n",
    "    target_zeros = target[target == 0]\n",
    "    target_ones = target[target == 1]\n",
    "\n",
    "    features_downsampled = pd.concat(\n",
    "        [features_zeros.sample(frac=fraction, random_state=12345)] + [features_ones])\n",
    "    \n",
    "    target_downsampled = pd.concat(\n",
    "        [target_zeros.sample(frac=fraction, random_state=12345)] + [target_ones])\n",
    "    \n",
    "    features_downsampled, target_downsampled = shuffle(\n",
    "        features_downsampled, target_downsampled, random_state=12345)\n",
    "    \n",
    "    return features_downsampled, target_downsampled\n",
    "\n",
    "features_downsampled, target_downsampled = downsample(features_train, target_train, 0.25)"
   ]
  },
  {
   "cell_type": "code",
   "execution_count": 79,
   "metadata": {},
   "outputs": [
    {
     "data": {
      "text/plain": [
       "GridSearchCV(estimator=DecisionTreeClassifier(),\n",
       "             param_grid={'max_depth': [1, 2, 3, 4, 5, 6, 7, 8, 9, 10],\n",
       "                         'max_features': [1, 3, 5, 7, 9, 11, 13, 15, 17, 20],\n",
       "                         'min_samples_leaf': [1, 2, 4],\n",
       "                         'min_samples_split': [2, 5, 10],\n",
       "                         'random_state': [12345]},\n",
       "             scoring='accuracy')"
      ]
     },
     "execution_count": 79,
     "metadata": {},
     "output_type": "execute_result"
    }
   ],
   "source": [
    "#зададим гиперпараметры дерева решений\n",
    "\n",
    "max_depth = [int(x) for x in np.linspace(1, 10, num = 10)]\n",
    "\n",
    "min_samples_split = [2, 5, 10]\n",
    "\n",
    "min_samples_leaf = [1, 2, 4]\n",
    "\n",
    "max_features = [int(x) for x in np.linspace(1, 20, num = 10)]\n",
    "\n",
    "random_state=[12345]\n",
    "\n",
    "dt_grid = {'max_depth': max_depth,\n",
    "           'min_samples_split': min_samples_split,\n",
    "           'min_samples_leaf': min_samples_leaf,\n",
    "           'max_features': max_features,\n",
    "           'random_state': random_state}\n",
    "\n",
    "model_dt_downsampled = GridSearchCV(DecisionTreeClassifier(), dt_grid, scoring = 'accuracy')\n",
    "# обучаем модель\n",
    "model_dt_downsampled.fit(features_downsampled,target_downsampled)"
   ]
  },
  {
   "cell_type": "code",
   "execution_count": 80,
   "metadata": {},
   "outputs": [
    {
     "name": "stdout",
     "output_type": "stream",
     "text": [
      "Наивысшая оценка: 0.7584446764091858\n",
      "Лучшие гиперпараметры: {'max_depth': 7, 'max_features': 7, 'min_samples_leaf': 1, 'min_samples_split': 5, 'random_state': 12345}\n"
     ]
    }
   ],
   "source": [
    "#определяем лучшие гиперпараметры для дерева решений\n",
    "\n",
    "print('Наивысшая оценка: %s' % model_dt_downsampled.best_score_)\n",
    "print('Лучшие гиперпараметры: %s' % model_dt_downsampled.best_params_)"
   ]
  },
  {
   "cell_type": "code",
   "execution_count": 81,
   "metadata": {},
   "outputs": [
    {
     "name": "stdout",
     "output_type": "stream",
     "text": [
      "Полнота: 0.7440191387559809\n",
      "Точность: 0.4076015727391874\n",
      "F1-score: 0.5266723116003387\n"
     ]
    }
   ],
   "source": [
    "#получаем предсказания для валидационной выборки\n",
    "\n",
    "predicted_valid_dt_downsampled = model_dt_downsampled.predict(features_valid)\n",
    "\n",
    "#определяем значения полноты и точности для валидационной выборки\n",
    "\n",
    "print('Полнота:', recall_score(target_valid, predicted_valid_dt_downsampled))\n",
    "print('Точность:', precision_score(target_valid, predicted_valid_dt_downsampled))\n",
    "\n",
    "#также определяем значение f1 меры\n",
    "\n",
    "print('F1-score:', f1_score(target_valid, predicted_valid_dt_downsampled))"
   ]
  },
  {
   "cell_type": "code",
   "execution_count": 82,
   "metadata": {},
   "outputs": [
    {
     "name": "stdout",
     "output_type": "stream",
     "text": [
      "AUC-ROC на тренировочной выборке: 0.864\n",
      "AUC-ROC на валидационной выборке: 0.806\n"
     ]
    }
   ],
   "source": [
    "#определим AUC-ROC для модели дерева решений\n",
    "\n",
    "print(\"AUC-ROC на валидационной выборке: {:.3f}\".\n",
    "format(roc_auc_score(target_valid, model_dt_downsampled.predict_proba(features_valid)[:, 1])))"
   ]
  },
  {
   "cell_type": "markdown",
   "metadata": {},
   "source": [
    "<div class=\"alert alert-info\">\n",
    "<b>Комментарий студента:</b>\n",
    "<br>\n",
    "В данном эксперименте метрика F1-мера упала по сравнению с экспериментом с увеличением выборки: 0.526 против 0.539, однако метрика AUC-ROC выросла - 0.806 против 0.758. Перейдем к модели случайного леса.\n",
    "</div>"
   ]
  },
  {
   "cell_type": "code",
   "execution_count": 83,
   "metadata": {},
   "outputs": [
    {
     "data": {
      "text/plain": [
       "GridSearchCV(estimator=RandomForestClassifier(),\n",
       "             param_grid={'max_depth': [1, 1, 2, 3, 4, 5, 6, 7, 8, 9, 10],\n",
       "                         'max_features': ['auto', 'sqrt'],\n",
       "                         'min_samples_leaf': [1, 2, 4],\n",
       "                         'min_samples_split': [2, 5, 10],\n",
       "                         'n_estimators': [10, 19, 28, 37, 46, 55, 64, 73, 82,\n",
       "                                          91, 100],\n",
       "                         'random_state': [12345]},\n",
       "             scoring='accuracy')"
      ]
     },
     "execution_count": 83,
     "metadata": {},
     "output_type": "execute_result"
    }
   ],
   "source": [
    "n_estimators = [int(x) for x in np.linspace(start = 10, stop = 100, num = 11)]\n",
    "\n",
    "max_depth = [int(x) for x in np.linspace(1, 10, num = 11)]\n",
    "\n",
    "max_features = ['auto', 'sqrt']\n",
    "\n",
    "min_samples_split = [2, 5, 10]\n",
    "\n",
    "min_samples_leaf = [1, 2, 4]\n",
    "\n",
    "random_state=[12345]\n",
    "\n",
    "rf_grid = {'n_estimators': n_estimators,\n",
    "           'max_features': max_features,\n",
    "           'max_depth': max_depth,\n",
    "           'min_samples_split': min_samples_split,\n",
    "           'min_samples_leaf': min_samples_leaf,\n",
    "            'random_state': random_state}\n",
    "\n",
    "model_rf_downsampled = GridSearchCV(RandomForestClassifier(), rf_grid, scoring = 'accuracy')\n",
    "# обучаем модель\n",
    "model_rf_downsampled.fit(features_downsampled,target_downsampled)"
   ]
  },
  {
   "cell_type": "code",
   "execution_count": 84,
   "metadata": {},
   "outputs": [
    {
     "name": "stdout",
     "output_type": "stream",
     "text": [
      "Наивысшая оценка: 0.7805514961725818\n",
      "Лучшие гиперпараметры: {'max_depth': 9, 'max_features': 'auto', 'min_samples_leaf': 4, 'min_samples_split': 10, 'n_estimators': 100, 'random_state': 12345}\n"
     ]
    }
   ],
   "source": [
    "#определяем лучшие гиперпараметры для модели случайного леса\n",
    "\n",
    "print('Наивысшая оценка: %s' % model_rf_downsampled.best_score_)\n",
    "print('Лучшие гиперпараметры: %s' % model_rf_downsampled.best_params_)"
   ]
  },
  {
   "cell_type": "code",
   "execution_count": 85,
   "metadata": {},
   "outputs": [
    {
     "name": "stdout",
     "output_type": "stream",
     "text": [
      "Полнота: 0.7488038277511961\n",
      "Точность: 0.48829953198127923\n",
      "F1-score: 0.591123701605288\n"
     ]
    }
   ],
   "source": [
    "#получаем предсказания для валидационной выборки\n",
    "\n",
    "predicted_valid_rf_downsampled = model_rf_downsampled.predict(features_valid)\n",
    "\n",
    "#определяем значения полноты и точности для валидационной выборки\n",
    "\n",
    "print('Полнота:', recall_score(target_valid, predicted_valid_rf_downsampled))\n",
    "print('Точность:', precision_score(target_valid, predicted_valid_rf_downsampled))\n",
    "\n",
    "#также определяем значение f1 меры\n",
    "\n",
    "print('F1-score:', f1_score(target_valid, predicted_valid_rf_downsampled))"
   ]
  },
  {
   "cell_type": "code",
   "execution_count": 86,
   "metadata": {},
   "outputs": [
    {
     "name": "stdout",
     "output_type": "stream",
     "text": [
      "AUC-ROC на тренировочной выборке: 0.918\n",
      "AUC-ROC на валидационной выборке: 0.851\n"
     ]
    }
   ],
   "source": [
    "#определим AUC-ROC для модели случайного леса\n",
    "\n",
    "print(\"AUC-ROC на валидационной выборке: {:.3f}\".\n",
    "format(roc_auc_score(target_valid, model_rf_downsampled.predict_proba(features_valid)[:, 1])))"
   ]
  },
  {
   "cell_type": "markdown",
   "metadata": {},
   "source": [
    "<div class=\"alert alert-info\">\n",
    "<b>Комментарий студента:</b>\n",
    "<br>\n",
    "Модель случайного леса с уменьшением выборки показала результаты хуже, чем эксперимент с увеличением выборки. Метрика F1-мера: 0.591 против 0.622, AUC-ROC: 0.851 против 0.853. Перейдем к модели логистической регрессии.\n",
    "</div>"
   ]
  },
  {
   "cell_type": "code",
   "execution_count": 87,
   "metadata": {},
   "outputs": [
    {
     "data": {
      "text/plain": [
       "GridSearchCV(estimator=LogisticRegression(),\n",
       "             param_grid={'C': [1, 1, 2, 3, 4, 5, 6, 7, 8, 9, 10],\n",
       "                         'max_iter': [1, 15, 30, 45, 60, 75, 90, 105, 120, 135,\n",
       "                                      150],\n",
       "                         'penalty': ['l1', 'l2', 'elasticnet', 'none'],\n",
       "                         'random_state': [12345],\n",
       "                         'solver': ['newton-cg', 'lbfgs', 'liblinear', 'sag',\n",
       "                                    'saga']},\n",
       "             scoring='accuracy')"
      ]
     },
     "execution_count": 87,
     "metadata": {},
     "output_type": "execute_result"
    }
   ],
   "source": [
    "C = [int(x) for x in np.linspace(start = 1, stop = 10, num = 11)]\n",
    "\n",
    "max_iter = [int(x) for x in np.linspace(1, 150, num = 11)]\n",
    "\n",
    "penalty = ['l1', 'l2', 'elasticnet', 'none']\n",
    "\n",
    "solver = ['newton-cg', 'lbfgs', 'liblinear', 'sag', 'saga']\n",
    "\n",
    "random_state = [12345]\n",
    "\n",
    "lr_grid = {'C': C,\n",
    "           'max_iter': max_iter,\n",
    "           'penalty': penalty,\n",
    "           'solver': solver,\n",
    "           'random_state': random_state}\n",
    "\n",
    "model_lr_downsampled = GridSearchCV(LogisticRegression(), lr_grid, scoring = 'accuracy')\n",
    "# обучаем модель\n",
    "model_lr_downsampled.fit(features_downsampled,target_downsampled)"
   ]
  },
  {
   "cell_type": "code",
   "execution_count": 88,
   "metadata": {},
   "outputs": [
    {
     "name": "stdout",
     "output_type": "stream",
     "text": [
      "Наивысшая оценка: 0.7108985734168407\n",
      "Лучшие гиперпараметры: {'C': 4, 'max_iter': 1, 'penalty': 'l2', 'random_state': 12345, 'solver': 'liblinear'}\n"
     ]
    }
   ],
   "source": [
    "#определяем лучшие гиперпараметры для логистической регрессии\n",
    "\n",
    "print('Наивысшая оценка: %s' % model_lr_downsampled.best_score_)\n",
    "print('Лучшие гиперпараметры: %s' % model_lr_downsampled.best_params_)"
   ]
  },
  {
   "cell_type": "code",
   "execution_count": 89,
   "metadata": {},
   "outputs": [
    {
     "name": "stdout",
     "output_type": "stream",
     "text": [
      "Полнота: 0.6770334928229665\n",
      "Точность: 0.38873626373626374\n",
      "F1-score: 0.493891797556719\n"
     ]
    }
   ],
   "source": [
    "#получаем предсказания для валидационной выборки\n",
    "\n",
    "predicted_valid_lr_downsampled = model_lr_downsampled.predict(features_valid)\n",
    "\n",
    "#определяем значения полноты и точности для валидационной выборки\n",
    "\n",
    "print('Полнота:', recall_score(target_valid, predicted_valid_lr_downsampled))\n",
    "print('Точность:', precision_score(target_valid, predicted_valid_lr_downsampled))\n",
    "\n",
    "#также определяем значение f1 меры\n",
    "\n",
    "print('F1-score:', f1_score(target_valid, predicted_valid_lr_downsampled))"
   ]
  },
  {
   "cell_type": "code",
   "execution_count": 90,
   "metadata": {},
   "outputs": [
    {
     "name": "stdout",
     "output_type": "stream",
     "text": [
      "AUC-ROC на валидационной выборке: 0.766\n"
     ]
    }
   ],
   "source": [
    "#определим AUC-ROC для модели случайного леса\n",
    "\n",
    "print(\"AUC-ROC на валидационной выборке: {:.3f}\".\n",
    "format(roc_auc_score(target_valid, model_lr_downsampled.predict_proba(features_valid)[:, 1])))"
   ]
  },
  {
   "cell_type": "markdown",
   "metadata": {},
   "source": [
    "<div class=\"alert alert-info\">\n",
    "<b>Комментарий студента:</b>\n",
    "<br>\n",
    "Модель логистической регрессии с уменьшением выборки показала себя лучше модели с увеличением выборки, но хуже модели с уменьшением классов.  \n",
    "</div>"
   ]
  },
  {
   "cell_type": "markdown",
   "metadata": {},
   "source": [
    "<div class=\"alert alert-info\">\n",
    "<b>Комментарий студента:</b>\n",
    "<br>\n",
    "Визуально отобразим наши ROC-кривые (кривые ошибок) по каждой модели с учетом уменьшения выборки.\n",
    "</div>"
   ]
  },
  {
   "cell_type": "code",
   "execution_count": 91,
   "metadata": {},
   "outputs": [
    {
     "data": {
      "image/png": "[encoded data removed]",
      "text/plain": [
       "<Figure size 864x648 with 1 Axes>"
      ]
     },
     "metadata": {
      "needs_background": "light"
     },
     "output_type": "display_data"
    }
   ],
   "source": [
    "plt.figure(figsize=[12,9])\n",
    "\n",
    "plt.plot([0, 1], [0, 1], linestyle='--', label='RandomModel')\n",
    "\n",
    "fpr, tpr, thresholds = roc_curve(target_valid, model_dt_downsampled.predict_proba(features_valid)[:, 1])\n",
    "plt.plot(fpr, tpr, label='DecisionTreeClassifier')\n",
    "\n",
    "fpr, tpr, thresholds = roc_curve(target_valid, model_rf_downsampled.predict_proba(features_valid)[:, 1])\n",
    "plt.plot(fpr, tpr, label='RandomForestClassifier')\n",
    "\n",
    "fpr, tpr, thresholds = roc_curve(target_valid, model_lr_downsampled.predict_proba(features_valid)[:, 1])\n",
    "plt.plot(fpr, tpr, label='LogisticRegression')\n",
    "\n",
    "plt.legend(loc='lower right', fontsize='x-large')\n",
    "\n",
    "plt.xlim([0.0, 1.0])\n",
    "plt.ylim([0.0, 1.0])\n",
    "\n",
    "plt.xlabel('False Positive Rate')\n",
    "plt.ylabel('True Positive Rate')\n",
    "\n",
    "plt.title('ROC-кривая')\n",
    "plt.show()"
   ]
  },
  {
   "cell_type": "markdown",
   "metadata": {},
   "source": [
    "<div class=\"alert alert-info\">\n",
    "<b>Комментарий студента:</b>\n",
    "<br>\n",
    "В очередной раз наибольшие значения метрик F1-меры и AUC-ROC показывает модель случайного леса с F1-мерой равной 0.591 и AUC-ROC равной 0.851. Далее идет модель дерева решений со значением метрики F1-мера 0.526 и AUC-ROC равной 0.806. Затем идет модель логистической регрессии с F1-мерой равной 0.493 и AUC-ROC равной 0.766.\n",
    "</div>"
   ]
  },
  {
   "cell_type": "markdown",
   "metadata": {},
   "source": [
    "<div class=\"alert alert-info\">\n",
    "<b>Комментарий студента:</b>\n",
    "<br>\n",
    "Составим общую таблицу с результатами, чтобы выбрать наилучшую модель для дальнейшего тестирования.\n",
    "</div>"
   ]
  },
  {
   "cell_type": "code",
   "execution_count": 196,
   "metadata": {},
   "outputs": [],
   "source": [
    "init = {'f1-мера': [ f1_score(target_valid, predicted_valid_dt),\n",
    "                f1_score(target_valid, predicted_valid_rf),\n",
    "                f1_score(target_valid, predicted_valid_lr)         \n",
    "              ], \n",
    "        'auc-roc':\n",
    "        [roc_auc_score(target_valid, model_dt.predict_proba(features_valid)[:, 1]),\n",
    "         roc_auc_score(target_valid, model_rf.predict_proba(features_valid)[:, 1]),\n",
    "         roc_auc_score(target_valid, model_lr.predict_proba(features_valid)[:, 1]), \n",
    "        ]}\n",
    "\n",
    "df_init = pd.DataFrame(init)"
   ]
  },
  {
   "cell_type": "code",
   "execution_count": 197,
   "metadata": {},
   "outputs": [],
   "source": [
    "balance = {'f1-мера': [ f1_score(target_valid, predicted_valid_dt_balance),\n",
    "                f1_score(target_valid, predicted_valid_rf_balance),\n",
    "                f1_score(target_valid, predicted_valid_lr_balance)         \n",
    "              ], \n",
    "        'auc-roc':\n",
    "        [roc_auc_score(target_valid, model_dt_balance.predict_proba(features_valid)[:, 1]),\n",
    "         roc_auc_score(target_valid, model_rf_balance.predict_proba(features_valid)[:, 1]),\n",
    "         roc_auc_score(target_valid, model_lr_balance.predict_proba(features_valid)[:, 1]), \n",
    "        ]}\n",
    "\n",
    "df_balance = pd.DataFrame(balance)"
   ]
  },
  {
   "cell_type": "code",
   "execution_count": 198,
   "metadata": {},
   "outputs": [],
   "source": [
    "upsampled = {'f1-мера': [f1_score(target_valid, predicted_valid_dt_upsampled),\n",
    "                f1_score(target_valid, predicted_valid_rf_upsampled),\n",
    "                f1_score(target_valid, predicted_valid_lr_upsampled)         \n",
    "              ], \n",
    "        'auc-roc':\n",
    "        [roc_auc_score(target_valid, model_dt_upsampled.predict_proba(features_valid)[:, 1]),\n",
    "         roc_auc_score(target_valid, model_rf_upsampled.predict_proba(features_valid)[:, 1]),\n",
    "         roc_auc_score(target_valid, model_lr_upsampled.predict_proba(features_valid)[:, 1]), \n",
    "        ]}\n",
    "\n",
    "df_upsampled = pd.DataFrame(upsampled)"
   ]
  },
  {
   "cell_type": "code",
   "execution_count": 199,
   "metadata": {},
   "outputs": [],
   "source": [
    "downsampled = {'f1-мера': [ f1_score(target_valid, predicted_valid_dt_downsampled),\n",
    "                f1_score(target_valid, predicted_valid_rf_downsampled),\n",
    "                f1_score(target_valid, predicted_valid_lr_downsampled)         \n",
    "              ], \n",
    "        'auc-roc':\n",
    "        [roc_auc_score(target_valid, model_dt_downsampled.predict_proba(features_valid)[:, 1]),\n",
    "         roc_auc_score(target_valid, model_rf_downsampled.predict_proba(features_valid)[:, 1]),\n",
    "         roc_auc_score(target_valid, model_lr_downsampled.predict_proba(features_valid)[:, 1]), \n",
    "        ]}\n",
    "\n",
    "df_downsampled = pd.DataFrame(downsampled)"
   ]
  },
  {
   "cell_type": "code",
   "execution_count": 200,
   "metadata": {},
   "outputs": [
    {
     "data": {
      "text/html": [
       "<div>\n",
       "<style scoped>\n",
       "    .dataframe tbody tr th:only-of-type {\n",
       "        vertical-align: middle;\n",
       "    }\n",
       "\n",
       "    .dataframe tbody tr th {\n",
       "        vertical-align: top;\n",
       "    }\n",
       "\n",
       "    .dataframe thead tr th {\n",
       "        text-align: left;\n",
       "    }\n",
       "</style>\n",
       "<table border=\"1\" class=\"dataframe\">\n",
       "  <thead>\n",
       "    <tr>\n",
       "      <th></th>\n",
       "      <th colspan=\"2\" halign=\"left\">без учета дисбаланса</th>\n",
       "      <th colspan=\"2\" halign=\"left\">взвешивание классов</th>\n",
       "      <th colspan=\"2\" halign=\"left\">увеличение выборки</th>\n",
       "      <th colspan=\"2\" halign=\"left\">уменьшение выборки</th>\n",
       "    </tr>\n",
       "    <tr>\n",
       "      <th></th>\n",
       "      <th>f1-мера</th>\n",
       "      <th>auc-roc</th>\n",
       "      <th>f1-мера</th>\n",
       "      <th>auc-roc</th>\n",
       "      <th>f1-мера</th>\n",
       "      <th>auc-roc</th>\n",
       "      <th>f1-мера</th>\n",
       "      <th>auc-roc</th>\n",
       "    </tr>\n",
       "  </thead>\n",
       "  <tbody>\n",
       "    <tr>\n",
       "      <th>Дерево решений</th>\n",
       "      <td>0.528</td>\n",
       "      <td>0.838</td>\n",
       "      <td>0.248</td>\n",
       "      <td>0.569</td>\n",
       "      <td>0.540</td>\n",
       "      <td>0.758</td>\n",
       "      <td>0.527</td>\n",
       "      <td>0.806</td>\n",
       "    </tr>\n",
       "    <tr>\n",
       "      <th>Случайный лес</th>\n",
       "      <td>0.580</td>\n",
       "      <td>0.852</td>\n",
       "      <td>0.621</td>\n",
       "      <td>0.853</td>\n",
       "      <td>0.622</td>\n",
       "      <td>0.853</td>\n",
       "      <td>0.591</td>\n",
       "      <td>0.851</td>\n",
       "    </tr>\n",
       "    <tr>\n",
       "      <th>Логистическая регрессия</th>\n",
       "      <td>0.329</td>\n",
       "      <td>0.759</td>\n",
       "      <td>0.519</td>\n",
       "      <td>0.766</td>\n",
       "      <td>0.489</td>\n",
       "      <td>0.764</td>\n",
       "      <td>0.494</td>\n",
       "      <td>0.766</td>\n",
       "    </tr>\n",
       "  </tbody>\n",
       "</table>\n",
       "</div>"
      ],
      "text/plain": [
       "                        без учета дисбаланса         взвешивание классов  \\\n",
       "                                     f1-мера auc-roc             f1-мера   \n",
       "Дерево решений                         0.528   0.838               0.248   \n",
       "Случайный лес                          0.580   0.852               0.621   \n",
       "Логистическая регрессия                0.329   0.759               0.519   \n",
       "\n",
       "                                увеличение выборки         уменьшение выборки  \\\n",
       "                        auc-roc            f1-мера auc-roc            f1-мера   \n",
       "Дерево решений            0.569              0.540   0.758              0.527   \n",
       "Случайный лес             0.853              0.622   0.853              0.591   \n",
       "Логистическая регрессия   0.766              0.489   0.764              0.494   \n",
       "\n",
       "                                 \n",
       "                        auc-roc  \n",
       "Дерево решений            0.806  \n",
       "Случайный лес             0.851  \n",
       "Логистическая регрессия   0.766  "
      ]
     },
     "execution_count": 200,
     "metadata": {},
     "output_type": "execute_result"
    }
   ],
   "source": [
    "df_all = pd.concat([df_init, df_balance, df_upsampled, df_downsampled], axis=1, \n",
    "                     keys=['без учета дисбаланса', 'взвешивание классов', 'увеличение выборки', 'уменьшение выборки'])\n",
    "\n",
    "df_all.index = ['Дерево решений', 'Случайный лес', 'Логистическая регрессия']\n",
    "\n",
    "df_all"
   ]
  },
  {
   "cell_type": "markdown",
   "metadata": {},
   "source": [
    "<div class=\"alert alert-info\">\n",
    "<b>Комментарий студента:</b>\n",
    "<br>\n",
    "По результатам, приведенным в таблице можно заметить, что наилучший результат на валидационной выборке по показателям F1-мера и AUC-ROC показывает модель случайного леса, причем максимальный результат был достигнут в эксперименте с увеличением выборки. \n",
    "<br>\n",
    "Модель дерева решений показала лучший результат по показателю F1-мера в эксперименте с увеличением выборки, однако по показателю AUC-ROC наилучший результат был у модели без учета дисбаланса классов.\n",
    "<br>\n",
    "Модель логистической регрессии показала лучший результат по показателям F1-мера и AUC-ROC в эксперименте с взвешиванием классов.\n",
    "<br>\n",
    "Для тестирования модели примем гиперпараметры, полученные для модели случайного леса в эксперименте с увеличением выборки.     \n",
    "</div>"
   ]
  },
  {
   "cell_type": "markdown",
   "metadata": {},
   "source": [
    "## Тестирование модели"
   ]
  },
  {
   "cell_type": "code",
   "execution_count": 203,
   "metadata": {},
   "outputs": [
    {
     "name": "stdout",
     "output_type": "stream",
     "text": [
      "Полнота: 0.6713947990543735\n",
      "Точность: 0.5590551181102362\n",
      "F1-score на тестовой выборке: 0.6100966702470462\n",
      "AUC-ROC на тестовой выборке: 0.854\n"
     ]
    }
   ],
   "source": [
    "#применим нашу лучшую модель для предсказания ответов на тестовой выборке\n",
    "\n",
    "model_test_rf_upsampled = RandomForestClassifier(max_depth=10, min_samples_leaf=1, min_samples_split=2,\n",
    "                                                 n_estimators=64, random_state=12345) \n",
    "model_test_rf_upsampled.fit(features_upsampled, target_upsampled)\n",
    "\n",
    "#получаем предсказания для тестовой выборки\n",
    "\n",
    "predicted_test_rf_upsampled = model_test_rf_upsampled.predict(features_test)\n",
    "\n",
    "#определяем значения полноты и точности для тестовой выборки\n",
    "\n",
    "print('Полнота:', recall_score(target_test, predicted_test_rf_upsampled))\n",
    "print('Точность:', precision_score(target_test, predicted_test_rf_upsampled))\n",
    "\n",
    "#также определяем значение f1 меры\n",
    "\n",
    "print('F1-score на тестовой выборке:', f1_score(target_test, predicted_test_rf_upsampled))\n",
    "\n",
    "#определим AUC-ROC для модели случайного леса\n",
    "\n",
    "print(\"AUC-ROC на тестовой выборке: {:.3f}\".\n",
    "format(roc_auc_score(target_test, model_test_rf_upsampled.predict_proba(features_test)[:, 1])))"
   ]
  },
  {
   "cell_type": "markdown",
   "metadata": {},
   "source": [
    "<div class=\"alert alert-info\">\n",
    "<b>Комментарий студента:</b>\n",
    "<br>\n",
    "В результате тестирования модели случайного леса на тестовой выборке получили достаточно большую величину F1-меры - 0.61, также была получена наибольшая величина AUC-ROC - 0.854. Модель случайного леса достаточно хорошо подходит под задачи бинарной классификации.\n",
    "</div>"
   ]
  }
 ],
 "metadata": {
  "ExecuteTimeLog": [
   {
    "duration": 1295,
    "start_time": "2022-04-17T10:53:43.766Z"
   },
   {
    "duration": 109,
    "start_time": "2022-04-17T10:55:30.913Z"
   },
   {
    "duration": 37,
    "start_time": "2022-04-17T10:55:48.759Z"
   },
   {
    "duration": 105,
    "start_time": "2022-04-17T11:01:02.112Z"
   },
   {
    "duration": 24,
    "start_time": "2022-04-17T11:01:03.234Z"
   },
   {
    "duration": 4,
    "start_time": "2022-04-17T11:01:07.518Z"
   },
   {
    "duration": 102,
    "start_time": "2022-04-17T11:01:07.859Z"
   },
   {
    "duration": 22,
    "start_time": "2022-04-17T11:01:08.185Z"
   },
   {
    "duration": 24,
    "start_time": "2022-04-17T11:01:40.321Z"
   },
   {
    "duration": 160,
    "start_time": "2022-04-17T11:02:09.357Z"
   },
   {
    "duration": 43,
    "start_time": "2022-04-17T11:02:24.826Z"
   },
   {
    "duration": 2,
    "start_time": "2022-04-17T11:03:55.086Z"
   },
   {
    "duration": 5,
    "start_time": "2022-04-17T11:15:34.051Z"
   },
   {
    "duration": 4,
    "start_time": "2022-04-17T11:19:06.419Z"
   },
   {
    "duration": 4,
    "start_time": "2022-04-17T11:25:01.088Z"
   },
   {
    "duration": 4,
    "start_time": "2022-04-17T11:25:23.297Z"
   },
   {
    "duration": 10,
    "start_time": "2022-04-17T11:53:14.538Z"
   },
   {
    "duration": 5,
    "start_time": "2022-04-17T11:53:24.605Z"
   },
   {
    "duration": 4,
    "start_time": "2022-04-17T11:55:06.061Z"
   },
   {
    "duration": 16,
    "start_time": "2022-04-17T11:56:02.924Z"
   },
   {
    "duration": 5,
    "start_time": "2022-04-17T11:56:32.933Z"
   },
   {
    "duration": 5,
    "start_time": "2022-04-17T11:58:01.648Z"
   },
   {
    "duration": 13,
    "start_time": "2022-04-17T11:58:03.132Z"
   },
   {
    "duration": 4,
    "start_time": "2022-04-17T11:58:28.461Z"
   },
   {
    "duration": 175,
    "start_time": "2022-04-17T11:59:43.991Z"
   },
   {
    "duration": 1197,
    "start_time": "2022-04-17T12:02:53.615Z"
   },
   {
    "duration": 105,
    "start_time": "2022-04-17T12:02:54.813Z"
   },
   {
    "duration": 65,
    "start_time": "2022-04-17T12:02:54.920Z"
   },
   {
    "duration": 5,
    "start_time": "2022-04-17T12:02:55.001Z"
   },
   {
    "duration": 11,
    "start_time": "2022-04-17T12:02:55.008Z"
   },
   {
    "duration": 172,
    "start_time": "2022-04-17T12:02:55.020Z"
   },
   {
    "duration": 160,
    "start_time": "2022-04-17T12:08:03.510Z"
   },
   {
    "duration": 176,
    "start_time": "2022-04-17T12:08:05.937Z"
   },
   {
    "duration": 4,
    "start_time": "2022-04-17T12:20:29.172Z"
   },
   {
    "duration": 170,
    "start_time": "2022-04-17T12:21:10.356Z"
   },
   {
    "duration": 4,
    "start_time": "2022-04-17T14:17:58.498Z"
   },
   {
    "duration": 8,
    "start_time": "2022-04-17T14:28:38.025Z"
   },
   {
    "duration": 10,
    "start_time": "2022-04-17T14:28:47.466Z"
   },
   {
    "duration": 5,
    "start_time": "2022-04-17T14:30:23.577Z"
   },
   {
    "duration": 10,
    "start_time": "2022-04-17T14:30:28.188Z"
   },
   {
    "duration": 1181,
    "start_time": "2022-04-17T14:30:38.773Z"
   },
   {
    "duration": 135,
    "start_time": "2022-04-17T14:30:39.955Z"
   },
   {
    "duration": 49,
    "start_time": "2022-04-17T14:30:40.092Z"
   },
   {
    "duration": 4,
    "start_time": "2022-04-17T14:30:40.142Z"
   },
   {
    "duration": 5,
    "start_time": "2022-04-17T14:30:40.148Z"
   },
   {
    "duration": 4,
    "start_time": "2022-04-17T14:30:40.154Z"
   },
   {
    "duration": 10,
    "start_time": "2022-04-17T14:30:40.160Z"
   },
   {
    "duration": 40,
    "start_time": "2022-04-17T14:30:40.172Z"
   },
   {
    "duration": 10,
    "start_time": "2022-04-17T14:32:22.027Z"
   },
   {
    "duration": 9,
    "start_time": "2022-04-17T14:32:22.550Z"
   },
   {
    "duration": 10,
    "start_time": "2022-04-17T14:32:26.605Z"
   },
   {
    "duration": 1115,
    "start_time": "2022-04-17T14:32:34.430Z"
   },
   {
    "duration": 116,
    "start_time": "2022-04-17T14:32:35.546Z"
   },
   {
    "duration": 41,
    "start_time": "2022-04-17T14:32:35.664Z"
   },
   {
    "duration": 4,
    "start_time": "2022-04-17T14:32:35.706Z"
   },
   {
    "duration": 6,
    "start_time": "2022-04-17T14:32:35.712Z"
   },
   {
    "duration": 5,
    "start_time": "2022-04-17T14:32:35.720Z"
   },
   {
    "duration": 13,
    "start_time": "2022-04-17T14:32:35.727Z"
   },
   {
    "duration": 14,
    "start_time": "2022-04-17T14:32:35.743Z"
   },
   {
    "duration": 164,
    "start_time": "2022-04-17T14:35:48.706Z"
   },
   {
    "duration": 7,
    "start_time": "2022-04-17T14:36:14.611Z"
   },
   {
    "duration": 18,
    "start_time": "2022-04-17T14:36:22.846Z"
   },
   {
    "duration": 160,
    "start_time": "2022-04-17T14:38:01.674Z"
   },
   {
    "duration": 7,
    "start_time": "2022-04-17T14:41:16.514Z"
   },
   {
    "duration": 7,
    "start_time": "2022-04-17T14:41:22.855Z"
   },
   {
    "duration": 6,
    "start_time": "2022-04-17T14:41:54.986Z"
   },
   {
    "duration": 6,
    "start_time": "2022-04-17T14:41:55.389Z"
   },
   {
    "duration": 6,
    "start_time": "2022-04-17T14:43:46.143Z"
   },
   {
    "duration": 6,
    "start_time": "2022-04-17T14:44:18.713Z"
   },
   {
    "duration": 6,
    "start_time": "2022-04-17T14:44:19.024Z"
   },
   {
    "duration": 90,
    "start_time": "2022-04-17T14:44:19.440Z"
   },
   {
    "duration": 4,
    "start_time": "2022-04-17T14:45:22.726Z"
   },
   {
    "duration": 6,
    "start_time": "2022-04-17T14:46:57.892Z"
   },
   {
    "duration": 5,
    "start_time": "2022-04-17T14:46:58.295Z"
   },
   {
    "duration": 4,
    "start_time": "2022-04-17T14:46:59.092Z"
   },
   {
    "duration": 9,
    "start_time": "2022-04-17T14:47:41.848Z"
   },
   {
    "duration": 198,
    "start_time": "2022-04-17T14:54:47.808Z"
   },
   {
    "duration": 5,
    "start_time": "2022-04-17T14:55:12.562Z"
   },
   {
    "duration": 9,
    "start_time": "2022-04-17T14:55:59.525Z"
   },
   {
    "duration": 1154,
    "start_time": "2022-04-17T14:57:26.544Z"
   },
   {
    "duration": 137,
    "start_time": "2022-04-17T14:57:27.699Z"
   },
   {
    "duration": 46,
    "start_time": "2022-04-17T14:57:27.838Z"
   },
   {
    "duration": 4,
    "start_time": "2022-04-17T14:57:27.886Z"
   },
   {
    "duration": 9,
    "start_time": "2022-04-17T14:57:27.891Z"
   },
   {
    "duration": 4,
    "start_time": "2022-04-17T14:57:27.901Z"
   },
   {
    "duration": 23,
    "start_time": "2022-04-17T14:57:27.906Z"
   },
   {
    "duration": 9,
    "start_time": "2022-04-17T14:57:27.930Z"
   },
   {
    "duration": 22,
    "start_time": "2022-04-17T14:57:27.941Z"
   },
   {
    "duration": 4,
    "start_time": "2022-04-17T14:57:27.966Z"
   },
   {
    "duration": 26,
    "start_time": "2022-04-17T14:59:35.108Z"
   },
   {
    "duration": 22,
    "start_time": "2022-04-17T15:00:40.456Z"
   },
   {
    "duration": 31,
    "start_time": "2022-04-17T15:01:28.047Z"
   },
   {
    "duration": 1114,
    "start_time": "2022-04-17T15:04:52.912Z"
   },
   {
    "duration": 105,
    "start_time": "2022-04-17T15:04:54.027Z"
   },
   {
    "duration": 42,
    "start_time": "2022-04-17T15:04:54.134Z"
   },
   {
    "duration": 3,
    "start_time": "2022-04-17T15:04:54.178Z"
   },
   {
    "duration": 6,
    "start_time": "2022-04-17T15:04:54.183Z"
   },
   {
    "duration": 10,
    "start_time": "2022-04-17T15:04:54.190Z"
   },
   {
    "duration": 20,
    "start_time": "2022-04-17T15:04:54.202Z"
   },
   {
    "duration": 10,
    "start_time": "2022-04-17T15:04:54.224Z"
   },
   {
    "duration": 36,
    "start_time": "2022-04-17T15:04:54.235Z"
   },
   {
    "duration": 117425,
    "start_time": "2022-04-17T15:21:00.046Z"
   },
   {
    "duration": 110897,
    "start_time": "2022-04-17T15:24:16.442Z"
   },
   {
    "duration": 117665,
    "start_time": "2022-04-17T15:26:26.389Z"
   },
   {
    "duration": 4,
    "start_time": "2022-04-17T15:32:17.274Z"
   },
   {
    "duration": 10,
    "start_time": "2022-04-17T15:34:12.986Z"
   },
   {
    "duration": 10,
    "start_time": "2022-04-17T15:35:42.679Z"
   },
   {
    "duration": 10,
    "start_time": "2022-04-17T15:36:07.291Z"
   },
   {
    "duration": 11,
    "start_time": "2022-04-17T15:37:30.295Z"
   },
   {
    "duration": 1605082,
    "start_time": "2022-04-17T15:38:05.593Z"
   },
   {
    "duration": 4,
    "start_time": "2022-04-17T16:05:34.618Z"
   },
   {
    "duration": 9,
    "start_time": "2022-04-17T16:07:34.598Z"
   },
   {
    "duration": 20,
    "start_time": "2022-04-17T16:07:49.953Z"
   },
   {
    "duration": 22,
    "start_time": "2022-04-17T16:07:55.605Z"
   },
   {
    "duration": 23,
    "start_time": "2022-04-17T16:08:53.391Z"
   },
   {
    "duration": 390,
    "start_time": "2022-04-17T16:12:15.819Z"
   },
   {
    "duration": 1207,
    "start_time": "2022-04-17T16:12:40.535Z"
   },
   {
    "duration": 9637,
    "start_time": "2022-04-17T16:13:41.973Z"
   },
   {
    "duration": 7,
    "start_time": "2022-04-17T16:14:06.853Z"
   },
   {
    "duration": 7,
    "start_time": "2022-04-17T16:14:28.400Z"
   },
   {
    "duration": 1277,
    "start_time": "2022-04-17T16:14:41.287Z"
   },
   {
    "duration": 8,
    "start_time": "2022-04-17T16:14:43.301Z"
   },
   {
    "duration": 731,
    "start_time": "2022-04-17T16:15:54.699Z"
   },
   {
    "duration": 1249,
    "start_time": "2022-04-17T16:17:20.554Z"
   },
   {
    "duration": 9,
    "start_time": "2022-04-17T16:17:21.806Z"
   },
   {
    "duration": 10919,
    "start_time": "2022-04-17T16:17:21.817Z"
   },
   {
    "duration": 8,
    "start_time": "2022-04-17T16:17:32.739Z"
   },
   {
    "duration": 3,
    "start_time": "2022-04-17T16:17:42.068Z"
   },
   {
    "duration": 7126,
    "start_time": "2022-04-17T16:18:14.878Z"
   },
   {
    "duration": 8,
    "start_time": "2022-04-17T16:18:22.006Z"
   },
   {
    "duration": 6,
    "start_time": "2022-04-17T16:18:22.015Z"
   },
   {
    "duration": 28603,
    "start_time": "2022-04-17T16:19:02.326Z"
   },
   {
    "duration": 0,
    "start_time": "2022-04-17T16:19:30.931Z"
   },
   {
    "duration": 181,
    "start_time": "2022-04-17T16:23:08.311Z"
   },
   {
    "duration": 8578,
    "start_time": "2022-04-17T16:27:35.016Z"
   },
   {
    "duration": 7,
    "start_time": "2022-04-17T16:27:43.599Z"
   },
   {
    "duration": 3,
    "start_time": "2022-04-17T16:27:43.608Z"
   },
   {
    "duration": 17,
    "start_time": "2022-04-17T16:28:01.152Z"
   },
   {
    "duration": 13,
    "start_time": "2022-04-17T16:28:01.783Z"
   },
   {
    "duration": 13,
    "start_time": "2022-04-17T16:28:08.336Z"
   },
   {
    "duration": 9,
    "start_time": "2022-04-17T16:29:13.906Z"
   },
   {
    "duration": 4,
    "start_time": "2022-04-17T16:29:37.668Z"
   },
   {
    "duration": 6825,
    "start_time": "2022-04-17T16:31:07.011Z"
   },
   {
    "duration": 6,
    "start_time": "2022-04-17T16:31:13.838Z"
   },
   {
    "duration": 4,
    "start_time": "2022-04-17T16:31:13.999Z"
   },
   {
    "duration": 4,
    "start_time": "2022-04-17T16:31:47.103Z"
   },
   {
    "duration": 6413,
    "start_time": "2022-04-17T16:32:19.712Z"
   },
   {
    "duration": 6,
    "start_time": "2022-04-17T16:32:26.127Z"
   },
   {
    "duration": 3,
    "start_time": "2022-04-17T16:32:26.166Z"
   },
   {
    "duration": 10276,
    "start_time": "2022-04-17T16:32:48.878Z"
   },
   {
    "duration": 21,
    "start_time": "2022-04-17T16:33:11.766Z"
   },
   {
    "duration": 8,
    "start_time": "2022-04-17T16:33:36.688Z"
   },
   {
    "duration": 192,
    "start_time": "2022-04-17T16:33:49.364Z"
   },
   {
    "duration": 9,
    "start_time": "2022-04-17T16:33:56.848Z"
   },
   {
    "duration": 8,
    "start_time": "2022-04-17T16:35:06.283Z"
   },
   {
    "duration": 9,
    "start_time": "2022-04-17T16:35:50.215Z"
   },
   {
    "duration": 8,
    "start_time": "2022-04-17T16:35:54.417Z"
   },
   {
    "duration": 4,
    "start_time": "2022-04-17T16:36:13.085Z"
   },
   {
    "duration": 4,
    "start_time": "2022-04-17T16:36:49.978Z"
   },
   {
    "duration": 999,
    "start_time": "2022-04-17T16:37:29.859Z"
   },
   {
    "duration": 3,
    "start_time": "2022-04-17T16:37:43.479Z"
   },
   {
    "duration": 197,
    "start_time": "2022-04-17T16:38:50.874Z"
   },
   {
    "duration": 7,
    "start_time": "2022-04-17T16:38:52.839Z"
   },
   {
    "duration": 3,
    "start_time": "2022-04-17T16:38:55.356Z"
   },
   {
    "duration": 3911,
    "start_time": "2022-04-17T16:39:18.126Z"
   },
   {
    "duration": 6,
    "start_time": "2022-04-17T16:39:22.038Z"
   },
   {
    "duration": 6,
    "start_time": "2022-04-17T16:39:22.046Z"
   },
   {
    "duration": 3806,
    "start_time": "2022-04-17T16:41:22.111Z"
   },
   {
    "duration": 6,
    "start_time": "2022-04-17T16:41:25.919Z"
   },
   {
    "duration": 7,
    "start_time": "2022-04-17T16:41:25.927Z"
   },
   {
    "duration": 6430,
    "start_time": "2022-04-17T16:41:57.746Z"
   },
   {
    "duration": 7,
    "start_time": "2022-04-17T16:42:04.178Z"
   },
   {
    "duration": 15,
    "start_time": "2022-04-17T16:42:04.186Z"
   },
   {
    "duration": 5707,
    "start_time": "2022-04-17T16:43:18.194Z"
   },
   {
    "duration": 6,
    "start_time": "2022-04-17T16:43:23.903Z"
   },
   {
    "duration": 3,
    "start_time": "2022-04-17T16:43:31.372Z"
   },
   {
    "duration": 1569,
    "start_time": "2022-04-17T17:12:03.431Z"
   },
   {
    "duration": 8,
    "start_time": "2022-04-17T17:12:33.750Z"
   },
   {
    "duration": 197,
    "start_time": "2022-04-17T17:13:41.664Z"
   },
   {
    "duration": 3,
    "start_time": "2022-04-17T17:13:51.092Z"
   },
   {
    "duration": 10,
    "start_time": "2022-04-17T17:18:04.786Z"
   },
   {
    "duration": 6,
    "start_time": "2022-04-17T17:18:29.655Z"
   },
   {
    "duration": 3,
    "start_time": "2022-04-17T17:18:32.913Z"
   },
   {
    "duration": 7,
    "start_time": "2022-04-17T17:19:38.258Z"
   },
   {
    "duration": 3,
    "start_time": "2022-04-17T17:19:40.688Z"
   },
   {
    "duration": 7,
    "start_time": "2022-04-17T17:20:18.564Z"
   },
   {
    "duration": 4,
    "start_time": "2022-04-17T17:20:19.331Z"
   },
   {
    "duration": 7,
    "start_time": "2022-04-17T17:20:20.050Z"
   },
   {
    "duration": 4,
    "start_time": "2022-04-17T17:24:42.638Z"
   },
   {
    "duration": 10,
    "start_time": "2022-04-17T17:26:21.013Z"
   },
   {
    "duration": 11,
    "start_time": "2022-04-17T17:26:37.190Z"
   },
   {
    "duration": 167,
    "start_time": "2022-04-17T17:28:20.005Z"
   },
   {
    "duration": 5,
    "start_time": "2022-04-17T17:28:34.986Z"
   },
   {
    "duration": 39630,
    "start_time": "2022-04-17T17:44:51.582Z"
   },
   {
    "duration": 4,
    "start_time": "2022-04-17T17:45:31.214Z"
   },
   {
    "duration": 15,
    "start_time": "2022-04-17T17:45:31.220Z"
   },
   {
    "duration": 174,
    "start_time": "2022-04-17T18:04:16.489Z"
   },
   {
    "duration": 4,
    "start_time": "2022-04-17T18:05:26.775Z"
   },
   {
    "duration": 2061804,
    "start_time": "2022-04-17T18:13:00.484Z"
   },
   {
    "duration": 10,
    "start_time": "2022-04-17T18:47:22.290Z"
   },
   {
    "duration": 49,
    "start_time": "2022-04-17T18:47:22.302Z"
   },
   {
    "duration": 38,
    "start_time": "2022-04-17T18:56:20.672Z"
   },
   {
    "duration": 47,
    "start_time": "2022-04-17T18:56:41.581Z"
   },
   {
    "duration": 4,
    "start_time": "2022-04-17T19:26:09.715Z"
   },
   {
    "duration": 178,
    "start_time": "2022-04-17T19:28:29.032Z"
   },
   {
    "duration": 348,
    "start_time": "2022-04-17T19:35:42.404Z"
   },
   {
    "duration": 19,
    "start_time": "2022-04-17T19:37:17.116Z"
   },
   {
    "duration": 30839,
    "start_time": "2022-04-17T19:38:01.051Z"
   },
   {
    "duration": 7,
    "start_time": "2022-04-17T19:38:31.893Z"
   },
   {
    "duration": 15,
    "start_time": "2022-04-17T19:38:31.902Z"
   },
   {
    "duration": 1060,
    "start_time": "2022-04-18T04:30:23.807Z"
   },
   {
    "duration": 72,
    "start_time": "2022-04-18T04:30:24.869Z"
   },
   {
    "duration": 43,
    "start_time": "2022-04-18T04:30:24.942Z"
   },
   {
    "duration": 5,
    "start_time": "2022-04-18T04:30:24.987Z"
   },
   {
    "duration": 6,
    "start_time": "2022-04-18T04:30:24.993Z"
   },
   {
    "duration": 47,
    "start_time": "2022-04-18T04:30:25.001Z"
   },
   {
    "duration": 11,
    "start_time": "2022-04-18T04:30:25.049Z"
   },
   {
    "duration": 38,
    "start_time": "2022-04-18T04:30:25.061Z"
   },
   {
    "duration": 4,
    "start_time": "2022-04-18T04:30:25.101Z"
   },
   {
    "duration": 114,
    "start_time": "2022-04-18T04:30:25.107Z"
   },
   {
    "duration": 0,
    "start_time": "2022-04-18T04:30:25.222Z"
   },
   {
    "duration": 0,
    "start_time": "2022-04-18T04:30:25.223Z"
   },
   {
    "duration": 0,
    "start_time": "2022-04-18T04:30:25.224Z"
   },
   {
    "duration": 0,
    "start_time": "2022-04-18T04:30:25.225Z"
   },
   {
    "duration": 0,
    "start_time": "2022-04-18T04:30:25.226Z"
   },
   {
    "duration": 0,
    "start_time": "2022-04-18T04:30:25.227Z"
   },
   {
    "duration": 0,
    "start_time": "2022-04-18T04:30:25.228Z"
   },
   {
    "duration": 0,
    "start_time": "2022-04-18T04:30:25.229Z"
   },
   {
    "duration": 0,
    "start_time": "2022-04-18T04:30:25.248Z"
   },
   {
    "duration": 0,
    "start_time": "2022-04-18T04:30:25.249Z"
   },
   {
    "duration": 1005,
    "start_time": "2022-04-18T04:32:27.002Z"
   },
   {
    "duration": 59,
    "start_time": "2022-04-18T04:32:28.008Z"
   },
   {
    "duration": 49,
    "start_time": "2022-04-18T04:32:28.069Z"
   },
   {
    "duration": 27,
    "start_time": "2022-04-18T04:32:28.121Z"
   },
   {
    "duration": 6,
    "start_time": "2022-04-18T04:32:28.149Z"
   },
   {
    "duration": 22,
    "start_time": "2022-04-18T04:32:28.157Z"
   },
   {
    "duration": 11,
    "start_time": "2022-04-18T04:32:28.181Z"
   },
   {
    "duration": 65,
    "start_time": "2022-04-18T04:32:28.194Z"
   },
   {
    "duration": 5,
    "start_time": "2022-04-18T04:32:28.261Z"
   },
   {
    "duration": 30344,
    "start_time": "2022-04-18T04:32:28.269Z"
   },
   {
    "duration": 4,
    "start_time": "2022-04-18T04:32:58.615Z"
   },
   {
    "duration": 28,
    "start_time": "2022-04-18T04:32:58.620Z"
   },
   {
    "duration": 1764229,
    "start_time": "2022-04-18T04:32:58.650Z"
   },
   {
    "duration": 4,
    "start_time": "2022-04-18T05:02:22.880Z"
   },
   {
    "duration": 31,
    "start_time": "2022-04-18T05:02:22.886Z"
   },
   {
    "duration": 1449287,
    "start_time": "2022-04-18T05:02:22.919Z"
   },
   {
    "duration": 4,
    "start_time": "2022-04-18T05:26:32.207Z"
   },
   {
    "duration": 42,
    "start_time": "2022-04-18T05:26:32.213Z"
   },
   {
    "duration": 5,
    "start_time": "2022-04-18T05:26:32.347Z"
   },
   {
    "duration": 6,
    "start_time": "2022-04-18T05:26:32.353Z"
   },
   {
    "duration": 6,
    "start_time": "2022-04-18T05:35:17.398Z"
   },
   {
    "duration": 6,
    "start_time": "2022-04-18T05:35:31.044Z"
   },
   {
    "duration": 6,
    "start_time": "2022-04-18T05:35:37.498Z"
   },
   {
    "duration": 102,
    "start_time": "2022-04-18T18:08:22.747Z"
   },
   {
    "duration": 94,
    "start_time": "2022-04-18T18:09:31.203Z"
   },
   {
    "duration": 85,
    "start_time": "2022-04-18T18:09:37.668Z"
   },
   {
    "duration": 14,
    "start_time": "2022-04-18T18:10:46.491Z"
   },
   {
    "duration": 106,
    "start_time": "2022-04-18T18:15:40.263Z"
   },
   {
    "duration": 104,
    "start_time": "2022-04-18T18:15:40.471Z"
   },
   {
    "duration": 85,
    "start_time": "2022-04-18T18:16:50.034Z"
   },
   {
    "duration": 85,
    "start_time": "2022-04-18T18:19:09.788Z"
   },
   {
    "duration": 96,
    "start_time": "2022-04-18T18:20:29.496Z"
   },
   {
    "duration": 218,
    "start_time": "2022-04-18T18:21:21.843Z"
   },
   {
    "duration": 106,
    "start_time": "2022-04-18T18:44:44.341Z"
   },
   {
    "duration": 113,
    "start_time": "2022-04-18T18:46:05.588Z"
   },
   {
    "duration": 96,
    "start_time": "2022-04-18T18:49:55.057Z"
   },
   {
    "duration": 474,
    "start_time": "2022-04-18T18:50:18.594Z"
   },
   {
    "duration": 23,
    "start_time": "2022-04-18T18:50:25.780Z"
   },
   {
    "duration": 273,
    "start_time": "2022-04-18T18:51:08.382Z"
   },
   {
    "duration": 239,
    "start_time": "2022-04-18T18:52:23.503Z"
   },
   {
    "duration": 300,
    "start_time": "2022-04-18T18:53:02.655Z"
   },
   {
    "duration": 677,
    "start_time": "2022-04-18T18:53:09.095Z"
   },
   {
    "duration": 444,
    "start_time": "2022-04-18T18:54:33.993Z"
   },
   {
    "duration": 363,
    "start_time": "2022-04-18T18:54:52.286Z"
   },
   {
    "duration": 262,
    "start_time": "2022-04-18T18:55:03.770Z"
   },
   {
    "duration": 291,
    "start_time": "2022-04-18T18:56:06.967Z"
   },
   {
    "duration": 399,
    "start_time": "2022-04-18T18:56:57.307Z"
   },
   {
    "duration": 358,
    "start_time": "2022-04-18T18:57:12.513Z"
   },
   {
    "duration": 335,
    "start_time": "2022-04-18T18:58:12.059Z"
   },
   {
    "duration": 101,
    "start_time": "2022-04-18T19:43:50.005Z"
   },
   {
    "duration": 9,
    "start_time": "2022-04-18T19:43:50.216Z"
   },
   {
    "duration": 9,
    "start_time": "2022-04-18T19:43:50.368Z"
   },
   {
    "duration": 0,
    "start_time": "2022-04-19T06:38:54.415Z"
   },
   {
    "duration": 0,
    "start_time": "2022-04-19T06:38:54.416Z"
   },
   {
    "duration": 0,
    "start_time": "2022-04-19T06:38:54.417Z"
   },
   {
    "duration": 0,
    "start_time": "2022-04-19T06:38:54.418Z"
   },
   {
    "duration": 1441951,
    "start_time": "2022-04-19T06:38:57.439Z"
   },
   {
    "duration": 61,
    "start_time": "2022-04-19T07:02:59.392Z"
   },
   {
    "duration": 97,
    "start_time": "2022-04-19T07:02:59.455Z"
   },
   {
    "duration": 95,
    "start_time": "2022-04-19T07:02:59.554Z"
   },
   {
    "duration": 5,
    "start_time": "2022-04-19T07:13:42.544Z"
   },
   {
    "duration": 68,
    "start_time": "2022-04-19T07:13:42.908Z"
   },
   {
    "duration": 39,
    "start_time": "2022-04-19T07:13:43.263Z"
   },
   {
    "duration": 5,
    "start_time": "2022-04-19T07:13:44.067Z"
   },
   {
    "duration": 5,
    "start_time": "2022-04-19T07:13:44.592Z"
   },
   {
    "duration": 20,
    "start_time": "2022-04-19T07:13:45.118Z"
   },
   {
    "duration": 12,
    "start_time": "2022-04-19T07:13:45.619Z"
   },
   {
    "duration": 34,
    "start_time": "2022-04-19T07:13:46.153Z"
   },
   {
    "duration": 4,
    "start_time": "2022-04-19T07:13:47.129Z"
   },
   {
    "duration": 1279,
    "start_time": "2022-04-19T07:14:25.334Z"
   },
   {
    "duration": 90,
    "start_time": "2022-04-19T07:14:26.614Z"
   },
   {
    "duration": 40,
    "start_time": "2022-04-19T07:14:26.705Z"
   },
   {
    "duration": 4,
    "start_time": "2022-04-19T07:14:26.747Z"
   },
   {
    "duration": 7,
    "start_time": "2022-04-19T07:14:26.753Z"
   },
   {
    "duration": 20,
    "start_time": "2022-04-19T07:14:26.761Z"
   },
   {
    "duration": 10,
    "start_time": "2022-04-19T07:14:26.782Z"
   },
   {
    "duration": 55,
    "start_time": "2022-04-19T07:14:26.793Z"
   },
   {
    "duration": 4,
    "start_time": "2022-04-19T07:14:26.850Z"
   },
   {
    "duration": 30866,
    "start_time": "2022-04-19T07:14:26.857Z"
   },
   {
    "duration": 3,
    "start_time": "2022-04-19T07:14:57.725Z"
   },
   {
    "duration": 21,
    "start_time": "2022-04-19T07:14:57.730Z"
   },
   {
    "duration": 10,
    "start_time": "2022-04-19T07:14:57.753Z"
   },
   {
    "duration": 1752696,
    "start_time": "2022-04-19T07:14:57.765Z"
   },
   {
    "duration": 3,
    "start_time": "2022-04-19T07:44:10.463Z"
   },
   {
    "duration": 31,
    "start_time": "2022-04-19T07:44:10.468Z"
   },
   {
    "duration": 96,
    "start_time": "2022-04-19T07:44:10.501Z"
   },
   {
    "duration": 1462704,
    "start_time": "2022-04-19T07:44:10.599Z"
   },
   {
    "duration": 46,
    "start_time": "2022-04-19T08:08:33.305Z"
   },
   {
    "duration": 93,
    "start_time": "2022-04-19T08:08:33.355Z"
   },
   {
    "duration": 98,
    "start_time": "2022-04-19T08:08:33.450Z"
   },
   {
    "duration": 453,
    "start_time": "2022-04-19T08:08:33.550Z"
   },
   {
    "duration": 1469285,
    "start_time": "2022-04-19T08:08:34.006Z"
   },
   {
    "duration": 63,
    "start_time": "2022-04-19T08:33:03.292Z"
   },
   {
    "duration": 98,
    "start_time": "2022-04-19T08:33:03.357Z"
   },
   {
    "duration": 99,
    "start_time": "2022-04-19T08:33:03.456Z"
   },
   {
    "duration": 33063,
    "start_time": "2022-04-19T09:06:52.133Z"
   },
   {
    "duration": 4,
    "start_time": "2022-04-19T09:07:25.198Z"
   },
   {
    "duration": 16,
    "start_time": "2022-04-19T09:07:25.203Z"
   },
   {
    "duration": 32,
    "start_time": "2022-04-19T09:07:25.221Z"
   },
   {
    "duration": 10,
    "start_time": "2022-04-19T09:08:22.544Z"
   },
   {
    "duration": 10,
    "start_time": "2022-04-19T09:09:15.355Z"
   },
   {
    "duration": 1782310,
    "start_time": "2022-04-19T09:15:57.071Z"
   },
   {
    "duration": 3,
    "start_time": "2022-04-19T09:45:39.383Z"
   },
   {
    "duration": 45,
    "start_time": "2022-04-19T09:45:39.387Z"
   },
   {
    "duration": 121,
    "start_time": "2022-04-19T09:45:39.449Z"
   },
   {
    "duration": 81,
    "start_time": "2022-04-19T09:45:39.571Z"
   },
   {
    "duration": 0,
    "start_time": "2022-04-19T09:45:39.653Z"
   },
   {
    "duration": 370,
    "start_time": "2022-04-19T10:28:21.326Z"
   },
   {
    "duration": 4978031,
    "start_time": "2022-04-19T10:32:58.742Z"
   },
   {
    "duration": 3,
    "start_time": "2022-04-19T11:55:56.775Z"
   },
   {
    "duration": 73,
    "start_time": "2022-04-19T11:55:56.780Z"
   },
   {
    "duration": 177,
    "start_time": "2022-04-19T11:55:56.855Z"
   },
   {
    "duration": 3544175,
    "start_time": "2022-04-19T12:35:22.275Z"
   },
   {
    "duration": 3,
    "start_time": "2022-04-19T13:34:26.452Z"
   },
   {
    "duration": 63,
    "start_time": "2022-04-19T13:34:26.457Z"
   },
   {
    "duration": 190,
    "start_time": "2022-04-19T13:34:26.522Z"
   },
   {
    "duration": 35,
    "start_time": "2022-04-24T12:38:45.481Z"
   },
   {
    "duration": 9,
    "start_time": "2022-04-24T12:38:57.012Z"
   },
   {
    "duration": 18,
    "start_time": "2022-04-24T13:00:55.929Z"
   },
   {
    "duration": 61416,
    "start_time": "2022-04-24T13:00:56.778Z"
   },
   {
    "duration": 4,
    "start_time": "2022-04-24T13:01:58.196Z"
   },
   {
    "duration": 15,
    "start_time": "2022-04-24T13:01:58.201Z"
   },
   {
    "duration": 37,
    "start_time": "2022-04-24T13:01:58.219Z"
   },
   {
    "duration": 5,
    "start_time": "2022-04-24T13:33:15.946Z"
   },
   {
    "duration": 11,
    "start_time": "2022-04-24T13:37:28.114Z"
   },
   {
    "duration": 5,
    "start_time": "2022-04-24T13:37:34.698Z"
   },
   {
    "duration": 40628,
    "start_time": "2022-04-24T13:37:50.905Z"
   },
   {
    "duration": 5,
    "start_time": "2022-04-24T13:38:31.549Z"
   },
   {
    "duration": 46,
    "start_time": "2022-04-24T13:38:31.556Z"
   },
   {
    "duration": 13,
    "start_time": "2022-04-24T13:38:31.605Z"
   },
   {
    "duration": 2756737,
    "start_time": "2022-04-24T14:21:39.277Z"
   },
   {
    "duration": 3,
    "start_time": "2022-04-24T15:07:36.017Z"
   },
   {
    "duration": 60,
    "start_time": "2022-04-24T15:07:36.022Z"
   },
   {
    "duration": 96,
    "start_time": "2022-04-24T15:07:36.090Z"
   },
   {
    "duration": 85,
    "start_time": "2022-04-24T15:07:36.188Z"
   },
   {
    "duration": 0,
    "start_time": "2022-04-24T15:07:36.276Z"
   },
   {
    "duration": 0,
    "start_time": "2022-04-24T15:07:36.278Z"
   },
   {
    "duration": 0,
    "start_time": "2022-04-24T15:07:36.279Z"
   },
   {
    "duration": 0,
    "start_time": "2022-04-24T15:07:36.280Z"
   },
   {
    "duration": 0,
    "start_time": "2022-04-24T15:07:36.282Z"
   },
   {
    "duration": 2237515,
    "start_time": "2022-04-24T16:39:57.063Z"
   },
   {
    "duration": 4,
    "start_time": "2022-04-24T17:17:14.750Z"
   },
   {
    "duration": 95,
    "start_time": "2022-04-24T17:17:14.756Z"
   },
   {
    "duration": 98,
    "start_time": "2022-04-24T17:17:14.856Z"
   },
   {
    "duration": 448,
    "start_time": "2022-04-24T17:17:14.956Z"
   },
   {
    "duration": 5,
    "start_time": "2022-04-24T17:17:15.406Z"
   },
   {
    "duration": 5,
    "start_time": "2022-04-24T17:23:24.235Z"
   },
   {
    "duration": 4,
    "start_time": "2022-04-24T17:25:01.635Z"
   },
   {
    "duration": 16,
    "start_time": "2022-04-24T17:28:34.411Z"
   },
   {
    "duration": 6,
    "start_time": "2022-04-24T17:28:34.846Z"
   },
   {
    "duration": 5,
    "start_time": "2022-04-24T17:28:40.771Z"
   },
   {
    "duration": 15,
    "start_time": "2022-04-24T17:28:53.242Z"
   },
   {
    "duration": 13,
    "start_time": "2022-04-24T17:32:43.081Z"
   },
   {
    "duration": 26682,
    "start_time": "2022-04-24T17:32:49.461Z"
   },
   {
    "duration": 4,
    "start_time": "2022-04-24T17:33:16.148Z"
   },
   {
    "duration": 14,
    "start_time": "2022-04-24T17:33:24.438Z"
   },
   {
    "duration": 18,
    "start_time": "2022-04-24T17:33:34.540Z"
   },
   {
    "duration": 1310917,
    "start_time": "2022-04-24T17:34:54.510Z"
   },
   {
    "duration": 3,
    "start_time": "2022-04-24T17:56:45.429Z"
   },
   {
    "duration": 47,
    "start_time": "2022-04-24T17:56:45.434Z"
   },
   {
    "duration": 124,
    "start_time": "2022-04-24T17:56:45.484Z"
   },
   {
    "duration": 759145,
    "start_time": "2022-04-24T17:56:45.609Z"
   },
   {
    "duration": 4,
    "start_time": "2022-04-24T18:09:24.756Z"
   },
   {
    "duration": 90,
    "start_time": "2022-04-24T18:09:24.762Z"
   },
   {
    "duration": 114,
    "start_time": "2022-04-24T18:09:24.855Z"
   },
   {
    "duration": 574,
    "start_time": "2022-04-24T18:09:24.976Z"
   },
   {
    "duration": 10,
    "start_time": "2022-04-24T18:36:31.622Z"
   },
   {
    "duration": 207,
    "start_time": "2022-04-24T18:38:33.784Z"
   },
   {
    "duration": 17,
    "start_time": "2022-04-24T18:38:42.438Z"
   },
   {
    "duration": 9,
    "start_time": "2022-04-24T18:47:57.137Z"
   },
   {
    "duration": 12,
    "start_time": "2022-04-24T18:48:06.119Z"
   },
   {
    "duration": 98,
    "start_time": "2022-04-24T18:50:12.088Z"
   },
   {
    "duration": 44,
    "start_time": "2022-04-24T18:50:30.689Z"
   },
   {
    "duration": 4,
    "start_time": "2022-04-24T18:51:03.586Z"
   },
   {
    "duration": 7,
    "start_time": "2022-04-24T18:51:08.214Z"
   },
   {
    "duration": 112,
    "start_time": "2022-04-24T18:51:55.922Z"
   },
   {
    "duration": 4,
    "start_time": "2022-04-24T18:52:29.564Z"
   },
   {
    "duration": 8,
    "start_time": "2022-04-24T18:52:30.366Z"
   },
   {
    "duration": 4,
    "start_time": "2022-04-24T18:53:56.380Z"
   },
   {
    "duration": 10,
    "start_time": "2022-04-24T18:53:56.813Z"
   },
   {
    "duration": 119,
    "start_time": "2022-04-24T18:55:28.138Z"
   },
   {
    "duration": 7,
    "start_time": "2022-04-24T18:55:28.260Z"
   },
   {
    "duration": 4,
    "start_time": "2022-04-24T18:55:31.259Z"
   },
   {
    "duration": 8,
    "start_time": "2022-04-24T18:55:36.474Z"
   },
   {
    "duration": 131,
    "start_time": "2022-04-24T18:57:27.832Z"
   },
   {
    "duration": 11,
    "start_time": "2022-04-24T18:57:28.049Z"
   },
   {
    "duration": 66,
    "start_time": "2022-04-24T18:59:03.895Z"
   },
   {
    "duration": 7,
    "start_time": "2022-04-24T18:59:04.207Z"
   },
   {
    "duration": 5,
    "start_time": "2022-04-24T18:59:28.929Z"
   },
   {
    "duration": 88,
    "start_time": "2022-04-24T18:59:38.872Z"
   },
   {
    "duration": 3,
    "start_time": "2022-04-24T18:59:39.281Z"
   },
   {
    "duration": 7,
    "start_time": "2022-04-24T18:59:39.599Z"
   },
   {
    "duration": 87,
    "start_time": "2022-04-24T18:59:40.287Z"
   },
   {
    "duration": 83,
    "start_time": "2022-04-24T18:59:40.472Z"
   },
   {
    "duration": 140,
    "start_time": "2022-04-24T18:59:40.617Z"
   },
   {
    "duration": 13,
    "start_time": "2022-04-24T18:59:41.023Z"
   },
   {
    "duration": 78,
    "start_time": "2022-04-24T18:59:41.388Z"
   },
   {
    "duration": 7,
    "start_time": "2022-04-24T18:59:42.292Z"
   },
   {
    "duration": 12,
    "start_time": "2022-04-24T19:02:15.328Z"
   },
   {
    "duration": 89,
    "start_time": "2022-04-24T19:05:38.587Z"
   },
   {
    "duration": 4,
    "start_time": "2022-04-24T19:06:10.568Z"
   },
   {
    "duration": 9,
    "start_time": "2022-04-24T19:06:14.686Z"
   },
   {
    "duration": 7,
    "start_time": "2022-04-24T19:08:14.919Z"
   },
   {
    "duration": 15,
    "start_time": "2022-04-24T19:08:16.089Z"
   },
   {
    "duration": 5,
    "start_time": "2022-04-24T19:08:32.029Z"
   },
   {
    "duration": 14,
    "start_time": "2022-04-24T19:08:32.845Z"
   },
   {
    "duration": 5,
    "start_time": "2022-04-24T19:10:02.206Z"
   },
   {
    "duration": 9,
    "start_time": "2022-04-24T19:10:03.612Z"
   },
   {
    "duration": 5,
    "start_time": "2022-04-24T19:10:16.273Z"
   },
   {
    "duration": 10,
    "start_time": "2022-04-24T19:10:17.077Z"
   },
   {
    "duration": 5,
    "start_time": "2022-04-24T19:10:27.305Z"
   },
   {
    "duration": 13,
    "start_time": "2022-04-24T19:10:28.018Z"
   },
   {
    "duration": 17,
    "start_time": "2022-04-24T19:13:16.099Z"
   },
   {
    "duration": 13,
    "start_time": "2022-04-24T19:13:39.024Z"
   },
   {
    "duration": 13,
    "start_time": "2022-04-24T19:13:56.841Z"
   },
   {
    "duration": 52,
    "start_time": "2022-04-24T19:14:03.309Z"
   },
   {
    "duration": 6,
    "start_time": "2022-04-24T19:14:03.771Z"
   },
   {
    "duration": 11,
    "start_time": "2022-04-24T19:14:07.091Z"
   },
   {
    "duration": 81,
    "start_time": "2022-04-25T05:03:28.468Z"
   },
   {
    "duration": 113,
    "start_time": "2022-04-25T05:03:34.695Z"
   },
   {
    "duration": 101,
    "start_time": "2022-04-25T05:03:42.272Z"
   },
   {
    "duration": 10,
    "start_time": "2022-04-25T05:04:34.790Z"
   },
   {
    "duration": 10,
    "start_time": "2022-04-25T05:06:05.814Z"
   },
   {
    "duration": 88,
    "start_time": "2022-04-25T05:07:48.718Z"
   },
   {
    "duration": 95,
    "start_time": "2022-04-25T05:08:08.985Z"
   },
   {
    "duration": 14,
    "start_time": "2022-04-25T05:08:58.119Z"
   },
   {
    "duration": 8,
    "start_time": "2022-04-25T05:15:38.711Z"
   },
   {
    "duration": 105,
    "start_time": "2022-04-25T05:15:48.346Z"
   },
   {
    "duration": 3,
    "start_time": "2022-04-25T05:15:48.769Z"
   },
   {
    "duration": 7,
    "start_time": "2022-04-25T05:15:49.574Z"
   },
   {
    "duration": 79,
    "start_time": "2022-04-25T05:15:50.087Z"
   },
   {
    "duration": 6,
    "start_time": "2022-04-25T05:15:50.600Z"
   },
   {
    "duration": 51,
    "start_time": "2022-04-25T05:15:50.820Z"
   },
   {
    "duration": 8,
    "start_time": "2022-04-25T05:15:51.237Z"
   },
   {
    "duration": 66,
    "start_time": "2022-04-25T05:15:51.775Z"
   },
   {
    "duration": 13,
    "start_time": "2022-04-25T05:15:52.352Z"
   },
   {
    "duration": 4,
    "start_time": "2022-04-25T05:15:52.800Z"
   },
   {
    "duration": 10,
    "start_time": "2022-04-25T05:15:53.073Z"
   },
   {
    "duration": 6,
    "start_time": "2022-04-25T05:15:56.498Z"
   },
   {
    "duration": 6,
    "start_time": "2022-04-25T05:16:00.570Z"
   },
   {
    "duration": 17,
    "start_time": "2022-04-25T05:16:11.699Z"
   },
   {
    "duration": 6,
    "start_time": "2022-04-25T05:16:12.122Z"
   },
   {
    "duration": 7,
    "start_time": "2022-04-25T05:16:17.539Z"
   },
   {
    "duration": 6,
    "start_time": "2022-04-25T05:16:18.322Z"
   },
   {
    "duration": 10,
    "start_time": "2022-04-25T05:16:46.278Z"
   },
   {
    "duration": 11,
    "start_time": "2022-04-25T05:17:37.200Z"
   },
   {
    "duration": 24,
    "start_time": "2022-04-25T05:17:57.737Z"
   },
   {
    "duration": 11,
    "start_time": "2022-04-25T05:18:07.749Z"
   },
   {
    "duration": 10,
    "start_time": "2022-04-25T05:19:35.280Z"
   },
   {
    "duration": 4,
    "start_time": "2022-04-25T05:19:49.372Z"
   },
   {
    "duration": 8,
    "start_time": "2022-04-25T05:19:52.980Z"
   },
   {
    "duration": 5,
    "start_time": "2022-04-25T05:22:05.695Z"
   },
   {
    "duration": 13,
    "start_time": "2022-04-25T05:22:06.323Z"
   },
   {
    "duration": 5,
    "start_time": "2022-04-25T13:24:46.379Z"
   },
   {
    "duration": 13,
    "start_time": "2022-04-25T13:24:46.535Z"
   },
   {
    "duration": 94,
    "start_time": "2022-04-25T13:25:11.765Z"
   },
   {
    "duration": 128,
    "start_time": "2022-04-25T13:25:22.020Z"
   },
   {
    "duration": 191,
    "start_time": "2022-04-25T13:25:36.057Z"
   },
   {
    "duration": 107,
    "start_time": "2022-04-25T13:25:50.745Z"
   },
   {
    "duration": 4,
    "start_time": "2022-04-25T13:25:51.016Z"
   },
   {
    "duration": 12,
    "start_time": "2022-04-25T13:25:51.433Z"
   },
   {
    "duration": 3,
    "start_time": "2022-04-25T13:26:16.983Z"
   },
   {
    "duration": 12,
    "start_time": "2022-04-25T13:26:23.103Z"
   },
   {
    "duration": 3,
    "start_time": "2022-04-25T13:26:47.075Z"
   },
   {
    "duration": 10,
    "start_time": "2022-04-25T13:26:47.200Z"
   },
   {
    "duration": 17,
    "start_time": "2022-04-25T13:28:14.165Z"
   },
   {
    "duration": 254,
    "start_time": "2022-04-25T13:30:00.893Z"
   },
   {
    "duration": 151,
    "start_time": "2022-04-25T13:30:01.203Z"
   },
   {
    "duration": 53,
    "start_time": "2022-04-25T13:30:01.603Z"
   },
   {
    "duration": 74,
    "start_time": "2022-04-25T13:30:02.083Z"
   },
   {
    "duration": 17,
    "start_time": "2022-04-25T13:30:02.648Z"
   },
   {
    "duration": 11,
    "start_time": "2022-04-25T13:58:43.455Z"
   },
   {
    "duration": 478,
    "start_time": "2022-04-25T13:59:02.314Z"
   },
   {
    "duration": 487,
    "start_time": "2022-04-25T14:00:49.636Z"
   }
  ],
  "kernelspec": {
   "display_name": "Python 3",
   "language": "python",
   "name": "python3"
  },
  "language_info": {
   "codemirror_mode": {
    "name": "ipython",
    "version": 3
   },
   "file_extension": ".py",
   "mimetype": "text/x-python",
   "name": "python",
   "nbconvert_exporter": "python",
   "pygments_lexer": "ipython3",
   "version": "3.8.5"
  },
  "toc": {
   "base_numbering": 1,
   "nav_menu": {},
   "number_sections": true,
   "sideBar": true,
   "skip_h1_title": true,
   "title_cell": "Содержание",
   "title_sidebar": "Contents",
   "toc_cell": true,
   "toc_position": {
    "height": "calc(100% - 180px)",
    "left": "10px",
    "top": "150px",
    "width": "165px"
   },
   "toc_section_display": true,
   "toc_window_display": true
  }
 },
 "nbformat": 4,
 "nbformat_minor": 2
}
