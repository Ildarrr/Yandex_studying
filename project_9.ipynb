{
 "cells": [
  {
   "cell_type": "markdown",
   "metadata": {},
   "source": [
    "# Рекомендация тарифов"
   ]
  },
  {
   "cell_type": "markdown",
   "metadata": {},
   "source": [
    "В вашем распоряжении данные о поведении клиентов, которые уже перешли на эти тарифы (из проекта курса «Статистический анализ данных»). Нужно построить модель для задачи классификации, которая выберет подходящий тариф. Предобработка данных не понадобится — вы её уже сделали.\n",
    "\n",
    "Постройте модель с максимально большим значением *accuracy*. Чтобы сдать проект успешно, нужно довести долю правильных ответов по крайней мере до 0.75. Проверьте *accuracy* на тестовой выборке самостоятельно."
   ]
  },
  {
   "cell_type": "markdown",
   "metadata": {},
   "source": [
    "## Откройте и изучите файл"
   ]
  },
  {
   "cell_type": "code",
   "execution_count": 1,
   "metadata": {},
   "outputs": [],
   "source": [
    "#подключим необходимые для работы библиотеки\n",
    "\n",
    "import pandas as pd\n",
    "import numpy as np\n",
    "import warnings\n",
    "warnings.simplefilter(\"ignore\")\n",
    "pd.options.display.float_format = '{:,.2f}'.format\n",
    "\n",
    "from sklearn.linear_model import LogisticRegression \n",
    "from sklearn.tree import DecisionTreeClassifier\n",
    "from sklearn.ensemble import RandomForestClassifier\n",
    "from sklearn.model_selection import train_test_split \n",
    "from sklearn.metrics import accuracy_score"
   ]
  },
  {
   "cell_type": "code",
   "execution_count": 2,
   "metadata": {},
   "outputs": [],
   "source": [
    "#прочитаем исходный датафрейм\n",
    "\n",
    "try:\n",
    "    data = pd.read_csv('C:/Users/jnybfuvybtfgl kfolbl/mypythonworks/yandex/users_behavior.csv', sep=',') \n",
    "    \n",
    "except:\n",
    "    data = pd.read_csv('/datasets/users_behavior.csv', sep=',')"
   ]
  },
  {
   "cell_type": "code",
   "execution_count": 3,
   "metadata": {},
   "outputs": [
    {
     "name": "stdout",
     "output_type": "stream",
     "text": [
      "Первые 10 строк датафрейма:\n"
     ]
    },
    {
     "data": {
      "text/html": [
       "<div>\n",
       "<style scoped>\n",
       "    .dataframe tbody tr th:only-of-type {\n",
       "        vertical-align: middle;\n",
       "    }\n",
       "\n",
       "    .dataframe tbody tr th {\n",
       "        vertical-align: top;\n",
       "    }\n",
       "\n",
       "    .dataframe thead th {\n",
       "        text-align: right;\n",
       "    }\n",
       "</style>\n",
       "<table border=\"1\" class=\"dataframe\">\n",
       "  <thead>\n",
       "    <tr style=\"text-align: right;\">\n",
       "      <th></th>\n",
       "      <th>calls</th>\n",
       "      <th>minutes</th>\n",
       "      <th>messages</th>\n",
       "      <th>mb_used</th>\n",
       "      <th>is_ultra</th>\n",
       "    </tr>\n",
       "  </thead>\n",
       "  <tbody>\n",
       "    <tr>\n",
       "      <th>0</th>\n",
       "      <td>40.00</td>\n",
       "      <td>311.90</td>\n",
       "      <td>83.00</td>\n",
       "      <td>19,915.42</td>\n",
       "      <td>0</td>\n",
       "    </tr>\n",
       "    <tr>\n",
       "      <th>1</th>\n",
       "      <td>85.00</td>\n",
       "      <td>516.75</td>\n",
       "      <td>56.00</td>\n",
       "      <td>22,696.96</td>\n",
       "      <td>0</td>\n",
       "    </tr>\n",
       "    <tr>\n",
       "      <th>2</th>\n",
       "      <td>77.00</td>\n",
       "      <td>467.66</td>\n",
       "      <td>86.00</td>\n",
       "      <td>21,060.45</td>\n",
       "      <td>0</td>\n",
       "    </tr>\n",
       "    <tr>\n",
       "      <th>3</th>\n",
       "      <td>106.00</td>\n",
       "      <td>745.53</td>\n",
       "      <td>81.00</td>\n",
       "      <td>8,437.39</td>\n",
       "      <td>1</td>\n",
       "    </tr>\n",
       "    <tr>\n",
       "      <th>4</th>\n",
       "      <td>66.00</td>\n",
       "      <td>418.74</td>\n",
       "      <td>1.00</td>\n",
       "      <td>14,502.75</td>\n",
       "      <td>0</td>\n",
       "    </tr>\n",
       "    <tr>\n",
       "      <th>5</th>\n",
       "      <td>58.00</td>\n",
       "      <td>344.56</td>\n",
       "      <td>21.00</td>\n",
       "      <td>15,823.37</td>\n",
       "      <td>0</td>\n",
       "    </tr>\n",
       "    <tr>\n",
       "      <th>6</th>\n",
       "      <td>57.00</td>\n",
       "      <td>431.64</td>\n",
       "      <td>20.00</td>\n",
       "      <td>3,738.90</td>\n",
       "      <td>1</td>\n",
       "    </tr>\n",
       "    <tr>\n",
       "      <th>7</th>\n",
       "      <td>15.00</td>\n",
       "      <td>132.40</td>\n",
       "      <td>6.00</td>\n",
       "      <td>21,911.60</td>\n",
       "      <td>0</td>\n",
       "    </tr>\n",
       "    <tr>\n",
       "      <th>8</th>\n",
       "      <td>7.00</td>\n",
       "      <td>43.39</td>\n",
       "      <td>3.00</td>\n",
       "      <td>2,538.67</td>\n",
       "      <td>1</td>\n",
       "    </tr>\n",
       "    <tr>\n",
       "      <th>9</th>\n",
       "      <td>90.00</td>\n",
       "      <td>665.41</td>\n",
       "      <td>38.00</td>\n",
       "      <td>17,358.61</td>\n",
       "      <td>0</td>\n",
       "    </tr>\n",
       "  </tbody>\n",
       "</table>\n",
       "</div>"
      ],
      "text/plain": [
       "   calls  minutes  messages   mb_used  is_ultra\n",
       "0  40.00   311.90     83.00 19,915.42         0\n",
       "1  85.00   516.75     56.00 22,696.96         0\n",
       "2  77.00   467.66     86.00 21,060.45         0\n",
       "3 106.00   745.53     81.00  8,437.39         1\n",
       "4  66.00   418.74      1.00 14,502.75         0\n",
       "5  58.00   344.56     21.00 15,823.37         0\n",
       "6  57.00   431.64     20.00  3,738.90         1\n",
       "7  15.00   132.40      6.00 21,911.60         0\n",
       "8   7.00    43.39      3.00  2,538.67         1\n",
       "9  90.00   665.41     38.00 17,358.61         0"
      ]
     },
     "metadata": {},
     "output_type": "display_data"
    },
    {
     "name": "stdout",
     "output_type": "stream",
     "text": [
      "Основная информация о датафрейме:\n",
      "<class 'pandas.core.frame.DataFrame'>\n",
      "RangeIndex: 3214 entries, 0 to 3213\n",
      "Data columns (total 5 columns):\n",
      " #   Column    Non-Null Count  Dtype  \n",
      "---  ------    --------------  -----  \n",
      " 0   calls     3214 non-null   float64\n",
      " 1   minutes   3214 non-null   float64\n",
      " 2   messages  3214 non-null   float64\n",
      " 3   mb_used   3214 non-null   float64\n",
      " 4   is_ultra  3214 non-null   int64  \n",
      "dtypes: float64(4), int64(1)\n",
      "memory usage: 125.7 KB\n"
     ]
    },
    {
     "data": {
      "text/plain": [
       "None"
      ]
     },
     "metadata": {},
     "output_type": "display_data"
    },
    {
     "name": "stdout",
     "output_type": "stream",
     "text": [
      "Размер датасета:\n"
     ]
    },
    {
     "data": {
      "text/plain": [
       "(3214, 5)"
      ]
     },
     "metadata": {},
     "output_type": "display_data"
    }
   ],
   "source": [
    "# изучим основную информацию о датафрейме\n",
    "print('Первые 10 строк датафрейма:')\n",
    "display(data.head(10))\n",
    "print('Основная информация о датафрейме:')\n",
    "display(data.info())\n",
    "print('Размер датасета:')\n",
    "display(data.shape)"
   ]
  },
  {
   "cell_type": "markdown",
   "metadata": {},
   "source": [
    "<div class=\"alert alert-info\">\n",
    "<b>Комментарий студента:</b>\n",
    "<br>\n",
    "Изучив исходные данные датафрейма можно сказать, что данные представлены в полном объеме, типы данных корректны. Также в представленном датафрейме уже имеется целевой признак - \"is_ultra\".\n",
    "</div>"
   ]
  },
  {
   "cell_type": "markdown",
   "metadata": {},
   "source": [
    "## Разбейте данные на выборки"
   ]
  },
  {
   "cell_type": "markdown",
   "metadata": {},
   "source": [
    "<div class=\"alert alert-info\">\n",
    "<b>Комментарий студента:</b>\n",
    "<br>\n",
    "Т.к. у нас нет спрятанной тестовой выборки поделим исходные данные на три части. Сделаем размеры валидационного и тестового наборов одинаковыми, а общее соотношение обучающего, валидационного и тестового наборов примем 3:1:1 соответственно, т.е. 60%:20%:20%. \n",
    "</div>"
   ]
  },
  {
   "cell_type": "code",
   "execution_count": 4,
   "metadata": {},
   "outputs": [
    {
     "name": "stdout",
     "output_type": "stream",
     "text": [
      "Размер обучающей выборки равен:  (1928, 5)\n",
      "Размер валидационной выборки равен:  (643, 5)\n",
      "Размер тестовой выборки равен:  (643, 5)\n"
     ]
    }
   ],
   "source": [
    "#для начала отделим обучающую выборку от валидационной и тестовой\n",
    "\n",
    "df_train, df_valid_test = train_test_split(data, test_size=0.4, random_state=12345)\n",
    "\n",
    "#далее отделим тестовую выборку от валидационной\n",
    "\n",
    "df_valid, df_test = train_test_split(df_valid_test, test_size=0.5, random_state=12345)\n",
    "\n",
    "print('Размер обучающей выборки равен: ', df_train.shape)\n",
    "print('Размер валидационной выборки равен: ', df_valid.shape)\n",
    "print('Размер тестовой выборки равен: ', df_test.shape)"
   ]
  },
  {
   "cell_type": "markdown",
   "metadata": {},
   "source": [
    "## Исследуйте модели"
   ]
  },
  {
   "cell_type": "markdown",
   "metadata": {},
   "source": [
    "<div class=\"alert alert-info\">\n",
    "<b>Комментарий студента:</b>\n",
    "<br>\n",
    "Перейдем к исследованию различных моделей, таких как дерево решений, случайных лес и логистическая регрессия. Меняя гиперпараметры, определим какая модель лучше себя покажет на валидационной выборке.\n",
    "</div>"
   ]
  },
  {
   "cell_type": "markdown",
   "metadata": {},
   "source": [
    "### Изучение модели \"Дерево решений\""
   ]
  },
  {
   "cell_type": "code",
   "execution_count": 5,
   "metadata": {},
   "outputs": [],
   "source": [
    "#подготовим переменные с признаками и целевым признаком для обучающей и валидационной выборок\n",
    "\n",
    "features_train = df_train.drop(['is_ultra'], axis=1)\n",
    "target_train = df_train['is_ultra']\n",
    "\n",
    "features_valid =  df_valid.drop(['is_ultra'], axis=1)\n",
    "target_valid =  df_valid['is_ultra']"
   ]
  },
  {
   "cell_type": "code",
   "execution_count": 6,
   "metadata": {},
   "outputs": [
    {
     "name": "stdout",
     "output_type": "stream",
     "text": [
      "Максимальное качество на валидационной выборке достигается при глубине дерева равном: 3\n",
      "Accuracy наилучшей модели на валидационной выборке: 0.7853810264385692\n"
     ]
    }
   ],
   "source": [
    "#самый важный гиперпараметр у решающего дерева это глубина решающего дерева\n",
    "#создадим цикл для перебора глубины дерева от 1 до 50\n",
    "#и определим при какой гулбине на валидационной выборке лучшее качество модели\n",
    "\n",
    "best_model = None\n",
    "best_result = 0\n",
    "best_depth = 0\n",
    "for depth in range(1, 50):\n",
    "    model = DecisionTreeClassifier(random_state=12345, max_depth=depth) \n",
    "    model.fit(features_train, target_train)\n",
    "    result = model.score(features_valid, target_valid)\n",
    "    if result > best_result:\n",
    "        best_model = model\n",
    "        best_result = result\n",
    "        best_depth = depth\n",
    "        \n",
    "print('Максимальное качество на валидационной выборке достигается при глубине дерева равном:', best_depth)\n",
    "print('Accuracy наилучшей модели на валидационной выборке:', best_result)"
   ]
  },
  {
   "cell_type": "markdown",
   "metadata": {},
   "source": [
    "### Изучение модели \"Случайный лес\""
   ]
  },
  {
   "cell_type": "code",
   "execution_count": 7,
   "metadata": {},
   "outputs": [
    {
     "name": "stdout",
     "output_type": "stream",
     "text": [
      "Максимальное качество на валидационной выборке достигается при минимальном количестве примеров для разделения равном: 5\n",
      "Максимальное качество на валидационной выборке достигается при минимальном количестве объектов в листе: 4\n",
      "Максимальное качество на валидационной выборке достигается при количестве деревьев равном: 23\n",
      "Accuracy наилучшей модели на валидационной выборке: 0.8009331259720062\n"
     ]
    }
   ],
   "source": [
    "#в алгоритме классификациии \"Случайный лес\" важным гиперпараметром является количество решающих деверьев\n",
    "#создадим цикл для перебора количества дереьев от 1 до 50\n",
    "#и определим при каком количестве деревьев на валидационной выборке лучшее качество модели\n",
    "\n",
    "best_model = None\n",
    "best_result = 0\n",
    "best_est = 0\n",
    "min_samples_split = 2\n",
    "min_samples_leaf = 1\n",
    "\n",
    "for est in range(1, 50):\n",
    "    for split in range(2, 6):\n",
    "        for leaf in range(1, 5):\n",
    "            model = RandomForestClassifier(random_state=12345, n_estimators=est, min_samples_split=split, min_samples_leaf=leaf) \n",
    "            model.fit(features_train, target_train)\n",
    "            result = model.score(features_valid, target_valid)\n",
    "            if result > best_result:\n",
    "                best_model = model\n",
    "                best_result = result\n",
    "                best_est = est\n",
    "                min_samples_split = split\n",
    "                min_samples_leaf = leaf\n",
    "                \n",
    "print('Максимальное качество на валидационной выборке достигается при минимальном количестве примеров для разделения равном:', split)                \n",
    "print('Максимальное качество на валидационной выборке достигается при минимальном количестве объектов в листе:', leaf)        \n",
    "print('Максимальное качество на валидационной выборке достигается при количестве деревьев равном:', best_est)\n",
    "print('Accuracy наилучшей модели на валидационной выборке:', best_result)"
   ]
  },
  {
   "cell_type": "markdown",
   "metadata": {},
   "source": [
    "### Изучение модели \"Логистическая регрессия\""
   ]
  },
  {
   "cell_type": "code",
   "execution_count": 8,
   "metadata": {},
   "outputs": [
    {
     "name": "stdout",
     "output_type": "stream",
     "text": [
      "Максимальное качество на валидационной выборке достигается при количестве итераций равном: 39\n",
      "Accuracy наилучшей модели на валидационной выборке: 0.7107309486780715\n"
     ]
    }
   ],
   "source": [
    "#в алгоритме \"Логистическая регрессия\" важными гиперпараметрами являются алгоритм, \n",
    "#который будет строить модель и количество итераций обучения\n",
    "#создадим цикл для перебора количества итераций от 1 до 50\n",
    "#и определим при каком количестве итераций на валидационной выборке лучшее качество модели\n",
    "\n",
    "best_model = None\n",
    "best_result = 0\n",
    "best_iter = 0\n",
    "for iters in range(1, 50):\n",
    "    model = LogisticRegression(random_state=12345, solver='lbfgs', max_iter=iters)\n",
    "    model.fit(features_train, target_train)\n",
    "    result = model.score(features_valid, target_valid)\n",
    "    if result > best_result:\n",
    "        best_model = model\n",
    "        best_result = result\n",
    "        best_iter = iters\n",
    "\n",
    "print('Максимальное качество на валидационной выборке достигается при количестве итераций равном:', best_iter)\n",
    "print('Accuracy наилучшей модели на валидационной выборке:', best_result)"
   ]
  },
  {
   "cell_type": "markdown",
   "metadata": {},
   "source": [
    "### Вывод"
   ]
  },
  {
   "cell_type": "markdown",
   "metadata": {},
   "source": [
    "Нами были проверены три модели машинного обучения и получены следующие результаты:\n",
    "- \"Дерево решений\": наилучшее качество модели 0.7853810264385692 достигается при глубине дерева равном 3 \n",
    "- \"Случайный лес\": наилучшее качество модели 0.8009331259720062 достигается при количестве деревьев равном 23, при минимальном количестве объектов в листе равном 4 и минимальном количестве примеров для разделения равном 5\n",
    "- \"Логистическая регрессия\": наилучшее качество модели 0.7107309486780715 достигается при количестве итераций равном 39\n",
    "\n",
    "Для проверки качества модели на тестовой выборке применим модель \"Случайный лес\", т.к. она показала наилучший результат на валидационной выборке."
   ]
  },
  {
   "cell_type": "markdown",
   "metadata": {},
   "source": [
    "## Проверьте модель на тестовой выборке"
   ]
  },
  {
   "cell_type": "code",
   "execution_count": 9,
   "metadata": {},
   "outputs": [],
   "source": [
    "#подготовим переменные с признаками и целевым признаком для тестовой выборки\n",
    "\n",
    "features_test = df_test.drop(['is_ultra'], axis=1)\n",
    "target_test = df_test['is_ultra']"
   ]
  },
  {
   "cell_type": "code",
   "execution_count": 10,
   "metadata": {},
   "outputs": [
    {
     "name": "stdout",
     "output_type": "stream",
     "text": [
      "Accuracy модели на тестовой выборке: 0.80248833592535\n"
     ]
    }
   ],
   "source": [
    "#применим нашу лучшую модель для предсказания ответов на тестовой выборке\n",
    "\n",
    "model = RandomForestClassifier(random_state=12345, n_estimators=23, min_samples_split=5, min_samples_leaf=4) \n",
    "model.fit(features_train, target_train)\n",
    "result = model.score(features_test, target_test)\n",
    "\n",
    "print('Accuracy модели на тестовой выборке:', result)"
   ]
  },
  {
   "cell_type": "markdown",
   "metadata": {},
   "source": [
    "## (бонус) Проверьте модели на адекватность"
   ]
  },
  {
   "cell_type": "markdown",
   "metadata": {},
   "source": [
    "<div class=\"alert alert-info\">\n",
    "<b>Комментарий студента:</b>\n",
    "<br>\n",
    "Не совсем понял что необходимо сделать в данном разделе. Попытался сравнить свою модель и стандартную модель для классификации.\n",
    "Уровень на обученной модели получился выше, значит модель вполне работоспособна.\n",
    "</div>"
   ]
  },
  {
   "cell_type": "code",
   "execution_count": 11,
   "metadata": {},
   "outputs": [
    {
     "name": "stdout",
     "output_type": "stream",
     "text": [
      "Accuracy модели на тестовой выборке: 0.6842923794712286\n"
     ]
    }
   ],
   "source": [
    "from sklearn.dummy import DummyClassifier\n",
    "\n",
    "model = DummyClassifier(random_state=12345) \n",
    "model.fit(features_train, target_train)\n",
    "result = model.score(features_test, target_test)\n",
    "\n",
    "print('Accuracy модели на тестовой выборке:', result)"
   ]
  }
 ],
 "metadata": {
  "ExecuteTimeLog": [
   {
    "duration": 75,
    "start_time": "2022-03-27T10:45:01.937Z"
   },
   {
    "duration": 1511,
    "start_time": "2022-03-27T10:45:07.453Z"
   },
   {
    "duration": 76,
    "start_time": "2022-03-27T10:45:08.966Z"
   },
   {
    "duration": 41,
    "start_time": "2022-03-27T10:45:09.044Z"
   },
   {
    "duration": 13,
    "start_time": "2022-03-27T10:45:09.087Z"
   },
   {
    "duration": 201,
    "start_time": "2022-03-27T10:46:27.813Z"
   },
   {
    "duration": 7,
    "start_time": "2022-03-27T10:46:30.091Z"
   },
   {
    "duration": 643,
    "start_time": "2022-03-27T10:46:30.973Z"
   },
   {
    "duration": 1496,
    "start_time": "2022-03-27T10:48:31.060Z"
   },
   {
    "duration": 85,
    "start_time": "2022-03-27T10:48:32.559Z"
   },
   {
    "duration": 43,
    "start_time": "2022-03-27T10:48:32.646Z"
   },
   {
    "duration": 13,
    "start_time": "2022-03-27T10:48:32.694Z"
   },
   {
    "duration": 110,
    "start_time": "2022-03-27T10:48:32.710Z"
   },
   {
    "duration": 0,
    "start_time": "2022-03-27T10:48:32.822Z"
   },
   {
    "duration": 0,
    "start_time": "2022-03-27T10:48:32.824Z"
   },
   {
    "duration": 0,
    "start_time": "2022-03-27T10:48:32.825Z"
   },
   {
    "duration": 0,
    "start_time": "2022-03-27T10:48:32.827Z"
   },
   {
    "duration": 0,
    "start_time": "2022-03-27T10:48:32.828Z"
   },
   {
    "duration": 0,
    "start_time": "2022-03-27T10:48:32.830Z"
   },
   {
    "duration": 0,
    "start_time": "2022-03-27T10:48:32.831Z"
   },
   {
    "duration": 1533,
    "start_time": "2022-03-27T10:49:00.350Z"
   },
   {
    "duration": 80,
    "start_time": "2022-03-27T10:49:01.886Z"
   },
   {
    "duration": 41,
    "start_time": "2022-03-27T10:49:01.969Z"
   },
   {
    "duration": 12,
    "start_time": "2022-03-27T10:49:02.013Z"
   },
   {
    "duration": 8,
    "start_time": "2022-03-27T10:49:02.067Z"
   },
   {
    "duration": 655,
    "start_time": "2022-03-27T10:49:02.077Z"
   },
   {
    "duration": 6617,
    "start_time": "2022-03-27T10:49:02.734Z"
   },
   {
    "duration": 854,
    "start_time": "2022-03-27T10:49:09.353Z"
   },
   {
    "duration": 5,
    "start_time": "2022-03-27T10:49:10.209Z"
   },
   {
    "duration": 151,
    "start_time": "2022-03-27T10:49:10.217Z"
   },
   {
    "duration": 6,
    "start_time": "2022-03-27T10:49:10.370Z"
   },
   {
    "duration": 1498,
    "start_time": "2022-03-27T11:07:11.071Z"
   },
   {
    "duration": 70,
    "start_time": "2022-03-27T11:07:12.572Z"
   },
   {
    "duration": 42,
    "start_time": "2022-03-27T11:07:12.645Z"
   },
   {
    "duration": 13,
    "start_time": "2022-03-27T11:07:12.691Z"
   },
   {
    "duration": 7,
    "start_time": "2022-03-27T11:07:12.707Z"
   },
   {
    "duration": 693,
    "start_time": "2022-03-27T11:07:12.717Z"
   },
   {
    "duration": 6653,
    "start_time": "2022-03-27T11:07:13.413Z"
   },
   {
    "duration": 851,
    "start_time": "2022-03-27T11:07:20.069Z"
   },
   {
    "duration": 5,
    "start_time": "2022-03-27T11:07:20.923Z"
   },
   {
    "duration": 154,
    "start_time": "2022-03-27T11:07:20.932Z"
   },
   {
    "duration": 9,
    "start_time": "2022-03-27T11:07:21.088Z"
   },
   {
    "duration": 137,
    "start_time": "2022-03-27T11:15:46.447Z"
   },
   {
    "duration": 209977,
    "start_time": "2022-03-27T11:15:52.551Z"
   },
   {
    "duration": 45,
    "start_time": "2022-03-27T12:46:50.365Z"
   },
   {
    "duration": 1298,
    "start_time": "2022-03-27T12:47:10.386Z"
   },
   {
    "duration": 97,
    "start_time": "2022-03-27T12:47:11.686Z"
   },
   {
    "duration": 28,
    "start_time": "2022-03-27T12:47:11.785Z"
   },
   {
    "duration": 7,
    "start_time": "2022-03-27T12:47:11.814Z"
   },
   {
    "duration": 4,
    "start_time": "2022-03-27T12:47:11.824Z"
   },
   {
    "duration": 458,
    "start_time": "2022-03-27T12:47:11.830Z"
   },
   {
    "duration": 70838,
    "start_time": "2022-03-27T12:47:12.289Z"
   },
   {
    "duration": 500,
    "start_time": "2022-03-27T12:48:23.129Z"
   },
   {
    "duration": 4,
    "start_time": "2022-03-27T12:48:23.631Z"
   },
   {
    "duration": 103,
    "start_time": "2022-03-27T12:48:23.637Z"
   },
   {
    "duration": 6,
    "start_time": "2022-03-27T12:48:23.741Z"
   },
   {
    "duration": 87,
    "start_time": "2022-03-27T12:48:58.917Z"
   },
   {
    "duration": 6,
    "start_time": "2022-03-27T12:59:37.745Z"
   },
   {
    "duration": 301278,
    "start_time": "2022-03-27T13:02:01.718Z"
   },
   {
    "duration": 1221,
    "start_time": "2022-03-27T13:16:59.251Z"
   },
   {
    "duration": 119,
    "start_time": "2022-03-27T13:17:00.474Z"
   },
   {
    "duration": 26,
    "start_time": "2022-03-27T13:17:00.595Z"
   },
   {
    "duration": 8,
    "start_time": "2022-03-27T13:17:00.623Z"
   },
   {
    "duration": 17,
    "start_time": "2022-03-27T13:17:00.633Z"
   },
   {
    "duration": 460,
    "start_time": "2022-03-27T13:17:00.652Z"
   },
   {
    "duration": 70942,
    "start_time": "2022-03-27T13:17:01.113Z"
   },
   {
    "duration": 545,
    "start_time": "2022-03-27T13:18:12.057Z"
   },
   {
    "duration": 5,
    "start_time": "2022-03-27T13:18:12.604Z"
   },
   {
    "duration": 108,
    "start_time": "2022-03-27T13:18:12.612Z"
   },
   {
    "duration": 6,
    "start_time": "2022-03-27T13:18:12.723Z"
   }
  ],
  "kernelspec": {
   "display_name": "Python 3",
   "language": "python",
   "name": "python3"
  },
  "language_info": {
   "codemirror_mode": {
    "name": "ipython",
    "version": 3
   },
   "file_extension": ".py",
   "mimetype": "text/x-python",
   "name": "python",
   "nbconvert_exporter": "python",
   "pygments_lexer": "ipython3",
   "version": "3.8.5"
  },
  "toc": {
   "base_numbering": 1,
   "nav_menu": {},
   "number_sections": true,
   "sideBar": true,
   "skip_h1_title": true,
   "title_cell": "Table of Contents",
   "title_sidebar": "Contents",
   "toc_cell": false,
   "toc_position": {},
   "toc_section_display": true,
   "toc_window_display": false
  }
 },
 "nbformat": 4,
 "nbformat_minor": 2
}
