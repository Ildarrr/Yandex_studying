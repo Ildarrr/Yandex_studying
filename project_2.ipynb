{
 "cells": [
  {
   "cell_type": "markdown",
   "metadata": {},
   "source": [
    "# Исследование надёжности заёмщиков\n",
    "\n",
    "Заказчик — кредитный отдел банка. Нужно разобраться, влияет ли семейное положение и количество детей клиента на факт погашения кредита в срок. Входные данные от банка — статистика о платёжеспособности клиентов.\n",
    "\n",
    "Результаты исследования будут учтены при построении модели **кредитного скоринга** — специальной системы, которая оценивает способность потенциального заёмщика вернуть кредит банку."
   ]
  },
  {
   "cell_type": "markdown",
   "metadata": {},
   "source": [
    "## Шаг 1. Откройте файл с данными и изучите общую информацию"
   ]
  },
  {
   "cell_type": "code",
   "execution_count": 1,
   "metadata": {},
   "outputs": [],
   "source": [
    "import pandas as pd\n",
    "import numpy as np\n",
    "\n",
    "try:\n",
    "    data = pd.read_csv('C:/Users/datasets/data.csv')  \n",
    "except:\n",
    "    data = pd.read_csv('/datasets/data.csv')"
   ]
  },
  {
   "cell_type": "code",
   "execution_count": 2,
   "metadata": {},
   "outputs": [
    {
     "data": {
      "text/html": [
       "<div>\n",
       "<style scoped>\n",
       "    .dataframe tbody tr th:only-of-type {\n",
       "        vertical-align: middle;\n",
       "    }\n",
       "\n",
       "    .dataframe tbody tr th {\n",
       "        vertical-align: top;\n",
       "    }\n",
       "\n",
       "    .dataframe thead th {\n",
       "        text-align: right;\n",
       "    }\n",
       "</style>\n",
       "<table border=\"1\" class=\"dataframe\">\n",
       "  <thead>\n",
       "    <tr style=\"text-align: right;\">\n",
       "      <th></th>\n",
       "      <th>children</th>\n",
       "      <th>days_employed</th>\n",
       "      <th>dob_years</th>\n",
       "      <th>education</th>\n",
       "      <th>education_id</th>\n",
       "      <th>family_status</th>\n",
       "      <th>family_status_id</th>\n",
       "      <th>gender</th>\n",
       "      <th>income_type</th>\n",
       "      <th>debt</th>\n",
       "      <th>total_income</th>\n",
       "      <th>purpose</th>\n",
       "    </tr>\n",
       "  </thead>\n",
       "  <tbody>\n",
       "    <tr>\n",
       "      <td>0</td>\n",
       "      <td>1</td>\n",
       "      <td>-8437.673028</td>\n",
       "      <td>42</td>\n",
       "      <td>высшее</td>\n",
       "      <td>0</td>\n",
       "      <td>женат / замужем</td>\n",
       "      <td>0</td>\n",
       "      <td>F</td>\n",
       "      <td>сотрудник</td>\n",
       "      <td>0</td>\n",
       "      <td>253875.639453</td>\n",
       "      <td>покупка жилья</td>\n",
       "    </tr>\n",
       "    <tr>\n",
       "      <td>1</td>\n",
       "      <td>1</td>\n",
       "      <td>-4024.803754</td>\n",
       "      <td>36</td>\n",
       "      <td>среднее</td>\n",
       "      <td>1</td>\n",
       "      <td>женат / замужем</td>\n",
       "      <td>0</td>\n",
       "      <td>F</td>\n",
       "      <td>сотрудник</td>\n",
       "      <td>0</td>\n",
       "      <td>112080.014102</td>\n",
       "      <td>приобретение автомобиля</td>\n",
       "    </tr>\n",
       "    <tr>\n",
       "      <td>2</td>\n",
       "      <td>0</td>\n",
       "      <td>-5623.422610</td>\n",
       "      <td>33</td>\n",
       "      <td>Среднее</td>\n",
       "      <td>1</td>\n",
       "      <td>женат / замужем</td>\n",
       "      <td>0</td>\n",
       "      <td>M</td>\n",
       "      <td>сотрудник</td>\n",
       "      <td>0</td>\n",
       "      <td>145885.952297</td>\n",
       "      <td>покупка жилья</td>\n",
       "    </tr>\n",
       "    <tr>\n",
       "      <td>3</td>\n",
       "      <td>3</td>\n",
       "      <td>-4124.747207</td>\n",
       "      <td>32</td>\n",
       "      <td>среднее</td>\n",
       "      <td>1</td>\n",
       "      <td>женат / замужем</td>\n",
       "      <td>0</td>\n",
       "      <td>M</td>\n",
       "      <td>сотрудник</td>\n",
       "      <td>0</td>\n",
       "      <td>267628.550329</td>\n",
       "      <td>дополнительное образование</td>\n",
       "    </tr>\n",
       "    <tr>\n",
       "      <td>4</td>\n",
       "      <td>0</td>\n",
       "      <td>340266.072047</td>\n",
       "      <td>53</td>\n",
       "      <td>среднее</td>\n",
       "      <td>1</td>\n",
       "      <td>гражданский брак</td>\n",
       "      <td>1</td>\n",
       "      <td>F</td>\n",
       "      <td>пенсионер</td>\n",
       "      <td>0</td>\n",
       "      <td>158616.077870</td>\n",
       "      <td>сыграть свадьбу</td>\n",
       "    </tr>\n",
       "    <tr>\n",
       "      <td>5</td>\n",
       "      <td>0</td>\n",
       "      <td>-926.185831</td>\n",
       "      <td>27</td>\n",
       "      <td>высшее</td>\n",
       "      <td>0</td>\n",
       "      <td>гражданский брак</td>\n",
       "      <td>1</td>\n",
       "      <td>M</td>\n",
       "      <td>компаньон</td>\n",
       "      <td>0</td>\n",
       "      <td>255763.565419</td>\n",
       "      <td>покупка жилья</td>\n",
       "    </tr>\n",
       "    <tr>\n",
       "      <td>6</td>\n",
       "      <td>0</td>\n",
       "      <td>-2879.202052</td>\n",
       "      <td>43</td>\n",
       "      <td>высшее</td>\n",
       "      <td>0</td>\n",
       "      <td>женат / замужем</td>\n",
       "      <td>0</td>\n",
       "      <td>F</td>\n",
       "      <td>компаньон</td>\n",
       "      <td>0</td>\n",
       "      <td>240525.971920</td>\n",
       "      <td>операции с жильем</td>\n",
       "    </tr>\n",
       "    <tr>\n",
       "      <td>7</td>\n",
       "      <td>0</td>\n",
       "      <td>-152.779569</td>\n",
       "      <td>50</td>\n",
       "      <td>СРЕДНЕЕ</td>\n",
       "      <td>1</td>\n",
       "      <td>женат / замужем</td>\n",
       "      <td>0</td>\n",
       "      <td>M</td>\n",
       "      <td>сотрудник</td>\n",
       "      <td>0</td>\n",
       "      <td>135823.934197</td>\n",
       "      <td>образование</td>\n",
       "    </tr>\n",
       "    <tr>\n",
       "      <td>8</td>\n",
       "      <td>2</td>\n",
       "      <td>-6929.865299</td>\n",
       "      <td>35</td>\n",
       "      <td>ВЫСШЕЕ</td>\n",
       "      <td>0</td>\n",
       "      <td>гражданский брак</td>\n",
       "      <td>1</td>\n",
       "      <td>F</td>\n",
       "      <td>сотрудник</td>\n",
       "      <td>0</td>\n",
       "      <td>95856.832424</td>\n",
       "      <td>на проведение свадьбы</td>\n",
       "    </tr>\n",
       "    <tr>\n",
       "      <td>9</td>\n",
       "      <td>0</td>\n",
       "      <td>-2188.756445</td>\n",
       "      <td>41</td>\n",
       "      <td>среднее</td>\n",
       "      <td>1</td>\n",
       "      <td>женат / замужем</td>\n",
       "      <td>0</td>\n",
       "      <td>M</td>\n",
       "      <td>сотрудник</td>\n",
       "      <td>0</td>\n",
       "      <td>144425.938277</td>\n",
       "      <td>покупка жилья для семьи</td>\n",
       "    </tr>\n",
       "  </tbody>\n",
       "</table>\n",
       "</div>"
      ],
      "text/plain": [
       "   children  days_employed  dob_years education  education_id  \\\n",
       "0         1   -8437.673028         42    высшее             0   \n",
       "1         1   -4024.803754         36   среднее             1   \n",
       "2         0   -5623.422610         33   Среднее             1   \n",
       "3         3   -4124.747207         32   среднее             1   \n",
       "4         0  340266.072047         53   среднее             1   \n",
       "5         0    -926.185831         27    высшее             0   \n",
       "6         0   -2879.202052         43    высшее             0   \n",
       "7         0    -152.779569         50   СРЕДНЕЕ             1   \n",
       "8         2   -6929.865299         35    ВЫСШЕЕ             0   \n",
       "9         0   -2188.756445         41   среднее             1   \n",
       "\n",
       "      family_status  family_status_id gender income_type  debt   total_income  \\\n",
       "0   женат / замужем                 0      F   сотрудник     0  253875.639453   \n",
       "1   женат / замужем                 0      F   сотрудник     0  112080.014102   \n",
       "2   женат / замужем                 0      M   сотрудник     0  145885.952297   \n",
       "3   женат / замужем                 0      M   сотрудник     0  267628.550329   \n",
       "4  гражданский брак                 1      F   пенсионер     0  158616.077870   \n",
       "5  гражданский брак                 1      M   компаньон     0  255763.565419   \n",
       "6   женат / замужем                 0      F   компаньон     0  240525.971920   \n",
       "7   женат / замужем                 0      M   сотрудник     0  135823.934197   \n",
       "8  гражданский брак                 1      F   сотрудник     0   95856.832424   \n",
       "9   женат / замужем                 0      M   сотрудник     0  144425.938277   \n",
       "\n",
       "                      purpose  \n",
       "0               покупка жилья  \n",
       "1     приобретение автомобиля  \n",
       "2               покупка жилья  \n",
       "3  дополнительное образование  \n",
       "4             сыграть свадьбу  \n",
       "5               покупка жилья  \n",
       "6           операции с жильем  \n",
       "7                 образование  \n",
       "8       на проведение свадьбы  \n",
       "9     покупка жилья для семьи  "
      ]
     },
     "execution_count": 2,
     "metadata": {},
     "output_type": "execute_result"
    }
   ],
   "source": [
    "#изучим первые 10 строк таблицы\n",
    "\n",
    "data.head(10)"
   ]
  },
  {
   "cell_type": "code",
   "execution_count": 3,
   "metadata": {},
   "outputs": [
    {
     "data": {
      "text/html": [
       "<div>\n",
       "<style scoped>\n",
       "    .dataframe tbody tr th:only-of-type {\n",
       "        vertical-align: middle;\n",
       "    }\n",
       "\n",
       "    .dataframe tbody tr th {\n",
       "        vertical-align: top;\n",
       "    }\n",
       "\n",
       "    .dataframe thead th {\n",
       "        text-align: right;\n",
       "    }\n",
       "</style>\n",
       "<table border=\"1\" class=\"dataframe\">\n",
       "  <thead>\n",
       "    <tr style=\"text-align: right;\">\n",
       "      <th></th>\n",
       "      <th>children</th>\n",
       "      <th>days_employed</th>\n",
       "      <th>dob_years</th>\n",
       "      <th>education_id</th>\n",
       "      <th>family_status_id</th>\n",
       "      <th>debt</th>\n",
       "      <th>total_income</th>\n",
       "    </tr>\n",
       "  </thead>\n",
       "  <tbody>\n",
       "    <tr>\n",
       "      <td>count</td>\n",
       "      <td>21525.000000</td>\n",
       "      <td>19351.000000</td>\n",
       "      <td>21525.000000</td>\n",
       "      <td>21525.000000</td>\n",
       "      <td>21525.000000</td>\n",
       "      <td>21525.000000</td>\n",
       "      <td>1.935100e+04</td>\n",
       "    </tr>\n",
       "    <tr>\n",
       "      <td>mean</td>\n",
       "      <td>0.538908</td>\n",
       "      <td>63046.497661</td>\n",
       "      <td>43.293380</td>\n",
       "      <td>0.817236</td>\n",
       "      <td>0.972544</td>\n",
       "      <td>0.080883</td>\n",
       "      <td>1.674223e+05</td>\n",
       "    </tr>\n",
       "    <tr>\n",
       "      <td>std</td>\n",
       "      <td>1.381587</td>\n",
       "      <td>140827.311974</td>\n",
       "      <td>12.574584</td>\n",
       "      <td>0.548138</td>\n",
       "      <td>1.420324</td>\n",
       "      <td>0.272661</td>\n",
       "      <td>1.029716e+05</td>\n",
       "    </tr>\n",
       "    <tr>\n",
       "      <td>min</td>\n",
       "      <td>-1.000000</td>\n",
       "      <td>-18388.949901</td>\n",
       "      <td>0.000000</td>\n",
       "      <td>0.000000</td>\n",
       "      <td>0.000000</td>\n",
       "      <td>0.000000</td>\n",
       "      <td>2.066726e+04</td>\n",
       "    </tr>\n",
       "    <tr>\n",
       "      <td>25%</td>\n",
       "      <td>0.000000</td>\n",
       "      <td>-2747.423625</td>\n",
       "      <td>33.000000</td>\n",
       "      <td>1.000000</td>\n",
       "      <td>0.000000</td>\n",
       "      <td>0.000000</td>\n",
       "      <td>1.030532e+05</td>\n",
       "    </tr>\n",
       "    <tr>\n",
       "      <td>50%</td>\n",
       "      <td>0.000000</td>\n",
       "      <td>-1203.369529</td>\n",
       "      <td>42.000000</td>\n",
       "      <td>1.000000</td>\n",
       "      <td>0.000000</td>\n",
       "      <td>0.000000</td>\n",
       "      <td>1.450179e+05</td>\n",
       "    </tr>\n",
       "    <tr>\n",
       "      <td>75%</td>\n",
       "      <td>1.000000</td>\n",
       "      <td>-291.095954</td>\n",
       "      <td>53.000000</td>\n",
       "      <td>1.000000</td>\n",
       "      <td>1.000000</td>\n",
       "      <td>0.000000</td>\n",
       "      <td>2.034351e+05</td>\n",
       "    </tr>\n",
       "    <tr>\n",
       "      <td>max</td>\n",
       "      <td>20.000000</td>\n",
       "      <td>401755.400475</td>\n",
       "      <td>75.000000</td>\n",
       "      <td>4.000000</td>\n",
       "      <td>4.000000</td>\n",
       "      <td>1.000000</td>\n",
       "      <td>2.265604e+06</td>\n",
       "    </tr>\n",
       "  </tbody>\n",
       "</table>\n",
       "</div>"
      ],
      "text/plain": [
       "           children  days_employed     dob_years  education_id  \\\n",
       "count  21525.000000   19351.000000  21525.000000  21525.000000   \n",
       "mean       0.538908   63046.497661     43.293380      0.817236   \n",
       "std        1.381587  140827.311974     12.574584      0.548138   \n",
       "min       -1.000000  -18388.949901      0.000000      0.000000   \n",
       "25%        0.000000   -2747.423625     33.000000      1.000000   \n",
       "50%        0.000000   -1203.369529     42.000000      1.000000   \n",
       "75%        1.000000    -291.095954     53.000000      1.000000   \n",
       "max       20.000000  401755.400475     75.000000      4.000000   \n",
       "\n",
       "       family_status_id          debt  total_income  \n",
       "count      21525.000000  21525.000000  1.935100e+04  \n",
       "mean           0.972544      0.080883  1.674223e+05  \n",
       "std            1.420324      0.272661  1.029716e+05  \n",
       "min            0.000000      0.000000  2.066726e+04  \n",
       "25%            0.000000      0.000000  1.030532e+05  \n",
       "50%            0.000000      0.000000  1.450179e+05  \n",
       "75%            1.000000      0.000000  2.034351e+05  \n",
       "max            4.000000      1.000000  2.265604e+06  "
      ]
     },
     "execution_count": 3,
     "metadata": {},
     "output_type": "execute_result"
    }
   ],
   "source": [
    "#получим общую информацию о датафрейме\n",
    "\n",
    "data.describe()"
   ]
  },
  {
   "cell_type": "code",
   "execution_count": 4,
   "metadata": {},
   "outputs": [
    {
     "name": "stdout",
     "output_type": "stream",
     "text": [
      "<class 'pandas.core.frame.DataFrame'>\n",
      "RangeIndex: 21525 entries, 0 to 21524\n",
      "Data columns (total 12 columns):\n",
      "children            21525 non-null int64\n",
      "days_employed       19351 non-null float64\n",
      "dob_years           21525 non-null int64\n",
      "education           21525 non-null object\n",
      "education_id        21525 non-null int64\n",
      "family_status       21525 non-null object\n",
      "family_status_id    21525 non-null int64\n",
      "gender              21525 non-null object\n",
      "income_type         21525 non-null object\n",
      "debt                21525 non-null int64\n",
      "total_income        19351 non-null float64\n",
      "purpose             21525 non-null object\n",
      "dtypes: float64(2), int64(5), object(5)\n",
      "memory usage: 2.0+ MB\n"
     ]
    }
   ],
   "source": [
    "#получим основную информацию по таблице\n",
    "\n",
    "data.info()"
   ]
  },
  {
   "cell_type": "code",
   "execution_count": 5,
   "metadata": {},
   "outputs": [
    {
     "data": {
      "text/plain": [
       "children            0.000000\n",
       "days_employed       0.100999\n",
       "dob_years           0.000000\n",
       "education           0.000000\n",
       "education_id        0.000000\n",
       "family_status       0.000000\n",
       "family_status_id    0.000000\n",
       "gender              0.000000\n",
       "income_type         0.000000\n",
       "debt                0.000000\n",
       "total_income        0.100999\n",
       "purpose             0.000000\n",
       "dtype: float64"
      ]
     },
     "execution_count": 5,
     "metadata": {},
     "output_type": "execute_result"
    }
   ],
   "source": [
    "#определим долю пропущенных значений каждого столбца датафрейма\n",
    "data.isna().mean()"
   ]
  },
  {
   "cell_type": "markdown",
   "metadata": {},
   "source": [
    "**Вывод**"
   ]
  },
  {
   "cell_type": "markdown",
   "metadata": {},
   "source": [
    "В таблице 'data.csv' представлен практически полный набор данных, за исключением двух столбцов: 'days_employed' и 'total_income'. Также выделяется столбец 'education', данные в котором введены с использованием различных регистров. \n",
    "Помимо этого видно, что категориальные переменные 'education_id', 'family_status_id' и 'debt' неверно записаны как количественные переменные: им присвоен тип int (используется для представления целых чисел)."
   ]
  },
  {
   "cell_type": "markdown",
   "metadata": {},
   "source": [
    "## Шаг 2. Предобработка данных"
   ]
  },
  {
   "cell_type": "markdown",
   "metadata": {},
   "source": [
    "### Обработка пропусков"
   ]
  },
  {
   "cell_type": "code",
   "execution_count": 6,
   "metadata": {},
   "outputs": [
    {
     "data": {
      "text/html": [
       "<div>\n",
       "<style scoped>\n",
       "    .dataframe tbody tr th:only-of-type {\n",
       "        vertical-align: middle;\n",
       "    }\n",
       "\n",
       "    .dataframe tbody tr th {\n",
       "        vertical-align: top;\n",
       "    }\n",
       "\n",
       "    .dataframe thead th {\n",
       "        text-align: right;\n",
       "    }\n",
       "</style>\n",
       "<table border=\"1\" class=\"dataframe\">\n",
       "  <thead>\n",
       "    <tr style=\"text-align: right;\">\n",
       "      <th></th>\n",
       "      <th>children</th>\n",
       "      <th>days_employed</th>\n",
       "      <th>dob_years</th>\n",
       "      <th>education</th>\n",
       "      <th>education_id</th>\n",
       "      <th>family_status</th>\n",
       "      <th>family_status_id</th>\n",
       "      <th>gender</th>\n",
       "      <th>income_type</th>\n",
       "      <th>debt</th>\n",
       "      <th>total_income</th>\n",
       "      <th>purpose</th>\n",
       "    </tr>\n",
       "  </thead>\n",
       "  <tbody>\n",
       "    <tr>\n",
       "      <td>12</td>\n",
       "      <td>0</td>\n",
       "      <td>NaN</td>\n",
       "      <td>65</td>\n",
       "      <td>среднее</td>\n",
       "      <td>1</td>\n",
       "      <td>гражданский брак</td>\n",
       "      <td>1</td>\n",
       "      <td>M</td>\n",
       "      <td>пенсионер</td>\n",
       "      <td>0</td>\n",
       "      <td>NaN</td>\n",
       "      <td>сыграть свадьбу</td>\n",
       "    </tr>\n",
       "    <tr>\n",
       "      <td>26</td>\n",
       "      <td>0</td>\n",
       "      <td>NaN</td>\n",
       "      <td>41</td>\n",
       "      <td>среднее</td>\n",
       "      <td>1</td>\n",
       "      <td>женат / замужем</td>\n",
       "      <td>0</td>\n",
       "      <td>M</td>\n",
       "      <td>госслужащий</td>\n",
       "      <td>0</td>\n",
       "      <td>NaN</td>\n",
       "      <td>образование</td>\n",
       "    </tr>\n",
       "    <tr>\n",
       "      <td>29</td>\n",
       "      <td>0</td>\n",
       "      <td>NaN</td>\n",
       "      <td>63</td>\n",
       "      <td>среднее</td>\n",
       "      <td>1</td>\n",
       "      <td>Не женат / не замужем</td>\n",
       "      <td>4</td>\n",
       "      <td>F</td>\n",
       "      <td>пенсионер</td>\n",
       "      <td>0</td>\n",
       "      <td>NaN</td>\n",
       "      <td>строительство жилой недвижимости</td>\n",
       "    </tr>\n",
       "    <tr>\n",
       "      <td>41</td>\n",
       "      <td>0</td>\n",
       "      <td>NaN</td>\n",
       "      <td>50</td>\n",
       "      <td>среднее</td>\n",
       "      <td>1</td>\n",
       "      <td>женат / замужем</td>\n",
       "      <td>0</td>\n",
       "      <td>F</td>\n",
       "      <td>госслужащий</td>\n",
       "      <td>0</td>\n",
       "      <td>NaN</td>\n",
       "      <td>сделка с подержанным автомобилем</td>\n",
       "    </tr>\n",
       "    <tr>\n",
       "      <td>55</td>\n",
       "      <td>0</td>\n",
       "      <td>NaN</td>\n",
       "      <td>54</td>\n",
       "      <td>среднее</td>\n",
       "      <td>1</td>\n",
       "      <td>гражданский брак</td>\n",
       "      <td>1</td>\n",
       "      <td>F</td>\n",
       "      <td>пенсионер</td>\n",
       "      <td>1</td>\n",
       "      <td>NaN</td>\n",
       "      <td>сыграть свадьбу</td>\n",
       "    </tr>\n",
       "    <tr>\n",
       "      <td>...</td>\n",
       "      <td>...</td>\n",
       "      <td>...</td>\n",
       "      <td>...</td>\n",
       "      <td>...</td>\n",
       "      <td>...</td>\n",
       "      <td>...</td>\n",
       "      <td>...</td>\n",
       "      <td>...</td>\n",
       "      <td>...</td>\n",
       "      <td>...</td>\n",
       "      <td>...</td>\n",
       "      <td>...</td>\n",
       "    </tr>\n",
       "    <tr>\n",
       "      <td>21489</td>\n",
       "      <td>2</td>\n",
       "      <td>NaN</td>\n",
       "      <td>47</td>\n",
       "      <td>Среднее</td>\n",
       "      <td>1</td>\n",
       "      <td>женат / замужем</td>\n",
       "      <td>0</td>\n",
       "      <td>M</td>\n",
       "      <td>компаньон</td>\n",
       "      <td>0</td>\n",
       "      <td>NaN</td>\n",
       "      <td>сделка с автомобилем</td>\n",
       "    </tr>\n",
       "    <tr>\n",
       "      <td>21495</td>\n",
       "      <td>1</td>\n",
       "      <td>NaN</td>\n",
       "      <td>50</td>\n",
       "      <td>среднее</td>\n",
       "      <td>1</td>\n",
       "      <td>гражданский брак</td>\n",
       "      <td>1</td>\n",
       "      <td>F</td>\n",
       "      <td>сотрудник</td>\n",
       "      <td>0</td>\n",
       "      <td>NaN</td>\n",
       "      <td>свадьба</td>\n",
       "    </tr>\n",
       "    <tr>\n",
       "      <td>21497</td>\n",
       "      <td>0</td>\n",
       "      <td>NaN</td>\n",
       "      <td>48</td>\n",
       "      <td>ВЫСШЕЕ</td>\n",
       "      <td>0</td>\n",
       "      <td>женат / замужем</td>\n",
       "      <td>0</td>\n",
       "      <td>F</td>\n",
       "      <td>компаньон</td>\n",
       "      <td>0</td>\n",
       "      <td>NaN</td>\n",
       "      <td>строительство недвижимости</td>\n",
       "    </tr>\n",
       "    <tr>\n",
       "      <td>21502</td>\n",
       "      <td>1</td>\n",
       "      <td>NaN</td>\n",
       "      <td>42</td>\n",
       "      <td>среднее</td>\n",
       "      <td>1</td>\n",
       "      <td>женат / замужем</td>\n",
       "      <td>0</td>\n",
       "      <td>F</td>\n",
       "      <td>сотрудник</td>\n",
       "      <td>0</td>\n",
       "      <td>NaN</td>\n",
       "      <td>строительство жилой недвижимости</td>\n",
       "    </tr>\n",
       "    <tr>\n",
       "      <td>21510</td>\n",
       "      <td>2</td>\n",
       "      <td>NaN</td>\n",
       "      <td>28</td>\n",
       "      <td>среднее</td>\n",
       "      <td>1</td>\n",
       "      <td>женат / замужем</td>\n",
       "      <td>0</td>\n",
       "      <td>F</td>\n",
       "      <td>сотрудник</td>\n",
       "      <td>0</td>\n",
       "      <td>NaN</td>\n",
       "      <td>приобретение автомобиля</td>\n",
       "    </tr>\n",
       "  </tbody>\n",
       "</table>\n",
       "<p>2174 rows × 12 columns</p>\n",
       "</div>"
      ],
      "text/plain": [
       "       children  days_employed  dob_years education  education_id  \\\n",
       "12            0            NaN         65   среднее             1   \n",
       "26            0            NaN         41   среднее             1   \n",
       "29            0            NaN         63   среднее             1   \n",
       "41            0            NaN         50   среднее             1   \n",
       "55            0            NaN         54   среднее             1   \n",
       "...         ...            ...        ...       ...           ...   \n",
       "21489         2            NaN         47   Среднее             1   \n",
       "21495         1            NaN         50   среднее             1   \n",
       "21497         0            NaN         48    ВЫСШЕЕ             0   \n",
       "21502         1            NaN         42   среднее             1   \n",
       "21510         2            NaN         28   среднее             1   \n",
       "\n",
       "               family_status  family_status_id gender  income_type  debt  \\\n",
       "12          гражданский брак                 1      M    пенсионер     0   \n",
       "26           женат / замужем                 0      M  госслужащий     0   \n",
       "29     Не женат / не замужем                 4      F    пенсионер     0   \n",
       "41           женат / замужем                 0      F  госслужащий     0   \n",
       "55          гражданский брак                 1      F    пенсионер     1   \n",
       "...                      ...               ...    ...          ...   ...   \n",
       "21489        женат / замужем                 0      M    компаньон     0   \n",
       "21495       гражданский брак                 1      F    сотрудник     0   \n",
       "21497        женат / замужем                 0      F    компаньон     0   \n",
       "21502        женат / замужем                 0      F    сотрудник     0   \n",
       "21510        женат / замужем                 0      F    сотрудник     0   \n",
       "\n",
       "       total_income                           purpose  \n",
       "12              NaN                   сыграть свадьбу  \n",
       "26              NaN                       образование  \n",
       "29              NaN  строительство жилой недвижимости  \n",
       "41              NaN  сделка с подержанным автомобилем  \n",
       "55              NaN                   сыграть свадьбу  \n",
       "...             ...                               ...  \n",
       "21489           NaN              сделка с автомобилем  \n",
       "21495           NaN                           свадьба  \n",
       "21497           NaN        строительство недвижимости  \n",
       "21502           NaN  строительство жилой недвижимости  \n",
       "21510           NaN           приобретение автомобиля  \n",
       "\n",
       "[2174 rows x 12 columns]"
      ]
     },
     "execution_count": 6,
     "metadata": {},
     "output_type": "execute_result"
    }
   ],
   "source": [
    "import warnings\n",
    "warnings.simplefilter(\"ignore\")\n",
    "\n",
    "\n",
    "#проверим какие данные были пропущены в исходном датафрейме\n",
    "data_isna = data[data['days_employed'].isna()]\n",
    "\n",
    "data_isna"
   ]
  },
  {
   "cell_type": "code",
   "execution_count": 7,
   "metadata": {},
   "outputs": [
    {
     "data": {
      "text/plain": [
       "2174"
      ]
     },
     "execution_count": 7,
     "metadata": {},
     "output_type": "execute_result"
    }
   ],
   "source": [
    "#пропущенные данные по значениям \"income_type\"\n",
    "data_isna['income_type'].value_counts().sum()"
   ]
  },
  {
   "cell_type": "markdown",
   "metadata": {},
   "source": [
    "<div style=\"border: 15px; border: 2px solid blue; padding: 15px;\">\n",
    "<b> Комментарий студента:</b>\n",
    "<hr>\n",
    "    Проведем оценку входных данных. Выясним почему в столбце 'days_employed' имеются отрицательные значения и аномально высокие значения.\n",
    "\n",
    "</div>"
   ]
  },
  {
   "cell_type": "code",
   "execution_count": 8,
   "metadata": {},
   "outputs": [
    {
     "data": {
      "text/html": [
       "<div>\n",
       "<style scoped>\n",
       "    .dataframe tbody tr th:only-of-type {\n",
       "        vertical-align: middle;\n",
       "    }\n",
       "\n",
       "    .dataframe tbody tr th {\n",
       "        vertical-align: top;\n",
       "    }\n",
       "\n",
       "    .dataframe thead th {\n",
       "        text-align: right;\n",
       "    }\n",
       "</style>\n",
       "<table border=\"1\" class=\"dataframe\">\n",
       "  <thead>\n",
       "    <tr style=\"text-align: right;\">\n",
       "      <th></th>\n",
       "      <th>children</th>\n",
       "      <th>days_employed</th>\n",
       "      <th>dob_years</th>\n",
       "      <th>education</th>\n",
       "      <th>education_id</th>\n",
       "      <th>family_status</th>\n",
       "      <th>family_status_id</th>\n",
       "      <th>gender</th>\n",
       "      <th>income_type</th>\n",
       "      <th>debt</th>\n",
       "      <th>total_income</th>\n",
       "      <th>purpose</th>\n",
       "    </tr>\n",
       "  </thead>\n",
       "  <tbody>\n",
       "    <tr>\n",
       "      <td>4</td>\n",
       "      <td>0</td>\n",
       "      <td>340266.072047</td>\n",
       "      <td>53</td>\n",
       "      <td>среднее</td>\n",
       "      <td>1</td>\n",
       "      <td>гражданский брак</td>\n",
       "      <td>1</td>\n",
       "      <td>F</td>\n",
       "      <td>пенсионер</td>\n",
       "      <td>0</td>\n",
       "      <td>158616.077870</td>\n",
       "      <td>сыграть свадьбу</td>\n",
       "    </tr>\n",
       "    <tr>\n",
       "      <td>18</td>\n",
       "      <td>0</td>\n",
       "      <td>400281.136913</td>\n",
       "      <td>53</td>\n",
       "      <td>среднее</td>\n",
       "      <td>1</td>\n",
       "      <td>вдовец / вдова</td>\n",
       "      <td>2</td>\n",
       "      <td>F</td>\n",
       "      <td>пенсионер</td>\n",
       "      <td>0</td>\n",
       "      <td>56823.777243</td>\n",
       "      <td>на покупку подержанного автомобиля</td>\n",
       "    </tr>\n",
       "    <tr>\n",
       "      <td>24</td>\n",
       "      <td>1</td>\n",
       "      <td>338551.952911</td>\n",
       "      <td>57</td>\n",
       "      <td>среднее</td>\n",
       "      <td>1</td>\n",
       "      <td>Не женат / не замужем</td>\n",
       "      <td>4</td>\n",
       "      <td>F</td>\n",
       "      <td>пенсионер</td>\n",
       "      <td>0</td>\n",
       "      <td>290547.235997</td>\n",
       "      <td>операции с коммерческой недвижимостью</td>\n",
       "    </tr>\n",
       "    <tr>\n",
       "      <td>25</td>\n",
       "      <td>0</td>\n",
       "      <td>363548.489348</td>\n",
       "      <td>67</td>\n",
       "      <td>среднее</td>\n",
       "      <td>1</td>\n",
       "      <td>женат / замужем</td>\n",
       "      <td>0</td>\n",
       "      <td>M</td>\n",
       "      <td>пенсионер</td>\n",
       "      <td>0</td>\n",
       "      <td>55112.757732</td>\n",
       "      <td>покупка недвижимости</td>\n",
       "    </tr>\n",
       "    <tr>\n",
       "      <td>30</td>\n",
       "      <td>1</td>\n",
       "      <td>335581.668515</td>\n",
       "      <td>62</td>\n",
       "      <td>среднее</td>\n",
       "      <td>1</td>\n",
       "      <td>женат / замужем</td>\n",
       "      <td>0</td>\n",
       "      <td>F</td>\n",
       "      <td>пенсионер</td>\n",
       "      <td>0</td>\n",
       "      <td>171456.067993</td>\n",
       "      <td>операции с коммерческой недвижимостью</td>\n",
       "    </tr>\n",
       "    <tr>\n",
       "      <td>...</td>\n",
       "      <td>...</td>\n",
       "      <td>...</td>\n",
       "      <td>...</td>\n",
       "      <td>...</td>\n",
       "      <td>...</td>\n",
       "      <td>...</td>\n",
       "      <td>...</td>\n",
       "      <td>...</td>\n",
       "      <td>...</td>\n",
       "      <td>...</td>\n",
       "      <td>...</td>\n",
       "      <td>...</td>\n",
       "    </tr>\n",
       "    <tr>\n",
       "      <td>21505</td>\n",
       "      <td>0</td>\n",
       "      <td>338904.866406</td>\n",
       "      <td>53</td>\n",
       "      <td>среднее</td>\n",
       "      <td>1</td>\n",
       "      <td>гражданский брак</td>\n",
       "      <td>1</td>\n",
       "      <td>M</td>\n",
       "      <td>пенсионер</td>\n",
       "      <td>0</td>\n",
       "      <td>75439.993167</td>\n",
       "      <td>сыграть свадьбу</td>\n",
       "    </tr>\n",
       "    <tr>\n",
       "      <td>21508</td>\n",
       "      <td>0</td>\n",
       "      <td>386497.714078</td>\n",
       "      <td>62</td>\n",
       "      <td>среднее</td>\n",
       "      <td>1</td>\n",
       "      <td>женат / замужем</td>\n",
       "      <td>0</td>\n",
       "      <td>M</td>\n",
       "      <td>пенсионер</td>\n",
       "      <td>0</td>\n",
       "      <td>72638.590915</td>\n",
       "      <td>недвижимость</td>\n",
       "    </tr>\n",
       "    <tr>\n",
       "      <td>21509</td>\n",
       "      <td>0</td>\n",
       "      <td>362161.054124</td>\n",
       "      <td>59</td>\n",
       "      <td>высшее</td>\n",
       "      <td>0</td>\n",
       "      <td>женат / замужем</td>\n",
       "      <td>0</td>\n",
       "      <td>M</td>\n",
       "      <td>пенсионер</td>\n",
       "      <td>0</td>\n",
       "      <td>73029.059379</td>\n",
       "      <td>операции с недвижимостью</td>\n",
       "    </tr>\n",
       "    <tr>\n",
       "      <td>21518</td>\n",
       "      <td>0</td>\n",
       "      <td>373995.710838</td>\n",
       "      <td>59</td>\n",
       "      <td>СРЕДНЕЕ</td>\n",
       "      <td>1</td>\n",
       "      <td>женат / замужем</td>\n",
       "      <td>0</td>\n",
       "      <td>F</td>\n",
       "      <td>пенсионер</td>\n",
       "      <td>0</td>\n",
       "      <td>153864.650328</td>\n",
       "      <td>сделка с автомобилем</td>\n",
       "    </tr>\n",
       "    <tr>\n",
       "      <td>21521</td>\n",
       "      <td>0</td>\n",
       "      <td>343937.404131</td>\n",
       "      <td>67</td>\n",
       "      <td>среднее</td>\n",
       "      <td>1</td>\n",
       "      <td>женат / замужем</td>\n",
       "      <td>0</td>\n",
       "      <td>F</td>\n",
       "      <td>пенсионер</td>\n",
       "      <td>0</td>\n",
       "      <td>155999.806512</td>\n",
       "      <td>сделка с автомобилем</td>\n",
       "    </tr>\n",
       "  </tbody>\n",
       "</table>\n",
       "<p>3445 rows × 12 columns</p>\n",
       "</div>"
      ],
      "text/plain": [
       "       children  days_employed  dob_years education  education_id  \\\n",
       "4             0  340266.072047         53   среднее             1   \n",
       "18            0  400281.136913         53   среднее             1   \n",
       "24            1  338551.952911         57   среднее             1   \n",
       "25            0  363548.489348         67   среднее             1   \n",
       "30            1  335581.668515         62   среднее             1   \n",
       "...         ...            ...        ...       ...           ...   \n",
       "21505         0  338904.866406         53   среднее             1   \n",
       "21508         0  386497.714078         62   среднее             1   \n",
       "21509         0  362161.054124         59    высшее             0   \n",
       "21518         0  373995.710838         59   СРЕДНЕЕ             1   \n",
       "21521         0  343937.404131         67   среднее             1   \n",
       "\n",
       "               family_status  family_status_id gender income_type  debt  \\\n",
       "4           гражданский брак                 1      F   пенсионер     0   \n",
       "18            вдовец / вдова                 2      F   пенсионер     0   \n",
       "24     Не женат / не замужем                 4      F   пенсионер     0   \n",
       "25           женат / замужем                 0      M   пенсионер     0   \n",
       "30           женат / замужем                 0      F   пенсионер     0   \n",
       "...                      ...               ...    ...         ...   ...   \n",
       "21505       гражданский брак                 1      M   пенсионер     0   \n",
       "21508        женат / замужем                 0      M   пенсионер     0   \n",
       "21509        женат / замужем                 0      M   пенсионер     0   \n",
       "21518        женат / замужем                 0      F   пенсионер     0   \n",
       "21521        женат / замужем                 0      F   пенсионер     0   \n",
       "\n",
       "        total_income                                purpose  \n",
       "4      158616.077870                        сыграть свадьбу  \n",
       "18      56823.777243     на покупку подержанного автомобиля  \n",
       "24     290547.235997  операции с коммерческой недвижимостью  \n",
       "25      55112.757732                   покупка недвижимости  \n",
       "30     171456.067993  операции с коммерческой недвижимостью  \n",
       "...              ...                                    ...  \n",
       "21505   75439.993167                        сыграть свадьбу  \n",
       "21508   72638.590915                           недвижимость  \n",
       "21509   73029.059379               операции с недвижимостью  \n",
       "21518  153864.650328                   сделка с автомобилем  \n",
       "21521  155999.806512                   сделка с автомобилем  \n",
       "\n",
       "[3445 rows x 12 columns]"
      ]
     },
     "execution_count": 8,
     "metadata": {},
     "output_type": "execute_result"
    }
   ],
   "source": [
    "#для начала проведем оценку данных для случая, когда стаж в днях больше нуля\n",
    "\n",
    "days_employed_below_zero = data[data['days_employed']>0]\n",
    "days_employed_below_zero"
   ]
  },
  {
   "cell_type": "code",
   "execution_count": 9,
   "metadata": {},
   "outputs": [
    {
     "data": {
      "text/plain": [
       "пенсионер      3443\n",
       "безработный       2\n",
       "Name: income_type, dtype: int64"
      ]
     },
     "execution_count": 9,
     "metadata": {},
     "output_type": "execute_result"
    }
   ],
   "source": [
    "#посмотрим какие уникальные категории встречаются в полученном датафрейме\n",
    "days_employed_below_zero['income_type'].value_counts()"
   ]
  },
  {
   "cell_type": "code",
   "execution_count": 10,
   "metadata": {},
   "outputs": [
    {
     "data": {
      "text/plain": [
       "3443"
      ]
     },
     "execution_count": 10,
     "metadata": {},
     "output_type": "execute_result"
    }
   ],
   "source": [
    "#проверим сколько значений содержалось в исходном датафрейме с категорией \"пенсионеры\"\n",
    "data[data['income_type'] == 'пенсионер']['days_employed'].count()"
   ]
  },
  {
   "cell_type": "markdown",
   "metadata": {},
   "source": [
    "<div style=\"border: 15px; border: 2px solid blue; padding: 15px;\">\n",
    "<b> Комментарий студента:</b>\n",
    "<hr>\n",
    "   Как показывает анализ выше, наибольшее число данных из датафрейма \"days_employed_below_zero\" относится к категории людей \"пенсионеры\". Это 100% исходного датафрейма для категории \"пенсионеры\". Так что будем разбираться что тут не так))\n",
    "</div>"
   ]
  },
  {
   "cell_type": "code",
   "execution_count": 11,
   "metadata": {},
   "outputs": [
    {
     "data": {
      "text/plain": [
       "365213.30626573117"
      ]
     },
     "execution_count": 11,
     "metadata": {},
     "output_type": "execute_result"
    }
   ],
   "source": [
    "#оценим медианное значение стажа в днях для нового датафрейма\n",
    "days_employed_below_zero['days_employed'].median()"
   ]
  },
  {
   "cell_type": "markdown",
   "metadata": {},
   "source": [
    "<div style=\"border: 15px; border: 2px solid blue; padding: 15px;\">\n",
    "<b> Комментарий студента:</b>\n",
    "<hr>\n",
    "  Полученное значение является аномально большим. Попробуем проверить, возможно ли такое, что по какой-то ошибке данные по данной группе были выгружены в часах, а не в днях.\n",
    "</div>"
   ]
  },
  {
   "cell_type": "code",
   "execution_count": 12,
   "metadata": {},
   "outputs": [
    {
     "data": {
      "text/html": [
       "<div>\n",
       "<style scoped>\n",
       "    .dataframe tbody tr th:only-of-type {\n",
       "        vertical-align: middle;\n",
       "    }\n",
       "\n",
       "    .dataframe tbody tr th {\n",
       "        vertical-align: top;\n",
       "    }\n",
       "\n",
       "    .dataframe thead th {\n",
       "        text-align: right;\n",
       "    }\n",
       "</style>\n",
       "<table border=\"1\" class=\"dataframe\">\n",
       "  <thead>\n",
       "    <tr style=\"text-align: right;\">\n",
       "      <th></th>\n",
       "      <th>children</th>\n",
       "      <th>days_employed</th>\n",
       "      <th>dob_years</th>\n",
       "      <th>education</th>\n",
       "      <th>education_id</th>\n",
       "      <th>family_status</th>\n",
       "      <th>family_status_id</th>\n",
       "      <th>gender</th>\n",
       "      <th>income_type</th>\n",
       "      <th>debt</th>\n",
       "      <th>total_income</th>\n",
       "      <th>purpose</th>\n",
       "      <th>years_employed</th>\n",
       "    </tr>\n",
       "  </thead>\n",
       "  <tbody>\n",
       "    <tr>\n",
       "      <td>4</td>\n",
       "      <td>0</td>\n",
       "      <td>340266.072047</td>\n",
       "      <td>53</td>\n",
       "      <td>среднее</td>\n",
       "      <td>1</td>\n",
       "      <td>гражданский брак</td>\n",
       "      <td>1</td>\n",
       "      <td>F</td>\n",
       "      <td>пенсионер</td>\n",
       "      <td>0</td>\n",
       "      <td>158616.077870</td>\n",
       "      <td>сыграть свадьбу</td>\n",
       "      <td>38.843159</td>\n",
       "    </tr>\n",
       "    <tr>\n",
       "      <td>18</td>\n",
       "      <td>0</td>\n",
       "      <td>400281.136913</td>\n",
       "      <td>53</td>\n",
       "      <td>среднее</td>\n",
       "      <td>1</td>\n",
       "      <td>вдовец / вдова</td>\n",
       "      <td>2</td>\n",
       "      <td>F</td>\n",
       "      <td>пенсионер</td>\n",
       "      <td>0</td>\n",
       "      <td>56823.777243</td>\n",
       "      <td>на покупку подержанного автомобиля</td>\n",
       "      <td>45.694194</td>\n",
       "    </tr>\n",
       "    <tr>\n",
       "      <td>24</td>\n",
       "      <td>1</td>\n",
       "      <td>338551.952911</td>\n",
       "      <td>57</td>\n",
       "      <td>среднее</td>\n",
       "      <td>1</td>\n",
       "      <td>Не женат / не замужем</td>\n",
       "      <td>4</td>\n",
       "      <td>F</td>\n",
       "      <td>пенсионер</td>\n",
       "      <td>0</td>\n",
       "      <td>290547.235997</td>\n",
       "      <td>операции с коммерческой недвижимостью</td>\n",
       "      <td>38.647483</td>\n",
       "    </tr>\n",
       "    <tr>\n",
       "      <td>25</td>\n",
       "      <td>0</td>\n",
       "      <td>363548.489348</td>\n",
       "      <td>67</td>\n",
       "      <td>среднее</td>\n",
       "      <td>1</td>\n",
       "      <td>женат / замужем</td>\n",
       "      <td>0</td>\n",
       "      <td>M</td>\n",
       "      <td>пенсионер</td>\n",
       "      <td>0</td>\n",
       "      <td>55112.757732</td>\n",
       "      <td>покупка недвижимости</td>\n",
       "      <td>41.500969</td>\n",
       "    </tr>\n",
       "    <tr>\n",
       "      <td>30</td>\n",
       "      <td>1</td>\n",
       "      <td>335581.668515</td>\n",
       "      <td>62</td>\n",
       "      <td>среднее</td>\n",
       "      <td>1</td>\n",
       "      <td>женат / замужем</td>\n",
       "      <td>0</td>\n",
       "      <td>F</td>\n",
       "      <td>пенсионер</td>\n",
       "      <td>0</td>\n",
       "      <td>171456.067993</td>\n",
       "      <td>операции с коммерческой недвижимостью</td>\n",
       "      <td>38.308410</td>\n",
       "    </tr>\n",
       "    <tr>\n",
       "      <td>...</td>\n",
       "      <td>...</td>\n",
       "      <td>...</td>\n",
       "      <td>...</td>\n",
       "      <td>...</td>\n",
       "      <td>...</td>\n",
       "      <td>...</td>\n",
       "      <td>...</td>\n",
       "      <td>...</td>\n",
       "      <td>...</td>\n",
       "      <td>...</td>\n",
       "      <td>...</td>\n",
       "      <td>...</td>\n",
       "      <td>...</td>\n",
       "    </tr>\n",
       "    <tr>\n",
       "      <td>21505</td>\n",
       "      <td>0</td>\n",
       "      <td>338904.866406</td>\n",
       "      <td>53</td>\n",
       "      <td>среднее</td>\n",
       "      <td>1</td>\n",
       "      <td>гражданский брак</td>\n",
       "      <td>1</td>\n",
       "      <td>M</td>\n",
       "      <td>пенсионер</td>\n",
       "      <td>0</td>\n",
       "      <td>75439.993167</td>\n",
       "      <td>сыграть свадьбу</td>\n",
       "      <td>38.687770</td>\n",
       "    </tr>\n",
       "    <tr>\n",
       "      <td>21508</td>\n",
       "      <td>0</td>\n",
       "      <td>386497.714078</td>\n",
       "      <td>62</td>\n",
       "      <td>среднее</td>\n",
       "      <td>1</td>\n",
       "      <td>женат / замужем</td>\n",
       "      <td>0</td>\n",
       "      <td>M</td>\n",
       "      <td>пенсионер</td>\n",
       "      <td>0</td>\n",
       "      <td>72638.590915</td>\n",
       "      <td>недвижимость</td>\n",
       "      <td>44.120744</td>\n",
       "    </tr>\n",
       "    <tr>\n",
       "      <td>21509</td>\n",
       "      <td>0</td>\n",
       "      <td>362161.054124</td>\n",
       "      <td>59</td>\n",
       "      <td>высшее</td>\n",
       "      <td>0</td>\n",
       "      <td>женат / замужем</td>\n",
       "      <td>0</td>\n",
       "      <td>M</td>\n",
       "      <td>пенсионер</td>\n",
       "      <td>0</td>\n",
       "      <td>73029.059379</td>\n",
       "      <td>операции с недвижимостью</td>\n",
       "      <td>41.342586</td>\n",
       "    </tr>\n",
       "    <tr>\n",
       "      <td>21518</td>\n",
       "      <td>0</td>\n",
       "      <td>373995.710838</td>\n",
       "      <td>59</td>\n",
       "      <td>СРЕДНЕЕ</td>\n",
       "      <td>1</td>\n",
       "      <td>женат / замужем</td>\n",
       "      <td>0</td>\n",
       "      <td>F</td>\n",
       "      <td>пенсионер</td>\n",
       "      <td>0</td>\n",
       "      <td>153864.650328</td>\n",
       "      <td>сделка с автомобилем</td>\n",
       "      <td>42.693574</td>\n",
       "    </tr>\n",
       "    <tr>\n",
       "      <td>21521</td>\n",
       "      <td>0</td>\n",
       "      <td>343937.404131</td>\n",
       "      <td>67</td>\n",
       "      <td>среднее</td>\n",
       "      <td>1</td>\n",
       "      <td>женат / замужем</td>\n",
       "      <td>0</td>\n",
       "      <td>F</td>\n",
       "      <td>пенсионер</td>\n",
       "      <td>0</td>\n",
       "      <td>155999.806512</td>\n",
       "      <td>сделка с автомобилем</td>\n",
       "      <td>39.262261</td>\n",
       "    </tr>\n",
       "  </tbody>\n",
       "</table>\n",
       "<p>3445 rows × 13 columns</p>\n",
       "</div>"
      ],
      "text/plain": [
       "       children  days_employed  dob_years education  education_id  \\\n",
       "4             0  340266.072047         53   среднее             1   \n",
       "18            0  400281.136913         53   среднее             1   \n",
       "24            1  338551.952911         57   среднее             1   \n",
       "25            0  363548.489348         67   среднее             1   \n",
       "30            1  335581.668515         62   среднее             1   \n",
       "...         ...            ...        ...       ...           ...   \n",
       "21505         0  338904.866406         53   среднее             1   \n",
       "21508         0  386497.714078         62   среднее             1   \n",
       "21509         0  362161.054124         59    высшее             0   \n",
       "21518         0  373995.710838         59   СРЕДНЕЕ             1   \n",
       "21521         0  343937.404131         67   среднее             1   \n",
       "\n",
       "               family_status  family_status_id gender income_type  debt  \\\n",
       "4           гражданский брак                 1      F   пенсионер     0   \n",
       "18            вдовец / вдова                 2      F   пенсионер     0   \n",
       "24     Не женат / не замужем                 4      F   пенсионер     0   \n",
       "25           женат / замужем                 0      M   пенсионер     0   \n",
       "30           женат / замужем                 0      F   пенсионер     0   \n",
       "...                      ...               ...    ...         ...   ...   \n",
       "21505       гражданский брак                 1      M   пенсионер     0   \n",
       "21508        женат / замужем                 0      M   пенсионер     0   \n",
       "21509        женат / замужем                 0      M   пенсионер     0   \n",
       "21518        женат / замужем                 0      F   пенсионер     0   \n",
       "21521        женат / замужем                 0      F   пенсионер     0   \n",
       "\n",
       "        total_income                                purpose  years_employed  \n",
       "4      158616.077870                        сыграть свадьбу       38.843159  \n",
       "18      56823.777243     на покупку подержанного автомобиля       45.694194  \n",
       "24     290547.235997  операции с коммерческой недвижимостью       38.647483  \n",
       "25      55112.757732                   покупка недвижимости       41.500969  \n",
       "30     171456.067993  операции с коммерческой недвижимостью       38.308410  \n",
       "...              ...                                    ...             ...  \n",
       "21505   75439.993167                        сыграть свадьбу       38.687770  \n",
       "21508   72638.590915                           недвижимость       44.120744  \n",
       "21509   73029.059379               операции с недвижимостью       41.342586  \n",
       "21518  153864.650328                   сделка с автомобилем       42.693574  \n",
       "21521  155999.806512                   сделка с автомобилем       39.262261  \n",
       "\n",
       "[3445 rows x 13 columns]"
      ]
     },
     "execution_count": 12,
     "metadata": {},
     "output_type": "execute_result"
    }
   ],
   "source": [
    "#переведем значение столбца 'days_employed' в года\n",
    "\n",
    "days_employed_below_zero['years_employed'] = days_employed_below_zero['days_employed']/(24*365)\n",
    "\n",
    "days_employed_below_zero"
   ]
  },
  {
   "cell_type": "code",
   "execution_count": 13,
   "metadata": {},
   "outputs": [
    {
     "data": {
      "text/plain": [
       "60.0"
      ]
     },
     "execution_count": 13,
     "metadata": {},
     "output_type": "execute_result"
    }
   ],
   "source": [
    "#вычислим медианный возраст людей из нашего датафрейма\n",
    "\n",
    "dob_years_avg = days_employed_below_zero['dob_years'].median()\n",
    "dob_years_avg"
   ]
  },
  {
   "cell_type": "code",
   "execution_count": 14,
   "metadata": {},
   "outputs": [
    {
     "data": {
      "text/plain": [
       "41.691016697001274"
      ]
     },
     "execution_count": 14,
     "metadata": {},
     "output_type": "execute_result"
    }
   ],
   "source": [
    "#вычислим медианный стаж, полученный для данного датафрейма в годах\n",
    "\n",
    "years_employed_avg = days_employed_below_zero['years_employed'].median()\n",
    "years_employed_avg"
   ]
  },
  {
   "cell_type": "code",
   "execution_count": 15,
   "metadata": {},
   "outputs": [
    {
     "data": {
      "text/plain": [
       "18.308983302998726"
      ]
     },
     "execution_count": 15,
     "metadata": {},
     "output_type": "execute_result"
    }
   ],
   "source": [
    "#вычислим предполагаемую дату начала работы людей из данной группы\n",
    "\n",
    "start_employed = dob_years_avg-years_employed_avg\n",
    "start_employed"
   ]
  },
  {
   "cell_type": "markdown",
   "metadata": {},
   "source": [
    "<div style=\"border: 15px; border: 2px solid blue; padding: 15px;\">\n",
    "<b> Комментарий студента:</b>\n",
    "<hr>\n",
    "  Полученное значение start_employed подтвердило предположение о том, что данные по группе \"пенсионеры\" были выгружены некорректно ввиду какой-либо ошибки. \n",
    "</div>"
   ]
  },
  {
   "cell_type": "code",
   "execution_count": 16,
   "metadata": {},
   "outputs": [
    {
     "data": {
      "text/html": [
       "<div>\n",
       "<style scoped>\n",
       "    .dataframe tbody tr th:only-of-type {\n",
       "        vertical-align: middle;\n",
       "    }\n",
       "\n",
       "    .dataframe tbody tr th {\n",
       "        vertical-align: top;\n",
       "    }\n",
       "\n",
       "    .dataframe thead th {\n",
       "        text-align: right;\n",
       "    }\n",
       "</style>\n",
       "<table border=\"1\" class=\"dataframe\">\n",
       "  <thead>\n",
       "    <tr style=\"text-align: right;\">\n",
       "      <th></th>\n",
       "      <th>children</th>\n",
       "      <th>days_employed</th>\n",
       "      <th>dob_years</th>\n",
       "      <th>education</th>\n",
       "      <th>education_id</th>\n",
       "      <th>family_status</th>\n",
       "      <th>family_status_id</th>\n",
       "      <th>gender</th>\n",
       "      <th>income_type</th>\n",
       "      <th>debt</th>\n",
       "      <th>total_income</th>\n",
       "      <th>purpose</th>\n",
       "    </tr>\n",
       "  </thead>\n",
       "  <tbody>\n",
       "    <tr>\n",
       "      <td>0</td>\n",
       "      <td>1</td>\n",
       "      <td>-8437.673028</td>\n",
       "      <td>42</td>\n",
       "      <td>высшее</td>\n",
       "      <td>0</td>\n",
       "      <td>женат / замужем</td>\n",
       "      <td>0</td>\n",
       "      <td>F</td>\n",
       "      <td>сотрудник</td>\n",
       "      <td>0</td>\n",
       "      <td>253875.639453</td>\n",
       "      <td>покупка жилья</td>\n",
       "    </tr>\n",
       "    <tr>\n",
       "      <td>1</td>\n",
       "      <td>1</td>\n",
       "      <td>-4024.803754</td>\n",
       "      <td>36</td>\n",
       "      <td>среднее</td>\n",
       "      <td>1</td>\n",
       "      <td>женат / замужем</td>\n",
       "      <td>0</td>\n",
       "      <td>F</td>\n",
       "      <td>сотрудник</td>\n",
       "      <td>0</td>\n",
       "      <td>112080.014102</td>\n",
       "      <td>приобретение автомобиля</td>\n",
       "    </tr>\n",
       "    <tr>\n",
       "      <td>2</td>\n",
       "      <td>0</td>\n",
       "      <td>-5623.422610</td>\n",
       "      <td>33</td>\n",
       "      <td>Среднее</td>\n",
       "      <td>1</td>\n",
       "      <td>женат / замужем</td>\n",
       "      <td>0</td>\n",
       "      <td>M</td>\n",
       "      <td>сотрудник</td>\n",
       "      <td>0</td>\n",
       "      <td>145885.952297</td>\n",
       "      <td>покупка жилья</td>\n",
       "    </tr>\n",
       "    <tr>\n",
       "      <td>3</td>\n",
       "      <td>3</td>\n",
       "      <td>-4124.747207</td>\n",
       "      <td>32</td>\n",
       "      <td>среднее</td>\n",
       "      <td>1</td>\n",
       "      <td>женат / замужем</td>\n",
       "      <td>0</td>\n",
       "      <td>M</td>\n",
       "      <td>сотрудник</td>\n",
       "      <td>0</td>\n",
       "      <td>267628.550329</td>\n",
       "      <td>дополнительное образование</td>\n",
       "    </tr>\n",
       "    <tr>\n",
       "      <td>4</td>\n",
       "      <td>0</td>\n",
       "      <td>14177.753002</td>\n",
       "      <td>53</td>\n",
       "      <td>среднее</td>\n",
       "      <td>1</td>\n",
       "      <td>гражданский брак</td>\n",
       "      <td>1</td>\n",
       "      <td>F</td>\n",
       "      <td>пенсионер</td>\n",
       "      <td>0</td>\n",
       "      <td>158616.077870</td>\n",
       "      <td>сыграть свадьбу</td>\n",
       "    </tr>\n",
       "    <tr>\n",
       "      <td>...</td>\n",
       "      <td>...</td>\n",
       "      <td>...</td>\n",
       "      <td>...</td>\n",
       "      <td>...</td>\n",
       "      <td>...</td>\n",
       "      <td>...</td>\n",
       "      <td>...</td>\n",
       "      <td>...</td>\n",
       "      <td>...</td>\n",
       "      <td>...</td>\n",
       "      <td>...</td>\n",
       "      <td>...</td>\n",
       "    </tr>\n",
       "    <tr>\n",
       "      <td>21520</td>\n",
       "      <td>1</td>\n",
       "      <td>-4529.316663</td>\n",
       "      <td>43</td>\n",
       "      <td>среднее</td>\n",
       "      <td>1</td>\n",
       "      <td>гражданский брак</td>\n",
       "      <td>1</td>\n",
       "      <td>F</td>\n",
       "      <td>компаньон</td>\n",
       "      <td>0</td>\n",
       "      <td>224791.862382</td>\n",
       "      <td>операции с жильем</td>\n",
       "    </tr>\n",
       "    <tr>\n",
       "      <td>21521</td>\n",
       "      <td>0</td>\n",
       "      <td>14330.725172</td>\n",
       "      <td>67</td>\n",
       "      <td>среднее</td>\n",
       "      <td>1</td>\n",
       "      <td>женат / замужем</td>\n",
       "      <td>0</td>\n",
       "      <td>F</td>\n",
       "      <td>пенсионер</td>\n",
       "      <td>0</td>\n",
       "      <td>155999.806512</td>\n",
       "      <td>сделка с автомобилем</td>\n",
       "    </tr>\n",
       "    <tr>\n",
       "      <td>21522</td>\n",
       "      <td>1</td>\n",
       "      <td>-2113.346888</td>\n",
       "      <td>38</td>\n",
       "      <td>среднее</td>\n",
       "      <td>1</td>\n",
       "      <td>гражданский брак</td>\n",
       "      <td>1</td>\n",
       "      <td>M</td>\n",
       "      <td>сотрудник</td>\n",
       "      <td>1</td>\n",
       "      <td>89672.561153</td>\n",
       "      <td>недвижимость</td>\n",
       "    </tr>\n",
       "    <tr>\n",
       "      <td>21523</td>\n",
       "      <td>3</td>\n",
       "      <td>-3112.481705</td>\n",
       "      <td>38</td>\n",
       "      <td>среднее</td>\n",
       "      <td>1</td>\n",
       "      <td>женат / замужем</td>\n",
       "      <td>0</td>\n",
       "      <td>M</td>\n",
       "      <td>сотрудник</td>\n",
       "      <td>1</td>\n",
       "      <td>244093.050500</td>\n",
       "      <td>на покупку своего автомобиля</td>\n",
       "    </tr>\n",
       "    <tr>\n",
       "      <td>21524</td>\n",
       "      <td>2</td>\n",
       "      <td>-1984.507589</td>\n",
       "      <td>40</td>\n",
       "      <td>среднее</td>\n",
       "      <td>1</td>\n",
       "      <td>женат / замужем</td>\n",
       "      <td>0</td>\n",
       "      <td>F</td>\n",
       "      <td>сотрудник</td>\n",
       "      <td>0</td>\n",
       "      <td>82047.418899</td>\n",
       "      <td>на покупку автомобиля</td>\n",
       "    </tr>\n",
       "  </tbody>\n",
       "</table>\n",
       "<p>21525 rows × 12 columns</p>\n",
       "</div>"
      ],
      "text/plain": [
       "       children  days_employed  dob_years education  education_id  \\\n",
       "0             1   -8437.673028         42    высшее             0   \n",
       "1             1   -4024.803754         36   среднее             1   \n",
       "2             0   -5623.422610         33   Среднее             1   \n",
       "3             3   -4124.747207         32   среднее             1   \n",
       "4             0   14177.753002         53   среднее             1   \n",
       "...         ...            ...        ...       ...           ...   \n",
       "21520         1   -4529.316663         43   среднее             1   \n",
       "21521         0   14330.725172         67   среднее             1   \n",
       "21522         1   -2113.346888         38   среднее             1   \n",
       "21523         3   -3112.481705         38   среднее             1   \n",
       "21524         2   -1984.507589         40   среднее             1   \n",
       "\n",
       "          family_status  family_status_id gender income_type  debt  \\\n",
       "0       женат / замужем                 0      F   сотрудник     0   \n",
       "1       женат / замужем                 0      F   сотрудник     0   \n",
       "2       женат / замужем                 0      M   сотрудник     0   \n",
       "3       женат / замужем                 0      M   сотрудник     0   \n",
       "4      гражданский брак                 1      F   пенсионер     0   \n",
       "...                 ...               ...    ...         ...   ...   \n",
       "21520  гражданский брак                 1      F   компаньон     0   \n",
       "21521   женат / замужем                 0      F   пенсионер     0   \n",
       "21522  гражданский брак                 1      M   сотрудник     1   \n",
       "21523   женат / замужем                 0      M   сотрудник     1   \n",
       "21524   женат / замужем                 0      F   сотрудник     0   \n",
       "\n",
       "        total_income                       purpose  \n",
       "0      253875.639453                 покупка жилья  \n",
       "1      112080.014102       приобретение автомобиля  \n",
       "2      145885.952297                 покупка жилья  \n",
       "3      267628.550329    дополнительное образование  \n",
       "4      158616.077870               сыграть свадьбу  \n",
       "...              ...                           ...  \n",
       "21520  224791.862382             операции с жильем  \n",
       "21521  155999.806512          сделка с автомобилем  \n",
       "21522   89672.561153                  недвижимость  \n",
       "21523  244093.050500  на покупку своего автомобиля  \n",
       "21524   82047.418899         на покупку автомобиля  \n",
       "\n",
       "[21525 rows x 12 columns]"
      ]
     },
     "execution_count": 16,
     "metadata": {},
     "output_type": "execute_result"
    }
   ],
   "source": [
    "#посчитаем значение стажа в днях для категории \"пенсионеры\" в исходном датафрейме\n",
    "\n",
    "data['days_employed'] = np.where(data['days_employed']>0, data['days_employed']/24, data['days_employed'])\n",
    "\n",
    "data"
   ]
  },
  {
   "cell_type": "code",
   "execution_count": 17,
   "metadata": {},
   "outputs": [
    {
     "data": {
      "text/plain": [
       "15217.221094405466"
      ]
     },
     "execution_count": 17,
     "metadata": {},
     "output_type": "execute_result"
    }
   ],
   "source": [
    "#проверим теперь значение стажа в днях датафрейма с категорией \"пенсионеры\"\n",
    "data[data['income_type'] == 'пенсионер']['days_employed'].median()"
   ]
  },
  {
   "cell_type": "markdown",
   "metadata": {},
   "source": [
    "<div style=\"border: 15px; border: 2px solid blue; padding: 15px;\">\n",
    "<b> Комментарий студента:</b>\n",
    "<hr>\n",
    "  Теперь проанализируем отрицательные значения стоблца \"days_employed\" исходного датафрейма.\n",
    "</div>"
   ]
  },
  {
   "cell_type": "code",
   "execution_count": 18,
   "metadata": {},
   "outputs": [
    {
     "data": {
      "text/plain": [
       "-1630.0193809778216"
      ]
     },
     "execution_count": 18,
     "metadata": {},
     "output_type": "execute_result"
    }
   ],
   "source": [
    "# создадим новый датафрейм 'days_employed_abowe_zero'\n",
    "#и узнаем медианное значение стажа для датафрейма days_employed_abowe_zero\n",
    "\n",
    "days_employed_abowe_zero = data[data['days_employed']<=0]\n",
    "\n",
    "days_employed_med = days_employed_abowe_zero['days_employed'].median()\n",
    "\n",
    "days_employed_med"
   ]
  },
  {
   "cell_type": "code",
   "execution_count": 19,
   "metadata": {},
   "outputs": [
    {
     "data": {
      "text/plain": [
       "сотрудник          10014\n",
       "компаньон           4577\n",
       "госслужащий         1312\n",
       "предприниматель        1\n",
       "в декрете              1\n",
       "студент                1\n",
       "Name: income_type, dtype: int64"
      ]
     },
     "execution_count": 19,
     "metadata": {},
     "output_type": "execute_result"
    }
   ],
   "source": [
    "#посмотрим какие уникальные категории встречаются в полученном датафрейме\n",
    "days_employed_abowe_zero['income_type'].value_counts()"
   ]
  },
  {
   "cell_type": "code",
   "execution_count": 20,
   "metadata": {},
   "outputs": [
    {
     "data": {
      "text/plain": [
       "39.0"
      ]
     },
     "execution_count": 20,
     "metadata": {},
     "output_type": "execute_result"
    }
   ],
   "source": [
    "#также узнаем средний возраст людей датафрейма 'days_employed_abowe_zero'\n",
    "\n",
    "dob_years_med = days_employed_abowe_zero['dob_years'].median()\n",
    "\n",
    "dob_years_med"
   ]
  },
  {
   "cell_type": "code",
   "execution_count": 21,
   "metadata": {},
   "outputs": [
    {
     "data": {
      "text/plain": [
       "-4.465806523226909"
      ]
     },
     "execution_count": 21,
     "metadata": {},
     "output_type": "execute_result"
    }
   ],
   "source": [
    "#узнаем стаж в годах людей датафрейма 'days_employed_abowe_zero'\n",
    "\n",
    "avg = days_employed_med/365\n",
    "\n",
    "avg"
   ]
  },
  {
   "cell_type": "markdown",
   "metadata": {},
   "source": [
    "<div style=\"border: 15px; border: 2px solid blue; padding: 15px;\">\n",
    "<b> Комментарий студента:</b>\n",
    "<hr>\n",
    "  Полученные выше результаты говорят о том, что данные вполне реальны и ошибка закралась в данные при выгрузке. Освободим наши данные от знака минус в исходном датафрейме.\n",
    "</div>"
   ]
  },
  {
   "cell_type": "code",
   "execution_count": 22,
   "metadata": {},
   "outputs": [
    {
     "data": {
      "text/html": [
       "<div>\n",
       "<style scoped>\n",
       "    .dataframe tbody tr th:only-of-type {\n",
       "        vertical-align: middle;\n",
       "    }\n",
       "\n",
       "    .dataframe tbody tr th {\n",
       "        vertical-align: top;\n",
       "    }\n",
       "\n",
       "    .dataframe thead th {\n",
       "        text-align: right;\n",
       "    }\n",
       "</style>\n",
       "<table border=\"1\" class=\"dataframe\">\n",
       "  <thead>\n",
       "    <tr style=\"text-align: right;\">\n",
       "      <th></th>\n",
       "      <th>children</th>\n",
       "      <th>days_employed</th>\n",
       "      <th>dob_years</th>\n",
       "      <th>education</th>\n",
       "      <th>education_id</th>\n",
       "      <th>family_status</th>\n",
       "      <th>family_status_id</th>\n",
       "      <th>gender</th>\n",
       "      <th>income_type</th>\n",
       "      <th>debt</th>\n",
       "      <th>total_income</th>\n",
       "      <th>purpose</th>\n",
       "    </tr>\n",
       "  </thead>\n",
       "  <tbody>\n",
       "    <tr>\n",
       "      <td>0</td>\n",
       "      <td>1</td>\n",
       "      <td>8437.673028</td>\n",
       "      <td>42</td>\n",
       "      <td>высшее</td>\n",
       "      <td>0</td>\n",
       "      <td>женат / замужем</td>\n",
       "      <td>0</td>\n",
       "      <td>F</td>\n",
       "      <td>сотрудник</td>\n",
       "      <td>0</td>\n",
       "      <td>253875.639453</td>\n",
       "      <td>покупка жилья</td>\n",
       "    </tr>\n",
       "    <tr>\n",
       "      <td>1</td>\n",
       "      <td>1</td>\n",
       "      <td>4024.803754</td>\n",
       "      <td>36</td>\n",
       "      <td>среднее</td>\n",
       "      <td>1</td>\n",
       "      <td>женат / замужем</td>\n",
       "      <td>0</td>\n",
       "      <td>F</td>\n",
       "      <td>сотрудник</td>\n",
       "      <td>0</td>\n",
       "      <td>112080.014102</td>\n",
       "      <td>приобретение автомобиля</td>\n",
       "    </tr>\n",
       "    <tr>\n",
       "      <td>2</td>\n",
       "      <td>0</td>\n",
       "      <td>5623.422610</td>\n",
       "      <td>33</td>\n",
       "      <td>Среднее</td>\n",
       "      <td>1</td>\n",
       "      <td>женат / замужем</td>\n",
       "      <td>0</td>\n",
       "      <td>M</td>\n",
       "      <td>сотрудник</td>\n",
       "      <td>0</td>\n",
       "      <td>145885.952297</td>\n",
       "      <td>покупка жилья</td>\n",
       "    </tr>\n",
       "    <tr>\n",
       "      <td>3</td>\n",
       "      <td>3</td>\n",
       "      <td>4124.747207</td>\n",
       "      <td>32</td>\n",
       "      <td>среднее</td>\n",
       "      <td>1</td>\n",
       "      <td>женат / замужем</td>\n",
       "      <td>0</td>\n",
       "      <td>M</td>\n",
       "      <td>сотрудник</td>\n",
       "      <td>0</td>\n",
       "      <td>267628.550329</td>\n",
       "      <td>дополнительное образование</td>\n",
       "    </tr>\n",
       "    <tr>\n",
       "      <td>4</td>\n",
       "      <td>0</td>\n",
       "      <td>14177.753002</td>\n",
       "      <td>53</td>\n",
       "      <td>среднее</td>\n",
       "      <td>1</td>\n",
       "      <td>гражданский брак</td>\n",
       "      <td>1</td>\n",
       "      <td>F</td>\n",
       "      <td>пенсионер</td>\n",
       "      <td>0</td>\n",
       "      <td>158616.077870</td>\n",
       "      <td>сыграть свадьбу</td>\n",
       "    </tr>\n",
       "    <tr>\n",
       "      <td>...</td>\n",
       "      <td>...</td>\n",
       "      <td>...</td>\n",
       "      <td>...</td>\n",
       "      <td>...</td>\n",
       "      <td>...</td>\n",
       "      <td>...</td>\n",
       "      <td>...</td>\n",
       "      <td>...</td>\n",
       "      <td>...</td>\n",
       "      <td>...</td>\n",
       "      <td>...</td>\n",
       "      <td>...</td>\n",
       "    </tr>\n",
       "    <tr>\n",
       "      <td>21520</td>\n",
       "      <td>1</td>\n",
       "      <td>4529.316663</td>\n",
       "      <td>43</td>\n",
       "      <td>среднее</td>\n",
       "      <td>1</td>\n",
       "      <td>гражданский брак</td>\n",
       "      <td>1</td>\n",
       "      <td>F</td>\n",
       "      <td>компаньон</td>\n",
       "      <td>0</td>\n",
       "      <td>224791.862382</td>\n",
       "      <td>операции с жильем</td>\n",
       "    </tr>\n",
       "    <tr>\n",
       "      <td>21521</td>\n",
       "      <td>0</td>\n",
       "      <td>14330.725172</td>\n",
       "      <td>67</td>\n",
       "      <td>среднее</td>\n",
       "      <td>1</td>\n",
       "      <td>женат / замужем</td>\n",
       "      <td>0</td>\n",
       "      <td>F</td>\n",
       "      <td>пенсионер</td>\n",
       "      <td>0</td>\n",
       "      <td>155999.806512</td>\n",
       "      <td>сделка с автомобилем</td>\n",
       "    </tr>\n",
       "    <tr>\n",
       "      <td>21522</td>\n",
       "      <td>1</td>\n",
       "      <td>2113.346888</td>\n",
       "      <td>38</td>\n",
       "      <td>среднее</td>\n",
       "      <td>1</td>\n",
       "      <td>гражданский брак</td>\n",
       "      <td>1</td>\n",
       "      <td>M</td>\n",
       "      <td>сотрудник</td>\n",
       "      <td>1</td>\n",
       "      <td>89672.561153</td>\n",
       "      <td>недвижимость</td>\n",
       "    </tr>\n",
       "    <tr>\n",
       "      <td>21523</td>\n",
       "      <td>3</td>\n",
       "      <td>3112.481705</td>\n",
       "      <td>38</td>\n",
       "      <td>среднее</td>\n",
       "      <td>1</td>\n",
       "      <td>женат / замужем</td>\n",
       "      <td>0</td>\n",
       "      <td>M</td>\n",
       "      <td>сотрудник</td>\n",
       "      <td>1</td>\n",
       "      <td>244093.050500</td>\n",
       "      <td>на покупку своего автомобиля</td>\n",
       "    </tr>\n",
       "    <tr>\n",
       "      <td>21524</td>\n",
       "      <td>2</td>\n",
       "      <td>1984.507589</td>\n",
       "      <td>40</td>\n",
       "      <td>среднее</td>\n",
       "      <td>1</td>\n",
       "      <td>женат / замужем</td>\n",
       "      <td>0</td>\n",
       "      <td>F</td>\n",
       "      <td>сотрудник</td>\n",
       "      <td>0</td>\n",
       "      <td>82047.418899</td>\n",
       "      <td>на покупку автомобиля</td>\n",
       "    </tr>\n",
       "  </tbody>\n",
       "</table>\n",
       "<p>21525 rows × 12 columns</p>\n",
       "</div>"
      ],
      "text/plain": [
       "       children  days_employed  dob_years education  education_id  \\\n",
       "0             1    8437.673028         42    высшее             0   \n",
       "1             1    4024.803754         36   среднее             1   \n",
       "2             0    5623.422610         33   Среднее             1   \n",
       "3             3    4124.747207         32   среднее             1   \n",
       "4             0   14177.753002         53   среднее             1   \n",
       "...         ...            ...        ...       ...           ...   \n",
       "21520         1    4529.316663         43   среднее             1   \n",
       "21521         0   14330.725172         67   среднее             1   \n",
       "21522         1    2113.346888         38   среднее             1   \n",
       "21523         3    3112.481705         38   среднее             1   \n",
       "21524         2    1984.507589         40   среднее             1   \n",
       "\n",
       "          family_status  family_status_id gender income_type  debt  \\\n",
       "0       женат / замужем                 0      F   сотрудник     0   \n",
       "1       женат / замужем                 0      F   сотрудник     0   \n",
       "2       женат / замужем                 0      M   сотрудник     0   \n",
       "3       женат / замужем                 0      M   сотрудник     0   \n",
       "4      гражданский брак                 1      F   пенсионер     0   \n",
       "...                 ...               ...    ...         ...   ...   \n",
       "21520  гражданский брак                 1      F   компаньон     0   \n",
       "21521   женат / замужем                 0      F   пенсионер     0   \n",
       "21522  гражданский брак                 1      M   сотрудник     1   \n",
       "21523   женат / замужем                 0      M   сотрудник     1   \n",
       "21524   женат / замужем                 0      F   сотрудник     0   \n",
       "\n",
       "        total_income                       purpose  \n",
       "0      253875.639453                 покупка жилья  \n",
       "1      112080.014102       приобретение автомобиля  \n",
       "2      145885.952297                 покупка жилья  \n",
       "3      267628.550329    дополнительное образование  \n",
       "4      158616.077870               сыграть свадьбу  \n",
       "...              ...                           ...  \n",
       "21520  224791.862382             операции с жильем  \n",
       "21521  155999.806512          сделка с автомобилем  \n",
       "21522   89672.561153                  недвижимость  \n",
       "21523  244093.050500  на покупку своего автомобиля  \n",
       "21524   82047.418899         на покупку автомобиля  \n",
       "\n",
       "[21525 rows x 12 columns]"
      ]
     },
     "execution_count": 22,
     "metadata": {},
     "output_type": "execute_result"
    }
   ],
   "source": [
    "#сделаем так, чтобы все значения столбца \"days_employed\" исходного датафрейма стали положительными\n",
    "data['days_employed'] = abs(data['days_employed'])\n",
    "\n",
    "data"
   ]
  },
  {
   "cell_type": "markdown",
   "metadata": {},
   "source": [
    "<div style=\"border: 15px; border: 2px solid blue; padding: 15px;\">\n",
    "<b> Комментарий студента:</b>\n",
    "<hr>\n",
    "  Далее заменим пропущенные значения столбца 'days_employed' и 'total_income' медианными значениями в зависимости от значения в столбце 'income_type'.\n",
    "</div>"
   ]
  },
  {
   "cell_type": "code",
   "execution_count": 23,
   "metadata": {},
   "outputs": [
    {
     "data": {
      "text/html": [
       "<div>\n",
       "<style scoped>\n",
       "    .dataframe tbody tr th:only-of-type {\n",
       "        vertical-align: middle;\n",
       "    }\n",
       "\n",
       "    .dataframe tbody tr th {\n",
       "        vertical-align: top;\n",
       "    }\n",
       "\n",
       "    .dataframe thead th {\n",
       "        text-align: right;\n",
       "    }\n",
       "</style>\n",
       "<table border=\"1\" class=\"dataframe\">\n",
       "  <thead>\n",
       "    <tr style=\"text-align: right;\">\n",
       "      <th></th>\n",
       "      <th>children</th>\n",
       "      <th>days_employed</th>\n",
       "      <th>dob_years</th>\n",
       "      <th>education</th>\n",
       "      <th>education_id</th>\n",
       "      <th>family_status</th>\n",
       "      <th>family_status_id</th>\n",
       "      <th>gender</th>\n",
       "      <th>income_type</th>\n",
       "      <th>debt</th>\n",
       "      <th>total_income</th>\n",
       "      <th>purpose</th>\n",
       "    </tr>\n",
       "  </thead>\n",
       "  <tbody>\n",
       "    <tr>\n",
       "      <td>0</td>\n",
       "      <td>1</td>\n",
       "      <td>8437.673028</td>\n",
       "      <td>42</td>\n",
       "      <td>высшее</td>\n",
       "      <td>0</td>\n",
       "      <td>женат / замужем</td>\n",
       "      <td>0</td>\n",
       "      <td>F</td>\n",
       "      <td>сотрудник</td>\n",
       "      <td>0</td>\n",
       "      <td>253875.639453</td>\n",
       "      <td>покупка жилья</td>\n",
       "    </tr>\n",
       "    <tr>\n",
       "      <td>1</td>\n",
       "      <td>1</td>\n",
       "      <td>4024.803754</td>\n",
       "      <td>36</td>\n",
       "      <td>среднее</td>\n",
       "      <td>1</td>\n",
       "      <td>женат / замужем</td>\n",
       "      <td>0</td>\n",
       "      <td>F</td>\n",
       "      <td>сотрудник</td>\n",
       "      <td>0</td>\n",
       "      <td>112080.014102</td>\n",
       "      <td>приобретение автомобиля</td>\n",
       "    </tr>\n",
       "    <tr>\n",
       "      <td>2</td>\n",
       "      <td>0</td>\n",
       "      <td>5623.422610</td>\n",
       "      <td>33</td>\n",
       "      <td>Среднее</td>\n",
       "      <td>1</td>\n",
       "      <td>женат / замужем</td>\n",
       "      <td>0</td>\n",
       "      <td>M</td>\n",
       "      <td>сотрудник</td>\n",
       "      <td>0</td>\n",
       "      <td>145885.952297</td>\n",
       "      <td>покупка жилья</td>\n",
       "    </tr>\n",
       "    <tr>\n",
       "      <td>3</td>\n",
       "      <td>3</td>\n",
       "      <td>4124.747207</td>\n",
       "      <td>32</td>\n",
       "      <td>среднее</td>\n",
       "      <td>1</td>\n",
       "      <td>женат / замужем</td>\n",
       "      <td>0</td>\n",
       "      <td>M</td>\n",
       "      <td>сотрудник</td>\n",
       "      <td>0</td>\n",
       "      <td>267628.550329</td>\n",
       "      <td>дополнительное образование</td>\n",
       "    </tr>\n",
       "    <tr>\n",
       "      <td>4</td>\n",
       "      <td>0</td>\n",
       "      <td>14177.753002</td>\n",
       "      <td>53</td>\n",
       "      <td>среднее</td>\n",
       "      <td>1</td>\n",
       "      <td>гражданский брак</td>\n",
       "      <td>1</td>\n",
       "      <td>F</td>\n",
       "      <td>пенсионер</td>\n",
       "      <td>0</td>\n",
       "      <td>158616.077870</td>\n",
       "      <td>сыграть свадьбу</td>\n",
       "    </tr>\n",
       "    <tr>\n",
       "      <td>...</td>\n",
       "      <td>...</td>\n",
       "      <td>...</td>\n",
       "      <td>...</td>\n",
       "      <td>...</td>\n",
       "      <td>...</td>\n",
       "      <td>...</td>\n",
       "      <td>...</td>\n",
       "      <td>...</td>\n",
       "      <td>...</td>\n",
       "      <td>...</td>\n",
       "      <td>...</td>\n",
       "      <td>...</td>\n",
       "    </tr>\n",
       "    <tr>\n",
       "      <td>21520</td>\n",
       "      <td>1</td>\n",
       "      <td>4529.316663</td>\n",
       "      <td>43</td>\n",
       "      <td>среднее</td>\n",
       "      <td>1</td>\n",
       "      <td>гражданский брак</td>\n",
       "      <td>1</td>\n",
       "      <td>F</td>\n",
       "      <td>компаньон</td>\n",
       "      <td>0</td>\n",
       "      <td>224791.862382</td>\n",
       "      <td>операции с жильем</td>\n",
       "    </tr>\n",
       "    <tr>\n",
       "      <td>21521</td>\n",
       "      <td>0</td>\n",
       "      <td>14330.725172</td>\n",
       "      <td>67</td>\n",
       "      <td>среднее</td>\n",
       "      <td>1</td>\n",
       "      <td>женат / замужем</td>\n",
       "      <td>0</td>\n",
       "      <td>F</td>\n",
       "      <td>пенсионер</td>\n",
       "      <td>0</td>\n",
       "      <td>155999.806512</td>\n",
       "      <td>сделка с автомобилем</td>\n",
       "    </tr>\n",
       "    <tr>\n",
       "      <td>21522</td>\n",
       "      <td>1</td>\n",
       "      <td>2113.346888</td>\n",
       "      <td>38</td>\n",
       "      <td>среднее</td>\n",
       "      <td>1</td>\n",
       "      <td>гражданский брак</td>\n",
       "      <td>1</td>\n",
       "      <td>M</td>\n",
       "      <td>сотрудник</td>\n",
       "      <td>1</td>\n",
       "      <td>89672.561153</td>\n",
       "      <td>недвижимость</td>\n",
       "    </tr>\n",
       "    <tr>\n",
       "      <td>21523</td>\n",
       "      <td>3</td>\n",
       "      <td>3112.481705</td>\n",
       "      <td>38</td>\n",
       "      <td>среднее</td>\n",
       "      <td>1</td>\n",
       "      <td>женат / замужем</td>\n",
       "      <td>0</td>\n",
       "      <td>M</td>\n",
       "      <td>сотрудник</td>\n",
       "      <td>1</td>\n",
       "      <td>244093.050500</td>\n",
       "      <td>на покупку своего автомобиля</td>\n",
       "    </tr>\n",
       "    <tr>\n",
       "      <td>21524</td>\n",
       "      <td>2</td>\n",
       "      <td>1984.507589</td>\n",
       "      <td>40</td>\n",
       "      <td>среднее</td>\n",
       "      <td>1</td>\n",
       "      <td>женат / замужем</td>\n",
       "      <td>0</td>\n",
       "      <td>F</td>\n",
       "      <td>сотрудник</td>\n",
       "      <td>0</td>\n",
       "      <td>82047.418899</td>\n",
       "      <td>на покупку автомобиля</td>\n",
       "    </tr>\n",
       "  </tbody>\n",
       "</table>\n",
       "<p>21525 rows × 12 columns</p>\n",
       "</div>"
      ],
      "text/plain": [
       "       children  days_employed  dob_years education  education_id  \\\n",
       "0             1    8437.673028         42    высшее             0   \n",
       "1             1    4024.803754         36   среднее             1   \n",
       "2             0    5623.422610         33   Среднее             1   \n",
       "3             3    4124.747207         32   среднее             1   \n",
       "4             0   14177.753002         53   среднее             1   \n",
       "...         ...            ...        ...       ...           ...   \n",
       "21520         1    4529.316663         43   среднее             1   \n",
       "21521         0   14330.725172         67   среднее             1   \n",
       "21522         1    2113.346888         38   среднее             1   \n",
       "21523         3    3112.481705         38   среднее             1   \n",
       "21524         2    1984.507589         40   среднее             1   \n",
       "\n",
       "          family_status  family_status_id gender income_type  debt  \\\n",
       "0       женат / замужем                 0      F   сотрудник     0   \n",
       "1       женат / замужем                 0      F   сотрудник     0   \n",
       "2       женат / замужем                 0      M   сотрудник     0   \n",
       "3       женат / замужем                 0      M   сотрудник     0   \n",
       "4      гражданский брак                 1      F   пенсионер     0   \n",
       "...                 ...               ...    ...         ...   ...   \n",
       "21520  гражданский брак                 1      F   компаньон     0   \n",
       "21521   женат / замужем                 0      F   пенсионер     0   \n",
       "21522  гражданский брак                 1      M   сотрудник     1   \n",
       "21523   женат / замужем                 0      M   сотрудник     1   \n",
       "21524   женат / замужем                 0      F   сотрудник     0   \n",
       "\n",
       "        total_income                       purpose  \n",
       "0      253875.639453                 покупка жилья  \n",
       "1      112080.014102       приобретение автомобиля  \n",
       "2      145885.952297                 покупка жилья  \n",
       "3      267628.550329    дополнительное образование  \n",
       "4      158616.077870               сыграть свадьбу  \n",
       "...              ...                           ...  \n",
       "21520  224791.862382             операции с жильем  \n",
       "21521  155999.806512          сделка с автомобилем  \n",
       "21522   89672.561153                  недвижимость  \n",
       "21523  244093.050500  на покупку своего автомобиля  \n",
       "21524   82047.418899         на покупку автомобиля  \n",
       "\n",
       "[21525 rows x 12 columns]"
      ]
     },
     "execution_count": 23,
     "metadata": {},
     "output_type": "execute_result"
    }
   ],
   "source": [
    "#произведем замену пустых значений столбцов 'days_employed' и 'total_income' медианными значениями \n",
    "#в зависимости от значения в столбце 'income_type'.\n",
    "\n",
    "for column in ['days_employed', 'total_income']:\n",
    "    data[column] = data[column].fillna(data.groupby('income_type')[column].transform('median')) \n",
    "\n",
    "data"
   ]
  },
  {
   "cell_type": "code",
   "execution_count": 24,
   "metadata": {},
   "outputs": [
    {
     "data": {
      "text/plain": [
       "children            0\n",
       "days_employed       0\n",
       "dob_years           0\n",
       "education           0\n",
       "education_id        0\n",
       "family_status       0\n",
       "family_status_id    0\n",
       "gender              0\n",
       "income_type         0\n",
       "debt                0\n",
       "total_income        0\n",
       "purpose             0\n",
       "dtype: int64"
      ]
     },
     "execution_count": 24,
     "metadata": {},
     "output_type": "execute_result"
    }
   ],
   "source": [
    "#проверим датафрейм на наличие пропущенных данных\n",
    "data.isna().sum()"
   ]
  },
  {
   "cell_type": "markdown",
   "metadata": {},
   "source": [
    "<div style=\"border: 15px; border: 2px solid blue; padding: 15px;\">\n",
    "<b> Комментарий студента:</b>\n",
    "<hr>\n",
    "  Как можно заметить, в датафрейме не осталось строк с пропущенными значениями. Теперь перейдем к исправлению данных в столбцах 'children' и 'gender'.\n",
    "</div>"
   ]
  },
  {
   "cell_type": "code",
   "execution_count": 25,
   "metadata": {},
   "outputs": [
    {
     "data": {
      "text/plain": [
       " 0     14149\n",
       " 1      4818\n",
       " 2      2055\n",
       " 3       330\n",
       " 20       76\n",
       "-1        47\n",
       " 4        41\n",
       " 5         9\n",
       "Name: children, dtype: int64"
      ]
     },
     "execution_count": 25,
     "metadata": {},
     "output_type": "execute_result"
    }
   ],
   "source": [
    "#в столбце 'children' имеются отрицательное значение и аномально большие. \n",
    "\n",
    "data['children'].value_counts()"
   ]
  },
  {
   "cell_type": "code",
   "execution_count": 26,
   "metadata": {},
   "outputs": [],
   "source": [
    "#Заменим значения стоблца 'children' у даннных строк на ноль.\n",
    "\n",
    "data['children'] = np.where(((data['children'] >= 20) | (data['children'] < 0)), 0, data['children'])"
   ]
  },
  {
   "cell_type": "code",
   "execution_count": 27,
   "metadata": {},
   "outputs": [
    {
     "data": {
      "text/plain": [
       "0    14272\n",
       "1     4818\n",
       "2     2055\n",
       "3      330\n",
       "4       41\n",
       "5        9\n",
       "Name: children, dtype: int64"
      ]
     },
     "execution_count": 27,
     "metadata": {},
     "output_type": "execute_result"
    }
   ],
   "source": [
    "#проверим изменения\n",
    "data['children'].value_counts()"
   ]
  },
  {
   "cell_type": "code",
   "execution_count": 28,
   "metadata": {},
   "outputs": [
    {
     "data": {
      "text/plain": [
       "F      14236\n",
       "M       7288\n",
       "XNA        1\n",
       "Name: gender, dtype: int64"
      ]
     },
     "execution_count": 28,
     "metadata": {},
     "output_type": "execute_result"
    }
   ],
   "source": [
    "#также в нашем датфрейме есть непонятное значение в столбце 'gender'\n",
    "\n",
    "data['gender'].value_counts()"
   ]
  },
  {
   "cell_type": "code",
   "execution_count": 29,
   "metadata": {},
   "outputs": [
    {
     "data": {
      "text/plain": [
       "F    14236\n",
       "M     7288\n",
       "Name: gender, dtype: int64"
      ]
     },
     "execution_count": 29,
     "metadata": {},
     "output_type": "execute_result"
    }
   ],
   "source": [
    "#полностью удалим данную строку\n",
    "gender_xna = data['gender'] == 'XNA'\n",
    "\n",
    "data['gender'] = data['gender'][~gender_xna]\n",
    "data['gender'].value_counts()"
   ]
  },
  {
   "cell_type": "markdown",
   "metadata": {},
   "source": [
    "**Вывод**"
   ]
  },
  {
   "cell_type": "markdown",
   "metadata": {},
   "source": [
    "В данном разделе была проведена обработка 2174 пропусков. Пропуски были заменены на медианные значения в зависимости от групп. Также была проведена работа по приведению данных в надлежащий вид. Обработаны отрицательные и аномальные значения столбцов \"days_employed\" и \"children\", также обработан столбец \"gender\"."
   ]
  },
  {
   "cell_type": "markdown",
   "metadata": {},
   "source": [
    "### Замена типа данных"
   ]
  },
  {
   "cell_type": "markdown",
   "metadata": {},
   "source": [
    "<div style=\"border: 15px; border: 2px solid blue; padding: 15px;\">\n",
    "<b> Комментарий студента:</b>\n",
    "<hr>\n",
    "    Видно, что категориальные переменные 'education_id', 'family_status_id' и 'debt' неверно записаны как количественные переменные: им присвоен тип int (используется для представления целых чисел). Преобразуем категориальные переменные 'education_id', 'family_status_id' и 'debt' в тип данных 'object'. Также преобразуем тип переменных 'days_employed' и 'total_income' из вещественного типа в целочисленный.       \n",
    "</div>\n"
   ]
  },
  {
   "cell_type": "code",
   "execution_count": 30,
   "metadata": {},
   "outputs": [],
   "source": [
    "#преобразуем категориальные переменные 'education_id', 'family_status_id' и 'debt' в тип данных 'object'\n",
    "for i in ['education_id', 'family_status_id', 'debt']:\n",
    "    if i in data.columns:\n",
    "        data[i]=data[i].astype('object')"
   ]
  },
  {
   "cell_type": "code",
   "execution_count": 31,
   "metadata": {},
   "outputs": [],
   "source": [
    "#преобразуем вещественные переменные 'days_employed' и 'total_income' в тип данных 'int'\n",
    "for i in ['days_employed', 'total_income' ]:\n",
    "    if i in data.columns:\n",
    "        data[i]=data[i].astype('int')"
   ]
  },
  {
   "cell_type": "code",
   "execution_count": 32,
   "metadata": {},
   "outputs": [
    {
     "name": "stdout",
     "output_type": "stream",
     "text": [
      "<class 'pandas.core.frame.DataFrame'>\n",
      "RangeIndex: 21525 entries, 0 to 21524\n",
      "Data columns (total 12 columns):\n",
      "children            21525 non-null int64\n",
      "days_employed       21525 non-null int64\n",
      "dob_years           21525 non-null int64\n",
      "education           21525 non-null object\n",
      "education_id        21525 non-null object\n",
      "family_status       21525 non-null object\n",
      "family_status_id    21525 non-null object\n",
      "gender              21524 non-null object\n",
      "income_type         21525 non-null object\n",
      "debt                21525 non-null object\n",
      "total_income        21525 non-null int64\n",
      "purpose             21525 non-null object\n",
      "dtypes: int64(4), object(8)\n",
      "memory usage: 2.0+ MB\n"
     ]
    }
   ],
   "source": [
    "#проверим внесенные изменения\n",
    "data.info()"
   ]
  },
  {
   "cell_type": "markdown",
   "metadata": {},
   "source": [
    "**Вывод**"
   ]
  },
  {
   "cell_type": "markdown",
   "metadata": {},
   "source": [
    "В данном разделе неверно записанным переменным 'days_employed', 'total_income', 'education_id', 'family_status_id' и 'debt' был присвоен верный тип. Теперь все переменные в нашем датафрейме обладают соответствующим типом данных."
   ]
  },
  {
   "cell_type": "markdown",
   "metadata": {},
   "source": [
    "### Обработка дубликатов"
   ]
  },
  {
   "cell_type": "code",
   "execution_count": 33,
   "metadata": {},
   "outputs": [],
   "source": [
    "# для начала изменим регистр в столбце 'education'\n",
    "\n",
    "data['education'] = data['education'].str.lower()"
   ]
  },
  {
   "cell_type": "code",
   "execution_count": 34,
   "metadata": {},
   "outputs": [
    {
     "data": {
      "text/plain": [
       "71"
      ]
     },
     "execution_count": 34,
     "metadata": {},
     "output_type": "execute_result"
    }
   ],
   "source": [
    "#посчитаем количество строк-дубликатов в датафрейме\n",
    "data.duplicated().sum()"
   ]
  },
  {
   "cell_type": "code",
   "execution_count": 35,
   "metadata": {},
   "outputs": [
    {
     "data": {
      "text/plain": [
       "(21525, 12)"
      ]
     },
     "execution_count": 35,
     "metadata": {},
     "output_type": "execute_result"
    }
   ],
   "source": [
    "#узнаем размер исходного датафрейма\n",
    "\n",
    "shape_table = data.shape\n",
    "\n",
    "shape_table"
   ]
  },
  {
   "cell_type": "code",
   "execution_count": 36,
   "metadata": {},
   "outputs": [
    {
     "data": {
      "text/html": [
       "<div>\n",
       "<style scoped>\n",
       "    .dataframe tbody tr th:only-of-type {\n",
       "        vertical-align: middle;\n",
       "    }\n",
       "\n",
       "    .dataframe tbody tr th {\n",
       "        vertical-align: top;\n",
       "    }\n",
       "\n",
       "    .dataframe thead th {\n",
       "        text-align: right;\n",
       "    }\n",
       "</style>\n",
       "<table border=\"1\" class=\"dataframe\">\n",
       "  <thead>\n",
       "    <tr style=\"text-align: right;\">\n",
       "      <th></th>\n",
       "      <th>children</th>\n",
       "      <th>days_employed</th>\n",
       "      <th>dob_years</th>\n",
       "      <th>education</th>\n",
       "      <th>education_id</th>\n",
       "      <th>family_status</th>\n",
       "      <th>family_status_id</th>\n",
       "      <th>gender</th>\n",
       "      <th>income_type</th>\n",
       "      <th>debt</th>\n",
       "      <th>total_income</th>\n",
       "      <th>purpose</th>\n",
       "    </tr>\n",
       "  </thead>\n",
       "  <tbody>\n",
       "    <tr>\n",
       "      <td>2849</td>\n",
       "      <td>0</td>\n",
       "      <td>1574</td>\n",
       "      <td>41</td>\n",
       "      <td>среднее</td>\n",
       "      <td>1</td>\n",
       "      <td>женат / замужем</td>\n",
       "      <td>0</td>\n",
       "      <td>F</td>\n",
       "      <td>сотрудник</td>\n",
       "      <td>0</td>\n",
       "      <td>142594</td>\n",
       "      <td>покупка жилья для семьи</td>\n",
       "    </tr>\n",
       "    <tr>\n",
       "      <td>3290</td>\n",
       "      <td>0</td>\n",
       "      <td>15217</td>\n",
       "      <td>58</td>\n",
       "      <td>среднее</td>\n",
       "      <td>1</td>\n",
       "      <td>гражданский брак</td>\n",
       "      <td>1</td>\n",
       "      <td>F</td>\n",
       "      <td>пенсионер</td>\n",
       "      <td>0</td>\n",
       "      <td>118514</td>\n",
       "      <td>сыграть свадьбу</td>\n",
       "    </tr>\n",
       "    <tr>\n",
       "      <td>4182</td>\n",
       "      <td>1</td>\n",
       "      <td>1574</td>\n",
       "      <td>34</td>\n",
       "      <td>высшее</td>\n",
       "      <td>0</td>\n",
       "      <td>гражданский брак</td>\n",
       "      <td>1</td>\n",
       "      <td>F</td>\n",
       "      <td>сотрудник</td>\n",
       "      <td>0</td>\n",
       "      <td>142594</td>\n",
       "      <td>свадьба</td>\n",
       "    </tr>\n",
       "    <tr>\n",
       "      <td>4851</td>\n",
       "      <td>0</td>\n",
       "      <td>15217</td>\n",
       "      <td>60</td>\n",
       "      <td>среднее</td>\n",
       "      <td>1</td>\n",
       "      <td>гражданский брак</td>\n",
       "      <td>1</td>\n",
       "      <td>F</td>\n",
       "      <td>пенсионер</td>\n",
       "      <td>0</td>\n",
       "      <td>118514</td>\n",
       "      <td>свадьба</td>\n",
       "    </tr>\n",
       "    <tr>\n",
       "      <td>5557</td>\n",
       "      <td>0</td>\n",
       "      <td>15217</td>\n",
       "      <td>58</td>\n",
       "      <td>среднее</td>\n",
       "      <td>1</td>\n",
       "      <td>гражданский брак</td>\n",
       "      <td>1</td>\n",
       "      <td>F</td>\n",
       "      <td>пенсионер</td>\n",
       "      <td>0</td>\n",
       "      <td>118514</td>\n",
       "      <td>сыграть свадьбу</td>\n",
       "    </tr>\n",
       "    <tr>\n",
       "      <td>6312</td>\n",
       "      <td>0</td>\n",
       "      <td>1574</td>\n",
       "      <td>30</td>\n",
       "      <td>среднее</td>\n",
       "      <td>1</td>\n",
       "      <td>женат / замужем</td>\n",
       "      <td>0</td>\n",
       "      <td>M</td>\n",
       "      <td>сотрудник</td>\n",
       "      <td>0</td>\n",
       "      <td>142594</td>\n",
       "      <td>строительство жилой недвижимости</td>\n",
       "    </tr>\n",
       "    <tr>\n",
       "      <td>7808</td>\n",
       "      <td>0</td>\n",
       "      <td>15217</td>\n",
       "      <td>57</td>\n",
       "      <td>среднее</td>\n",
       "      <td>1</td>\n",
       "      <td>гражданский брак</td>\n",
       "      <td>1</td>\n",
       "      <td>F</td>\n",
       "      <td>пенсионер</td>\n",
       "      <td>0</td>\n",
       "      <td>118514</td>\n",
       "      <td>на проведение свадьбы</td>\n",
       "    </tr>\n",
       "    <tr>\n",
       "      <td>7921</td>\n",
       "      <td>0</td>\n",
       "      <td>15217</td>\n",
       "      <td>64</td>\n",
       "      <td>высшее</td>\n",
       "      <td>0</td>\n",
       "      <td>гражданский брак</td>\n",
       "      <td>1</td>\n",
       "      <td>F</td>\n",
       "      <td>пенсионер</td>\n",
       "      <td>0</td>\n",
       "      <td>118514</td>\n",
       "      <td>на проведение свадьбы</td>\n",
       "    </tr>\n",
       "    <tr>\n",
       "      <td>7938</td>\n",
       "      <td>0</td>\n",
       "      <td>15217</td>\n",
       "      <td>71</td>\n",
       "      <td>среднее</td>\n",
       "      <td>1</td>\n",
       "      <td>гражданский брак</td>\n",
       "      <td>1</td>\n",
       "      <td>F</td>\n",
       "      <td>пенсионер</td>\n",
       "      <td>0</td>\n",
       "      <td>118514</td>\n",
       "      <td>на проведение свадьбы</td>\n",
       "    </tr>\n",
       "    <tr>\n",
       "      <td>8583</td>\n",
       "      <td>0</td>\n",
       "      <td>15217</td>\n",
       "      <td>58</td>\n",
       "      <td>высшее</td>\n",
       "      <td>0</td>\n",
       "      <td>Не женат / не замужем</td>\n",
       "      <td>4</td>\n",
       "      <td>F</td>\n",
       "      <td>пенсионер</td>\n",
       "      <td>0</td>\n",
       "      <td>118514</td>\n",
       "      <td>дополнительное образование</td>\n",
       "    </tr>\n",
       "  </tbody>\n",
       "</table>\n",
       "</div>"
      ],
      "text/plain": [
       "      children  days_employed  dob_years education education_id  \\\n",
       "2849         0           1574         41   среднее            1   \n",
       "3290         0          15217         58   среднее            1   \n",
       "4182         1           1574         34    высшее            0   \n",
       "4851         0          15217         60   среднее            1   \n",
       "5557         0          15217         58   среднее            1   \n",
       "6312         0           1574         30   среднее            1   \n",
       "7808         0          15217         57   среднее            1   \n",
       "7921         0          15217         64    высшее            0   \n",
       "7938         0          15217         71   среднее            1   \n",
       "8583         0          15217         58    высшее            0   \n",
       "\n",
       "              family_status family_status_id gender income_type debt  \\\n",
       "2849        женат / замужем                0      F   сотрудник    0   \n",
       "3290       гражданский брак                1      F   пенсионер    0   \n",
       "4182       гражданский брак                1      F   сотрудник    0   \n",
       "4851       гражданский брак                1      F   пенсионер    0   \n",
       "5557       гражданский брак                1      F   пенсионер    0   \n",
       "6312        женат / замужем                0      M   сотрудник    0   \n",
       "7808       гражданский брак                1      F   пенсионер    0   \n",
       "7921       гражданский брак                1      F   пенсионер    0   \n",
       "7938       гражданский брак                1      F   пенсионер    0   \n",
       "8583  Не женат / не замужем                4      F   пенсионер    0   \n",
       "\n",
       "      total_income                           purpose  \n",
       "2849        142594           покупка жилья для семьи  \n",
       "3290        118514                   сыграть свадьбу  \n",
       "4182        142594                           свадьба  \n",
       "4851        118514                           свадьба  \n",
       "5557        118514                   сыграть свадьбу  \n",
       "6312        142594  строительство жилой недвижимости  \n",
       "7808        118514             на проведение свадьбы  \n",
       "7921        118514             на проведение свадьбы  \n",
       "7938        118514             на проведение свадьбы  \n",
       "8583        118514        дополнительное образование  "
      ]
     },
     "execution_count": 36,
     "metadata": {},
     "output_type": "execute_result"
    }
   ],
   "source": [
    "#выведем первые 10 строк-дубликатов\n",
    "\n",
    "duplicated_data = data[data.duplicated()]\n",
    "duplicated_data.head(10)"
   ]
  },
  {
   "cell_type": "code",
   "execution_count": 37,
   "metadata": {},
   "outputs": [],
   "source": [
    "#удалим строки-дубликаты из датафрейма\n",
    "\n",
    "data = data.drop_duplicates().reset_index(drop=True)"
   ]
  },
  {
   "cell_type": "code",
   "execution_count": 38,
   "metadata": {},
   "outputs": [
    {
     "data": {
      "text/plain": [
       "(21454, 12)"
      ]
     },
     "execution_count": 38,
     "metadata": {},
     "output_type": "execute_result"
    }
   ],
   "source": [
    "#узнаем размер датафрейма после удаления дубликатов\n",
    "\n",
    "shape_table_update = data.shape\n",
    "\n",
    "shape_table_update"
   ]
  },
  {
   "cell_type": "markdown",
   "metadata": {},
   "source": [
    "**Вывод**"
   ]
  },
  {
   "cell_type": "markdown",
   "metadata": {},
   "source": [
    "В исходном датафрейме содержалась 71 строка-дубликат, после удаления данных строк размер датафрейма уменьшился."
   ]
  },
  {
   "cell_type": "markdown",
   "metadata": {},
   "source": [
    "### Лемматизация"
   ]
  },
  {
   "cell_type": "markdown",
   "metadata": {},
   "source": [
    "<div style=\"border: 15px; border: 2px solid blue; padding: 15px;\">\n",
    "<b> Комментарий студента:</b>\n",
    "<hr>\n",
    "    Чтобы выделить леммы в целях кредита необходимо провести процесс лемматизации столблца data['purpose']. Для этой цели используют библиотеку Pymystem3. А чтобы пробежаться по строкам датафрейма и применить к ним функцию лемматизации необходимо написать дополнительную функцию и применить ее к датафрейму с помощью метода .apply().\n",
    "\n",
    "</div>"
   ]
  },
  {
   "cell_type": "code",
   "execution_count": 1,
   "metadata": {},
   "outputs": [
    {
     "name": "stderr",
     "output_type": "stream",
     "text": [
      "Installing mystem to C:\\Users\\IshkulovIM/.local/bin\\mystem.exe from http://download.cdn.yandex.net/mystem/mystem-3.1-win-64bit.zip\n"
     ]
    },
    {
     "ename": "PermissionError",
     "evalue": "[WinError 32] Процесс не может получить доступ к файлу, так как этот файл занят другим процессом: 'C:\\\\Users\\\\ISHKUL~1\\\\AppData\\\\Local\\\\Temp\\\\tmp0qnmbf1o'",
     "output_type": "error",
     "traceback": [
      "\u001b[1;31m---------------------------------------------------------------------------\u001b[0m",
      "\u001b[1;31mSSLCertVerificationError\u001b[0m                  Traceback (most recent call last)",
      "\u001b[1;32m~\\Anaconda3\\lib\\site-packages\\urllib3\\connectionpool.py\u001b[0m in \u001b[0;36murlopen\u001b[1;34m(self, method, url, body, headers, retries, redirect, assert_same_host, timeout, pool_timeout, release_conn, chunked, body_pos, **response_kw)\u001b[0m\n\u001b[0;32m    669\u001b[0m             \u001b[1;31m# Make the request on the httplib connection object.\u001b[0m\u001b[1;33m\u001b[0m\u001b[1;33m\u001b[0m\u001b[1;33m\u001b[0m\u001b[0m\n\u001b[1;32m--> 670\u001b[1;33m             httplib_response = self._make_request(\n\u001b[0m\u001b[0;32m    671\u001b[0m                 \u001b[0mconn\u001b[0m\u001b[1;33m,\u001b[0m\u001b[1;33m\u001b[0m\u001b[1;33m\u001b[0m\u001b[0m\n",
      "\u001b[1;32m~\\Anaconda3\\lib\\site-packages\\urllib3\\connectionpool.py\u001b[0m in \u001b[0;36m_make_request\u001b[1;34m(self, conn, method, url, timeout, chunked, **httplib_request_kw)\u001b[0m\n\u001b[0;32m    380\u001b[0m         \u001b[1;32mtry\u001b[0m\u001b[1;33m:\u001b[0m\u001b[1;33m\u001b[0m\u001b[1;33m\u001b[0m\u001b[0m\n\u001b[1;32m--> 381\u001b[1;33m             \u001b[0mself\u001b[0m\u001b[1;33m.\u001b[0m\u001b[0m_validate_conn\u001b[0m\u001b[1;33m(\u001b[0m\u001b[0mconn\u001b[0m\u001b[1;33m)\u001b[0m\u001b[1;33m\u001b[0m\u001b[1;33m\u001b[0m\u001b[0m\n\u001b[0m\u001b[0;32m    382\u001b[0m         \u001b[1;32mexcept\u001b[0m \u001b[1;33m(\u001b[0m\u001b[0mSocketTimeout\u001b[0m\u001b[1;33m,\u001b[0m \u001b[0mBaseSSLError\u001b[0m\u001b[1;33m)\u001b[0m \u001b[1;32mas\u001b[0m \u001b[0me\u001b[0m\u001b[1;33m:\u001b[0m\u001b[1;33m\u001b[0m\u001b[1;33m\u001b[0m\u001b[0m\n",
      "\u001b[1;32m~\\Anaconda3\\lib\\site-packages\\urllib3\\connectionpool.py\u001b[0m in \u001b[0;36m_validate_conn\u001b[1;34m(self, conn)\u001b[0m\n\u001b[0;32m    977\u001b[0m         \u001b[1;32mif\u001b[0m \u001b[1;32mnot\u001b[0m \u001b[0mgetattr\u001b[0m\u001b[1;33m(\u001b[0m\u001b[0mconn\u001b[0m\u001b[1;33m,\u001b[0m \u001b[1;34m\"sock\"\u001b[0m\u001b[1;33m,\u001b[0m \u001b[1;32mNone\u001b[0m\u001b[1;33m)\u001b[0m\u001b[1;33m:\u001b[0m  \u001b[1;31m# AppEngine might not have  `.sock`\u001b[0m\u001b[1;33m\u001b[0m\u001b[1;33m\u001b[0m\u001b[0m\n\u001b[1;32m--> 978\u001b[1;33m             \u001b[0mconn\u001b[0m\u001b[1;33m.\u001b[0m\u001b[0mconnect\u001b[0m\u001b[1;33m(\u001b[0m\u001b[1;33m)\u001b[0m\u001b[1;33m\u001b[0m\u001b[1;33m\u001b[0m\u001b[0m\n\u001b[0m\u001b[0;32m    979\u001b[0m \u001b[1;33m\u001b[0m\u001b[0m\n",
      "\u001b[1;32m~\\Anaconda3\\lib\\site-packages\\urllib3\\connection.py\u001b[0m in \u001b[0;36mconnect\u001b[1;34m(self)\u001b[0m\n\u001b[0;32m    361\u001b[0m \u001b[1;33m\u001b[0m\u001b[0m\n\u001b[1;32m--> 362\u001b[1;33m         self.sock = ssl_wrap_socket(\n\u001b[0m\u001b[0;32m    363\u001b[0m             \u001b[0msock\u001b[0m\u001b[1;33m=\u001b[0m\u001b[0mconn\u001b[0m\u001b[1;33m,\u001b[0m\u001b[1;33m\u001b[0m\u001b[1;33m\u001b[0m\u001b[0m\n",
      "\u001b[1;32m~\\Anaconda3\\lib\\site-packages\\urllib3\\util\\ssl_.py\u001b[0m in \u001b[0;36mssl_wrap_socket\u001b[1;34m(sock, keyfile, certfile, cert_reqs, ca_certs, server_hostname, ssl_version, ciphers, ssl_context, ca_cert_dir, key_password, ca_cert_data)\u001b[0m\n\u001b[0;32m    385\u001b[0m         \u001b[1;32mif\u001b[0m \u001b[0mHAS_SNI\u001b[0m \u001b[1;32mand\u001b[0m \u001b[0mserver_hostname\u001b[0m \u001b[1;32mis\u001b[0m \u001b[1;32mnot\u001b[0m \u001b[1;32mNone\u001b[0m\u001b[1;33m:\u001b[0m\u001b[1;33m\u001b[0m\u001b[1;33m\u001b[0m\u001b[0m\n\u001b[1;32m--> 386\u001b[1;33m             \u001b[1;32mreturn\u001b[0m \u001b[0mcontext\u001b[0m\u001b[1;33m.\u001b[0m\u001b[0mwrap_socket\u001b[0m\u001b[1;33m(\u001b[0m\u001b[0msock\u001b[0m\u001b[1;33m,\u001b[0m \u001b[0mserver_hostname\u001b[0m\u001b[1;33m=\u001b[0m\u001b[0mserver_hostname\u001b[0m\u001b[1;33m)\u001b[0m\u001b[1;33m\u001b[0m\u001b[1;33m\u001b[0m\u001b[0m\n\u001b[0m\u001b[0;32m    387\u001b[0m \u001b[1;33m\u001b[0m\u001b[0m\n",
      "\u001b[1;32m~\\Anaconda3\\lib\\ssl.py\u001b[0m in \u001b[0;36mwrap_socket\u001b[1;34m(self, sock, server_side, do_handshake_on_connect, suppress_ragged_eofs, server_hostname, session)\u001b[0m\n\u001b[0;32m    499\u001b[0m         \u001b[1;31m# ctx._wrap_socket()\u001b[0m\u001b[1;33m\u001b[0m\u001b[1;33m\u001b[0m\u001b[1;33m\u001b[0m\u001b[0m\n\u001b[1;32m--> 500\u001b[1;33m         return self.sslsocket_class._create(\n\u001b[0m\u001b[0;32m    501\u001b[0m             \u001b[0msock\u001b[0m\u001b[1;33m=\u001b[0m\u001b[0msock\u001b[0m\u001b[1;33m,\u001b[0m\u001b[1;33m\u001b[0m\u001b[1;33m\u001b[0m\u001b[0m\n",
      "\u001b[1;32m~\\Anaconda3\\lib\\ssl.py\u001b[0m in \u001b[0;36m_create\u001b[1;34m(cls, sock, server_side, do_handshake_on_connect, suppress_ragged_eofs, server_hostname, context, session)\u001b[0m\n\u001b[0;32m   1039\u001b[0m                         \u001b[1;32mraise\u001b[0m \u001b[0mValueError\u001b[0m\u001b[1;33m(\u001b[0m\u001b[1;34m\"do_handshake_on_connect should not be specified for non-blocking sockets\"\u001b[0m\u001b[1;33m)\u001b[0m\u001b[1;33m\u001b[0m\u001b[1;33m\u001b[0m\u001b[0m\n\u001b[1;32m-> 1040\u001b[1;33m                     \u001b[0mself\u001b[0m\u001b[1;33m.\u001b[0m\u001b[0mdo_handshake\u001b[0m\u001b[1;33m(\u001b[0m\u001b[1;33m)\u001b[0m\u001b[1;33m\u001b[0m\u001b[1;33m\u001b[0m\u001b[0m\n\u001b[0m\u001b[0;32m   1041\u001b[0m             \u001b[1;32mexcept\u001b[0m \u001b[1;33m(\u001b[0m\u001b[0mOSError\u001b[0m\u001b[1;33m,\u001b[0m \u001b[0mValueError\u001b[0m\u001b[1;33m)\u001b[0m\u001b[1;33m:\u001b[0m\u001b[1;33m\u001b[0m\u001b[1;33m\u001b[0m\u001b[0m\n",
      "\u001b[1;32m~\\Anaconda3\\lib\\ssl.py\u001b[0m in \u001b[0;36mdo_handshake\u001b[1;34m(self, block)\u001b[0m\n\u001b[0;32m   1308\u001b[0m                 \u001b[0mself\u001b[0m\u001b[1;33m.\u001b[0m\u001b[0msettimeout\u001b[0m\u001b[1;33m(\u001b[0m\u001b[1;32mNone\u001b[0m\u001b[1;33m)\u001b[0m\u001b[1;33m\u001b[0m\u001b[1;33m\u001b[0m\u001b[0m\n\u001b[1;32m-> 1309\u001b[1;33m             \u001b[0mself\u001b[0m\u001b[1;33m.\u001b[0m\u001b[0m_sslobj\u001b[0m\u001b[1;33m.\u001b[0m\u001b[0mdo_handshake\u001b[0m\u001b[1;33m(\u001b[0m\u001b[1;33m)\u001b[0m\u001b[1;33m\u001b[0m\u001b[1;33m\u001b[0m\u001b[0m\n\u001b[0m\u001b[0;32m   1310\u001b[0m         \u001b[1;32mfinally\u001b[0m\u001b[1;33m:\u001b[0m\u001b[1;33m\u001b[0m\u001b[1;33m\u001b[0m\u001b[0m\n",
      "\u001b[1;31mSSLCertVerificationError\u001b[0m: [SSL: CERTIFICATE_VERIFY_FAILED] certificate verify failed: self signed certificate in certificate chain (_ssl.c:1123)",
      "\nDuring handling of the above exception, another exception occurred:\n",
      "\u001b[1;31mMaxRetryError\u001b[0m                             Traceback (most recent call last)",
      "\u001b[1;32m~\\Anaconda3\\lib\\site-packages\\requests\\adapters.py\u001b[0m in \u001b[0;36msend\u001b[1;34m(self, request, stream, timeout, verify, cert, proxies)\u001b[0m\n\u001b[0;32m    438\u001b[0m             \u001b[1;32mif\u001b[0m \u001b[1;32mnot\u001b[0m \u001b[0mchunked\u001b[0m\u001b[1;33m:\u001b[0m\u001b[1;33m\u001b[0m\u001b[1;33m\u001b[0m\u001b[0m\n\u001b[1;32m--> 439\u001b[1;33m                 resp = conn.urlopen(\n\u001b[0m\u001b[0;32m    440\u001b[0m                     \u001b[0mmethod\u001b[0m\u001b[1;33m=\u001b[0m\u001b[0mrequest\u001b[0m\u001b[1;33m.\u001b[0m\u001b[0mmethod\u001b[0m\u001b[1;33m,\u001b[0m\u001b[1;33m\u001b[0m\u001b[1;33m\u001b[0m\u001b[0m\n",
      "\u001b[1;32m~\\Anaconda3\\lib\\site-packages\\urllib3\\connectionpool.py\u001b[0m in \u001b[0;36murlopen\u001b[1;34m(self, method, url, body, headers, retries, redirect, assert_same_host, timeout, pool_timeout, release_conn, chunked, body_pos, **response_kw)\u001b[0m\n\u001b[0;32m    725\u001b[0m \u001b[1;33m\u001b[0m\u001b[0m\n\u001b[1;32m--> 726\u001b[1;33m             retries = retries.increment(\n\u001b[0m\u001b[0;32m    727\u001b[0m                 \u001b[0mmethod\u001b[0m\u001b[1;33m,\u001b[0m \u001b[0murl\u001b[0m\u001b[1;33m,\u001b[0m \u001b[0merror\u001b[0m\u001b[1;33m=\u001b[0m\u001b[0me\u001b[0m\u001b[1;33m,\u001b[0m \u001b[0m_pool\u001b[0m\u001b[1;33m=\u001b[0m\u001b[0mself\u001b[0m\u001b[1;33m,\u001b[0m \u001b[0m_stacktrace\u001b[0m\u001b[1;33m=\u001b[0m\u001b[0msys\u001b[0m\u001b[1;33m.\u001b[0m\u001b[0mexc_info\u001b[0m\u001b[1;33m(\u001b[0m\u001b[1;33m)\u001b[0m\u001b[1;33m[\u001b[0m\u001b[1;36m2\u001b[0m\u001b[1;33m]\u001b[0m\u001b[1;33m\u001b[0m\u001b[1;33m\u001b[0m\u001b[0m\n",
      "\u001b[1;32m~\\Anaconda3\\lib\\site-packages\\urllib3\\util\\retry.py\u001b[0m in \u001b[0;36mincrement\u001b[1;34m(self, method, url, response, error, _pool, _stacktrace)\u001b[0m\n\u001b[0;32m    445\u001b[0m         \u001b[1;32mif\u001b[0m \u001b[0mnew_retry\u001b[0m\u001b[1;33m.\u001b[0m\u001b[0mis_exhausted\u001b[0m\u001b[1;33m(\u001b[0m\u001b[1;33m)\u001b[0m\u001b[1;33m:\u001b[0m\u001b[1;33m\u001b[0m\u001b[1;33m\u001b[0m\u001b[0m\n\u001b[1;32m--> 446\u001b[1;33m             \u001b[1;32mraise\u001b[0m \u001b[0mMaxRetryError\u001b[0m\u001b[1;33m(\u001b[0m\u001b[0m_pool\u001b[0m\u001b[1;33m,\u001b[0m \u001b[0murl\u001b[0m\u001b[1;33m,\u001b[0m \u001b[0merror\u001b[0m \u001b[1;32mor\u001b[0m \u001b[0mResponseError\u001b[0m\u001b[1;33m(\u001b[0m\u001b[0mcause\u001b[0m\u001b[1;33m)\u001b[0m\u001b[1;33m)\u001b[0m\u001b[1;33m\u001b[0m\u001b[1;33m\u001b[0m\u001b[0m\n\u001b[0m\u001b[0;32m    447\u001b[0m \u001b[1;33m\u001b[0m\u001b[0m\n",
      "\u001b[1;31mMaxRetryError\u001b[0m: HTTPSConnectionPool(host='ext-cachev2-nnovrt01.cdn.yandex.net', port=443): Max retries exceeded with url: /download.cdn.yandex.net/mystem/mystem-3.1-win-64bit.zip?lid=1540 (Caused by SSLError(SSLCertVerificationError(1, '[SSL: CERTIFICATE_VERIFY_FAILED] certificate verify failed: self signed certificate in certificate chain (_ssl.c:1123)')))",
      "\nDuring handling of the above exception, another exception occurred:\n",
      "\u001b[1;31mSSLError\u001b[0m                                  Traceback (most recent call last)",
      "\u001b[1;32m~\\Anaconda3\\lib\\site-packages\\pymystem3\\mystem.py\u001b[0m in \u001b[0;36minstall\u001b[1;34m(out)\u001b[0m\n\u001b[0;32m     77\u001b[0m     \u001b[1;32mtry\u001b[0m\u001b[1;33m:\u001b[0m\u001b[1;33m\u001b[0m\u001b[1;33m\u001b[0m\u001b[0m\n\u001b[1;32m---> 78\u001b[1;33m         \u001b[0mr\u001b[0m \u001b[1;33m=\u001b[0m \u001b[0mrequests\u001b[0m\u001b[1;33m.\u001b[0m\u001b[0mget\u001b[0m\u001b[1;33m(\u001b[0m\u001b[0murl\u001b[0m\u001b[1;33m,\u001b[0m \u001b[0mstream\u001b[0m\u001b[1;33m=\u001b[0m\u001b[1;32mTrue\u001b[0m\u001b[1;33m)\u001b[0m\u001b[1;33m\u001b[0m\u001b[1;33m\u001b[0m\u001b[0m\n\u001b[0m\u001b[0;32m     79\u001b[0m         \u001b[1;32mwith\u001b[0m \u001b[0mos\u001b[0m\u001b[1;33m.\u001b[0m\u001b[0mfdopen\u001b[0m\u001b[1;33m(\u001b[0m\u001b[0mtmp_fd\u001b[0m\u001b[1;33m,\u001b[0m \u001b[1;34m'wb'\u001b[0m\u001b[1;33m)\u001b[0m \u001b[1;32mas\u001b[0m \u001b[0mfd\u001b[0m\u001b[1;33m:\u001b[0m\u001b[1;33m\u001b[0m\u001b[1;33m\u001b[0m\u001b[0m\n",
      "\u001b[1;32m~\\Anaconda3\\lib\\site-packages\\requests\\api.py\u001b[0m in \u001b[0;36mget\u001b[1;34m(url, params, **kwargs)\u001b[0m\n\u001b[0;32m     75\u001b[0m     \u001b[0mkwargs\u001b[0m\u001b[1;33m.\u001b[0m\u001b[0msetdefault\u001b[0m\u001b[1;33m(\u001b[0m\u001b[1;34m'allow_redirects'\u001b[0m\u001b[1;33m,\u001b[0m \u001b[1;32mTrue\u001b[0m\u001b[1;33m)\u001b[0m\u001b[1;33m\u001b[0m\u001b[1;33m\u001b[0m\u001b[0m\n\u001b[1;32m---> 76\u001b[1;33m     \u001b[1;32mreturn\u001b[0m \u001b[0mrequest\u001b[0m\u001b[1;33m(\u001b[0m\u001b[1;34m'get'\u001b[0m\u001b[1;33m,\u001b[0m \u001b[0murl\u001b[0m\u001b[1;33m,\u001b[0m \u001b[0mparams\u001b[0m\u001b[1;33m=\u001b[0m\u001b[0mparams\u001b[0m\u001b[1;33m,\u001b[0m \u001b[1;33m**\u001b[0m\u001b[0mkwargs\u001b[0m\u001b[1;33m)\u001b[0m\u001b[1;33m\u001b[0m\u001b[1;33m\u001b[0m\u001b[0m\n\u001b[0m\u001b[0;32m     77\u001b[0m \u001b[1;33m\u001b[0m\u001b[0m\n",
      "\u001b[1;32m~\\Anaconda3\\lib\\site-packages\\requests\\api.py\u001b[0m in \u001b[0;36mrequest\u001b[1;34m(method, url, **kwargs)\u001b[0m\n\u001b[0;32m     60\u001b[0m     \u001b[1;32mwith\u001b[0m \u001b[0msessions\u001b[0m\u001b[1;33m.\u001b[0m\u001b[0mSession\u001b[0m\u001b[1;33m(\u001b[0m\u001b[1;33m)\u001b[0m \u001b[1;32mas\u001b[0m \u001b[0msession\u001b[0m\u001b[1;33m:\u001b[0m\u001b[1;33m\u001b[0m\u001b[1;33m\u001b[0m\u001b[0m\n\u001b[1;32m---> 61\u001b[1;33m         \u001b[1;32mreturn\u001b[0m \u001b[0msession\u001b[0m\u001b[1;33m.\u001b[0m\u001b[0mrequest\u001b[0m\u001b[1;33m(\u001b[0m\u001b[0mmethod\u001b[0m\u001b[1;33m=\u001b[0m\u001b[0mmethod\u001b[0m\u001b[1;33m,\u001b[0m \u001b[0murl\u001b[0m\u001b[1;33m=\u001b[0m\u001b[0murl\u001b[0m\u001b[1;33m,\u001b[0m \u001b[1;33m**\u001b[0m\u001b[0mkwargs\u001b[0m\u001b[1;33m)\u001b[0m\u001b[1;33m\u001b[0m\u001b[1;33m\u001b[0m\u001b[0m\n\u001b[0m\u001b[0;32m     62\u001b[0m \u001b[1;33m\u001b[0m\u001b[0m\n",
      "\u001b[1;32m~\\Anaconda3\\lib\\site-packages\\requests\\sessions.py\u001b[0m in \u001b[0;36mrequest\u001b[1;34m(self, method, url, params, data, headers, cookies, files, auth, timeout, allow_redirects, proxies, hooks, stream, verify, cert, json)\u001b[0m\n\u001b[0;32m    529\u001b[0m         \u001b[0msend_kwargs\u001b[0m\u001b[1;33m.\u001b[0m\u001b[0mupdate\u001b[0m\u001b[1;33m(\u001b[0m\u001b[0msettings\u001b[0m\u001b[1;33m)\u001b[0m\u001b[1;33m\u001b[0m\u001b[1;33m\u001b[0m\u001b[0m\n\u001b[1;32m--> 530\u001b[1;33m         \u001b[0mresp\u001b[0m \u001b[1;33m=\u001b[0m \u001b[0mself\u001b[0m\u001b[1;33m.\u001b[0m\u001b[0msend\u001b[0m\u001b[1;33m(\u001b[0m\u001b[0mprep\u001b[0m\u001b[1;33m,\u001b[0m \u001b[1;33m**\u001b[0m\u001b[0msend_kwargs\u001b[0m\u001b[1;33m)\u001b[0m\u001b[1;33m\u001b[0m\u001b[1;33m\u001b[0m\u001b[0m\n\u001b[0m\u001b[0;32m    531\u001b[0m \u001b[1;33m\u001b[0m\u001b[0m\n",
      "\u001b[1;32m~\\Anaconda3\\lib\\site-packages\\requests\\sessions.py\u001b[0m in \u001b[0;36msend\u001b[1;34m(self, request, **kwargs)\u001b[0m\n\u001b[0;32m    664\u001b[0m             \u001b[0mgen\u001b[0m \u001b[1;33m=\u001b[0m \u001b[0mself\u001b[0m\u001b[1;33m.\u001b[0m\u001b[0mresolve_redirects\u001b[0m\u001b[1;33m(\u001b[0m\u001b[0mr\u001b[0m\u001b[1;33m,\u001b[0m \u001b[0mrequest\u001b[0m\u001b[1;33m,\u001b[0m \u001b[1;33m**\u001b[0m\u001b[0mkwargs\u001b[0m\u001b[1;33m)\u001b[0m\u001b[1;33m\u001b[0m\u001b[1;33m\u001b[0m\u001b[0m\n\u001b[1;32m--> 665\u001b[1;33m             \u001b[0mhistory\u001b[0m \u001b[1;33m=\u001b[0m \u001b[1;33m[\u001b[0m\u001b[0mresp\u001b[0m \u001b[1;32mfor\u001b[0m \u001b[0mresp\u001b[0m \u001b[1;32min\u001b[0m \u001b[0mgen\u001b[0m\u001b[1;33m]\u001b[0m\u001b[1;33m\u001b[0m\u001b[1;33m\u001b[0m\u001b[0m\n\u001b[0m\u001b[0;32m    666\u001b[0m         \u001b[1;32melse\u001b[0m\u001b[1;33m:\u001b[0m\u001b[1;33m\u001b[0m\u001b[1;33m\u001b[0m\u001b[0m\n",
      "\u001b[1;32m~\\Anaconda3\\lib\\site-packages\\requests\\sessions.py\u001b[0m in \u001b[0;36m<listcomp>\u001b[1;34m(.0)\u001b[0m\n\u001b[0;32m    664\u001b[0m             \u001b[0mgen\u001b[0m \u001b[1;33m=\u001b[0m \u001b[0mself\u001b[0m\u001b[1;33m.\u001b[0m\u001b[0mresolve_redirects\u001b[0m\u001b[1;33m(\u001b[0m\u001b[0mr\u001b[0m\u001b[1;33m,\u001b[0m \u001b[0mrequest\u001b[0m\u001b[1;33m,\u001b[0m \u001b[1;33m**\u001b[0m\u001b[0mkwargs\u001b[0m\u001b[1;33m)\u001b[0m\u001b[1;33m\u001b[0m\u001b[1;33m\u001b[0m\u001b[0m\n\u001b[1;32m--> 665\u001b[1;33m             \u001b[0mhistory\u001b[0m \u001b[1;33m=\u001b[0m \u001b[1;33m[\u001b[0m\u001b[0mresp\u001b[0m \u001b[1;32mfor\u001b[0m \u001b[0mresp\u001b[0m \u001b[1;32min\u001b[0m \u001b[0mgen\u001b[0m\u001b[1;33m]\u001b[0m\u001b[1;33m\u001b[0m\u001b[1;33m\u001b[0m\u001b[0m\n\u001b[0m\u001b[0;32m    666\u001b[0m         \u001b[1;32melse\u001b[0m\u001b[1;33m:\u001b[0m\u001b[1;33m\u001b[0m\u001b[1;33m\u001b[0m\u001b[0m\n",
      "\u001b[1;32m~\\Anaconda3\\lib\\site-packages\\requests\\sessions.py\u001b[0m in \u001b[0;36mresolve_redirects\u001b[1;34m(self, resp, req, stream, timeout, verify, cert, proxies, yield_requests, **adapter_kwargs)\u001b[0m\n\u001b[0;32m    236\u001b[0m \u001b[1;33m\u001b[0m\u001b[0m\n\u001b[1;32m--> 237\u001b[1;33m                 resp = self.send(\n\u001b[0m\u001b[0;32m    238\u001b[0m                     \u001b[0mreq\u001b[0m\u001b[1;33m,\u001b[0m\u001b[1;33m\u001b[0m\u001b[1;33m\u001b[0m\u001b[0m\n",
      "\u001b[1;32m~\\Anaconda3\\lib\\site-packages\\requests\\sessions.py\u001b[0m in \u001b[0;36msend\u001b[1;34m(self, request, **kwargs)\u001b[0m\n\u001b[0;32m    642\u001b[0m         \u001b[1;31m# Send the request\u001b[0m\u001b[1;33m\u001b[0m\u001b[1;33m\u001b[0m\u001b[1;33m\u001b[0m\u001b[0m\n\u001b[1;32m--> 643\u001b[1;33m         \u001b[0mr\u001b[0m \u001b[1;33m=\u001b[0m \u001b[0madapter\u001b[0m\u001b[1;33m.\u001b[0m\u001b[0msend\u001b[0m\u001b[1;33m(\u001b[0m\u001b[0mrequest\u001b[0m\u001b[1;33m,\u001b[0m \u001b[1;33m**\u001b[0m\u001b[0mkwargs\u001b[0m\u001b[1;33m)\u001b[0m\u001b[1;33m\u001b[0m\u001b[1;33m\u001b[0m\u001b[0m\n\u001b[0m\u001b[0;32m    644\u001b[0m \u001b[1;33m\u001b[0m\u001b[0m\n",
      "\u001b[1;32m~\\Anaconda3\\lib\\site-packages\\requests\\adapters.py\u001b[0m in \u001b[0;36msend\u001b[1;34m(self, request, stream, timeout, verify, cert, proxies)\u001b[0m\n\u001b[0;32m    513\u001b[0m                 \u001b[1;31m# This branch is for urllib3 v1.22 and later.\u001b[0m\u001b[1;33m\u001b[0m\u001b[1;33m\u001b[0m\u001b[1;33m\u001b[0m\u001b[0m\n\u001b[1;32m--> 514\u001b[1;33m                 \u001b[1;32mraise\u001b[0m \u001b[0mSSLError\u001b[0m\u001b[1;33m(\u001b[0m\u001b[0me\u001b[0m\u001b[1;33m,\u001b[0m \u001b[0mrequest\u001b[0m\u001b[1;33m=\u001b[0m\u001b[0mrequest\u001b[0m\u001b[1;33m)\u001b[0m\u001b[1;33m\u001b[0m\u001b[1;33m\u001b[0m\u001b[0m\n\u001b[0m\u001b[0;32m    515\u001b[0m \u001b[1;33m\u001b[0m\u001b[0m\n",
      "\u001b[1;31mSSLError\u001b[0m: HTTPSConnectionPool(host='ext-cachev2-nnovrt01.cdn.yandex.net', port=443): Max retries exceeded with url: /download.cdn.yandex.net/mystem/mystem-3.1-win-64bit.zip?lid=1540 (Caused by SSLError(SSLCertVerificationError(1, '[SSL: CERTIFICATE_VERIFY_FAILED] certificate verify failed: self signed certificate in certificate chain (_ssl.c:1123)')))",
      "\nDuring handling of the above exception, another exception occurred:\n",
      "\u001b[1;31mPermissionError\u001b[0m                           Traceback (most recent call last)",
      "\u001b[1;32m<ipython-input-1-eacfa9d2b33e>\u001b[0m in \u001b[0;36m<module>\u001b[1;34m\u001b[0m\n\u001b[0;32m      1\u001b[0m \u001b[1;32mfrom\u001b[0m \u001b[0mpymystem3\u001b[0m \u001b[1;32mimport\u001b[0m \u001b[0mMystem\u001b[0m\u001b[1;33m\u001b[0m\u001b[1;33m\u001b[0m\u001b[0m\n\u001b[1;32m----> 2\u001b[1;33m \u001b[0mm\u001b[0m \u001b[1;33m=\u001b[0m \u001b[0mMystem\u001b[0m\u001b[1;33m(\u001b[0m\u001b[1;33m)\u001b[0m\u001b[1;33m\u001b[0m\u001b[1;33m\u001b[0m\u001b[0m\n\u001b[0m\u001b[0;32m      3\u001b[0m \u001b[1;33m\u001b[0m\u001b[0m\n\u001b[0;32m      4\u001b[0m \u001b[1;32mdef\u001b[0m \u001b[0mlemmas\u001b[0m\u001b[1;33m(\u001b[0m\u001b[0mrow\u001b[0m\u001b[1;33m)\u001b[0m\u001b[1;33m:\u001b[0m\u001b[1;33m\u001b[0m\u001b[1;33m\u001b[0m\u001b[0m\n\u001b[0;32m      5\u001b[0m \u001b[1;33m\u001b[0m\u001b[0m\n",
      "\u001b[1;32m~\\Anaconda3\\lib\\site-packages\\pymystem3\\mystem.py\u001b[0m in \u001b[0;36m__init__\u001b[1;34m(self, mystem_bin, grammar_info, disambiguation, entire_input, weight)\u001b[0m\n\u001b[0;32m    176\u001b[0m \u001b[1;33m\u001b[0m\u001b[0m\n\u001b[0;32m    177\u001b[0m         \u001b[1;32mif\u001b[0m \u001b[0mself\u001b[0m\u001b[1;33m.\u001b[0m\u001b[0m_mystem_bin\u001b[0m \u001b[1;32mis\u001b[0m \u001b[1;32mNone\u001b[0m\u001b[1;33m:\u001b[0m\u001b[1;33m\u001b[0m\u001b[1;33m\u001b[0m\u001b[0m\n\u001b[1;32m--> 178\u001b[1;33m             \u001b[0mautoinstall\u001b[0m\u001b[1;33m(\u001b[0m\u001b[1;33m)\u001b[0m\u001b[1;33m\u001b[0m\u001b[1;33m\u001b[0m\u001b[0m\n\u001b[0m\u001b[0;32m    179\u001b[0m             \u001b[0mself\u001b[0m\u001b[1;33m.\u001b[0m\u001b[0m_mystem_bin\u001b[0m \u001b[1;33m=\u001b[0m \u001b[0mMYSTEM_BIN\u001b[0m\u001b[1;33m\u001b[0m\u001b[1;33m\u001b[0m\u001b[0m\n\u001b[0;32m    180\u001b[0m \u001b[1;33m\u001b[0m\u001b[0m\n",
      "\u001b[1;32m~\\Anaconda3\\lib\\site-packages\\pymystem3\\mystem.py\u001b[0m in \u001b[0;36mautoinstall\u001b[1;34m(out)\u001b[0m\n\u001b[0;32m     55\u001b[0m     \u001b[1;32mif\u001b[0m \u001b[0mos\u001b[0m\u001b[1;33m.\u001b[0m\u001b[0mpath\u001b[0m\u001b[1;33m.\u001b[0m\u001b[0misfile\u001b[0m\u001b[1;33m(\u001b[0m\u001b[0mMYSTEM_BIN\u001b[0m\u001b[1;33m)\u001b[0m\u001b[1;33m:\u001b[0m\u001b[1;33m\u001b[0m\u001b[1;33m\u001b[0m\u001b[0m\n\u001b[0;32m     56\u001b[0m         \u001b[1;32mreturn\u001b[0m\u001b[1;33m\u001b[0m\u001b[1;33m\u001b[0m\u001b[0m\n\u001b[1;32m---> 57\u001b[1;33m     \u001b[0minstall\u001b[0m\u001b[1;33m(\u001b[0m\u001b[0mout\u001b[0m\u001b[1;33m)\u001b[0m\u001b[1;33m\u001b[0m\u001b[1;33m\u001b[0m\u001b[0m\n\u001b[0m\u001b[0;32m     58\u001b[0m \u001b[1;33m\u001b[0m\u001b[0m\n\u001b[0;32m     59\u001b[0m \u001b[1;33m\u001b[0m\u001b[0m\n",
      "\u001b[1;32m~\\Anaconda3\\lib\\site-packages\\pymystem3\\mystem.py\u001b[0m in \u001b[0;36minstall\u001b[1;34m(out)\u001b[0m\n\u001b[0;32m     99\u001b[0m             \u001b[1;32mraise\u001b[0m \u001b[0mNotImplementedError\u001b[0m\u001b[1;33m(\u001b[0m\u001b[1;34m\"Could not install mystem from %s\"\u001b[0m \u001b[1;33m%\u001b[0m \u001b[0murl\u001b[0m\u001b[1;33m)\u001b[0m\u001b[1;33m\u001b[0m\u001b[1;33m\u001b[0m\u001b[0m\n\u001b[0;32m    100\u001b[0m     \u001b[1;32mfinally\u001b[0m\u001b[1;33m:\u001b[0m\u001b[1;33m\u001b[0m\u001b[1;33m\u001b[0m\u001b[0m\n\u001b[1;32m--> 101\u001b[1;33m         \u001b[0mos\u001b[0m\u001b[1;33m.\u001b[0m\u001b[0munlink\u001b[0m\u001b[1;33m(\u001b[0m\u001b[0mtmp_path\u001b[0m\u001b[1;33m)\u001b[0m\u001b[1;33m\u001b[0m\u001b[1;33m\u001b[0m\u001b[0m\n\u001b[0m\u001b[0;32m    102\u001b[0m \u001b[1;33m\u001b[0m\u001b[0m\n\u001b[0;32m    103\u001b[0m \u001b[1;33m\u001b[0m\u001b[0m\n",
      "\u001b[1;31mPermissionError\u001b[0m: [WinError 32] Процесс не может получить доступ к файлу, так как этот файл занят другим процессом: 'C:\\\\Users\\\\ISHKUL~1\\\\AppData\\\\Local\\\\Temp\\\\tmp0qnmbf1o'"
     ]
    }
   ],
   "source": [
    "from pymystem3 import Mystem\n",
    "m = Mystem() \n",
    "\n",
    "def lemmas(row):\n",
    "    \n",
    "    purpose = row['purpose']\n",
    "    \n",
    "    lemmatized = m.lemmatize(purpose)\n",
    "    \n",
    "    return lemmatized\n",
    "\n",
    "data['lemmatized_purpose'] = data.apply(lemmas, axis=1)\n",
    "\n",
    "data.head(10)\n"
   ]
  },
  {
   "cell_type": "code",
   "execution_count": 40,
   "metadata": {},
   "outputs": [
    {
     "name": "stdout",
     "output_type": "stream",
     "text": [
      "[автомобиль, \\n]                                          972\n",
      "[свадьба, \\n]                                             791\n",
      "[на,  , проведение,  , свадьба, \\n]                       768\n",
      "[сыграть,  , свадьба, \\n]                                 765\n",
      "[операция,  , с,  , недвижимость, \\n]                     675\n",
      "[покупка,  , коммерческий,  , недвижимость, \\n]           661\n",
      "[операция,  , с,  , жилье, \\n]                            652\n",
      "[покупка,  , жилье,  , для,  , сдача, \\n]                 651\n",
      "[операция,  , с,  , коммерческий,  , недвижимость, \\n]    650\n",
      "[покупка,  , жилье, \\n]                                   646\n",
      "[жилье, \\n]                                               646\n",
      "[покупка,  , жилье,  , для,  , семья, \\n]                 638\n",
      "[строительство,  , собственный,  , недвижимость, \\n]      635\n",
      "[недвижимость, \\n]                                        633\n",
      "[операция,  , со,  , свой,  , недвижимость, \\n]           627\n",
      "[строительство,  , жилой,  , недвижимость, \\n]            624\n",
      "[покупка,  , недвижимость, \\n]                            621\n",
      "[покупка,  , свой,  , жилье, \\n]                          620\n",
      "[строительство,  , недвижимость, \\n]                      619\n",
      "[ремонт,  , жилье, \\n]                                    607\n",
      "[покупка,  , жилой,  , недвижимость, \\n]                  606\n",
      "[на,  , покупка,  , свой,  , автомобиль, \\n]              505\n",
      "[заниматься,  , высокий,  , образование, \\n]              496\n",
      "[сделка,  , с,  , подержанный,  , автомобиль, \\n]         486\n",
      "[свой,  , автомобиль, \\n]                                 478\n",
      "[на,  , покупка,  , подержать,  , автомобиль, \\n]         478\n",
      "[на,  , покупка,  , автомобиль, \\n]                       471\n",
      "[приобретение,  , автомобиль, \\n]                         461\n",
      "[дополнительный,  , образование, \\n]                      460\n",
      "[сделка,  , с,  , автомобиль, \\n]                         455\n",
      "[высокий,  , образование, \\n]                             452\n",
      "[образование, \\n]                                         447\n",
      "[получение,  , дополнительный,  , образование, \\n]        446\n",
      "[получение,  , образование, \\n]                           442\n",
      "[профильный,  , образование, \\n]                          436\n",
      "[получение,  , высокий,  , образование, \\n]               426\n",
      "[заниматься,  , образование, \\n]                          408\n",
      "Name: lemmatized_purpose, dtype: int64\n"
     ]
    }
   ],
   "source": [
    "#посчитаем на какие цели в основном берут кредиты\n",
    "\n",
    "print(data['lemmatized_purpose'].value_counts())"
   ]
  },
  {
   "cell_type": "markdown",
   "metadata": {},
   "source": [
    "<div style=\"border: 15px; border: 2px solid blue; padding: 15px;\">\n",
    "<b> Комментарий студента:</b>\n",
    "<hr>\n",
    "    Далее необходимо почистить наши цели от лишних слов. Вера, подскажите, как можно не прибегая к методам ниже, не вручную и не пробегая глазами, подсчитать самые популярные слова с учетом того, что они представлены в списках на каждой строке?\n",
    "</div>"
   ]
  },
  {
   "cell_type": "code",
   "execution_count": 41,
   "metadata": {},
   "outputs": [],
   "source": [
    "#сформируем список с наиболее популярными категориями\n",
    "\n",
    "purpose_word = ['автомобиль', 'жилье', 'образование', 'свадьба', 'недвижимость']\n",
    "\n",
    "# далее заменим значения столбца 'lemmatized_purpose' на ключевые слова из списка 'purpose_word'\n",
    "data_1 = data.explode('lemmatized_purpose')\n",
    "\n",
    "data_2 = data_1[data_1.lemmatized_purpose.isin(purpose_word)] \n"
   ]
  },
  {
   "cell_type": "code",
   "execution_count": 42,
   "metadata": {},
   "outputs": [
    {
     "name": "stdout",
     "output_type": "stream",
     "text": [
      "недвижимость    6351\n",
      "жилье           4460\n",
      "автомобиль      4306\n",
      "образование     4013\n",
      "свадьба         2324\n",
      "Name: lemmatized_purpose, dtype: int64\n"
     ]
    }
   ],
   "source": [
    "#оценим на какие цели чаще брали кредиты\n",
    "print(data_2['lemmatized_purpose'].value_counts())"
   ]
  },
  {
   "cell_type": "code",
   "execution_count": 43,
   "metadata": {},
   "outputs": [
    {
     "data": {
      "text/html": [
       "<div>\n",
       "<style scoped>\n",
       "    .dataframe tbody tr th:only-of-type {\n",
       "        vertical-align: middle;\n",
       "    }\n",
       "\n",
       "    .dataframe tbody tr th {\n",
       "        vertical-align: top;\n",
       "    }\n",
       "\n",
       "    .dataframe thead th {\n",
       "        text-align: right;\n",
       "    }\n",
       "</style>\n",
       "<table border=\"1\" class=\"dataframe\">\n",
       "  <thead>\n",
       "    <tr style=\"text-align: right;\">\n",
       "      <th></th>\n",
       "      <th>children</th>\n",
       "      <th>days_employed</th>\n",
       "      <th>dob_years</th>\n",
       "      <th>education</th>\n",
       "      <th>education_id</th>\n",
       "      <th>family_status</th>\n",
       "      <th>family_status_id</th>\n",
       "      <th>gender</th>\n",
       "      <th>income_type</th>\n",
       "      <th>debt</th>\n",
       "      <th>total_income</th>\n",
       "      <th>purpose</th>\n",
       "      <th>lemmatized_purpose</th>\n",
       "    </tr>\n",
       "  </thead>\n",
       "  <tbody>\n",
       "    <tr>\n",
       "      <td>0</td>\n",
       "      <td>1</td>\n",
       "      <td>8437</td>\n",
       "      <td>42</td>\n",
       "      <td>высшее</td>\n",
       "      <td>0</td>\n",
       "      <td>женат / замужем</td>\n",
       "      <td>0</td>\n",
       "      <td>F</td>\n",
       "      <td>сотрудник</td>\n",
       "      <td>0</td>\n",
       "      <td>253875</td>\n",
       "      <td>покупка жилья</td>\n",
       "      <td>недвижимость</td>\n",
       "    </tr>\n",
       "    <tr>\n",
       "      <td>1</td>\n",
       "      <td>1</td>\n",
       "      <td>4024</td>\n",
       "      <td>36</td>\n",
       "      <td>среднее</td>\n",
       "      <td>1</td>\n",
       "      <td>женат / замужем</td>\n",
       "      <td>0</td>\n",
       "      <td>F</td>\n",
       "      <td>сотрудник</td>\n",
       "      <td>0</td>\n",
       "      <td>112080</td>\n",
       "      <td>приобретение автомобиля</td>\n",
       "      <td>автомобиль</td>\n",
       "    </tr>\n",
       "    <tr>\n",
       "      <td>2</td>\n",
       "      <td>0</td>\n",
       "      <td>5623</td>\n",
       "      <td>33</td>\n",
       "      <td>среднее</td>\n",
       "      <td>1</td>\n",
       "      <td>женат / замужем</td>\n",
       "      <td>0</td>\n",
       "      <td>M</td>\n",
       "      <td>сотрудник</td>\n",
       "      <td>0</td>\n",
       "      <td>145885</td>\n",
       "      <td>покупка жилья</td>\n",
       "      <td>недвижимость</td>\n",
       "    </tr>\n",
       "    <tr>\n",
       "      <td>3</td>\n",
       "      <td>3</td>\n",
       "      <td>4124</td>\n",
       "      <td>32</td>\n",
       "      <td>среднее</td>\n",
       "      <td>1</td>\n",
       "      <td>женат / замужем</td>\n",
       "      <td>0</td>\n",
       "      <td>M</td>\n",
       "      <td>сотрудник</td>\n",
       "      <td>0</td>\n",
       "      <td>267628</td>\n",
       "      <td>дополнительное образование</td>\n",
       "      <td>образование</td>\n",
       "    </tr>\n",
       "    <tr>\n",
       "      <td>4</td>\n",
       "      <td>0</td>\n",
       "      <td>14177</td>\n",
       "      <td>53</td>\n",
       "      <td>среднее</td>\n",
       "      <td>1</td>\n",
       "      <td>гражданский брак</td>\n",
       "      <td>1</td>\n",
       "      <td>F</td>\n",
       "      <td>пенсионер</td>\n",
       "      <td>0</td>\n",
       "      <td>158616</td>\n",
       "      <td>сыграть свадьбу</td>\n",
       "      <td>свадьба</td>\n",
       "    </tr>\n",
       "    <tr>\n",
       "      <td>...</td>\n",
       "      <td>...</td>\n",
       "      <td>...</td>\n",
       "      <td>...</td>\n",
       "      <td>...</td>\n",
       "      <td>...</td>\n",
       "      <td>...</td>\n",
       "      <td>...</td>\n",
       "      <td>...</td>\n",
       "      <td>...</td>\n",
       "      <td>...</td>\n",
       "      <td>...</td>\n",
       "      <td>...</td>\n",
       "      <td>...</td>\n",
       "    </tr>\n",
       "    <tr>\n",
       "      <td>21449</td>\n",
       "      <td>1</td>\n",
       "      <td>4529</td>\n",
       "      <td>43</td>\n",
       "      <td>среднее</td>\n",
       "      <td>1</td>\n",
       "      <td>гражданский брак</td>\n",
       "      <td>1</td>\n",
       "      <td>F</td>\n",
       "      <td>компаньон</td>\n",
       "      <td>0</td>\n",
       "      <td>224791</td>\n",
       "      <td>операции с жильем</td>\n",
       "      <td>недвижимость</td>\n",
       "    </tr>\n",
       "    <tr>\n",
       "      <td>21450</td>\n",
       "      <td>0</td>\n",
       "      <td>14330</td>\n",
       "      <td>67</td>\n",
       "      <td>среднее</td>\n",
       "      <td>1</td>\n",
       "      <td>женат / замужем</td>\n",
       "      <td>0</td>\n",
       "      <td>F</td>\n",
       "      <td>пенсионер</td>\n",
       "      <td>0</td>\n",
       "      <td>155999</td>\n",
       "      <td>сделка с автомобилем</td>\n",
       "      <td>автомобиль</td>\n",
       "    </tr>\n",
       "    <tr>\n",
       "      <td>21451</td>\n",
       "      <td>1</td>\n",
       "      <td>2113</td>\n",
       "      <td>38</td>\n",
       "      <td>среднее</td>\n",
       "      <td>1</td>\n",
       "      <td>гражданский брак</td>\n",
       "      <td>1</td>\n",
       "      <td>M</td>\n",
       "      <td>сотрудник</td>\n",
       "      <td>1</td>\n",
       "      <td>89672</td>\n",
       "      <td>недвижимость</td>\n",
       "      <td>недвижимость</td>\n",
       "    </tr>\n",
       "    <tr>\n",
       "      <td>21452</td>\n",
       "      <td>3</td>\n",
       "      <td>3112</td>\n",
       "      <td>38</td>\n",
       "      <td>среднее</td>\n",
       "      <td>1</td>\n",
       "      <td>женат / замужем</td>\n",
       "      <td>0</td>\n",
       "      <td>M</td>\n",
       "      <td>сотрудник</td>\n",
       "      <td>1</td>\n",
       "      <td>244093</td>\n",
       "      <td>на покупку своего автомобиля</td>\n",
       "      <td>автомобиль</td>\n",
       "    </tr>\n",
       "    <tr>\n",
       "      <td>21453</td>\n",
       "      <td>2</td>\n",
       "      <td>1984</td>\n",
       "      <td>40</td>\n",
       "      <td>среднее</td>\n",
       "      <td>1</td>\n",
       "      <td>женат / замужем</td>\n",
       "      <td>0</td>\n",
       "      <td>F</td>\n",
       "      <td>сотрудник</td>\n",
       "      <td>0</td>\n",
       "      <td>82047</td>\n",
       "      <td>на покупку автомобиля</td>\n",
       "      <td>автомобиль</td>\n",
       "    </tr>\n",
       "  </tbody>\n",
       "</table>\n",
       "<p>21454 rows × 13 columns</p>\n",
       "</div>"
      ],
      "text/plain": [
       "       children  days_employed  dob_years education education_id  \\\n",
       "0             1           8437         42    высшее            0   \n",
       "1             1           4024         36   среднее            1   \n",
       "2             0           5623         33   среднее            1   \n",
       "3             3           4124         32   среднее            1   \n",
       "4             0          14177         53   среднее            1   \n",
       "...         ...            ...        ...       ...          ...   \n",
       "21449         1           4529         43   среднее            1   \n",
       "21450         0          14330         67   среднее            1   \n",
       "21451         1           2113         38   среднее            1   \n",
       "21452         3           3112         38   среднее            1   \n",
       "21453         2           1984         40   среднее            1   \n",
       "\n",
       "          family_status family_status_id gender income_type debt  \\\n",
       "0       женат / замужем                0      F   сотрудник    0   \n",
       "1       женат / замужем                0      F   сотрудник    0   \n",
       "2       женат / замужем                0      M   сотрудник    0   \n",
       "3       женат / замужем                0      M   сотрудник    0   \n",
       "4      гражданский брак                1      F   пенсионер    0   \n",
       "...                 ...              ...    ...         ...  ...   \n",
       "21449  гражданский брак                1      F   компаньон    0   \n",
       "21450   женат / замужем                0      F   пенсионер    0   \n",
       "21451  гражданский брак                1      M   сотрудник    1   \n",
       "21452   женат / замужем                0      M   сотрудник    1   \n",
       "21453   женат / замужем                0      F   сотрудник    0   \n",
       "\n",
       "       total_income                       purpose lemmatized_purpose  \n",
       "0            253875                 покупка жилья       недвижимость  \n",
       "1            112080       приобретение автомобиля         автомобиль  \n",
       "2            145885                 покупка жилья       недвижимость  \n",
       "3            267628    дополнительное образование        образование  \n",
       "4            158616               сыграть свадьбу            свадьба  \n",
       "...             ...                           ...                ...  \n",
       "21449        224791             операции с жильем       недвижимость  \n",
       "21450        155999          сделка с автомобилем         автомобиль  \n",
       "21451         89672                  недвижимость       недвижимость  \n",
       "21452        244093  на покупку своего автомобиля         автомобиль  \n",
       "21453         82047         на покупку автомобиля         автомобиль  \n",
       "\n",
       "[21454 rows x 13 columns]"
      ]
     },
     "execution_count": 43,
     "metadata": {},
     "output_type": "execute_result"
    }
   ],
   "source": [
    "#в полученных целях кредита есть схожие категории, такие как \"недвижимость\" и \"жилье\". Объединим данные категории в категорию \"недвижимость\".\n",
    "\n",
    "data_2['lemmatized_purpose'] = data_2['lemmatized_purpose'].replace(to_replace=r'жилье', value='недвижимость')\n",
    "\n",
    "\n",
    "data_2"
   ]
  },
  {
   "cell_type": "code",
   "execution_count": 44,
   "metadata": {},
   "outputs": [
    {
     "name": "stdout",
     "output_type": "stream",
     "text": [
      "недвижимость    10811\n",
      "автомобиль       4306\n",
      "образование      4013\n",
      "свадьба          2324\n",
      "Name: lemmatized_purpose, dtype: int64\n"
     ]
    }
   ],
   "source": [
    "#проверим изменения\n",
    "print(data_2['lemmatized_purpose'].value_counts())"
   ]
  },
  {
   "cell_type": "markdown",
   "metadata": {},
   "source": [
    "<div style=\"border: 15px; border: 2px solid blue; padding: 15px;\">\n",
    "<b> Комментарий студента:</b>\n",
    "<hr>\n",
    "    По результатам анализа выше можно заметить, что наиболее часто люди берут кредит для покупки недвижимости. Теперь необходимо оценить как влияет цель кредита на возврат кредита в срок.\n",
    "</div>"
   ]
  },
  {
   "cell_type": "code",
   "execution_count": 45,
   "metadata": {},
   "outputs": [
    {
     "data": {
      "text/html": [
       "<div>\n",
       "<style scoped>\n",
       "    .dataframe tbody tr th:only-of-type {\n",
       "        vertical-align: middle;\n",
       "    }\n",
       "\n",
       "    .dataframe tbody tr th {\n",
       "        vertical-align: top;\n",
       "    }\n",
       "\n",
       "    .dataframe thead tr th {\n",
       "        text-align: left;\n",
       "    }\n",
       "\n",
       "    .dataframe thead tr:last-of-type th {\n",
       "        text-align: right;\n",
       "    }\n",
       "</style>\n",
       "<table border=\"1\" class=\"dataframe\">\n",
       "  <thead>\n",
       "    <tr>\n",
       "      <th></th>\n",
       "      <th colspan=\"2\" halign=\"left\">debt</th>\n",
       "    </tr>\n",
       "    <tr>\n",
       "      <th></th>\n",
       "      <th>sum</th>\n",
       "      <th>count</th>\n",
       "    </tr>\n",
       "    <tr>\n",
       "      <th>lemmatized_purpose</th>\n",
       "      <th></th>\n",
       "      <th></th>\n",
       "    </tr>\n",
       "  </thead>\n",
       "  <tbody>\n",
       "    <tr>\n",
       "      <td>автомобиль</td>\n",
       "      <td>403</td>\n",
       "      <td>4306</td>\n",
       "    </tr>\n",
       "    <tr>\n",
       "      <td>недвижимость</td>\n",
       "      <td>782</td>\n",
       "      <td>10811</td>\n",
       "    </tr>\n",
       "    <tr>\n",
       "      <td>образование</td>\n",
       "      <td>370</td>\n",
       "      <td>4013</td>\n",
       "    </tr>\n",
       "    <tr>\n",
       "      <td>свадьба</td>\n",
       "      <td>186</td>\n",
       "      <td>2324</td>\n",
       "    </tr>\n",
       "  </tbody>\n",
       "</table>\n",
       "</div>"
      ],
      "text/plain": [
       "                   debt       \n",
       "                    sum  count\n",
       "lemmatized_purpose            \n",
       "автомобиль          403   4306\n",
       "недвижимость        782  10811\n",
       "образование         370   4013\n",
       "свадьба             186   2324"
      ]
     },
     "execution_count": 45,
     "metadata": {},
     "output_type": "execute_result"
    }
   ],
   "source": [
    "#посчитаем кол-во людей с задолженностью в каждой группе и на какие цели чаще всего берут кредиты\n",
    "\n",
    "purpose_debt = data_2.groupby('lemmatized_purpose').agg({'debt':['sum', 'count']})\n",
    "\n",
    "purpose_debt"
   ]
  },
  {
   "cell_type": "code",
   "execution_count": 46,
   "metadata": {},
   "outputs": [
    {
     "data": {
      "text/plain": [
       "lemmatized_purpose\n",
       "автомобиль      0.093590\n",
       "образование     0.092200\n",
       "свадьба         0.080034\n",
       "недвижимость    0.072334\n",
       "dtype: float64"
      ]
     },
     "execution_count": 46,
     "metadata": {},
     "output_type": "execute_result"
    }
   ],
   "source": [
    "#вычислим отношение количества задолженностей в зависимости от целей кредита к общему числу людей,\n",
    "#которые брали кредит на те или иные цели\n",
    "\n",
    "purpose_debt_avg = purpose_debt['debt']['sum']/purpose_debt['debt']['count']\n",
    "purpose_debt_avg.sort_values(ascending=False)"
   ]
  },
  {
   "cell_type": "code",
   "execution_count": 47,
   "metadata": {},
   "outputs": [
    {
     "data": {
      "text/plain": [
       "lemmatized_purpose\n",
       "недвижимость    142895\n",
       "свадьба         142594\n",
       "образование     142594\n",
       "автомобиль      142594\n",
       "Name: total_income, dtype: int64"
      ]
     },
     "execution_count": 47,
     "metadata": {},
     "output_type": "execute_result"
    }
   ],
   "source": [
    "#посчитаем медианный ежемесячный доход в зависимости от цели кредита\n",
    "\n",
    "purpose_income = data_2.groupby('lemmatized_purpose')['total_income'].median().sort_values(ascending=False)\n",
    "purpose_income"
   ]
  },
  {
   "cell_type": "markdown",
   "metadata": {},
   "source": [
    "**Вывод**"
   ]
  },
  {
   "cell_type": "markdown",
   "metadata": {},
   "source": [
    "Был проведен анализ целей кредита с помощью лемматизации. Также было установлено как влияют цели кредита на возврат кредита в срок. По результатам проведенной работы можно сказать, что наиболее часто имеют задолженность люди, которые берут кредит на автомобили и образование, это связано с тем, что ежемесячный доход у этих групп людей ниже среднего. При этом меньше всего людей имеют задолженность по кредиту на недвижимость, это объясняется более высоким ежемесячным доходом."
   ]
  },
  {
   "cell_type": "markdown",
   "metadata": {},
   "source": [
    "### Категоризация данных"
   ]
  },
  {
   "cell_type": "markdown",
   "metadata": {},
   "source": [
    "<div style=\"border: 15px; border: 2px solid blue; padding: 15px;\">\n",
    "<b> Комментарий студента:</b>\n",
    "<hr>\n",
    "    Для начала ответим на вопрос есть ли зависимость между наличием детей и возвратом кредита в срок? Для этого поделим выборку на тех, у кого есть дети и у кого их нет.\n",
    "</div>"
   ]
  },
  {
   "cell_type": "code",
   "execution_count": 48,
   "metadata": {},
   "outputs": [],
   "source": [
    "#сначала создадим новую категорию, в которой отразим наличие ребенка, либо его отсутствие.\n",
    "\n",
    "def child_ex(row):\n",
    "    \n",
    "    child_exist = row['children']\n",
    "    \n",
    "    if child_exist > 0:\n",
    "        return 'есть ребенок'\n",
    "    \n",
    "    return 'нет детей'\n",
    "    \n",
    "data['child_exist'] = data.apply(child_ex, axis=1)"
   ]
  },
  {
   "cell_type": "code",
   "execution_count": 49,
   "metadata": {},
   "outputs": [
    {
     "data": {
      "text/html": [
       "<div>\n",
       "<style scoped>\n",
       "    .dataframe tbody tr th:only-of-type {\n",
       "        vertical-align: middle;\n",
       "    }\n",
       "\n",
       "    .dataframe tbody tr th {\n",
       "        vertical-align: top;\n",
       "    }\n",
       "\n",
       "    .dataframe thead tr th {\n",
       "        text-align: left;\n",
       "    }\n",
       "\n",
       "    .dataframe thead tr:last-of-type th {\n",
       "        text-align: right;\n",
       "    }\n",
       "</style>\n",
       "<table border=\"1\" class=\"dataframe\">\n",
       "  <thead>\n",
       "    <tr>\n",
       "      <th></th>\n",
       "      <th colspan=\"2\" halign=\"left\">debt</th>\n",
       "    </tr>\n",
       "    <tr>\n",
       "      <th></th>\n",
       "      <th>sum</th>\n",
       "      <th>count</th>\n",
       "    </tr>\n",
       "    <tr>\n",
       "      <th>child_exist</th>\n",
       "      <th></th>\n",
       "      <th></th>\n",
       "    </tr>\n",
       "  </thead>\n",
       "  <tbody>\n",
       "    <tr>\n",
       "      <td>есть ребенок</td>\n",
       "      <td>669</td>\n",
       "      <td>7240</td>\n",
       "    </tr>\n",
       "    <tr>\n",
       "      <td>нет детей</td>\n",
       "      <td>1072</td>\n",
       "      <td>14214</td>\n",
       "    </tr>\n",
       "  </tbody>\n",
       "</table>\n",
       "</div>"
      ],
      "text/plain": [
       "              debt       \n",
       "               sum  count\n",
       "child_exist              \n",
       "есть ребенок   669   7240\n",
       "нет детей     1072  14214"
      ]
     },
     "execution_count": 49,
     "metadata": {},
     "output_type": "execute_result"
    }
   ],
   "source": [
    "#сгруппируем данные по столбцу 'child_exist' и вычислим необходимые значения столбца с наличием задолженности по кредиту\n",
    "child_depend = data.groupby('child_exist').agg({'debt':['sum', 'count']})\n",
    "child_depend"
   ]
  },
  {
   "cell_type": "code",
   "execution_count": 50,
   "metadata": {},
   "outputs": [
    {
     "data": {
      "text/plain": [
       "child_exist\n",
       "есть ребенок    0.092403\n",
       "нет детей       0.075419\n",
       "dtype: float64"
      ]
     },
     "execution_count": 50,
     "metadata": {},
     "output_type": "execute_result"
    }
   ],
   "source": [
    "#вычислим отношение должников к общему числу людей\n",
    "\n",
    "child_depend_rel = child_depend['debt']['sum']/child_depend['debt']['count']\n",
    "child_depend_rel.sort_values(ascending=False)"
   ]
  },
  {
   "cell_type": "markdown",
   "metadata": {},
   "source": [
    "<div style=\"border: 15px; border: 2px solid blue; padding: 15px;\">\n",
    "<b> Комментарий студента:</b>\n",
    "<hr>\n",
    "    Далее ответим на вопрос есть ли зависимость между семейным положением и возвратом кредита в срок? Интересно узнать как влияет наличие партнера на споособность возврата кредита в срок. \n",
    "</div>"
   ]
  },
  {
   "cell_type": "code",
   "execution_count": 51,
   "metadata": {},
   "outputs": [
    {
     "data": {
      "text/html": [
       "<div>\n",
       "<style scoped>\n",
       "    .dataframe tbody tr th:only-of-type {\n",
       "        vertical-align: middle;\n",
       "    }\n",
       "\n",
       "    .dataframe tbody tr th {\n",
       "        vertical-align: top;\n",
       "    }\n",
       "\n",
       "    .dataframe thead tr th {\n",
       "        text-align: left;\n",
       "    }\n",
       "\n",
       "    .dataframe thead tr:last-of-type th {\n",
       "        text-align: right;\n",
       "    }\n",
       "</style>\n",
       "<table border=\"1\" class=\"dataframe\">\n",
       "  <thead>\n",
       "    <tr>\n",
       "      <th></th>\n",
       "      <th colspan=\"2\" halign=\"left\">debt</th>\n",
       "    </tr>\n",
       "    <tr>\n",
       "      <th></th>\n",
       "      <th>sum</th>\n",
       "      <th>count</th>\n",
       "    </tr>\n",
       "    <tr>\n",
       "      <th>family_status</th>\n",
       "      <th></th>\n",
       "      <th></th>\n",
       "    </tr>\n",
       "  </thead>\n",
       "  <tbody>\n",
       "    <tr>\n",
       "      <td>Не женат / не замужем</td>\n",
       "      <td>274</td>\n",
       "      <td>2810</td>\n",
       "    </tr>\n",
       "    <tr>\n",
       "      <td>в разводе</td>\n",
       "      <td>85</td>\n",
       "      <td>1195</td>\n",
       "    </tr>\n",
       "    <tr>\n",
       "      <td>вдовец / вдова</td>\n",
       "      <td>63</td>\n",
       "      <td>959</td>\n",
       "    </tr>\n",
       "    <tr>\n",
       "      <td>гражданский брак</td>\n",
       "      <td>388</td>\n",
       "      <td>4151</td>\n",
       "    </tr>\n",
       "    <tr>\n",
       "      <td>женат / замужем</td>\n",
       "      <td>931</td>\n",
       "      <td>12339</td>\n",
       "    </tr>\n",
       "  </tbody>\n",
       "</table>\n",
       "</div>"
      ],
      "text/plain": [
       "                      debt       \n",
       "                       sum  count\n",
       "family_status                    \n",
       "Не женат / не замужем  274   2810\n",
       "в разводе               85   1195\n",
       "вдовец / вдова          63    959\n",
       "гражданский брак       388   4151\n",
       "женат / замужем        931  12339"
      ]
     },
     "execution_count": 51,
     "metadata": {},
     "output_type": "execute_result"
    }
   ],
   "source": [
    "#сгруппируем данные по столбцу 'fam_partner' и вычислим необходимые значения столбца с наличием задолженности по кредиту\n",
    "\n",
    "fam_stat_depend = data.groupby('family_status').agg({'debt':['sum', 'count']})\n",
    "fam_stat_depend"
   ]
  },
  {
   "cell_type": "code",
   "execution_count": 52,
   "metadata": {},
   "outputs": [
    {
     "data": {
      "text/html": [
       "<div>\n",
       "<style scoped>\n",
       "    .dataframe tbody tr th:only-of-type {\n",
       "        vertical-align: middle;\n",
       "    }\n",
       "\n",
       "    .dataframe tbody tr th {\n",
       "        vertical-align: top;\n",
       "    }\n",
       "\n",
       "    .dataframe thead th {\n",
       "        text-align: right;\n",
       "    }\n",
       "</style>\n",
       "<table border=\"1\" class=\"dataframe\">\n",
       "  <thead>\n",
       "    <tr style=\"text-align: right;\">\n",
       "      <th></th>\n",
       "      <th>children</th>\n",
       "      <th>days_employed</th>\n",
       "      <th>dob_years</th>\n",
       "      <th>education</th>\n",
       "      <th>education_id</th>\n",
       "      <th>family_status</th>\n",
       "      <th>family_status_id</th>\n",
       "      <th>gender</th>\n",
       "      <th>income_type</th>\n",
       "      <th>debt</th>\n",
       "      <th>total_income</th>\n",
       "      <th>purpose</th>\n",
       "      <th>lemmatized_purpose</th>\n",
       "      <th>child_exist</th>\n",
       "    </tr>\n",
       "  </thead>\n",
       "  <tbody>\n",
       "    <tr>\n",
       "      <td>0</td>\n",
       "      <td>1</td>\n",
       "      <td>8437</td>\n",
       "      <td>42</td>\n",
       "      <td>высшее</td>\n",
       "      <td>0</td>\n",
       "      <td>женат / замужем</td>\n",
       "      <td>0</td>\n",
       "      <td>F</td>\n",
       "      <td>сотрудник</td>\n",
       "      <td>0</td>\n",
       "      <td>253875</td>\n",
       "      <td>покупка жилья</td>\n",
       "      <td>[покупка,  , жилье, \\n]</td>\n",
       "      <td>есть ребенок</td>\n",
       "    </tr>\n",
       "    <tr>\n",
       "      <td>1</td>\n",
       "      <td>1</td>\n",
       "      <td>4024</td>\n",
       "      <td>36</td>\n",
       "      <td>среднее</td>\n",
       "      <td>1</td>\n",
       "      <td>женат / замужем</td>\n",
       "      <td>0</td>\n",
       "      <td>F</td>\n",
       "      <td>сотрудник</td>\n",
       "      <td>0</td>\n",
       "      <td>112080</td>\n",
       "      <td>приобретение автомобиля</td>\n",
       "      <td>[приобретение,  , автомобиль, \\n]</td>\n",
       "      <td>есть ребенок</td>\n",
       "    </tr>\n",
       "    <tr>\n",
       "      <td>2</td>\n",
       "      <td>0</td>\n",
       "      <td>5623</td>\n",
       "      <td>33</td>\n",
       "      <td>среднее</td>\n",
       "      <td>1</td>\n",
       "      <td>женат / замужем</td>\n",
       "      <td>0</td>\n",
       "      <td>M</td>\n",
       "      <td>сотрудник</td>\n",
       "      <td>0</td>\n",
       "      <td>145885</td>\n",
       "      <td>покупка жилья</td>\n",
       "      <td>[покупка,  , жилье, \\n]</td>\n",
       "      <td>нет детей</td>\n",
       "    </tr>\n",
       "    <tr>\n",
       "      <td>3</td>\n",
       "      <td>3</td>\n",
       "      <td>4124</td>\n",
       "      <td>32</td>\n",
       "      <td>среднее</td>\n",
       "      <td>1</td>\n",
       "      <td>женат / замужем</td>\n",
       "      <td>0</td>\n",
       "      <td>M</td>\n",
       "      <td>сотрудник</td>\n",
       "      <td>0</td>\n",
       "      <td>267628</td>\n",
       "      <td>дополнительное образование</td>\n",
       "      <td>[дополнительный,  , образование, \\n]</td>\n",
       "      <td>есть ребенок</td>\n",
       "    </tr>\n",
       "    <tr>\n",
       "      <td>4</td>\n",
       "      <td>0</td>\n",
       "      <td>14177</td>\n",
       "      <td>53</td>\n",
       "      <td>среднее</td>\n",
       "      <td>1</td>\n",
       "      <td>гражданский брак</td>\n",
       "      <td>1</td>\n",
       "      <td>F</td>\n",
       "      <td>пенсионер</td>\n",
       "      <td>0</td>\n",
       "      <td>158616</td>\n",
       "      <td>сыграть свадьбу</td>\n",
       "      <td>[сыграть,  , свадьба, \\n]</td>\n",
       "      <td>нет детей</td>\n",
       "    </tr>\n",
       "    <tr>\n",
       "      <td>...</td>\n",
       "      <td>...</td>\n",
       "      <td>...</td>\n",
       "      <td>...</td>\n",
       "      <td>...</td>\n",
       "      <td>...</td>\n",
       "      <td>...</td>\n",
       "      <td>...</td>\n",
       "      <td>...</td>\n",
       "      <td>...</td>\n",
       "      <td>...</td>\n",
       "      <td>...</td>\n",
       "      <td>...</td>\n",
       "      <td>...</td>\n",
       "      <td>...</td>\n",
       "    </tr>\n",
       "    <tr>\n",
       "      <td>21449</td>\n",
       "      <td>1</td>\n",
       "      <td>4529</td>\n",
       "      <td>43</td>\n",
       "      <td>среднее</td>\n",
       "      <td>1</td>\n",
       "      <td>гражданский брак</td>\n",
       "      <td>1</td>\n",
       "      <td>F</td>\n",
       "      <td>компаньон</td>\n",
       "      <td>0</td>\n",
       "      <td>224791</td>\n",
       "      <td>операции с жильем</td>\n",
       "      <td>[операция,  , с,  , жилье, \\n]</td>\n",
       "      <td>есть ребенок</td>\n",
       "    </tr>\n",
       "    <tr>\n",
       "      <td>21450</td>\n",
       "      <td>0</td>\n",
       "      <td>14330</td>\n",
       "      <td>67</td>\n",
       "      <td>среднее</td>\n",
       "      <td>1</td>\n",
       "      <td>женат / замужем</td>\n",
       "      <td>0</td>\n",
       "      <td>F</td>\n",
       "      <td>пенсионер</td>\n",
       "      <td>0</td>\n",
       "      <td>155999</td>\n",
       "      <td>сделка с автомобилем</td>\n",
       "      <td>[сделка,  , с,  , автомобиль, \\n]</td>\n",
       "      <td>нет детей</td>\n",
       "    </tr>\n",
       "    <tr>\n",
       "      <td>21451</td>\n",
       "      <td>1</td>\n",
       "      <td>2113</td>\n",
       "      <td>38</td>\n",
       "      <td>среднее</td>\n",
       "      <td>1</td>\n",
       "      <td>гражданский брак</td>\n",
       "      <td>1</td>\n",
       "      <td>M</td>\n",
       "      <td>сотрудник</td>\n",
       "      <td>1</td>\n",
       "      <td>89672</td>\n",
       "      <td>недвижимость</td>\n",
       "      <td>[недвижимость, \\n]</td>\n",
       "      <td>есть ребенок</td>\n",
       "    </tr>\n",
       "    <tr>\n",
       "      <td>21452</td>\n",
       "      <td>3</td>\n",
       "      <td>3112</td>\n",
       "      <td>38</td>\n",
       "      <td>среднее</td>\n",
       "      <td>1</td>\n",
       "      <td>женат / замужем</td>\n",
       "      <td>0</td>\n",
       "      <td>M</td>\n",
       "      <td>сотрудник</td>\n",
       "      <td>1</td>\n",
       "      <td>244093</td>\n",
       "      <td>на покупку своего автомобиля</td>\n",
       "      <td>[на,  , покупка,  , свой,  , автомобиль, \\n]</td>\n",
       "      <td>есть ребенок</td>\n",
       "    </tr>\n",
       "    <tr>\n",
       "      <td>21453</td>\n",
       "      <td>2</td>\n",
       "      <td>1984</td>\n",
       "      <td>40</td>\n",
       "      <td>среднее</td>\n",
       "      <td>1</td>\n",
       "      <td>женат / замужем</td>\n",
       "      <td>0</td>\n",
       "      <td>F</td>\n",
       "      <td>сотрудник</td>\n",
       "      <td>0</td>\n",
       "      <td>82047</td>\n",
       "      <td>на покупку автомобиля</td>\n",
       "      <td>[на,  , покупка,  , автомобиль, \\n]</td>\n",
       "      <td>есть ребенок</td>\n",
       "    </tr>\n",
       "  </tbody>\n",
       "</table>\n",
       "<p>21454 rows × 14 columns</p>\n",
       "</div>"
      ],
      "text/plain": [
       "       children  days_employed  dob_years education education_id  \\\n",
       "0             1           8437         42    высшее            0   \n",
       "1             1           4024         36   среднее            1   \n",
       "2             0           5623         33   среднее            1   \n",
       "3             3           4124         32   среднее            1   \n",
       "4             0          14177         53   среднее            1   \n",
       "...         ...            ...        ...       ...          ...   \n",
       "21449         1           4529         43   среднее            1   \n",
       "21450         0          14330         67   среднее            1   \n",
       "21451         1           2113         38   среднее            1   \n",
       "21452         3           3112         38   среднее            1   \n",
       "21453         2           1984         40   среднее            1   \n",
       "\n",
       "          family_status family_status_id gender income_type debt  \\\n",
       "0       женат / замужем                0      F   сотрудник    0   \n",
       "1       женат / замужем                0      F   сотрудник    0   \n",
       "2       женат / замужем                0      M   сотрудник    0   \n",
       "3       женат / замужем                0      M   сотрудник    0   \n",
       "4      гражданский брак                1      F   пенсионер    0   \n",
       "...                 ...              ...    ...         ...  ...   \n",
       "21449  гражданский брак                1      F   компаньон    0   \n",
       "21450   женат / замужем                0      F   пенсионер    0   \n",
       "21451  гражданский брак                1      M   сотрудник    1   \n",
       "21452   женат / замужем                0      M   сотрудник    1   \n",
       "21453   женат / замужем                0      F   сотрудник    0   \n",
       "\n",
       "       total_income                       purpose  \\\n",
       "0            253875                 покупка жилья   \n",
       "1            112080       приобретение автомобиля   \n",
       "2            145885                 покупка жилья   \n",
       "3            267628    дополнительное образование   \n",
       "4            158616               сыграть свадьбу   \n",
       "...             ...                           ...   \n",
       "21449        224791             операции с жильем   \n",
       "21450        155999          сделка с автомобилем   \n",
       "21451         89672                  недвижимость   \n",
       "21452        244093  на покупку своего автомобиля   \n",
       "21453         82047         на покупку автомобиля   \n",
       "\n",
       "                                 lemmatized_purpose   child_exist  \n",
       "0                           [покупка,  , жилье, \\n]  есть ребенок  \n",
       "1                 [приобретение,  , автомобиль, \\n]  есть ребенок  \n",
       "2                           [покупка,  , жилье, \\n]     нет детей  \n",
       "3              [дополнительный,  , образование, \\n]  есть ребенок  \n",
       "4                         [сыграть,  , свадьба, \\n]     нет детей  \n",
       "...                                             ...           ...  \n",
       "21449                [операция,  , с,  , жилье, \\n]  есть ребенок  \n",
       "21450             [сделка,  , с,  , автомобиль, \\n]     нет детей  \n",
       "21451                            [недвижимость, \\n]  есть ребенок  \n",
       "21452  [на,  , покупка,  , свой,  , автомобиль, \\n]  есть ребенок  \n",
       "21453           [на,  , покупка,  , автомобиль, \\n]  есть ребенок  \n",
       "\n",
       "[21454 rows x 14 columns]"
      ]
     },
     "execution_count": 52,
     "metadata": {},
     "output_type": "execute_result"
    }
   ],
   "source": [
    "data"
   ]
  },
  {
   "cell_type": "code",
   "execution_count": 53,
   "metadata": {},
   "outputs": [
    {
     "data": {
      "text/plain": [
       "family_status\n",
       "Не женат / не замужем    0.097509\n",
       "гражданский брак         0.093471\n",
       "женат / замужем          0.075452\n",
       "в разводе                0.071130\n",
       "вдовец / вдова           0.065693\n",
       "dtype: float64"
      ]
     },
     "execution_count": 53,
     "metadata": {},
     "output_type": "execute_result"
    }
   ],
   "source": [
    "# посчитаем отношение должников с партнером и без к общему числу людей\n",
    "fam_stat_depend_rel = fam_stat_depend['debt']['sum']/fam_stat_depend['debt']['count']\n",
    "fam_stat_depend_rel.sort_values(ascending=False)"
   ]
  },
  {
   "cell_type": "markdown",
   "metadata": {},
   "source": [
    "<div style=\"border: 15px; border: 2px solid blue; padding: 15px;\">\n",
    "<b> Комментарий студента:</b>\n",
    "<hr>\n",
    "    Для того, чтобы ответить на вопрос есть ли зависимость между уровнем дохода и возвратом кредита в срок, необходимо категоризировать данные из стоблца 'total_income'.\n",
    "</div>"
   ]
  },
  {
   "cell_type": "code",
   "execution_count": 54,
   "metadata": {},
   "outputs": [],
   "source": [
    "#для начала определим граничные и среднее значения столбца 'total_income'\n",
    "\n",
    "income_index = data['total_income'].agg({'total_income':['min', 'max', 'mean']})"
   ]
  },
  {
   "cell_type": "code",
   "execution_count": 55,
   "metadata": {},
   "outputs": [],
   "source": [
    "#далее напишем функцию, которая бы позволила присвоить уровням дохода категории\n",
    "\n",
    "def category_income(row):\n",
    "    \n",
    "    total_income = row['total_income']\n",
    "    \n",
    "    if total_income <= (income_index['total_income']['min']+income_index['total_income']['mean'])/2:\n",
    "        return 'низкий'\n",
    "    \n",
    "    if (income_index['total_income']['min']+income_index['total_income']['mean'])/2 < total_income <= income_index['total_income']['mean']:\n",
    "        return 'ниже среднего'\n",
    "        \n",
    "    if  income_index['total_income']['mean'] < total_income <= (income_index['total_income']['mean']+income_index['total_income']['max'])/2:\n",
    "        return 'выше среднего'\n",
    "    \n",
    "    if  total_income > (income_index['total_income']['mean']+income_index['total_income']['max'])/2:\n",
    "        return 'высокий'\n",
    "    \n",
    "data['category_income'] = data.apply(category_income, axis=1)"
   ]
  },
  {
   "cell_type": "code",
   "execution_count": 56,
   "metadata": {},
   "outputs": [
    {
     "data": {
      "text/plain": [
       "21454"
      ]
     },
     "execution_count": 56,
     "metadata": {},
     "output_type": "execute_result"
    }
   ],
   "source": [
    "data['category_income'].value_counts().sum()"
   ]
  },
  {
   "cell_type": "code",
   "execution_count": 57,
   "metadata": {},
   "outputs": [
    {
     "data": {
      "text/html": [
       "<div>\n",
       "<style scoped>\n",
       "    .dataframe tbody tr th:only-of-type {\n",
       "        vertical-align: middle;\n",
       "    }\n",
       "\n",
       "    .dataframe tbody tr th {\n",
       "        vertical-align: top;\n",
       "    }\n",
       "\n",
       "    .dataframe thead tr th {\n",
       "        text-align: left;\n",
       "    }\n",
       "\n",
       "    .dataframe thead tr:last-of-type th {\n",
       "        text-align: right;\n",
       "    }\n",
       "</style>\n",
       "<table border=\"1\" class=\"dataframe\">\n",
       "  <thead>\n",
       "    <tr>\n",
       "      <th></th>\n",
       "      <th colspan=\"2\" halign=\"left\">debt</th>\n",
       "    </tr>\n",
       "    <tr>\n",
       "      <th></th>\n",
       "      <th>sum</th>\n",
       "      <th>count</th>\n",
       "    </tr>\n",
       "    <tr>\n",
       "      <th>category_income</th>\n",
       "      <th></th>\n",
       "      <th></th>\n",
       "    </tr>\n",
       "  </thead>\n",
       "  <tbody>\n",
       "    <tr>\n",
       "      <td>высокий</td>\n",
       "      <td>1</td>\n",
       "      <td>13</td>\n",
       "    </tr>\n",
       "    <tr>\n",
       "      <td>выше среднего</td>\n",
       "      <td>623</td>\n",
       "      <td>8158</td>\n",
       "    </tr>\n",
       "    <tr>\n",
       "      <td>ниже среднего</td>\n",
       "      <td>826</td>\n",
       "      <td>9618</td>\n",
       "    </tr>\n",
       "    <tr>\n",
       "      <td>низкий</td>\n",
       "      <td>291</td>\n",
       "      <td>3665</td>\n",
       "    </tr>\n",
       "  </tbody>\n",
       "</table>\n",
       "</div>"
      ],
      "text/plain": [
       "                debt      \n",
       "                 sum count\n",
       "category_income           \n",
       "высокий            1    13\n",
       "выше среднего    623  8158\n",
       "ниже среднего    826  9618\n",
       "низкий           291  3665"
      ]
     },
     "execution_count": 57,
     "metadata": {},
     "output_type": "execute_result"
    }
   ],
   "source": [
    "income_depend = data.groupby('category_income').agg({'debt':['sum', 'count']})\n",
    "income_depend"
   ]
  },
  {
   "cell_type": "code",
   "execution_count": 58,
   "metadata": {},
   "outputs": [
    {
     "data": {
      "text/plain": [
       "category_income\n",
       "ниже среднего    0.085881\n",
       "низкий           0.079400\n",
       "высокий          0.076923\n",
       "выше среднего    0.076367\n",
       "dtype: float64"
      ]
     },
     "execution_count": 58,
     "metadata": {},
     "output_type": "execute_result"
    }
   ],
   "source": [
    "income_depend_rel = income_depend['debt']['sum']/income_depend['debt']['count']\n",
    "income_depend_rel.sort_values(ascending=False)"
   ]
  },
  {
   "cell_type": "markdown",
   "metadata": {},
   "source": [
    "**Вывод**"
   ]
  },
  {
   "cell_type": "markdown",
   "metadata": {},
   "source": [
    "В данном разделе была проведена категоризация данных по следующим признакам: по наличию детей, по семейному положению, а также по ежемесячному доходу. "
   ]
  },
  {
   "cell_type": "markdown",
   "metadata": {},
   "source": [
    "## Шаг 3. Ответьте на вопросы"
   ]
  },
  {
   "cell_type": "markdown",
   "metadata": {},
   "source": [
    "- Есть ли зависимость между наличием детей и возвратом кредита в срок?"
   ]
  },
  {
   "cell_type": "code",
   "execution_count": 59,
   "metadata": {},
   "outputs": [
    {
     "data": {
      "text/plain": [
       "child_exist\n",
       "есть ребенок    0.092403\n",
       "нет детей       0.075419\n",
       "dtype: float64"
      ]
     },
     "execution_count": 59,
     "metadata": {},
     "output_type": "execute_result"
    }
   ],
   "source": [
    "child_depend_rel.sort_values(ascending=False)"
   ]
  },
  {
   "cell_type": "markdown",
   "metadata": {},
   "source": [
    "**Вывод**"
   ]
  },
  {
   "cell_type": "markdown",
   "metadata": {},
   "source": [
    "Существует зависимость между наличием либо отсутсвием детей и возвратом кредита в срок. Люди, у которых нет детей, имели наименьший процент просрочек по сравнению с теми, у кого есть дети."
   ]
  },
  {
   "cell_type": "markdown",
   "metadata": {},
   "source": [
    "- Есть ли зависимость между семейным положением и возвратом кредита в срок?"
   ]
  },
  {
   "cell_type": "code",
   "execution_count": 60,
   "metadata": {},
   "outputs": [
    {
     "data": {
      "text/plain": [
       "family_status\n",
       "Не женат / не замужем    0.097509\n",
       "гражданский брак         0.093471\n",
       "женат / замужем          0.075452\n",
       "в разводе                0.071130\n",
       "вдовец / вдова           0.065693\n",
       "dtype: float64"
      ]
     },
     "execution_count": 60,
     "metadata": {},
     "output_type": "execute_result"
    }
   ],
   "source": [
    "fam_stat_depend_rel.sort_values(ascending=False)"
   ]
  },
  {
   "cell_type": "code",
   "execution_count": 61,
   "metadata": {},
   "outputs": [
    {
     "data": {
      "text/html": [
       "<div>\n",
       "<style scoped>\n",
       "    .dataframe tbody tr th:only-of-type {\n",
       "        vertical-align: middle;\n",
       "    }\n",
       "\n",
       "    .dataframe tbody tr th {\n",
       "        vertical-align: top;\n",
       "    }\n",
       "\n",
       "    .dataframe thead th {\n",
       "        text-align: right;\n",
       "    }\n",
       "</style>\n",
       "<table border=\"1\" class=\"dataframe\">\n",
       "  <thead>\n",
       "    <tr style=\"text-align: right;\">\n",
       "      <th>debt</th>\n",
       "      <th>0</th>\n",
       "      <th>1</th>\n",
       "    </tr>\n",
       "    <tr>\n",
       "      <th>family_status</th>\n",
       "      <th></th>\n",
       "      <th></th>\n",
       "    </tr>\n",
       "  </thead>\n",
       "  <tbody>\n",
       "    <tr>\n",
       "      <td>Не женат / не замужем</td>\n",
       "      <td>2536</td>\n",
       "      <td>274</td>\n",
       "    </tr>\n",
       "    <tr>\n",
       "      <td>в разводе</td>\n",
       "      <td>1110</td>\n",
       "      <td>85</td>\n",
       "    </tr>\n",
       "    <tr>\n",
       "      <td>вдовец / вдова</td>\n",
       "      <td>896</td>\n",
       "      <td>63</td>\n",
       "    </tr>\n",
       "    <tr>\n",
       "      <td>гражданский брак</td>\n",
       "      <td>3763</td>\n",
       "      <td>388</td>\n",
       "    </tr>\n",
       "    <tr>\n",
       "      <td>женат / замужем</td>\n",
       "      <td>11408</td>\n",
       "      <td>931</td>\n",
       "    </tr>\n",
       "  </tbody>\n",
       "</table>\n",
       "</div>"
      ],
      "text/plain": [
       "debt                       0    1\n",
       "family_status                    \n",
       "Не женат / не замужем   2536  274\n",
       "в разводе               1110   85\n",
       "вдовец / вдова           896   63\n",
       "гражданский брак        3763  388\n",
       "женат / замужем        11408  931"
      ]
     },
     "execution_count": 61,
     "metadata": {},
     "output_type": "execute_result"
    }
   ],
   "source": [
    "data.pivot_table(index='family_status', columns='debt', values='family_status_id', aggfunc='count')"
   ]
  },
  {
   "cell_type": "markdown",
   "metadata": {},
   "source": [
    "**Вывод**"
   ]
  },
  {
   "cell_type": "markdown",
   "metadata": {},
   "source": [
    "Как можно заметить, существует зависимость между семейным положением и возвратом кредита в срок. Наличие партнера положительно влияет на способность человека выплачивать кредит в срок. Это связано с тем, что в трудной ситуации есть возможность обратиться за помощью к партнеру."
   ]
  },
  {
   "cell_type": "markdown",
   "metadata": {},
   "source": [
    "- Есть ли зависимость между уровнем дохода и возвратом кредита в срок?"
   ]
  },
  {
   "cell_type": "code",
   "execution_count": 62,
   "metadata": {},
   "outputs": [
    {
     "data": {
      "text/plain": [
       "category_income\n",
       "ниже среднего    0.085881\n",
       "низкий           0.079400\n",
       "высокий          0.076923\n",
       "выше среднего    0.076367\n",
       "dtype: float64"
      ]
     },
     "execution_count": 62,
     "metadata": {},
     "output_type": "execute_result"
    }
   ],
   "source": [
    "income_depend_rel.sort_values(ascending=False)"
   ]
  },
  {
   "cell_type": "markdown",
   "metadata": {},
   "source": [
    "**Вывод**"
   ]
  },
  {
   "cell_type": "markdown",
   "metadata": {},
   "source": [
    "По данным, предствленным выше, можно сказать о том, что существует явная зависимость между уровнем дохода и возвратом кредита в срок. Люди с низким доходом имеют больше просрочек по кредиту, чем люди с доходом выше среднего. "
   ]
  },
  {
   "cell_type": "markdown",
   "metadata": {},
   "source": [
    "- Как разные цели кредита влияют на его возврат в срок?"
   ]
  },
  {
   "cell_type": "code",
   "execution_count": 63,
   "metadata": {},
   "outputs": [
    {
     "data": {
      "text/plain": [
       "lemmatized_purpose\n",
       "автомобиль      0.093590\n",
       "образование     0.092200\n",
       "свадьба         0.080034\n",
       "недвижимость    0.072334\n",
       "dtype: float64"
      ]
     },
     "execution_count": 63,
     "metadata": {},
     "output_type": "execute_result"
    }
   ],
   "source": [
    "purpose_debt_avg.sort_values(ascending=False)"
   ]
  },
  {
   "cell_type": "markdown",
   "metadata": {},
   "source": [
    "**Вывод**"
   ]
  },
  {
   "cell_type": "markdown",
   "metadata": {},
   "source": [
    "По результатам проведенной работы можно сказать, что наиболее часто имеют задолженность люди, которые берут кредит на автомобили и образование, это связано с тем, что ежемесячный доход у этих групп людей ниже среднего. При этом меньше всего людей имеют задолженность по кредиту на недвижимость, это объясняется более высоким ежемесячным доходом."
   ]
  },
  {
   "cell_type": "markdown",
   "metadata": {},
   "source": [
    "## Шаг 4. Общий вывод"
   ]
  },
  {
   "cell_type": "markdown",
   "metadata": {},
   "source": [
    "Мы ответили на 4 вопроса и установили, что:\n",
    "\n",
    "1. Существует зависимость между наличием либо отсутсвием детей и возвратом кредита в срок. Люди, у которых нет детей, имели наименьший процент просрочек по сравнению с теми, у кого есть дети.\n",
    "\n",
    "\n",
    "2. Существует зависимость между семейным положением и возвратом кредита в срок. Наличие партнера положительно влияет на способность человека выплачивать кредит в срок. Это связано с тем, что в трудной ситуации есть возможность обратиться за помощью к партнеру.\n",
    "\n",
    "\n",
    "3. Существует явная зависимость между уровнем дохода и возвратом кредита в срок. Люди с низким доходом имеют больше просрочек по кредиту, чем люди с доходом выше среднего. \n",
    "\n",
    "\n",
    "4. По результатам проведенной работы можно сказать, что наиболее часто имеют задолженность люди, которые берут кредит на автомобили и образование, это связано с тем, что ежемесячный доход у этих групп людей ниже среднего. При этом меньше всего людей имеют задолженность по кредиту на недвижимость, это объясняется более высоким ежемесячным доходом."
   ]
  }
 ],
 "metadata": {
  "ExecuteTimeLog": [
   {
    "duration": 602,
    "start_time": "2022-01-16T11:55:33.022Z"
   },
   {
    "duration": 54,
    "start_time": "2022-01-16T11:55:40.695Z"
   },
   {
    "duration": 56,
    "start_time": "2022-01-16T12:04:55.663Z"
   },
   {
    "duration": 61,
    "start_time": "2022-01-16T12:05:19.543Z"
   },
   {
    "duration": 12,
    "start_time": "2022-01-16T12:05:21.794Z"
   },
   {
    "duration": 58,
    "start_time": "2022-01-16T12:14:20.208Z"
   },
   {
    "duration": 270,
    "start_time": "2022-01-16T12:18:22.649Z"
   },
   {
    "duration": 7,
    "start_time": "2022-01-16T12:18:25.512Z"
   },
   {
    "duration": 6,
    "start_time": "2022-01-16T12:19:10.391Z"
   },
   {
    "duration": 4,
    "start_time": "2022-01-16T12:19:16.361Z"
   },
   {
    "duration": 5,
    "start_time": "2022-01-16T12:20:07.447Z"
   },
   {
    "duration": 5,
    "start_time": "2022-01-16T12:20:18.403Z"
   },
   {
    "duration": 10,
    "start_time": "2022-01-16T12:22:38.822Z"
   },
   {
    "duration": 56,
    "start_time": "2022-01-16T12:29:26.912Z"
   },
   {
    "duration": 11,
    "start_time": "2022-01-16T12:29:52.022Z"
   },
   {
    "duration": 11,
    "start_time": "2022-01-16T12:30:16.129Z"
   },
   {
    "duration": 12,
    "start_time": "2022-01-16T12:33:47.459Z"
   },
   {
    "duration": 22,
    "start_time": "2022-01-16T12:34:03.429Z"
   },
   {
    "duration": 3,
    "start_time": "2022-01-16T12:34:14.303Z"
   },
   {
    "duration": 12,
    "start_time": "2022-01-16T12:34:57.506Z"
   },
   {
    "duration": 13,
    "start_time": "2022-01-16T12:34:58.055Z"
   },
   {
    "duration": 12,
    "start_time": "2022-01-16T12:36:37.182Z"
   },
   {
    "duration": 18,
    "start_time": "2022-01-16T12:36:45.347Z"
   },
   {
    "duration": 10,
    "start_time": "2022-01-16T12:36:51.951Z"
   },
   {
    "duration": 2,
    "start_time": "2022-01-16T12:40:21.702Z"
   },
   {
    "duration": 3,
    "start_time": "2022-01-16T12:40:43.715Z"
   },
   {
    "duration": 10,
    "start_time": "2022-01-16T12:46:41.122Z"
   },
   {
    "duration": 19,
    "start_time": "2022-01-16T12:48:46.727Z"
   },
   {
    "duration": 20,
    "start_time": "2022-01-16T12:48:57.388Z"
   },
   {
    "duration": 22,
    "start_time": "2022-01-16T12:49:19.687Z"
   },
   {
    "duration": 13,
    "start_time": "2022-01-16T12:49:47.890Z"
   },
   {
    "duration": 48,
    "start_time": "2022-01-16T12:50:49.766Z"
   },
   {
    "duration": 48,
    "start_time": "2022-01-16T12:50:54.130Z"
   },
   {
    "duration": 46,
    "start_time": "2022-01-16T12:50:57.296Z"
   },
   {
    "duration": 13,
    "start_time": "2022-01-16T12:50:57.344Z"
   },
   {
    "duration": 12,
    "start_time": "2022-01-16T12:50:57.359Z"
   },
   {
    "duration": 69,
    "start_time": "2022-01-16T12:50:57.373Z"
   },
   {
    "duration": -27134,
    "start_time": "2022-01-16T12:51:24.578Z"
   },
   {
    "duration": -27138,
    "start_time": "2022-01-16T12:51:24.583Z"
   },
   {
    "duration": -27143,
    "start_time": "2022-01-16T12:51:24.589Z"
   },
   {
    "duration": -27144,
    "start_time": "2022-01-16T12:51:24.592Z"
   },
   {
    "duration": -27148,
    "start_time": "2022-01-16T12:51:24.597Z"
   },
   {
    "duration": -27151,
    "start_time": "2022-01-16T12:51:24.601Z"
   },
   {
    "duration": 47,
    "start_time": "2022-01-16T12:52:10.737Z"
   },
   {
    "duration": 13,
    "start_time": "2022-01-16T12:52:10.786Z"
   },
   {
    "duration": 11,
    "start_time": "2022-01-16T12:52:10.801Z"
   },
   {
    "duration": 2,
    "start_time": "2022-01-16T12:52:10.814Z"
   },
   {
    "duration": 13,
    "start_time": "2022-01-16T12:52:10.818Z"
   },
   {
    "duration": 16,
    "start_time": "2022-01-16T12:52:10.832Z"
   },
   {
    "duration": 4,
    "start_time": "2022-01-16T12:52:10.850Z"
   },
   {
    "duration": 46,
    "start_time": "2022-01-16T12:52:10.856Z"
   },
   {
    "duration": 16,
    "start_time": "2022-01-16T12:52:10.904Z"
   },
   {
    "duration": 12,
    "start_time": "2022-01-16T12:52:10.922Z"
   },
   {
    "duration": 17,
    "start_time": "2022-01-16T12:55:04.297Z"
   },
   {
    "duration": 211,
    "start_time": "2022-01-16T12:55:53.561Z"
   },
   {
    "duration": 12,
    "start_time": "2022-01-16T12:55:57.557Z"
   },
   {
    "duration": 9,
    "start_time": "2022-01-16T12:56:01.484Z"
   },
   {
    "duration": 14,
    "start_time": "2022-01-16T12:56:02.784Z"
   },
   {
    "duration": 4,
    "start_time": "2022-01-16T12:56:24.016Z"
   },
   {
    "duration": 4,
    "start_time": "2022-01-16T12:56:29.190Z"
   },
   {
    "duration": 51,
    "start_time": "2022-01-16T12:56:35.778Z"
   },
   {
    "duration": 13,
    "start_time": "2022-01-16T12:56:35.831Z"
   },
   {
    "duration": 13,
    "start_time": "2022-01-16T12:56:35.846Z"
   },
   {
    "duration": 2,
    "start_time": "2022-01-16T12:56:35.861Z"
   },
   {
    "duration": 42,
    "start_time": "2022-01-16T12:56:35.864Z"
   },
   {
    "duration": 12,
    "start_time": "2022-01-16T12:56:35.908Z"
   },
   {
    "duration": 5,
    "start_time": "2022-01-16T12:56:35.921Z"
   },
   {
    "duration": 12,
    "start_time": "2022-01-16T12:56:35.928Z"
   },
   {
    "duration": 10,
    "start_time": "2022-01-16T12:56:35.941Z"
   },
   {
    "duration": 4,
    "start_time": "2022-01-16T12:56:35.952Z"
   },
   {
    "duration": 46,
    "start_time": "2022-01-16T12:56:35.957Z"
   },
   {
    "duration": 227,
    "start_time": "2022-01-16T12:57:01.467Z"
   },
   {
    "duration": 4,
    "start_time": "2022-01-16T12:57:01.879Z"
   },
   {
    "duration": 18,
    "start_time": "2022-01-16T12:57:33.502Z"
   },
   {
    "duration": 4,
    "start_time": "2022-01-16T12:57:33.755Z"
   },
   {
    "duration": 13,
    "start_time": "2022-01-16T12:57:42.102Z"
   },
   {
    "duration": 15,
    "start_time": "2022-01-16T12:57:49.519Z"
   },
   {
    "duration": 18,
    "start_time": "2022-01-16T12:58:06.022Z"
   },
   {
    "duration": 15,
    "start_time": "2022-01-16T12:58:06.629Z"
   },
   {
    "duration": 6,
    "start_time": "2022-01-16T18:40:41.960Z"
   },
   {
    "duration": 4,
    "start_time": "2022-01-16T18:40:51.108Z"
   },
   {
    "duration": 5,
    "start_time": "2022-01-16T18:41:19.272Z"
   },
   {
    "duration": 260,
    "start_time": "2022-01-16T18:41:30.846Z"
   },
   {
    "duration": 4,
    "start_time": "2022-01-16T18:41:45.548Z"
   },
   {
    "duration": 24,
    "start_time": "2022-01-16T18:41:52.201Z"
   },
   {
    "duration": 5224,
    "start_time": "2022-01-16T18:44:01.755Z"
   },
   {
    "duration": -25967,
    "start_time": "2022-01-16T18:44:32.948Z"
   },
   {
    "duration": 3,
    "start_time": "2022-01-16T18:44:17.642Z"
   },
   {
    "duration": 3,
    "start_time": "2022-01-16T18:44:18.690Z"
   },
   {
    "duration": 50,
    "start_time": "2022-01-16T18:45:38.693Z"
   },
   {
    "duration": 12,
    "start_time": "2022-01-16T18:45:38.745Z"
   },
   {
    "duration": 12,
    "start_time": "2022-01-16T18:45:38.759Z"
   },
   {
    "duration": 4,
    "start_time": "2022-01-16T18:45:38.773Z"
   },
   {
    "duration": 11,
    "start_time": "2022-01-16T18:45:38.799Z"
   },
   {
    "duration": 14,
    "start_time": "2022-01-16T18:45:38.811Z"
   },
   {
    "duration": 6,
    "start_time": "2022-01-16T18:45:38.827Z"
   },
   {
    "duration": 11,
    "start_time": "2022-01-16T18:45:38.835Z"
   },
   {
    "duration": 17,
    "start_time": "2022-01-16T18:45:38.848Z"
   },
   {
    "duration": 45,
    "start_time": "2022-01-16T18:45:38.867Z"
   },
   {
    "duration": 15,
    "start_time": "2022-01-16T18:45:38.913Z"
   },
   {
    "duration": 6,
    "start_time": "2022-01-18T09:12:15.409Z"
   },
   {
    "duration": 102,
    "start_time": "2022-01-18T09:12:21.451Z"
   },
   {
    "duration": 97,
    "start_time": "2022-01-18T09:12:27.471Z"
   },
   {
    "duration": 888,
    "start_time": "2022-01-18T09:12:41.467Z"
   },
   {
    "duration": 10,
    "start_time": "2022-01-18T09:12:48.720Z"
   },
   {
    "duration": 9,
    "start_time": "2022-01-18T09:13:12.097Z"
   },
   {
    "duration": 329,
    "start_time": "2022-01-18T09:14:20.924Z"
   },
   {
    "duration": 4,
    "start_time": "2022-01-18T09:14:28.776Z"
   },
   {
    "duration": 6,
    "start_time": "2022-01-18T09:14:39.711Z"
   },
   {
    "duration": 6,
    "start_time": "2022-01-18T09:22:09.658Z"
   },
   {
    "duration": 641,
    "start_time": "2022-01-18T09:22:32.019Z"
   },
   {
    "duration": 17,
    "start_time": "2022-01-18T09:22:32.662Z"
   },
   {
    "duration": 11,
    "start_time": "2022-01-18T09:22:32.681Z"
   },
   {
    "duration": 2,
    "start_time": "2022-01-18T09:22:32.694Z"
   },
   {
    "duration": 13,
    "start_time": "2022-01-18T09:22:32.697Z"
   },
   {
    "duration": 22,
    "start_time": "2022-01-18T09:22:32.711Z"
   },
   {
    "duration": 3,
    "start_time": "2022-01-18T09:22:32.735Z"
   },
   {
    "duration": 17,
    "start_time": "2022-01-18T09:22:32.739Z"
   },
   {
    "duration": 15,
    "start_time": "2022-01-18T09:22:32.757Z"
   },
   {
    "duration": 10,
    "start_time": "2022-01-18T09:22:32.773Z"
   },
   {
    "duration": 12,
    "start_time": "2022-01-18T09:22:32.784Z"
   },
   {
    "duration": 34,
    "start_time": "2022-01-18T09:22:32.797Z"
   },
   {
    "duration": 5,
    "start_time": "2022-01-18T09:31:40.056Z"
   },
   {
    "duration": 4,
    "start_time": "2022-01-18T09:31:46.534Z"
   },
   {
    "duration": 5,
    "start_time": "2022-01-18T09:31:55.436Z"
   },
   {
    "duration": 7,
    "start_time": "2022-01-18T09:32:06.989Z"
   },
   {
    "duration": 4,
    "start_time": "2022-01-18T09:35:42.459Z"
   },
   {
    "duration": 8,
    "start_time": "2022-01-18T09:42:42.291Z"
   },
   {
    "duration": 11,
    "start_time": "2022-01-18T09:42:42.493Z"
   },
   {
    "duration": 715,
    "start_time": "2022-01-18T09:42:53.173Z"
   },
   {
    "duration": 9,
    "start_time": "2022-01-18T09:42:53.904Z"
   },
   {
    "duration": 4,
    "start_time": "2022-01-18T09:43:01.502Z"
   },
   {
    "duration": 10,
    "start_time": "2022-01-18T09:43:02.058Z"
   },
   {
    "duration": 4,
    "start_time": "2022-01-18T09:44:11.498Z"
   },
   {
    "duration": 6,
    "start_time": "2022-01-18T09:45:35.075Z"
   },
   {
    "duration": 22,
    "start_time": "2022-01-18T09:45:41.986Z"
   },
   {
    "duration": 4,
    "start_time": "2022-01-18T09:46:55.530Z"
   },
   {
    "duration": 10,
    "start_time": "2022-01-18T09:46:55.830Z"
   },
   {
    "duration": 15,
    "start_time": "2022-01-18T09:46:58.901Z"
   },
   {
    "duration": 5,
    "start_time": "2022-01-18T09:47:00.362Z"
   },
   {
    "duration": 9,
    "start_time": "2022-01-18T09:47:00.609Z"
   },
   {
    "duration": 19,
    "start_time": "2022-01-18T09:47:04.396Z"
   },
   {
    "duration": 4,
    "start_time": "2022-01-18T09:48:52.175Z"
   },
   {
    "duration": 4,
    "start_time": "2022-01-18T09:49:09.214Z"
   },
   {
    "duration": 7,
    "start_time": "2022-01-18T09:49:30.078Z"
   },
   {
    "duration": 4,
    "start_time": "2022-01-18T09:49:37.078Z"
   },
   {
    "duration": 5,
    "start_time": "2022-01-18T09:49:43.082Z"
   },
   {
    "duration": 5,
    "start_time": "2022-01-18T09:49:51.859Z"
   },
   {
    "duration": 11,
    "start_time": "2022-01-18T09:50:33.231Z"
   },
   {
    "duration": 4,
    "start_time": "2022-01-18T09:51:06.566Z"
   },
   {
    "duration": 5,
    "start_time": "2022-01-18T09:51:12.667Z"
   },
   {
    "duration": 5,
    "start_time": "2022-01-18T09:51:18.347Z"
   },
   {
    "duration": 4,
    "start_time": "2022-01-18T09:51:37.660Z"
   },
   {
    "duration": 16,
    "start_time": "2022-01-18T09:53:28.496Z"
   },
   {
    "duration": 17,
    "start_time": "2022-01-18T09:53:28.691Z"
   },
   {
    "duration": 6,
    "start_time": "2022-01-18T09:53:29.522Z"
   },
   {
    "duration": 5,
    "start_time": "2022-01-18T09:54:08.283Z"
   },
   {
    "duration": 6,
    "start_time": "2022-01-18T09:54:08.832Z"
   },
   {
    "duration": 5,
    "start_time": "2022-01-18T09:54:18.597Z"
   },
   {
    "duration": 6,
    "start_time": "2022-01-18T09:54:19.618Z"
   },
   {
    "duration": 4,
    "start_time": "2022-01-18T09:54:37.760Z"
   },
   {
    "duration": 6,
    "start_time": "2022-01-18T09:54:38.164Z"
   },
   {
    "duration": 5,
    "start_time": "2022-01-18T09:54:47.072Z"
   },
   {
    "duration": 6,
    "start_time": "2022-01-18T09:54:48.123Z"
   },
   {
    "duration": 571,
    "start_time": "2022-01-18T09:54:56.782Z"
   },
   {
    "duration": 17,
    "start_time": "2022-01-18T09:54:57.769Z"
   },
   {
    "duration": 10,
    "start_time": "2022-01-18T09:54:58.659Z"
   },
   {
    "duration": 2,
    "start_time": "2022-01-18T09:54:59.182Z"
   },
   {
    "duration": 11,
    "start_time": "2022-01-18T09:55:01.449Z"
   },
   {
    "duration": 11,
    "start_time": "2022-01-18T09:55:02.228Z"
   },
   {
    "duration": 5,
    "start_time": "2022-01-18T09:55:04.951Z"
   },
   {
    "duration": 14,
    "start_time": "2022-01-18T09:55:05.322Z"
   },
   {
    "duration": 1179,
    "start_time": "2022-01-18T09:55:05.840Z"
   },
   {
    "duration": -64,
    "start_time": "2022-01-18T09:55:07.085Z"
   },
   {
    "duration": 3,
    "start_time": "2022-01-18T09:55:07.148Z"
   },
   {
    "duration": 1118,
    "start_time": "2022-01-18T09:55:40.203Z"
   },
   {
    "duration": -43,
    "start_time": "2022-01-18T09:55:41.366Z"
   },
   {
    "duration": 5,
    "start_time": "2022-01-18T09:56:22.254Z"
   },
   {
    "duration": 11,
    "start_time": "2022-01-18T09:56:22.474Z"
   },
   {
    "duration": 6,
    "start_time": "2022-01-18T09:56:23.494Z"
   },
   {
    "duration": 19,
    "start_time": "2022-01-18T09:56:24.232Z"
   },
   {
    "duration": 20,
    "start_time": "2022-01-18T09:58:31.203Z"
   },
   {
    "duration": 1093,
    "start_time": "2022-01-18T09:58:48.759Z"
   },
   {
    "duration": 47,
    "start_time": "2022-01-18T10:00:09.575Z"
   },
   {
    "duration": 11,
    "start_time": "2022-01-18T10:00:10.341Z"
   },
   {
    "duration": 10,
    "start_time": "2022-01-18T10:00:10.703Z"
   },
   {
    "duration": 3,
    "start_time": "2022-01-18T10:00:12.035Z"
   },
   {
    "duration": 11,
    "start_time": "2022-01-18T10:00:14.223Z"
   },
   {
    "duration": 11,
    "start_time": "2022-01-18T10:00:15.308Z"
   },
   {
    "duration": 15,
    "start_time": "2022-01-18T10:00:17.620Z"
   },
   {
    "duration": 6,
    "start_time": "2022-01-18T10:00:20.361Z"
   },
   {
    "duration": 19,
    "start_time": "2022-01-18T10:00:22.731Z"
   },
   {
    "duration": 7,
    "start_time": "2022-01-18T10:00:23.787Z"
   },
   {
    "duration": 5,
    "start_time": "2022-01-18T10:00:25.254Z"
   },
   {
    "duration": 12,
    "start_time": "2022-01-18T10:00:38.480Z"
   },
   {
    "duration": 6,
    "start_time": "2022-01-18T10:00:40.166Z"
   },
   {
    "duration": 20,
    "start_time": "2022-01-18T10:00:40.681Z"
   },
   {
    "duration": 8,
    "start_time": "2022-01-18T10:04:21.799Z"
   },
   {
    "duration": 21,
    "start_time": "2022-01-18T10:04:22.988Z"
   },
   {
    "duration": 4,
    "start_time": "2022-01-18T10:04:35.009Z"
   },
   {
    "duration": 6,
    "start_time": "2022-01-18T10:06:05.592Z"
   },
   {
    "duration": 5,
    "start_time": "2022-01-18T10:06:09.980Z"
   },
   {
    "duration": 11,
    "start_time": "2022-01-18T10:07:30.051Z"
   },
   {
    "duration": 300,
    "start_time": "2022-01-18T10:22:39.887Z"
   },
   {
    "duration": 3,
    "start_time": "2022-01-18T10:22:55.890Z"
   },
   {
    "duration": 5,
    "start_time": "2022-01-18T10:22:59.220Z"
   },
   {
    "duration": 4,
    "start_time": "2022-01-18T10:23:15.070Z"
   },
   {
    "duration": 4,
    "start_time": "2022-01-18T10:23:21.122Z"
   },
   {
    "duration": 5,
    "start_time": "2022-01-18T10:23:25.575Z"
   },
   {
    "duration": 5,
    "start_time": "2022-01-18T10:23:30.298Z"
   },
   {
    "duration": 4,
    "start_time": "2022-01-18T10:23:40.158Z"
   },
   {
    "duration": 4,
    "start_time": "2022-01-18T10:23:51.046Z"
   },
   {
    "duration": 4,
    "start_time": "2022-01-18T10:24:05.519Z"
   },
   {
    "duration": 5,
    "start_time": "2022-01-18T10:24:10.434Z"
   },
   {
    "duration": 96,
    "start_time": "2022-01-18T10:24:15.462Z"
   },
   {
    "duration": 4,
    "start_time": "2022-01-18T10:24:18.730Z"
   },
   {
    "duration": 4,
    "start_time": "2022-01-18T10:24:24.656Z"
   },
   {
    "duration": 4,
    "start_time": "2022-01-18T10:24:28.571Z"
   },
   {
    "duration": 4,
    "start_time": "2022-01-18T10:24:54.564Z"
   },
   {
    "duration": 5,
    "start_time": "2022-01-18T10:24:59.030Z"
   },
   {
    "duration": 3,
    "start_time": "2022-01-18T10:25:03.362Z"
   },
   {
    "duration": 3,
    "start_time": "2022-01-18T10:25:05.345Z"
   },
   {
    "duration": 3,
    "start_time": "2022-01-18T10:25:13.737Z"
   },
   {
    "duration": 4,
    "start_time": "2022-01-18T10:25:14.190Z"
   },
   {
    "duration": 3,
    "start_time": "2022-01-18T10:25:17.404Z"
   },
   {
    "duration": 3,
    "start_time": "2022-01-18T10:25:17.793Z"
   },
   {
    "duration": 4,
    "start_time": "2022-01-18T10:25:24.993Z"
   },
   {
    "duration": 3,
    "start_time": "2022-01-18T10:25:25.781Z"
   },
   {
    "duration": 4,
    "start_time": "2022-01-18T10:25:26.185Z"
   },
   {
    "duration": 3,
    "start_time": "2022-01-18T10:25:35.696Z"
   },
   {
    "duration": 3,
    "start_time": "2022-01-18T10:25:40.697Z"
   },
   {
    "duration": 4,
    "start_time": "2022-01-18T10:25:41.299Z"
   },
   {
    "duration": 4,
    "start_time": "2022-01-18T10:25:49.757Z"
   },
   {
    "duration": 283,
    "start_time": "2022-01-18T10:26:14.247Z"
   },
   {
    "duration": 458,
    "start_time": "2022-01-18T10:26:33.404Z"
   },
   {
    "duration": 331,
    "start_time": "2022-01-18T10:26:37.324Z"
   },
   {
    "duration": 2,
    "start_time": "2022-01-18T10:42:56.248Z"
   },
   {
    "duration": 4,
    "start_time": "2022-01-18T10:42:56.943Z"
   },
   {
    "duration": 3,
    "start_time": "2022-01-19T07:28:41.895Z"
   },
   {
    "duration": 4,
    "start_time": "2022-01-19T07:28:42.838Z"
   },
   {
    "duration": 3,
    "start_time": "2022-01-19T07:28:45.531Z"
   },
   {
    "duration": 3,
    "start_time": "2022-01-19T07:28:46.002Z"
   },
   {
    "duration": 333,
    "start_time": "2022-01-20T09:59:20.601Z"
   },
   {
    "duration": 629,
    "start_time": "2022-01-20T09:59:25.582Z"
   },
   {
    "duration": 17,
    "start_time": "2022-01-20T09:59:26.213Z"
   },
   {
    "duration": 12,
    "start_time": "2022-01-20T09:59:26.232Z"
   },
   {
    "duration": 2,
    "start_time": "2022-01-20T09:59:26.245Z"
   },
   {
    "duration": 13,
    "start_time": "2022-01-20T09:59:26.249Z"
   },
   {
    "duration": 18,
    "start_time": "2022-01-20T09:59:26.263Z"
   },
   {
    "duration": 4,
    "start_time": "2022-01-20T09:59:26.283Z"
   },
   {
    "duration": 42,
    "start_time": "2022-01-20T09:59:26.289Z"
   },
   {
    "duration": 7,
    "start_time": "2022-01-20T09:59:26.333Z"
   },
   {
    "duration": 8,
    "start_time": "2022-01-20T09:59:26.342Z"
   },
   {
    "duration": 19,
    "start_time": "2022-01-20T09:59:26.351Z"
   },
   {
    "duration": 6,
    "start_time": "2022-01-20T09:59:26.371Z"
   },
   {
    "duration": 7,
    "start_time": "2022-01-20T09:59:26.378Z"
   },
   {
    "duration": 9,
    "start_time": "2022-01-20T09:59:26.386Z"
   },
   {
    "duration": 5,
    "start_time": "2022-01-20T09:59:26.397Z"
   },
   {
    "duration": 5,
    "start_time": "2022-01-20T09:59:26.404Z"
   },
   {
    "duration": 3,
    "start_time": "2022-01-20T09:59:26.427Z"
   },
   {
    "duration": 9,
    "start_time": "2022-01-20T09:59:26.431Z"
   },
   {
    "duration": 345,
    "start_time": "2022-01-20T09:59:26.441Z"
   },
   {
    "duration": -7,
    "start_time": "2022-01-20T09:59:26.794Z"
   },
   {
    "duration": -12,
    "start_time": "2022-01-20T09:59:26.800Z"
   },
   {
    "duration": 324,
    "start_time": "2022-01-20T09:59:39.924Z"
   },
   {
    "duration": 603,
    "start_time": "2022-01-20T10:07:26.680Z"
   },
   {
    "duration": 91,
    "start_time": "2022-01-20T10:17:19.861Z"
   },
   {
    "duration": 622,
    "start_time": "2022-01-20T10:17:27.109Z"
   },
   {
    "duration": 3859,
    "start_time": "2022-01-20T10:17:34.669Z"
   },
   {
    "duration": 4502,
    "start_time": "2022-01-20T10:18:17.689Z"
   },
   {
    "duration": 273,
    "start_time": "2022-01-20T10:18:30.440Z"
   },
   {
    "duration": 605,
    "start_time": "2022-01-20T10:18:42.048Z"
   },
   {
    "duration": 13,
    "start_time": "2022-01-20T10:18:58.939Z"
   },
   {
    "duration": 49,
    "start_time": "2022-01-20T10:19:07.444Z"
   },
   {
    "duration": 11,
    "start_time": "2022-01-20T10:19:07.495Z"
   },
   {
    "duration": 13,
    "start_time": "2022-01-20T10:19:07.508Z"
   },
   {
    "duration": 13,
    "start_time": "2022-01-20T10:19:07.522Z"
   },
   {
    "duration": 20,
    "start_time": "2022-01-20T10:19:07.537Z"
   },
   {
    "duration": 20,
    "start_time": "2022-01-20T10:19:07.559Z"
   },
   {
    "duration": 6,
    "start_time": "2022-01-20T10:19:07.580Z"
   },
   {
    "duration": 23,
    "start_time": "2022-01-20T10:19:07.588Z"
   },
   {
    "duration": 7,
    "start_time": "2022-01-20T10:19:07.612Z"
   },
   {
    "duration": 7,
    "start_time": "2022-01-20T10:19:07.620Z"
   },
   {
    "duration": 21,
    "start_time": "2022-01-20T10:19:07.629Z"
   },
   {
    "duration": 7,
    "start_time": "2022-01-20T10:19:07.652Z"
   },
   {
    "duration": 4,
    "start_time": "2022-01-20T10:19:07.661Z"
   },
   {
    "duration": 6,
    "start_time": "2022-01-20T10:19:07.667Z"
   },
   {
    "duration": 4,
    "start_time": "2022-01-20T10:19:07.674Z"
   },
   {
    "duration": 4,
    "start_time": "2022-01-20T10:19:07.680Z"
   },
   {
    "duration": 6,
    "start_time": "2022-01-20T10:19:07.685Z"
   },
   {
    "duration": 5,
    "start_time": "2022-01-20T10:19:07.692Z"
   },
   {
    "duration": 295,
    "start_time": "2022-01-20T10:19:07.698Z"
   },
   {
    "duration": -15,
    "start_time": "2022-01-20T10:19:08.010Z"
   },
   {
    "duration": -24,
    "start_time": "2022-01-20T10:19:08.020Z"
   },
   {
    "duration": 11,
    "start_time": "2022-01-20T10:19:33.831Z"
   },
   {
    "duration": 23,
    "start_time": "2022-01-20T10:19:43.174Z"
   },
   {
    "duration": 12,
    "start_time": "2022-01-20T10:19:58.239Z"
   },
   {
    "duration": 48,
    "start_time": "2022-01-20T10:20:02.477Z"
   },
   {
    "duration": 11,
    "start_time": "2022-01-20T10:20:02.682Z"
   },
   {
    "duration": 298,
    "start_time": "2022-01-20T10:21:43.273Z"
   },
   {
    "duration": 275,
    "start_time": "2022-01-20T10:21:54.390Z"
   },
   {
    "duration": 327,
    "start_time": "2022-01-21T04:39:07.989Z"
   },
   {
    "duration": 595,
    "start_time": "2022-01-21T04:39:15.702Z"
   },
   {
    "duration": 615,
    "start_time": "2022-01-21T04:39:20.445Z"
   },
   {
    "duration": 623,
    "start_time": "2022-01-21T04:39:45.978Z"
   },
   {
    "duration": 645,
    "start_time": "2022-01-21T04:39:50.489Z"
   },
   {
    "duration": 3,
    "start_time": "2022-01-21T04:44:35.463Z"
   },
   {
    "duration": 3688,
    "start_time": "2022-01-21T04:45:44.512Z"
   },
   {
    "duration": 4844,
    "start_time": "2022-01-21T04:46:03.652Z"
   },
   {
    "duration": 3533,
    "start_time": "2022-01-21T04:46:45.412Z"
   },
   {
    "duration": 3525,
    "start_time": "2022-01-21T04:46:54.387Z"
   },
   {
    "duration": 3404,
    "start_time": "2022-01-21T04:47:11.079Z"
   },
   {
    "duration": 3667,
    "start_time": "2022-01-21T04:47:56.003Z"
   },
   {
    "duration": 3353,
    "start_time": "2022-01-21T04:48:06.604Z"
   },
   {
    "duration": 3441,
    "start_time": "2022-01-21T04:48:19.895Z"
   },
   {
    "duration": 3295,
    "start_time": "2022-01-21T04:53:54.660Z"
   },
   {
    "duration": 1688,
    "start_time": "2022-01-21T04:54:48.128Z"
   },
   {
    "duration": 4211,
    "start_time": "2022-01-21T04:55:00.957Z"
   },
   {
    "duration": 92,
    "start_time": "2022-01-21T05:12:56.279Z"
   },
   {
    "duration": 111,
    "start_time": "2022-01-21T05:13:54.887Z"
   },
   {
    "duration": 95,
    "start_time": "2022-01-21T05:13:58.161Z"
   },
   {
    "duration": 4256,
    "start_time": "2022-01-21T05:16:52.728Z"
   },
   {
    "duration": 21,
    "start_time": "2022-01-21T05:17:36.834Z"
   },
   {
    "duration": 2817,
    "start_time": "2022-01-21T05:18:58.398Z"
   },
   {
    "duration": 86,
    "start_time": "2022-01-21T05:19:05.679Z"
   },
   {
    "duration": 5,
    "start_time": "2022-01-21T05:19:08.002Z"
   },
   {
    "duration": 3928,
    "start_time": "2022-01-21T05:29:26.651Z"
   },
   {
    "duration": 1949,
    "start_time": "2022-01-21T05:33:37.264Z"
   },
   {
    "duration": 1912,
    "start_time": "2022-01-21T05:33:53.393Z"
   },
   {
    "duration": 6,
    "start_time": "2022-01-21T05:36:38.036Z"
   },
   {
    "duration": 18,
    "start_time": "2022-01-21T05:37:09.351Z"
   },
   {
    "duration": 20,
    "start_time": "2022-01-21T05:42:25.600Z"
   },
   {
    "duration": 3,
    "start_time": "2022-01-21T07:22:59.909Z"
   },
   {
    "duration": 3,
    "start_time": "2022-01-21T07:33:59.151Z"
   },
   {
    "duration": 563,
    "start_time": "2022-01-21T07:34:32.011Z"
   },
   {
    "duration": 1596,
    "start_time": "2022-01-21T07:35:39.333Z"
   },
   {
    "duration": 60072,
    "start_time": "2022-01-21T07:36:04.502Z"
   },
   {
    "duration": 62293,
    "start_time": "2022-01-21T07:38:08.013Z"
   },
   {
    "duration": 559,
    "start_time": "2022-01-21T09:14:18.272Z"
   },
   {
    "duration": 486,
    "start_time": "2022-01-21T09:14:45.098Z"
   },
   {
    "duration": 3,
    "start_time": "2022-01-21T09:14:51.856Z"
   },
   {
    "duration": 13329,
    "start_time": "2022-01-21T09:14:52.161Z"
   },
   {
    "duration": 14740,
    "start_time": "2022-01-21T09:15:42.442Z"
   },
   {
    "duration": 80,
    "start_time": "2022-01-21T09:16:26.593Z"
   },
   {
    "duration": 48,
    "start_time": "2022-01-21T09:16:28.912Z"
   },
   {
    "duration": 42,
    "start_time": "2022-01-21T09:16:41.534Z"
   },
   {
    "duration": 38,
    "start_time": "2022-01-21T09:16:47.580Z"
   },
   {
    "duration": 50,
    "start_time": "2022-01-21T09:17:08.413Z"
   },
   {
    "duration": 3889,
    "start_time": "2022-01-21T09:19:07.437Z"
   },
   {
    "duration": 3672,
    "start_time": "2022-01-21T09:19:11.562Z"
   },
   {
    "duration": 4105,
    "start_time": "2022-01-21T09:19:16.137Z"
   },
   {
    "duration": 3689,
    "start_time": "2022-01-21T09:19:40.611Z"
   },
   {
    "duration": 1167,
    "start_time": "2022-01-21T09:19:51.469Z"
   },
   {
    "duration": -21,
    "start_time": "2022-01-21T09:19:52.659Z"
   },
   {
    "duration": -23,
    "start_time": "2022-01-21T09:19:52.663Z"
   },
   {
    "duration": 50,
    "start_time": "2022-01-21T09:20:05.092Z"
   },
   {
    "duration": 11,
    "start_time": "2022-01-21T09:20:05.144Z"
   },
   {
    "duration": 29,
    "start_time": "2022-01-21T09:20:05.157Z"
   },
   {
    "duration": 9,
    "start_time": "2022-01-21T09:20:05.188Z"
   },
   {
    "duration": 18,
    "start_time": "2022-01-21T09:20:05.198Z"
   },
   {
    "duration": 16,
    "start_time": "2022-01-21T09:20:05.217Z"
   },
   {
    "duration": 6,
    "start_time": "2022-01-21T09:20:05.235Z"
   },
   {
    "duration": 16,
    "start_time": "2022-01-21T09:20:05.244Z"
   },
   {
    "duration": 7,
    "start_time": "2022-01-21T09:20:05.263Z"
   },
   {
    "duration": 7,
    "start_time": "2022-01-21T09:20:05.272Z"
   },
   {
    "duration": 12,
    "start_time": "2022-01-21T09:20:05.281Z"
   },
   {
    "duration": 36,
    "start_time": "2022-01-21T09:20:05.295Z"
   },
   {
    "duration": 10,
    "start_time": "2022-01-21T09:20:05.333Z"
   },
   {
    "duration": 7,
    "start_time": "2022-01-21T09:20:05.344Z"
   },
   {
    "duration": 6,
    "start_time": "2022-01-21T09:20:05.352Z"
   },
   {
    "duration": 4,
    "start_time": "2022-01-21T09:20:05.360Z"
   },
   {
    "duration": 7,
    "start_time": "2022-01-21T09:20:05.365Z"
   },
   {
    "duration": 10,
    "start_time": "2022-01-21T09:20:05.373Z"
   },
   {
    "duration": 1289,
    "start_time": "2022-01-21T09:20:05.385Z"
   },
   {
    "duration": -19,
    "start_time": "2022-01-21T09:20:06.695Z"
   },
   {
    "duration": -19,
    "start_time": "2022-01-21T09:20:06.697Z"
   },
   {
    "duration": -27,
    "start_time": "2022-01-21T09:20:06.706Z"
   },
   {
    "duration": -28,
    "start_time": "2022-01-21T09:20:06.708Z"
   },
   {
    "duration": -28,
    "start_time": "2022-01-21T09:20:06.710Z"
   },
   {
    "duration": 5,
    "start_time": "2022-01-21T09:20:21.801Z"
   },
   {
    "duration": 17,
    "start_time": "2022-01-21T09:20:26.377Z"
   },
   {
    "duration": 4730,
    "start_time": "2022-01-21T09:20:27.685Z"
   },
   {
    "duration": 22,
    "start_time": "2022-01-21T09:20:40.156Z"
   },
   {
    "duration": 2076,
    "start_time": "2022-01-21T09:20:40.891Z"
   },
   {
    "duration": 2114,
    "start_time": "2022-01-21T09:21:15.722Z"
   },
   {
    "duration": 2033,
    "start_time": "2022-01-21T09:21:30.926Z"
   },
   {
    "duration": 2120,
    "start_time": "2022-01-21T09:21:40.582Z"
   },
   {
    "duration": 7,
    "start_time": "2022-01-21T09:22:06.537Z"
   },
   {
    "duration": 5,
    "start_time": "2022-01-21T09:22:16.166Z"
   },
   {
    "duration": 4414,
    "start_time": "2022-01-21T09:26:20.507Z"
   },
   {
    "duration": 14128,
    "start_time": "2022-01-21T09:26:39.043Z"
   },
   {
    "duration": 3912,
    "start_time": "2022-01-21T09:27:03.460Z"
   },
   {
    "duration": 58,
    "start_time": "2022-01-21T09:29:23.593Z"
   },
   {
    "duration": 47,
    "start_time": "2022-01-21T09:29:50.304Z"
   },
   {
    "duration": 5039,
    "start_time": "2022-01-21T09:29:59.367Z"
   },
   {
    "duration": 33,
    "start_time": "2022-01-21T09:30:04.409Z"
   },
   {
    "duration": 11,
    "start_time": "2022-01-21T09:30:04.444Z"
   },
   {
    "duration": 38,
    "start_time": "2022-01-21T09:30:04.456Z"
   },
   {
    "duration": 35,
    "start_time": "2022-01-21T09:32:01.359Z"
   },
   {
    "duration": 42,
    "start_time": "2022-01-21T09:32:13.016Z"
   },
   {
    "duration": 41,
    "start_time": "2022-01-21T09:32:54.225Z"
   },
   {
    "duration": 34,
    "start_time": "2022-01-21T09:33:26.134Z"
   },
   {
    "duration": 1192,
    "start_time": "2022-01-21T09:33:53.651Z"
   },
   {
    "duration": 1248,
    "start_time": "2022-01-21T09:34:18.255Z"
   },
   {
    "duration": 3321,
    "start_time": "2022-01-21T09:35:30.092Z"
   },
   {
    "duration": 3602,
    "start_time": "2022-01-21T09:35:37.459Z"
   },
   {
    "duration": 3457,
    "start_time": "2022-01-21T09:35:56.248Z"
   },
   {
    "duration": 1867,
    "start_time": "2022-01-21T09:36:30.744Z"
   },
   {
    "duration": 1314,
    "start_time": "2022-01-21T09:37:06.849Z"
   },
   {
    "duration": 1471,
    "start_time": "2022-01-21T09:37:17.704Z"
   },
   {
    "duration": 1382,
    "start_time": "2022-01-21T09:37:24.441Z"
   },
   {
    "duration": 46,
    "start_time": "2022-01-21T09:37:40.576Z"
   },
   {
    "duration": 15,
    "start_time": "2022-01-21T09:37:40.624Z"
   },
   {
    "duration": 18,
    "start_time": "2022-01-21T09:37:40.642Z"
   },
   {
    "duration": 4,
    "start_time": "2022-01-21T09:37:40.662Z"
   },
   {
    "duration": 19,
    "start_time": "2022-01-21T09:37:40.668Z"
   },
   {
    "duration": 48,
    "start_time": "2022-01-21T09:37:40.689Z"
   },
   {
    "duration": 4,
    "start_time": "2022-01-21T09:37:40.740Z"
   },
   {
    "duration": 21,
    "start_time": "2022-01-21T09:37:40.747Z"
   },
   {
    "duration": 6,
    "start_time": "2022-01-21T09:37:40.770Z"
   },
   {
    "duration": 7,
    "start_time": "2022-01-21T09:37:40.778Z"
   },
   {
    "duration": 12,
    "start_time": "2022-01-21T09:37:40.786Z"
   },
   {
    "duration": 27,
    "start_time": "2022-01-21T09:37:40.800Z"
   },
   {
    "duration": 4,
    "start_time": "2022-01-21T09:37:40.830Z"
   },
   {
    "duration": 17,
    "start_time": "2022-01-21T09:37:40.836Z"
   },
   {
    "duration": 6,
    "start_time": "2022-01-21T09:37:40.855Z"
   },
   {
    "duration": 7,
    "start_time": "2022-01-21T09:37:40.863Z"
   },
   {
    "duration": 7,
    "start_time": "2022-01-21T09:37:40.872Z"
   },
   {
    "duration": 6,
    "start_time": "2022-01-21T09:37:40.880Z"
   },
   {
    "duration": 7,
    "start_time": "2022-01-21T09:37:40.887Z"
   },
   {
    "duration": 34,
    "start_time": "2022-01-21T09:37:40.895Z"
   },
   {
    "duration": 4901,
    "start_time": "2022-01-21T09:37:40.932Z"
   },
   {
    "duration": 25,
    "start_time": "2022-01-21T09:37:45.835Z"
   },
   {
    "duration": 7,
    "start_time": "2022-01-21T09:37:45.862Z"
   },
   {
    "duration": 4101,
    "start_time": "2022-01-21T09:37:45.870Z"
   },
   {
    "duration": -79,
    "start_time": "2022-01-21T09:37:50.052Z"
   },
   {
    "duration": 4588,
    "start_time": "2022-01-21T09:41:26.741Z"
   },
   {
    "duration": 218,
    "start_time": "2022-01-21T09:41:50.537Z"
   },
   {
    "duration": 282,
    "start_time": "2022-01-21T09:42:14.617Z"
   },
   {
    "duration": 366,
    "start_time": "2022-01-21T09:42:30.675Z"
   },
   {
    "duration": 369,
    "start_time": "2022-01-21T09:42:54.465Z"
   },
   {
    "duration": 109,
    "start_time": "2022-01-21T09:43:05.431Z"
   },
   {
    "duration": 373,
    "start_time": "2022-01-21T09:43:12.099Z"
   },
   {
    "duration": 285,
    "start_time": "2022-01-21T09:43:51.226Z"
   },
   {
    "duration": 367,
    "start_time": "2022-01-21T09:44:08.292Z"
   },
   {
    "duration": 518,
    "start_time": "2022-01-21T10:40:05.979Z"
   },
   {
    "duration": 360,
    "start_time": "2022-01-21T10:40:17.082Z"
   },
   {
    "duration": 98,
    "start_time": "2022-01-21T10:46:47.990Z"
   },
   {
    "duration": 102,
    "start_time": "2022-01-21T10:46:53.716Z"
   },
   {
    "duration": 153,
    "start_time": "2022-01-21T10:47:10.664Z"
   },
   {
    "duration": 145,
    "start_time": "2022-01-21T10:48:43.767Z"
   },
   {
    "duration": 231,
    "start_time": "2022-01-21T10:49:12.245Z"
   },
   {
    "duration": 246,
    "start_time": "2022-01-21T10:49:16.867Z"
   },
   {
    "duration": 114,
    "start_time": "2022-01-21T10:49:23.378Z"
   },
   {
    "duration": 138,
    "start_time": "2022-01-21T10:50:39.046Z"
   },
   {
    "duration": 137,
    "start_time": "2022-01-21T10:50:42.771Z"
   },
   {
    "duration": 126,
    "start_time": "2022-01-21T10:53:06.893Z"
   },
   {
    "duration": 18,
    "start_time": "2022-01-21T10:55:38.230Z"
   },
   {
    "duration": 21,
    "start_time": "2022-01-21T10:55:43.972Z"
   },
   {
    "duration": 7721,
    "start_time": "2022-01-21T10:59:23.577Z"
   },
   {
    "duration": 3990,
    "start_time": "2022-01-21T10:59:37.626Z"
   },
   {
    "duration": 25,
    "start_time": "2022-01-21T10:59:41.618Z"
   },
   {
    "duration": 9,
    "start_time": "2022-01-21T10:59:41.645Z"
   },
   {
    "duration": 7966,
    "start_time": "2022-01-21T10:59:49.144Z"
   },
   {
    "duration": 129,
    "start_time": "2022-01-21T11:00:07.203Z"
   },
   {
    "duration": 135,
    "start_time": "2022-01-21T11:00:32.591Z"
   },
   {
    "duration": 22,
    "start_time": "2022-01-21T11:00:56.950Z"
   },
   {
    "duration": 89,
    "start_time": "2022-01-21T11:21:02.882Z"
   },
   {
    "duration": 127,
    "start_time": "2022-01-21T11:22:51.515Z"
   },
   {
    "duration": 139,
    "start_time": "2022-01-21T11:24:34.793Z"
   },
   {
    "duration": 5262,
    "start_time": "2022-01-21T11:25:06.912Z"
   },
   {
    "duration": 27,
    "start_time": "2022-01-21T11:25:12.176Z"
   },
   {
    "duration": 169,
    "start_time": "2022-01-21T11:25:12.206Z"
   },
   {
    "duration": 806,
    "start_time": "2022-01-21T11:31:04.920Z"
   },
   {
    "duration": 522,
    "start_time": "2022-01-21T11:34:30.130Z"
   },
   {
    "duration": 18,
    "start_time": "2022-01-21T11:34:32.266Z"
   },
   {
    "duration": 11,
    "start_time": "2022-01-21T11:35:51.958Z"
   },
   {
    "duration": 7527,
    "start_time": "2022-01-21T11:53:59.111Z"
   },
   {
    "duration": 4099,
    "start_time": "2022-01-21T11:54:15.894Z"
   },
   {
    "duration": 21,
    "start_time": "2022-01-21T11:54:21.271Z"
   },
   {
    "duration": 607,
    "start_time": "2022-01-21T11:54:22.421Z"
   },
   {
    "duration": 772,
    "start_time": "2022-01-21T11:55:42.076Z"
   },
   {
    "duration": 17,
    "start_time": "2022-01-21T11:55:49.008Z"
   },
   {
    "duration": 4208,
    "start_time": "2022-01-21T11:55:57.665Z"
   },
   {
    "duration": 21,
    "start_time": "2022-01-21T11:56:07.692Z"
   },
   {
    "duration": 643,
    "start_time": "2022-01-21T11:56:11.974Z"
   },
   {
    "duration": 174,
    "start_time": "2022-01-21T11:56:19.426Z"
   },
   {
    "duration": 108,
    "start_time": "2022-01-21T11:56:42.749Z"
   },
   {
    "duration": 290,
    "start_time": "2022-01-21T11:57:04.834Z"
   },
   {
    "duration": 47,
    "start_time": "2022-01-21T11:57:19.282Z"
   },
   {
    "duration": 6756,
    "start_time": "2022-01-21T11:58:40.798Z"
   },
   {
    "duration": 7712,
    "start_time": "2022-01-21T11:59:12.425Z"
   },
   {
    "duration": 52,
    "start_time": "2022-01-21T11:59:58.221Z"
   },
   {
    "duration": 49,
    "start_time": "2022-01-21T12:01:10.148Z"
   },
   {
    "duration": 976,
    "start_time": "2022-01-21T12:04:20.700Z"
   },
   {
    "duration": 4239,
    "start_time": "2022-01-21T12:04:28.075Z"
   },
   {
    "duration": 28,
    "start_time": "2022-01-21T12:04:32.316Z"
   },
   {
    "duration": 187,
    "start_time": "2022-01-21T12:04:32.346Z"
   },
   {
    "duration": 123,
    "start_time": "2022-01-21T12:05:24.983Z"
   },
   {
    "duration": 4081,
    "start_time": "2022-01-21T12:33:41.641Z"
   },
   {
    "duration": 954,
    "start_time": "2022-01-21T12:34:18.215Z"
   },
   {
    "duration": 3988,
    "start_time": "2022-01-21T12:34:23.840Z"
   },
   {
    "duration": 4281,
    "start_time": "2022-01-21T12:34:33.176Z"
   },
   {
    "duration": 21,
    "start_time": "2022-01-21T12:34:37.458Z"
   },
   {
    "duration": 134,
    "start_time": "2022-01-21T12:35:10.602Z"
   },
   {
    "duration": 120,
    "start_time": "2022-01-21T12:35:49.761Z"
   },
   {
    "duration": 124,
    "start_time": "2022-01-21T12:36:01.494Z"
   },
   {
    "duration": 284,
    "start_time": "2022-01-21T12:36:12.848Z"
   },
   {
    "duration": 4285,
    "start_time": "2022-01-21T12:36:18.725Z"
   },
   {
    "duration": 29,
    "start_time": "2022-01-21T12:36:23.012Z"
   },
   {
    "duration": 120,
    "start_time": "2022-01-21T12:36:23.043Z"
   },
   {
    "duration": 95,
    "start_time": "2022-01-21T12:37:16.127Z"
   },
   {
    "duration": 82,
    "start_time": "2022-01-21T12:37:52.455Z"
   },
   {
    "duration": 9,
    "start_time": "2022-01-21T12:38:34.984Z"
   },
   {
    "duration": 78,
    "start_time": "2022-01-21T12:39:06.411Z"
   },
   {
    "duration": 9,
    "start_time": "2022-01-21T12:39:06.635Z"
   },
   {
    "duration": 105,
    "start_time": "2022-01-21T12:39:15.004Z"
   },
   {
    "duration": 9,
    "start_time": "2022-01-21T12:39:15.794Z"
   },
   {
    "duration": 7,
    "start_time": "2022-01-21T12:42:55.357Z"
   },
   {
    "duration": 5,
    "start_time": "2022-01-21T12:53:31.694Z"
   },
   {
    "duration": 3712,
    "start_time": "2022-01-21T12:53:40.247Z"
   },
   {
    "duration": 96,
    "start_time": "2022-01-21T12:53:47.511Z"
   },
   {
    "duration": 8,
    "start_time": "2022-01-21T12:53:47.669Z"
   },
   {
    "duration": 4608,
    "start_time": "2022-01-21T12:54:01.741Z"
   },
   {
    "duration": 4430,
    "start_time": "2022-01-21T12:54:20.114Z"
   },
   {
    "duration": 103,
    "start_time": "2022-01-21T12:54:28.195Z"
   },
   {
    "duration": 25,
    "start_time": "2022-01-21T12:54:28.583Z"
   },
   {
    "duration": 2,
    "start_time": "2022-01-21T12:54:29.605Z"
   },
   {
    "duration": 306,
    "start_time": "2022-01-21T12:55:11.373Z"
   },
   {
    "duration": 298,
    "start_time": "2022-01-21T12:55:23.626Z"
   },
   {
    "duration": 8,
    "start_time": "2022-01-21T12:55:46.122Z"
   },
   {
    "duration": 7,
    "start_time": "2022-01-21T12:57:09.898Z"
   },
   {
    "duration": 214,
    "start_time": "2022-01-21T12:57:21.521Z"
   },
   {
    "duration": 4589,
    "start_time": "2022-01-21T12:57:27.468Z"
   },
   {
    "duration": 23,
    "start_time": "2022-01-21T12:57:32.059Z"
   },
   {
    "duration": 111,
    "start_time": "2022-01-21T12:57:32.084Z"
   },
   {
    "duration": 7,
    "start_time": "2022-01-21T12:57:32.197Z"
   },
   {
    "duration": 32,
    "start_time": "2022-01-21T12:57:32.206Z"
   },
   {
    "duration": 7,
    "start_time": "2022-01-21T12:57:32.239Z"
   },
   {
    "duration": 11,
    "start_time": "2022-01-21T13:04:15.519Z"
   },
   {
    "duration": 9,
    "start_time": "2022-01-21T13:04:47.223Z"
   },
   {
    "duration": 24,
    "start_time": "2022-01-21T13:05:03.670Z"
   },
   {
    "duration": 276,
    "start_time": "2022-01-22T06:33:52.170Z"
   },
   {
    "duration": 11,
    "start_time": "2022-01-22T06:33:52.448Z"
   },
   {
    "duration": 12,
    "start_time": "2022-01-22T06:33:52.461Z"
   },
   {
    "duration": 2,
    "start_time": "2022-01-22T06:33:52.475Z"
   },
   {
    "duration": 15,
    "start_time": "2022-01-22T06:33:52.479Z"
   },
   {
    "duration": 43,
    "start_time": "2022-01-22T06:33:52.495Z"
   },
   {
    "duration": 4,
    "start_time": "2022-01-22T06:33:52.540Z"
   },
   {
    "duration": 25,
    "start_time": "2022-01-22T06:33:52.546Z"
   },
   {
    "duration": 6,
    "start_time": "2022-01-22T06:33:52.573Z"
   },
   {
    "duration": 6,
    "start_time": "2022-01-22T06:33:52.581Z"
   },
   {
    "duration": 41,
    "start_time": "2022-01-22T06:33:52.589Z"
   },
   {
    "duration": 7,
    "start_time": "2022-01-22T06:33:52.631Z"
   },
   {
    "duration": 3,
    "start_time": "2022-01-22T06:33:52.640Z"
   },
   {
    "duration": 7,
    "start_time": "2022-01-22T06:33:52.645Z"
   },
   {
    "duration": 6,
    "start_time": "2022-01-22T06:33:52.654Z"
   },
   {
    "duration": 5,
    "start_time": "2022-01-22T06:33:52.661Z"
   },
   {
    "duration": 6,
    "start_time": "2022-01-22T06:33:52.668Z"
   },
   {
    "duration": 5,
    "start_time": "2022-01-22T06:33:52.675Z"
   },
   {
    "duration": 47,
    "start_time": "2022-01-22T06:33:52.681Z"
   },
   {
    "duration": 12,
    "start_time": "2022-01-22T06:33:52.729Z"
   },
   {
    "duration": 4131,
    "start_time": "2022-01-22T06:33:52.742Z"
   },
   {
    "duration": 23,
    "start_time": "2022-01-22T06:33:56.875Z"
   },
   {
    "duration": 139,
    "start_time": "2022-01-22T06:33:56.902Z"
   },
   {
    "duration": 7,
    "start_time": "2022-01-22T06:33:57.044Z"
   },
   {
    "duration": 39,
    "start_time": "2022-01-22T06:33:57.053Z"
   },
   {
    "duration": 37,
    "start_time": "2022-01-22T06:33:57.094Z"
   },
   {
    "duration": 35,
    "start_time": "2022-01-22T06:33:57.132Z"
   },
   {
    "duration": 26,
    "start_time": "2022-01-22T07:04:15.701Z"
   },
   {
    "duration": 818,
    "start_time": "2022-01-22T07:05:46.603Z"
   },
   {
    "duration": 17,
    "start_time": "2022-01-22T07:05:49.866Z"
   },
   {
    "duration": 4132,
    "start_time": "2022-01-22T07:05:57.761Z"
   },
   {
    "duration": 35,
    "start_time": "2022-01-22T07:06:01.896Z"
   },
   {
    "duration": 122,
    "start_time": "2022-01-22T07:06:01.933Z"
   },
   {
    "duration": 8,
    "start_time": "2022-01-22T07:06:03.716Z"
   },
   {
    "duration": 26,
    "start_time": "2022-01-22T07:06:07.964Z"
   },
   {
    "duration": 26,
    "start_time": "2022-01-22T07:09:07.868Z"
   },
   {
    "duration": 2400,
    "start_time": "2022-01-22T07:10:09.782Z"
   },
   {
    "duration": 17,
    "start_time": "2022-01-22T07:10:13.349Z"
   },
   {
    "duration": 4171,
    "start_time": "2022-01-22T07:10:19.831Z"
   },
   {
    "duration": 34,
    "start_time": "2022-01-22T07:10:24.005Z"
   },
   {
    "duration": 120,
    "start_time": "2022-01-22T07:10:24.042Z"
   },
   {
    "duration": 9,
    "start_time": "2022-01-22T07:10:24.164Z"
   },
   {
    "duration": 27,
    "start_time": "2022-01-22T07:10:24.733Z"
   },
   {
    "duration": 24,
    "start_time": "2022-01-22T07:11:22.822Z"
   },
   {
    "duration": 8,
    "start_time": "2022-01-22T07:11:29.308Z"
   },
   {
    "duration": 25,
    "start_time": "2022-01-22T07:11:33.562Z"
   },
   {
    "duration": 23,
    "start_time": "2022-01-22T07:21:42.680Z"
   },
   {
    "duration": 48,
    "start_time": "2022-01-22T07:22:31.981Z"
   },
   {
    "duration": 8,
    "start_time": "2022-01-22T07:22:57.129Z"
   },
   {
    "duration": 20,
    "start_time": "2022-01-22T07:23:10.568Z"
   },
   {
    "duration": 960,
    "start_time": "2022-01-22T07:23:55.018Z"
   },
   {
    "duration": 17,
    "start_time": "2022-01-22T07:23:58.264Z"
   },
   {
    "duration": 3837,
    "start_time": "2022-01-22T07:24:15.458Z"
   },
   {
    "duration": 30,
    "start_time": "2022-01-22T07:24:19.297Z"
   },
   {
    "duration": 113,
    "start_time": "2022-01-22T07:24:19.329Z"
   },
   {
    "duration": 6,
    "start_time": "2022-01-22T07:24:19.444Z"
   },
   {
    "duration": 21,
    "start_time": "2022-01-22T07:24:20.830Z"
   },
   {
    "duration": 8,
    "start_time": "2022-01-22T07:24:51.807Z"
   },
   {
    "duration": 48,
    "start_time": "2022-01-22T07:25:03.053Z"
   },
   {
    "duration": 8,
    "start_time": "2022-01-22T07:25:06.575Z"
   },
   {
    "duration": 48,
    "start_time": "2022-01-22T07:25:18.007Z"
   },
   {
    "duration": 9,
    "start_time": "2022-01-22T07:25:18.843Z"
   },
   {
    "duration": 49,
    "start_time": "2022-01-22T07:26:31.392Z"
   },
   {
    "duration": 178,
    "start_time": "2022-01-22T07:26:48.295Z"
   },
   {
    "duration": 755,
    "start_time": "2022-01-22T07:27:16.984Z"
   },
   {
    "duration": 18,
    "start_time": "2022-01-22T07:27:24.214Z"
   },
   {
    "duration": 4256,
    "start_time": "2022-01-22T07:27:31.503Z"
   },
   {
    "duration": 21,
    "start_time": "2022-01-22T07:27:35.761Z"
   },
   {
    "duration": 107,
    "start_time": "2022-01-22T07:27:38.553Z"
   },
   {
    "duration": 8,
    "start_time": "2022-01-22T07:27:39.530Z"
   },
   {
    "duration": 178,
    "start_time": "2022-01-22T07:27:42.085Z"
   },
   {
    "duration": 173,
    "start_time": "2022-01-22T07:28:12.543Z"
   },
   {
    "duration": 8,
    "start_time": "2022-01-22T07:28:21.386Z"
   },
   {
    "duration": 28,
    "start_time": "2022-01-22T07:28:44.646Z"
   },
   {
    "duration": 25,
    "start_time": "2022-01-22T07:32:41.622Z"
   },
   {
    "duration": 9,
    "start_time": "2022-01-22T07:32:51.128Z"
   },
   {
    "duration": 23,
    "start_time": "2022-01-22T07:32:56.657Z"
   },
   {
    "duration": 26,
    "start_time": "2022-01-22T07:39:40.607Z"
   },
   {
    "duration": 27,
    "start_time": "2022-01-22T07:41:40.099Z"
   },
   {
    "duration": 768,
    "start_time": "2022-01-22T07:42:17.150Z"
   },
   {
    "duration": 17,
    "start_time": "2022-01-22T07:42:18.728Z"
   },
   {
    "duration": 4073,
    "start_time": "2022-01-22T07:42:25.745Z"
   },
   {
    "duration": 21,
    "start_time": "2022-01-22T07:42:29.827Z"
   },
   {
    "duration": 122,
    "start_time": "2022-01-22T07:42:29.849Z"
   },
   {
    "duration": 6,
    "start_time": "2022-01-22T07:42:29.973Z"
   },
   {
    "duration": 28,
    "start_time": "2022-01-22T07:42:31.417Z"
   },
   {
    "duration": 25,
    "start_time": "2022-01-22T07:43:03.520Z"
   },
   {
    "duration": 325,
    "start_time": "2022-01-22T07:43:34.556Z"
   },
   {
    "duration": 12,
    "start_time": "2022-01-22T07:43:36.489Z"
   },
   {
    "duration": 4091,
    "start_time": "2022-01-22T07:43:45.258Z"
   },
   {
    "duration": 20,
    "start_time": "2022-01-22T07:43:49.351Z"
   },
   {
    "duration": 121,
    "start_time": "2022-01-22T07:43:49.373Z"
   },
   {
    "duration": 9,
    "start_time": "2022-01-22T07:43:51.369Z"
   },
   {
    "duration": 24,
    "start_time": "2022-01-22T07:43:55.632Z"
   },
   {
    "duration": 8,
    "start_time": "2022-01-22T07:44:02.382Z"
   },
   {
    "duration": 105,
    "start_time": "2022-01-22T07:51:22.477Z"
   },
   {
    "duration": 10,
    "start_time": "2022-01-22T07:52:20.291Z"
   },
   {
    "duration": 9,
    "start_time": "2022-01-22T07:52:50.541Z"
   },
   {
    "duration": 358,
    "start_time": "2022-01-22T07:53:02.012Z"
   },
   {
    "duration": 8,
    "start_time": "2022-01-22T07:53:12.365Z"
   },
   {
    "duration": 9,
    "start_time": "2022-01-22T07:53:19.746Z"
   },
   {
    "duration": 277,
    "start_time": "2022-01-22T07:54:42.465Z"
   },
   {
    "duration": 289,
    "start_time": "2022-01-22T07:54:58.623Z"
   },
   {
    "duration": 9,
    "start_time": "2022-01-22T07:58:01.889Z"
   },
   {
    "duration": 9,
    "start_time": "2022-01-22T07:58:16.777Z"
   },
   {
    "duration": 9,
    "start_time": "2022-01-22T07:58:19.703Z"
   },
   {
    "duration": 10,
    "start_time": "2022-01-22T07:59:43.216Z"
   },
   {
    "duration": 10,
    "start_time": "2022-01-22T08:04:31.492Z"
   },
   {
    "duration": 8,
    "start_time": "2022-01-22T08:04:57.884Z"
   },
   {
    "duration": 9,
    "start_time": "2022-01-22T08:05:43.453Z"
   },
   {
    "duration": 8,
    "start_time": "2022-01-22T08:06:03.293Z"
   },
   {
    "duration": 9,
    "start_time": "2022-01-22T08:06:11.808Z"
   },
   {
    "duration": 94,
    "start_time": "2022-01-22T11:32:51.271Z"
   },
   {
    "duration": 8,
    "start_time": "2022-01-22T11:38:55.713Z"
   },
   {
    "duration": 8,
    "start_time": "2022-01-22T11:39:05.682Z"
   },
   {
    "duration": 8,
    "start_time": "2022-01-22T11:39:54.967Z"
   },
   {
    "duration": 5,
    "start_time": "2022-01-22T11:40:02.058Z"
   },
   {
    "duration": 5,
    "start_time": "2022-01-22T11:40:28.455Z"
   },
   {
    "duration": 5,
    "start_time": "2022-01-22T11:40:45.456Z"
   },
   {
    "duration": 5,
    "start_time": "2022-01-22T11:41:28.151Z"
   },
   {
    "duration": 5,
    "start_time": "2022-01-22T11:41:35.019Z"
   },
   {
    "duration": 10,
    "start_time": "2022-01-22T11:41:35.839Z"
   },
   {
    "duration": 9,
    "start_time": "2022-01-22T11:42:34.378Z"
   },
   {
    "duration": 10,
    "start_time": "2022-01-22T11:42:46.067Z"
   },
   {
    "duration": 10,
    "start_time": "2022-01-22T11:42:52.631Z"
   },
   {
    "duration": 11,
    "start_time": "2022-01-22T11:45:22.017Z"
   },
   {
    "duration": 6,
    "start_time": "2022-01-22T11:46:40.292Z"
   },
   {
    "duration": 6,
    "start_time": "2022-01-22T11:46:58.427Z"
   },
   {
    "duration": 781,
    "start_time": "2022-01-22T11:54:07.184Z"
   },
   {
    "duration": 18,
    "start_time": "2022-01-22T11:54:08.245Z"
   },
   {
    "duration": 12,
    "start_time": "2022-01-22T11:54:30.530Z"
   },
   {
    "duration": 11,
    "start_time": "2022-01-22T11:54:45.419Z"
   },
   {
    "duration": 13,
    "start_time": "2022-01-22T11:54:57.059Z"
   },
   {
    "duration": 5,
    "start_time": "2022-01-22T11:55:55.359Z"
   },
   {
    "duration": 19,
    "start_time": "2022-01-22T11:56:06.852Z"
   },
   {
    "duration": 4,
    "start_time": "2022-01-22T11:56:42.755Z"
   },
   {
    "duration": 5,
    "start_time": "2022-01-22T11:57:08.789Z"
   },
   {
    "duration": 329,
    "start_time": "2022-01-22T11:58:54.816Z"
   },
   {
    "duration": 7,
    "start_time": "2022-01-22T11:58:55.355Z"
   },
   {
    "duration": 5,
    "start_time": "2022-01-22T11:59:13.316Z"
   },
   {
    "duration": 4,
    "start_time": "2022-01-22T11:59:14.978Z"
   },
   {
    "duration": 4,
    "start_time": "2022-01-22T11:59:39.728Z"
   },
   {
    "duration": 20,
    "start_time": "2022-01-22T12:00:18.841Z"
   },
   {
    "duration": 6,
    "start_time": "2022-01-22T12:01:11.360Z"
   },
   {
    "duration": 19,
    "start_time": "2022-01-22T12:01:59.489Z"
   },
   {
    "duration": 19,
    "start_time": "2022-01-22T12:04:12.651Z"
   },
   {
    "duration": 6,
    "start_time": "2022-01-22T12:04:43.098Z"
   },
   {
    "duration": 4,
    "start_time": "2022-01-22T12:06:23.420Z"
   },
   {
    "duration": 110,
    "start_time": "2022-01-22T12:09:00.156Z"
   },
   {
    "duration": 25,
    "start_time": "2022-01-22T12:21:03.426Z"
   },
   {
    "duration": 28,
    "start_time": "2022-01-22T12:21:25.096Z"
   },
   {
    "duration": 22,
    "start_time": "2022-01-22T12:21:47.513Z"
   },
   {
    "duration": 22,
    "start_time": "2022-01-22T12:22:45.440Z"
   },
   {
    "duration": 19,
    "start_time": "2022-01-22T12:22:59.941Z"
   },
   {
    "duration": 6,
    "start_time": "2022-01-22T12:23:03.403Z"
   },
   {
    "duration": 5,
    "start_time": "2022-01-22T12:23:03.717Z"
   },
   {
    "duration": 21,
    "start_time": "2022-01-22T12:23:04.953Z"
   },
   {
    "duration": 2,
    "start_time": "2022-01-22T12:24:44.688Z"
   },
   {
    "duration": 3,
    "start_time": "2022-01-22T12:24:47.975Z"
   },
   {
    "duration": 4,
    "start_time": "2022-01-22T12:24:51.731Z"
   },
   {
    "duration": 25,
    "start_time": "2022-01-22T12:26:40.914Z"
   },
   {
    "duration": 4,
    "start_time": "2022-01-22T12:27:29.608Z"
   },
   {
    "duration": 4,
    "start_time": "2022-01-22T12:27:44.183Z"
   },
   {
    "duration": 21,
    "start_time": "2022-01-22T12:39:51.575Z"
   },
   {
    "duration": 6,
    "start_time": "2022-01-22T12:39:51.888Z"
   },
   {
    "duration": 4,
    "start_time": "2022-01-22T12:39:52.830Z"
   },
   {
    "duration": 23,
    "start_time": "2022-01-22T12:39:53.698Z"
   },
   {
    "duration": 4,
    "start_time": "2022-01-22T12:39:55.715Z"
   },
   {
    "duration": 5,
    "start_time": "2022-01-22T12:39:57.020Z"
   },
   {
    "duration": 5,
    "start_time": "2022-01-22T12:43:14.693Z"
   },
   {
    "duration": 5,
    "start_time": "2022-01-22T12:43:22.706Z"
   },
   {
    "duration": 5,
    "start_time": "2022-01-22T12:43:38.275Z"
   },
   {
    "duration": 4,
    "start_time": "2022-01-22T12:43:38.793Z"
   },
   {
    "duration": 4,
    "start_time": "2022-01-22T12:44:11.224Z"
   },
   {
    "duration": 7,
    "start_time": "2022-01-22T17:05:46.900Z"
   },
   {
    "duration": 11,
    "start_time": "2022-01-22T17:10:32.805Z"
   },
   {
    "duration": 9,
    "start_time": "2022-01-22T17:11:00.822Z"
   },
   {
    "duration": 8,
    "start_time": "2022-01-22T17:11:01.123Z"
   },
   {
    "duration": 7864,
    "start_time": "2022-01-22T17:12:15.190Z"
   },
   {
    "duration": 7033,
    "start_time": "2022-01-22T17:12:51.986Z"
   },
   {
    "duration": 11,
    "start_time": "2022-01-22T17:13:19.199Z"
   },
   {
    "duration": 269,
    "start_time": "2022-01-22T17:13:27.519Z"
   },
   {
    "duration": 6810,
    "start_time": "2022-01-22T17:13:41.295Z"
   },
   {
    "duration": 299,
    "start_time": "2022-01-22T17:13:58.103Z"
   },
   {
    "duration": 336,
    "start_time": "2022-01-22T17:14:22.404Z"
   },
   {
    "duration": 13,
    "start_time": "2022-01-22T17:14:33.566Z"
   },
   {
    "duration": 13,
    "start_time": "2022-01-22T17:14:41.159Z"
   },
   {
    "duration": 12,
    "start_time": "2022-01-22T17:14:48.060Z"
   },
   {
    "duration": 6,
    "start_time": "2022-01-22T17:17:03.556Z"
   },
   {
    "duration": 7,
    "start_time": "2022-01-22T17:17:42.649Z"
   },
   {
    "duration": 6,
    "start_time": "2022-01-22T17:18:17.756Z"
   },
   {
    "duration": 20,
    "start_time": "2022-01-22T17:18:53.268Z"
   },
   {
    "duration": 6,
    "start_time": "2022-01-22T17:18:57.092Z"
   },
   {
    "duration": 7,
    "start_time": "2022-01-22T17:18:58.286Z"
   },
   {
    "duration": 6,
    "start_time": "2022-01-22T17:23:26.914Z"
   },
   {
    "duration": 6,
    "start_time": "2022-01-22T17:23:27.595Z"
   },
   {
    "duration": 5,
    "start_time": "2022-01-22T17:24:21.095Z"
   },
   {
    "duration": 25,
    "start_time": "2022-01-22T17:24:28.133Z"
   },
   {
    "duration": 39,
    "start_time": "2022-01-22T17:25:11.144Z"
   },
   {
    "duration": 5,
    "start_time": "2022-01-22T17:25:42.210Z"
   },
   {
    "duration": 5,
    "start_time": "2022-01-22T17:25:43.073Z"
   },
   {
    "duration": 4,
    "start_time": "2022-01-22T17:25:50.056Z"
   },
   {
    "duration": 24,
    "start_time": "2022-01-22T17:29:17.796Z"
   },
   {
    "duration": 376,
    "start_time": "2022-01-22T17:29:42.527Z"
   },
   {
    "duration": 141,
    "start_time": "2022-01-22T17:30:38.004Z"
   },
   {
    "duration": 278,
    "start_time": "2022-01-22T17:30:45.683Z"
   },
   {
    "duration": 239,
    "start_time": "2022-01-22T17:31:02.750Z"
   },
   {
    "duration": 12,
    "start_time": "2022-01-22T17:31:04.474Z"
   },
   {
    "duration": 12,
    "start_time": "2022-01-22T17:31:08.307Z"
   },
   {
    "duration": 34,
    "start_time": "2022-01-22T17:31:10.907Z"
   },
   {
    "duration": 6,
    "start_time": "2022-01-22T17:31:11.322Z"
   },
   {
    "duration": 7,
    "start_time": "2022-01-22T17:31:11.921Z"
   },
   {
    "duration": 6,
    "start_time": "2022-01-22T17:31:12.778Z"
   },
   {
    "duration": 36,
    "start_time": "2022-01-22T17:31:14.041Z"
   },
   {
    "duration": 6,
    "start_time": "2022-01-22T17:31:15.312Z"
   },
   {
    "duration": 6,
    "start_time": "2022-01-22T17:31:15.532Z"
   },
   {
    "duration": 5,
    "start_time": "2022-01-22T17:31:15.808Z"
   },
   {
    "duration": 4,
    "start_time": "2022-01-22T17:31:16.827Z"
   },
   {
    "duration": 20,
    "start_time": "2022-01-22T17:31:22.211Z"
   },
   {
    "duration": 12,
    "start_time": "2022-01-22T17:32:42.462Z"
   },
   {
    "duration": 10,
    "start_time": "2022-01-22T17:33:15.581Z"
   },
   {
    "duration": 917,
    "start_time": "2022-01-22T17:34:00.852Z"
   },
   {
    "duration": 18,
    "start_time": "2022-01-22T17:34:01.963Z"
   },
   {
    "duration": 24,
    "start_time": "2022-01-22T17:34:13.597Z"
   },
   {
    "duration": 8,
    "start_time": "2022-01-22T17:37:19.736Z"
   },
   {
    "duration": 343,
    "start_time": "2022-01-22T17:37:40.951Z"
   },
   {
    "duration": 6,
    "start_time": "2022-01-22T17:37:45.573Z"
   },
   {
    "duration": 3,
    "start_time": "2022-01-22T17:37:47.773Z"
   },
   {
    "duration": 8,
    "start_time": "2022-01-22T17:37:51.928Z"
   },
   {
    "duration": 4,
    "start_time": "2022-01-22T17:37:54.858Z"
   },
   {
    "duration": 20,
    "start_time": "2022-01-22T17:40:04.864Z"
   },
   {
    "duration": 33,
    "start_time": "2022-01-22T17:44:19.110Z"
   },
   {
    "duration": 31,
    "start_time": "2022-01-22T17:44:23.572Z"
   },
   {
    "duration": 33,
    "start_time": "2022-01-22T17:44:26.675Z"
   },
   {
    "duration": 780,
    "start_time": "2022-01-22T17:44:50.874Z"
   },
   {
    "duration": 17,
    "start_time": "2022-01-22T17:44:52.193Z"
   },
   {
    "duration": 12,
    "start_time": "2022-01-22T17:44:56.126Z"
   },
   {
    "duration": 63,
    "start_time": "2022-01-22T17:45:38.116Z"
   },
   {
    "duration": 10,
    "start_time": "2022-01-22T17:50:32.243Z"
   },
   {
    "duration": 87,
    "start_time": "2022-01-22T17:56:58.048Z"
   },
   {
    "duration": 7,
    "start_time": "2022-01-22T18:01:42.991Z"
   },
   {
    "duration": 334,
    "start_time": "2022-01-22T18:02:08.298Z"
   },
   {
    "duration": 8,
    "start_time": "2022-01-22T18:02:15.354Z"
   },
   {
    "duration": 7,
    "start_time": "2022-01-22T18:02:15.533Z"
   },
   {
    "duration": 7,
    "start_time": "2022-01-22T18:05:23.482Z"
   },
   {
    "duration": 3601,
    "start_time": "2022-01-22T18:06:12.095Z"
   },
   {
    "duration": 4,
    "start_time": "2022-01-22T18:06:18.500Z"
   },
   {
    "duration": 7,
    "start_time": "2022-01-22T18:06:28.814Z"
   },
   {
    "duration": 7,
    "start_time": "2022-01-22T18:06:41.098Z"
   },
   {
    "duration": 8,
    "start_time": "2022-01-22T18:08:09.306Z"
   },
   {
    "duration": 7,
    "start_time": "2022-01-22T18:08:25.927Z"
   },
   {
    "duration": 324,
    "start_time": "2022-01-22T18:08:35.638Z"
   },
   {
    "duration": 7,
    "start_time": "2022-01-22T18:08:49.187Z"
   },
   {
    "duration": 5,
    "start_time": "2022-01-22T18:09:03.688Z"
   },
   {
    "duration": 5,
    "start_time": "2022-01-22T18:09:07.621Z"
   },
   {
    "duration": 6,
    "start_time": "2022-01-22T18:09:16.526Z"
   },
   {
    "duration": 10,
    "start_time": "2022-01-22T18:09:21.107Z"
   },
   {
    "duration": 7,
    "start_time": "2022-01-22T18:09:28.946Z"
   },
   {
    "duration": 5,
    "start_time": "2022-01-22T18:10:16.268Z"
   },
   {
    "duration": 6,
    "start_time": "2022-01-22T18:10:23.241Z"
   },
   {
    "duration": 5,
    "start_time": "2022-01-22T18:10:27.650Z"
   },
   {
    "duration": 96,
    "start_time": "2022-01-22T18:11:22.672Z"
   },
   {
    "duration": 4,
    "start_time": "2022-01-22T18:11:28.345Z"
   },
   {
    "duration": 6,
    "start_time": "2022-01-22T18:11:42.322Z"
   },
   {
    "duration": 4,
    "start_time": "2022-01-22T18:12:08.411Z"
   },
   {
    "duration": 7,
    "start_time": "2022-01-22T18:12:13.913Z"
   },
   {
    "duration": 436,
    "start_time": "2022-01-22T18:12:37.595Z"
   },
   {
    "duration": 7,
    "start_time": "2022-01-22T18:13:07.895Z"
   },
   {
    "duration": 312,
    "start_time": "2022-01-22T18:13:58.052Z"
   },
   {
    "duration": 282,
    "start_time": "2022-01-22T18:14:25.403Z"
   },
   {
    "duration": 9,
    "start_time": "2022-01-22T18:14:27.766Z"
   },
   {
    "duration": 3,
    "start_time": "2022-01-22T18:14:27.906Z"
   },
   {
    "duration": 4,
    "start_time": "2022-01-22T18:14:31.786Z"
   },
   {
    "duration": 9,
    "start_time": "2022-01-22T18:15:13.497Z"
   },
   {
    "duration": 96,
    "start_time": "2022-01-22T18:18:08.651Z"
   },
   {
    "duration": 8,
    "start_time": "2022-01-22T18:18:18.350Z"
   },
   {
    "duration": 8,
    "start_time": "2022-01-22T18:18:43.149Z"
   },
   {
    "duration": 6,
    "start_time": "2022-01-22T18:19:03.538Z"
   },
   {
    "duration": 7,
    "start_time": "2022-01-22T18:19:08.068Z"
   },
   {
    "duration": 458,
    "start_time": "2022-01-23T11:12:51.916Z"
   },
   {
    "duration": 4,
    "start_time": "2022-01-23T11:13:03.264Z"
   },
   {
    "duration": 23,
    "start_time": "2022-01-23T11:13:06.239Z"
   },
   {
    "duration": 290,
    "start_time": "2022-01-23T11:16:10.388Z"
   },
   {
    "duration": 4,
    "start_time": "2022-01-23T11:16:25.147Z"
   },
   {
    "duration": 5,
    "start_time": "2022-01-23T11:16:30.922Z"
   },
   {
    "duration": 6,
    "start_time": "2022-01-23T11:16:44.495Z"
   },
   {
    "duration": 2,
    "start_time": "2022-01-23T11:17:14.640Z"
   },
   {
    "duration": 4,
    "start_time": "2022-01-23T11:17:19.663Z"
   },
   {
    "duration": 9,
    "start_time": "2022-01-23T11:19:24.474Z"
   },
   {
    "duration": 95,
    "start_time": "2022-01-23T11:23:01.200Z"
   },
   {
    "duration": 35,
    "start_time": "2022-01-23T11:26:39.085Z"
   },
   {
    "duration": 8,
    "start_time": "2022-01-23T11:27:06.564Z"
   },
   {
    "duration": 7,
    "start_time": "2022-01-23T11:27:55.066Z"
   },
   {
    "duration": 7,
    "start_time": "2022-01-23T11:29:16.195Z"
   },
   {
    "duration": 20,
    "start_time": "2022-01-23T11:30:59.436Z"
   },
   {
    "duration": 5,
    "start_time": "2022-01-23T11:43:41.498Z"
   },
   {
    "duration": 6,
    "start_time": "2022-01-23T11:43:45.440Z"
   },
   {
    "duration": 18,
    "start_time": "2022-01-23T11:44:15.679Z"
   },
   {
    "duration": 6,
    "start_time": "2022-01-23T11:44:54.779Z"
   },
   {
    "duration": 28,
    "start_time": "2022-01-23T11:45:40.319Z"
   },
   {
    "duration": 5,
    "start_time": "2022-01-23T11:45:47.487Z"
   },
   {
    "duration": 3,
    "start_time": "2022-01-23T12:56:12.528Z"
   },
   {
    "duration": 19,
    "start_time": "2022-01-23T12:56:20.471Z"
   },
   {
    "duration": 17,
    "start_time": "2022-01-23T12:57:08.745Z"
   },
   {
    "duration": 10,
    "start_time": "2022-01-23T12:57:14.043Z"
   },
   {
    "duration": 7,
    "start_time": "2022-01-23T12:57:15.211Z"
   },
   {
    "duration": 12,
    "start_time": "2022-01-23T12:57:16.074Z"
   },
   {
    "duration": 6,
    "start_time": "2022-01-23T12:57:19.481Z"
   },
   {
    "duration": 4,
    "start_time": "2022-01-23T12:57:20.078Z"
   },
   {
    "duration": 5,
    "start_time": "2022-01-23T12:57:20.713Z"
   },
   {
    "duration": 5,
    "start_time": "2022-01-23T12:57:21.264Z"
   },
   {
    "duration": 8,
    "start_time": "2022-01-23T12:58:20.719Z"
   },
   {
    "duration": 5,
    "start_time": "2022-01-23T13:00:07.298Z"
   },
   {
    "duration": 6,
    "start_time": "2022-01-23T13:06:13.358Z"
   },
   {
    "duration": 9,
    "start_time": "2022-01-23T13:06:17.982Z"
   },
   {
    "duration": 281,
    "start_time": "2022-01-23T13:07:28.650Z"
   },
   {
    "duration": 350,
    "start_time": "2022-01-23T13:07:44.238Z"
   },
   {
    "duration": 286,
    "start_time": "2022-01-23T13:12:43.332Z"
   },
   {
    "duration": 10,
    "start_time": "2022-01-23T13:13:04.943Z"
   },
   {
    "duration": 295,
    "start_time": "2022-01-23T13:13:25.855Z"
   },
   {
    "duration": 12,
    "start_time": "2022-01-23T13:13:52.159Z"
   },
   {
    "duration": 336,
    "start_time": "2022-01-23T13:20:02.004Z"
   },
   {
    "duration": 11,
    "start_time": "2022-01-23T13:20:13.655Z"
   },
   {
    "duration": 97,
    "start_time": "2022-01-23T13:21:11.889Z"
   },
   {
    "duration": 13,
    "start_time": "2022-01-23T13:21:19.340Z"
   },
   {
    "duration": 6,
    "start_time": "2022-01-23T13:22:05.255Z"
   },
   {
    "duration": 287,
    "start_time": "2022-01-23T13:22:14.607Z"
   },
   {
    "duration": 27,
    "start_time": "2022-01-23T13:22:22.281Z"
   },
   {
    "duration": 284,
    "start_time": "2022-01-23T13:29:59.016Z"
   },
   {
    "duration": 95,
    "start_time": "2022-01-23T13:30:20.376Z"
   },
   {
    "duration": 377,
    "start_time": "2022-01-23T13:30:28.584Z"
   },
   {
    "duration": 130,
    "start_time": "2022-01-23T13:31:44.683Z"
   },
   {
    "duration": 96,
    "start_time": "2022-01-23T13:31:54.781Z"
   },
   {
    "duration": 15,
    "start_time": "2022-01-23T13:32:04.399Z"
   },
   {
    "duration": 117,
    "start_time": "2022-01-23T13:34:35.826Z"
   },
   {
    "duration": 326,
    "start_time": "2022-01-23T13:37:42.039Z"
   },
   {
    "duration": 7206,
    "start_time": "2022-01-23T13:37:51.989Z"
   },
   {
    "duration": -31091,
    "start_time": "2022-01-23T13:38:30.288Z"
   },
   {
    "duration": -31096,
    "start_time": "2022-01-23T13:38:30.295Z"
   },
   {
    "duration": -31101,
    "start_time": "2022-01-23T13:38:30.301Z"
   },
   {
    "duration": 4865,
    "start_time": "2022-01-23T13:38:19.165Z"
   },
   {
    "duration": 23,
    "start_time": "2022-01-23T13:38:24.033Z"
   },
   {
    "duration": 187,
    "start_time": "2022-01-23T13:38:24.059Z"
   },
   {
    "duration": 8,
    "start_time": "2022-01-23T13:38:24.248Z"
   },
   {
    "duration": 42,
    "start_time": "2022-01-23T13:38:24.258Z"
   },
   {
    "duration": 8,
    "start_time": "2022-01-23T13:38:24.578Z"
   },
   {
    "duration": 10,
    "start_time": "2022-01-23T13:38:28.792Z"
   },
   {
    "duration": 9,
    "start_time": "2022-01-23T13:38:28.980Z"
   },
   {
    "duration": 14,
    "start_time": "2022-01-23T13:38:36.965Z"
   },
   {
    "duration": 312,
    "start_time": "2022-01-23T13:39:31.344Z"
   },
   {
    "duration": 13,
    "start_time": "2022-01-23T13:39:37.292Z"
   },
   {
    "duration": 344,
    "start_time": "2022-01-23T13:39:57.680Z"
   },
   {
    "duration": 296,
    "start_time": "2022-01-23T13:44:16.005Z"
   },
   {
    "duration": 6,
    "start_time": "2022-01-23T13:44:25.407Z"
   },
   {
    "duration": 310,
    "start_time": "2022-01-23T13:45:57.074Z"
   },
   {
    "duration": 288,
    "start_time": "2022-01-23T13:46:04.581Z"
   },
   {
    "duration": 292,
    "start_time": "2022-01-23T13:46:16.806Z"
   },
   {
    "duration": 284,
    "start_time": "2022-01-23T13:46:29.266Z"
   },
   {
    "duration": 13,
    "start_time": "2022-01-23T13:46:35.106Z"
   },
   {
    "duration": 8661,
    "start_time": "2022-01-23T13:53:36.051Z"
   },
   {
    "duration": 9,
    "start_time": "2022-01-23T13:54:10.984Z"
   },
   {
    "duration": 10,
    "start_time": "2022-01-23T13:54:23.253Z"
   },
   {
    "duration": 31,
    "start_time": "2022-01-23T13:55:17.845Z"
   },
   {
    "duration": 14,
    "start_time": "2022-01-23T13:57:26.746Z"
   },
   {
    "duration": 303,
    "start_time": "2022-01-23T13:58:56.677Z"
   },
   {
    "duration": 309,
    "start_time": "2022-01-23T13:59:35.817Z"
   },
   {
    "duration": 125,
    "start_time": "2022-01-23T14:00:28.835Z"
   },
   {
    "duration": 95,
    "start_time": "2022-01-23T14:00:41.715Z"
   },
   {
    "duration": 89,
    "start_time": "2022-01-23T14:01:26.409Z"
   },
   {
    "duration": 96,
    "start_time": "2022-01-23T14:01:33.516Z"
   },
   {
    "duration": 7540,
    "start_time": "2022-01-23T14:02:10.328Z"
   },
   {
    "duration": 102,
    "start_time": "2022-01-23T14:03:17.027Z"
   },
   {
    "duration": 7322,
    "start_time": "2022-01-23T14:03:41.147Z"
   },
   {
    "duration": 9674,
    "start_time": "2022-01-23T14:03:53.312Z"
   },
   {
    "duration": 468,
    "start_time": "2022-01-23T14:05:21.649Z"
   },
   {
    "duration": 4,
    "start_time": "2022-01-23T14:05:33.044Z"
   },
   {
    "duration": 7,
    "start_time": "2022-01-23T14:05:43.149Z"
   },
   {
    "duration": 8152,
    "start_time": "2022-01-23T14:05:53.707Z"
   },
   {
    "duration": 7161,
    "start_time": "2022-01-23T14:06:18.736Z"
   },
   {
    "duration": 11,
    "start_time": "2022-01-23T14:06:51.548Z"
   },
   {
    "duration": 15,
    "start_time": "2022-01-23T14:07:59.535Z"
   },
   {
    "duration": 131,
    "start_time": "2022-01-23T14:08:18.065Z"
   },
   {
    "duration": 7,
    "start_time": "2022-01-23T14:08:30.341Z"
   },
   {
    "duration": 6,
    "start_time": "2022-01-23T14:08:42.356Z"
   },
   {
    "duration": 21,
    "start_time": "2022-01-23T14:09:16.292Z"
   },
   {
    "duration": 10,
    "start_time": "2022-01-23T14:09:46.826Z"
   },
   {
    "duration": 468,
    "start_time": "2022-01-23T14:10:53.384Z"
   },
   {
    "duration": 13,
    "start_time": "2022-01-23T14:11:20.305Z"
   },
   {
    "duration": 4,
    "start_time": "2022-01-23T14:11:59.426Z"
   },
   {
    "duration": 6,
    "start_time": "2022-01-23T14:12:57.108Z"
   },
   {
    "duration": 6,
    "start_time": "2022-01-23T14:13:20.588Z"
   },
   {
    "duration": 501,
    "start_time": "2022-01-23T14:13:35.064Z"
   },
   {
    "duration": 518,
    "start_time": "2022-01-23T14:14:07.362Z"
   },
   {
    "duration": 501,
    "start_time": "2022-01-23T14:14:14.610Z"
   },
   {
    "duration": 11,
    "start_time": "2022-01-23T14:14:21.190Z"
   },
   {
    "duration": 11,
    "start_time": "2022-01-23T14:14:27.685Z"
   },
   {
    "duration": 282,
    "start_time": "2022-01-23T14:14:47.999Z"
   },
   {
    "duration": 108,
    "start_time": "2022-01-23T14:15:01.362Z"
   },
   {
    "duration": 86,
    "start_time": "2022-01-23T14:15:16.850Z"
   },
   {
    "duration": 100,
    "start_time": "2022-01-23T14:15:20.161Z"
   },
   {
    "duration": 358,
    "start_time": "2022-01-23T14:15:40.862Z"
   },
   {
    "duration": 11,
    "start_time": "2022-01-23T14:16:02.959Z"
   },
   {
    "duration": 10,
    "start_time": "2022-01-23T14:17:29.991Z"
   },
   {
    "duration": 11,
    "start_time": "2022-01-23T14:17:50.163Z"
   },
   {
    "duration": 11,
    "start_time": "2022-01-23T14:17:52.990Z"
   },
   {
    "duration": 10,
    "start_time": "2022-01-23T14:18:44.213Z"
   },
   {
    "duration": 10,
    "start_time": "2022-01-23T14:19:49.609Z"
   },
   {
    "duration": 7,
    "start_time": "2022-01-23T14:20:30.222Z"
   },
   {
    "duration": 11,
    "start_time": "2022-01-23T14:20:41.604Z"
   },
   {
    "duration": 11,
    "start_time": "2022-01-23T14:21:30.996Z"
   },
   {
    "duration": 27,
    "start_time": "2022-01-23T14:21:36.209Z"
   },
   {
    "duration": 6,
    "start_time": "2022-01-23T14:22:57.205Z"
   },
   {
    "duration": 6,
    "start_time": "2022-01-23T14:23:13.461Z"
   },
   {
    "duration": 10,
    "start_time": "2022-01-23T14:23:26.733Z"
   },
   {
    "duration": 27,
    "start_time": "2022-01-23T14:23:46.521Z"
   },
   {
    "duration": 2,
    "start_time": "2022-01-23T14:23:58.244Z"
   },
   {
    "duration": 26,
    "start_time": "2022-01-23T14:25:04.178Z"
   },
   {
    "duration": 421,
    "start_time": "2022-01-23T14:25:23.891Z"
   },
   {
    "duration": 104,
    "start_time": "2022-01-23T14:25:33.730Z"
   },
   {
    "duration": 9,
    "start_time": "2022-01-23T14:25:36.985Z"
   },
   {
    "duration": 8,
    "start_time": "2022-01-23T14:25:43.903Z"
   },
   {
    "duration": 37,
    "start_time": "2022-01-23T14:25:49.158Z"
   },
   {
    "duration": 11,
    "start_time": "2022-01-23T15:34:40.127Z"
   },
   {
    "duration": 38,
    "start_time": "2022-01-23T15:34:44.770Z"
   },
   {
    "duration": 37,
    "start_time": "2022-01-23T15:35:15.428Z"
   },
   {
    "duration": 23,
    "start_time": "2022-01-23T15:35:56.029Z"
   },
   {
    "duration": 24,
    "start_time": "2022-01-23T15:36:04.543Z"
   },
   {
    "duration": 25,
    "start_time": "2022-01-23T15:36:10.504Z"
   },
   {
    "duration": 6,
    "start_time": "2022-01-23T15:36:58.135Z"
   },
   {
    "duration": 292,
    "start_time": "2022-01-23T15:37:17.462Z"
   },
   {
    "duration": 273,
    "start_time": "2022-01-23T15:37:48.317Z"
   },
   {
    "duration": 9,
    "start_time": "2022-01-23T15:37:51.396Z"
   },
   {
    "duration": 9,
    "start_time": "2022-01-23T15:38:01.493Z"
   },
   {
    "duration": 10,
    "start_time": "2022-01-23T15:38:44.145Z"
   },
   {
    "duration": 6,
    "start_time": "2022-01-23T15:39:25.086Z"
   },
   {
    "duration": 8,
    "start_time": "2022-01-23T15:39:31.894Z"
   },
   {
    "duration": 529,
    "start_time": "2022-01-23T15:41:19.205Z"
   },
   {
    "duration": 8,
    "start_time": "2022-01-23T15:41:41.442Z"
   },
   {
    "duration": 6,
    "start_time": "2022-01-23T15:51:29.296Z"
   },
   {
    "duration": 24,
    "start_time": "2022-01-23T15:51:37.612Z"
   },
   {
    "duration": 23,
    "start_time": "2022-01-23T15:52:14.509Z"
   },
   {
    "duration": 94,
    "start_time": "2022-01-23T15:59:32.031Z"
   },
   {
    "duration": 90,
    "start_time": "2022-01-23T16:01:12.573Z"
   },
   {
    "duration": 7,
    "start_time": "2022-01-23T16:01:20.689Z"
   },
   {
    "duration": 15,
    "start_time": "2022-01-23T16:01:30.922Z"
   },
   {
    "duration": 13,
    "start_time": "2022-01-23T16:02:39.280Z"
   },
   {
    "duration": 6,
    "start_time": "2022-01-23T16:04:06.635Z"
   },
   {
    "duration": 225,
    "start_time": "2022-01-23T16:05:23.934Z"
   },
   {
    "duration": 12,
    "start_time": "2022-01-23T16:05:24.607Z"
   },
   {
    "duration": 12,
    "start_time": "2022-01-23T16:05:26.527Z"
   },
   {
    "duration": 5,
    "start_time": "2022-01-23T16:06:20.482Z"
   },
   {
    "duration": 14,
    "start_time": "2022-01-23T16:06:20.642Z"
   },
   {
    "duration": 5,
    "start_time": "2022-01-23T16:14:15.707Z"
   },
   {
    "duration": 267,
    "start_time": "2022-01-23T16:14:34.432Z"
   },
   {
    "duration": 5,
    "start_time": "2022-01-23T16:14:48.221Z"
   },
   {
    "duration": 13,
    "start_time": "2022-01-23T16:14:49.257Z"
   },
   {
    "duration": 1137,
    "start_time": "2022-01-23T16:14:56.728Z"
   },
   {
    "duration": -30980,
    "start_time": "2022-01-23T16:15:28.847Z"
   },
   {
    "duration": 5,
    "start_time": "2022-01-23T16:16:02.129Z"
   },
   {
    "duration": 1112,
    "start_time": "2022-01-23T16:16:02.201Z"
   },
   {
    "duration": 1551,
    "start_time": "2022-01-23T16:16:06.697Z"
   },
   {
    "duration": 21,
    "start_time": "2022-01-23T16:17:19.796Z"
   },
   {
    "duration": 27,
    "start_time": "2022-01-23T16:17:26.129Z"
   },
   {
    "duration": 2,
    "start_time": "2022-01-23T16:17:47.585Z"
   },
   {
    "duration": 20,
    "start_time": "2022-01-23T16:17:48.027Z"
   },
   {
    "duration": 10,
    "start_time": "2022-01-23T16:17:51.330Z"
   },
   {
    "duration": 22,
    "start_time": "2022-01-23T16:17:53.184Z"
   },
   {
    "duration": 25,
    "start_time": "2022-01-23T16:18:18.629Z"
   },
   {
    "duration": 26,
    "start_time": "2022-01-23T16:18:54.899Z"
   },
   {
    "duration": 32,
    "start_time": "2022-01-23T16:19:07.565Z"
   },
   {
    "duration": 20,
    "start_time": "2022-01-23T16:19:44.190Z"
   },
   {
    "duration": 424,
    "start_time": "2022-01-23T16:21:41.736Z"
   },
   {
    "duration": 347,
    "start_time": "2022-01-23T16:22:06.111Z"
   },
   {
    "duration": 32,
    "start_time": "2022-01-23T16:22:30.291Z"
   },
   {
    "duration": 33,
    "start_time": "2022-01-23T16:23:04.816Z"
   },
   {
    "duration": 814,
    "start_time": "2022-01-23T16:24:24.182Z"
   },
   {
    "duration": 10,
    "start_time": "2022-01-23T16:24:39.447Z"
   },
   {
    "duration": 21,
    "start_time": "2022-01-23T16:24:39.790Z"
   },
   {
    "duration": 30,
    "start_time": "2022-01-23T16:24:44.021Z"
   },
   {
    "duration": 31,
    "start_time": "2022-01-23T16:25:01.767Z"
   },
   {
    "duration": 367,
    "start_time": "2022-01-23T16:25:24.355Z"
   },
   {
    "duration": 32,
    "start_time": "2022-01-23T16:28:01.912Z"
   },
   {
    "duration": 28,
    "start_time": "2022-01-23T16:28:10.878Z"
   },
   {
    "duration": 29,
    "start_time": "2022-01-23T16:29:33.227Z"
   },
   {
    "duration": 14,
    "start_time": "2022-01-23T16:39:32.837Z"
   },
   {
    "duration": 15,
    "start_time": "2022-01-23T16:39:39.474Z"
   },
   {
    "duration": 16,
    "start_time": "2022-01-23T16:39:53.616Z"
   },
   {
    "duration": 30,
    "start_time": "2022-01-23T16:40:24.895Z"
   },
   {
    "duration": 29,
    "start_time": "2022-01-23T16:41:25.691Z"
   },
   {
    "duration": 7,
    "start_time": "2022-01-23T16:46:14.395Z"
   },
   {
    "duration": 7,
    "start_time": "2022-01-23T16:47:14.794Z"
   },
   {
    "duration": 13,
    "start_time": "2022-01-23T16:47:21.519Z"
   },
   {
    "duration": 10,
    "start_time": "2022-01-23T16:47:34.202Z"
   },
   {
    "duration": 11,
    "start_time": "2022-01-23T16:47:46.786Z"
   },
   {
    "duration": 11,
    "start_time": "2022-01-23T16:47:56.295Z"
   },
   {
    "duration": 10,
    "start_time": "2022-01-23T16:48:09.712Z"
   },
   {
    "duration": 270,
    "start_time": "2022-01-23T16:50:37.108Z"
   },
   {
    "duration": 116,
    "start_time": "2022-01-23T17:09:43.302Z"
   },
   {
    "duration": 343,
    "start_time": "2022-01-23T17:09:48.418Z"
   },
   {
    "duration": 7,
    "start_time": "2022-01-23T17:09:54.049Z"
   },
   {
    "duration": 1852,
    "start_time": "2022-01-23T17:10:12.288Z"
   },
   {
    "duration": 300,
    "start_time": "2022-01-23T17:10:35.571Z"
   },
   {
    "duration": 283,
    "start_time": "2022-01-23T17:11:10.666Z"
   },
   {
    "duration": 905,
    "start_time": "2022-01-23T17:11:30.489Z"
   },
   {
    "duration": 17,
    "start_time": "2022-01-23T17:11:46.614Z"
   },
   {
    "duration": 5,
    "start_time": "2022-01-23T17:11:47.174Z"
   },
   {
    "duration": 5,
    "start_time": "2022-01-23T17:11:47.679Z"
   },
   {
    "duration": 4,
    "start_time": "2022-01-23T17:11:48.121Z"
   },
   {
    "duration": 6,
    "start_time": "2022-01-23T17:11:52.547Z"
   },
   {
    "duration": 348,
    "start_time": "2022-01-23T17:11:54.015Z"
   },
   {
    "duration": 270,
    "start_time": "2022-01-23T17:12:24.673Z"
   },
   {
    "duration": 7,
    "start_time": "2022-01-23T17:12:39.687Z"
   },
   {
    "duration": 20,
    "start_time": "2022-01-23T17:12:49.912Z"
   },
   {
    "duration": 282,
    "start_time": "2022-01-23T17:16:37.903Z"
   },
   {
    "duration": 10,
    "start_time": "2022-01-23T17:16:46.333Z"
   },
   {
    "duration": 274,
    "start_time": "2022-01-23T17:16:46.671Z"
   },
   {
    "duration": 16,
    "start_time": "2022-01-23T17:16:50.937Z"
   },
   {
    "duration": 17,
    "start_time": "2022-01-23T17:17:07.489Z"
   },
   {
    "duration": 26,
    "start_time": "2022-01-23T17:17:19.075Z"
   },
   {
    "duration": 14,
    "start_time": "2022-01-23T17:17:33.590Z"
   },
   {
    "duration": 29,
    "start_time": "2022-01-23T17:20:49.297Z"
   },
   {
    "duration": 40,
    "start_time": "2022-01-23T18:47:41.374Z"
   },
   {
    "duration": 826,
    "start_time": "2022-01-23T18:48:26.795Z"
   },
   {
    "duration": 17,
    "start_time": "2022-01-23T18:48:27.909Z"
   },
   {
    "duration": 11,
    "start_time": "2022-01-23T18:48:28.802Z"
   },
   {
    "duration": 21,
    "start_time": "2022-01-23T18:49:18.499Z"
   },
   {
    "duration": 10,
    "start_time": "2022-01-23T18:49:39.316Z"
   },
   {
    "duration": 37,
    "start_time": "2022-01-23T18:49:40.063Z"
   },
   {
    "duration": 20,
    "start_time": "2022-01-23T18:50:09.442Z"
   },
   {
    "duration": 373,
    "start_time": "2022-01-23T18:50:22.423Z"
   },
   {
    "duration": 17,
    "start_time": "2022-01-23T18:50:32.362Z"
   },
   {
    "duration": 17,
    "start_time": "2022-01-23T18:52:00.965Z"
   },
   {
    "duration": 30,
    "start_time": "2022-01-23T18:53:16.407Z"
   },
   {
    "duration": 6,
    "start_time": "2022-01-23T18:53:56.503Z"
   },
   {
    "duration": 13,
    "start_time": "2022-01-23T18:54:04.125Z"
   },
   {
    "duration": 14,
    "start_time": "2022-01-23T18:54:53.379Z"
   },
   {
    "duration": 17,
    "start_time": "2022-01-23T18:54:59.453Z"
   },
   {
    "duration": 303,
    "start_time": "2022-01-23T18:55:23.306Z"
   },
   {
    "duration": 23,
    "start_time": "2022-01-23T18:55:28.460Z"
   },
   {
    "duration": 336,
    "start_time": "2022-01-23T18:55:53.337Z"
   },
   {
    "duration": 14,
    "start_time": "2022-01-23T18:57:36.722Z"
   },
   {
    "duration": 28,
    "start_time": "2022-01-23T18:58:14.874Z"
   },
   {
    "duration": 28,
    "start_time": "2022-01-23T18:58:19.208Z"
   },
   {
    "duration": 24,
    "start_time": "2022-01-23T18:58:43.206Z"
   },
   {
    "duration": 17,
    "start_time": "2022-01-23T18:59:52.557Z"
   },
   {
    "duration": 18,
    "start_time": "2022-01-23T18:59:55.245Z"
   },
   {
    "duration": 11,
    "start_time": "2022-01-23T19:01:14.415Z"
   },
   {
    "duration": 2,
    "start_time": "2022-01-23T19:01:27.924Z"
   },
   {
    "duration": 4,
    "start_time": "2022-01-23T19:01:37.349Z"
   },
   {
    "duration": 4,
    "start_time": "2022-01-23T19:02:42.203Z"
   },
   {
    "duration": 4,
    "start_time": "2022-01-23T19:03:12.656Z"
   },
   {
    "duration": 231,
    "start_time": "2022-01-23T19:03:38.001Z"
   },
   {
    "duration": 12,
    "start_time": "2022-01-23T19:03:40.892Z"
   },
   {
    "duration": 10,
    "start_time": "2022-01-23T19:03:41.507Z"
   },
   {
    "duration": 11,
    "start_time": "2022-01-23T19:03:58.818Z"
   },
   {
    "duration": 16,
    "start_time": "2022-01-23T19:03:59.008Z"
   },
   {
    "duration": 3,
    "start_time": "2022-01-23T19:03:59.739Z"
   },
   {
    "duration": 22,
    "start_time": "2022-01-23T19:04:04.154Z"
   },
   {
    "duration": 16,
    "start_time": "2022-01-23T19:04:05.109Z"
   },
   {
    "duration": 4,
    "start_time": "2022-01-23T19:04:05.875Z"
   },
   {
    "duration": 15,
    "start_time": "2022-01-24T04:30:46.915Z"
   },
   {
    "duration": 266,
    "start_time": "2022-01-24T04:31:38.254Z"
   },
   {
    "duration": 19,
    "start_time": "2022-01-24T04:32:02.337Z"
   },
   {
    "duration": 9,
    "start_time": "2022-01-24T04:33:49.546Z"
   },
   {
    "duration": 19,
    "start_time": "2022-01-24T04:33:55.438Z"
   },
   {
    "duration": 4,
    "start_time": "2022-01-24T04:34:46.004Z"
   },
   {
    "duration": 1080,
    "start_time": "2022-01-24T04:35:10.901Z"
   },
   {
    "duration": 847,
    "start_time": "2022-01-24T04:35:15.715Z"
   },
   {
    "duration": 3,
    "start_time": "2022-01-24T04:35:27.337Z"
   },
   {
    "duration": 100,
    "start_time": "2022-01-24T04:36:50.828Z"
   },
   {
    "duration": 19,
    "start_time": "2022-01-24T04:37:09.744Z"
   },
   {
    "duration": 4,
    "start_time": "2022-01-24T04:37:17.668Z"
   },
   {
    "duration": 5,
    "start_time": "2022-01-24T04:37:24.059Z"
   },
   {
    "duration": 6,
    "start_time": "2022-01-24T04:38:31.662Z"
   },
   {
    "duration": 224,
    "start_time": "2022-01-24T04:39:11.952Z"
   },
   {
    "duration": 11,
    "start_time": "2022-01-24T04:39:12.378Z"
   },
   {
    "duration": 10,
    "start_time": "2022-01-24T04:39:12.511Z"
   },
   {
    "duration": 5,
    "start_time": "2022-01-24T04:39:27.234Z"
   },
   {
    "duration": 5,
    "start_time": "2022-01-24T04:39:39.803Z"
   },
   {
    "duration": 3,
    "start_time": "2022-01-24T04:39:40.163Z"
   },
   {
    "duration": 5,
    "start_time": "2022-01-24T04:39:41.072Z"
   },
   {
    "duration": 3,
    "start_time": "2022-01-24T04:39:50.885Z"
   },
   {
    "duration": 12,
    "start_time": "2022-01-24T04:39:51.205Z"
   },
   {
    "duration": 7,
    "start_time": "2022-01-24T04:40:25.445Z"
   },
   {
    "duration": 291,
    "start_time": "2022-01-24T04:41:36.918Z"
   },
   {
    "duration": 28,
    "start_time": "2022-01-24T04:41:52.697Z"
   },
   {
    "duration": 5,
    "start_time": "2022-01-24T04:43:23.752Z"
   },
   {
    "duration": 4,
    "start_time": "2022-01-24T04:43:24.088Z"
   },
   {
    "duration": 3,
    "start_time": "2022-01-24T04:43:24.459Z"
   },
   {
    "duration": 6,
    "start_time": "2022-01-24T04:43:32.028Z"
   },
   {
    "duration": 6,
    "start_time": "2022-01-24T04:44:24.453Z"
   },
   {
    "duration": 6,
    "start_time": "2022-01-24T04:50:59.732Z"
   },
   {
    "duration": 292,
    "start_time": "2022-01-24T04:51:15.241Z"
   },
   {
    "duration": 282,
    "start_time": "2022-01-24T04:51:22.429Z"
   },
   {
    "duration": 283,
    "start_time": "2022-01-24T04:51:40.143Z"
   },
   {
    "duration": 288,
    "start_time": "2022-01-24T04:51:44.143Z"
   },
   {
    "duration": 5,
    "start_time": "2022-01-24T04:51:58.082Z"
   },
   {
    "duration": 4,
    "start_time": "2022-01-24T04:52:20.054Z"
   },
   {
    "duration": 7,
    "start_time": "2022-01-24T04:52:51.215Z"
   },
   {
    "duration": 10,
    "start_time": "2022-01-24T04:53:03.399Z"
   },
   {
    "duration": 298,
    "start_time": "2022-01-24T04:54:18.502Z"
   },
   {
    "duration": 270,
    "start_time": "2022-01-24T04:56:10.395Z"
   },
   {
    "duration": 356,
    "start_time": "2022-01-24T04:56:16.789Z"
   },
   {
    "duration": 3,
    "start_time": "2022-01-24T04:58:01.611Z"
   },
   {
    "duration": 4,
    "start_time": "2022-01-24T04:58:05.621Z"
   },
   {
    "duration": 279,
    "start_time": "2022-01-24T05:00:12.235Z"
   },
   {
    "duration": 11,
    "start_time": "2022-01-24T05:00:25.343Z"
   },
   {
    "duration": 55,
    "start_time": "2022-01-24T05:01:33.026Z"
   },
   {
    "duration": 6,
    "start_time": "2022-01-24T05:01:38.574Z"
   },
   {
    "duration": 7,
    "start_time": "2022-01-24T05:01:54.963Z"
   },
   {
    "duration": 11,
    "start_time": "2022-01-24T05:04:49.615Z"
   },
   {
    "duration": 7,
    "start_time": "2022-01-24T05:05:01.871Z"
   },
   {
    "duration": 13,
    "start_time": "2022-01-24T05:07:01.905Z"
   },
   {
    "duration": 7,
    "start_time": "2022-01-24T05:07:02.546Z"
   },
   {
    "duration": 18,
    "start_time": "2022-01-24T05:07:19.920Z"
   },
   {
    "duration": 9,
    "start_time": "2022-01-24T05:08:08.948Z"
   },
   {
    "duration": 7484,
    "start_time": "2022-01-24T05:09:31.669Z"
   },
   {
    "duration": 282,
    "start_time": "2022-01-24T05:12:35.661Z"
   },
   {
    "duration": 8,
    "start_time": "2022-01-24T05:12:49.666Z"
   },
   {
    "duration": 4,
    "start_time": "2022-01-24T05:13:14.384Z"
   },
   {
    "duration": 17,
    "start_time": "2022-01-24T05:14:07.080Z"
   },
   {
    "duration": 7,
    "start_time": "2022-01-24T05:14:35.518Z"
   },
   {
    "duration": 8,
    "start_time": "2022-01-24T05:14:48.632Z"
   },
   {
    "duration": 5,
    "start_time": "2022-01-24T05:15:03.973Z"
   },
   {
    "duration": 4,
    "start_time": "2022-01-24T05:15:08.888Z"
   },
   {
    "duration": 9,
    "start_time": "2022-01-24T05:15:19.677Z"
   },
   {
    "duration": 308,
    "start_time": "2022-01-24T05:18:18.859Z"
   },
   {
    "duration": 5,
    "start_time": "2022-01-24T05:19:25.183Z"
   },
   {
    "duration": 105,
    "start_time": "2022-01-24T05:24:29.171Z"
   },
   {
    "duration": 9,
    "start_time": "2022-01-24T05:24:29.302Z"
   },
   {
    "duration": 119,
    "start_time": "2022-01-24T05:24:36.715Z"
   },
   {
    "duration": 3,
    "start_time": "2022-01-24T05:24:39.885Z"
   },
   {
    "duration": 1143,
    "start_time": "2022-01-24T05:26:20.879Z"
   },
   {
    "duration": 799,
    "start_time": "2022-01-24T05:26:47.831Z"
   },
   {
    "duration": 4156,
    "start_time": "2022-01-24T05:27:16.919Z"
   },
   {
    "duration": 5,
    "start_time": "2022-01-24T05:27:33.142Z"
   },
   {
    "duration": 4194,
    "start_time": "2022-01-24T05:27:53.964Z"
   },
   {
    "duration": 5,
    "start_time": "2022-01-24T05:28:12.197Z"
   },
   {
    "duration": 8274,
    "start_time": "2022-01-24T05:34:54.387Z"
   },
   {
    "duration": 5,
    "start_time": "2022-01-24T05:35:08.541Z"
   },
   {
    "duration": 14537,
    "start_time": "2022-01-24T05:36:39.567Z"
   },
   {
    "duration": 5,
    "start_time": "2022-01-24T05:36:56.287Z"
   },
   {
    "duration": 5,
    "start_time": "2022-01-24T05:37:10.106Z"
   },
   {
    "duration": 16916,
    "start_time": "2022-01-24T05:37:43.274Z"
   },
   {
    "duration": 5,
    "start_time": "2022-01-24T05:38:00.192Z"
   },
   {
    "duration": 132,
    "start_time": "2022-01-24T05:44:21.619Z"
   },
   {
    "duration": 171,
    "start_time": "2022-01-24T05:44:55.877Z"
   },
   {
    "duration": 21934,
    "start_time": "2022-01-24T05:45:06.747Z"
   },
   {
    "duration": 5,
    "start_time": "2022-01-24T05:45:30.396Z"
   },
   {
    "duration": 21994,
    "start_time": "2022-01-24T05:45:55.714Z"
   },
   {
    "duration": 4,
    "start_time": "2022-01-24T05:46:17.710Z"
   },
   {
    "duration": 22126,
    "start_time": "2022-01-24T05:48:03.159Z"
   },
   {
    "duration": 5,
    "start_time": "2022-01-24T05:48:25.287Z"
   },
   {
    "duration": 7,
    "start_time": "2022-01-24T05:48:40.344Z"
   },
   {
    "duration": 6,
    "start_time": "2022-01-24T05:48:52.705Z"
   },
   {
    "duration": 21858,
    "start_time": "2022-01-24T05:49:23.135Z"
   },
   {
    "duration": 6,
    "start_time": "2022-01-24T05:49:44.995Z"
   },
   {
    "duration": 10,
    "start_time": "2022-01-24T05:49:45.334Z"
   },
   {
    "duration": 7,
    "start_time": "2022-01-24T05:49:55.064Z"
   },
   {
    "duration": 7,
    "start_time": "2022-01-24T07:04:31.377Z"
   },
   {
    "duration": 22,
    "start_time": "2022-01-24T07:04:38.724Z"
   },
   {
    "duration": 783,
    "start_time": "2022-01-24T07:05:02.581Z"
   },
   {
    "duration": 17,
    "start_time": "2022-01-24T07:05:03.365Z"
   },
   {
    "duration": 18,
    "start_time": "2022-01-24T07:05:03.384Z"
   },
   {
    "duration": 31,
    "start_time": "2022-01-24T07:05:03.403Z"
   },
   {
    "duration": 5,
    "start_time": "2022-01-24T07:05:03.435Z"
   },
   {
    "duration": 23,
    "start_time": "2022-01-24T07:05:03.441Z"
   },
   {
    "duration": 4,
    "start_time": "2022-01-24T07:05:03.466Z"
   },
   {
    "duration": 13,
    "start_time": "2022-01-24T07:05:03.472Z"
   },
   {
    "duration": 5,
    "start_time": "2022-01-24T07:05:03.487Z"
   },
   {
    "duration": 37,
    "start_time": "2022-01-24T07:05:03.493Z"
   },
   {
    "duration": 4,
    "start_time": "2022-01-24T07:05:03.531Z"
   },
   {
    "duration": 18,
    "start_time": "2022-01-24T07:05:03.537Z"
   },
   {
    "duration": 13,
    "start_time": "2022-01-24T07:05:03.556Z"
   },
   {
    "duration": 32,
    "start_time": "2022-01-24T07:05:03.571Z"
   },
   {
    "duration": 9,
    "start_time": "2022-01-24T07:05:03.604Z"
   },
   {
    "duration": 13,
    "start_time": "2022-01-24T07:05:03.614Z"
   },
   {
    "duration": 8,
    "start_time": "2022-01-24T07:05:03.628Z"
   },
   {
    "duration": 21,
    "start_time": "2022-01-24T07:05:03.637Z"
   },
   {
    "duration": 4,
    "start_time": "2022-01-24T07:05:03.659Z"
   },
   {
    "duration": 19,
    "start_time": "2022-01-24T07:05:03.665Z"
   },
   {
    "duration": 10,
    "start_time": "2022-01-24T07:05:03.685Z"
   },
   {
    "duration": 4,
    "start_time": "2022-01-24T07:05:03.697Z"
   },
   {
    "duration": 4,
    "start_time": "2022-01-24T07:05:03.704Z"
   },
   {
    "duration": 19,
    "start_time": "2022-01-24T07:05:03.710Z"
   },
   {
    "duration": 547,
    "start_time": "2022-01-24T07:05:03.730Z"
   },
   {
    "duration": -19,
    "start_time": "2022-01-24T07:05:04.298Z"
   },
   {
    "duration": -21,
    "start_time": "2022-01-24T07:05:04.301Z"
   },
   {
    "duration": -23,
    "start_time": "2022-01-24T07:05:04.304Z"
   },
   {
    "duration": -24,
    "start_time": "2022-01-24T07:05:04.306Z"
   },
   {
    "duration": -26,
    "start_time": "2022-01-24T07:05:04.309Z"
   },
   {
    "duration": -27,
    "start_time": "2022-01-24T07:05:04.311Z"
   },
   {
    "duration": -29,
    "start_time": "2022-01-24T07:05:04.314Z"
   },
   {
    "duration": -31,
    "start_time": "2022-01-24T07:05:04.317Z"
   },
   {
    "duration": -57,
    "start_time": "2022-01-24T07:05:04.344Z"
   },
   {
    "duration": -59,
    "start_time": "2022-01-24T07:05:04.347Z"
   },
   {
    "duration": -60,
    "start_time": "2022-01-24T07:05:04.349Z"
   },
   {
    "duration": -62,
    "start_time": "2022-01-24T07:05:04.352Z"
   },
   {
    "duration": -63,
    "start_time": "2022-01-24T07:05:04.354Z"
   },
   {
    "duration": -65,
    "start_time": "2022-01-24T07:05:04.357Z"
   },
   {
    "duration": -67,
    "start_time": "2022-01-24T07:05:04.360Z"
   },
   {
    "duration": -68,
    "start_time": "2022-01-24T07:05:04.362Z"
   },
   {
    "duration": -70,
    "start_time": "2022-01-24T07:05:04.365Z"
   },
   {
    "duration": -71,
    "start_time": "2022-01-24T07:05:04.367Z"
   },
   {
    "duration": -74,
    "start_time": "2022-01-24T07:05:04.370Z"
   },
   {
    "duration": -75,
    "start_time": "2022-01-24T07:05:04.372Z"
   },
   {
    "duration": -77,
    "start_time": "2022-01-24T07:05:04.375Z"
   },
   {
    "duration": -79,
    "start_time": "2022-01-24T07:05:04.378Z"
   },
   {
    "duration": -80,
    "start_time": "2022-01-24T07:05:04.380Z"
   },
   {
    "duration": -82,
    "start_time": "2022-01-24T07:05:04.383Z"
   },
   {
    "duration": -83,
    "start_time": "2022-01-24T07:05:04.385Z"
   },
   {
    "duration": -85,
    "start_time": "2022-01-24T07:05:04.388Z"
   },
   {
    "duration": -86,
    "start_time": "2022-01-24T07:05:04.390Z"
   },
   {
    "duration": -88,
    "start_time": "2022-01-24T07:05:04.393Z"
   },
   {
    "duration": -90,
    "start_time": "2022-01-24T07:05:04.396Z"
   },
   {
    "duration": -91,
    "start_time": "2022-01-24T07:05:04.398Z"
   },
   {
    "duration": -94,
    "start_time": "2022-01-24T07:05:04.401Z"
   },
   {
    "duration": -99,
    "start_time": "2022-01-24T07:05:04.407Z"
   },
   {
    "duration": -101,
    "start_time": "2022-01-24T07:05:04.410Z"
   },
   {
    "duration": -110,
    "start_time": "2022-01-24T07:05:04.420Z"
   },
   {
    "duration": -112,
    "start_time": "2022-01-24T07:05:04.423Z"
   },
   {
    "duration": -113,
    "start_time": "2022-01-24T07:05:04.425Z"
   },
   {
    "duration": -115,
    "start_time": "2022-01-24T07:05:04.428Z"
   },
   {
    "duration": -117,
    "start_time": "2022-01-24T07:05:04.431Z"
   },
   {
    "duration": -118,
    "start_time": "2022-01-24T07:05:04.433Z"
   },
   {
    "duration": -109,
    "start_time": "2022-01-24T07:05:04.436Z"
   },
   {
    "duration": -112,
    "start_time": "2022-01-24T07:05:04.439Z"
   },
   {
    "duration": 21,
    "start_time": "2022-01-24T07:05:43.205Z"
   },
   {
    "duration": 7,
    "start_time": "2022-01-24T07:06:15.391Z"
   },
   {
    "duration": 10,
    "start_time": "2022-01-24T07:06:45.470Z"
   },
   {
    "duration": 3,
    "start_time": "2022-01-24T07:14:14.621Z"
   },
   {
    "duration": 62,
    "start_time": "2022-01-24T07:15:09.656Z"
   },
   {
    "duration": 62,
    "start_time": "2022-01-24T07:15:20.648Z"
   },
   {
    "duration": 61,
    "start_time": "2022-01-24T07:16:11.016Z"
   },
   {
    "duration": 21,
    "start_time": "2022-01-24T07:19:28.589Z"
   },
   {
    "duration": 6,
    "start_time": "2022-01-24T07:20:09.200Z"
   },
   {
    "duration": 5,
    "start_time": "2022-01-24T07:20:22.215Z"
   },
   {
    "duration": 37,
    "start_time": "2022-01-24T07:23:20.003Z"
   },
   {
    "duration": 7,
    "start_time": "2022-01-24T07:23:23.445Z"
   },
   {
    "duration": 36,
    "start_time": "2022-01-24T07:23:31.745Z"
   },
   {
    "duration": 6,
    "start_time": "2022-01-24T07:23:33.169Z"
   },
   {
    "duration": 5,
    "start_time": "2022-01-24T07:23:33.901Z"
   },
   {
    "duration": 800,
    "start_time": "2022-01-24T07:23:45.271Z"
   },
   {
    "duration": 22,
    "start_time": "2022-01-24T07:23:46.073Z"
   },
   {
    "duration": 14,
    "start_time": "2022-01-24T07:23:46.097Z"
   },
   {
    "duration": 23,
    "start_time": "2022-01-24T07:23:46.112Z"
   },
   {
    "duration": 5,
    "start_time": "2022-01-24T07:23:46.136Z"
   },
   {
    "duration": 23,
    "start_time": "2022-01-24T07:23:46.143Z"
   },
   {
    "duration": 5,
    "start_time": "2022-01-24T07:23:46.167Z"
   },
   {
    "duration": 9,
    "start_time": "2022-01-24T07:23:46.174Z"
   },
   {
    "duration": 5,
    "start_time": "2022-01-24T07:23:46.185Z"
   },
   {
    "duration": 46,
    "start_time": "2022-01-24T07:23:46.192Z"
   },
   {
    "duration": 4,
    "start_time": "2022-01-24T07:23:46.240Z"
   },
   {
    "duration": 4,
    "start_time": "2022-01-24T07:23:46.246Z"
   },
   {
    "duration": 6,
    "start_time": "2022-01-24T07:23:46.252Z"
   },
   {
    "duration": 20,
    "start_time": "2022-01-24T07:23:46.259Z"
   },
   {
    "duration": 7,
    "start_time": "2022-01-24T07:23:46.280Z"
   },
   {
    "duration": 40,
    "start_time": "2022-01-24T07:23:46.288Z"
   },
   {
    "duration": 6,
    "start_time": "2022-01-24T07:23:46.329Z"
   },
   {
    "duration": 5,
    "start_time": "2022-01-24T07:23:46.337Z"
   },
   {
    "duration": 6,
    "start_time": "2022-01-24T07:23:46.344Z"
   },
   {
    "duration": 20,
    "start_time": "2022-01-24T07:23:46.352Z"
   },
   {
    "duration": 25,
    "start_time": "2022-01-24T07:23:46.373Z"
   },
   {
    "duration": 30,
    "start_time": "2022-01-24T07:23:46.400Z"
   },
   {
    "duration": 6,
    "start_time": "2022-01-24T07:23:46.433Z"
   },
   {
    "duration": 5,
    "start_time": "2022-01-24T07:23:46.441Z"
   },
   {
    "duration": 4,
    "start_time": "2022-01-24T07:23:46.448Z"
   },
   {
    "duration": 6,
    "start_time": "2022-01-24T07:23:46.453Z"
   },
   {
    "duration": 3,
    "start_time": "2022-01-24T07:23:46.461Z"
   },
   {
    "duration": 8,
    "start_time": "2022-01-24T07:23:46.465Z"
   },
   {
    "duration": 10,
    "start_time": "2022-01-24T07:23:46.475Z"
   },
   {
    "duration": 40,
    "start_time": "2022-01-24T07:23:46.487Z"
   },
   {
    "duration": 4,
    "start_time": "2022-01-24T07:23:46.529Z"
   },
   {
    "duration": 25,
    "start_time": "2022-01-24T07:23:46.535Z"
   },
   {
    "duration": 10,
    "start_time": "2022-01-24T07:23:46.562Z"
   },
   {
    "duration": 26,
    "start_time": "2022-01-24T07:23:46.574Z"
   },
   {
    "duration": 25,
    "start_time": "2022-01-24T07:23:46.602Z"
   },
   {
    "duration": 39,
    "start_time": "2022-01-24T07:23:46.629Z"
   },
   {
    "duration": 22,
    "start_time": "2022-01-24T07:23:46.670Z"
   },
   {
    "duration": 4,
    "start_time": "2022-01-24T07:23:46.694Z"
   },
   {
    "duration": 4374,
    "start_time": "2022-01-24T07:23:46.700Z"
   },
   {
    "duration": 22,
    "start_time": "2022-01-24T07:23:51.076Z"
   },
   {
    "duration": 145,
    "start_time": "2022-01-24T07:23:51.099Z"
   },
   {
    "duration": 8,
    "start_time": "2022-01-24T07:23:51.246Z"
   },
   {
    "duration": 20,
    "start_time": "2022-01-24T07:23:51.256Z"
   },
   {
    "duration": 7,
    "start_time": "2022-01-24T07:23:51.278Z"
   },
   {
    "duration": 47,
    "start_time": "2022-01-24T07:23:51.287Z"
   },
   {
    "duration": 7,
    "start_time": "2022-01-24T07:23:51.336Z"
   },
   {
    "duration": 9,
    "start_time": "2022-01-24T07:23:51.344Z"
   },
   {
    "duration": 14,
    "start_time": "2022-01-24T07:23:51.355Z"
   },
   {
    "duration": 6,
    "start_time": "2022-01-24T07:23:51.371Z"
   },
   {
    "duration": 14,
    "start_time": "2022-01-24T07:23:51.378Z"
   },
   {
    "duration": 39,
    "start_time": "2022-01-24T07:23:51.393Z"
   },
   {
    "duration": 8,
    "start_time": "2022-01-24T07:23:51.434Z"
   },
   {
    "duration": 22049,
    "start_time": "2022-01-24T07:23:51.444Z"
   },
   {
    "duration": 6,
    "start_time": "2022-01-24T07:24:13.494Z"
   },
   {
    "duration": 27,
    "start_time": "2022-01-24T07:24:13.502Z"
   },
   {
    "duration": 6,
    "start_time": "2022-01-24T07:24:13.530Z"
   },
   {
    "duration": 16,
    "start_time": "2022-01-24T07:25:04.110Z"
   },
   {
    "duration": 7,
    "start_time": "2022-01-24T07:25:24.306Z"
   },
   {
    "duration": 7,
    "start_time": "2022-01-24T07:25:26.602Z"
   },
   {
    "duration": 4,
    "start_time": "2022-01-24T07:25:55.069Z"
   },
   {
    "duration": 5,
    "start_time": "2022-01-24T07:26:03.543Z"
   },
   {
    "duration": 24,
    "start_time": "2022-01-24T07:26:21.620Z"
   },
   {
    "duration": 14,
    "start_time": "2022-01-24T09:10:28.572Z"
   },
   {
    "duration": 143,
    "start_time": "2022-01-24T09:15:09.015Z"
   },
   {
    "duration": 6,
    "start_time": "2022-01-24T09:16:05.158Z"
   },
   {
    "duration": 5,
    "start_time": "2022-01-24T09:16:06.532Z"
   },
   {
    "duration": 5,
    "start_time": "2022-01-24T09:16:07.482Z"
   },
   {
    "duration": 7,
    "start_time": "2022-01-24T09:16:12.768Z"
   },
   {
    "duration": 6,
    "start_time": "2022-01-24T09:16:14.877Z"
   },
   {
    "duration": 10,
    "start_time": "2022-01-24T09:16:15.501Z"
   },
   {
    "duration": 5,
    "start_time": "2022-01-24T09:23:27.094Z"
   },
   {
    "duration": 101,
    "start_time": "2022-01-24T09:28:30.121Z"
   },
   {
    "duration": 15,
    "start_time": "2022-01-24T09:29:30.559Z"
   },
   {
    "duration": 6,
    "start_time": "2022-01-24T09:31:02.172Z"
   },
   {
    "duration": 91,
    "start_time": "2022-01-24T09:32:46.345Z"
   },
   {
    "duration": 128,
    "start_time": "2022-01-24T10:03:44.771Z"
   },
   {
    "duration": 6,
    "start_time": "2022-01-24T10:04:44.956Z"
   },
   {
    "duration": 106,
    "start_time": "2022-01-24T10:07:52.127Z"
   },
   {
    "duration": 348,
    "start_time": "2022-01-24T10:08:53.247Z"
   },
   {
    "duration": 5,
    "start_time": "2022-01-24T10:09:00.962Z"
   },
   {
    "duration": 314,
    "start_time": "2022-01-24T10:09:10.972Z"
   },
   {
    "duration": 5,
    "start_time": "2022-01-24T10:09:14.565Z"
   },
   {
    "duration": 20,
    "start_time": "2022-01-24T10:09:47.036Z"
   },
   {
    "duration": 221,
    "start_time": "2022-01-24T10:10:51.697Z"
   },
   {
    "duration": 19,
    "start_time": "2022-01-24T10:11:01.874Z"
   },
   {
    "duration": 7,
    "start_time": "2022-01-24T10:11:09.228Z"
   },
   {
    "duration": 14,
    "start_time": "2022-01-24T10:11:56.317Z"
   },
   {
    "duration": 7,
    "start_time": "2022-01-24T10:11:57.337Z"
   },
   {
    "duration": 6,
    "start_time": "2022-01-24T10:12:36.468Z"
   },
   {
    "duration": 6,
    "start_time": "2022-01-24T10:12:48.379Z"
   },
   {
    "duration": 22586,
    "start_time": "2022-01-24T10:12:48.790Z"
   },
   {
    "duration": 6,
    "start_time": "2022-01-24T10:13:11.377Z"
   },
   {
    "duration": 15,
    "start_time": "2022-01-24T10:13:14.149Z"
   },
   {
    "duration": 6,
    "start_time": "2022-01-24T10:13:14.296Z"
   },
   {
    "duration": 5,
    "start_time": "2022-01-24T10:13:40.405Z"
   },
   {
    "duration": 5,
    "start_time": "2022-01-24T10:13:42.494Z"
   },
   {
    "duration": 5,
    "start_time": "2022-01-24T10:15:55.053Z"
   },
   {
    "duration": 5,
    "start_time": "2022-01-24T10:16:50.289Z"
   },
   {
    "duration": 260,
    "start_time": "2022-01-24T10:20:00.756Z"
   },
   {
    "duration": 12,
    "start_time": "2022-01-24T10:20:01.018Z"
   },
   {
    "duration": 29,
    "start_time": "2022-01-24T10:20:01.032Z"
   },
   {
    "duration": 37,
    "start_time": "2022-01-24T10:20:01.063Z"
   },
   {
    "duration": 5,
    "start_time": "2022-01-24T10:20:01.101Z"
   },
   {
    "duration": 31,
    "start_time": "2022-01-24T10:20:01.107Z"
   },
   {
    "duration": 8,
    "start_time": "2022-01-24T10:20:01.139Z"
   },
   {
    "duration": 12,
    "start_time": "2022-01-24T10:20:01.148Z"
   },
   {
    "duration": 11,
    "start_time": "2022-01-24T10:20:01.163Z"
   },
   {
    "duration": 25,
    "start_time": "2022-01-24T10:20:01.176Z"
   },
   {
    "duration": 4,
    "start_time": "2022-01-24T10:20:01.203Z"
   },
   {
    "duration": 10,
    "start_time": "2022-01-24T10:20:01.208Z"
   },
   {
    "duration": 10,
    "start_time": "2022-01-24T10:20:01.219Z"
   },
   {
    "duration": 26,
    "start_time": "2022-01-24T10:20:01.230Z"
   },
   {
    "duration": 7,
    "start_time": "2022-01-24T10:20:01.258Z"
   },
   {
    "duration": 11,
    "start_time": "2022-01-24T10:20:01.267Z"
   },
   {
    "duration": 13,
    "start_time": "2022-01-24T10:20:01.280Z"
   },
   {
    "duration": 18,
    "start_time": "2022-01-24T10:20:01.294Z"
   },
   {
    "duration": 4,
    "start_time": "2022-01-24T10:20:01.313Z"
   },
   {
    "duration": 21,
    "start_time": "2022-01-24T10:20:01.319Z"
   },
   {
    "duration": 24,
    "start_time": "2022-01-24T10:20:01.342Z"
   },
   {
    "duration": 8,
    "start_time": "2022-01-24T10:20:01.368Z"
   },
   {
    "duration": 18,
    "start_time": "2022-01-24T10:20:01.377Z"
   },
   {
    "duration": 13,
    "start_time": "2022-01-24T10:20:01.397Z"
   },
   {
    "duration": 10,
    "start_time": "2022-01-24T10:20:01.411Z"
   },
   {
    "duration": 18,
    "start_time": "2022-01-24T10:20:01.423Z"
   },
   {
    "duration": 18,
    "start_time": "2022-01-24T10:20:01.444Z"
   },
   {
    "duration": 8,
    "start_time": "2022-01-24T10:20:01.464Z"
   },
   {
    "duration": 6,
    "start_time": "2022-01-24T10:20:01.473Z"
   },
   {
    "duration": 57,
    "start_time": "2022-01-24T10:20:01.481Z"
   },
   {
    "duration": 10,
    "start_time": "2022-01-24T10:20:01.540Z"
   },
   {
    "duration": 27,
    "start_time": "2022-01-24T10:20:01.552Z"
   },
   {
    "duration": 3,
    "start_time": "2022-01-24T10:20:01.627Z"
   },
   {
    "duration": 27,
    "start_time": "2022-01-24T10:20:01.632Z"
   },
   {
    "duration": 19,
    "start_time": "2022-01-24T10:20:01.661Z"
   },
   {
    "duration": 3,
    "start_time": "2022-01-24T10:20:01.682Z"
   },
   {
    "duration": 4129,
    "start_time": "2022-01-24T10:20:01.687Z"
   },
   {
    "duration": 21,
    "start_time": "2022-01-24T10:20:05.826Z"
   },
   {
    "duration": 113,
    "start_time": "2022-01-24T10:20:05.848Z"
   },
   {
    "duration": 6,
    "start_time": "2022-01-24T10:20:05.963Z"
   },
   {
    "duration": 21,
    "start_time": "2022-01-24T10:20:05.970Z"
   },
   {
    "duration": 7,
    "start_time": "2022-01-24T10:20:05.992Z"
   },
   {
    "duration": 39,
    "start_time": "2022-01-24T10:20:06.000Z"
   },
   {
    "duration": 6,
    "start_time": "2022-01-24T10:20:06.040Z"
   },
   {
    "duration": 10,
    "start_time": "2022-01-24T10:20:06.047Z"
   },
   {
    "duration": 16,
    "start_time": "2022-01-24T10:20:06.058Z"
   },
   {
    "duration": 5,
    "start_time": "2022-01-24T10:20:06.076Z"
   },
   {
    "duration": 227,
    "start_time": "2022-01-24T10:20:06.082Z"
   },
   {
    "duration": 21,
    "start_time": "2022-01-24T10:20:06.311Z"
   },
   {
    "duration": 7,
    "start_time": "2022-01-24T10:20:06.333Z"
   },
   {
    "duration": 6,
    "start_time": "2022-01-24T10:20:06.342Z"
   },
   {
    "duration": 22064,
    "start_time": "2022-01-24T10:20:06.350Z"
   },
   {
    "duration": 12,
    "start_time": "2022-01-24T10:20:28.416Z"
   },
   {
    "duration": 17,
    "start_time": "2022-01-24T10:20:28.429Z"
   },
   {
    "duration": 6,
    "start_time": "2022-01-24T10:20:28.448Z"
   },
   {
    "duration": 7,
    "start_time": "2022-01-24T10:20:28.455Z"
   },
   {
    "duration": 13,
    "start_time": "2022-01-24T10:20:28.463Z"
   },
   {
    "duration": 6,
    "start_time": "2022-01-24T10:20:28.477Z"
   },
   {
    "duration": 12,
    "start_time": "2022-01-24T10:20:28.485Z"
   },
   {
    "duration": 6,
    "start_time": "2022-01-24T10:36:44.188Z"
   },
   {
    "duration": 202,
    "start_time": "2022-01-24T10:39:06.400Z"
   },
   {
    "duration": 18,
    "start_time": "2022-01-24T10:39:13.195Z"
   },
   {
    "duration": 7,
    "start_time": "2022-01-24T10:39:18.312Z"
   },
   {
    "duration": 205,
    "start_time": "2022-01-24T10:39:59.850Z"
   },
   {
    "duration": 14,
    "start_time": "2022-01-24T10:40:00.879Z"
   },
   {
    "duration": 7,
    "start_time": "2022-01-24T10:40:01.460Z"
   },
   {
    "duration": 204,
    "start_time": "2022-01-24T10:40:07.991Z"
   },
   {
    "duration": 14,
    "start_time": "2022-01-24T10:40:08.855Z"
   },
   {
    "duration": 7,
    "start_time": "2022-01-24T10:40:09.050Z"
   },
   {
    "duration": 6,
    "start_time": "2022-01-24T10:40:17.857Z"
   },
   {
    "duration": 5,
    "start_time": "2022-01-24T10:40:37.339Z"
   },
   {
    "duration": 5,
    "start_time": "2022-01-24T10:40:39.572Z"
   },
   {
    "duration": 5,
    "start_time": "2022-01-24T10:40:41.241Z"
   },
   {
    "duration": 867,
    "start_time": "2022-01-31T15:49:33.898Z"
   },
   {
    "duration": 23,
    "start_time": "2022-01-31T15:49:34.767Z"
   },
   {
    "duration": 14,
    "start_time": "2022-01-31T15:49:34.793Z"
   },
   {
    "duration": 25,
    "start_time": "2022-01-31T15:49:34.809Z"
   },
   {
    "duration": 7,
    "start_time": "2022-01-31T15:49:34.836Z"
   },
   {
    "duration": 31,
    "start_time": "2022-01-31T15:49:34.845Z"
   },
   {
    "duration": 31,
    "start_time": "2022-01-31T15:49:34.878Z"
   },
   {
    "duration": 14,
    "start_time": "2022-01-31T15:49:34.912Z"
   },
   {
    "duration": 7,
    "start_time": "2022-01-31T15:49:34.928Z"
   },
   {
    "duration": 33,
    "start_time": "2022-01-31T15:49:34.937Z"
   },
   {
    "duration": 5,
    "start_time": "2022-01-31T15:49:34.973Z"
   },
   {
    "duration": 6,
    "start_time": "2022-01-31T15:49:35.008Z"
   },
   {
    "duration": 10,
    "start_time": "2022-01-31T15:49:35.015Z"
   },
   {
    "duration": 25,
    "start_time": "2022-01-31T15:49:35.027Z"
   },
   {
    "duration": 8,
    "start_time": "2022-01-31T15:49:35.054Z"
   },
   {
    "duration": 11,
    "start_time": "2022-01-31T15:49:35.064Z"
   },
   {
    "duration": 32,
    "start_time": "2022-01-31T15:49:35.077Z"
   },
   {
    "duration": 20,
    "start_time": "2022-01-31T15:49:35.111Z"
   },
   {
    "duration": 7,
    "start_time": "2022-01-31T15:49:35.133Z"
   },
   {
    "duration": 26,
    "start_time": "2022-01-31T15:49:35.142Z"
   },
   {
    "duration": 47,
    "start_time": "2022-01-31T15:49:35.170Z"
   },
   {
    "duration": 10,
    "start_time": "2022-01-31T15:49:35.220Z"
   },
   {
    "duration": 14,
    "start_time": "2022-01-31T15:49:35.234Z"
   },
   {
    "duration": 7,
    "start_time": "2022-01-31T15:49:35.250Z"
   },
   {
    "duration": 10,
    "start_time": "2022-01-31T15:49:35.259Z"
   },
   {
    "duration": 13,
    "start_time": "2022-01-31T15:49:35.271Z"
   },
   {
    "duration": 32,
    "start_time": "2022-01-31T15:49:35.286Z"
   },
   {
    "duration": 6,
    "start_time": "2022-01-31T15:49:35.320Z"
   },
   {
    "duration": 19,
    "start_time": "2022-01-31T15:49:35.327Z"
   },
   {
    "duration": 24,
    "start_time": "2022-01-31T15:49:35.348Z"
   },
   {
    "duration": 12,
    "start_time": "2022-01-31T15:49:35.373Z"
   },
   {
    "duration": 38,
    "start_time": "2022-01-31T15:49:35.388Z"
   },
   {
    "duration": 5,
    "start_time": "2022-01-31T15:49:35.428Z"
   },
   {
    "duration": 40,
    "start_time": "2022-01-31T15:49:35.435Z"
   },
   {
    "duration": 43,
    "start_time": "2022-01-31T15:49:35.477Z"
   },
   {
    "duration": 4,
    "start_time": "2022-01-31T15:49:35.522Z"
   },
   {
    "duration": 4585,
    "start_time": "2022-01-31T15:49:35.528Z"
   },
   {
    "duration": 25,
    "start_time": "2022-01-31T15:49:40.115Z"
   },
   {
    "duration": 143,
    "start_time": "2022-01-31T15:49:40.142Z"
   },
   {
    "duration": 9,
    "start_time": "2022-01-31T15:49:40.287Z"
   },
   {
    "duration": 28,
    "start_time": "2022-01-31T15:49:40.298Z"
   },
   {
    "duration": 8,
    "start_time": "2022-01-31T15:49:40.328Z"
   },
   {
    "duration": 27,
    "start_time": "2022-01-31T15:49:40.338Z"
   },
   {
    "duration": 8,
    "start_time": "2022-01-31T15:49:40.367Z"
   },
   {
    "duration": 10,
    "start_time": "2022-01-31T15:49:40.407Z"
   },
   {
    "duration": 261,
    "start_time": "2022-01-31T15:49:40.419Z"
   },
   {
    "duration": 28,
    "start_time": "2022-01-31T15:49:40.682Z"
   },
   {
    "duration": 7,
    "start_time": "2022-01-31T15:49:40.712Z"
   },
   {
    "duration": 286,
    "start_time": "2022-01-31T15:49:40.721Z"
   },
   {
    "duration": 25,
    "start_time": "2022-01-31T15:49:41.010Z"
   },
   {
    "duration": 8,
    "start_time": "2022-01-31T15:49:41.037Z"
   },
   {
    "duration": 11,
    "start_time": "2022-01-31T15:49:41.047Z"
   },
   {
    "duration": 25778,
    "start_time": "2022-01-31T15:49:41.060Z"
   },
   {
    "duration": 8,
    "start_time": "2022-01-31T15:50:06.840Z"
   },
   {
    "duration": 24,
    "start_time": "2022-01-31T15:50:06.850Z"
   },
   {
    "duration": 7,
    "start_time": "2022-01-31T15:50:06.876Z"
   },
   {
    "duration": 26,
    "start_time": "2022-01-31T15:50:06.885Z"
   },
   {
    "duration": 15,
    "start_time": "2022-01-31T15:50:06.913Z"
   },
   {
    "duration": 23,
    "start_time": "2022-01-31T15:50:06.930Z"
   },
   {
    "duration": 8,
    "start_time": "2022-01-31T15:50:06.955Z"
   },
   {
    "duration": 17,
    "start_time": "2022-01-31T15:52:54.251Z"
   },
   {
    "duration": 23,
    "start_time": "2022-01-31T15:53:52.428Z"
   },
   {
    "duration": 1030,
    "start_time": "2022-01-31T17:16:59.302Z"
   },
   {
    "duration": 31,
    "start_time": "2022-01-31T17:17:01.215Z"
   },
   {
    "duration": 14,
    "start_time": "2022-01-31T17:17:01.910Z"
   },
   {
    "duration": 12,
    "start_time": "2022-01-31T17:17:03.139Z"
   },
   {
    "duration": 126,
    "start_time": "2022-01-31T17:18:12.074Z"
   },
   {
    "duration": 19,
    "start_time": "2022-01-31T17:19:12.917Z"
   },
   {
    "duration": 4,
    "start_time": "2022-01-31T17:19:44.209Z"
   },
   {
    "duration": 51,
    "start_time": "2022-01-31T17:19:57.891Z"
   },
   {
    "duration": 14,
    "start_time": "2022-01-31T17:21:26.897Z"
   },
   {
    "duration": 13,
    "start_time": "2022-01-31T17:21:28.230Z"
   },
   {
    "duration": 32,
    "start_time": "2022-01-31T17:22:27.431Z"
   },
   {
    "duration": 7,
    "start_time": "2022-01-31T17:22:28.149Z"
   },
   {
    "duration": 36,
    "start_time": "2022-01-31T17:22:34.357Z"
   },
   {
    "duration": 9,
    "start_time": "2022-01-31T17:22:36.041Z"
   },
   {
    "duration": 35,
    "start_time": "2022-01-31T17:22:55.013Z"
   },
   {
    "duration": 8,
    "start_time": "2022-01-31T17:22:58.286Z"
   },
   {
    "duration": 36,
    "start_time": "2022-01-31T17:22:59.371Z"
   },
   {
    "duration": 8,
    "start_time": "2022-01-31T17:23:00.688Z"
   },
   {
    "duration": 9,
    "start_time": "2022-01-31T17:23:03.325Z"
   },
   {
    "duration": 6,
    "start_time": "2022-01-31T17:23:06.335Z"
   },
   {
    "duration": 43,
    "start_time": "2022-01-31T17:23:07.189Z"
   },
   {
    "duration": 121,
    "start_time": "2022-01-31T17:23:37.731Z"
   },
   {
    "duration": 6,
    "start_time": "2022-01-31T17:23:50.885Z"
   },
   {
    "duration": 63,
    "start_time": "2022-01-31T17:23:58.521Z"
   },
   {
    "duration": 12,
    "start_time": "2022-01-31T17:23:59.319Z"
   },
   {
    "duration": 8,
    "start_time": "2022-01-31T17:24:00.373Z"
   },
   {
    "duration": 9,
    "start_time": "2022-01-31T17:24:01.190Z"
   },
   {
    "duration": 55,
    "start_time": "2022-01-31T17:24:06.281Z"
   },
   {
    "duration": 11,
    "start_time": "2022-01-31T17:24:10.921Z"
   },
   {
    "duration": 11,
    "start_time": "2022-01-31T17:24:57.108Z"
   },
   {
    "duration": 9,
    "start_time": "2022-01-31T17:24:57.627Z"
   },
   {
    "duration": 9,
    "start_time": "2022-01-31T17:24:58.811Z"
   },
   {
    "duration": 5,
    "start_time": "2022-01-31T17:24:59.631Z"
   },
   {
    "duration": 36,
    "start_time": "2022-01-31T17:25:00.759Z"
   },
   {
    "duration": 44,
    "start_time": "2022-01-31T17:25:09.210Z"
   },
   {
    "duration": 14,
    "start_time": "2022-01-31T17:25:13.639Z"
   },
   {
    "duration": 11,
    "start_time": "2022-01-31T17:25:27.837Z"
   },
   {
    "duration": 6,
    "start_time": "2022-01-31T17:25:28.641Z"
   },
   {
    "duration": 116,
    "start_time": "2022-01-31T17:26:53.242Z"
   },
   {
    "duration": 8,
    "start_time": "2022-01-31T17:27:00.273Z"
   },
   {
    "duration": 10,
    "start_time": "2022-01-31T17:27:00.596Z"
   },
   {
    "duration": 21,
    "start_time": "2022-01-31T17:27:01.017Z"
   },
   {
    "duration": 9,
    "start_time": "2022-01-31T17:27:45.001Z"
   },
   {
    "duration": 8,
    "start_time": "2022-01-31T17:32:38.304Z"
   },
   {
    "duration": 25,
    "start_time": "2022-01-31T17:32:39.286Z"
   },
   {
    "duration": 6,
    "start_time": "2022-01-31T17:33:23.693Z"
   },
   {
    "duration": 27,
    "start_time": "2022-01-31T17:33:25.985Z"
   },
   {
    "duration": 99,
    "start_time": "2022-01-31T17:34:39.756Z"
   },
   {
    "duration": 16,
    "start_time": "2022-01-31T17:34:51.702Z"
   },
   {
    "duration": 29,
    "start_time": "2022-01-31T17:34:52.962Z"
   },
   {
    "duration": 5,
    "start_time": "2022-01-31T17:34:53.520Z"
   },
   {
    "duration": 40,
    "start_time": "2022-01-31T17:34:53.962Z"
   },
   {
    "duration": 30,
    "start_time": "2022-01-31T17:34:56.637Z"
   },
   {
    "duration": 5,
    "start_time": "2022-01-31T17:35:01.793Z"
   },
   {
    "duration": 6403,
    "start_time": "2022-01-31T17:35:09.720Z"
   },
   {
    "duration": 44,
    "start_time": "2022-01-31T17:35:16.126Z"
   },
   {
    "duration": 210,
    "start_time": "2022-01-31T17:35:16.174Z"
   },
   {
    "duration": 11,
    "start_time": "2022-01-31T17:35:18.307Z"
   },
   {
    "duration": 32,
    "start_time": "2022-01-31T17:35:18.820Z"
   },
   {
    "duration": 14,
    "start_time": "2022-01-31T17:35:20.961Z"
   },
   {
    "duration": 28,
    "start_time": "2022-01-31T17:35:24.270Z"
   },
   {
    "duration": 10,
    "start_time": "2022-01-31T17:35:24.564Z"
   },
   {
    "duration": 12,
    "start_time": "2022-01-31T17:35:25.023Z"
   },
   {
    "duration": 386,
    "start_time": "2022-01-31T17:35:32.154Z"
   },
   {
    "duration": 26,
    "start_time": "2022-01-31T17:35:33.962Z"
   },
   {
    "duration": 9,
    "start_time": "2022-01-31T17:35:33.991Z"
   },
   {
    "duration": 381,
    "start_time": "2022-01-31T17:35:37.339Z"
   },
   {
    "duration": 37,
    "start_time": "2022-01-31T17:38:44.436Z"
   },
   {
    "duration": 7,
    "start_time": "2022-01-31T17:40:15.514Z"
   },
   {
    "duration": 48734,
    "start_time": "2022-01-31T17:40:19.245Z"
   },
   {
    "duration": 13,
    "start_time": "2022-01-31T17:41:07.983Z"
   },
   {
    "duration": 40,
    "start_time": "2022-01-31T17:41:08.000Z"
   },
   {
    "duration": 10,
    "start_time": "2022-01-31T17:41:08.061Z"
   },
   {
    "duration": 23,
    "start_time": "2022-01-31T17:41:32.649Z"
   },
   {
    "duration": 11,
    "start_time": "2022-01-31T17:41:49.344Z"
   },
   {
    "duration": 130,
    "start_time": "2022-01-31T17:43:35.623Z"
   },
   {
    "duration": 10,
    "start_time": "2022-01-31T17:43:49.040Z"
   },
   {
    "duration": 136,
    "start_time": "2022-01-31T17:46:25.148Z"
   },
   {
    "duration": 591,
    "start_time": "2022-01-31T17:52:06.040Z"
   },
   {
    "duration": 30,
    "start_time": "2022-01-31T17:52:16.349Z"
   },
   {
    "duration": 342,
    "start_time": "2022-01-31T17:53:21.246Z"
   },
   {
    "duration": 327,
    "start_time": "2022-01-31T17:55:36.568Z"
   },
   {
    "duration": 3568,
    "start_time": "2022-01-31T17:55:51.727Z"
   },
   {
    "duration": 35,
    "start_time": "2022-01-31T17:56:34.863Z"
   },
   {
    "duration": 33,
    "start_time": "2022-01-31T17:56:55.168Z"
   },
   {
    "duration": 33,
    "start_time": "2022-01-31T17:57:33.232Z"
   },
   {
    "duration": 397,
    "start_time": "2022-01-31T17:59:13.831Z"
   },
   {
    "duration": 29,
    "start_time": "2022-01-31T17:59:22.457Z"
   },
   {
    "duration": 30,
    "start_time": "2022-01-31T18:00:21.948Z"
   },
   {
    "duration": 345,
    "start_time": "2022-01-31T18:00:40.705Z"
   },
   {
    "duration": 33,
    "start_time": "2022-01-31T18:00:58.166Z"
   },
   {
    "duration": 353,
    "start_time": "2022-01-31T18:02:11.983Z"
   },
   {
    "duration": 31,
    "start_time": "2022-01-31T18:02:17.841Z"
   },
   {
    "duration": 33,
    "start_time": "2022-01-31T18:02:22.525Z"
   },
   {
    "duration": 35,
    "start_time": "2022-01-31T18:03:10.636Z"
   },
   {
    "duration": 230,
    "start_time": "2022-01-31T18:06:38.344Z"
   },
   {
    "duration": 396,
    "start_time": "2022-01-31T18:06:48.282Z"
   },
   {
    "duration": 352,
    "start_time": "2022-01-31T18:07:14.648Z"
   },
   {
    "duration": 32,
    "start_time": "2022-01-31T18:07:25.919Z"
   },
   {
    "duration": 907,
    "start_time": "2022-01-31T18:07:39.794Z"
   },
   {
    "duration": 32,
    "start_time": "2022-01-31T18:07:48.961Z"
   },
   {
    "duration": 372,
    "start_time": "2022-01-31T18:08:16.258Z"
   },
   {
    "duration": 479,
    "start_time": "2022-01-31T18:08:25.942Z"
   },
   {
    "duration": 31,
    "start_time": "2022-01-31T18:08:33.616Z"
   },
   {
    "duration": 105,
    "start_time": "2022-01-31T18:10:31.518Z"
   },
   {
    "duration": 1078,
    "start_time": "2022-01-31T18:10:58.530Z"
   },
   {
    "duration": 32,
    "start_time": "2022-01-31T18:10:59.611Z"
   },
   {
    "duration": 56,
    "start_time": "2022-01-31T18:10:59.645Z"
   },
   {
    "duration": 15,
    "start_time": "2022-01-31T18:10:59.703Z"
   },
   {
    "duration": 39,
    "start_time": "2022-01-31T18:10:59.721Z"
   },
   {
    "duration": 34,
    "start_time": "2022-01-31T18:10:59.762Z"
   },
   {
    "duration": 7,
    "start_time": "2022-01-31T18:10:59.798Z"
   },
   {
    "duration": 78,
    "start_time": "2022-01-31T18:10:59.809Z"
   },
   {
    "duration": 8,
    "start_time": "2022-01-31T18:10:59.891Z"
   },
   {
    "duration": 10,
    "start_time": "2022-01-31T18:10:59.901Z"
   },
   {
    "duration": 46,
    "start_time": "2022-01-31T18:10:59.913Z"
   },
   {
    "duration": 42,
    "start_time": "2022-01-31T18:10:59.961Z"
   },
   {
    "duration": 6,
    "start_time": "2022-01-31T18:11:00.007Z"
   },
   {
    "duration": 8,
    "start_time": "2022-01-31T18:11:00.016Z"
   },
   {
    "duration": 35,
    "start_time": "2022-01-31T18:11:00.026Z"
   },
   {
    "duration": 40,
    "start_time": "2022-01-31T18:11:00.063Z"
   },
   {
    "duration": 10,
    "start_time": "2022-01-31T18:11:00.106Z"
   },
   {
    "duration": 46,
    "start_time": "2022-01-31T18:11:00.119Z"
   },
   {
    "duration": 12,
    "start_time": "2022-01-31T18:11:00.168Z"
   },
   {
    "duration": 17,
    "start_time": "2022-01-31T18:11:00.183Z"
   },
   {
    "duration": 9,
    "start_time": "2022-01-31T18:11:00.203Z"
   },
   {
    "duration": 67,
    "start_time": "2022-01-31T18:11:00.215Z"
   },
   {
    "duration": 43,
    "start_time": "2022-01-31T18:11:00.288Z"
   },
   {
    "duration": 30,
    "start_time": "2022-01-31T18:11:00.334Z"
   },
   {
    "duration": 24,
    "start_time": "2022-01-31T18:11:00.367Z"
   },
   {
    "duration": 10,
    "start_time": "2022-01-31T18:11:00.394Z"
   },
   {
    "duration": 14,
    "start_time": "2022-01-31T18:11:00.407Z"
   },
   {
    "duration": 15,
    "start_time": "2022-01-31T18:11:00.424Z"
   },
   {
    "duration": 32,
    "start_time": "2022-01-31T18:11:00.441Z"
   },
   {
    "duration": 8,
    "start_time": "2022-01-31T18:11:00.475Z"
   },
   {
    "duration": 9,
    "start_time": "2022-01-31T18:11:00.486Z"
   },
   {
    "duration": 31,
    "start_time": "2022-01-31T18:11:00.497Z"
   },
   {
    "duration": 42,
    "start_time": "2022-01-31T18:11:00.530Z"
   },
   {
    "duration": 39,
    "start_time": "2022-01-31T18:11:00.575Z"
   },
   {
    "duration": 5,
    "start_time": "2022-01-31T18:11:00.616Z"
   },
   {
    "duration": 66,
    "start_time": "2022-01-31T18:11:00.624Z"
   },
   {
    "duration": 33,
    "start_time": "2022-01-31T18:11:00.692Z"
   },
   {
    "duration": 5,
    "start_time": "2022-01-31T18:11:00.727Z"
   },
   {
    "duration": 6288,
    "start_time": "2022-01-31T18:11:00.735Z"
   },
   {
    "duration": 46,
    "start_time": "2022-01-31T18:11:07.026Z"
   },
   {
    "duration": 238,
    "start_time": "2022-01-31T18:11:07.075Z"
   },
   {
    "duration": 9,
    "start_time": "2022-01-31T18:11:07.316Z"
   },
   {
    "duration": 50,
    "start_time": "2022-01-31T18:11:07.327Z"
   },
   {
    "duration": 10,
    "start_time": "2022-01-31T18:11:07.380Z"
   },
   {
    "duration": 31,
    "start_time": "2022-01-31T18:11:07.392Z"
   },
   {
    "duration": 36,
    "start_time": "2022-01-31T18:11:07.425Z"
   },
   {
    "duration": 17,
    "start_time": "2022-01-31T18:11:07.463Z"
   },
   {
    "duration": 509,
    "start_time": "2022-01-31T18:11:07.482Z"
   },
   {
    "duration": 29,
    "start_time": "2022-01-31T18:11:07.993Z"
   },
   {
    "duration": 13,
    "start_time": "2022-01-31T18:11:08.025Z"
   },
   {
    "duration": 25,
    "start_time": "2022-01-31T18:11:08.060Z"
   },
   {
    "duration": 34,
    "start_time": "2022-01-31T18:11:08.087Z"
   },
   {
    "duration": 44,
    "start_time": "2022-01-31T18:11:08.123Z"
   },
   {
    "duration": 8,
    "start_time": "2022-01-31T18:11:08.169Z"
   },
   {
    "duration": 47754,
    "start_time": "2022-01-31T18:11:08.179Z"
   },
   {
    "duration": 10,
    "start_time": "2022-01-31T18:11:55.935Z"
   },
   {
    "duration": 37,
    "start_time": "2022-01-31T18:11:55.948Z"
   },
   {
    "duration": 11,
    "start_time": "2022-01-31T18:11:55.988Z"
   },
   {
    "duration": 7,
    "start_time": "2022-01-31T18:11:56.002Z"
   },
   {
    "duration": 64,
    "start_time": "2022-01-31T18:11:56.012Z"
   },
   {
    "duration": 42,
    "start_time": "2022-01-31T18:11:56.079Z"
   },
   {
    "duration": 7,
    "start_time": "2022-01-31T18:11:56.124Z"
   },
   {
    "duration": 7,
    "start_time": "2022-01-31T18:11:56.160Z"
   },
   {
    "duration": 435,
    "start_time": "2022-02-01T08:50:27.938Z"
   }
  ],
  "kernelspec": {
   "display_name": "Python 3",
   "language": "python",
   "name": "python3"
  },
  "language_info": {
   "codemirror_mode": {
    "name": "ipython",
    "version": 3
   },
   "file_extension": ".py",
   "mimetype": "text/x-python",
   "name": "python",
   "nbconvert_exporter": "python",
   "pygments_lexer": "ipython3",
   "version": "3.8.5"
  },
  "toc": {
   "base_numbering": 1,
   "nav_menu": {},
   "number_sections": true,
   "sideBar": true,
   "skip_h1_title": true,
   "title_cell": "Table of Contents",
   "title_sidebar": "Contents",
   "toc_cell": false,
   "toc_position": {},
   "toc_section_display": true,
   "toc_window_display": false
  }
 },
 "nbformat": 4,
 "nbformat_minor": 2
}
